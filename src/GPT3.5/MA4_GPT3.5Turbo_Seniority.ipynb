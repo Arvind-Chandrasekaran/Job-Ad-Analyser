{
 "cells": [
  {
   "cell_type": "markdown",
   "metadata": {
    "id": "KfXY0rMVfLPo"
   },
   "source": [
    "# Loading"
   ]
  },
  {
   "cell_type": "code",
   "execution_count": 1,
   "metadata": {
    "id": "ziGslr52Zr3j",
    "tags": []
   },
   "outputs": [],
   "source": [
    "import pandas as pd\n",
    "from tqdm import tqdm\n",
    "from openai import OpenAI\n",
    "import openai\n",
    "import string\n",
    "import json\n",
    "import copy\n",
    "\n",
    "import os\n",
    "from dotenv import load_dotenv\n"
   ]
  },
  {
   "cell_type": "code",
   "execution_count": null,
   "metadata": {
    "colab": {
     "base_uri": "https://localhost:8080/",
     "height": 290,
     "referenced_widgets": [
      "c90f9d95d9724112971633ca15a9bc17",
      "815eaca87f2947ca80d96615d282839e",
      "ecfd276855d84144b5738639d560dd13",
      "1158c5d791494d9499855467242c2afe",
      "fb996b8313df493bac9f2bf87d399333",
      "14eb1c77e7e845f99e3258f0a131cb1c",
      "b4524b58d5ea4924ac670eaa43495df4",
      "873c7b86dd074402a898e75f4c1a9d9f",
      "aa452f6697354aab9acac8d99d54d282",
      "5199350655d842b79dc58e4cf572931d",
      "704411595ee4422ba5ec2677d1d09bf2",
      "d1ba6589fd1e4d7fb72dff5945d5b584",
      "b4ed703dc2d34e958749c2fd67d7802d",
      "29f223da69eb465ea87c806021cb468b",
      "6ff94f195ba14bb2ba7029976ef73ae8",
      "f082d18974fb45e78128051e091de3d4",
      "9d4fd99da0bd46ca99a01ba4a6083ec0",
      "d537771c988c40d592555cdc9d30a3c5",
      "5d26af10ec7947069bbbe2e4228e9c29",
      "e9d0af6181f349baad80a5b418559d03",
      "af7e075217304b56a66b6c15060c0f11",
      "168d3b8fa6664c4d90c6ab12b21f14cf",
      "40700fdade18454ab4c66a05128c3318",
      "145dc132beda4065941cd208e33644b6",
      "1b22c14289584b55adddb36d43262822",
      "97b99148475644b3bfdf34f75908bdb6",
      "958e9d8b35cc48ed9d28fae0b65f2c3f",
      "de6f4730b671411fa486055ca862a30a",
      "0765a58d21d64bc8a633c135f0495d39",
      "4c542b9f7b684baba87876bbe1ddf649",
      "f3ed755eb08e474ea80e624c98ec7607",
      "0ea612f2dada409babf820a9d00413b4",
      "58c102628617430dbd870e9748a1562b",
      "6163e55a2a6e418ba011c62860e18b72",
      "f24c3813fb724acda542d07b1aaf9fbf",
      "e4ae71a066c94383bccd45162314b593",
      "ea7a7c27fca44d98923f303f070b27d3",
      "f07f8f0fec944de2b98d982cf971f27a",
      "c16b33c29b814445b3d783419abac42c",
      "9817a6d3cc454c288db17a001e704de2",
      "83c9ca2b9a8e40d48c261b6b20c53b78",
      "ae5b34887dd74a588df68478bfe6cda9",
      "9e05d0c71fb745418a746db7d4589f44",
      "0d05028ab9a641f4ba3bcb27fa01b46f",
      "621e0a27097d4b938e589fcbd077c7a4",
      "99b3bbce8009492c87ae6e86f815a8ea",
      "f8c8f920cf6649f1bd24fcedafa0cbce",
      "0e4b2a55db1f438ebb4bf9e7adb7c6d0",
      "04935fe71c6e45f7affe7618e6cf8c56",
      "9ee76928655741b5b29bc4f225998378",
      "3fbac1d570c44c60bc422539526855a1",
      "702f4210422b405ab6f146ba41449cb6",
      "9794be82692d4aa8954513b87224a66d",
      "8789c63ee6fa437cb5764cb430b0f143",
      "b820f757da7b439c8d67f44c4b85c0b3",
      "435721f0d61240debb55b9d55982edaa",
      "c073ebde4f4747ef9cde74d467f380d3",
      "f277420b3c684967a564c7f5d5774bc8",
      "cb11d9779c3346149a5b281c8cc3369b",
      "b55f9b11efc7432299bfd2bc31e8047f",
      "8338b8a8ab514cb9aa60e54ee0695713",
      "bbf07685f3e04d62b96f88edab42a5d0",
      "cac44d03666040a4bc1c6333b9136ad1",
      "c2097a7cddf14727b270f483f5cf39cd",
      "fd12a4a0d61545dca30173903feacda5",
      "c16b4bb50c64430cb913135318f7cb36",
      "38131d89a7784da3b3692e28fb2c19fd",
      "9cda9b150d3c42ff9b8894754ba64f69",
      "b0cba3cf9c314440a232789739704813",
      "84f61de0aa9e47cc9d8c1e3b30ef9003",
      "62c1e48820f248c09ed77d8519edc26d",
      "c6279d16c5e7478996c51383f9503a0c",
      "a05a84a8206f4e4f9c0b116b7bcd70f9",
      "a9d6428792564c86b805aac511381c2c",
      "9ce149a825024be78a568696de4e4175",
      "69aad4241f2247e28d822cb181319799",
      "4223d77cd9684b119740649f667d4206",
      "67a1da4e33a4492587f431d49dc98079",
      "4b83eb9995144e0b9eb57f0ebb03b106",
      "6045938926464db69ed14c39967392cf",
      "e8237f1158674661b387320d9f415db4",
      "f7640150712f4a868169b7b575573b85",
      "1d1b76b73ce942658e7f98f43f66b57e",
      "bbc83aacc44a4a14b5e93eb4234a1052",
      "926a8a0a689640afb77ec014935eda13",
      "cbd61c3d0a144de3aa5e767595d67418",
      "6e3b695d048448a8a5415a83b0e4494a",
      "39209c88852848629b72060fddefc2c7"
     ]
    },
    "id": "TIETAXxfp5Yd",
    "outputId": "a7049bdf-33e6-4864-8174-00290abcf3d8",
    "tags": []
   },
   "outputs": [],
   "source": [
    "load_dotenv()\n",
    "\n",
    "openai_api_key = os.getenv(\"OPENAI_API_KEY_1\")\n",
    "model=\"gpt-3.5-turbo\"\n",
    "\n",
    "client = OpenAI(\n",
    "    api_key=openai_api_key\n",
    ")\n",
    "\n",
    "try:\n",
    "    resp = client.chat.completions.create(\n",
    "        model=\"gpt-3.5-turbo\",\n",
    "        messages=[{\"role\": \"user\", \"content\": \"Ping\"}]\n",
    "    )\n",
    "    print(\"Success:\", resp.choices[0].message.content)\n",
    "except Exception as e:\n",
    "    # <-- note the closing ')' here\n",
    "    print(\"Request failed:\", type(e).__name__, e)"
   ]
  },
  {
   "cell_type": "markdown",
   "metadata": {
    "id": "q0oo9hKTZm2R"
   },
   "source": [
    "# Seniority"
   ]
  },
  {
   "cell_type": "code",
   "execution_count": 3,
   "metadata": {
    "id": "CblLBHhhZm2S",
    "tags": []
   },
   "outputs": [],
   "source": [
    "train_df = pd.read_csv('../data/seniority_labelled_development_set_cleaned.csv')\n",
    "test_df = pd.read_csv('../data/seniority_labelled_test_set_cleaned.csv')"
   ]
  },
  {
   "cell_type": "code",
   "execution_count": 4,
   "metadata": {
    "colab": {
     "base_uri": "https://localhost:8080/",
     "height": 272
    },
    "id": "XrHGLvuPDgDx",
    "outputId": "667d731e-fe91-4c25-ccef-a5e2e6c24b8e",
    "tags": []
   },
   "outputs": [
    {
     "data": {
      "text/plain": [
       "job_id                                                             33027740\n",
       "job_title                                                   Fitter & Welder\n",
       "job_summary               A food manufacturing company has an opportunit...\n",
       "job_ad_details            A well known food manufacturer operating since...\n",
       "classification_name                    Manufacturing, Transport & Logistics\n",
       "subclassification_name                                                Other\n",
       "y_true                                                          experienced\n",
       "Name: 1131, dtype: object"
      ]
     },
     "execution_count": 4,
     "metadata": {},
     "output_type": "execute_result"
    }
   ],
   "source": [
    "train_df.iloc[1131]"
   ]
  },
  {
   "cell_type": "markdown",
   "metadata": {
    "id": "4za-mTXBecX8"
   },
   "source": [
    "# RBIC Functions"
   ]
  },
  {
   "cell_type": "markdown",
   "metadata": {
    "id": "_icT_CYAfeJi"
   },
   "source": [
    "### RB\n"
   ]
  },
  {
   "cell_type": "code",
   "execution_count": 5,
   "metadata": {
    "id": "485zx9H7Zw5D",
    "tags": []
   },
   "outputs": [],
   "source": [
    "#== step 1: role explanation\n",
    "def step_1():\n",
    "    messages = [\n",
    "        {\"role\": \"system\", \"content\": \"You are an expert job ad annotator. Your task is to infer the seniority information from job descriptions. The seniority label may be present in the set: [intermediate, senior, lead, head, experienced, entry-level, executive, assistant, senior/lead, deputy, director, trainee, associate, graduate, junior, general-manager, coordinator, student, chief, principal, apprentice, qualified, entry-level to intermediate, senior associate, standard, senior assistant, specialist, mid-level, entry level assistant, experienced assistant, manager, graduate/junior, independent, 1st year apprentice, senior-executive, junior assistant, assistant manager, supervisor, second-in-command, associate director, board, 4th year apprentice, mid-senior, regional head, middle-management, advanced, 2nd year apprentice, intermediate apprentice, level 2, assistant head, owner, post-doctoral, owner-operator, middle management, senior head, assistant director, junior-intermediate, sous, intermediate to senior, senior executive] . If not present in the set, then create a label.\"},\n",
    "        {\"role\": \"user\", \"content\": \"Based on your role, can you briefly explain what seniority means, and what seniority labels look like?\"}\n",
    "    ]\n",
    "\n",
    "    response = client.chat.completions.create(\n",
    "        model=model,\n",
    "        messages=messages\n",
    "    )\n",
    "    messages.append({\"role\": \"assistant\", \"content\": response.choices[0].message.content})\n",
    "\n",
    "    return response.choices[0].message.content, messages"
   ]
  },
  {
   "cell_type": "code",
   "execution_count": 6,
   "metadata": {
    "id": "QwpJGdGO4BV-",
    "tags": []
   },
   "outputs": [],
   "source": [
    "#== few-shot examples\n",
    "def fewshot(messages):\n",
    "    # messages.append({\n",
    "    #     \"role\": \"user\",\n",
    "    #     \"content\": \"I will provide you with some examples on how to accomplish your task\"\n",
    "    # })\n",
    "\n",
    "    # response = client.chat.completions.create(\n",
    "    #     model=model,\n",
    "    #     messages=messages\n",
    "    # )\n",
    "    # messages.append({\"role\": \"assistant\", \"content\": response.choices[0].message.content})\n",
    "\n",
    "    few_shot_indices = [2081,1,5,12,3]\n",
    "\n",
    "    for i in few_shot_indices:\n",
    "        desc = {\n",
    "          \"job_title\": train_df.iloc[i].job_title,\n",
    "          \"job_summary\": train_df.iloc[i].job_summary,\n",
    "          \"job_ad_details\": train_df.iloc[i].job_ad_details,\n",
    "          \"classification_name\": train_df.iloc[i].classification_name,\n",
    "          \"subclassification_name\": train_df.iloc[i].subclassification_name\n",
    "        }\n",
    "        desc_str = str(desc)\n",
    "\n",
    "        # add the description\n",
    "        messages.append({\n",
    "          \"role\": \"user\",\n",
    "          \"content\": desc_str\n",
    "        })\n",
    "\n",
    "        label = train_df.iloc[i].y_true\n",
    "        label_str = str(label)\n",
    "\n",
    "        # add the output\n",
    "        messages.append({\n",
    "            \"role\": \"assistant\",\n",
    "            \"content\": label_str\n",
    "        })\n",
    "\n",
    "    return messages"
   ]
  },
  {
   "cell_type": "code",
   "execution_count": 7,
   "metadata": {
    "id": "zbr7XLTfmBtc",
    "tags": []
   },
   "outputs": [],
   "source": [
    "#== step 2: setting sub-task --> ask for seniority patterns\n",
    "def step_2(messages):\n",
    "    messages.append({\n",
    "        \"role\": \"user\",\n",
    "        \"content\": \"As a seniority label predictor, what are some common phrases or patterns that indicate a seniority label in a job description?\"\n",
    "    })\n",
    "\n",
    "    response = client.chat.completions.create(\n",
    "        model=model,\n",
    "        messages=messages\n",
    "    )\n",
    "    messages.append({\"role\": \"assistant\", \"content\": response.choices[0].message.content})\n",
    "\n",
    "    return response.choices[0].message.content, messages"
   ]
  },
  {
   "cell_type": "markdown",
   "metadata": {
    "id": "9-6MkZsUfhLi"
   },
   "source": [
    "### IC"
   ]
  },
  {
   "cell_type": "code",
   "execution_count": null,
   "metadata": {
    "id": "f9GUkH7kmWcc",
    "tags": []
   },
   "outputs": [],
   "source": [
    "#== step 3: presence of seniority\n",
    "def step_3(messages_static, desc_str):\n",
    "    messages = copy.deepcopy(messages_static)\n",
    "\n",
    "    messages.append({\n",
    "        \"role\": \"user\",\n",
    "        \"content\": f\"{desc_str} does this job description include any seniority-related information? Just respond with 'Yes' or 'No'.\"\n",
    "    })\n",
    "\n",
    "    response = client.chat.completions.create(\n",
    "        model=model,\n",
    "        messages=messages\n",
    "    )\n",
    "    messages.append({\"role\": \"assistant\", \"content\": response.choices[0].message.content})\n",
    "\n",
    "    p3_content = response.choices[0].message.content\n",
    "\n",
    "    # clean and check the response\n",
    "    response_p3 = p3_content.translate(str.maketrans('', '', string.punctuation))\n",
    "    response_p3 = response_p3.strip().lower()[:3]\n",
    "    #print(f\"step3 messages: {len(messages)}\")\n",
    "    return response_p3, messages"
   ]
  },
  {
   "cell_type": "code",
   "execution_count": 9,
   "metadata": {
    "id": "c3rIEflSmZQG",
    "tags": []
   },
   "outputs": [],
   "source": [
    "#== step 4: iterative coaching/finding clues to prevent hallucination\n",
    "def step_4(response_p3, messages):\n",
    "    messages.append({\n",
    "            \"role\": \"user\",\n",
    "            \"content\": \"Extract the seniority-related phrases from the text verbatim. Respond in JSON: {\\\"Clue\\\": \\\"\\\"}.\"\n",
    "        })\n",
    "\n",
    "    response = client.chat.completions.create(\n",
    "        model=model,\n",
    "        messages=messages\n",
    "    )\n",
    "    messages.append({\"role\": \"assistant\", \"content\": response.choices[0].message.content})\n",
    "    #print(f\"step4 messages: {len(messages)}\")\n",
    "\n",
    "    return response.choices[0].message.content, messages"
   ]
  },
  {
   "cell_type": "code",
   "execution_count": null,
   "metadata": {
    "id": "rftUWb7JZwxg",
    "tags": []
   },
   "outputs": [],
   "source": [
    "#== step 5: use the clue to generate the final output\n",
    "def step_5(messages):\n",
    "    messages.append({\n",
    "        \"role\": \"user\",\n",
    "        \"content\": (\n",
    "            \"Based on the extracted seniority clue, return a structured seniority label in the format {\\\"seniority_label\\\": \\\"seniority label\\\"}. \"\n",
    "                        \n",
    "        )\n",
    "    })\n",
    "\n",
    "    response = client.chat.completions.create(\n",
    "        model=model,\n",
    "        messages=messages\n",
    "    )\n",
    "    answer_str = response.choices[0].message.content\n",
    "\n",
    "    print(messages)\n",
    "\n",
    "    return answer_str"
   ]
  },
  {
   "cell_type": "code",
   "execution_count": 11,
   "metadata": {
    "id": "MzSYBXFaS2kU",
    "tags": []
   },
   "outputs": [],
   "source": [
    "def RBIC_static_messages(verbose=False, add_fewshot=True):\n",
    "    response, messages = step_1()\n",
    "    if verbose: print(f\"RB step 1: {response}\\n\")\n",
    "\n",
    "    response, messages = step_2(messages)\n",
    "    if verbose: print(f\"RB step 2: {response}\\n\")\n",
    "\n",
    "    if add_fewshot:\n",
    "        messages = fewshot(messages)\n",
    "        if verbose: print(f\"Fewshot examples added\\n\")\n",
    "    return messages"
   ]
  },
  {
   "cell_type": "code",
   "execution_count": 32,
   "metadata": {
    "id": "QBoQh1EoTsJ2",
    "tags": []
   },
   "outputs": [],
   "source": [
    "def RBIC(messages, desc_str, verbose=False):\n",
    "    response_p3, messages_local = step_3(messages, desc_str)\n",
    "    if verbose: print(f\"IC step 1: {response_p3}\\n\")\n",
    "\n",
    "    response, messages_local = step_4(response_p3, messages_local)\n",
    "    if verbose: print(f\"IC step 2: {response}\\n\")\n",
    "\n",
    "    answer_str = step_5(messages_local)\n",
    "\n",
    "    #print(\"data:\",answer_str,\"&&&\")\n",
    "\n",
    "    data = json.loads(answer_str)\n",
    "    \n",
    "\n",
    "    # extract the value\n",
    "    label = data[\"seniority_label\"]\n",
    "    \n",
    "    if verbose: print(f\"IC step 3 (Final): {label}\\n\")\n",
    "    if verbose: print(f\"IC step 3 (Final Raw): {answer_str}\\n\")\n",
    "\n",
    "    return str(label)"
   ]
  },
  {
   "cell_type": "markdown",
   "metadata": {
    "id": "0KUTpN4tetFe"
   },
   "source": [
    "# Testing"
   ]
  },
  {
   "cell_type": "markdown",
   "metadata": {
    "id": "pTCP6pXsw0nd"
   },
   "source": [
    "### Qualitative Tests"
   ]
  },
  {
   "cell_type": "code",
   "execution_count": 13,
   "metadata": {
    "colab": {
     "base_uri": "https://localhost:8080/"
    },
    "id": "9-7IV-4tSnsB",
    "outputId": "7c3df295-f35a-4dfb-9919-9cf4f97c7b2f",
    "tags": []
   },
   "outputs": [
    {
     "name": "stdout",
     "output_type": "stream",
     "text": [
      "RB step 1: Seniority in the context of job roles generally refers to the level of experience, responsibility, and authority an individual has within an organization. Seniority labels in job descriptions typically indicate the level of experience and expertise required for a particular position. These labels can range from entry-level for beginners to executive for top-level management positions. Other common seniority labels include junior, intermediate, senior, lead, director, manager, specialist, and coordinator, among others. The specific seniority label used in a job description can give candidates a clear indication of the expectations and requirements for the role.\n",
      "\n",
      "RB step 2: 1. \"Senior\" or \"senior-level\": Indicates a higher level of experience and responsibility.\n",
      "2. \"Lead\" or \"lead role\": Implies leading a team or project.\n",
      "3. \"Manager\" or \"management\": Suggests a supervisory or leadership role.\n",
      "4. \"Director\" or \"director-level\": Indicates a high-ranking position with strategic responsibilities.\n",
      "5. \"Executive\" or \"executive-level\": Indicates a high-level position with decision-making authority.\n",
      "6. \"Specialist\" or \"subject matter expert\": Implies a high level of expertise in a specific area.\n",
      "7. \"Coordinator\" or \"coordinator-level\": Suggests orchestrating and organizing tasks or projects.\n",
      "8. \"Head\" or \"head of department\": Implies leadership and decision-making responsibilities.\n",
      "9. \"Chief\" or \"chief officer\": Indicates a top-level executive position.\n",
      "10. \"Owner\" or \"owner-operator\": Indicates a business ownership or leadership role.\n",
      "\n",
      "Fewshot examples added\n",
      "\n"
     ]
    }
   ],
   "source": [
    "messages_static = RBIC_static_messages(verbose=True, add_fewshot=True)"
   ]
  },
  {
   "cell_type": "code",
   "execution_count": null,
   "metadata": {
    "colab": {
     "base_uri": "https://localhost:8080/"
    },
    "id": "63XWt1d3e1DH",
    "outputId": "d674d9a7-a086-4c5b-8ebb-de28ffd0ebb2",
    "tags": []
   },
   "outputs": [],
   "source": [
    "ind = 395\n",
    "\n",
    "#[2081,1,5,12,3]\n",
    "\n",
    "desc = {\n",
    "    \"job_title\": test_df.iloc[ind].job_title,\n",
    "    \"job_summary\": test_df.iloc[ind].job_summary,\n",
    "    \"job_ad_details\": test_df.iloc[ind].job_ad_details,\n",
    "    \"classification_name\": test_df.iloc[ind].classification_name,\n",
    "    \"subclassification_name\": test_df.iloc[ind].subclassification_name,\n",
    "  }\n",
    "desc_str = str(desc)\n",
    "\n",
    "label = test_df.iloc[ind].y_true\n",
    "label_str = str(label)\n",
    "\n",
    "print(f\"len of messages_static {len(messages_static)}\")\n",
    "label_pred = RBIC(messages_static, desc_str, verbose=True)\n",
    "\n",
    "\n",
    "print(f\"pred = {label_pred}\")\n",
    "print(f\"truth = {label_str}\")"
   ]
  },
  {
   "cell_type": "code",
   "execution_count": 61,
   "metadata": {},
   "outputs": [
    {
     "data": {
      "text/plain": [
       "'Company description:We’re an energy delivery service that owns and operates Victoria’s largest network of electricity and gas infrastructure. We move energy through these networks from where it’s made to where it’s used in more than one million homes and businesses. What we do matters to our nation. At AusNet Services, you’re part of a diverse, inclusive and collaborative team that’s dedicated to bringing safe, efficient and reliable energy to millions of Australians, and you can be certain that safety comes first in everything we do.Job description:What you will be delivering: This great opportunity is solution leadership role within the Enterprise Information Management (IM) CoE and has responsibility for ensuring a robust and fit for purpose IM solution architecture that meets current and future needs of our business.You will work closely with the business and technology stakeholders, ensure best practice and robust solution design and governance for the IM platform. Your hands-on experience implementing Big data solutions and technologies together with your outstanding communication and ability to engage senior stakeholders will be key to your success. \\xa0 What we like about you:\\xa0\\xa0\\xa0\\xa0\\xa0\\xa0\\xa0\\xa0\\xa0\\xa0\\xa0\\xa0\\xa0\\xa0\\xa0\\xa0\\xa0\\xa0\\xa0\\xa0\\xa0\\xa0\\xa0\\xa0\\xa0\\xa0\\xa0\\xa0\\xa0\\xa0\\xa0\\xa0\\xa0\\xa0\\xa0\\xa0\\xa0\\xa0\\xa0\\xa0\\xa0\\xa0\\xa0\\xa0\\xa0\\xa0\\xa0\\xa0\\xa0\\xa0\\xa0\\xa0\\xa0\\xa0\\xa0\\xa0\\xa0\\xa0\\xa0\\xa0\\xa0\\xa0\\xa0\\xa0\\xa0\\xa0\\xa0\\xa0\\xa0\\xa0\\xa0\\xa0\\xa0\\xa0\\xa0\\xa0\\xa0\\xa0\\xa0\\xa0\\xa0\\xa0\\xa0\\xa0\\xa0\\xa0\\xa0\\xa0\\xa0\\xa0\\xa0\\xa0\\xa0\\xa0\\xa0\\xa0\\xa0\\xa0\\xa0\\xa0\\xa0\\xa0\\xa0\\xa0\\xa0   Big data Implementation experience with Microsoft Azure public cloud preferred (Azure big data components like PowerBI, Azure data factory, HDInsight, Azure Blob, Azure Datalake store etc.) Deep understanding of database and analytical technologies in the industry including MPP and NoSQL databases, Data Warehouse design, BI reporting and Dashboard development Experience in Advanced Analytics and data science concepts and tools (AI, ML etc.) Experience/understanding of other DW/BI technologies like SAP BW, HANA, BOBJ, Oracle, IBM etc. Experience/understanding of infrastructure as code (Terraform, ansible etc.) Understanding on Cloud security patterns  What you will enjoy: This is a unique opportunity to enhance your knowledge and expertise whilst building a fulfilling career with an organisation that always has its eye on the future. Some of the other great benefits include:  A friendly, diverse and supportive team environment focused on achieving results Access to Social Club and community based support activities A wide range of employee benefits such as salary sacrifice options & Private Health Discounts A company that supports work and family commitments that is underpinned by values and policies that promote diversity and inclusiveness On-going development and career opportunities Plus more! Seeked profile:A solution leadership role with the\\xa0responsibility for ensuring a robust and fit for purpose IM solution architecture that meets current and future needs of our business.'"
      ]
     },
     "execution_count": 61,
     "metadata": {},
     "output_type": "execute_result"
    }
   ],
   "source": [
    "test_df.iloc[ind].job_ad_details"
   ]
  },
  {
   "cell_type": "markdown",
   "metadata": {
    "id": "U2QyVlqCw5i0"
   },
   "source": [
    "### Quantitative Tests"
   ]
  },
  {
   "cell_type": "code",
   "execution_count": null,
   "metadata": {},
   "outputs": [
    {
     "data": {
      "text/html": [
       "<div>\n",
       "<style scoped>\n",
       "    .dataframe tbody tr th:only-of-type {\n",
       "        vertical-align: middle;\n",
       "    }\n",
       "\n",
       "    .dataframe tbody tr th {\n",
       "        vertical-align: top;\n",
       "    }\n",
       "\n",
       "    .dataframe thead th {\n",
       "        text-align: right;\n",
       "    }\n",
       "</style>\n",
       "<table border=\"1\" class=\"dataframe\">\n",
       "  <thead>\n",
       "    <tr style=\"text-align: right;\">\n",
       "      <th></th>\n",
       "      <th>y_pred</th>\n",
       "    </tr>\n",
       "  </thead>\n",
       "  <tbody>\n",
       "  </tbody>\n",
       "</table>\n",
       "</div>"
      ],
      "text/plain": [
       "Empty DataFrame\n",
       "Columns: [y_pred]\n",
       "Index: []"
      ]
     },
     "execution_count": 39,
     "metadata": {},
     "output_type": "execute_result"
    }
   ],
   "source": [
    "# df to store model predictions\n",
    "test_pred_df = pd.DataFrame(columns=[\"y_pred\"])\n",
    "test_pred_df\n",
    "\n"
   ]
  },
  {
   "cell_type": "code",
   "execution_count": 55,
   "metadata": {},
   "outputs": [
    {
     "data": {
      "text/html": [
       "<div>\n",
       "<style scoped>\n",
       "    .dataframe tbody tr th:only-of-type {\n",
       "        vertical-align: middle;\n",
       "    }\n",
       "\n",
       "    .dataframe tbody tr th {\n",
       "        vertical-align: top;\n",
       "    }\n",
       "\n",
       "    .dataframe thead th {\n",
       "        text-align: right;\n",
       "    }\n",
       "</style>\n",
       "<table border=\"1\" class=\"dataframe\">\n",
       "  <thead>\n",
       "    <tr style=\"text-align: right;\">\n",
       "      <th></th>\n",
       "      <th>y_pred</th>\n",
       "    </tr>\n",
       "  </thead>\n",
       "  <tbody>\n",
       "  </tbody>\n",
       "</table>\n",
       "</div>"
      ],
      "text/plain": [
       "Empty DataFrame\n",
       "Columns: [y_pred]\n",
       "Index: []"
      ]
     },
     "execution_count": 55,
     "metadata": {},
     "output_type": "execute_result"
    }
   ],
   "source": [
    "test_pred_df2 = pd.DataFrame(columns=[\"y_pred\"])\n",
    "test_pred_df2\n"
   ]
  },
  {
   "cell_type": "code",
   "execution_count": 56,
   "metadata": {},
   "outputs": [
    {
     "name": "stderr",
     "output_type": "stream",
     "text": [
      "100%|██████████| 141/141 [05:08<00:00,  2.19s/it]\n"
     ]
    }
   ],
   "source": [
    "for i in tqdm(range(548,len(test_df))):\n",
    "    if (i==395):\n",
    "        continue\n",
    "    desc = {\n",
    "        \"job_title\": test_df.iloc[i].job_title,\n",
    "        \"job_summary\": test_df.iloc[i].job_summary,\n",
    "        \"job_ad_details\": test_df.iloc[i].job_ad_details,\n",
    "        \"classification_name\": test_df.iloc[i].classification_name,\n",
    "        \"subclassification_name\": test_df.iloc[i].subclassification_name\n",
    "    }\n",
    "    desc_str = str(desc)\n",
    "\n",
    "    label = test_df.iloc[i].y_true\n",
    "    label_str = str(label)\n",
    "\n",
    "    label_pred = RBIC(messages_static, desc_str)\n",
    "\n",
    "    test_pred_df2.loc[len(test_pred_df2)] = label_pred\n",
    "\n"
   ]
  },
  {
   "cell_type": "code",
   "execution_count": 57,
   "metadata": {},
   "outputs": [],
   "source": [
    "test_pred_df2.to_csv('seniority_labelled_test_set_gpt_3_5_preds_few_shot4.csv', index=False)"
   ]
  },
  {
   "cell_type": "markdown",
   "metadata": {},
   "source": [
    "Testing "
   ]
  },
  {
   "cell_type": "code",
   "execution_count": 5,
   "metadata": {},
   "outputs": [
    {
     "name": "stdout",
     "output_type": "stream",
     "text": [
      "Exact matches:   329 / 689\n",
      "Non-matches:     360 / 689\n",
      "Row 0: true=senior  pred=experienced\n",
      "Row 1: true=experienced  pred=senior\n",
      "Row 2: true=entry-level  pred=assistant\n",
      "Row 4: true=intermediate  pred=entry-level\n",
      "Row 8: true=entry-level  pred=entry-level to intermediate\n",
      "Row 11: true=experienced  pred=mid-level\n",
      "Row 12: true=experienced  pred=standard\n",
      "Row 13: true=senior  pred=entry-level\n",
      "Row 15: true=experienced  pred=manager\n",
      "Row 16: true=experienced  pred=intermediate\n",
      "Row 17: true=intermediate  pred=entry-level\n",
      "Row 22: true=experienced  pred=senior\n",
      "Row 26: true=graduate  pred=graduate/junior\n",
      "Row 30: true=head  pred=executive\n",
      "Row 33: true=lead  pred=head\n",
      "Row 34: true=experienced  pred=qualified\n",
      "Row 35: true=entry-level  pred=independent\n",
      "Row 39: true=intermediate  pred=head\n",
      "Row 40: true=experienced  pred=intermediate\n",
      "Row 41: true=entry-level  pred=entry-level to intermediate\n",
      "Row 43: true=lead  pred=junior\n",
      "Row 47: true=assistant  pred=junior\n",
      "Row 49: true=intermediate  pred=student\n",
      "Row 50: true=experienced assistant  pred=experienced\n",
      "Row 51: true=assistant  pred=entry-level\n",
      "Row 52: true=intermediate  pred=experienced\n",
      "Row 53: true=lead  pred=senior\n",
      "Row 56: true=senior  pred=manager\n",
      "Row 58: true=experienced  pred=intermediate\n",
      "Row 62: true=senior  pred=manager\n",
      "Row 63: true=intermediate  pred=experienced\n",
      "Row 65: true=experienced  pred=senior\n",
      "Row 66: true=experienced  pred=senior\n",
      "Row 67: true=junior  pred=intermediate\n",
      "Row 72: true=lead  pred=head\n",
      "Row 74: true=intermediate  pred=qualified\n",
      "Row 75: true=experienced  pred=intermediate\n",
      "Row 76: true=associate  pred=contract\n",
      "Row 78: true=experienced  pred=mid-senior\n",
      "Row 80: true=intermediate  pred=senior adviser\n",
      "Row 81: true=junior  pred=junior-intermediate\n",
      "Row 83: true=director  pred=senior\n",
      "Row 85: true=graduate/junior  pred=entry-level\n",
      "Row 87: true=intermediate  pred=experienced\n",
      "Row 88: true=senior  pred=Manager\n",
      "Row 92: true=entry-level  pred=junior\n",
      "Row 93: true=lead  pred=manager\n",
      "Row 94: true=entry-level  pred=intermediate\n",
      "Row 96: true=senior  pred=manager\n",
      "Row 104: true=head  pred=senior\n",
      "Row 105: true=experienced  pred=executive\n",
      "Row 107: true=assistant  pred=entry-level\n",
      "Row 111: true=lead  pred=senior\n",
      "Row 112: true=experienced  pred=intermediate\n",
      "Row 113: true=senior  pred=mid-level\n",
      "Row 114: true=experienced  pred=senior\n",
      "Row 117: true=intermediate  pred=assistant\n",
      "Row 119: true=experienced  pred=entry-level\n",
      "Row 121: true=entry-level  pred=coordinator\n",
      "Row 127: true=assistant  pred=entry-level\n",
      "Row 128: true=experienced  pred=entry-level\n",
      "Row 130: true=intermediate  pred=entry-level\n",
      "Row 131: true=graduate/junior  pred=entry-level\n",
      "Row 134: true=intermediate  pred=entry-level\n",
      "Row 137: true=intermediate  pred=senior\n",
      "Row 138: true=experienced  pred=intermediate\n",
      "Row 142: true=assistant  pred=assistant director\n",
      "Row 143: true=entry-level to intermediate  pred=qualified\n",
      "Row 145: true=junior  pred=entry-level to intermediate\n",
      "Row 146: true=head  pred=manager\n",
      "Row 147: true=assistant  pred=entry-level\n",
      "Row 148: true=experienced  pred=intermediate\n",
      "Row 149: true=senior  pred=experienced\n",
      "Row 150: true=assistant  pred=entry-level\n",
      "Row 151: true=assistant  pred=entry-level to intermediate\n",
      "Row 154: true=intermediate  pred=mid-level\n",
      "Row 155: true=assistant  pred=manager\n",
      "Row 156: true=experienced  pred=entry-level\n",
      "Row 157: true=senior  pred=experienced\n",
      "Row 158: true=experienced  pred=senior\n",
      "Row 160: true=intermediate  pred=entry-level\n",
      "Row 161: true=senior  pred=general-manager\n",
      "Row 164: true=intermediate  pred=manager\n",
      "Row 165: true=intermediate  pred=senior\n",
      "Row 166: true=junior  pred=entry-level\n",
      "Row 169: true=intermediate  pred=mid-level\n",
      "Row 172: true=lead  pred=senior\n",
      "Row 173: true=experienced  pred=intermediate\n",
      "Row 177: true=intermediate  pred=entry-level\n",
      "Row 180: true=experienced  pred=senior\n",
      "Row 181: true=senior  pred=senior associate\n",
      "Row 182: true=assistant  pred=intermediate\n",
      "Row 185: true=experienced  pred=senior\n",
      "Row 187: true=head  pred=manager\n",
      "Row 190: true=intermediate  pred=general-manager\n",
      "Row 191: true=graduate  pred=graduate/junior\n",
      "Row 192: true=student  pred=post-doctoral\n",
      "Row 197: true=intermediate  pred=mid-level\n",
      "Row 200: true=specialist  pred=general\n",
      "Row 201: true=intermediate  pred=manager\n",
      "Row 202: true=head  pred=manager\n",
      "Row 204: true=experienced  pred=intermediate\n",
      "Row 206: true=senior/lead  pred=senior\n",
      "Row 209: true=lead  pred=intermediate\n",
      "Row 215: true=intermediate  pred=apprentice\n",
      "Row 217: true=intermediate  pred=mid-senior\n",
      "Row 219: true=intermediate  pred=experienced\n",
      "Row 221: true=head  pred=manager\n",
      "Row 222: true=experienced  pred=senior\n",
      "Row 224: true=senior  pred=head\n",
      "Row 232: true=entry-level  pred=owner-operator\n",
      "Row 235: true=experienced  pred=entry-level to intermediate\n",
      "Row 237: true=experienced  pred=intermediate\n",
      "Row 240: true=experienced  pred=manager\n",
      "Row 242: true=intermediate  pred=head\n",
      "Row 243: true=intermediate  pred=owner-operator\n",
      "Row 244: true=intermediate  pred=head\n",
      "Row 245: true=intermediate  pred=entry-level\n",
      "Row 246: true=experienced  pred=entry-level\n",
      "Row 247: true=intermediate  pred=junior\n",
      "Row 249: true=executive  pred=general-manager\n",
      "Row 251: true=intermediate  pred=senior\n",
      "Row 252: true=senior  pred=experienced\n",
      "Row 253: true=experienced  pred=entry-level\n",
      "Row 254: true=senior  pred=entry-level\n",
      "Row 255: true=intermediate  pred=senior\n",
      "Row 257: true=intermediate  pred=experienced\n",
      "Row 264: true=intermediate  pred=entry-level\n",
      "Row 266: true=intermediate  pred=entry-level\n",
      "Row 268: true=senior  pred=mid-senior\n",
      "Row 271: true=intermediate  pred=intermediate to senior\n",
      "Row 272: true=intermediate  pred=head\n",
      "Row 273: true=intermediate  pred=entry-level\n",
      "Row 275: true=intermediate  pred=entry-level\n",
      "Row 276: true=experienced  pred=intermediate\n",
      "Row 277: true=senior  pred=experienced\n",
      "Row 279: true=intermediate  pred=entry-level\n",
      "Row 280: true=experienced  pred=intermediate\n",
      "Row 281: true=intermediate  pred=experienced\n",
      "Row 282: true=intermediate  pred=mid-level\n",
      "Row 284: true=intermediate  pred=entry-level\n",
      "Row 288: true=experienced  pred=entry-level to intermediate\n",
      "Row 289: true=entry-level  pred=intermediate\n",
      "Row 290: true=senior  pred=mid-level\n",
      "Row 295: true=principal  pred=Principal\n",
      "Row 298: true=intermediate  pred=entry-level\n",
      "Row 299: true=experienced  pred=senior\n",
      "Row 303: true=experienced  pred=intermediate\n",
      "Row 304: true=lead  pred=manager\n",
      "Row 305: true=intermediate  pred=standard\n",
      "Row 306: true=junior  pred=entry-level\n",
      "Row 307: true=experienced  pred=senior\n",
      "Row 308: true=experienced  pred=lead\n",
      "Row 310: true=intermediate  pred=entry-level\n",
      "Row 312: true=intermediate  pred=mid-senior\n",
      "Row 315: true=intermediate  pred=junior\n",
      "Row 316: true=lead  pred=mid-senior\n",
      "Row 317: true=experienced  pred=mid-level\n",
      "Row 319: true=experienced  pred=apprentice\n",
      "Row 321: true=intermediate  pred=experienced\n",
      "Row 323: true=experienced  pred=intermediate\n",
      "Row 324: true=experienced  pred=senior\n",
      "Row 325: true=assistant  pred=entry-level\n",
      "Row 328: true=assistant  pred=experienced\n",
      "Row 329: true=experienced  pred=intermediate\n",
      "Row 331: true=senior  pred=contractor\n",
      "Row 332: true=graduate  pred=junior\n",
      "Row 334: true=experienced  pred=coordinator\n",
      "Row 337: true=intermediate  pred=entry-level\n",
      "Row 339: true=assistant  pred=experienced\n",
      "Row 340: true=intermediate  pred=entry-level\n",
      "Row 342: true=junior  pred=entry-level\n",
      "Row 343: true=director  pred=standard\n",
      "Row 344: true=head  pred=manager\n",
      "Row 346: true=lead  pred=mid-level\n",
      "Row 347: true=lead  pred=head\n",
      "Row 350: true=experienced  pred=entry-level to intermediate\n",
      "Row 353: true=junior  pred=senior\n",
      "Row 354: true=intermediate  pred=entry-level\n",
      "Row 355: true=associate  pred=senior associate\n",
      "Row 358: true=junior  pred=entry-level\n",
      "Row 359: true=principal  pred=senior\n",
      "Row 361: true=junior-to-intermediate  pred=intermediate\n",
      "Row 362: true=intermediate  pred=entry-level\n",
      "Row 365: true=head  pred=manager\n",
      "Row 366: true=assistant  pred=entry-level\n",
      "Row 367: true=experienced  pred=intermediate\n",
      "Row 368: true=experienced  pred=entry-level\n",
      "Row 371: true=independent  pred=board\n",
      "Row 373: true=entry-level  pred=entry-level to intermediate\n",
      "Row 374: true=experienced  pred=intermediate\n",
      "Row 375: true=experienced  pred=senior\n",
      "Row 379: true=experienced  pred=owner-operator\n",
      "Row 381: true=experienced  pred=senior\n",
      "Row 382: true=experienced  pred=intermediate\n",
      "Row 383: true=experienced  pred=senior\n",
      "Row 385: true=intermediate  pred=experienced\n",
      "Row 387: true=assistant  pred=senior\n",
      "Row 388: true=intermediate  pred=entry-level\n",
      "Row 389: true=entry-level  pred=experienced\n",
      "Row 391: true=intermediate  pred=senior\n",
      "Row 393: true=lead  pred=experienced\n",
      "Row 394: true=experienced  pred=executive\n",
      "Row 395: true=lead  pred=------------------------error case (i == 395)\n",
      "Row 398: true=intermediate  pred=entry-level\n",
      "Row 399: true=associate-director  pred=associate director\n",
      "Row 402: true=senior  pred=senior/principal\n",
      "Row 403: true=third-year apprentice  pred=3rd year apprentice\n",
      "Row 404: true=intermediate  pred=entry-level\n",
      "Row 405: true=intermediate  pred=experienced\n",
      "Row 406: true=associate  pred=experienced\n",
      "Row 407: true=experienced assistant  pred=assistant\n",
      "Row 408: true=senior  pred=graduate\n",
      "Row 413: true=experienced  pred=qualified\n",
      "Row 415: true=head  pred=manager\n",
      "Row 416: true=early-career  pred=post-doctoral\n",
      "Row 419: true=intermediate  pred=qualified\n",
      "Row 420: true=experienced  pred=entry-level\n",
      "Row 424: true=entry-level  pred=junior\n",
      "Row 425: true=entry-level  pred=entry-level to intermediate\n",
      "Row 426: true=experienced  pred=entry-level\n",
      "Row 427: true=assistant  pred=entry-level\n",
      "Row 428: true=experienced  pred=intermediate\n",
      "Row 430: true=deputy  pred=senior\n",
      "Row 431: true=principal  pred=senior\n",
      "Row 432: true=intermediate  pred=experienced\n",
      "Row 435: true=assistant  pred=experienced\n",
      "Row 439: true=assistant  pred=entry-level\n",
      "Row 440: true=lead  pred=head\n",
      "Row 444: true=experienced  pred=intermediate\n",
      "Row 446: true=experienced  pred=owner-operator\n",
      "Row 448: true=experienced  pred=senior\n",
      "Row 450: true=experienced  pred=senior\n",
      "Row 452: true=experienced  pred=specialist\n",
      "Row 456: true=experienced  pred=senior/lead\n",
      "Row 457: true=assistant  pred=entry-level\n",
      "Row 458: true=executive  pred=senior\n",
      "Row 460: true=intermediate  pred=mid-level\n",
      "Row 462: true=intermediate  pred=executive\n",
      "Row 463: true=intermediate  pred=experienced\n",
      "Row 465: true=experienced  pred=executive\n",
      "Row 471: true=experienced  pred=intermediate\n",
      "Row 472: true=experienced  pred=entry-level\n",
      "Row 473: true=intermediate  pred=coordinator\n",
      "Row 474: true=intermediate  pred=experienced\n",
      "Row 477: true=intermediate  pred=entry-level\n",
      "Row 479: true=trainee  pred=entry-level\n",
      "Row 480: true=intermediate  pred=manager\n",
      "Row 487: true=experienced  pred=intermediate\n",
      "Row 488: true=intermediate  pred=entry-level to intermediate\n",
      "Row 490: true=intermediate  pred=entry-level\n",
      "Row 491: true=experienced  pred=senior\n",
      "Row 493: true=associate  pred=intermediate\n",
      "Row 494: true=intermediate  pred=manager\n",
      "Row 496: true=intermediate  pred=assistant\n",
      "Row 498: true=lead  pred=senior\n",
      "Row 499: true=intermediate  pred=senior\n",
      "Row 500: true=intermediate  pred=mid-level\n",
      "Row 501: true=junior  pred=entry-level to intermediate\n",
      "Row 503: true=experienced  pred=entry-level\n",
      "Row 504: true=head  pred=experienced\n",
      "Row 506: true=experienced  pred=intermediate\n",
      "Row 508: true=intermediate  pred=senior\n",
      "Row 511: true=intermediate  pred=qualified\n",
      "Row 512: true=intermediate  pred=entry-level\n",
      "Row 514: true=intermediate  pred=entry-level\n",
      "Row 515: true=experienced  pred=manager\n",
      "Row 518: true=senior/principal  pred=senior\n",
      "Row 520: true=senior  pred=entry-level to intermediate\n",
      "Row 521: true=intermediate  pred=experienced\n",
      "Row 524: true=experienced  pred=senior\n",
      "Row 526: true=principal  pred=senior\n",
      "Row 527: true=head  pred=senior/lead\n",
      "Row 528: true=executive  pred=Deputy\n",
      "Row 529: true=intermediate  pred=entry-level\n",
      "Row 531: true=intermediate  pred=senior\n",
      "Row 533: true=intermediate  pred=entry-level\n",
      "Row 535: true=intermediate management  pred=manager\n",
      "Row 537: true=experienced  pred=intermediate\n",
      "Row 538: true=experienced  pred=senior\n",
      "Row 541: true=intermediate  pred=entry-level\n",
      "Row 547: true=senior  pred=head\n",
      "Row 549: true=experienced  pred=entry-level\n",
      "Row 551: true=senior/lead  pred=senior\n",
      "Row 552: true=intermediate  pred=entry-level\n",
      "Row 553: true=intermediate  pred=senior\n",
      "Row 555: true=senior  pred=specialist\n",
      "Row 556: true=head  pred=business leader\n",
      "Row 560: true=experienced  pred=senior\n",
      "Row 561: true=experienced  pred=executive\n",
      "Row 564: true=experienced  pred=intermediate\n",
      "Row 567: true=experienced  pred=mid-level\n",
      "Row 568: true=lead  pred=team leader\n",
      "Row 570: true=experienced  pred=senior\n",
      "Row 571: true=experienced  pred=manager\n",
      "Row 574: true=experienced  pred=entry-level\n",
      "Row 575: true=intermediate  pred=junior\n",
      "Row 576: true=lead  pred=senior/lead\n",
      "Row 577: true=intermediate  pred=qualified\n",
      "Row 578: true=intermediate  pred=senior\n",
      "Row 579: true=intermediate  pred=entry-level\n",
      "Row 580: true=experienced  pred=senior\n",
      "Row 581: true=experienced  pred=intermediate\n",
      "Row 583: true=head  pred=executive\n",
      "Row 584: true=experienced  pred=intermediate\n",
      "Row 585: true=lead  pred=qualified\n",
      "Row 586: true=entry-level  pred=graduate/junior\n",
      "Row 587: true=intermediate  pred=entry-level\n",
      "Row 589: true=senior  pred=head\n",
      "Row 592: true=experienced  pred=junior\n",
      "Row 593: true=senior  pred=supervisor\n",
      "Row 594: true=senior  pred=intermediate\n",
      "Row 595: true=intermediate  pred=entry-level\n",
      "Row 596: true=director  pred=senior\n",
      "Row 600: true=senior  pred=manager\n",
      "Row 602: true=experienced  pred=intermediate\n",
      "Row 603: true=experienced  pred=intermediate\n",
      "Row 604: true=experienced  pred=entry-level to intermediate\n",
      "Row 605: true=senior  pred=head\n",
      "Row 606: true=chief  pred=head\n",
      "Row 607: true=experienced  pred=standard\n",
      "Row 608: true=intermediate  pred=Manager\n",
      "Row 609: true=experienced  pred=manager\n",
      "Row 612: true=senior  pred=head\n",
      "Row 613: true=intermediate  pred=executive\n",
      "Row 615: true=lead  pred=team leader\n",
      "Row 616: true=experienced  pred=experienced assistant\n",
      "Row 617: true=trainee  pred=mid-level\n",
      "Row 618: true=experienced  pred=entry-level\n",
      "Row 619: true=entry-level  pred=mid-level\n",
      "Row 626: true=senior  pred=intermediate\n",
      "Row 627: true=intermediate  pred=entry-level\n",
      "Row 628: true=intermediate  pred=senior\n",
      "Row 630: true=intermediate  pred=experienced\n",
      "Row 631: true=experienced  pred=senior\n",
      "Row 632: true=entry-level  pred=intermediate\n",
      "Row 635: true=lead  pred=head\n",
      "Row 636: true=experienced  pred=senior\n",
      "Row 639: true=assistant  pred=entry-level\n",
      "Row 640: true=experienced  pred=qualified\n",
      "Row 642: true=retired  pred=entry-level\n",
      "Row 644: true=experienced  pred=senior\n",
      "Row 645: true=intermediate  pred=entry-level\n",
      "Row 646: true=intermediate  pred=experienced\n",
      "Row 647: true=senior  pred=director\n",
      "Row 650: true=intermediate  pred=senior\n",
      "Row 651: true=experienced  pred=intermediate\n",
      "Row 655: true=intermediate  pred=entry-level to intermediate\n",
      "Row 657: true=trainee  pred=manager in training\n",
      "Row 658: true=chief  pred=executive\n",
      "Row 660: true=experienced  pred=senior\n",
      "Row 664: true=experienced  pred=intermediate\n",
      "Row 666: true=entry-level  pred=intermediate\n",
      "Row 667: true=intermediate  pred=entry-level\n",
      "Row 672: true=senior  pred=experienced\n",
      "Row 677: true=experienced  pred=qualified\n",
      "Row 678: true=lead  pred=junior\n",
      "Row 682: true=experienced  pred=entry-level\n",
      "Row 684: true=experienced  pred=qualified\n",
      "Row 687: true=associate  pred=entry-level\n"
     ]
    }
   ],
   "source": [
    "import pandas as pd\n",
    "\n",
    "\n",
    "df_true = pd.read_csv(\"seniority_labelled_test_set_ans.csv\")     \n",
    "df_pred = pd.read_csv(\"seniority_labelled_test_set_gpt_3_5_preds_few_shot.csv\")    \n",
    "\n",
    "\n",
    "\n",
    "df = pd.concat([df_true.reset_index(drop=True), \n",
    "                df_pred.reset_index(drop=True)], \n",
    "               axis=1)\n",
    "\n",
    "\n",
    "matches   = (df[\"y_true\"] == df[\"y_pred\"]).sum()\n",
    "total     = len(df)\n",
    "mismatches = total - matches\n",
    "\n",
    "print(f\"Exact matches:   {matches} / {total}\")\n",
    "print(f\"Non-matches:     {mismatches} / {total}\")\n",
    "\n",
    "\n",
    "mismatch_df = df[df[\"y_true\"] != df[\"y_pred\"]]\n",
    "\n",
    "\n",
    "for idx, row in mismatch_df.iterrows():\n",
    "    print(f\"Row {idx}: true={row['y_true']}  pred={row['y_pred']}\")"
   ]
  },
  {
   "cell_type": "code",
   "execution_count": 3,
   "metadata": {},
   "outputs": [],
   "source": [
    "# Save only the rows where y_true != y_pred\n",
    "mismatch_df.to_csv(\"seniority_mismatches_gpt.csv\", columns=[\"y_true\", \"y_pred\"], index=False)"
   ]
  },
  {
   "cell_type": "code",
   "execution_count": 8,
   "metadata": {},
   "outputs": [
    {
     "name": "stdout",
     "output_type": "stream",
     "text": [
      "Matches based on these new categories: 29.362880886426595\n"
     ]
    }
   ],
   "source": [
    "df = pd.read_csv(\"seniority_mismatches_gpt.csv\", header=None, names=['y_true','y_pred'])\n",
    "\n",
    "\n",
    "def map_custom(label):\n",
    "    lab = str(label).lower()\n",
    "    if any(x in lab for x in ['entry', 'graduate', 'trainee', 'cadet', 'apprentice']):\n",
    "        return 'Entry'\n",
    "    if any(x in lab for x in ['assistant', 'junior', 'student']):\n",
    "        return 'Early Career'\n",
    "    if any(x in lab for x in ['intermediate', 'experienced', 'mid']):\n",
    "        return 'Mid Career'\n",
    "    if any(x in lab for x in ['senior', 'lead', 'principal', 'specialist']):\n",
    "        return 'Senior'\n",
    "    if any(x in lab for x in ['manager', 'director', 'executive', 'chief', 'head', 'owner-operator', 'contract', 'contractor', 'coordinator', 'business leader', 'team leader', 'board']):\n",
    "        return 'Management / Exec'\n",
    "    return 'Other'\n",
    "\n",
    "# Apply mapping and compute matches\n",
    "df['true_cat'] = df['y_true'].apply(map_custom)\n",
    "df['pred_cat'] = df['y_pred'].apply(map_custom)\n",
    "df['match'] = df['true_cat'] == df['pred_cat']\n",
    "\n",
    "matches = df['match'].sum()\n",
    "total = len(df)\n",
    "non_matches = total - matches\n",
    "overall_pct = matches / total * 100\n",
    "\n",
    "print(\"Matches based on these new categories:\",overall_pct)"
   ]
  }
 ],
 "metadata": {
  "accelerator": "GPU",
  "colab": {
   "gpuType": "T4",
   "provenance": []
  },
  "kernelspec": {
   "display_name": "Python (venv)",
   "language": "python",
   "name": "venv"
  },
  "language_info": {
   "codemirror_mode": {
    "name": "ipython",
    "version": 3
   },
   "file_extension": ".py",
   "mimetype": "text/x-python",
   "name": "python",
   "nbconvert_exporter": "python",
   "pygments_lexer": "ipython3",
   "version": "3.11.3"
  }
 },
 "nbformat": 4,
 "nbformat_minor": 4
}
