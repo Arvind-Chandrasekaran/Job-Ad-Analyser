{
 "cells": [
  {
   "cell_type": "markdown",
   "metadata": {
    "id": "KfXY0rMVfLPo"
   },
   "source": [
    "# Loading"
   ]
  },
  {
   "cell_type": "code",
   "execution_count": null,
   "metadata": {
    "tags": []
   },
   "outputs": [],
   "source": [
    "! pip install --upgrade transformers==4.50.1"
   ]
  },
  {
   "cell_type": "code",
   "execution_count": 3,
   "metadata": {
    "id": "ziGslr52Zr3j",
    "tags": []
   },
   "outputs": [],
   "source": [
    "import pandas as pd\n",
    "import numpy as np\n",
    "from tqdm import tqdm\n",
    "from transformers import pipeline\n",
    "import torch\n",
    "import string\n",
    "import re\n",
    "from bs4 import BeautifulSoup\n",
    "import json\n",
    "import copy"
   ]
  },
  {
   "cell_type": "code",
   "execution_count": 5,
   "metadata": {
    "tags": []
   },
   "outputs": [
    {
     "name": "stderr",
     "output_type": "stream",
     "text": [
      "Device set to use cuda\n"
     ]
    }
   ],
   "source": [
    "pipe = pipeline(\n",
    "    \"text-generation\", model=\"google/gemma-3-1b-it\", device=\"cuda\", torch_dtype=torch.bfloat16,\n",
    "    token='' # put your HF access token here\n",
    ")"
   ]
  },
  {
   "cell_type": "markdown",
   "metadata": {
    "id": "q0oo9hKTZm2R"
   },
   "source": [
    "# Seniority"
   ]
  },
  {
   "cell_type": "code",
   "execution_count": 6,
   "metadata": {
    "id": "CblLBHhhZm2S",
    "tags": []
   },
   "outputs": [],
   "source": [
    "train_df = pd.read_csv('data/seniority_labelled_development_set_cleaned.csv')\n",
    "test_df = pd.read_csv('data/seniority_labelled_test_set_cleaned.csv')"
   ]
  },
  {
   "cell_type": "code",
   "execution_count": 7,
   "metadata": {
    "colab": {
     "base_uri": "https://localhost:8080/",
     "height": 272
    },
    "id": "XrHGLvuPDgDx",
    "outputId": "667d731e-fe91-4c25-ccef-a5e2e6c24b8e",
    "tags": []
   },
   "outputs": [
    {
     "data": {
      "text/plain": [
       "job_id                                                             33027740\n",
       "job_title                                                   Fitter & Welder\n",
       "job_summary               A food manufacturing company has an opportunit...\n",
       "job_ad_details            A well known food manufacturer operating since...\n",
       "classification_name                    Manufacturing, Transport & Logistics\n",
       "subclassification_name                                                Other\n",
       "y_true                                                          experienced\n",
       "Name: 1131, dtype: object"
      ]
     },
     "execution_count": 7,
     "metadata": {},
     "output_type": "execute_result"
    }
   ],
   "source": [
    "train_df.iloc[1131]"
   ]
  },
  {
   "cell_type": "markdown",
   "metadata": {
    "id": "4za-mTXBecX8"
   },
   "source": [
    "# RBIC Functions"
   ]
  },
  {
   "cell_type": "markdown",
   "metadata": {
    "id": "_icT_CYAfeJi"
   },
   "source": [
    "### RB\n"
   ]
  },
  {
   "cell_type": "code",
   "execution_count": 8,
   "metadata": {
    "id": "485zx9H7Zw5D",
    "tags": []
   },
   "outputs": [],
   "source": [
    "#== step 1: role explanation\n",
    "def step_1():\n",
    "    messages = [\n",
    "        {\"role\": \"system\", \"content\": \"You are an expert job ad annotator. Your task is to infer the seniority information from job descriptions. The seniority label may be present in the set: [intermediate, senior, lead, head, experienced, entry-level, executive, assistant, senior/lead, deputy, director, trainee, associate, graduate, junior, general-manager, coordinator, student, chief, principal, apprentice, qualified, entry-level to intermediate, senior associate, standard, senior assistant, specialist, mid-level, entry level assistant, experienced assistant, manager, graduate/junior, independent, 1st year apprentice, senior-executive, junior assistant, assistant manager, supervisor, second-in-command, associate director, board, 4th year apprentice, mid-senior, regional head, middle-management, advanced, 2nd year apprentice, intermediate apprentice, level 2, assistant head, owner, post-doctoral, owner-operator, middle management, senior head, assistant director, junior-intermediate, sous, intermediate to senior, senior executive] . If not present in the set, then create a label.\"},\n",
    "        {\"role\": \"user\", \"content\": \"Based on your role, can you briefly explain what seniority means, and what seniority labels look like?\"}\n",
    "    ]\n",
    "\n",
    "    response = pipe(messages, max_new_tokens=1000)\n",
    "    messages.append(response[0][\"generated_text\"][-1])\n",
    "\n",
    "    return response[0][\"generated_text\"][-1][\"content\"], messages"
   ]
  },
  {
   "cell_type": "code",
   "execution_count": 9,
   "metadata": {
    "id": "QwpJGdGO4BV-",
    "tags": []
   },
   "outputs": [],
   "source": [
    "#== few-shot examples\n",
    "def fewshot(messages):\n",
    "    # messages.append({\n",
    "    #     \"role\": \"user\",\n",
    "    #     \"content\": \"I will provide you with some examples on how to accomplish your task\"\n",
    "    # })\n",
    "\n",
    "    # response = client.chat.completions.create(\n",
    "    #     model=model,\n",
    "    #     messages=messages\n",
    "    # )\n",
    "    # messages.append({\"role\": \"assistant\", \"content\": response.choices[0].message.content})\n",
    "\n",
    "    few_shot_indices = [2081,1,5,12,3]\n",
    "\n",
    "    for i in few_shot_indices:\n",
    "        desc = {\n",
    "          \"job_title\": train_df.iloc[i].job_title,\n",
    "          \"job_summary\": train_df.iloc[i].job_summary,\n",
    "          \"job_ad_details\": train_df.iloc[i].job_ad_details,\n",
    "          \"classification_name\": train_df.iloc[i].classification_name,\n",
    "          \"subclassification_name\": train_df.iloc[i].subclassification_name\n",
    "        }\n",
    "        desc_str = str(desc)\n",
    "\n",
    "        # add the description\n",
    "        messages.append({\n",
    "          \"role\": \"user\",\n",
    "          \"content\": desc_str\n",
    "        })\n",
    "\n",
    "        label = train_df.iloc[i].y_true\n",
    "        label_str = str(label)\n",
    "\n",
    "        # add the output\n",
    "        messages.append({\n",
    "            \"role\": \"assistant\",\n",
    "            \"content\": label_str\n",
    "        })\n",
    "\n",
    "    return messages"
   ]
  },
  {
   "cell_type": "code",
   "execution_count": 10,
   "metadata": {
    "id": "zbr7XLTfmBtc",
    "tags": []
   },
   "outputs": [],
   "source": [
    "#== step 2: setting sub-task --> ask for seniority patterns\n",
    "def step_2(messages):\n",
    "    messages.append({\n",
    "        \"role\": \"user\",\n",
    "        \"content\": \"As a seniority label predictor, what are some common phrases or patterns that indicate a seniority label in a job description?\"\n",
    "    })\n",
    "\n",
    "    response = pipe(messages, max_new_tokens=1000)\n",
    "    messages.append(response[0][\"generated_text\"][-1])\n",
    "\n",
    "    return response[0][\"generated_text\"][-1][\"content\"], messages"
   ]
  },
  {
   "cell_type": "markdown",
   "metadata": {
    "id": "9-6MkZsUfhLi"
   },
   "source": [
    "### IC"
   ]
  },
  {
   "cell_type": "code",
   "execution_count": 11,
   "metadata": {
    "id": "f9GUkH7kmWcc",
    "tags": []
   },
   "outputs": [],
   "source": [
    "#== step 3: presence of seniority (skipped)\n",
    "def step_3(messages_static, desc_str):\n",
    "    messages = copy.deepcopy(messages_static)\n",
    "\n",
    "    messages.append({\n",
    "        \"role\": \"user\",\n",
    "        \"content\": f\"{desc_str} does this job description include any seniority-related information? Just respond with 'Yes' or 'No'.\"\n",
    "    })\n",
    "\n",
    "    response = pipe(messages, max_new_tokens=1000)\n",
    "    messages.append(response[0][\"generated_text\"][-1])\n",
    "\n",
    "    p3_content = response[0][\"generated_text\"][-1][\"content\"]\n",
    "\n",
    "    # clean and check the response\n",
    "    response_p3 = p3_content.translate(str.maketrans('', '', string.punctuation))\n",
    "    response_p3 = response_p3.strip().lower()[:3]\n",
    "    #print(f\"step3 messages: {len(messages)}\")\n",
    "    return response_p3, messages"
   ]
  },
  {
   "cell_type": "code",
   "execution_count": 12,
   "metadata": {
    "id": "c3rIEflSmZQG",
    "tags": []
   },
   "outputs": [],
   "source": [
    "#== step 4: iterative coaching/finding clues to prevent hallucination\n",
    "def step_4(response_p3, messages):\n",
    "    messages.append({\n",
    "            \"role\": \"user\",\n",
    "            \"content\": \"Extract the seniority-related phrases from the text verbatim. Respond in JSON: {\\\"Clue\\\": \\\"\\\"}.\"\n",
    "        })\n",
    "\n",
    "    response = pipe(messages, max_new_tokens=1000)\n",
    "    messages.append(response[0][\"generated_text\"][-1])\n",
    "    #print(f\"step4 messages: {len(messages)}\")\n",
    "\n",
    "    return response[0][\"generated_text\"][-1][\"content\"], messages"
   ]
  },
  {
   "cell_type": "code",
   "execution_count": 13,
   "metadata": {
    "id": "rftUWb7JZwxg",
    "tags": []
   },
   "outputs": [],
   "source": [
    "#== step 5: use the clue to generate the final output\n",
    "def step_5(messages):\n",
    "    messages.append({\n",
    "        \"role\": \"user\",\n",
    "        \"content\": (\n",
    "            \"Based on the extracted seniority clue, return a structured seniority label in the format {\\\"seniority_label\\\": \\\"\\\"}. \"\n",
    "                        \n",
    "        )\n",
    "    })\n",
    "\n",
    "    response = pipe(messages, max_new_tokens=1000)\n",
    "    answer_str = response[0][\"generated_text\"][-1][\"content\"]\n",
    "    \n",
    "    # format and print the output\n",
    "    try:\n",
    "        answer_str_ = answer_str[answer_str.find('{'):answer_str.find('}') + 1]\n",
    "        answer_str_ = answer_str_.replace('“', '\"')\n",
    "        answer_str_ = answer_str_.replace('”', '\"')\n",
    "        answer = json.loads(answer_str_)\n",
    "        \n",
    "        if 'seniority_label' in answer:\n",
    "            label = answer['seniority_label']\n",
    "        else:\n",
    "            print(f\"Failed to parse model output: {answer_str}\")\n",
    "            label = \"ERROR \" + answer_str\n",
    "    except json.JSONDecodeError:\n",
    "        print(f\"Failed to parse model output: {answer_str}\")\n",
    "        label = \"ERROR \" + answer_str\n",
    "\n",
    "    return label, answer_str"
   ]
  },
  {
   "cell_type": "code",
   "execution_count": 14,
   "metadata": {
    "id": "MzSYBXFaS2kU",
    "tags": []
   },
   "outputs": [],
   "source": [
    "def RBIC_static_messages(verbose=False, add_fewshot=True):\n",
    "    response, messages = step_1()\n",
    "    if verbose: print(f\"RB step 1: {response}\\n\")\n",
    "\n",
    "    response, messages = step_2(messages)\n",
    "    if verbose: print(f\"RB step 2: {response}\\n\")\n",
    "\n",
    "    if add_fewshot:\n",
    "        messages = fewshot(messages)\n",
    "        if verbose: print(f\"Fewshot examples added\\n\")\n",
    "    return messages"
   ]
  },
  {
   "cell_type": "code",
   "execution_count": 15,
   "metadata": {
    "id": "QBoQh1EoTsJ2",
    "tags": []
   },
   "outputs": [],
   "source": [
    "def RBIC(messages, desc_str, verbose=False):\n",
    "    response_p3, messages_local = step_3(messages, desc_str)\n",
    "    if verbose: print(f\"IC step 1: {response_p3}\\n\")\n",
    "\n",
    "    response, messages_local = step_4(response_p3, messages_local)\n",
    "    if verbose: print(f\"IC step 2: {response}\\n\")\n",
    "\n",
    "    label, answer_str = step_5(messages_local)\n",
    "    if verbose: print(f\"IC step 3 (Final): {label}\\n\")\n",
    "    if verbose: print(f\"IC step 3 (Final Raw): {answer_str}\\n\")\n",
    "\n",
    "    return str(label)"
   ]
  },
  {
   "cell_type": "markdown",
   "metadata": {
    "id": "0KUTpN4tetFe"
   },
   "source": [
    "# Testing"
   ]
  },
  {
   "cell_type": "markdown",
   "metadata": {
    "id": "pTCP6pXsw0nd"
   },
   "source": [
    "### Qualitative Tests"
   ]
  },
  {
   "cell_type": "code",
   "execution_count": 16,
   "metadata": {
    "colab": {
     "base_uri": "https://localhost:8080/"
    },
    "id": "9-7IV-4tSnsB",
    "outputId": "7c3df295-f35a-4dfb-9919-9cf4f97c7b2f",
    "tags": []
   },
   "outputs": [
    {
     "name": "stdout",
     "output_type": "stream",
     "text": [
      "RB step 1: Okay, I understand. I'm ready to analyze job descriptions and infer seniority levels. \n",
      "\n",
      "**Here’s a breakdown of what seniority means and some examples of how I’ll label the labels you provided:**\n",
      "\n",
      "**What is Seniority?**\n",
      "\n",
      "Seniority refers to an individual's level of responsibility, experience, and authority within an organization. It's essentially a measure of their impact and how much influence they wield. It’s not just about years of experience; it's about *how* you’ve used that experience. It often signifies a higher level of strategic thinking, leadership, and decision-making capability.  It can also encompass mentorship, training, and overseeing others.\n",
      "\n",
      "**How I'll Label the Seniority Levels:**\n",
      "\n",
      "I'll use a combination of these strategies:\n",
      "\n",
      "*   **Context is Key:** I'll analyze the specific duties, responsibilities, and required skills mentioned in the job description.\n",
      "*   **Experience & Authority:** I’ll consider the amount of experience, direct reports, decision-making power, and overall influence the role entails.\n",
      "*   **Strategic Thinking:** Does the role require proactive planning, problem-solving, and setting direction?\n",
      "*   **Leadership Potential:** Does the description hint at mentoring, guiding, or influencing others?\n",
      "\n",
      "**Here's a brief overview of the labels I’ll use, with some examples of how I might categorize them:**\n",
      "\n",
      "*   **Entry-Level:** (e.g., Junior, Associate, Graduate) - Starting point, focused on learning and basic tasks.\n",
      "*   **Assistant:** (e.g., Assistant, Associate) - Supports experienced individuals, typically with specific duties.\n",
      "*   **Level 1:** (e.g., Assistant Manager, Supervisor) -  Supports a team or project, with moderate responsibilities.\n",
      "*   **Intermediate:** (e.g., Manager, Senior Assistant, Specialist) - Demonstrates a solid understanding of the role's responsibilities and can handle more independent tasks.\n",
      "*   **Senior:** (e.g., Lead, Director, Head, Executive) -  Demonstrates significant experience, leadership, and strategic thinking.\n",
      "*   **Experienced:** (e.g., Experienced, Senior-Experienced) - Significant experience, usually requiring more independent problem-solving and leadership.\n",
      "*   **Mid-Level:** (e.g., Mid-Level Manager, Specialist) -  A good balance of experience and skill, capable of handling a wider range of tasks.\n",
      "*   **Senior Associate:** (e.g., Senior Associate, Director) - A higher-level position with expanded responsibilities and strategic oversight.\n",
      "*   **Executive:** (e.g., Executive Assistant, Executive Director) - Leads and manages a team or organization, with substantial decision-making authority.\n",
      "*   **Other:** (e.g., 4th Year Apprentice, 2nd Year Apprentice) -  For roles requiring specific training and a more foundational understanding.\n",
      "\n",
      "\n",
      "**To help me best categorize a job description, please provide it!** I'm ready to begin as soon as you give me the text.\n",
      "\n",
      "RB step 2: Okay, excellent question! Recognizing patterns in job descriptions is crucial for accurate seniority labeling. Here’s a breakdown of common phrases and patterns that strongly suggest a specific seniority level, categorized for clarity:\n",
      "\n",
      "**1. Leadership & Decision-Making Focus:**\n",
      "\n",
      "*   **“Responsible for…”**: Almost always signals a leadership role – “Responsible for leading a team,” “Responsible for strategic planning.”\n",
      "*   **“Manage…”**: Indicates management responsibilities – “Manages a team of…” “Oversees…” “Leads…”\n",
      "*   **“Develops…”**: Suggests strategic planning and initiative – “Develops strategies,” “Leads initiatives.”\n",
      "*   **“Makes Decisions…”**:  Explicitly states the need for decision-making – “Makes key decisions,” “Requires strategic judgment.”\n",
      "*   **“Influences…”**: Indicates the ability to impact others – “Influences stakeholders,” “Provides guidance to…”\n",
      "\n",
      "**2. Responsibility & Scope:**\n",
      "\n",
      "*   **“Reports to…”**:  A clear reporting structure – \"Reports to the Director,\" \"Reports to the Head.\"\n",
      "*   **“Manages…”**: Common phrase indicating a range of responsibilities – “Manages projects,” “Manages budgets.”\n",
      "*   **“Requires…”**: Indicates a significant workload or complexity – \"Requires strong organizational skills,\" “Requires detailed analysis.”\n",
      "*   **“Works with…”**: Suggests collaboration with others – \"Works with cross-functional teams,\" \"Works with external partners.\"\n",
      "*   **\"Owns…”**: Implies ownership of a significant area – \"Owns the product roadmap,” “Owns key client relationships.”\n",
      "\n",
      "**3. Technical & Skill-Based:**\n",
      "\n",
      "*   **“Needs…”**: Often a requirement for specific skills – “Needs experience with…” “Needs strong analytical skills.”\n",
      "*   **“Utilizes…”**: Highlights the use of specialized tools or methodologies – “Utilizes Agile methodologies,” “Utilizes CRM software.”\n",
      "*   **“Maintains…”**: Indicates ongoing responsibilities – \"Maintains data integrity,\" “Maintains project timelines.”\n",
      "*   **“Technical Expertise…”**: Directly states the required skill set - \"Requires 5+ years of experience with…\"\n",
      "\n",
      "**4.  Progression & Development:**\n",
      "\n",
      "*   **“Promotes…”**: Indicates advancement opportunities – “Promoted to Senior,” “Opportunities for advancement.”\n",
      "*   **“Mentors…”**:  Suggests leadership and training – “Mentors junior team members,” “Responsible for developing talent.”\n",
      "*   **“Conducts…”**: Implies a managerial or analytical role - “Conducts market research,” “Conducts performance reviews.”\n",
      "\n",
      "**5.  Formal Titles & Levels:**\n",
      "\n",
      "*   **“Director”**: Often signals a senior management role - \"Director of Marketing,\" \"Director of Operations.\"\n",
      "*   **“Lead”**:  Implies leading a team or project - “Lead Sales Team,” “Lead Marketing Campaign.”\n",
      "*   **“Senior”**: A general indication of a higher level - “Senior Engineer,” “Senior Analyst.”\n",
      "\n",
      "**Important Note:** These patterns are *indicators*, not guarantees.  A job description could use a phrase without explicitly stating seniority, but still subtly hint at a higher level.\n",
      "\n",
      "To help me refine my analysis, could you share a job description that you'd like me to categorize?\n",
      "\n",
      "Fewshot examples added\n",
      "\n"
     ]
    }
   ],
   "source": [
    "messages_static = RBIC_static_messages(verbose=True, add_fewshot=True)"
   ]
  },
  {
   "cell_type": "code",
   "execution_count": 17,
   "metadata": {
    "colab": {
     "base_uri": "https://localhost:8080/"
    },
    "id": "63XWt1d3e1DH",
    "outputId": "d674d9a7-a086-4c5b-8ebb-de28ffd0ebb2",
    "tags": []
   },
   "outputs": [
    {
     "name": "stdout",
     "output_type": "stream",
     "text": [
      "len of messages_static 15\n",
      "IC step 1: yes\n",
      "\n",
      "IC step 2: ```json\n",
      "{\"Clue\": \"Responsible for…”\\xa0Manage…”\\xa0Makes Decisions…”\\xa0Develops…”\\xa0Influences…”\\xa0Leads…”\\xa0Utilizes…”\\xa0Owns…”\\xa0Works with…”\\xa0Maintains…”\\xa0Develops strategies”\\xa0Supports team”\\xa0Provides guidance to”\\xa0Conducts”\\xa0Applies lean thinking”\\xa0Demonstrates leadership”\\xa0Utilizes ISO 9001”\\xa0Spearheads”\\xa0Leading and inspiring”\\xa0Oversees”\\xa0Covers”\\xa0Developing policies”\\xa0Ensuring systems”\\xa0Monitoring”\\xa0Advices”\\xa0Investigates”\\xa0Develops strategy”}\n",
      "```\n",
      "\n",
      "IC step 3 (Final): Senior\n",
      "\n",
      "IC step 3 (Final Raw): {\"seniority_label\": \"Senior\"}\n",
      "\n",
      "pred = Senior\n",
      "truth = senior\n"
     ]
    }
   ],
   "source": [
    "ind = 28\n",
    "\n",
    "#[2081,1,5,12,3]\n",
    "\n",
    "desc = {\n",
    "    \"job_title\": train_df.iloc[ind].job_title,\n",
    "    \"job_summary\": train_df.iloc[ind].job_summary,\n",
    "    \"job_ad_details\": train_df.iloc[ind].job_ad_details,\n",
    "    \"classification_name\": train_df.iloc[ind].classification_name,\n",
    "    \"subclassification_name\": train_df.iloc[ind].subclassification_name,\n",
    "  }\n",
    "desc_str = str(desc)\n",
    "\n",
    "label = train_df.iloc[ind].y_true\n",
    "label_str = str(label)\n",
    "\n",
    "print(f\"len of messages_static {len(messages_static)}\")\n",
    "label_pred = RBIC(messages_static, desc_str, verbose=True)\n",
    "\n",
    "\n",
    "print(f\"pred = {label_pred}\")\n",
    "print(f\"truth = {label_str}\")"
   ]
  },
  {
   "cell_type": "markdown",
   "metadata": {
    "id": "U2QyVlqCw5i0",
    "tags": []
   },
   "source": [
    "### Quantitative Tests"
   ]
  },
  {
   "cell_type": "code",
   "execution_count": 18,
   "metadata": {
    "id": "E4gl8vRKBms8",
    "tags": []
   },
   "outputs": [],
   "source": [
    "# df to store model predictions\n",
    "test_pred_df = pd.DataFrame(columns=[\"y_pred\"])"
   ]
  },
  {
   "cell_type": "code",
   "execution_count": 19,
   "metadata": {
    "colab": {
     "base_uri": "https://localhost:8080/",
     "height": 89
    },
    "id": "U3qCaPABxoiR",
    "outputId": "b86ae745-e7c5-4fab-e332-18576a8c2689",
    "tags": []
   },
   "outputs": [
    {
     "data": {
      "text/html": [
       "<div>\n",
       "<style scoped>\n",
       "    .dataframe tbody tr th:only-of-type {\n",
       "        vertical-align: middle;\n",
       "    }\n",
       "\n",
       "    .dataframe tbody tr th {\n",
       "        vertical-align: top;\n",
       "    }\n",
       "\n",
       "    .dataframe thead th {\n",
       "        text-align: right;\n",
       "    }\n",
       "</style>\n",
       "<table border=\"1\" class=\"dataframe\">\n",
       "  <thead>\n",
       "    <tr style=\"text-align: right;\">\n",
       "      <th></th>\n",
       "      <th>y_pred</th>\n",
       "    </tr>\n",
       "  </thead>\n",
       "  <tbody>\n",
       "  </tbody>\n",
       "</table>\n",
       "</div>"
      ],
      "text/plain": [
       "Empty DataFrame\n",
       "Columns: [y_pred]\n",
       "Index: []"
      ]
     },
     "execution_count": 19,
     "metadata": {},
     "output_type": "execute_result"
    }
   ],
   "source": [
    "test_pred_df"
   ]
  },
  {
   "cell_type": "code",
   "execution_count": 20,
   "metadata": {
    "colab": {
     "base_uri": "https://localhost:8080/"
    },
    "id": "4wjKCfK0BI8Q",
    "outputId": "1d342f04-0ce2-4259-b887-909fcc3efa05",
    "tags": []
   },
   "outputs": [
    {
     "name": "stderr",
     "output_type": "stream",
     "text": [
      "  0%|          | 1/689 [00:01<22:07,  1.93s/it]"
     ]
    },
    {
     "name": "stdout",
     "output_type": "stream",
     "text": [
      "Failed to parse model output: {\"Clue\": \"Senior\"}\n"
     ]
    },
    {
     "name": "stderr",
     "output_type": "stream",
     "text": [
      "You seem to be using the pipelines sequentially on GPU. In order to maximize efficiency please use a dataset\n",
      " 15%|█▍        | 103/689 [05:16<24:03,  2.46s/it] "
     ]
    },
    {
     "name": "stdout",
     "output_type": "stream",
     "text": [
      "Failed to parse model output: {\"Clue\": \"Yes\"}\n"
     ]
    },
    {
     "name": "stderr",
     "output_type": "stream",
     "text": [
      " 25%|██▌       | 173/689 [08:50<23:52,  2.78s/it]"
     ]
    },
    {
     "name": "stdout",
     "output_type": "stream",
     "text": [
      "Failed to parse model output: {\"Clue\": \"Senior\"}\n"
     ]
    },
    {
     "name": "stderr",
     "output_type": "stream",
     "text": [
      " 37%|███▋      | 258/689 [14:50<20:36,  2.87s/it]  "
     ]
    },
    {
     "name": "stdout",
     "output_type": "stream",
     "text": [
      "Failed to parse model output: {\"Clue\": \"Senior\"}\n"
     ]
    },
    {
     "name": "stderr",
     "output_type": "stream",
     "text": [
      " 46%|████▌     | 315/689 [18:17<1:32:57, 14.91s/it]"
     ]
    },
    {
     "name": "stdout",
     "output_type": "stream",
     "text": [
      "Failed to parse model output: Senior\n"
     ]
    },
    {
     "name": "stderr",
     "output_type": "stream",
     "text": [
      " 59%|█████▉    | 407/689 [24:48<12:34,  2.68s/it]  "
     ]
    },
    {
     "name": "stdout",
     "output_type": "stream",
     "text": [
      "Failed to parse model output: {\"Clue\": \"senior\"}\n"
     ]
    },
    {
     "name": "stderr",
     "output_type": "stream",
     "text": [
      " 69%|██████▉   | 475/689 [29:19<10:25,  2.92s/it]"
     ]
    },
    {
     "name": "stdout",
     "output_type": "stream",
     "text": [
      "Failed to parse model output: {\"Clue\": \"Senior\"}\n"
     ]
    },
    {
     "name": "stderr",
     "output_type": "stream",
     "text": [
      " 75%|███████▌  | 518/689 [31:59<07:41,  2.70s/it]"
     ]
    },
    {
     "name": "stdout",
     "output_type": "stream",
     "text": [
      "Failed to parse model output: {\"Clue\": \"Senior\"}\n"
     ]
    },
    {
     "name": "stderr",
     "output_type": "stream",
     "text": [
      " 81%|████████  | 556/689 [34:13<05:11,  2.35s/it]"
     ]
    },
    {
     "name": "stdout",
     "output_type": "stream",
     "text": [
      "Failed to parse model output: {\"Clue\": \"Senior\"}\n"
     ]
    },
    {
     "name": "stderr",
     "output_type": "stream",
     "text": [
      " 87%|████████▋ | 600/689 [37:21<21:28, 14.48s/it]"
     ]
    },
    {
     "name": "stdout",
     "output_type": "stream",
     "text": [
      "Failed to parse model output: Okay, please provide the text of the job description. I need the text to extract the seniority information and construct the JSON output.\n"
     ]
    },
    {
     "name": "stderr",
     "output_type": "stream",
     "text": [
      "100%|██████████| 689/689 [43:33<00:00,  3.79s/it]\n"
     ]
    }
   ],
   "source": [
    "for i in tqdm(range(len(test_df))):\n",
    "    desc = {\n",
    "        \"job_title\": test_df.iloc[i].job_title,\n",
    "        \"job_summary\": test_df.iloc[i].job_summary,\n",
    "        \"job_ad_details\": test_df.iloc[i].job_ad_details,\n",
    "        \"classification_name\": test_df.iloc[i].classification_name,\n",
    "        \"subclassification_name\": test_df.iloc[i].subclassification_name,\n",
    "    }\n",
    "    desc_str = str(desc)\n",
    "\n",
    "    label = test_df.iloc[i].y_true\n",
    "    label_str = str(label)\n",
    "\n",
    "    label_pred = RBIC(messages_static, desc_str)\n",
    "\n",
    "    test_pred_df.loc[len(test_pred_df)] = label_pred.lower()\n",
    "\n",
    "# export the dataframe to a new csv file\n",
    "test_pred_df.to_csv('seniority_labelled_test_set_gemma3_rbic_fewshot_preds.csv', index=False)"
   ]
  },
  {
   "cell_type": "markdown",
   "metadata": {
    "tags": []
   },
   "source": [
    "# No few-shot"
   ]
  },
  {
   "cell_type": "code",
   "execution_count": 21,
   "metadata": {
    "id": "fb-hnHhHdhPW",
    "tags": []
   },
   "outputs": [
    {
     "name": "stdout",
     "output_type": "stream",
     "text": [
      "RB step 1: Okay, I understand. I'm ready to analyze job descriptions and infer seniority levels based on the provided labels.\n",
      "\n",
      "**Here's a brief explanation of seniority:**\n",
      "\n",
      "Seniority, in the context of job roles, refers to an individual's level of experience, responsibility, and influence within an organization. It’s often a subjective measure, but generally implies a higher level of expertise, leadership, and decision-making authority. It’s a way of ranking individuals based on their accomplishments and contributions.\n",
      "\n",
      "**Here’s a breakdown of the seniority levels I’m expecting to recognize:**\n",
      "\n",
      "I’ll be looking for a combination of:\n",
      "\n",
      "*   **Experience:**  A significant amount of relevant work experience (years, projects, responsibilities).\n",
      "*   **Responsibility:**  The scope of tasks they oversee, the level of strategic impact their work has.\n",
      "*   **Leadership:**  Ability to guide, mentor, and influence others.\n",
      "*   **Technical Expertise:**  Depth of knowledge and skill in their field.\n",
      "*   **Decision-Making:**  The ability to make critical decisions independently.\n",
      "\n",
      "**What kind of labels do I look for?**\n",
      "\n",
      "I'll be actively searching for the following in the job description:\n",
      "\n",
      "*   **Senior/Lead:** (Often a core designation)\n",
      "*   **Head/Director/Executive:** (Highest level of authority)\n",
      "*   **Assistant/Associate:** (Typically entry-level, with significant learning potential)\n",
      "*   **Intermediate/Senior:** (A common progression)\n",
      "*   **Specialist/Expert:** (Demonstrates deep knowledge)\n",
      "*   **Manager/Supervisor:** (Responsible for teams/projects)\n",
      "*   **2nd-in-command/Junior-Intermediate:** (Signals a higher level of responsibility)\n",
      "*   **Level 2/3:** (A stepping stone between basic and advanced)\n",
      "*   **Titles like \"Owner\", \"Principal\", \"Chief\"**:  These usually indicate a higher level of responsibility and decision-making.\n",
      "\n",
      "**Important Note:**  I'll need to rely on the textual content of the job description to determine the appropriate seniority level. \n",
      "\n",
      "**To help me best, please provide me with the job descriptions you want me to analyze!**  I'm ready when you are.\n",
      "\n",
      "RB step 2: Okay, excellent question! Recognizing patterns is key to accurately inferring seniority. Here’s a breakdown of common phrases and patterns that strongly suggest a higher level of seniority in a job description, categorized for clarity:\n",
      "\n",
      "**1. Explicit Seniority Claims:**\n",
      "\n",
      "*   **“Lead”/“Senior Lead”:** This is a very direct signal.\n",
      "*   **“Responsible for”/“Manage”/“Oversee”:** These phrases often correlate with higher responsibilities.\n",
      "*   **“Direct Reports”/“Team Lead”:** Indicates leadership within a team.\n",
      "*   **“Strategic”/“Business-Critical”:** Suggests the role is vital to the company’s core objectives.\n",
      "*   **“Develop”/“Implement”:**  Highlights the role's capacity for shaping strategies.\n",
      "\n",
      "**2. Demonstrating Experience & Accomplishments:**\n",
      "\n",
      "*   **“Proven ability to…” / “Experience with…”:** Phrases showcasing successful track record.\n",
      "*   **“Managed”/“Led”/“Directed”:**  Strong indicators of leadership and management responsibility.\n",
      "*   **“Achieved”/“Exceeded”:**  Quantifiable results – a key element of seniority.\n",
      "*   **“Increased”/“Reduced”/“Improved”:**  Showing positive impact.\n",
      "*   **“Successfully completed”:**  Highlights a track record of completing projects.\n",
      "\n",
      "**3. Technical Depth & Expertise:**\n",
      "\n",
      "*   **“Deep understanding of…” / “Expertise in…”:**  Implies a strong knowledge base.\n",
      "*   **“Technical Skills” / “Software Proficiency” / “Data Analysis”:**  Specifies required technical abilities.\n",
      "*   **“Problem-solving” / “Analytical” / “Strategic thinking”:** Shows critical skillsets.\n",
      "\n",
      "**4.  Organizational & Policy-Driven Titles:**\n",
      "\n",
      "*   **“Reports to” / “Working under”:** Indicates a hierarchical reporting structure.\n",
      "*   **“Compliance” / “Regulatory”:**  Suggests a role involving adherence to standards.\n",
      "*   **“Budget Management” / “Financial Analysis”:** Indicates a significant budgetary component.\n",
      "\n",
      "**5.  Descriptive Language (Can be nuanced):**\n",
      "\n",
      "*   **“Influential”:** Suggests a strong impact on decision-making.\n",
      "*   **“Collaborative” / “Cross-functional”:**  Indicates working with others.\n",
      "*   **“Results-oriented”:**  Highlights a focus on outcomes.\n",
      "\n",
      "**6.  Action Verbs & Tone:**\n",
      "\n",
      "*   The overall tone of the description – often uses active verbs like “lead,” “manage,” “implement,” “develop,” “analyze” – reinforces the seniority level.\n",
      "\n",
      "**Important Caveats:**\n",
      "\n",
      "*   **Context is crucial:** A phrase alone doesn't guarantee seniority. It needs to be considered alongside the overall context of the job description.\n",
      "*   **Industry Variations:**  The prominence of these phrases can vary considerably across industries.\n",
      "\n",
      "To help me refine my analysis, could you share a few job descriptions you'd like me to examine?\n",
      "\n"
     ]
    }
   ],
   "source": [
    "messages_static = RBIC_static_messages(verbose=True, add_fewshot=False)"
   ]
  },
  {
   "cell_type": "code",
   "execution_count": 22,
   "metadata": {
    "tags": []
   },
   "outputs": [
    {
     "data": {
      "text/html": [
       "<div>\n",
       "<style scoped>\n",
       "    .dataframe tbody tr th:only-of-type {\n",
       "        vertical-align: middle;\n",
       "    }\n",
       "\n",
       "    .dataframe tbody tr th {\n",
       "        vertical-align: top;\n",
       "    }\n",
       "\n",
       "    .dataframe thead th {\n",
       "        text-align: right;\n",
       "    }\n",
       "</style>\n",
       "<table border=\"1\" class=\"dataframe\">\n",
       "  <thead>\n",
       "    <tr style=\"text-align: right;\">\n",
       "      <th></th>\n",
       "      <th>y_pred</th>\n",
       "    </tr>\n",
       "  </thead>\n",
       "  <tbody>\n",
       "  </tbody>\n",
       "</table>\n",
       "</div>"
      ],
      "text/plain": [
       "Empty DataFrame\n",
       "Columns: [y_pred]\n",
       "Index: []"
      ]
     },
     "execution_count": 22,
     "metadata": {},
     "output_type": "execute_result"
    }
   ],
   "source": [
    "# df to store model predictions\n",
    "test_pred_df = pd.DataFrame(columns=[\"y_pred\"])\n",
    "test_pred_df"
   ]
  },
  {
   "cell_type": "code",
   "execution_count": 23,
   "metadata": {
    "tags": []
   },
   "outputs": [
    {
     "name": "stderr",
     "output_type": "stream",
     "text": [
      " 91%|█████████ | 627/689 [1:04:33<10:52, 10.52s/it]"
     ]
    },
    {
     "name": "stdout",
     "output_type": "stream",
     "text": [
      "Failed to parse model output: Please provide me with the text from the job description! I need the text to extract the seniority-related phrases and generate the JSON structure.\n"
     ]
    },
    {
     "name": "stderr",
     "output_type": "stream",
     "text": [
      "100%|██████████| 689/689 [1:11:17<00:00,  6.21s/it]\n"
     ]
    }
   ],
   "source": [
    "for i in tqdm(range(len(test_df))):\n",
    "    desc = {\n",
    "        \"job_title\": test_df.iloc[i].job_title,\n",
    "        \"job_summary\": test_df.iloc[i].job_summary,\n",
    "        \"job_ad_details\": test_df.iloc[i].job_ad_details,\n",
    "        \"classification_name\": test_df.iloc[i].classification_name,\n",
    "        \"subclassification_name\": test_df.iloc[i].subclassification_name,\n",
    "    }\n",
    "    desc_str = str(desc)\n",
    "\n",
    "    label = test_df.iloc[i].y_true\n",
    "    label_str = str(label)\n",
    "\n",
    "    label_pred = RBIC(messages_static, desc_str)\n",
    "\n",
    "    test_pred_df.loc[len(test_pred_df)] = label_pred.lower()\n",
    "    \n",
    "test_pred_df.to_csv('seniority_labelled_test_set_gemma3_rbic_preds.csv', index=False)"
   ]
  },
  {
   "cell_type": "markdown",
   "metadata": {},
   "source": [
    "# Regular prompting"
   ]
  },
  {
   "cell_type": "code",
   "execution_count": 24,
   "metadata": {
    "tags": []
   },
   "outputs": [],
   "source": [
    "# df to store model predictions\n",
    "test_pred_df = pd.DataFrame(columns=[\"y_pred\"])"
   ]
  },
  {
   "cell_type": "code",
   "execution_count": 25,
   "metadata": {
    "tags": []
   },
   "outputs": [],
   "source": [
    "messages_static = [\n",
    "    {\"role\": \"system\", \"content\": \"You are an expert job ad annotator. Your task is to infer the seniority information from job descriptions. The seniority label may be present in the set: [intermediate, senior, lead, head, experienced, entry-level, executive, assistant, senior/lead, deputy, director, trainee, associate, graduate, junior, general-manager, coordinator, student, chief, principal, apprentice, qualified, entry-level to intermediate, senior associate, standard, senior assistant, specialist, mid-level, entry level assistant, experienced assistant, manager, graduate/junior, independent, 1st year apprentice, senior-executive, junior assistant, assistant manager, supervisor, second-in-command, associate director, board, 4th year apprentice, mid-senior, regional head, middle-management, advanced, 2nd year apprentice, intermediate apprentice, level 2, assistant head, owner, post-doctoral, owner-operator, middle management, senior head, assistant director, junior-intermediate, sous, intermediate to senior, senior executive] . If not present in the set, then create a label.\"},\n",
    "]"
   ]
  },
  {
   "cell_type": "code",
   "execution_count": 26,
   "metadata": {
    "tags": []
   },
   "outputs": [
    {
     "name": "stderr",
     "output_type": "stream",
     "text": [
      "100%|██████████| 689/689 [07:55<00:00,  1.45it/s]\n"
     ]
    }
   ],
   "source": [
    "for i in tqdm(range(len(test_df))):\n",
    "    desc = {\n",
    "      \"job_title\": test_df.iloc[i].job_title,\n",
    "      \"job_summary\": test_df.iloc[i].job_summary,\n",
    "      \"job_ad_details\": test_df.iloc[i].job_ad_details,\n",
    "      \"classification_name\": test_df.iloc[i].classification_name,\n",
    "      \"subclassification_name\": test_df.iloc[i].subclassification_name\n",
    "    }\n",
    "    desc_str = str(desc)\n",
    "\n",
    "    messages = copy.deepcopy(messages_static)\n",
    "    messages.append({\n",
    "        \"role\": \"user\",\n",
    "        \"content\": (\n",
    "            f\"{desc_str} Extract seniority label from this job description. The seniority label may be present in the set: [intermediate, senior, lead, head, experienced, entry-level, executive, assistant, senior/lead, deputy, director, trainee, associate, graduate, junior, general-manager, coordinator, student, chief, principal, apprentice, qualified, entry-level to intermediate, senior associate, standard, senior assistant, specialist, mid-level, entry level assistant, experienced assistant, manager, graduate/junior, independent, 1st year apprentice, senior-executive, junior assistant, assistant manager, supervisor, second-in-command, associate director, board, 4th year apprentice, mid-senior, regional head, middle-management, advanced, 2nd year apprentice, intermediate apprentice, level 2, assistant head, owner, post-doctoral, owner-operator, middle management, senior head, assistant director, junior-intermediate, sous, intermediate to senior, senior executive] . If not present in the set, then create a label. \"\n",
    "            \"Respond in JSON: {\\\"seniority_label\\\": \\\"\\\"}.\"\n",
    "        )\n",
    "    })\n",
    "    \n",
    "    response = pipe(messages, max_new_tokens=1000)\n",
    "    answer_str = response[0][\"generated_text\"][-1][\"content\"]\n",
    "\n",
    "    # format and print the output\n",
    "    try:\n",
    "        answer_str_ = answer_str[answer_str.find('{'):answer_str.find('}') + 1]\n",
    "        answer_str_ = answer_str_.replace('“', '\"')\n",
    "        answer_str_ = answer_str_.replace('”', '\"')\n",
    "        answer = json.loads(answer_str_)\n",
    "        \n",
    "        if 'seniority_label' in answer:\n",
    "            label = answer['seniority_label']\n",
    "        else:\n",
    "            print(f\"Failed to parse model output: {answer_str}\")\n",
    "            label = \"ERROR \" + answer_str\n",
    "    except json.JSONDecodeError:\n",
    "        print(f\"Failed to parse model output: {answer_str}\")\n",
    "        label = \"ERROR \" + answer_str\n",
    "\n",
    "    if type(label) == list:\n",
    "        label = '/'.join(label)\n",
    "    test_pred_df.loc[len(test_pred_df)] = label.lower()\n",
    "\n",
    "# export the dataframe to a new csv file\n",
    "test_pred_df.to_csv('seniority_labelled_test_set_gemma3_preds.csv', index=False)"
   ]
  },
  {
   "cell_type": "markdown",
   "metadata": {},
   "source": [
    "# Metrics"
   ]
  },
  {
   "cell_type": "code",
   "execution_count": 1,
   "metadata": {},
   "outputs": [],
   "source": [
    "import json\n",
    "import string\n",
    "import pandas as pd\n",
    "import numpy as np\n",
    "import ast"
   ]
  },
  {
   "cell_type": "code",
   "execution_count": 2,
   "metadata": {},
   "outputs": [],
   "source": [
    "def categories(label):\n",
    "    lab = str(label).lower()\n",
    "    if 'entry' in lab:\n",
    "        return 'Entry'\n",
    "    elif 'junior' in lab or 'assistant' in lab:\n",
    "        return 'Junior'\n",
    "    elif 'intermediate' in lab or 'experienced' in lab or 'mid' in lab:\n",
    "        return 'Mid'\n",
    "    elif 'senior' in lab or 'lead' in lab:\n",
    "        return 'Senior'\n",
    "    elif any(x in lab for x in ['manager','director','chief','head','executive','principal']):\n",
    "        return 'Leadership'\n",
    "    else:\n",
    "        return 'Other'\n",
    "    \n",
    "def process(row):\n",
    "    if \"error\" not in row:\n",
    "        row = row.strip().lower()\n",
    "        if '[' in row and ']' in row:\n",
    "            row = ast.literal_eval(row[row.find('['):row.find(']')+1])\n",
    "            row = '/'.join(row)\n",
    "        return row\n",
    "    else:\n",
    "        row = row.strip().lower()\n",
    "        try:\n",
    "            row = row[row.find('{'):row.find('}')+1]\n",
    "            row_data = json.loads(row)\n",
    "        except Exception:\n",
    "            row = row[len('error'):]\n",
    "            row = row.translate(str.maketrans('', '', string.punctuation))\n",
    "            row = row.strip()\n",
    "            if len(row.split(' ')) == 1:\n",
    "                return row\n",
    "            return row\n",
    "        row_data = row_data['clue'] #if 'clue' in row_data else \n",
    "        if row_data == 'yes':\n",
    "            return \"\"\n",
    "        return row_data\n",
    "\n",
    "def get_accuracy(path_to_preds):\n",
    "    preds = pd.read_csv(path_to_preds)\n",
    "    test_df = pd.read_csv('data/seniority_labelled_test_set_cleaned.csv')\n",
    "    \n",
    "    test_df['y_pred'] = preds.values.reshape(-1)\n",
    "    test_df = test_df.fillna('')\n",
    "    \n",
    "    test_df['y_pred'] = test_df['y_pred'].map(process)\n",
    "    test_df['y_true'] = test_df['y_true'].map(process)\n",
    "    \n",
    "    test_df['y_pred_cat'] = test_df['y_pred'].map(categories)\n",
    "    test_df['y_true_cat'] = test_df['y_true'].map(categories)\n",
    "    \n",
    "    exact = (test_df['y_pred'] == test_df['y_true']).mean() * 100\n",
    "    cat = ((test_df['y_pred'] != test_df['y_true']) & (test_df['y_pred_cat'] == test_df['y_true_cat'])).mean() * 100\n",
    "    overall = ((test_df['y_pred'] == test_df['y_true']) | (test_df['y_pred_cat'] == test_df['y_true_cat'])).mean() * 100\n",
    "    \n",
    "    exact_count = (test_df['y_pred'] == test_df['y_true']).sum()\n",
    "    cat_count = ((test_df['y_pred'] != test_df['y_true']) & (test_df['y_pred_cat'] == test_df['y_true_cat'])).sum()\n",
    "    overall_count = ((test_df['y_pred'] == test_df['y_true']) | (test_df['y_pred_cat'] == test_df['y_true_cat'])).sum()\n",
    "    \n",
    "    print(f'Exact: {exact_count}/{test_df.shape[0]}')\n",
    "    print(f'Similar: {cat_count}/{test_df.shape[0]}')\n",
    "    print(f'Overall: {overall_count}/{test_df.shape[0]}')\n",
    "    \n",
    "    res = pd.DataFrame(\n",
    "        {\n",
    "            'Exact': round(exact, 2),\n",
    "            'Similar': round(cat, 2),\n",
    "            'Overall': round(overall, 2),\n",
    "        },\n",
    "        index=['Accuracy (%)']\n",
    "    )\n",
    "    \n",
    "    return res"
   ]
  },
  {
   "cell_type": "code",
   "execution_count": 3,
   "metadata": {},
   "outputs": [
    {
     "name": "stdout",
     "output_type": "stream",
     "text": [
      "Exact: 142/689\n",
      "Similar: 76/689\n",
      "Overall: 218/689\n"
     ]
    },
    {
     "data": {
      "text/html": [
       "<div>\n",
       "<style scoped>\n",
       "    .dataframe tbody tr th:only-of-type {\n",
       "        vertical-align: middle;\n",
       "    }\n",
       "\n",
       "    .dataframe tbody tr th {\n",
       "        vertical-align: top;\n",
       "    }\n",
       "\n",
       "    .dataframe thead th {\n",
       "        text-align: right;\n",
       "    }\n",
       "</style>\n",
       "<table border=\"1\" class=\"dataframe\">\n",
       "  <thead>\n",
       "    <tr style=\"text-align: right;\">\n",
       "      <th></th>\n",
       "      <th>Exact</th>\n",
       "      <th>Similar</th>\n",
       "      <th>Overall</th>\n",
       "    </tr>\n",
       "  </thead>\n",
       "  <tbody>\n",
       "    <tr>\n",
       "      <th>Accuracy (%)</th>\n",
       "      <td>20.61</td>\n",
       "      <td>11.03</td>\n",
       "      <td>31.64</td>\n",
       "    </tr>\n",
       "  </tbody>\n",
       "</table>\n",
       "</div>"
      ],
      "text/plain": [
       "              Exact  Similar  Overall\n",
       "Accuracy (%)  20.61    11.03    31.64"
      ]
     },
     "execution_count": 3,
     "metadata": {},
     "output_type": "execute_result"
    }
   ],
   "source": [
    "path_to_preds = 'seniority_labelled_test_set_gemma3_rbic_fewshot_preds.csv'\n",
    "get_accuracy(path_to_preds)"
   ]
  },
  {
   "cell_type": "code",
   "execution_count": 4,
   "metadata": {},
   "outputs": [
    {
     "name": "stdout",
     "output_type": "stream",
     "text": [
      "Exact: 122/689\n",
      "Similar: 114/689\n",
      "Overall: 236/689\n"
     ]
    },
    {
     "data": {
      "text/html": [
       "<div>\n",
       "<style scoped>\n",
       "    .dataframe tbody tr th:only-of-type {\n",
       "        vertical-align: middle;\n",
       "    }\n",
       "\n",
       "    .dataframe tbody tr th {\n",
       "        vertical-align: top;\n",
       "    }\n",
       "\n",
       "    .dataframe thead th {\n",
       "        text-align: right;\n",
       "    }\n",
       "</style>\n",
       "<table border=\"1\" class=\"dataframe\">\n",
       "  <thead>\n",
       "    <tr style=\"text-align: right;\">\n",
       "      <th></th>\n",
       "      <th>Exact</th>\n",
       "      <th>Similar</th>\n",
       "      <th>Overall</th>\n",
       "    </tr>\n",
       "  </thead>\n",
       "  <tbody>\n",
       "    <tr>\n",
       "      <th>Accuracy (%)</th>\n",
       "      <td>17.71</td>\n",
       "      <td>16.55</td>\n",
       "      <td>34.25</td>\n",
       "    </tr>\n",
       "  </tbody>\n",
       "</table>\n",
       "</div>"
      ],
      "text/plain": [
       "              Exact  Similar  Overall\n",
       "Accuracy (%)  17.71    16.55    34.25"
      ]
     },
     "execution_count": 4,
     "metadata": {},
     "output_type": "execute_result"
    }
   ],
   "source": [
    "path_to_preds = 'seniority_labelled_test_set_gemma3_rbic_preds.csv'\n",
    "get_accuracy(path_to_preds)"
   ]
  },
  {
   "cell_type": "code",
   "execution_count": 5,
   "metadata": {},
   "outputs": [
    {
     "name": "stdout",
     "output_type": "stream",
     "text": [
      "Exact: 158/689\n",
      "Similar: 60/689\n",
      "Overall: 218/689\n"
     ]
    },
    {
     "data": {
      "text/html": [
       "<div>\n",
       "<style scoped>\n",
       "    .dataframe tbody tr th:only-of-type {\n",
       "        vertical-align: middle;\n",
       "    }\n",
       "\n",
       "    .dataframe tbody tr th {\n",
       "        vertical-align: top;\n",
       "    }\n",
       "\n",
       "    .dataframe thead th {\n",
       "        text-align: right;\n",
       "    }\n",
       "</style>\n",
       "<table border=\"1\" class=\"dataframe\">\n",
       "  <thead>\n",
       "    <tr style=\"text-align: right;\">\n",
       "      <th></th>\n",
       "      <th>Exact</th>\n",
       "      <th>Similar</th>\n",
       "      <th>Overall</th>\n",
       "    </tr>\n",
       "  </thead>\n",
       "  <tbody>\n",
       "    <tr>\n",
       "      <th>Accuracy (%)</th>\n",
       "      <td>22.93</td>\n",
       "      <td>8.71</td>\n",
       "      <td>31.64</td>\n",
       "    </tr>\n",
       "  </tbody>\n",
       "</table>\n",
       "</div>"
      ],
      "text/plain": [
       "              Exact  Similar  Overall\n",
       "Accuracy (%)  22.93     8.71    31.64"
      ]
     },
     "execution_count": 5,
     "metadata": {},
     "output_type": "execute_result"
    }
   ],
   "source": [
    "path_to_preds = 'seniority_labelled_test_set_gemma3_preds.csv'\n",
    "get_accuracy(path_to_preds)"
   ]
  }
 ],
 "metadata": {
  "accelerator": "GPU",
  "colab": {
   "gpuType": "T4",
   "provenance": []
  },
  "kernelspec": {
   "display_name": "Python 3 (ipykernel)",
   "language": "python",
   "name": "python3"
  },
  "language_info": {
   "codemirror_mode": {
    "name": "ipython",
    "version": 3
   },
   "file_extension": ".py",
   "mimetype": "text/x-python",
   "name": "python",
   "nbconvert_exporter": "python",
   "pygments_lexer": "ipython3",
   "version": "3.9.21"
  }
 },
 "nbformat": 4,
 "nbformat_minor": 4
}
