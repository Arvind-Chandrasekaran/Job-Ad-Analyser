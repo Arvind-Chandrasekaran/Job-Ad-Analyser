{
 "cells": [
  {
   "cell_type": "markdown",
   "metadata": {
    "id": "KfXY0rMVfLPo"
   },
   "source": [
    "# Loading"
   ]
  },
  {
   "cell_type": "code",
   "execution_count": null,
   "metadata": {
    "tags": []
   },
   "outputs": [],
   "source": [
    "! pip install --upgrade transformers==4.50.1"
   ]
  },
  {
   "cell_type": "code",
   "execution_count": 2,
   "metadata": {
    "id": "ziGslr52Zr3j",
    "tags": []
   },
   "outputs": [],
   "source": [
    "import pandas as pd\n",
    "import numpy as np\n",
    "from tqdm import tqdm\n",
    "from transformers import pipeline\n",
    "import torch\n",
    "import string\n",
    "import re\n",
    "from bs4 import BeautifulSoup\n",
    "import json\n",
    "import copy\n",
    "\n",
    "from sklearn.metrics import precision_recall_fscore_support\n",
    "from sklearn.metrics import accuracy_score\n",
    "from sklearn.metrics import classification_report"
   ]
  },
  {
   "cell_type": "code",
   "execution_count": 3,
   "metadata": {
    "colab": {
     "base_uri": "https://localhost:8080/",
     "height": 290,
     "referenced_widgets": [
      "c90f9d95d9724112971633ca15a9bc17",
      "815eaca87f2947ca80d96615d282839e",
      "ecfd276855d84144b5738639d560dd13",
      "1158c5d791494d9499855467242c2afe",
      "fb996b8313df493bac9f2bf87d399333",
      "14eb1c77e7e845f99e3258f0a131cb1c",
      "b4524b58d5ea4924ac670eaa43495df4",
      "873c7b86dd074402a898e75f4c1a9d9f",
      "aa452f6697354aab9acac8d99d54d282",
      "5199350655d842b79dc58e4cf572931d",
      "704411595ee4422ba5ec2677d1d09bf2",
      "d1ba6589fd1e4d7fb72dff5945d5b584",
      "b4ed703dc2d34e958749c2fd67d7802d",
      "29f223da69eb465ea87c806021cb468b",
      "6ff94f195ba14bb2ba7029976ef73ae8",
      "f082d18974fb45e78128051e091de3d4",
      "9d4fd99da0bd46ca99a01ba4a6083ec0",
      "d537771c988c40d592555cdc9d30a3c5",
      "5d26af10ec7947069bbbe2e4228e9c29",
      "e9d0af6181f349baad80a5b418559d03",
      "af7e075217304b56a66b6c15060c0f11",
      "168d3b8fa6664c4d90c6ab12b21f14cf",
      "40700fdade18454ab4c66a05128c3318",
      "145dc132beda4065941cd208e33644b6",
      "1b22c14289584b55adddb36d43262822",
      "97b99148475644b3bfdf34f75908bdb6",
      "958e9d8b35cc48ed9d28fae0b65f2c3f",
      "de6f4730b671411fa486055ca862a30a",
      "0765a58d21d64bc8a633c135f0495d39",
      "4c542b9f7b684baba87876bbe1ddf649",
      "f3ed755eb08e474ea80e624c98ec7607",
      "0ea612f2dada409babf820a9d00413b4",
      "58c102628617430dbd870e9748a1562b",
      "6163e55a2a6e418ba011c62860e18b72",
      "f24c3813fb724acda542d07b1aaf9fbf",
      "e4ae71a066c94383bccd45162314b593",
      "ea7a7c27fca44d98923f303f070b27d3",
      "f07f8f0fec944de2b98d982cf971f27a",
      "c16b33c29b814445b3d783419abac42c",
      "9817a6d3cc454c288db17a001e704de2",
      "83c9ca2b9a8e40d48c261b6b20c53b78",
      "ae5b34887dd74a588df68478bfe6cda9",
      "9e05d0c71fb745418a746db7d4589f44",
      "0d05028ab9a641f4ba3bcb27fa01b46f",
      "621e0a27097d4b938e589fcbd077c7a4",
      "99b3bbce8009492c87ae6e86f815a8ea",
      "f8c8f920cf6649f1bd24fcedafa0cbce",
      "0e4b2a55db1f438ebb4bf9e7adb7c6d0",
      "04935fe71c6e45f7affe7618e6cf8c56",
      "9ee76928655741b5b29bc4f225998378",
      "3fbac1d570c44c60bc422539526855a1",
      "702f4210422b405ab6f146ba41449cb6",
      "9794be82692d4aa8954513b87224a66d",
      "8789c63ee6fa437cb5764cb430b0f143",
      "b820f757da7b439c8d67f44c4b85c0b3",
      "435721f0d61240debb55b9d55982edaa",
      "c073ebde4f4747ef9cde74d467f380d3",
      "f277420b3c684967a564c7f5d5774bc8",
      "cb11d9779c3346149a5b281c8cc3369b",
      "b55f9b11efc7432299bfd2bc31e8047f",
      "8338b8a8ab514cb9aa60e54ee0695713",
      "bbf07685f3e04d62b96f88edab42a5d0",
      "cac44d03666040a4bc1c6333b9136ad1",
      "c2097a7cddf14727b270f483f5cf39cd",
      "fd12a4a0d61545dca30173903feacda5",
      "c16b4bb50c64430cb913135318f7cb36",
      "38131d89a7784da3b3692e28fb2c19fd",
      "9cda9b150d3c42ff9b8894754ba64f69",
      "b0cba3cf9c314440a232789739704813",
      "84f61de0aa9e47cc9d8c1e3b30ef9003",
      "62c1e48820f248c09ed77d8519edc26d",
      "c6279d16c5e7478996c51383f9503a0c",
      "a05a84a8206f4e4f9c0b116b7bcd70f9",
      "a9d6428792564c86b805aac511381c2c",
      "9ce149a825024be78a568696de4e4175",
      "69aad4241f2247e28d822cb181319799",
      "4223d77cd9684b119740649f667d4206",
      "67a1da4e33a4492587f431d49dc98079",
      "4b83eb9995144e0b9eb57f0ebb03b106",
      "6045938926464db69ed14c39967392cf",
      "e8237f1158674661b387320d9f415db4",
      "f7640150712f4a868169b7b575573b85",
      "1d1b76b73ce942658e7f98f43f66b57e",
      "bbc83aacc44a4a14b5e93eb4234a1052",
      "926a8a0a689640afb77ec014935eda13",
      "cbd61c3d0a144de3aa5e767595d67418",
      "6e3b695d048448a8a5415a83b0e4494a",
      "39209c88852848629b72060fddefc2c7"
     ]
    },
    "id": "TIETAXxfp5Yd",
    "outputId": "a7049bdf-33e6-4864-8174-00290abcf3d8",
    "tags": []
   },
   "outputs": [
    {
     "name": "stderr",
     "output_type": "stream",
     "text": [
      "Device set to use cuda\n"
     ]
    }
   ],
   "source": [
    "pipe = pipeline(\n",
    "    \"text-generation\", model=\"google/gemma-3-1b-it\", device=\"cuda\", torch_dtype=torch.bfloat16,\n",
    "    token='' # put your HF access token here\n",
    ")"
   ]
  },
  {
   "cell_type": "markdown",
   "metadata": {
    "id": "q0oo9hKTZm2R"
   },
   "source": [
    "# Work Arrangement"
   ]
  },
  {
   "cell_type": "code",
   "execution_count": 4,
   "metadata": {
    "id": "CblLBHhhZm2S",
    "tags": []
   },
   "outputs": [],
   "source": [
    "train_df = pd.read_csv('data/work_arrangements_development_set.csv')\n",
    "test_df = pd.read_csv('data/work_arrangements_test_set.csv')"
   ]
  },
  {
   "cell_type": "code",
   "execution_count": 5,
   "metadata": {
    "colab": {
     "base_uri": "https://localhost:8080/",
     "height": 272
    },
    "id": "XrHGLvuPDgDx",
    "outputId": "667d731e-fe91-4c25-ccef-a5e2e6c24b8e",
    "tags": []
   },
   "outputs": [
    {
     "data": {
      "text/plain": [
       "id                                                 80058389\n",
       "job_ad    Job title: Tax Agent Training and Mentor Manag...\n",
       "y_true                                               Hybrid\n",
       "Name: 48, dtype: object"
      ]
     },
     "execution_count": 5,
     "metadata": {},
     "output_type": "execute_result"
    }
   ],
   "source": [
    "train_df.iloc[48]"
   ]
  },
  {
   "cell_type": "markdown",
   "metadata": {
    "id": "4za-mTXBecX8"
   },
   "source": [
    "# RBIC Functions"
   ]
  },
  {
   "cell_type": "markdown",
   "metadata": {
    "id": "_icT_CYAfeJi"
   },
   "source": [
    "### RB\n"
   ]
  },
  {
   "cell_type": "code",
   "execution_count": 6,
   "metadata": {
    "id": "485zx9H7Zw5D",
    "tags": []
   },
   "outputs": [],
   "source": [
    "#== step 1: role explanation\n",
    "def step_1():\n",
    "    messages = [\n",
    "        {\"role\": \"system\", \"content\": \"You are an expert job-ad annotator. Your job is to read a job description and classify its work arrangement into exactly one of: Remote, Hybrid, or OnSite.\"},\n",
    "        {\"role\": \"user\", \"content\": \"Based on your role, can you briefly explain what work arrangement means, and what work arrangement labels look like?\"}\n",
    "    ]\n",
    "\n",
    "    response = pipe(messages, max_new_tokens=1000)\n",
    "    messages.append(response[0][\"generated_text\"][-1])\n",
    "\n",
    "    return response[0][\"generated_text\"][-1][\"content\"], messages"
   ]
  },
  {
   "cell_type": "code",
   "execution_count": 7,
   "metadata": {
    "id": "QwpJGdGO4BV-",
    "tags": []
   },
   "outputs": [],
   "source": [
    "#== few-shot examples\n",
    "def fewshot(messages):\n",
    "    # messages.append({\n",
    "    #     \"role\": \"user\",\n",
    "    #     \"content\": \"I will provide you with some examples on how to accomplish your task\"\n",
    "    # })\n",
    "\n",
    "    # response = client.chat.completions.create(\n",
    "    #     model=model,\n",
    "    #     messages=messages\n",
    "    # )\n",
    "    # messages.append({\"role\": \"assistant\", \"content\": response.choices[0].message.content})\n",
    "\n",
    "    few_shot_indices = [20,23,36,48]\n",
    "\n",
    "    for i in few_shot_indices:\n",
    "        desc = {\n",
    "          \"job_ad\": train_df.iloc[i].job_ad\n",
    "        }\n",
    "        desc_str = str(desc)\n",
    "\n",
    "        # add the description\n",
    "        messages.append({\n",
    "          \"role\": \"user\",\n",
    "          \"content\": desc_str\n",
    "        })\n",
    "\n",
    "        label = train_df.iloc[i].y_true\n",
    "        label_str = str(label)\n",
    "\n",
    "        # add the output\n",
    "        messages.append({\n",
    "            \"role\": \"assistant\",\n",
    "            \"content\": label_str\n",
    "        })\n",
    "\n",
    "    return messages"
   ]
  },
  {
   "cell_type": "code",
   "execution_count": 8,
   "metadata": {
    "id": "zbr7XLTfmBtc",
    "tags": []
   },
   "outputs": [],
   "source": [
    "#== step 2: setting sub-task --> ask for seniority patterns\n",
    "def step_2(messages):\n",
    "    messages.append({\n",
    "        \"role\": \"user\",\n",
    "        \"content\": \"As a work arrangements classifier, what are some common phrases or patterns that indicate a work arrangements in a job description?\"\n",
    "    })\n",
    "\n",
    "    response = pipe(messages, max_new_tokens=1000)\n",
    "    messages.append(response[0][\"generated_text\"][-1])\n",
    "\n",
    "    return response[0][\"generated_text\"][-1][\"content\"], messages"
   ]
  },
  {
   "cell_type": "markdown",
   "metadata": {
    "id": "9-6MkZsUfhLi"
   },
   "source": [
    "### IC"
   ]
  },
  {
   "cell_type": "code",
   "execution_count": 9,
   "metadata": {
    "id": "f9GUkH7kmWcc",
    "tags": []
   },
   "outputs": [],
   "source": [
    "#== step 3: presence of seniority (skipped)\n",
    "def step_3(messages_static, desc_str):\n",
    "    messages = copy.deepcopy(messages_static)\n",
    "\n",
    "    messages.append({\n",
    "        \"role\": \"user\",\n",
    "        \"content\": f\"{desc_str} does this job description include any work-arrangements related information? Just respond with 'Yes' or 'No'.\"\n",
    "    })\n",
    "\n",
    "    response = pipe(messages, max_new_tokens=1000)\n",
    "    messages.append(response[0][\"generated_text\"][-1])\n",
    "\n",
    "    p3_content = response[0][\"generated_text\"][-1][\"content\"]\n",
    "\n",
    "    # clean and check the response\n",
    "    response_p3 = p3_content.translate(str.maketrans('', '', string.punctuation))\n",
    "    response_p3 = response_p3.strip().lower()[:3]\n",
    "    #print(f\"step3 messages: {len(messages)}\")\n",
    "    return response_p3, messages"
   ]
  },
  {
   "cell_type": "code",
   "execution_count": 10,
   "metadata": {
    "id": "c3rIEflSmZQG",
    "tags": []
   },
   "outputs": [],
   "source": [
    "#== step 4: iterative coaching/finding clues to prevent hallucination\n",
    "def step_4(response_p3, messages):\n",
    "    messages.append({\n",
    "        \"role\": \"user\",\n",
    "        \"content\": \"Extract the work arrangements related phrases from the text verbatim. Respond in JSON: {\\\"Clue\\\": \\\"\\\"}.\"\n",
    "    })\n",
    "\n",
    "    response = pipe(messages, max_new_tokens=1000)\n",
    "    messages.append(response[0][\"generated_text\"][-1])\n",
    "    #print(f\"step4 messages: {len(messages)}\")\n",
    "\n",
    "    return response[0][\"generated_text\"][-1][\"content\"], messages"
   ]
  },
  {
   "cell_type": "code",
   "execution_count": 11,
   "metadata": {
    "id": "rftUWb7JZwxg",
    "tags": []
   },
   "outputs": [],
   "source": [
    "#== step 5: use the clue to generate the final output\n",
    "def step_5(messages):\n",
    "    messages.append({\n",
    "        \"role\": \"user\",\n",
    "        \"content\": (\n",
    "            \"Based on the extracted work-arrangement clue and the text verbatim, return a structured work arrangements classification in the format {\\\"work_arrangements_label\\\": \\\"work arrangements classification\\\"}.\"\n",
    "            #\" Return only the json object with no extra details.\"          \n",
    "        )\n",
    "    })\n",
    "\n",
    "    response = pipe(messages, max_new_tokens=1000)\n",
    "    answer_str = response[0][\"generated_text\"][-1][\"content\"]\n",
    "    \n",
    "    # format and print the output\n",
    "    try:\n",
    "        answer_str_ = answer_str[answer_str.find('{'):answer_str.find('}') + 1]\n",
    "        answer_str_ = answer_str_.replace('“', '\"')\n",
    "        answer_str_ = answer_str_.replace('”', '\"')\n",
    "        answer = json.loads(answer_str_)\n",
    "        \n",
    "        if 'work_arrangements_label' in answer:\n",
    "            label = answer['work_arrangements_label']\n",
    "        else:\n",
    "            print(f\"Failed to parse model output: {answer_str}\")\n",
    "            label = \"ERROR \" + answer_str\n",
    "    except ...:\n",
    "        print(f\"Failed to parse model output: {answer_str}\")\n",
    "        label = \"ERROR \" + answer_str\n",
    "\n",
    "    return label, answer_str"
   ]
  },
  {
   "cell_type": "code",
   "execution_count": 12,
   "metadata": {
    "id": "MzSYBXFaS2kU",
    "tags": []
   },
   "outputs": [],
   "source": [
    "def RBIC_static_messages(verbose=False, add_fewshot=True):\n",
    "    response, messages = step_1()\n",
    "    if verbose: print(f\"RB step 1: {response}\\n\")\n",
    "\n",
    "    response, messages = step_2(messages)\n",
    "    if verbose: print(f\"RB step 2: {response}\\n\")\n",
    "\n",
    "    if add_fewshot:\n",
    "        messages = fewshot(messages)\n",
    "        if verbose: print(f\"Fewshot examples added\\n\")\n",
    "    return messages"
   ]
  },
  {
   "cell_type": "code",
   "execution_count": 13,
   "metadata": {
    "id": "QBoQh1EoTsJ2",
    "tags": []
   },
   "outputs": [],
   "source": [
    "def RBIC(messages, desc_str, verbose=False):\n",
    "    response_p3, messages_local = step_3(messages, desc_str)\n",
    "    if verbose: print(f\"IC step 1: {response_p3}\\n\")\n",
    "\n",
    "    response, messages_local = step_4(response_p3, messages_local)\n",
    "    if verbose: print(f\"IC step 2: {response}\\n\")\n",
    "\n",
    "    label, answer_str = step_5(messages_local)\n",
    "    if verbose: print(f\"IC step 3 (Final): {label}\\n\")\n",
    "    if verbose: print(f\"IC step 3 (Final Raw): {answer_str}\\n\")\n",
    "\n",
    "    return str(label)"
   ]
  },
  {
   "cell_type": "markdown",
   "metadata": {
    "id": "0KUTpN4tetFe"
   },
   "source": [
    "# Testing"
   ]
  },
  {
   "cell_type": "markdown",
   "metadata": {
    "id": "pTCP6pXsw0nd"
   },
   "source": [
    "### Qualitative Tests"
   ]
  },
  {
   "cell_type": "code",
   "execution_count": 14,
   "metadata": {
    "colab": {
     "base_uri": "https://localhost:8080/"
    },
    "id": "9-7IV-4tSnsB",
    "outputId": "7c3df295-f35a-4dfb-9919-9cf4f97c7b2f",
    "tags": []
   },
   "outputs": [
    {
     "name": "stdout",
     "output_type": "stream",
     "text": [
      "RB step 1: Okay, I’m ready! Please provide the job description. I'll do my best to accurately classify the work arrangement based on my understanding and will then briefly explain what “work arrangement” means and the labels I’ll be using. \n",
      "\n",
      "Let’s get started! 😊\n",
      "\n",
      "\n",
      "RB step 2: Okay, excellent question! As a work arrangements classifier, I’ve observed a lot of patterns in job descriptions to identify the typical arrangements. Here’s a breakdown of common phrases and patterns, categorized for clarity:\n",
      "\n",
      "**1. Remote-Focused Keywords & Phrases:**\n",
      "\n",
      "* **“Fully Remote”:** This is a very strong indicator.\n",
      "* **“Remote-First”:** Suggests the company prioritizes remote work.\n",
      "* **“Work from Home” (WFH):** Explicitly states the work location is remote.\n",
      "* **“Remote-Supported”:** Indicates the role can be performed remotely with occasional in-office support.\n",
      "* **“Location: [State/Country]”:**  Often included to specify where the work is conducted.\n",
      "* **“Flexible Schedule”:** Frequently paired with remote work.\n",
      "* **“Asynchronous Communication”:** Highlights reliance on digital tools rather than constant in-person meetings.\n",
      "* **\"Self-Directed\"** - Often used to describe a remote role requiring independence and ownership.\n",
      "\n",
      "**2. Hybrid-Focused Keywords & Phrases:**\n",
      "\n",
      "* **“Hybrid Schedule”:** Indicates a mix of remote and in-office work.\n",
      "* **“In-Office Days”:**  Specifies specific days the employee is required to be present.\n",
      "* **“Split Schedule”:**  Highlights a combination of remote and in-office work, often with defined blocks of time.\n",
      "* **“On-Site Days”:**  Indicates the employee spends a certain number of days in the office.\n",
      "* **“Commute Requirements”:**  Includes details about commuting distance and time, often a key factor in hybrid arrangements.\n",
      "\n",
      "**3. On-Site/In-Office Dominant Keywords & Phrases:**\n",
      "\n",
      "* **“On-Site”:**  The most straightforward indicator of a traditional office-based role.\n",
      "* **“On-Site Days”:**  Similar to Hybrid, but emphasizes the necessity of being in the office.\n",
      "* **“In-Office Required”:**  Clearly states that the role *requires* physical presence.\n",
      "* **“Office-Based”:** A general description of the work environment.\n",
      "\n",
      "**4.  Relationship-Focused Keywords (Often Used Alongside Other Indicators):**\n",
      "\n",
      "* **“Team Collaboration”:**  Implies a need for in-person interaction for teamwork.\n",
      "* **“Collaborative Environment”:** Similar to above.\n",
      "* **“Project-Based”:**  Frequently accompanies on-site roles.\n",
      "* **“Regular Meetings”:** Suggests scheduled face-to-face discussions.\n",
      "\n",
      "**5.  Contextual Clues (More nuanced):**\n",
      "\n",
      "* **“Travel Required”:** Indicates some level of travel is needed, sometimes for client meetings or training.\n",
      "* **“Client Interactions”:** Implies significant in-person contact with clients.\n",
      "\n",
      "**Important Notes:**\n",
      "\n",
      "* **Overlap:** Many job descriptions use a combination of these elements.\n",
      "* **Specificity:** The level of detail in the description can influence the classification.\n",
      "* **Company Culture:** Some companies prioritize specific work arrangements, influencing the label.\n",
      "\n",
      "\n",
      "---\n",
      "\n",
      "Do you want me to:\n",
      "\n",
      "*   **Provide examples based on a specific job description?** (Paste it here!)\n",
      "*   **Explain a particular pattern in more detail?**\n",
      "*   **Give you a chart summarizing these categories?**\n",
      "\n",
      "Fewshot examples added\n",
      "\n"
     ]
    }
   ],
   "source": [
    "messages_static = RBIC_static_messages(verbose=True, add_fewshot=True)"
   ]
  },
  {
   "cell_type": "code",
   "execution_count": 15,
   "metadata": {
    "colab": {
     "base_uri": "https://localhost:8080/"
    },
    "id": "63XWt1d3e1DH",
    "outputId": "d674d9a7-a086-4c5b-8ebb-de28ffd0ebb2",
    "tags": []
   },
   "outputs": [
    {
     "name": "stdout",
     "output_type": "stream",
     "text": [
      "len of messages_static 13\n",
      "IC step 1: yes\n",
      "\n",
      "IC step 2: ```json\n",
      "{\"Clue\": \"Remote\"}\n",
      "```\n",
      "\n",
      "\n",
      "IC step 3 (Final): Remote\n",
      "\n",
      "IC step 3 (Final Raw): ```json\n",
      "{\"work_arrangements_label\": \"Remote\"}\n",
      "```\n",
      "\n",
      "\n",
      "\n",
      "pred = Remote\n",
      "truth = Remote\n"
     ]
    }
   ],
   "source": [
    "ind = 2\n",
    "\n",
    "desc = {\n",
    "    \"job_ad\": test_df.iloc[ind].job_ad\n",
    "  }\n",
    "desc_str = str(desc)\n",
    "\n",
    "label = test_df.iloc[ind].y_true\n",
    "label_str = str(label)\n",
    "\n",
    "print(f\"len of messages_static {len(messages_static)}\")\n",
    "label_pred = RBIC(messages_static, desc_str, verbose=True)\n",
    "\n",
    "\n",
    "print(f\"pred = {label_pred}\")\n",
    "print(f\"truth = {label_str}\")"
   ]
  },
  {
   "cell_type": "markdown",
   "metadata": {
    "id": "U2QyVlqCw5i0"
   },
   "source": [
    "### Quantitative Tests"
   ]
  },
  {
   "cell_type": "code",
   "execution_count": 16,
   "metadata": {
    "tags": []
   },
   "outputs": [],
   "source": [
    "# df to store model predictions\n",
    "test_pred_df = pd.DataFrame(columns=[\"y_pred\"])"
   ]
  },
  {
   "cell_type": "code",
   "execution_count": 17,
   "metadata": {
    "tags": []
   },
   "outputs": [
    {
     "name": "stderr",
     "output_type": "stream",
     "text": [
      "  1%|          | 1/99 [00:01<03:15,  1.99s/it]You seem to be using the pipelines sequentially on GPU. In order to maximize efficiency please use a dataset\n",
      "100%|██████████| 99/99 [04:11<00:00,  2.54s/it]\n"
     ]
    }
   ],
   "source": [
    "for i in tqdm(range(len(test_df))):\n",
    "    desc = {\n",
    "        \"job_ad\": test_df.iloc[i].job_ad\n",
    "    }\n",
    "    desc_str = str(desc)\n",
    "\n",
    "    label = test_df.iloc[i].y_true\n",
    "    label_str = str(label)\n",
    "\n",
    "    label_pred = RBIC(messages_static, desc_str)\n",
    "\n",
    "    test_pred_df.loc[len(test_pred_df)] = label_pred\n",
    "\n",
    "# export the dataframe to a new csv file\n",
    "test_pred_df.to_csv('work_arrangements_test_set_gemma3_rbic_fewshot_preds.csv', index=False)"
   ]
  },
  {
   "cell_type": "markdown",
   "metadata": {},
   "source": [
    "# No few-shot"
   ]
  },
  {
   "cell_type": "code",
   "execution_count": 18,
   "metadata": {
    "id": "fb-hnHhHdhPW",
    "tags": []
   },
   "outputs": [
    {
     "name": "stdout",
     "output_type": "stream",
     "text": [
      "RB step 1: Okay, I understand. I’m ready to be your expert job-ad annotator! \n",
      "\n",
      "**Here’s a breakdown of what work arrangement means and the labels we use:**\n",
      "\n",
      "**What is Work Arrangement?**\n",
      "\n",
      "Work arrangement refers to *how* the work is performed. It’s about the balance between in-office presence, remote work, and potentially a combination of both. It’s a critical factor in determining the employee experience, team dynamics, and overall operational strategy.\n",
      "\n",
      "**Labels We Use:**\n",
      "\n",
      "*   **Remote:**  This designates work performed primarily outside of a traditional office setting. It typically involves working from home, co-working spaces, or other locations with minimal or no in-person presence.\n",
      "\n",
      "*   **Hybrid:** This indicates a mix of in-office and remote work. Employees typically split their time between working from home and spending time in the office, often with specific schedules or requirements.\n",
      "\n",
      "*   **OnSite:** This signifies that the work is primarily conducted within a physical office location. This usually involves a consistent in-office schedule and a primary physical workspace.\n",
      "\n",
      "\n",
      "**Let’s get started! Please provide me with the job description, and I'll do my best to classify it accurately.** 😊 \n",
      "\n",
      "To help me give you the *most* accurate classification, could you also tell me if there are any other important details you’d like me to consider, such as:\n",
      "\n",
      "*   Specific technology requirements?\n",
      "*   Required team collaboration?\n",
      "*   Industry/company culture?\n",
      "\n",
      "RB step 2: Okay, fantastic question! As a job-ad annotator, I’ve become quite adept at spotting common phrases and patterns that signal a remote, hybrid, or on-site arrangement. Here’s a breakdown of phrases and indicators I look for, categorized for clarity:\n",
      "\n",
      "**1. Remote-Specific Phrases:**\n",
      "\n",
      "*   “Fully Remote” – This is a very clear signal.\n",
      "*   “Remote-First” – Indicates the company primarily supports remote work, with occasional in-office collaboration.\n",
      "*   “Location Independence” – Suggests the ability to work from anywhere.\n",
      "*   “Work from Anywhere” – Similar to above, emphasizes the flexibility.\n",
      "*   “Outsourced Work” – Implies the role is performed remotely by an external provider.\n",
      "*   “Remote-Enabled” -  Suggests processes and tools are designed for remote collaboration.\n",
      "*   “Distributed Teams” – Indicates the team is spread across multiple locations.\n",
      "\n",
      "**2. Hybrid-Specific Phrases:**\n",
      "\n",
      "*   “Hybrid Schedule” – Clearly states a mix of remote and in-office days.\n",
      "*   “Office Days” –  Highlights specific days where in-office presence is required.\n",
      "*   “In-Office Days” –  Specifically notes the days spent in the office.\n",
      "*   “Flexible Schedule” –  Suggests some level of autonomy over work hours.\n",
      "*   “Combination Role” –  The role involves both remote and in-office responsibilities.\n",
      "*   “Remote-Supported” –  Indicates the role relies on remote tools and support.\n",
      "*   \"Team Collaboration\" - often paired with hybrid arrangements – emphasizing need for co-working or occasional meetings.\n",
      "\n",
      "**3. On-Site Phrases:**\n",
      "\n",
      "*   “On-Site” – A straightforward statement of location.\n",
      "*   “Office-Based” –  Highlights the primary workplace.\n",
      "*   “In-Person Required” –  Emphasizes the need to be physically present.\n",
      "*   “Team Meetings in the Office” –  Reinforces the in-office component.\n",
      "*   “Physical Presence Required” – A more formal way to state it.\n",
      "\n",
      "**4.  Phrases Indicating Flexibility/Choice (Regardless of Arrangement):**\n",
      "\n",
      "*   \"Flexible Work Environment\" - Suggests autonomy over where and when you work.\n",
      "*   \"Work-Life Balance\" –  Can be relevant regardless of the work arrangement, but often associated with remote roles.\n",
      "*   \"Asynchronous Communication\" – Implies reliance on digital communication rather than constant in-person interaction.\n",
      "\n",
      "\n",
      "**5.  Contextual Clues (These are *crucial*!):**\n",
      "\n",
      "*   **Company Culture:** Does the company promote remote work? Are there specific policies and guidelines?\n",
      "*   **Industry:** Certain industries (e.g., software development) often benefit from remote work more than others.\n",
      "*   **Role Description:** Does the role explicitly require on-site presence?\n",
      "\n",
      "\n",
      "**Important Note:**  Job descriptions can be subtle!  I'm looking for *patterns* and *associations* – not just isolated phrases.  A description that *prominently* uses a \"Remote\" or \"Hybrid\" label, combined with other indicators, is a strong indicator.\n",
      "\n",
      "---\n",
      "\n",
      "Do you want me to elaborate on any of these categories, or perhaps give you some examples of how I might identify a particular arrangement within a job description?\n",
      "\n"
     ]
    }
   ],
   "source": [
    "messages_static = RBIC_static_messages(verbose=True, add_fewshot=False)"
   ]
  },
  {
   "cell_type": "code",
   "execution_count": 19,
   "metadata": {
    "tags": []
   },
   "outputs": [],
   "source": [
    "# df to store model predictions\n",
    "test_pred_df = pd.DataFrame(columns=[\"y_pred\"])"
   ]
  },
  {
   "cell_type": "code",
   "execution_count": 20,
   "metadata": {
    "tags": []
   },
   "outputs": [
    {
     "name": "stderr",
     "output_type": "stream",
     "text": [
      "100%|██████████| 99/99 [11:09<00:00,  6.76s/it]\n"
     ]
    }
   ],
   "source": [
    "for i in tqdm(range(len(test_df))):\n",
    "    desc = {\n",
    "        \"job_ad\": test_df.iloc[i].job_ad\n",
    "    }\n",
    "    desc_str = str(desc)\n",
    "\n",
    "    label = test_df.iloc[i].y_true\n",
    "    label_str = str(label)\n",
    "\n",
    "    label_pred = RBIC(messages_static, desc_str)\n",
    "\n",
    "    test_pred_df.loc[len(test_pred_df)] = label_pred\n",
    "\n",
    "# export the dataframe to a new csv file\n",
    "test_pred_df.to_csv('work_arrangements_test_set_gemma3_rbic_preds.csv', index=False)"
   ]
  },
  {
   "cell_type": "markdown",
   "metadata": {},
   "source": [
    "# Regular prompting"
   ]
  },
  {
   "cell_type": "code",
   "execution_count": 21,
   "metadata": {
    "tags": []
   },
   "outputs": [],
   "source": [
    "# df to store model predictions\n",
    "test_pred_df = pd.DataFrame(columns=[\"y_pred\"])"
   ]
  },
  {
   "cell_type": "code",
   "execution_count": 22,
   "metadata": {
    "tags": []
   },
   "outputs": [],
   "source": [
    "messages_static = [\n",
    "    {\"role\": \"system\", \"content\": \"You are an expert job-ad annotator. Your job is to read a job description and classify its work arrangement into exactly one of: Remote, Hybrid, or OnSite.\"},\n",
    "]"
   ]
  },
  {
   "cell_type": "code",
   "execution_count": 23,
   "metadata": {
    "tags": []
   },
   "outputs": [
    {
     "name": "stderr",
     "output_type": "stream",
     "text": [
      "100%|██████████| 99/99 [01:10<00:00,  1.40it/s]\n"
     ]
    }
   ],
   "source": [
    "for i in tqdm(range(len(test_df))):\n",
    "    desc = {\n",
    "        \"job_ad\": test_df.iloc[i].job_ad\n",
    "    }\n",
    "    desc_str = str(desc)\n",
    "\n",
    "    messages = copy.deepcopy(messages_static)\n",
    "    messages.append({\n",
    "        \"role\": \"user\",\n",
    "        \"content\": (\n",
    "            f\"{desc_str} Extract work-arrangements information from the job ad. \"\n",
    "            \"Return a structured work-arrangements label in the format {\\\"work_arrangements_label\\\": \\\"work arrangements classification\\\"}.\"\n",
    "            #\" Return only the JSON object with no extra details.\"\n",
    "        )\n",
    "    })\n",
    "    \n",
    "    response = pipe(messages, max_new_tokens=1000)\n",
    "    answer_str = response[0][\"generated_text\"][-1][\"content\"]\n",
    "\n",
    "    # format the output\n",
    "    try:\n",
    "        answer_str_ = answer_str[answer_str.find('{'):answer_str.find('}') + 1]\n",
    "        answer_str_ = answer_str_.replace('“', '\"')\n",
    "        answer_str_ = answer_str_.replace('”', '\"')\n",
    "        answer = json.loads(answer_str_)\n",
    "        \n",
    "        if 'work_arrangements_label' in answer:\n",
    "            label = answer['work_arrangements_label']\n",
    "        else:\n",
    "            print(f\"Failed to parse model output: {answer_str}\")\n",
    "            label = \"ERROR \" + answer_str\n",
    "    except json.JSONDecodeError:\n",
    "        print(f\"Failed to parse model output as JSON: {answer_str}\")\n",
    "        label = \"ERROR \" + answer_str\n",
    "\n",
    "    test_pred_df.loc[len(test_pred_df)] = label\n",
    "\n",
    "# export the dataframe to a new csv file\n",
    "test_pred_df.to_csv('work_arrangements_test_set_gemma3_preds.csv', index=False)"
   ]
  },
  {
   "cell_type": "markdown",
   "metadata": {},
   "source": [
    "# Metrics"
   ]
  },
  {
   "cell_type": "code",
   "execution_count": 1,
   "metadata": {},
   "outputs": [],
   "source": [
    "import pandas as pd\n",
    "from sklearn.metrics import precision_recall_fscore_support\n",
    "from sklearn.metrics import accuracy_score\n",
    "from sklearn.metrics import classification_report"
   ]
  },
  {
   "cell_type": "code",
   "execution_count": 2,
   "metadata": {},
   "outputs": [],
   "source": [
    "def get_metrics(path_to_preds):\n",
    "    preds = pd.read_csv(path_to_preds)\n",
    "    test_df = pd.read_csv('data/work_arrangements_test_set.csv')\n",
    "\n",
    "    test_df['y_pred'] = preds.y_pred.values\n",
    "\n",
    "    precision, recall, f1_score, _ = precision_recall_fscore_support(\n",
    "        test_df.y_true.values, test_df.y_pred.values, labels=['Remote', 'Hybrid', 'OnSite']\n",
    "    )\n",
    "    precision_macro, recall_macro, f1_score_macro, _ = precision_recall_fscore_support(\n",
    "        test_df.y_true.values, test_df.y_pred.values, average='macro'\n",
    "    )\n",
    "    precision_micro, recall_micro, f1_score_micro, _ = precision_recall_fscore_support(\n",
    "        test_df.y_true.values, test_df.y_pred.values, average='micro'\n",
    "    )\n",
    "    precision_weighted, recall_weighted, f1_score_weighted, _ = precision_recall_fscore_support(\n",
    "        test_df.y_true.values, test_df.y_pred.values, average='weighted'\n",
    "    )\n",
    "    acc = accuracy_score(test_df.y_true.values, test_df.y_pred.values)\n",
    "    \n",
    "    print(f'Accuracy: {round(acc * 100, 1)}')\n",
    "    res = pd.DataFrame(\n",
    "        {\n",
    "                'Precision': [*[round(p * 100, 1) for p in precision], \"\", round(precision_macro * 100, 1), round(precision_weighted * 100, 1), round(precision_micro * 100, 1)],\n",
    "                'Recall': [*[round(r * 100, 1) for r in recall], \"\", round(recall_macro * 100, 1), round(recall_weighted * 100, 1), round(recall_micro * 100, 1)],\n",
    "                'F1-score': [*[round(f1 * 100, 1) for f1 in f1_score], \"\", round(f1_score_macro * 100, 1), round(f1_score_weighted * 100, 1), round(f1_score_micro * 100, 1)],\n",
    "        },\n",
    "        index=['Remote', 'Hybrid', 'OnSite', \"\", 'macro average', 'weighted average', 'micro average']\n",
    "    )\n",
    "    return res"
   ]
  },
  {
   "cell_type": "code",
   "execution_count": 3,
   "metadata": {},
   "outputs": [
    {
     "name": "stdout",
     "output_type": "stream",
     "text": [
      "Accuracy: 27.3\n"
     ]
    },
    {
     "name": "stderr",
     "output_type": "stream",
     "text": [
      "/usr/local/lib/python3.9/site-packages/sklearn/metrics/_classification.py:1565: UndefinedMetricWarning: Precision is ill-defined and being set to 0.0 in labels with no predicted samples. Use `zero_division` parameter to control this behavior.\n",
      "  _warn_prf(average, modifier, f\"{metric.capitalize()} is\", len(result))\n",
      "/usr/local/lib/python3.9/site-packages/sklearn/metrics/_classification.py:1565: UndefinedMetricWarning: Precision is ill-defined and being set to 0.0 in labels with no predicted samples. Use `zero_division` parameter to control this behavior.\n",
      "  _warn_prf(average, modifier, f\"{metric.capitalize()} is\", len(result))\n",
      "/usr/local/lib/python3.9/site-packages/sklearn/metrics/_classification.py:1565: UndefinedMetricWarning: Recall is ill-defined and being set to 0.0 in labels with no true samples. Use `zero_division` parameter to control this behavior.\n",
      "  _warn_prf(average, modifier, f\"{metric.capitalize()} is\", len(result))\n",
      "/usr/local/lib/python3.9/site-packages/sklearn/metrics/_classification.py:1565: UndefinedMetricWarning: Precision is ill-defined and being set to 0.0 in labels with no predicted samples. Use `zero_division` parameter to control this behavior.\n",
      "  _warn_prf(average, modifier, f\"{metric.capitalize()} is\", len(result))\n",
      "/usr/local/lib/python3.9/site-packages/sklearn/metrics/_classification.py:1565: UndefinedMetricWarning: Recall is ill-defined and being set to 0.0 in labels with no true samples. Use `zero_division` parameter to control this behavior.\n",
      "  _warn_prf(average, modifier, f\"{metric.capitalize()} is\", len(result))\n"
     ]
    },
    {
     "data": {
      "text/html": [
       "<div>\n",
       "<style scoped>\n",
       "    .dataframe tbody tr th:only-of-type {\n",
       "        vertical-align: middle;\n",
       "    }\n",
       "\n",
       "    .dataframe tbody tr th {\n",
       "        vertical-align: top;\n",
       "    }\n",
       "\n",
       "    .dataframe thead th {\n",
       "        text-align: right;\n",
       "    }\n",
       "</style>\n",
       "<table border=\"1\" class=\"dataframe\">\n",
       "  <thead>\n",
       "    <tr style=\"text-align: right;\">\n",
       "      <th></th>\n",
       "      <th>Precision</th>\n",
       "      <th>Recall</th>\n",
       "      <th>F1-score</th>\n",
       "    </tr>\n",
       "  </thead>\n",
       "  <tbody>\n",
       "    <tr>\n",
       "      <th>Remote</th>\n",
       "      <td>28.0</td>\n",
       "      <td>100.0</td>\n",
       "      <td>43.7</td>\n",
       "    </tr>\n",
       "    <tr>\n",
       "      <th>Hybrid</th>\n",
       "      <td>20.0</td>\n",
       "      <td>3.7</td>\n",
       "      <td>6.2</td>\n",
       "    </tr>\n",
       "    <tr>\n",
       "      <th>OnSite</th>\n",
       "      <td>0.0</td>\n",
       "      <td>0.0</td>\n",
       "      <td>0.0</td>\n",
       "    </tr>\n",
       "    <tr>\n",
       "      <th></th>\n",
       "      <td></td>\n",
       "      <td></td>\n",
       "      <td></td>\n",
       "    </tr>\n",
       "    <tr>\n",
       "      <th>macro average</th>\n",
       "      <td>12.0</td>\n",
       "      <td>25.9</td>\n",
       "      <td>12.5</td>\n",
       "    </tr>\n",
       "    <tr>\n",
       "      <th>weighted average</th>\n",
       "      <td>12.8</td>\n",
       "      <td>27.3</td>\n",
       "      <td>13.2</td>\n",
       "    </tr>\n",
       "    <tr>\n",
       "      <th>micro average</th>\n",
       "      <td>27.3</td>\n",
       "      <td>27.3</td>\n",
       "      <td>27.3</td>\n",
       "    </tr>\n",
       "  </tbody>\n",
       "</table>\n",
       "</div>"
      ],
      "text/plain": [
       "                 Precision Recall F1-score\n",
       "Remote                28.0  100.0     43.7\n",
       "Hybrid                20.0    3.7      6.2\n",
       "OnSite                 0.0    0.0      0.0\n",
       "                                          \n",
       "macro average         12.0   25.9     12.5\n",
       "weighted average      12.8   27.3     13.2\n",
       "micro average         27.3   27.3     27.3"
      ]
     },
     "execution_count": 3,
     "metadata": {},
     "output_type": "execute_result"
    }
   ],
   "source": [
    "get_metrics('work_arrangements_test_set_gemma3_rbic_fewshot_preds.csv')"
   ]
  },
  {
   "cell_type": "code",
   "execution_count": 4,
   "metadata": {},
   "outputs": [
    {
     "name": "stdout",
     "output_type": "stream",
     "text": [
      "Accuracy: 30.3\n"
     ]
    },
    {
     "name": "stderr",
     "output_type": "stream",
     "text": [
      "/usr/local/lib/python3.9/site-packages/sklearn/metrics/_classification.py:1565: UndefinedMetricWarning: Recall is ill-defined and being set to 0.0 in labels with no true samples. Use `zero_division` parameter to control this behavior.\n",
      "  _warn_prf(average, modifier, f\"{metric.capitalize()} is\", len(result))\n",
      "/usr/local/lib/python3.9/site-packages/sklearn/metrics/_classification.py:1565: UndefinedMetricWarning: Recall is ill-defined and being set to 0.0 in labels with no true samples. Use `zero_division` parameter to control this behavior.\n",
      "  _warn_prf(average, modifier, f\"{metric.capitalize()} is\", len(result))\n"
     ]
    },
    {
     "data": {
      "text/html": [
       "<div>\n",
       "<style scoped>\n",
       "    .dataframe tbody tr th:only-of-type {\n",
       "        vertical-align: middle;\n",
       "    }\n",
       "\n",
       "    .dataframe tbody tr th {\n",
       "        vertical-align: top;\n",
       "    }\n",
       "\n",
       "    .dataframe thead th {\n",
       "        text-align: right;\n",
       "    }\n",
       "</style>\n",
       "<table border=\"1\" class=\"dataframe\">\n",
       "  <thead>\n",
       "    <tr style=\"text-align: right;\">\n",
       "      <th></th>\n",
       "      <th>Precision</th>\n",
       "      <th>Recall</th>\n",
       "      <th>F1-score</th>\n",
       "    </tr>\n",
       "  </thead>\n",
       "  <tbody>\n",
       "    <tr>\n",
       "      <th>Remote</th>\n",
       "      <td>30.4</td>\n",
       "      <td>92.3</td>\n",
       "      <td>45.7</td>\n",
       "    </tr>\n",
       "    <tr>\n",
       "      <th>Hybrid</th>\n",
       "      <td>35.7</td>\n",
       "      <td>18.5</td>\n",
       "      <td>24.4</td>\n",
       "    </tr>\n",
       "    <tr>\n",
       "      <th>OnSite</th>\n",
       "      <td>100.0</td>\n",
       "      <td>2.2</td>\n",
       "      <td>4.3</td>\n",
       "    </tr>\n",
       "    <tr>\n",
       "      <th></th>\n",
       "      <td></td>\n",
       "      <td></td>\n",
       "      <td></td>\n",
       "    </tr>\n",
       "    <tr>\n",
       "      <th>macro average</th>\n",
       "      <td>20.8</td>\n",
       "      <td>14.1</td>\n",
       "      <td>9.3</td>\n",
       "    </tr>\n",
       "    <tr>\n",
       "      <th>weighted average</th>\n",
       "      <td>64.2</td>\n",
       "      <td>30.3</td>\n",
       "      <td>20.6</td>\n",
       "    </tr>\n",
       "    <tr>\n",
       "      <th>micro average</th>\n",
       "      <td>30.3</td>\n",
       "      <td>30.3</td>\n",
       "      <td>30.3</td>\n",
       "    </tr>\n",
       "  </tbody>\n",
       "</table>\n",
       "</div>"
      ],
      "text/plain": [
       "                 Precision Recall F1-score\n",
       "Remote                30.4   92.3     45.7\n",
       "Hybrid                35.7   18.5     24.4\n",
       "OnSite               100.0    2.2      4.3\n",
       "                                          \n",
       "macro average         20.8   14.1      9.3\n",
       "weighted average      64.2   30.3     20.6\n",
       "micro average         30.3   30.3     30.3"
      ]
     },
     "execution_count": 4,
     "metadata": {},
     "output_type": "execute_result"
    }
   ],
   "source": [
    "get_metrics('work_arrangements_test_set_gemma3_rbic_preds.csv')"
   ]
  },
  {
   "cell_type": "code",
   "execution_count": 5,
   "metadata": {},
   "outputs": [
    {
     "name": "stdout",
     "output_type": "stream",
     "text": [
      "Accuracy: 49.5\n"
     ]
    },
    {
     "name": "stderr",
     "output_type": "stream",
     "text": [
      "/usr/local/lib/python3.9/site-packages/sklearn/metrics/_classification.py:1565: UndefinedMetricWarning: Recall is ill-defined and being set to 0.0 in labels with no true samples. Use `zero_division` parameter to control this behavior.\n",
      "  _warn_prf(average, modifier, f\"{metric.capitalize()} is\", len(result))\n",
      "/usr/local/lib/python3.9/site-packages/sklearn/metrics/_classification.py:1565: UndefinedMetricWarning: Recall is ill-defined and being set to 0.0 in labels with no true samples. Use `zero_division` parameter to control this behavior.\n",
      "  _warn_prf(average, modifier, f\"{metric.capitalize()} is\", len(result))\n"
     ]
    },
    {
     "data": {
      "text/html": [
       "<div>\n",
       "<style scoped>\n",
       "    .dataframe tbody tr th:only-of-type {\n",
       "        vertical-align: middle;\n",
       "    }\n",
       "\n",
       "    .dataframe tbody tr th {\n",
       "        vertical-align: top;\n",
       "    }\n",
       "\n",
       "    .dataframe thead th {\n",
       "        text-align: right;\n",
       "    }\n",
       "</style>\n",
       "<table border=\"1\" class=\"dataframe\">\n",
       "  <thead>\n",
       "    <tr style=\"text-align: right;\">\n",
       "      <th></th>\n",
       "      <th>Precision</th>\n",
       "      <th>Recall</th>\n",
       "      <th>F1-score</th>\n",
       "    </tr>\n",
       "  </thead>\n",
       "  <tbody>\n",
       "    <tr>\n",
       "      <th>Remote</th>\n",
       "      <td>65.7</td>\n",
       "      <td>88.5</td>\n",
       "      <td>75.4</td>\n",
       "    </tr>\n",
       "    <tr>\n",
       "      <th>Hybrid</th>\n",
       "      <td>39.3</td>\n",
       "      <td>81.5</td>\n",
       "      <td>53.0</td>\n",
       "    </tr>\n",
       "    <tr>\n",
       "      <th>OnSite</th>\n",
       "      <td>80.0</td>\n",
       "      <td>8.7</td>\n",
       "      <td>15.7</td>\n",
       "    </tr>\n",
       "    <tr>\n",
       "      <th></th>\n",
       "      <td></td>\n",
       "      <td></td>\n",
       "      <td></td>\n",
       "    </tr>\n",
       "    <tr>\n",
       "      <th>macro average</th>\n",
       "      <td>37.0</td>\n",
       "      <td>35.7</td>\n",
       "      <td>28.8</td>\n",
       "    </tr>\n",
       "    <tr>\n",
       "      <th>weighted average</th>\n",
       "      <td>65.1</td>\n",
       "      <td>49.5</td>\n",
       "      <td>41.6</td>\n",
       "    </tr>\n",
       "    <tr>\n",
       "      <th>micro average</th>\n",
       "      <td>49.5</td>\n",
       "      <td>49.5</td>\n",
       "      <td>49.5</td>\n",
       "    </tr>\n",
       "  </tbody>\n",
       "</table>\n",
       "</div>"
      ],
      "text/plain": [
       "                 Precision Recall F1-score\n",
       "Remote                65.7   88.5     75.4\n",
       "Hybrid                39.3   81.5     53.0\n",
       "OnSite                80.0    8.7     15.7\n",
       "                                          \n",
       "macro average         37.0   35.7     28.8\n",
       "weighted average      65.1   49.5     41.6\n",
       "micro average         49.5   49.5     49.5"
      ]
     },
     "execution_count": 5,
     "metadata": {},
     "output_type": "execute_result"
    }
   ],
   "source": [
    "get_metrics('work_arrangements_test_set_gemma3_preds.csv')"
   ]
  }
 ],
 "metadata": {
  "accelerator": "GPU",
  "colab": {
   "gpuType": "T4",
   "provenance": []
  },
  "kernelspec": {
   "display_name": "Python 3 (ipykernel)",
   "language": "python",
   "name": "python3"
  },
  "language_info": {
   "codemirror_mode": {
    "name": "ipython",
    "version": 3
   },
   "file_extension": ".py",
   "mimetype": "text/x-python",
   "name": "python",
   "nbconvert_exporter": "python",
   "pygments_lexer": "ipython3",
   "version": "3.9.21"
  }
 },
 "nbformat": 4,
 "nbformat_minor": 4
}
