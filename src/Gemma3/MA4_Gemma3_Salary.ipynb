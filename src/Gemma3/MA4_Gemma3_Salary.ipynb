{
 "cells": [
  {
   "cell_type": "markdown",
   "metadata": {
    "id": "KfXY0rMVfLPo"
   },
   "source": [
    "# Loading"
   ]
  },
  {
   "cell_type": "code",
   "execution_count": null,
   "metadata": {
    "id": "ziGslr52Zr3j",
    "tags": []
   },
   "outputs": [],
   "source": [
    "import pandas as pd\n",
    "import numpy as np\n",
    "from tqdm import tqdm\n",
    "from transformers import pipeline\n",
    "import torch\n",
    "import string\n",
    "import re\n",
    "from bs4 import BeautifulSoup\n",
    "import json\n",
    "import copy"
   ]
  },
  {
   "cell_type": "code",
   "execution_count": 2,
   "metadata": {
    "colab": {
     "base_uri": "https://localhost:8080/",
     "height": 290
    },
    "id": "TIETAXxfp5Yd",
    "outputId": "a7049bdf-33e6-4864-8174-00290abcf3d8",
    "tags": []
   },
   "outputs": [
    {
     "name": "stderr",
     "output_type": "stream",
     "text": [
      "Device set to use cuda\n"
     ]
    }
   ],
   "source": [
    "pipe = pipeline(\n",
    "    \"text-generation\", model=\"google/gemma-3-1b-it\", device=\"cuda\", torch_dtype=torch.bfloat16,\n",
    "    token='' # put your HF access token here\n",
    ")"
   ]
  },
  {
   "cell_type": "markdown",
   "metadata": {
    "id": "q0oo9hKTZm2R"
   },
   "source": [
    "# Salary"
   ]
  },
  {
   "cell_type": "code",
   "execution_count": 3,
   "metadata": {
    "id": "CblLBHhhZm2S",
    "tags": []
   },
   "outputs": [],
   "source": [
    "train_df = pd.read_csv('data/salary_labelled_development_set_cleaned.csv')\n",
    "test_df = pd.read_csv('data/salary_labelled_test_set_cleaned.csv')"
   ]
  },
  {
   "cell_type": "code",
   "execution_count": 4,
   "metadata": {
    "colab": {
     "base_uri": "https://localhost:8080/",
     "height": 272
    },
    "id": "XrHGLvuPDgDx",
    "outputId": "667d731e-fe91-4c25-ccef-a5e2e6c24b8e",
    "tags": []
   },
   "outputs": [
    {
     "data": {
      "text/plain": [
       "job_id                                                             51839829\n",
       "job_title                                        Senior Key Account Manager\n",
       "job_ad_details            At RB, we’re driven by our fight to make acces...\n",
       "nation_short_desc                                                        NZ\n",
       "salary_additional_text     Competitive base + car allowance + bonus + MORE!\n",
       "y_true                                                        0-0-None-None\n",
       "Name: 1131, dtype: object"
      ]
     },
     "execution_count": 4,
     "metadata": {},
     "output_type": "execute_result"
    }
   ],
   "source": [
    "train_df.iloc[1131]"
   ]
  },
  {
   "cell_type": "markdown",
   "metadata": {
    "id": "4za-mTXBecX8"
   },
   "source": [
    "# RBIC Functions"
   ]
  },
  {
   "cell_type": "markdown",
   "metadata": {
    "id": "_icT_CYAfeJi"
   },
   "source": [
    "### RB\n"
   ]
  },
  {
   "cell_type": "code",
   "execution_count": 5,
   "metadata": {
    "id": "485zx9H7Zw5D",
    "tags": []
   },
   "outputs": [],
   "source": [
    "#== step 1: role explanation\n",
    "def step_1():\n",
    "    messages = [\n",
    "        {\"role\": \"system\", \"content\": \"You are an expert job ad annotator. Your task is to extract structured salary information from job descriptions in the format: min-max-currency-frequency. If salary is not found, return: 0-0-None-None.\"},\n",
    "        {\"role\": \"user\", \"content\": \"Based on your role, can you briefly explain what constitutes a salary range, currency and frequency in a job listing?\"}\n",
    "    ]\n",
    "\n",
    "    response = pipe(messages, max_new_tokens=1000)\n",
    "    messages.append(response[0][\"generated_text\"][-1])\n",
    "\n",
    "    return response[0][\"generated_text\"][-1][\"content\"], messages"
   ]
  },
  {
   "cell_type": "code",
   "execution_count": 6,
   "metadata": {
    "id": "QwpJGdGO4BV-",
    "tags": []
   },
   "outputs": [],
   "source": [
    "#== few-shot examples\n",
    "def fewshot(messages):\n",
    "    # messages.append({\n",
    "    #     \"role\": \"user\",\n",
    "    #     \"content\": \"I will provide you with some examples on how to accomplish your task\"\n",
    "    # })\n",
    "\n",
    "    # response = pipe(messages, max_new_tokens=1000)\n",
    "    # messages.append(response[0][\"generated_text\"][-1])\n",
    "\n",
    "    few_shot_indices = [1030, 1041, 1025, 1022, 1011]\n",
    "\n",
    "    for i in few_shot_indices:\n",
    "        desc = {\n",
    "          \"job_title\": train_df.iloc[i].job_title,\n",
    "          \"job_ad_details\": train_df.iloc[i].job_ad_details,\n",
    "          \"nation_short_desc\": train_df.iloc[i].nation_short_desc,\n",
    "          \"salary_additional_text\": train_df.iloc[i].salary_additional_text,\n",
    "        }\n",
    "        desc_str = str(desc)\n",
    "\n",
    "        # add the description\n",
    "        messages.append({\n",
    "          \"role\": \"user\",\n",
    "          \"content\": desc_str\n",
    "        })\n",
    "\n",
    "        label = train_df.iloc[i].y_true\n",
    "        label_str = str(label)\n",
    "\n",
    "        # add the output\n",
    "        messages.append({\n",
    "            \"role\": \"assistant\",\n",
    "            \"content\": label_str\n",
    "        })\n",
    "\n",
    "    return messages"
   ]
  },
  {
   "cell_type": "code",
   "execution_count": 7,
   "metadata": {
    "id": "zbr7XLTfmBtc",
    "tags": []
   },
   "outputs": [],
   "source": [
    "#== step 2: setting sub-task --> ask for salary patterns\n",
    "def step_2(messages):\n",
    "    messages.append({\n",
    "        \"role\": \"user\",\n",
    "        \"content\": \"As a salary extractor, what are some common phrases or numeric patterns that indicate a salary range, currency and frequency in a job description?\"\n",
    "    })\n",
    "\n",
    "    response = pipe(messages, max_new_tokens=1000)\n",
    "    messages.append(response[0][\"generated_text\"][-1])\n",
    "\n",
    "    return response[0][\"generated_text\"][-1][\"content\"], messages"
   ]
  },
  {
   "cell_type": "markdown",
   "metadata": {
    "id": "9-6MkZsUfhLi"
   },
   "source": [
    "### IC"
   ]
  },
  {
   "cell_type": "code",
   "execution_count": 31,
   "metadata": {
    "id": "f9GUkH7kmWcc",
    "tags": []
   },
   "outputs": [],
   "source": [
    "#== step 3: ask if salary info is in the description\n",
    "def step_3(messages_static, desc_str):\n",
    "    messages = copy.deepcopy(messages_static)\n",
    "\n",
    "    messages.append({\n",
    "        \"role\": \"user\",\n",
    "        \"content\": f\"{desc_str} does this job description include any salary-related information? Just respond with 'Yes' or 'No'.\"\n",
    "    })\n",
    "\n",
    "    response = pipe(messages, max_new_tokens=1000)\n",
    "    messages.append(response[0][\"generated_text\"][-1])\n",
    "\n",
    "    p3_content = response[0][\"generated_text\"][-1][\"content\"]\n",
    "\n",
    "    # clean and check the response\n",
    "    response_p3 = p3_content.translate(str.maketrans('', '', string.punctuation))\n",
    "    response_p3 = response_p3.strip().lower()[:3]\n",
    "    #print(f\"step3 messages: {len(messages)}\")\n",
    "    return response_p3, messages"
   ]
  },
  {
   "cell_type": "code",
   "execution_count": 32,
   "metadata": {
    "id": "c3rIEflSmZQG",
    "tags": []
   },
   "outputs": [],
   "source": [
    "#== step 4: iterative coaching/finding clues to prevent hallucination\n",
    "def step_4(response_p3, messages):\n",
    "    if response_p3 == \"yes\":\n",
    "        messages.append({\n",
    "            \"role\": \"user\",\n",
    "            \"content\": \"Extract the salary range or salary-related phrases from the text verbatim. Respond in JSON: {\\\"Clue\\\": \\\"\\\"}.\"\n",
    "        })\n",
    "    elif response_p3 == \"no\":\n",
    "        messages.append({\n",
    "            \"role\": \"user\",\n",
    "            \"content\": \"Briefly explain why there is no salary information (e.g., 'No mention of pay or compensation'). Respond in JSON: {\\\"Clue\\\": \\\"\\\"}.\"\n",
    "        })\n",
    "    else:\n",
    "        raise Exception(f\"Unexpected model output: {response_p3}\")\n",
    "\n",
    "    response = pipe(messages, max_new_tokens=1000)\n",
    "    messages.append(response[0][\"generated_text\"][-1])\n",
    "    #print(f\"step4 messages: {len(messages)}\")\n",
    "\n",
    "    return response[0][\"generated_text\"][-1][\"content\"], messages"
   ]
  },
  {
   "cell_type": "code",
   "execution_count": 50,
   "metadata": {
    "id": "rftUWb7JZwxg",
    "tags": []
   },
   "outputs": [],
   "source": [
    "#== step 5: use the clue to generate the final output\n",
    "def step_5(messages):\n",
    "    messages.append({\n",
    "        \"role\": \"user\",\n",
    "        \"content\": (\n",
    "            \"Based on the extracted salary clue, return a structured salary in JSON. \"\n",
    "            \"Use 'nation_short_desc' to determine the correct currency. \"\n",
    "            \"Use this format: {\\\"MinSalary\\\": \\\"\\\", \\\"MaxSalary\\\": \\\"\\\", \\\"Currency\\\": \\\"\\\", \\\"Frequency\\\": \\\"\\\"}. \"\n",
    "            \"If not provided explicitly, output 0 for \\\"MinSalary\\\" and \\\"MaxSalary\\\", and \\\"None\\\" for \\\"Currency\\\" and \\\"Frequency\\\". \"\n",
    "            \"If the salary is mentioned, always output a range, where MinSalary and MaxSalary can be equal. \"\n",
    "            \"Output the currency as 3 letters. Use adverb to output frequency (annually, monthly, daily or hourly).\"\n",
    "        )\n",
    "    })\n",
    "\n",
    "    response = pipe(messages, max_new_tokens=1000)\n",
    "    answer_str = response[0][\"generated_text\"][-1][\"content\"]\n",
    "\n",
    "    #print(f\"step5 messages: {len(messages)}\")\n",
    "\n",
    "    # format and print the output\n",
    "    try:\n",
    "        answer_str_ = answer_str[answer_str.find('{'):answer_str.find('}') + 1]\n",
    "        answer_str_ = answer_str_.replace('“', '\"')\n",
    "        answer_str_ = answer_str_.replace('”', '\"')\n",
    "        answer = json.loads(answer_str_)\n",
    "\n",
    "        # min_salary = int(round(float(answer['MinSalary'])))\n",
    "        # max_salary = int(round(float(answer['MaxSalary'])))\n",
    "\n",
    "        # if  min_salary == 0 and  max_salary == 0:\n",
    "        #   label = \"0-0-None-None\"\n",
    "        # else:\n",
    "        #   label = f\"{min_salary}-{max_salary}-{answer['Currency'].upper()}-{answer['Frequency'].upper()}\"\n",
    "        # label = f\"{min_salary}-{max_salary}-{answer['Currency'].upper()}-{answer['Frequency'].upper()}\"\n",
    "\n",
    "        label = f\"{answer['MinSalary'] if 'MinSalary' in answer else 0}-{answer['MaxSalary'] if 'MaxSalary' in answer else 0}-{answer['Currency'].upper() if 'Currency' in answer else 'None'}-{answer['Frequency'].upper() if 'Frequency' in answer else  'None'}\"\n",
    "\n",
    "\n",
    "\n",
    "    except json.JSONDecodeError:\n",
    "        print(f\"Failed to parse model output as JSON: {answer_str}\")\n",
    "        label = \"ERROR \" + answer_str\n",
    "\n",
    "    return label, answer_str"
   ]
  },
  {
   "cell_type": "code",
   "execution_count": 46,
   "metadata": {
    "id": "MzSYBXFaS2kU",
    "tags": []
   },
   "outputs": [],
   "source": [
    "def RBIC_static_messages(verbose=False, add_fewshot=True):\n",
    "    response, messages = step_1()\n",
    "    if verbose: print(f\"RB step 1: {response}\\n\")\n",
    "\n",
    "    response, messages = step_2(messages)\n",
    "    if verbose: print(f\"RB step 2: {response}\\n\")\n",
    "\n",
    "    if add_fewshot:\n",
    "        messages = fewshot(messages)\n",
    "        if verbose: print(f\"Fewshot examples added\\n\")\n",
    "    return messages"
   ]
  },
  {
   "cell_type": "code",
   "execution_count": 47,
   "metadata": {
    "id": "QBoQh1EoTsJ2",
    "tags": []
   },
   "outputs": [],
   "source": [
    "def RBIC(messages, desc_str, verbose=False):\n",
    "    response_p3, messages_local = step_3(messages, desc_str)\n",
    "    if verbose: print(f\"IC step 1: {response_p3}\\n\")\n",
    "\n",
    "    response, messages_local = step_4(response_p3, messages_local)\n",
    "    if verbose: print(f\"IC step 2: {response}\\n\")\n",
    "\n",
    "    label, answer_str = step_5(messages_local)\n",
    "    if verbose: print(f\"IC step 3 (Final): {label}\\n\")\n",
    "    if verbose: print(f\"IC step 3 (Final Raw): {answer_str}\\n\")\n",
    "\n",
    "    return label"
   ]
  },
  {
   "cell_type": "markdown",
   "metadata": {
    "id": "0KUTpN4tetFe"
   },
   "source": [
    "# Testing"
   ]
  },
  {
   "cell_type": "markdown",
   "metadata": {
    "id": "pTCP6pXsw0nd"
   },
   "source": [
    "### Qualitative Tests"
   ]
  },
  {
   "cell_type": "code",
   "execution_count": 13,
   "metadata": {
    "colab": {
     "base_uri": "https://localhost:8080/"
    },
    "id": "9-7IV-4tSnsB",
    "outputId": "7c3df295-f35a-4dfb-9919-9cf4f97c7b2f",
    "tags": []
   },
   "outputs": [
    {
     "name": "stdout",
     "output_type": "stream",
     "text": [
      "RB step 1: Okay, let's tackle this job description parsing task. As an expert job ad annotator, I understand the importance of accurately extracting salary data. Here’s a breakdown of what constitutes a salary range, currency, and frequency, as it's crucial for a robust and useful job posting system:\n",
      "\n",
      "**1. Salary Range:**\n",
      "\n",
      "*   **Definition:** A salary range indicates a plausible range of salaries for the position. It’s not a fixed number, but rather an estimated upper and lower bound.\n",
      "*   **What to look for:** It's usually expressed as a range (e.g., \"$60,000 - $80,000 annually,\" \"$75,000 - $90,000,\" \"$55,000 - $70,000\").  It can also be represented as a percentage (e.g., \"55-65% of average salary\").\n",
      "*   **Important:**  The range should be *reasonable* and reflect the expected job level and responsibilities.  Too narrow a range might be misleading, while too broad can be confusing.\n",
      "\n",
      "**2. Currency:**\n",
      "\n",
      "*   **Definition:** This specifies the currency in which the salary is expressed (e.g., USD, EUR, GBP, CAD, etc.).\n",
      "*   **What to look for:** It’s typically prominently displayed (e.g., \"$60,000 USD\").  Sometimes it's implied based on context, but clarity is key.\n",
      "*   **Consistency:** It’s *critical* that the currency is consistently used throughout the job description.\n",
      "\n",
      "**3. Frequency:**\n",
      "\n",
      "*   **Definition:** This refers to how often the salary is mentioned or implied. It’s a qualitative indicator of importance.  It’s about how much the employer *emphasizes* the salary.\n",
      "*   **Levels:**\n",
      "    *   **High Frequency:** The salary is frequently referenced (e.g., \"Competitive salary,\" \"Raises up to $X,\" \"Significant bonus potential\"). This suggests a strong emphasis on compensation.\n",
      "    *   **Medium Frequency:**  The salary is mentioned once or twice (e.g., \"Salary range: $60k - $80k\").  This is a reasonable level of detail.\n",
      "    *   **Low Frequency:** The salary is rarely mentioned (e.g., “Salary commensurate with experience”). This could indicate a less structured compensation policy.\n",
      "\n",
      "**Example Breakdown:**\n",
      "\n",
      "Let's say we’re analyzing this job description:\n",
      "\n",
      "\"**Data Analyst - Innovate Solutions**\n",
      "\n",
      "We're looking for a talented Data Analyst to join our growing team.  This role offers a competitive salary ranging from $75,000 - $95,000 annually, depending on experience.  You'll be responsible for analyzing large datasets, creating insightful reports, and helping to drive data-driven decision-making.  Experience with SQL and Python is a plus.\"\n",
      "\n",
      "**My Output for this example:**\n",
      "\n",
      "*   **Salary Range:** $75,000 - $95,000\n",
      "*   **Currency:** USD\n",
      "*   **Frequency:** Medium (Mentioned once, \"competitive salary\" - suggests emphasis)\n",
      "\n",
      "**My Process (As an Expert Annotator):**\n",
      "\n",
      "1.  **Tokenization:** I would break down the text into individual words and phrases.\n",
      "2.  **Pattern Recognition:** I would look for keywords and phrases indicative of salary ranges (e.g., \"salary\", \"annual salary\", \"competitive salary\", \"salary range\").\n",
      "3.  **Contextual Analysis:**  I'd consider the surrounding text to determine if a salary range is explicitly stated, implied, or mentioned through a phrase like \"salary commensurate with experience.\"\n",
      "4.  **Consistency Checks:**  I’d ensure the currency is consistently used and that the frequency indicator is consistent with the other information.\n",
      "5.  **Output:** I’d format the output as a structured JSON object (or a similar format) like this:\n",
      "\n",
      "```json\n",
      "{\n",
      "  \"salary_range\": {\n",
      "    \"min\": 75000,\n",
      "    \"max\": 95000,\n",
      "    \"currency\": \"USD\"\n",
      "  },\n",
      "  \"frequency\": \"Medium\",\n",
      "  \"other_details\": \"Mentioned once – suggests a focus on compensation.\"\n",
      "}\n",
      "```\n",
      "\n",
      "---\n",
      "\n",
      "Do you want me to work through a few more example job descriptions, or would you like me to elaborate on any of these aspects (e.g., handling edge cases like missing salary information, or a more complex scoring system)?\n",
      "\n",
      "RB step 2: Okay, excellent question. Let’s delve into the common phrases and numeric patterns that signal a salary range, currency, and frequency in job descriptions. Here’s a breakdown, categorized for clarity:\n",
      "\n",
      "**1. Salary Range Indicators:**\n",
      "\n",
      "*   **“Competitive Salary” / “Attractive Salary” / “Salary Range:…”**: These are incredibly common and signal a desire to attract candidates.\n",
      "*   **“Salary Range: $X - $Y”**: Explicitly stating the range is a strong indicator.\n",
      "*   **“Up to $Z” / “$A - $B”**: Similar to above, but with a more flexible range.\n",
      "*   **“We Offer a Competitive Compensation Package”**: This frequently implies a reasonable salary range.\n",
      "*   **“Salary commensurate with experience” / “Salary based on skills”**:  Highlights the compensation based on the candidate’s abilities.\n",
      "*   **“Growth Opportunities - Competitive Pay”**:  Suggests a range for career advancement.\n",
      "*   **“Performance-Based Pay”**:  Indicates a potential for bonuses or raises tied to individual performance.\n",
      "\n",
      "**2. Currency Specific Indicators:**\n",
      "\n",
      "*   **“USD” / “EUR” / “GBP” / “CAD”**:  The most obvious – directly stating the currency.\n",
      "*   **“Salary in [Currency Name]”**:  Explicitly states the currency.\n",
      "*   **“Annual Salary: $X”**: A common way to state the currency.\n",
      "*   **“Salary is paid in [Currency Name]”**:  More formal phrasing.\n",
      "\n",
      "**3. Frequency & Emphasis Indicators:**\n",
      "\n",
      "*   **“Significant…” / “Important…” / “Crucial…”**: These phrases frequently emphasize the importance of the salary.\n",
      "*   **“We offer a competitive salary” / “We provide a generous compensation”**: Shows a desire for a good compensation package.\n",
      "*   **“We are seeking a highly skilled candidate” / “We are looking for a qualified professional”**: Often paired with a salary expectation.\n",
      "*   **“Join our team and receive…”**: A common tactic to highlight salary benefits.\n",
      "*   **“Salary is a key factor in our decision”**: Hints at a significant consideration of salary.\n",
      "*   **“We’re committed to investing in our employees”**:  Implies a desire for competitive pay.\n",
      "*   **“Benefits package includes…”**: Sometimes the salary is related to the benefits package.\n",
      "\n",
      "**4.  Numeric Patterns & Data Representation:**\n",
      "\n",
      "*   **“Salary: $X,000 - $Y”**: A standard format, often with numbers within brackets.\n",
      "*   **“Annual Salary: $Z,500,000”**: A more formal, slightly more descriptive style.\n",
      "*   **“Compensation: $A - $B”**:  Frequently used to represent a range, often with dollar signs.\n",
      "*   **“Salary is a key component of our overall compensation”**:  Suggests a structured approach.\n",
      "\n",
      "**5.  Combined Indicators (More Complex)**\n",
      "\n",
      "*   **“Salary range: $60,000 - $80,000”**: Combines range and currency.\n",
      "*   **“We offer a total compensation package including salary, benefits, and bonus”**: This is a good example of integrating multiple elements.\n",
      "\n",
      "**Important Considerations:**\n",
      "\n",
      "*   **Context is King:**  The *repetition* of these phrases is crucial.  A single instance of \"competitive salary\" is less indicative of a range than several instances.\n",
      "*   **Industry Standards:**  Salary ranges vary considerably by industry and location.  Job descriptions *can* subtly suggest a range, but it's more reliable to analyze the overall context.\n",
      "*   **Company Culture:**  Some companies are more open about salary than others.\n",
      "\n",
      "To help me refine this further, could you provide some example job descriptions you'd like me to analyze?\n",
      "\n",
      "Fewshot examples added\n",
      "\n"
     ]
    }
   ],
   "source": [
    "messages_static = RBIC_static_messages(verbose=True, add_fewshot=True)"
   ]
  },
  {
   "cell_type": "code",
   "execution_count": 14,
   "metadata": {
    "colab": {
     "base_uri": "https://localhost:8080/"
    },
    "id": "63XWt1d3e1DH",
    "outputId": "d674d9a7-a086-4c5b-8ebb-de28ffd0ebb2",
    "tags": []
   },
   "outputs": [
    {
     "name": "stdout",
     "output_type": "stream",
     "text": [
      "len of messages_static 15\n",
      "IC step 1: yes\n",
      "\n",
      "IC step 2: ```json\n",
      "{\"Clue\": \"Salary: $70049.73 - $98351.39 + SuperHours Per Week: 38\"}\n",
      "```\n",
      "\n",
      "IC step 3 (Final): 70049.73-98351.39-TH-YEARLY\n",
      "\n",
      "IC step 3 (Final Raw): {\"MinSalary\": \"70049.73\", \"MaxSalary\": \"98351.39\", \"Currency\": \"TH\", \"Frequency\": \"yearly\"}\n",
      "\n",
      "pred = 70049.73-98351.39-TH-YEARLY\n",
      "truth = 70049-98351-AUD-ANNUAL\n"
     ]
    }
   ],
   "source": [
    "ind = 345\n",
    "\n",
    "desc = {\n",
    "    \"job_title\": train_df.iloc[ind].job_title,\n",
    "    \"job_ad_details\": train_df.iloc[ind].job_ad_details,\n",
    "    \"nation_short_desc\": train_df.iloc[ind].nation_short_desc,\n",
    "    \"salary_additional_text\": train_df.iloc[ind].salary_additional_text,\n",
    "  }\n",
    "desc_str = str(desc)\n",
    "\n",
    "label = train_df.iloc[ind].y_true\n",
    "label_str = str(label)\n",
    "\n",
    "print(f\"len of messages_static {len(messages_static)}\")\n",
    "label_pred = RBIC(messages_static, desc_str, verbose=True)\n",
    "\n",
    "\n",
    "print(f\"pred = {label_pred}\")\n",
    "print(f\"truth = {label_str}\")"
   ]
  },
  {
   "cell_type": "markdown",
   "metadata": {
    "id": "U2QyVlqCw5i0"
   },
   "source": [
    "### Quantitative Tests"
   ]
  },
  {
   "cell_type": "code",
   "execution_count": 15,
   "metadata": {
    "id": "E4gl8vRKBms8",
    "tags": []
   },
   "outputs": [],
   "source": [
    "# df to store model predictions\n",
    "test_pred_df = pd.DataFrame(columns=[\"y_pred\"])"
   ]
  },
  {
   "cell_type": "code",
   "execution_count": 16,
   "metadata": {
    "colab": {
     "base_uri": "https://localhost:8080/",
     "height": 89
    },
    "id": "U3qCaPABxoiR",
    "outputId": "b86ae745-e7c5-4fab-e332-18576a8c2689",
    "tags": []
   },
   "outputs": [
    {
     "data": {
      "text/html": [
       "<div>\n",
       "<style scoped>\n",
       "    .dataframe tbody tr th:only-of-type {\n",
       "        vertical-align: middle;\n",
       "    }\n",
       "\n",
       "    .dataframe tbody tr th {\n",
       "        vertical-align: top;\n",
       "    }\n",
       "\n",
       "    .dataframe thead th {\n",
       "        text-align: right;\n",
       "    }\n",
       "</style>\n",
       "<table border=\"1\" class=\"dataframe\">\n",
       "  <thead>\n",
       "    <tr style=\"text-align: right;\">\n",
       "      <th></th>\n",
       "      <th>y_pred</th>\n",
       "    </tr>\n",
       "  </thead>\n",
       "  <tbody>\n",
       "  </tbody>\n",
       "</table>\n",
       "</div>"
      ],
      "text/plain": [
       "Empty DataFrame\n",
       "Columns: [y_pred]\n",
       "Index: []"
      ]
     },
     "execution_count": 16,
     "metadata": {},
     "output_type": "execute_result"
    }
   ],
   "source": [
    "test_pred_df"
   ]
  },
  {
   "cell_type": "code",
   "execution_count": 17,
   "metadata": {
    "colab": {
     "base_uri": "https://localhost:8080/"
    },
    "id": "4wjKCfK0BI8Q",
    "outputId": "1d342f04-0ce2-4259-b887-909fcc3efa05",
    "tags": []
   },
   "outputs": [
    {
     "name": "stderr",
     "output_type": "stream",
     "text": [
      "  0%|          | 1/567 [00:04<42:10,  4.47s/it]You seem to be using the pipelines sequentially on GPU. In order to maximize efficiency please use a dataset\n",
      "100%|██████████| 567/567 [44:34<00:00,  4.72s/it]\n"
     ]
    }
   ],
   "source": [
    "for i in tqdm(range(len(test_df))):\n",
    "    desc = {\n",
    "        \"job_title\": test_df.iloc[i].job_title,\n",
    "        \"job_ad_details\": test_df.iloc[i].job_ad_details,\n",
    "        \"nation_short_desc\": test_df.iloc[i].nation_short_desc,\n",
    "        \"salary_additional_text\": test_df.iloc[i].salary_additional_text,\n",
    "    }\n",
    "    desc_str = str(desc)\n",
    "\n",
    "    label = test_df.iloc[i].y_true\n",
    "    label_str = str(label)\n",
    "\n",
    "    label_pred = RBIC(messages_static, desc_str)\n",
    "\n",
    "    test_pred_df.loc[len(test_pred_df)] = label_pred\n",
    "\n",
    "# export the dataframe to a new csv file\n",
    "test_pred_df.to_csv('salary_labelled_test_set_gemma3_rbic_fewshot_preds.csv', index=False)"
   ]
  },
  {
   "cell_type": "markdown",
   "metadata": {},
   "source": [
    "# No few-shot"
   ]
  },
  {
   "cell_type": "code",
   "execution_count": 41,
   "metadata": {
    "id": "fb-hnHhHdhPW",
    "tags": []
   },
   "outputs": [
    {
     "name": "stdout",
     "output_type": "stream",
     "text": [
      "RB step 1: Okay, let's break down salary ranges, currencies, and frequency in a job description, as I understand it. \n",
      "\n",
      "**Here’s my understanding of the key components:**\n",
      "\n",
      "* **Salary Range:** This is the core of the salary request. It’s a *range* of acceptable salaries, typically expressed as a minimum and maximum.  It's more nuanced than just a single number. It often includes a *base* salary and potentially a *plus* or *minus* amount for bonuses, stock options, or other incentives.  The range often subtly communicates the expectation – is it a high-end, competitive role, or something more modest?\n",
      "\n",
      "* **Currency:** This clearly identifies the monetary value of the salary. Common currencies include USD, EUR, GBP, CAD, etc.  It's *essential* to be precise; vague terms like “good salary” don’t convey anything meaningful.\n",
      "\n",
      "* **Frequency:**  This refers to how often the salary is mentioned. It’s typically expressed as “per year,” “monthly,” “weekly,” “hourly,” or “occasionally.”  More frequent mentions generally indicate a higher salary expectation.  It’s important to note that sometimes the frequency isn’t explicitly stated, but the context suggests a relative frequency.\n",
      "\n",
      "**Essentially, I'm looking for these elements to reconstruct a structured salary data point:**\n",
      "\n",
      "`min-max-currency-frequency`\n",
      "\n",
      "**Let me know if you'd like me to elaborate on any of these points or if you'd like me to provide an example of how I would extract this information from a job description!** \n",
      "\n",
      "Do you have a job description you'd like me to analyze?\n",
      "\n",
      "RB step 2: Okay, excellent question! As a salary extractor, I’ve developed a fairly robust set of indicators I look for to reliably identify salary ranges, currencies, and frequency. Here’s a breakdown of common phrases and numeric patterns, categorized for clarity:\n",
      "\n",
      "**1. Salary Range Indicators:**\n",
      "\n",
      "* **“Competitive Salary”/“Salary Range: $X - $Y”:** This is a very common and direct indicator.\n",
      "* **“Salary Expectations: $X - $Y”:**  Similar to the above, explicitly stating expectations.\n",
      "* **“Salary Range: $X - $Y” (Multiple times):** Repeated use of the term reinforces the range.\n",
      "* **“Salary commensurate with experience”/“Salary based on experience”:**  These phrases often preface the range, hinting at a negotiation.\n",
      "* **“Up to $X”/“Salary within $Y”:**  Suggests a possible upper limit.\n",
      "* **“We offer a salary of $X”:** Straightforward statement of the offered salary.\n",
      "* **“Salary is negotiable”:**  Indicates a willingness to discuss compensation.\n",
      "* **“Based on performance”:** Sometimes used to imply a range, particularly in performance-based roles.\n",
      "* **“Salary is eligible for bonus”:** Explicitly mentions a potential bonus component.\n",
      "\n",
      "**2. Currency Indicators:**\n",
      "\n",
      "* **“USD”/“EUR”/“GBP”/“CAD”/“£”:** The currency is *always* prominently displayed.\n",
      "* **“Annual Salary: $…”/ “Salary: $…”:**  Directly states the currency.\n",
      "* **“Salary is paid in…”:**  “Paid in USD” is a very common phrasing.\n",
      "* **\"Salary is offered in [Currency]”:**  Highlights the currency.\n",
      "\n",
      "**3. Frequency Indicators:**\n",
      "\n",
      "* **“Per year”/“Monthly”/“Weekly”/“Bi-weekly”:** These indicate how often the salary is mentioned.\n",
      "* **“Salary of $X” (repeated frequently):**  Repetition strengthens the frequency.\n",
      "* **“We offer a salary of $X” (repeated frequently):**  Reinforces the frequency of the salary discussion.\n",
      "* **“Salary is a key factor in our decision”:**  Suggests a significant part of the process.\n",
      "* **“Salary is a core component of the role”:** Highlighting it as important.\n",
      "\n",
      "**4. Numerical Contextual Clues:**\n",
      "\n",
      "* **\"$X,XXX – $Y,YYY”:**  A range surrounded by dollar signs.\n",
      "* **“Salary of $Z,ZZZ”:**  A specific salary value directly cited.\n",
      "* **“Salary is budgeted at $X”:**  Indicates a planned budget.\n",
      "* **“Salary is competitive”:** A statement about whether the salary is in line with market rates.\n",
      "\n",
      "**5.  More Advanced Indicators (Often Subtle):**\n",
      "\n",
      "* **“We offer a comprehensive benefits package”:** Might implicitly include salary information.\n",
      "* **“We are committed to fair compensation”:**  While broader, it can point towards a fair salary range.\n",
      "\n",
      "**Important Considerations:**\n",
      "\n",
      "* **Context is King:**  The *combination* of these indicators is far more valuable than any single one.\n",
      "* **Implied Information:**  Sometimes, salary ranges are implied rather than explicitly stated.  For example, a job description might say \"Responsibilities include...\" followed by a salary expectation.\n",
      "* **Regional Variations:** Salary ranges can vary significantly based on location.\n",
      "\n",
      "To help me refine my extraction, could you provide me with a sample job description you'd like me to analyze?\n",
      "\n"
     ]
    }
   ],
   "source": [
    "messages_static = RBIC_static_messages(verbose=True, add_fewshot=False)"
   ]
  },
  {
   "cell_type": "code",
   "execution_count": 51,
   "metadata": {
    "tags": []
   },
   "outputs": [],
   "source": [
    "# df to store model predictions\n",
    "test_pred_df = pd.DataFrame(columns=[\"y_pred\"])"
   ]
  },
  {
   "cell_type": "code",
   "execution_count": 52,
   "metadata": {
    "tags": []
   },
   "outputs": [
    {
     "name": "stderr",
     "output_type": "stream",
     "text": [
      " 12%|█▏        | 67/567 [03:59<29:16,  3.51s/it] "
     ]
    },
    {
     "name": "stdout",
     "output_type": "stream",
     "text": [
      "Failed to parse model output as JSON: ```json\n",
      "{\n",
      "\"Clue\": \"Salary expectations: $X - $Y”\",\n",
      "\"MinSalary\": \"0\",\n",
      "\"MaxSalary\": \"0\",\n",
      "\"Currency\": \"TH\",\n",
      "\"Frequency\": \"None\"\n",
      "}\n",
      "```\n"
     ]
    },
    {
     "name": "stderr",
     "output_type": "stream",
     "text": [
      " 19%|█▊        | 106/567 [07:19<2:04:04, 16.15s/it]"
     ]
    },
    {
     "name": "stdout",
     "output_type": "stream",
     "text": [
      "Failed to parse model output as JSON: Okay, I understand. Please provide the job description text. I will then extract the salary information and return a JSON formatted output according to your specifications.\n"
     ]
    },
    {
     "name": "stderr",
     "output_type": "stream",
     "text": [
      " 72%|███████▏  | 410/567 [30:20<11:37,  4.44s/it]  "
     ]
    },
    {
     "name": "stdout",
     "output_type": "stream",
     "text": [
      "Failed to parse model output as JSON: ```json\n",
      "{\n",
      "  \"Clue\": \"Salary expectations: $X - $Y””\n",
      "}\n",
      "```\n",
      "\n",
      "```json\n",
      "{\n",
      "  \"MinSalary\": \"X - Y\",\n",
      "  \"MaxSalary\": \"Y\",\n",
      "  \"Currency\": \"USD\",\n",
      "  \"Frequency\": \"None\"\n",
      "}\n",
      "```\n"
     ]
    },
    {
     "name": "stderr",
     "output_type": "stream",
     "text": [
      " 77%|███████▋  | 439/567 [32:40<08:35,  4.03s/it]"
     ]
    },
    {
     "name": "stdout",
     "output_type": "stream",
     "text": [
      "Failed to parse model output as JSON: ```json\n",
      "{\n",
      "  \"Clue\": \"“Salary is a key factor in our decision””\n",
      "}\n",
      "```\n"
     ]
    },
    {
     "name": "stderr",
     "output_type": "stream",
     "text": [
      " 86%|████████▌ | 489/567 [36:49<19:37, 15.10s/it]"
     ]
    },
    {
     "name": "stdout",
     "output_type": "stream",
     "text": [
      "Failed to parse model output as JSON: Okay, I understand. Please provide the job description text. I will then analyze it and return the structured salary information in the JSON format you’ve specified.\n"
     ]
    },
    {
     "name": "stderr",
     "output_type": "stream",
     "text": [
      "100%|██████████| 567/567 [41:30<00:00,  4.39s/it]\n"
     ]
    }
   ],
   "source": [
    "for i in tqdm(range(len(test_df))):\n",
    "    desc = {\n",
    "        \"job_title\": test_df.iloc[i].job_title,\n",
    "        \"job_ad_details\": test_df.iloc[i].job_ad_details,\n",
    "        \"nation_short_desc\": test_df.iloc[i].nation_short_desc,\n",
    "        \"salary_additional_text\": test_df.iloc[i].salary_additional_text,\n",
    "    }\n",
    "    desc_str = str(desc)\n",
    "\n",
    "    label = test_df.iloc[i].y_true\n",
    "    label_str = str(label)\n",
    "\n",
    "    label_pred = RBIC(messages_static, desc_str)\n",
    "\n",
    "    test_pred_df.loc[len(test_pred_df)] = label_pred\n",
    "\n",
    "# export the dataframe to a new csv file\n",
    "test_pred_df.to_csv('salary_labelled_test_set_gemma3_rbic_preds.csv', index=False)"
   ]
  },
  {
   "cell_type": "markdown",
   "metadata": {},
   "source": [
    "# Regular prompting"
   ]
  },
  {
   "cell_type": "code",
   "execution_count": 56,
   "metadata": {
    "tags": []
   },
   "outputs": [],
   "source": [
    "# df to store model predictions\n",
    "test_pred_df = pd.DataFrame(columns=[\"y_pred\"])"
   ]
  },
  {
   "cell_type": "code",
   "execution_count": 57,
   "metadata": {
    "tags": []
   },
   "outputs": [],
   "source": [
    "messages_static = [\n",
    "    {\"role\": \"system\", \"content\": \"You are an expert job ad annotator.\"},\n",
    "]"
   ]
  },
  {
   "cell_type": "code",
   "execution_count": 58,
   "metadata": {
    "tags": []
   },
   "outputs": [
    {
     "name": "stderr",
     "output_type": "stream",
     "text": [
      " 84%|████████▍ | 477/567 [14:19<02:38,  1.77s/it]"
     ]
    },
    {
     "name": "stdout",
     "output_type": "stream",
     "text": [
      "Failed to parse model output as JSON: Okay, I'm ready to analyze the job description and extract the salary information in the specified JSON format. Please provide the job description text.\n",
      "\n"
     ]
    },
    {
     "name": "stderr",
     "output_type": "stream",
     "text": [
      "100%|██████████| 567/567 [17:00<00:00,  1.80s/it]\n"
     ]
    }
   ],
   "source": [
    "for i in tqdm(range(len(test_df))):\n",
    "    desc = {\n",
    "        \"job_title\": test_df.iloc[i].job_title,\n",
    "        \"job_ad_details\": test_df.iloc[i].job_ad_details,\n",
    "        \"nation_short_desc\": test_df.iloc[i].nation_short_desc,\n",
    "        \"salary_additional_text\": test_df.iloc[i].salary_additional_text,\n",
    "    }\n",
    "    desc_str = str(desc)\n",
    "\n",
    "    messages = copy.deepcopy(messages_static)\n",
    "    messages.append({\n",
    "        \"role\": \"user\",\n",
    "        \"content\": (\n",
    "            f\"{desc_str} Extract structured salary information from this job description in the format: min-max-currency-frequency. \"\n",
    "            \"Respond in JSON: {\\\"MinSalary\\\": \\\"\\\", \\\"MaxSalary\\\": \\\"\\\", \\\"Currency\\\": \\\"\\\", \\\"Frequency\\\": \\\"\\\"}. \"\n",
    "            \"If not provided explicitly, output 0 for \\\"MinSalary\\\" and \\\"MaxSalary\\\", and \\\"None\\\" for \\\"Currency\\\" and \\\"Frequency\\\". \"\n",
    "            \"If the salary is mentioned, always output a range, where MinSalary and MaxSalary can be equal. \"\n",
    "            \"Use 'nation_short_desc' to determine the correct currency. \"\n",
    "            \"Output the currency as 3 letters. Use adverb to output frequency (annually, monthly, daily or hourly).\"\n",
    "        )\n",
    "    })\n",
    "    \n",
    "    response = pipe(messages, max_new_tokens=1000)\n",
    "    answer_str = response[0][\"generated_text\"][-1][\"content\"]\n",
    "\n",
    "    # format the output\n",
    "    try:\n",
    "        answer_str_ = answer_str[answer_str.find('{'):answer_str.find('}') + 1]\n",
    "        answer_str_ = answer_str_.replace('“', '\"')\n",
    "        answer_str_ = answer_str_.replace('”', '\"')\n",
    "        answer = json.loads(answer_str_)\n",
    "\n",
    "        label = f\"{answer['MinSalary'] if 'MinSalary' in answer else 0}-{answer['MaxSalary'] if 'MaxSalary' in answer else 0}-{answer['Currency'].upper() if 'Currency' in answer else 'None'}-{answer['Frequency'].upper() if 'Frequency' in answer else  'None'}\"\n",
    "\n",
    "    except json.JSONDecodeError:\n",
    "        print(f\"Failed to parse model output as JSON: {answer_str}\")\n",
    "        label = \"ERROR \" + answer_str\n",
    "\n",
    "    test_pred_df.loc[len(test_pred_df)] = label\n",
    "\n",
    "# export the dataframe to a new csv file\n",
    "test_pred_df.to_csv('salary_labelled_test_set_gemma3_preds.csv', index=False)"
   ]
  },
  {
   "cell_type": "markdown",
   "metadata": {},
   "source": [
    "# Metrics"
   ]
  },
  {
   "cell_type": "code",
   "execution_count": 5,
   "metadata": {},
   "outputs": [],
   "source": [
    "import json\n",
    "import string\n",
    "import pandas as pd"
   ]
  },
  {
   "cell_type": "code",
   "execution_count": 6,
   "metadata": {},
   "outputs": [],
   "source": [
    "def simple_post_process(row):\n",
    "    if 'ERROR' not in row:\n",
    "        row = row.translate(str.maketrans('', '', '\"'))\n",
    "        try:\n",
    "            mn, mx, cur, freq = row.split('-')\n",
    "        except Exception:\n",
    "            row_split = row.split('-')\n",
    "            mn = row_split[0]\n",
    "            mx = ''.join(c for c in mn if c.isdigit())\n",
    "            mx = row_split[-3]\n",
    "            mx = ''.join(c for c in mx if c.isdigit())\n",
    "            cur = row_split[-2]\n",
    "            freq = row_split[-1]\n",
    "        # 'NONE' -> 'None'\n",
    "        cur = 'None' if cur == 'NONE' else cur\n",
    "        freq = 'None' if freq == 'NONE' else freq\n",
    "        # cast min and max salary to int\n",
    "        try:\n",
    "            mn = int(round(float(mn)))\n",
    "        except Exception:\n",
    "            mn = 0\n",
    "        try:\n",
    "            mx = int(round(float(mx)))\n",
    "        except Exception:\n",
    "            mx = 0\n",
    "        return str(mn), str(mx), cur, freq, f'{mn}-{mx}-{cur}-{freq}'\n",
    "    else:\n",
    "        row = row.strip()\n",
    "        try:\n",
    "            row = row[row.find('{'):-4]\n",
    "            row_data = json.loads(row)\n",
    "        except Exception:\n",
    "            return 0, 0, 'None', 'None', '0-0-None-None'\n",
    "        row_data = row_data['Full Time'] if 'Full Time' in row_data else (row_data['Full-timer'] if 'Full-timer' in row_data else row_data)\n",
    "        try:\n",
    "            mn = row_data['MinSalary']\n",
    "            mx = row_data['MaxSalary']\n",
    "            cur = row_data['Currency']\n",
    "            freq = row_data['Frequency']\n",
    "        except Exception:\n",
    "            return 0, 0, 'None', 'None', '0-0-None-None'\n",
    "        # 'NONE' -> 'None'\n",
    "        cur = 'None' if cur == 'NONE' else cur\n",
    "        freq = 'None' if freq == 'NONE' else freq\n",
    "        # cast min and max salary to int\n",
    "        mn = int(round(float(mn)))\n",
    "        mx = int(round(float(mx)))\n",
    "        return str(mn), str(mx), cur, freq, f'{mn}-{mx}-{cur}-{freq}'\n",
    "\n",
    "def split_target(row):\n",
    "    mn, mx, cur, freq = row.split('-')\n",
    "    return mn, mx, cur, freq\n",
    "\n",
    "def get_accuracy(path_to_preds):\n",
    "    preds = pd.read_csv(path_to_preds)\n",
    "    test_df = pd.read_csv('data/salary_labelled_test_set_cleaned.csv')\n",
    "    \n",
    "    test_df['y_pred'] = preds.values.reshape(-1)\n",
    "    \n",
    "    test_df['min_salary_pred'], test_df['max_salary_pred'], test_df['currency_pred'], test_df['freq_pred'], test_df['y_pred'] = zip(*test_df['y_pred'].map(simple_post_process))\n",
    "    test_df['min_salary_true'], test_df['max_salary_true'], test_df['currency_true'], test_df['freq_true'] = zip(*test_df['y_true'].map(split_target))\n",
    "    \n",
    "    acc_overall = (test_df['y_pred'] == test_df['y_true']).mean() * 100\n",
    "    acc_min = (test_df['min_salary_pred'] == test_df['min_salary_true']).mean() * 100\n",
    "    acc_max = (test_df['max_salary_pred'] == test_df['max_salary_true']).mean() * 100\n",
    "    acc_curr = (test_df['currency_pred'] == test_df['currency_true']).mean() * 100\n",
    "    acc_freq = (test_df['freq_pred'] == test_df['freq_true']).mean() * 100\n",
    "    \n",
    "    res = pd.DataFrame(\n",
    "        {\n",
    "            'Overall': round(acc_overall, 2),\n",
    "            'Min Salary': round(acc_min, 2),\n",
    "            'Max Salary': round(acc_max, 2),\n",
    "            'Currency': round(acc_curr, 2),\n",
    "            'Frequency': round(acc_freq, 2),\n",
    "        },\n",
    "        index=['Accuracy (%)']\n",
    "    )\n",
    "    \n",
    "    return res"
   ]
  },
  {
   "cell_type": "code",
   "execution_count": 9,
   "metadata": {},
   "outputs": [
    {
     "data": {
      "text/html": [
       "<div>\n",
       "<style scoped>\n",
       "    .dataframe tbody tr th:only-of-type {\n",
       "        vertical-align: middle;\n",
       "    }\n",
       "\n",
       "    .dataframe tbody tr th {\n",
       "        vertical-align: top;\n",
       "    }\n",
       "\n",
       "    .dataframe thead th {\n",
       "        text-align: right;\n",
       "    }\n",
       "</style>\n",
       "<table border=\"1\" class=\"dataframe\">\n",
       "  <thead>\n",
       "    <tr style=\"text-align: right;\">\n",
       "      <th></th>\n",
       "      <th>Overall</th>\n",
       "      <th>Min Salary</th>\n",
       "      <th>Max Salary</th>\n",
       "      <th>Currency</th>\n",
       "      <th>Frequency</th>\n",
       "    </tr>\n",
       "  </thead>\n",
       "  <tbody>\n",
       "    <tr>\n",
       "      <th>Accuracy (%)</th>\n",
       "      <td>3.17</td>\n",
       "      <td>65.78</td>\n",
       "      <td>56.79</td>\n",
       "      <td>8.47</td>\n",
       "      <td>32.8</td>\n",
       "    </tr>\n",
       "  </tbody>\n",
       "</table>\n",
       "</div>"
      ],
      "text/plain": [
       "              Overall  Min Salary  Max Salary  Currency  Frequency\n",
       "Accuracy (%)     3.17       65.78       56.79      8.47       32.8"
      ]
     },
     "execution_count": 9,
     "metadata": {},
     "output_type": "execute_result"
    }
   ],
   "source": [
    "get_accuracy('salary_labelled_test_set_gemma3_rbic_fewshot_preds.csv')"
   ]
  },
  {
   "cell_type": "code",
   "execution_count": 10,
   "metadata": {},
   "outputs": [
    {
     "data": {
      "text/html": [
       "<div>\n",
       "<style scoped>\n",
       "    .dataframe tbody tr th:only-of-type {\n",
       "        vertical-align: middle;\n",
       "    }\n",
       "\n",
       "    .dataframe tbody tr th {\n",
       "        vertical-align: top;\n",
       "    }\n",
       "\n",
       "    .dataframe thead th {\n",
       "        text-align: right;\n",
       "    }\n",
       "</style>\n",
       "<table border=\"1\" class=\"dataframe\">\n",
       "  <thead>\n",
       "    <tr style=\"text-align: right;\">\n",
       "      <th></th>\n",
       "      <th>Overall</th>\n",
       "      <th>Min Salary</th>\n",
       "      <th>Max Salary</th>\n",
       "      <th>Currency</th>\n",
       "      <th>Frequency</th>\n",
       "    </tr>\n",
       "  </thead>\n",
       "  <tbody>\n",
       "    <tr>\n",
       "      <th>Accuracy (%)</th>\n",
       "      <td>4.76</td>\n",
       "      <td>81.48</td>\n",
       "      <td>72.49</td>\n",
       "      <td>21.69</td>\n",
       "      <td>58.38</td>\n",
       "    </tr>\n",
       "  </tbody>\n",
       "</table>\n",
       "</div>"
      ],
      "text/plain": [
       "              Overall  Min Salary  Max Salary  Currency  Frequency\n",
       "Accuracy (%)     4.76       81.48       72.49     21.69      58.38"
      ]
     },
     "execution_count": 10,
     "metadata": {},
     "output_type": "execute_result"
    }
   ],
   "source": [
    "get_accuracy('salary_labelled_test_set_gemma3_rbic_preds.csv')"
   ]
  },
  {
   "cell_type": "code",
   "execution_count": 11,
   "metadata": {},
   "outputs": [
    {
     "data": {
      "text/html": [
       "<div>\n",
       "<style scoped>\n",
       "    .dataframe tbody tr th:only-of-type {\n",
       "        vertical-align: middle;\n",
       "    }\n",
       "\n",
       "    .dataframe tbody tr th {\n",
       "        vertical-align: top;\n",
       "    }\n",
       "\n",
       "    .dataframe thead th {\n",
       "        text-align: right;\n",
       "    }\n",
       "</style>\n",
       "<table border=\"1\" class=\"dataframe\">\n",
       "  <thead>\n",
       "    <tr style=\"text-align: right;\">\n",
       "      <th></th>\n",
       "      <th>Overall</th>\n",
       "      <th>Min Salary</th>\n",
       "      <th>Max Salary</th>\n",
       "      <th>Currency</th>\n",
       "      <th>Frequency</th>\n",
       "    </tr>\n",
       "  </thead>\n",
       "  <tbody>\n",
       "    <tr>\n",
       "      <th>Accuracy (%)</th>\n",
       "      <td>8.99</td>\n",
       "      <td>51.85</td>\n",
       "      <td>52.91</td>\n",
       "      <td>35.8</td>\n",
       "      <td>47.44</td>\n",
       "    </tr>\n",
       "  </tbody>\n",
       "</table>\n",
       "</div>"
      ],
      "text/plain": [
       "              Overall  Min Salary  Max Salary  Currency  Frequency\n",
       "Accuracy (%)     8.99       51.85       52.91      35.8      47.44"
      ]
     },
     "execution_count": 11,
     "metadata": {},
     "output_type": "execute_result"
    }
   ],
   "source": [
    "get_accuracy('salary_labelled_test_set_gemma3_preds.csv')"
   ]
  }
 ],
 "metadata": {
  "accelerator": "GPU",
  "colab": {
   "gpuType": "T4",
   "provenance": []
  },
  "kernelspec": {
   "display_name": "Python 3 (ipykernel)",
   "language": "python",
   "name": "python3"
  },
  "language_info": {
   "codemirror_mode": {
    "name": "ipython",
    "version": 3
   },
   "file_extension": ".py",
   "mimetype": "text/x-python",
   "name": "python",
   "nbconvert_exporter": "python",
   "pygments_lexer": "ipython3",
   "version": "3.9.21"
  }
 },
 "nbformat": 4,
 "nbformat_minor": 4
}
