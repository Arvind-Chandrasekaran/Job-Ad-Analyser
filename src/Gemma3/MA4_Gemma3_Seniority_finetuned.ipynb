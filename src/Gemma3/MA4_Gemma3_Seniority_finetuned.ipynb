{
 "cells": [
  {
   "cell_type": "code",
   "execution_count": null,
   "id": "b4dcde1a-864a-4a9c-8e29-27740eeaf2b6",
   "metadata": {
    "scrolled": true,
    "tags": []
   },
   "outputs": [],
   "source": [
    "! pip install --upgrade transformers==4.50.1 trl\n",
    "! pip install 'accelerate>=0.26.0'"
   ]
  },
  {
   "cell_type": "code",
   "execution_count": null,
   "id": "6badcf05-0f5c-4cea-89d8-989666366c6f",
   "metadata": {
    "tags": []
   },
   "outputs": [],
   "source": [
    "import copy\n",
    "import json\n",
    "import os\n",
    "import pathlib\n",
    "import warnings\n",
    "\n",
    "from datasets import Dataset, load_dataset\n",
    "import pandas as pd\n",
    "from peft import LoraConfig, get_peft_model\n",
    "import torch\n",
    "from transformers import AutoModelForCausalLM, AutoTokenizer\n",
    "from trl import SFTConfig, SFTTrainer\n",
    "from tqdm import tqdm\n",
    "from typing import Optional, Callable\n",
    "import wandb"
   ]
  },
  {
   "cell_type": "markdown",
   "id": "18a8de97-4dd5-479f-9797-913c8a2b9a6b",
   "metadata": {
    "tags": []
   },
   "source": [
    "# Create Dataset"
   ]
  },
  {
   "cell_type": "code",
   "execution_count": 9,
   "id": "346654db-9f4e-4f12-aedb-beb45fb37724",
   "metadata": {
    "tags": []
   },
   "outputs": [],
   "source": [
    "data = pd.read_csv('data/seniority_labelled_development_set_cleaned.csv')"
   ]
  },
  {
   "cell_type": "code",
   "execution_count": 10,
   "id": "516343ec-b56f-456d-a407-171b197a8172",
   "metadata": {
    "tags": []
   },
   "outputs": [
    {
     "data": {
      "text/html": [
       "<div>\n",
       "<style scoped>\n",
       "    .dataframe tbody tr th:only-of-type {\n",
       "        vertical-align: middle;\n",
       "    }\n",
       "\n",
       "    .dataframe tbody tr th {\n",
       "        vertical-align: top;\n",
       "    }\n",
       "\n",
       "    .dataframe thead th {\n",
       "        text-align: right;\n",
       "    }\n",
       "</style>\n",
       "<table border=\"1\" class=\"dataframe\">\n",
       "  <thead>\n",
       "    <tr style=\"text-align: right;\">\n",
       "      <th></th>\n",
       "      <th>job_id</th>\n",
       "      <th>job_title</th>\n",
       "      <th>job_summary</th>\n",
       "      <th>job_ad_details</th>\n",
       "      <th>classification_name</th>\n",
       "      <th>subclassification_name</th>\n",
       "      <th>y_true</th>\n",
       "    </tr>\n",
       "  </thead>\n",
       "  <tbody>\n",
       "    <tr>\n",
       "      <th>0</th>\n",
       "      <td>30765949</td>\n",
       "      <td>Electrical BIM modeller - Contract role - Sydney</td>\n",
       "      <td>Multinational consultancy seeks Electrical BIM...</td>\n",
       "      <td>About the company    Multinational consultancy...</td>\n",
       "      <td>Engineering</td>\n",
       "      <td>Engineering Drafting</td>\n",
       "      <td>intermediate</td>\n",
       "    </tr>\n",
       "    <tr>\n",
       "      <th>1</th>\n",
       "      <td>38536238</td>\n",
       "      <td>Marketing Manager - Tourism</td>\n",
       "      <td>A leading global lifestyle &amp; entertainment gro...</td>\n",
       "      <td>A true global leader in the lifestyle and ente...</td>\n",
       "      <td>Marketing &amp; Communications</td>\n",
       "      <td>Event Management</td>\n",
       "      <td>senior</td>\n",
       "    </tr>\n",
       "    <tr>\n",
       "      <th>2</th>\n",
       "      <td>29958739</td>\n",
       "      <td>Quality Coordinator Registered Nurse - Aged care</td>\n",
       "      <td>Quality Systems/Process-Driven Registered Nurse</td>\n",
       "      <td>We are seeking to appoint a Quality System...</td>\n",
       "      <td>Healthcare &amp; Medical</td>\n",
       "      <td>Nursing - Aged Care</td>\n",
       "      <td>lead</td>\n",
       "    </tr>\n",
       "    <tr>\n",
       "      <th>3</th>\n",
       "      <td>33276107</td>\n",
       "      <td>National Lean and Quality Manager</td>\n",
       "      <td>Highly influential change and quality leadersh...</td>\n",
       "      <td>Champion Real Change Strong Management Commi...</td>\n",
       "      <td>Manufacturing, Transport &amp; Logistics</td>\n",
       "      <td>Warehousing, Storage &amp; Distribution</td>\n",
       "      <td>head</td>\n",
       "    </tr>\n",
       "    <tr>\n",
       "      <th>4</th>\n",
       "      <td>31399187</td>\n",
       "      <td>Experienced Registered Nurses: casual positions</td>\n",
       "      <td>Experienced Medical/Surgical Nurses required f...</td>\n",
       "      <td>Princess Alexandra Hospital is currently emplo...</td>\n",
       "      <td>Healthcare &amp; Medical</td>\n",
       "      <td>Nursing - General Medical &amp; Surgical</td>\n",
       "      <td>experienced</td>\n",
       "    </tr>\n",
       "    <tr>\n",
       "      <th>...</th>\n",
       "      <td>...</td>\n",
       "      <td>...</td>\n",
       "      <td>...</td>\n",
       "      <td>...</td>\n",
       "      <td>...</td>\n",
       "      <td>...</td>\n",
       "      <td>...</td>\n",
       "    </tr>\n",
       "    <tr>\n",
       "      <th>2747</th>\n",
       "      <td>35851466</td>\n",
       "      <td>Truck Driver - Pneumatic Tanker</td>\n",
       "      <td>Truck Drivers required for tanker work out of ...</td>\n",
       "      <td>Qube is Australia’s largest integrated provide...</td>\n",
       "      <td>Manufacturing, Transport &amp; Logistics</td>\n",
       "      <td>Road Transport</td>\n",
       "      <td>intermediate</td>\n",
       "    </tr>\n",
       "    <tr>\n",
       "      <th>2748</th>\n",
       "      <td>32610438</td>\n",
       "      <td>Senior UI Designer | Front End Developer</td>\n",
       "      <td>Tired of contracting and having to look for a ...</td>\n",
       "      <td>I’m on the hunt for a super star UI Designer a...</td>\n",
       "      <td>Information &amp; Communication Technology</td>\n",
       "      <td>Developers/Programmers</td>\n",
       "      <td>senior</td>\n",
       "    </tr>\n",
       "    <tr>\n",
       "      <th>2749</th>\n",
       "      <td>35925277</td>\n",
       "      <td>Virtual Pharmaceutical Sales Representative</td>\n",
       "      <td>An exciting pharmaceutical telesales position....</td>\n",
       "      <td>Location: North Sydney Hours: Monday to Friday...</td>\n",
       "      <td>Call Centre &amp; Customer Service</td>\n",
       "      <td>Sales - Outbound</td>\n",
       "      <td>entry-level</td>\n",
       "    </tr>\n",
       "    <tr>\n",
       "      <th>2750</th>\n",
       "      <td>40117762</td>\n",
       "      <td>Electrical Design and Draftsperson</td>\n",
       "      <td>We have an opportunity that has become availab...</td>\n",
       "      <td>Electrical Design and Draftsperson (Bunbury an...</td>\n",
       "      <td>Engineering</td>\n",
       "      <td>Electrical/Electronic Engineering</td>\n",
       "      <td>experienced</td>\n",
       "    </tr>\n",
       "    <tr>\n",
       "      <th>2751</th>\n",
       "      <td>39732906</td>\n",
       "      <td>National Talent Specialist</td>\n",
       "      <td>Part-time strategic Talent role</td>\n",
       "      <td>A newly created role reporting to Head of Peop...</td>\n",
       "      <td>Human Resources &amp; Recruitment</td>\n",
       "      <td>Recruitment - Internal</td>\n",
       "      <td>senior</td>\n",
       "    </tr>\n",
       "  </tbody>\n",
       "</table>\n",
       "<p>2752 rows × 7 columns</p>\n",
       "</div>"
      ],
      "text/plain": [
       "        job_id                                         job_title  \\\n",
       "0     30765949  Electrical BIM modeller - Contract role - Sydney   \n",
       "1     38536238                       Marketing Manager - Tourism   \n",
       "2     29958739  Quality Coordinator Registered Nurse - Aged care   \n",
       "3     33276107                 National Lean and Quality Manager   \n",
       "4     31399187  Experienced Registered Nurses: casual positions    \n",
       "...        ...                                               ...   \n",
       "2747  35851466                   Truck Driver - Pneumatic Tanker   \n",
       "2748  32610438         Senior UI Designer | Front End Developer    \n",
       "2749  35925277       Virtual Pharmaceutical Sales Representative   \n",
       "2750  40117762                Electrical Design and Draftsperson   \n",
       "2751  39732906                        National Talent Specialist   \n",
       "\n",
       "                                            job_summary  \\\n",
       "0     Multinational consultancy seeks Electrical BIM...   \n",
       "1     A leading global lifestyle & entertainment gro...   \n",
       "2       Quality Systems/Process-Driven Registered Nurse   \n",
       "3     Highly influential change and quality leadersh...   \n",
       "4     Experienced Medical/Surgical Nurses required f...   \n",
       "...                                                 ...   \n",
       "2747  Truck Drivers required for tanker work out of ...   \n",
       "2748  Tired of contracting and having to look for a ...   \n",
       "2749  An exciting pharmaceutical telesales position....   \n",
       "2750  We have an opportunity that has become availab...   \n",
       "2751                    Part-time strategic Talent role   \n",
       "\n",
       "                                         job_ad_details  \\\n",
       "0     About the company    Multinational consultancy...   \n",
       "1     A true global leader in the lifestyle and ente...   \n",
       "2         We are seeking to appoint a Quality System...   \n",
       "3       Champion Real Change Strong Management Commi...   \n",
       "4     Princess Alexandra Hospital is currently emplo...   \n",
       "...                                                 ...   \n",
       "2747  Qube is Australia’s largest integrated provide...   \n",
       "2748  I’m on the hunt for a super star UI Designer a...   \n",
       "2749  Location: North Sydney Hours: Monday to Friday...   \n",
       "2750  Electrical Design and Draftsperson (Bunbury an...   \n",
       "2751  A newly created role reporting to Head of Peop...   \n",
       "\n",
       "                         classification_name  \\\n",
       "0                                Engineering   \n",
       "1                 Marketing & Communications   \n",
       "2                       Healthcare & Medical   \n",
       "3       Manufacturing, Transport & Logistics   \n",
       "4                       Healthcare & Medical   \n",
       "...                                      ...   \n",
       "2747    Manufacturing, Transport & Logistics   \n",
       "2748  Information & Communication Technology   \n",
       "2749          Call Centre & Customer Service   \n",
       "2750                             Engineering   \n",
       "2751           Human Resources & Recruitment   \n",
       "\n",
       "                    subclassification_name        y_true  \n",
       "0                     Engineering Drafting  intermediate  \n",
       "1                         Event Management        senior  \n",
       "2                      Nursing - Aged Care          lead  \n",
       "3      Warehousing, Storage & Distribution          head  \n",
       "4     Nursing - General Medical & Surgical   experienced  \n",
       "...                                    ...           ...  \n",
       "2747                        Road Transport  intermediate  \n",
       "2748                Developers/Programmers        senior  \n",
       "2749                      Sales - Outbound   entry-level  \n",
       "2750     Electrical/Electronic Engineering   experienced  \n",
       "2751                Recruitment - Internal        senior  \n",
       "\n",
       "[2752 rows x 7 columns]"
      ]
     },
     "execution_count": 10,
     "metadata": {},
     "output_type": "execute_result"
    }
   ],
   "source": [
    "data"
   ]
  },
  {
   "cell_type": "code",
   "execution_count": 11,
   "id": "20d371b3-97dd-4127-8777-dde5747ea6dd",
   "metadata": {
    "tags": []
   },
   "outputs": [
    {
     "name": "stderr",
     "output_type": "stream",
     "text": [
      "100%|██████████| 2752/2752 [00:01<00:00, 1601.38it/s]\n"
     ]
    }
   ],
   "source": [
    "dataset = []\n",
    "\n",
    "for i in tqdm(range(data.shape[0])):\n",
    "    desc = {\n",
    "        \"job_title\": data.iloc[i].job_title,\n",
    "        \"job_summary\": data.iloc[i].job_summary,\n",
    "        \"job_ad_details\": data.iloc[i].job_ad_details,\n",
    "        \"classification_name\": data.iloc[i].classification_name,\n",
    "        \"subclassification_name\": data.iloc[i].subclassification_name,\n",
    "    }\n",
    "    desc_str = str(desc)\n",
    "    \n",
    "    label = f'{{\"seniority_label\": \"{data.iloc[i].y_true}\"}}.'\n",
    "    \n",
    "    messages = []\n",
    "    messages.append(\n",
    "        {\n",
    "            'role': 'system',\n",
    "            'content': 'You are an expert job ad annotator. Your task is to infer the seniority information from job descriptions. The seniority label may be present in the set: [intermediate, senior, lead, head, experienced, entry-level, executive, assistant, senior/lead, deputy, director, trainee, associate, graduate, junior, general-manager, coordinator, student, chief, principal, apprentice, qualified, entry-level to intermediate, senior associate, standard, senior assistant, specialist, mid-level, entry level assistant, experienced assistant, manager, graduate/junior, independent, 1st year apprentice, senior-executive, junior assistant, assistant manager, supervisor, second-in-command, associate director, board, 4th year apprentice, mid-senior, regional head, middle-management, advanced, 2nd year apprentice, intermediate apprentice, level 2, assistant head, owner, post-doctoral, owner-operator, middle management, senior head, assistant director, junior-intermediate, sous, intermediate to senior, senior executive] . If not present in the set, then create a label.'\n",
    "        }\n",
    "    )\n",
    "    messages.append(\n",
    "        {\n",
    "            'role': 'user',\n",
    "            'content': (\n",
    "                f\"{desc_str} Extract seniority label from this job description. The seniority label may be present in the set: [intermediate, senior, lead, head, experienced, entry-level, executive, assistant, senior/lead, deputy, director, trainee, associate, graduate, junior, general-manager, coordinator, student, chief, principal, apprentice, qualified, entry-level to intermediate, senior associate, standard, senior assistant, specialist, mid-level, entry level assistant, experienced assistant, manager, graduate/junior, independent, 1st year apprentice, senior-executive, junior assistant, assistant manager, supervisor, second-in-command, associate director, board, 4th year apprentice, mid-senior, regional head, middle-management, advanced, 2nd year apprentice, intermediate apprentice, level 2, assistant head, owner, post-doctoral, owner-operator, middle management, senior head, assistant director, junior-intermediate, sous, intermediate to senior, senior executive] . If not present in the set, then create a label. \"\n",
    "                \"Respond in JSON: {\\\"seniority_label\\\": \\\"\\\"}.\"\n",
    "            )\n",
    "        }\n",
    "    )\n",
    "    messages.append(\n",
    "        {\n",
    "            'role': 'assistant',\n",
    "            'content': label\n",
    "        }\n",
    "    )\n",
    "    \n",
    "    dataset.append({'messages': messages})"
   ]
  },
  {
   "cell_type": "code",
   "execution_count": 12,
   "id": "54fdc79e-1945-4d2f-be7c-7376bdb1d3da",
   "metadata": {
    "tags": []
   },
   "outputs": [
    {
     "data": {
      "text/plain": [
       "{'messages': [{'role': 'system',\n",
       "   'content': 'You are an expert job ad annotator. Your task is to infer the seniority information from job descriptions. The seniority label may be present in the set: [intermediate, senior, lead, head, experienced, entry-level, executive, assistant, senior/lead, deputy, director, trainee, associate, graduate, junior, general-manager, coordinator, student, chief, principal, apprentice, qualified, entry-level to intermediate, senior associate, standard, senior assistant, specialist, mid-level, entry level assistant, experienced assistant, manager, graduate/junior, independent, 1st year apprentice, senior-executive, junior assistant, assistant manager, supervisor, second-in-command, associate director, board, 4th year apprentice, mid-senior, regional head, middle-management, advanced, 2nd year apprentice, intermediate apprentice, level 2, assistant head, owner, post-doctoral, owner-operator, middle management, senior head, assistant director, junior-intermediate, sous, intermediate to senior, senior executive] . If not present in the set, then create a label.'},\n",
       "  {'role': 'user',\n",
       "   'content': '{\\'job_title\\': \\'Electrical BIM modeller - Contract role - Sydney\\', \\'job_summary\\': \\'Multinational consultancy seeks Electrical BIM modeler for contract role in Sydney\\', \\'job_ad_details\\': \\'About the company \\\\xa0\\\\xa0 Multinational consultancy specializing in building services  About the role  My client is looking for an electrical BIM modeler who is keen to work!\\\\xa0  Duties  Project delivery Drafting documentation Work planning  Skills and Experience  Revit drafting experience Electrical experience Attention to detail Good verbal and written communication skills Good time management skills Building services  Culture  My client is a \\\\xa0market leader and therefore their culture is one of high performance and technical excellence. \\\\xa0They reward employees greatly for the hard work and dedication that they need to put in in order to deliver successful projects.  How to apply  Please submit a full professional resume highlighting your experience with Electrical revit drafting or contact Martyn Durnford - +61 2 8079 0902\\\\xa0- for further information Contract role Multinational consultancey Competitive rate \\', \\'classification_name\\': \\'Engineering\\', \\'subclassification_name\\': \\'Engineering Drafting\\'} Extract seniority label from this job description. The seniority label may be present in the set: [intermediate, senior, lead, head, experienced, entry-level, executive, assistant, senior/lead, deputy, director, trainee, associate, graduate, junior, general-manager, coordinator, student, chief, principal, apprentice, qualified, entry-level to intermediate, senior associate, standard, senior assistant, specialist, mid-level, entry level assistant, experienced assistant, manager, graduate/junior, independent, 1st year apprentice, senior-executive, junior assistant, assistant manager, supervisor, second-in-command, associate director, board, 4th year apprentice, mid-senior, regional head, middle-management, advanced, 2nd year apprentice, intermediate apprentice, level 2, assistant head, owner, post-doctoral, owner-operator, middle management, senior head, assistant director, junior-intermediate, sous, intermediate to senior, senior executive] . If not present in the set, then create a label. Respond in JSON: {\"seniority_label\": \"\"}.'},\n",
       "  {'role': 'assistant', 'content': '{\"seniority_label\": \"intermediate\"}.'}]}"
      ]
     },
     "execution_count": 12,
     "metadata": {},
     "output_type": "execute_result"
    }
   ],
   "source": [
    "dataset[0]"
   ]
  },
  {
   "cell_type": "code",
   "execution_count": 13,
   "id": "6f821aba-3571-4624-9d62-6254f3eb89d7",
   "metadata": {
    "tags": []
   },
   "outputs": [],
   "source": [
    "with open('seniority_dataset.json', 'w') as f:\n",
    "    json.dump(dataset, f)"
   ]
  },
  {
   "cell_type": "markdown",
   "id": "4a991e91-0f99-4c4f-aed8-f161f3fff146",
   "metadata": {
    "jp-MarkdownHeadingCollapsed": true,
    "tags": []
   },
   "source": [
    "# Finetune Gemma 3 1B"
   ]
  },
  {
   "cell_type": "code",
   "execution_count": 3,
   "id": "8769482c-77ba-4de2-a1f6-a9155e73c13f",
   "metadata": {
    "tags": []
   },
   "outputs": [
    {
     "data": {
      "application/vnd.jupyter.widget-view+json": {
       "model_id": "d8abacf108da45fab7f1e7ac150f59c7",
       "version_major": 2,
       "version_minor": 0
      },
      "text/plain": [
       "Generating train split: 0 examples [00:00, ? examples/s]"
      ]
     },
     "metadata": {},
     "output_type": "display_data"
    }
   ],
   "source": [
    "dataset = load_dataset(\"json\", data_files=\"seniority_dataset.json\")"
   ]
  },
  {
   "cell_type": "code",
   "execution_count": 4,
   "id": "8e0d66fb-882a-4178-9a1a-c284b0536bf7",
   "metadata": {
    "tags": []
   },
   "outputs": [
    {
     "data": {
      "text/plain": [
       "DatasetDict({\n",
       "    train: Dataset({\n",
       "        features: ['messages'],\n",
       "        num_rows: 2752\n",
       "    })\n",
       "})"
      ]
     },
     "execution_count": 4,
     "metadata": {},
     "output_type": "execute_result"
    }
   ],
   "source": [
    "dataset"
   ]
  },
  {
   "cell_type": "code",
   "execution_count": 5,
   "id": "3877247a-57db-4094-8828-4d69e46bfd20",
   "metadata": {
    "tags": []
   },
   "outputs": [],
   "source": [
    "model_name = 'google/gemma-3-1b-it'"
   ]
  },
  {
   "cell_type": "code",
   "execution_count": 6,
   "id": "b17494b3-29b6-44e2-be39-d90a5d952207",
   "metadata": {
    "tags": []
   },
   "outputs": [
    {
     "data": {
      "application/vnd.jupyter.widget-view+json": {
       "model_id": "2d0df303da5f4ffeb00f00e8c0d9e2df",
       "version_major": 2,
       "version_minor": 0
      },
      "text/plain": [
       "config.json:   0%|          | 0.00/899 [00:00<?, ?B/s]"
      ]
     },
     "metadata": {},
     "output_type": "display_data"
    },
    {
     "data": {
      "application/vnd.jupyter.widget-view+json": {
       "model_id": "98fa869b86ed4167b95a124b007e57b6",
       "version_major": 2,
       "version_minor": 0
      },
      "text/plain": [
       "model.safetensors:   0%|          | 0.00/2.00G [00:00<?, ?B/s]"
      ]
     },
     "metadata": {},
     "output_type": "display_data"
    },
    {
     "data": {
      "application/vnd.jupyter.widget-view+json": {
       "model_id": "f72a9ff42f7349eab010e476ccf6ccc0",
       "version_major": 2,
       "version_minor": 0
      },
      "text/plain": [
       "generation_config.json:   0%|          | 0.00/215 [00:00<?, ?B/s]"
      ]
     },
     "metadata": {},
     "output_type": "display_data"
    },
    {
     "data": {
      "application/vnd.jupyter.widget-view+json": {
       "model_id": "76b5b02b626c4e9097974407769507a2",
       "version_major": 2,
       "version_minor": 0
      },
      "text/plain": [
       "tokenizer_config.json:   0%|          | 0.00/1.16M [00:00<?, ?B/s]"
      ]
     },
     "metadata": {},
     "output_type": "display_data"
    },
    {
     "data": {
      "application/vnd.jupyter.widget-view+json": {
       "model_id": "29de43bb4bc24496a5382bd41ac07a29",
       "version_major": 2,
       "version_minor": 0
      },
      "text/plain": [
       "tokenizer.model:   0%|          | 0.00/4.69M [00:00<?, ?B/s]"
      ]
     },
     "metadata": {},
     "output_type": "display_data"
    },
    {
     "data": {
      "application/vnd.jupyter.widget-view+json": {
       "model_id": "eae7e3b432f74bdb84ea33baf9ce32ec",
       "version_major": 2,
       "version_minor": 0
      },
      "text/plain": [
       "tokenizer.json:   0%|          | 0.00/33.4M [00:00<?, ?B/s]"
      ]
     },
     "metadata": {},
     "output_type": "display_data"
    },
    {
     "data": {
      "application/vnd.jupyter.widget-view+json": {
       "model_id": "ba2fba772564414084e36c982f7b912b",
       "version_major": 2,
       "version_minor": 0
      },
      "text/plain": [
       "added_tokens.json:   0%|          | 0.00/35.0 [00:00<?, ?B/s]"
      ]
     },
     "metadata": {},
     "output_type": "display_data"
    },
    {
     "data": {
      "application/vnd.jupyter.widget-view+json": {
       "model_id": "f39c8d61ae07476c8437efcd0a1ee9fd",
       "version_major": 2,
       "version_minor": 0
      },
      "text/plain": [
       "special_tokens_map.json:   0%|          | 0.00/662 [00:00<?, ?B/s]"
      ]
     },
     "metadata": {},
     "output_type": "display_data"
    }
   ],
   "source": [
    "# Load model and tokenizer.\n",
    "os.environ['HF_TOKEN'] = 'hf_...' # put your HF access token here if needed\n",
    "# it is adviced to train Gemma3 with eager attention\n",
    "model = AutoModelForCausalLM.from_pretrained(model_name, device_map=\"auto\", attn_implementation=\"eager\")\n",
    "tokenizer = AutoTokenizer.from_pretrained(\n",
    "   model_name, padding=True, truncation=True\n",
    ")"
   ]
  },
  {
   "cell_type": "code",
   "execution_count": 7,
   "id": "f839d538-847f-4fa5-90eb-18e1437a559b",
   "metadata": {
    "tags": []
   },
   "outputs": [
    {
     "name": "stderr",
     "output_type": "stream",
     "text": [
      "\u001b[34m\u001b[1mwandb\u001b[0m: Logging into wandb.ai. (Learn how to deploy a W&B server locally: https://wandb.me/wandb-server)\n",
      "\u001b[34m\u001b[1mwandb\u001b[0m: You can find your API key in your browser here: https://wandb.ai/authorize\n",
      "\u001b[34m\u001b[1mwandb\u001b[0m: Paste an API key from your profile and hit enter, or press ctrl+c to quit:"
     ]
    },
    {
     "name": "stdin",
     "output_type": "stream",
     "text": [
      "  ········\n"
     ]
    },
    {
     "name": "stderr",
     "output_type": "stream",
     "text": [
      "\u001b[34m\u001b[1mwandb\u001b[0m: Appending key for api.wandb.ai to your netrc file: /root/.netrc\n"
     ]
    },
    {
     "data": {
      "text/plain": [
       "True"
      ]
     },
     "execution_count": 7,
     "metadata": {},
     "output_type": "execute_result"
    }
   ],
   "source": [
    "wandb.login()"
   ]
  },
  {
   "cell_type": "code",
   "execution_count": 8,
   "id": "7b8e63c6-b5e3-4e36-a372-2a0ce14b75fa",
   "metadata": {
    "tags": []
   },
   "outputs": [
    {
     "name": "stdout",
     "output_type": "stream",
     "text": [
      "Creating trainer...\n"
     ]
    },
    {
     "data": {
      "application/vnd.jupyter.widget-view+json": {
       "model_id": "6650e55b910044308b4a2666dc60bc79",
       "version_major": 2,
       "version_minor": 0
      },
      "text/plain": [
       "Converting train dataset to ChatML:   0%|          | 0/2752 [00:00<?, ? examples/s]"
      ]
     },
     "metadata": {},
     "output_type": "display_data"
    },
    {
     "data": {
      "application/vnd.jupyter.widget-view+json": {
       "model_id": "55795d9a662242efb96d8cb4a44faf47",
       "version_major": 2,
       "version_minor": 0
      },
      "text/plain": [
       "Applying chat template to train dataset:   0%|          | 0/2752 [00:00<?, ? examples/s]"
      ]
     },
     "metadata": {},
     "output_type": "display_data"
    },
    {
     "data": {
      "application/vnd.jupyter.widget-view+json": {
       "model_id": "e1f1d813a1284c9f99376d1499df9584",
       "version_major": 2,
       "version_minor": 0
      },
      "text/plain": [
       "Tokenizing train dataset:   0%|          | 0/2752 [00:00<?, ? examples/s]"
      ]
     },
     "metadata": {},
     "output_type": "display_data"
    },
    {
     "data": {
      "application/vnd.jupyter.widget-view+json": {
       "model_id": "86bd48af120044d7ba3aed243754df20",
       "version_major": 2,
       "version_minor": 0
      },
      "text/plain": [
       "Truncating train dataset:   0%|          | 0/2752 [00:00<?, ? examples/s]"
      ]
     },
     "metadata": {},
     "output_type": "display_data"
    },
    {
     "name": "stdout",
     "output_type": "stream",
     "text": [
      "[2025-04-22 23:41:38,848] [INFO] [real_accelerator.py:158:get_accelerator] Setting ds_accelerator to cuda (auto detect)\n"
     ]
    },
    {
     "name": "stderr",
     "output_type": "stream",
     "text": [
      "\u001b[34m\u001b[1mwandb\u001b[0m: Currently logged in as: \u001b[33mhuwarr\u001b[0m. Use \u001b[1m`wandb login --relogin`\u001b[0m to force relogin\n"
     ]
    },
    {
     "name": "stdout",
     "output_type": "stream",
     "text": [
      "Training...\n"
     ]
    },
    {
     "data": {
      "text/html": [
       "wandb version 0.19.10 is available!  To upgrade, please run:\n",
       " $ pip install wandb --upgrade"
      ],
      "text/plain": [
       "<IPython.core.display.HTML object>"
      ]
     },
     "metadata": {},
     "output_type": "display_data"
    },
    {
     "data": {
      "text/html": [
       "Tracking run with wandb version 0.15.10"
      ],
      "text/plain": [
       "<IPython.core.display.HTML object>"
      ]
     },
     "metadata": {},
     "output_type": "display_data"
    },
    {
     "data": {
      "text/html": [
       "Run data is saved locally in <code>/notebooks/SEEK-job-data-extractor/wandb/run-20250422_234139-uthvbzv6</code>"
      ],
      "text/plain": [
       "<IPython.core.display.HTML object>"
      ]
     },
     "metadata": {},
     "output_type": "display_data"
    },
    {
     "data": {
      "text/html": [
       "Syncing run <strong><a href='https://wandb.ai/huwarr/huggingface/runs/uthvbzv6' target=\"_blank\">gemma-3-1b-it-seniority</a></strong> to <a href='https://wandb.ai/huwarr/huggingface' target=\"_blank\">Weights & Biases</a> (<a href='https://wandb.me/run' target=\"_blank\">docs</a>)<br/>"
      ],
      "text/plain": [
       "<IPython.core.display.HTML object>"
      ]
     },
     "metadata": {},
     "output_type": "display_data"
    },
    {
     "data": {
      "text/html": [
       " View project at <a href='https://wandb.ai/huwarr/huggingface' target=\"_blank\">https://wandb.ai/huwarr/huggingface</a>"
      ],
      "text/plain": [
       "<IPython.core.display.HTML object>"
      ]
     },
     "metadata": {},
     "output_type": "display_data"
    },
    {
     "data": {
      "text/html": [
       " View run at <a href='https://wandb.ai/huwarr/huggingface/runs/uthvbzv6' target=\"_blank\">https://wandb.ai/huwarr/huggingface/runs/uthvbzv6</a>"
      ],
      "text/plain": [
       "<IPython.core.display.HTML object>"
      ]
     },
     "metadata": {},
     "output_type": "display_data"
    },
    {
     "name": "stderr",
     "output_type": "stream",
     "text": [
      "`use_cache=True` is incompatible with gradient checkpointing. Setting `use_cache=False`.\n"
     ]
    },
    {
     "data": {
      "text/html": [
       "\n",
       "    <div>\n",
       "      \n",
       "      <progress value='1720' max='1720' style='width:300px; height:20px; vertical-align: middle;'></progress>\n",
       "      [1720/1720 3:54:08, Epoch 5/5]\n",
       "    </div>\n",
       "    <table border=\"1\" class=\"dataframe\">\n",
       "  <thead>\n",
       " <tr style=\"text-align: left;\">\n",
       "      <th>Step</th>\n",
       "      <th>Training Loss</th>\n",
       "    </tr>\n",
       "  </thead>\n",
       "  <tbody>\n",
       "    <tr>\n",
       "      <td>50</td>\n",
       "      <td>1.575900</td>\n",
       "    </tr>\n",
       "    <tr>\n",
       "      <td>100</td>\n",
       "      <td>1.476000</td>\n",
       "    </tr>\n",
       "    <tr>\n",
       "      <td>150</td>\n",
       "      <td>1.419600</td>\n",
       "    </tr>\n",
       "    <tr>\n",
       "      <td>200</td>\n",
       "      <td>1.431400</td>\n",
       "    </tr>\n",
       "    <tr>\n",
       "      <td>250</td>\n",
       "      <td>1.409800</td>\n",
       "    </tr>\n",
       "    <tr>\n",
       "      <td>300</td>\n",
       "      <td>1.358200</td>\n",
       "    </tr>\n",
       "    <tr>\n",
       "      <td>350</td>\n",
       "      <td>1.312100</td>\n",
       "    </tr>\n",
       "    <tr>\n",
       "      <td>400</td>\n",
       "      <td>1.017300</td>\n",
       "    </tr>\n",
       "    <tr>\n",
       "      <td>450</td>\n",
       "      <td>1.001100</td>\n",
       "    </tr>\n",
       "    <tr>\n",
       "      <td>500</td>\n",
       "      <td>1.055900</td>\n",
       "    </tr>\n",
       "    <tr>\n",
       "      <td>550</td>\n",
       "      <td>1.040300</td>\n",
       "    </tr>\n",
       "    <tr>\n",
       "      <td>600</td>\n",
       "      <td>1.042700</td>\n",
       "    </tr>\n",
       "    <tr>\n",
       "      <td>650</td>\n",
       "      <td>1.036400</td>\n",
       "    </tr>\n",
       "    <tr>\n",
       "      <td>700</td>\n",
       "      <td>0.943900</td>\n",
       "    </tr>\n",
       "    <tr>\n",
       "      <td>750</td>\n",
       "      <td>0.553800</td>\n",
       "    </tr>\n",
       "    <tr>\n",
       "      <td>800</td>\n",
       "      <td>0.568300</td>\n",
       "    </tr>\n",
       "    <tr>\n",
       "      <td>850</td>\n",
       "      <td>0.566700</td>\n",
       "    </tr>\n",
       "    <tr>\n",
       "      <td>900</td>\n",
       "      <td>0.558100</td>\n",
       "    </tr>\n",
       "    <tr>\n",
       "      <td>950</td>\n",
       "      <td>0.587600</td>\n",
       "    </tr>\n",
       "    <tr>\n",
       "      <td>1000</td>\n",
       "      <td>0.564500</td>\n",
       "    </tr>\n",
       "    <tr>\n",
       "      <td>1050</td>\n",
       "      <td>0.426600</td>\n",
       "    </tr>\n",
       "    <tr>\n",
       "      <td>1100</td>\n",
       "      <td>0.170800</td>\n",
       "    </tr>\n",
       "    <tr>\n",
       "      <td>1150</td>\n",
       "      <td>0.171800</td>\n",
       "    </tr>\n",
       "    <tr>\n",
       "      <td>1200</td>\n",
       "      <td>0.168600</td>\n",
       "    </tr>\n",
       "    <tr>\n",
       "      <td>1250</td>\n",
       "      <td>0.160200</td>\n",
       "    </tr>\n",
       "    <tr>\n",
       "      <td>1300</td>\n",
       "      <td>0.162800</td>\n",
       "    </tr>\n",
       "    <tr>\n",
       "      <td>1350</td>\n",
       "      <td>0.159100</td>\n",
       "    </tr>\n",
       "    <tr>\n",
       "      <td>1400</td>\n",
       "      <td>0.098100</td>\n",
       "    </tr>\n",
       "    <tr>\n",
       "      <td>1450</td>\n",
       "      <td>0.032900</td>\n",
       "    </tr>\n",
       "    <tr>\n",
       "      <td>1500</td>\n",
       "      <td>0.031900</td>\n",
       "    </tr>\n",
       "    <tr>\n",
       "      <td>1550</td>\n",
       "      <td>0.032300</td>\n",
       "    </tr>\n",
       "    <tr>\n",
       "      <td>1600</td>\n",
       "      <td>0.031400</td>\n",
       "    </tr>\n",
       "    <tr>\n",
       "      <td>1650</td>\n",
       "      <td>0.031000</td>\n",
       "    </tr>\n",
       "    <tr>\n",
       "      <td>1700</td>\n",
       "      <td>0.031600</td>\n",
       "    </tr>\n",
       "  </tbody>\n",
       "</table><p>"
      ],
      "text/plain": [
       "<IPython.core.display.HTML object>"
      ]
     },
     "metadata": {},
     "output_type": "display_data"
    },
    {
     "data": {
      "text/plain": [
       "TrainOutput(global_step=1720, training_loss=0.6465190015906511, metrics={'train_runtime': 14057.1108, 'train_samples_per_second': 0.979, 'train_steps_per_second': 0.122, 'total_flos': 5.180814681598464e+16, 'train_loss': 0.6465190015906511})"
      ]
     },
     "execution_count": 8,
     "metadata": {},
     "output_type": "execute_result"
    },
    {
     "name": "stdout",
     "output_type": "stream",
     "text": [
      "Error in callback <bound method _WandbInit._pause_backend of <wandb.sdk.wandb_init._WandbInit object at 0x7fa95d3d3f90>> (for post_run_cell), with arguments args (<ExecutionResult object at 7faad1e79a10, execution_count=8 error_before_exec=None error_in_exec=None info=<ExecutionInfo object at 7faab87cff90, raw_cell=\"seed = 123\n",
      "\n",
      "num_train_epochs = 5\n",
      "max_steps = -1\n",
      "bf..\" store_history=True silent=False shell_futures=True cell_id=7b8e63c6-b5e3-4e36-a372-2a0ce14b75fa> result=TrainOutput(global_step=1720, training_loss=0.6465190015906511, metrics={'train_runtime': 14057.1108, 'train_samples_per_second': 0.979, 'train_steps_per_second': 0.122, 'total_flos': 5.180814681598464e+16, 'train_loss': 0.6465190015906511})>,),kwargs {}:\n"
     ]
    },
    {
     "ename": "TypeError",
     "evalue": "_WandbInit._pause_backend() takes 1 positional argument but 2 were given",
     "output_type": "error",
     "traceback": [
      "\u001b[0;31m---------------------------------------------------------------------------\u001b[0m",
      "\u001b[0;31mTypeError\u001b[0m                                 Traceback (most recent call last)",
      "\u001b[0;31mTypeError\u001b[0m: _WandbInit._pause_backend() takes 1 positional argument but 2 were given"
     ]
    }
   ],
   "source": [
    "seed = 123\n",
    "\n",
    "num_train_epochs = 5\n",
    "max_steps = -1\n",
    "bf16 = False\n",
    "output_dir = 'finetune_gemma3_results'\n",
    "run_name = f\"{model_name.split('/')[-1]}-seniority\"\n",
    "output_dir_final = os.path.join(output_dir, run_name)\n",
    "pathlib.Path(output_dir_final).mkdir(parents=True, exist_ok=True)\n",
    "\n",
    "# Adjust tokenizer settings as warned by the trainer\n",
    "tokenizer.padding_side = 'right'\n",
    "\n",
    "print(\"Creating trainer...\")\n",
    "training_args = SFTConfig(\n",
    "    num_train_epochs=num_train_epochs,\n",
    "    per_device_train_batch_size=1,\n",
    "    gradient_accumulation_steps=8,\n",
    "    gradient_checkpointing=True,\n",
    "    bf16=bf16,\n",
    "    tf32=False, # use tf32 for faster training on Ampere GPUs or newer.\n",
    "    dataloader_pin_memory=False,\n",
    "    torch_compile=False,\n",
    "    warmup_steps=50,\n",
    "    max_steps=max_steps,\n",
    "    learning_rate=1e-4,\n",
    "    lr_scheduler_type=\"cosine\",\n",
    "    weight_decay=0.01,\n",
    "    logging_strategy=\"steps\",\n",
    "    save_strategy=\"steps\",\n",
    "    save_steps=1500,\n",
    "    save_total_limit=10,\n",
    "    logging_steps=50,\n",
    "    output_dir=output_dir_final,\n",
    "    optim=\"paged_adamw_8bit\",\n",
    "    remove_unused_columns=True,\n",
    "    seed=seed,\n",
    "    run_name=run_name,\n",
    "    report_to=\"wandb\",\n",
    "    push_to_hub=False,\n",
    ")\n",
    "\n",
    "trainer = SFTTrainer(\n",
    "    model=model,\n",
    "    args=training_args,\n",
    "    train_dataset=dataset['train'],\n",
    "    processing_class=tokenizer,\n",
    ")\n",
    "\n",
    "print(\"Training...\")\n",
    "trainer.train()"
   ]
  },
  {
   "cell_type": "code",
   "execution_count": 9,
   "id": "4e3cb0f3-2e57-4c1e-b94b-5c95d7641424",
   "metadata": {
    "tags": []
   },
   "outputs": [
    {
     "name": "stdout",
     "output_type": "stream",
     "text": [
      "Error in callback <bound method _WandbInit._resume_backend of <wandb.sdk.wandb_init._WandbInit object at 0x7fa95d3d3f90>> (for pre_run_cell), with arguments args (<ExecutionInfo object at 7fa936f4b950, raw_cell=\"wandb.finish()\" store_history=True silent=False shell_futures=True cell_id=4e3cb0f3-2e57-4c1e-b94b-5c95d7641424>,),kwargs {}:\n"
     ]
    },
    {
     "ename": "TypeError",
     "evalue": "_WandbInit._resume_backend() takes 1 positional argument but 2 were given",
     "output_type": "error",
     "traceback": [
      "\u001b[0;31m---------------------------------------------------------------------------\u001b[0m",
      "\u001b[0;31mTypeError\u001b[0m                                 Traceback (most recent call last)",
      "\u001b[0;31mTypeError\u001b[0m: _WandbInit._resume_backend() takes 1 positional argument but 2 were given"
     ]
    },
    {
     "data": {
      "text/html": [
       "Waiting for W&B process to finish... <strong style=\"color:green\">(success).</strong>"
      ],
      "text/plain": [
       "<IPython.core.display.HTML object>"
      ]
     },
     "metadata": {},
     "output_type": "display_data"
    },
    {
     "data": {
      "text/html": [
       "<style>\n",
       "    table.wandb td:nth-child(1) { padding: 0 10px; text-align: left ; width: auto;} td:nth-child(2) {text-align: left ; width: 100%}\n",
       "    .wandb-row { display: flex; flex-direction: row; flex-wrap: wrap; justify-content: flex-start; width: 100% }\n",
       "    .wandb-col { display: flex; flex-direction: column; flex-basis: 100%; flex: 1; padding: 10px; }\n",
       "    </style>\n",
       "<div class=\"wandb-row\"><div class=\"wandb-col\"><h3>Run history:</h3><br/><table class=\"wandb\"><tr><td>train/epoch</td><td>▁▁▁▂▂▂▂▂▃▃▃▃▄▄▄▄▄▅▅▅▅▅▆▆▆▆▆▇▇▇▇▇███</td></tr><tr><td>train/global_step</td><td>▁▁▁▂▂▂▂▂▃▃▃▃▄▄▄▄▄▅▅▅▅▅▆▆▆▆▆▇▇▇▇▇███</td></tr><tr><td>train/grad_norm</td><td>█▅▅▄▄▄▄▄▃▄▄▃▄▅▄▄▅▄▄▄▅▄▄▄▄▄▄▁▂▂▂▁▂▂</td></tr><tr><td>train/learning_rate</td><td>██████▇▇▇▇▇▆▆▆▅▅▅▄▄▄▃▃▃▃▂▂▂▂▁▁▁▁▁▁</td></tr><tr><td>train/loss</td><td>██▇▇▇▇▇▅▅▆▆▆▆▅▃▃▃▃▄▃▃▂▂▂▂▂▂▁▁▁▁▁▁▁</td></tr><tr><td>train/mean_token_accuracy</td><td>▁▁▂▂▂▂▂▃▃▃▃▃▃▃▅▅▅▅▄▅▅▇▇▇▇▇▇████████</td></tr><tr><td>train/num_tokens</td><td>▁▁▁▂▂▂▂▂▃▃▃▃▄▄▄▄▄▅▅▅▅▅▆▆▆▆▆▇▇▇▇▇███</td></tr></table><br/></div><div class=\"wandb-col\"><h3>Run summary:</h3><br/><table class=\"wandb\"><tr><td>total_flos</td><td>5.180814681598464e+16</td></tr><tr><td>train/epoch</td><td>5.0</td></tr><tr><td>train/global_step</td><td>1720</td></tr><tr><td>train/grad_norm</td><td>0.87303</td></tr><tr><td>train/learning_rate</td><td>0.0</td></tr><tr><td>train/loss</td><td>0.0316</td></tr><tr><td>train/mean_token_accuracy</td><td>0.99225</td></tr><tr><td>train/num_tokens</td><td>12372460.0</td></tr><tr><td>train_loss</td><td>0.64652</td></tr><tr><td>train_runtime</td><td>14057.1108</td></tr><tr><td>train_samples_per_second</td><td>0.979</td></tr><tr><td>train_steps_per_second</td><td>0.122</td></tr></table><br/></div></div>"
      ],
      "text/plain": [
       "<IPython.core.display.HTML object>"
      ]
     },
     "metadata": {},
     "output_type": "display_data"
    },
    {
     "data": {
      "text/html": [
       " View run <strong style=\"color:#cdcd00\">gemma-3-1b-it-seniority</strong> at: <a href='https://wandb.ai/huwarr/huggingface/runs/uthvbzv6' target=\"_blank\">https://wandb.ai/huwarr/huggingface/runs/uthvbzv6</a><br/> View job at <a href='https://wandb.ai/huwarr/huggingface/jobs/QXJ0aWZhY3RDb2xsZWN0aW9uOjYxNzE4ODEyNg==/version_details/v0' target=\"_blank\">https://wandb.ai/huwarr/huggingface/jobs/QXJ0aWZhY3RDb2xsZWN0aW9uOjYxNzE4ODEyNg==/version_details/v0</a><br/>Synced 5 W&B file(s), 0 media file(s), 2 artifact file(s) and 0 other file(s)"
      ],
      "text/plain": [
       "<IPython.core.display.HTML object>"
      ]
     },
     "metadata": {},
     "output_type": "display_data"
    },
    {
     "data": {
      "text/html": [
       "Find logs at: <code>./wandb/run-20250422_234139-uthvbzv6/logs</code>"
      ],
      "text/plain": [
       "<IPython.core.display.HTML object>"
      ]
     },
     "metadata": {},
     "output_type": "display_data"
    }
   ],
   "source": [
    "wandb.finish()"
   ]
  },
  {
   "cell_type": "markdown",
   "id": "020b8328-a685-4974-94ff-09bacf176731",
   "metadata": {},
   "source": [
    "# Inference"
   ]
  },
  {
   "cell_type": "code",
   "execution_count": 2,
   "id": "82526dff-ab81-4d5c-9d66-ad15b696bd16",
   "metadata": {
    "tags": []
   },
   "outputs": [],
   "source": [
    "max_new_tokens = 256\n",
    "model_name = 'google/gemma-3-1b-it'\n",
    "checkpoint_path = 'finetune_gemma3_results/gemma-3-1b-it-seniority/checkpoint-1720/'"
   ]
  },
  {
   "cell_type": "code",
   "execution_count": 3,
   "id": "657c7abb-83f4-41c2-b7d0-5ba6c2ec2cc9",
   "metadata": {
    "tags": []
   },
   "outputs": [],
   "source": [
    "os.environ['HF_TOKEN'] = 'hf_...' # put your HF access token here if needed\n",
    "model = AutoModelForCausalLM.from_pretrained(checkpoint_path, device_map=\"cuda:0\", attn_implementation=\"eager\")\n",
    "tokenizer = AutoTokenizer.from_pretrained(\n",
    "   model_name, padding=True, truncation=True\n",
    ")"
   ]
  },
  {
   "cell_type": "code",
   "execution_count": 4,
   "id": "52fff977-d967-45d5-8bed-fa2ee767ffb7",
   "metadata": {
    "tags": []
   },
   "outputs": [
    {
     "name": "stdout",
     "output_type": "stream",
     "text": [
      "[2025-04-27 14:08:06,983] [INFO] [real_accelerator.py:158:get_accelerator] Setting ds_accelerator to cuda (auto detect)\n"
     ]
    },
    {
     "data": {
      "application/vnd.jupyter.widget-view+json": {
       "model_id": "3f43464e9fac4f71ae29e34bf4f1ea10",
       "version_major": 2,
       "version_minor": 0
      },
      "text/plain": [
       "model.safetensors:   0%|          | 0.00/4.00G [00:00<?, ?B/s]"
      ]
     },
     "metadata": {},
     "output_type": "display_data"
    },
    {
     "data": {
      "text/plain": [
       "CommitInfo(commit_url='https://huggingface.co/huwar/gemma_seniority/commit/4d01a530a22410afeefacfb67cb95a10b10abd17', commit_message='Upload Gemma3ForCausalLM', commit_description='', oid='4d01a530a22410afeefacfb67cb95a10b10abd17', pr_url=None, repo_url=RepoUrl('https://huggingface.co/huwar/gemma_seniority', endpoint='https://huggingface.co', repo_type='model', repo_id='huwar/gemma_seniority'), pr_revision=None, pr_num=None)"
      ]
     },
     "execution_count": 4,
     "metadata": {},
     "output_type": "execute_result"
    }
   ],
   "source": [
    "os.environ['HF_TOKEN'] = 'hf_...'\n",
    "model.push_to_hub('gemma_seniority')"
   ]
  },
  {
   "cell_type": "code",
   "execution_count": 5,
   "id": "139c3159-72cd-420f-8a9b-c2c1aa4757ce",
   "metadata": {
    "tags": []
   },
   "outputs": [
    {
     "data": {
      "application/vnd.jupyter.widget-view+json": {
       "model_id": "39c84ce089e747a3b375e46a664c77f2",
       "version_major": 2,
       "version_minor": 0
      },
      "text/plain": [
       "README.md:   0%|          | 0.00/5.17k [00:00<?, ?B/s]"
      ]
     },
     "metadata": {},
     "output_type": "display_data"
    },
    {
     "data": {
      "application/vnd.jupyter.widget-view+json": {
       "model_id": "0e1985b1303545098ac26000fad9cf40",
       "version_major": 2,
       "version_minor": 0
      },
      "text/plain": [
       "tokenizer.model:   0%|          | 0.00/4.69M [00:00<?, ?B/s]"
      ]
     },
     "metadata": {},
     "output_type": "display_data"
    },
    {
     "data": {
      "application/vnd.jupyter.widget-view+json": {
       "model_id": "85b3a9fd74234441a2f203f322b50d2e",
       "version_major": 2,
       "version_minor": 0
      },
      "text/plain": [
       "tokenizer.json:   0%|          | 0.00/33.4M [00:00<?, ?B/s]"
      ]
     },
     "metadata": {},
     "output_type": "display_data"
    },
    {
     "data": {
      "application/vnd.jupyter.widget-view+json": {
       "model_id": "32959d52f71e4af19e1c23d70d1477d0",
       "version_major": 2,
       "version_minor": 0
      },
      "text/plain": [
       "Upload 2 LFS files:   0%|          | 0/2 [00:00<?, ?it/s]"
      ]
     },
     "metadata": {},
     "output_type": "display_data"
    },
    {
     "data": {
      "text/plain": [
       "CommitInfo(commit_url='https://huggingface.co/huwar/gemma_seniority/commit/c791d9594730764e2509f076225ad2b1991755a9', commit_message='Upload tokenizer', commit_description='', oid='c791d9594730764e2509f076225ad2b1991755a9', pr_url=None, repo_url=RepoUrl('https://huggingface.co/huwar/gemma_seniority', endpoint='https://huggingface.co', repo_type='model', repo_id='huwar/gemma_seniority'), pr_revision=None, pr_num=None)"
      ]
     },
     "execution_count": 5,
     "metadata": {},
     "output_type": "execute_result"
    }
   ],
   "source": [
    "tokenizer.push_to_hub('gemma_seniority')"
   ]
  },
  {
   "cell_type": "code",
   "execution_count": 12,
   "id": "48f2fb53-c47a-406e-a6ff-09d62678c204",
   "metadata": {
    "tags": []
   },
   "outputs": [],
   "source": [
    "test_df = pd.read_csv('data/seniority_labelled_test_set_cleaned.csv')"
   ]
  },
  {
   "cell_type": "markdown",
   "id": "e03da0e4-242f-4320-8db5-b3ba9bd2d575",
   "metadata": {},
   "source": [
    "Example:"
   ]
  },
  {
   "cell_type": "code",
   "execution_count": 13,
   "id": "5860dd4b-d40f-40ad-aeb1-1438777e1ee2",
   "metadata": {
    "tags": []
   },
   "outputs": [],
   "source": [
    "messages_static = [\n",
    "    {\"role\": \"system\", \"content\": \"You are an expert job ad annotator. Your task is to infer the seniority information from job descriptions. The seniority label may be present in the set: [intermediate, senior, lead, head, experienced, entry-level, executive, assistant, senior/lead, deputy, director, trainee, associate, graduate, junior, general-manager, coordinator, student, chief, principal, apprentice, qualified, entry-level to intermediate, senior associate, standard, senior assistant, specialist, mid-level, entry level assistant, experienced assistant, manager, graduate/junior, independent, 1st year apprentice, senior-executive, junior assistant, assistant manager, supervisor, second-in-command, associate director, board, 4th year apprentice, mid-senior, regional head, middle-management, advanced, 2nd year apprentice, intermediate apprentice, level 2, assistant head, owner, post-doctoral, owner-operator, middle management, senior head, assistant director, junior-intermediate, sous, intermediate to senior, senior executive] . If not present in the set, then create a label.\"},\n",
    "]"
   ]
  },
  {
   "cell_type": "code",
   "execution_count": 14,
   "id": "7f3cfd3a-0f3f-4e23-a2c0-21a0e77c392c",
   "metadata": {
    "tags": []
   },
   "outputs": [],
   "source": [
    "i = 0\n",
    "\n",
    "desc = {\n",
    "    \"job_title\": test_df.iloc[i].job_title,\n",
    "    \"job_summary\": test_df.iloc[i].job_summary,\n",
    "    \"job_ad_details\": test_df.iloc[i].job_ad_details,\n",
    "    \"classification_name\": test_df.iloc[i].classification_name,\n",
    "    \"subclassification_name\": test_df.iloc[i].subclassification_name,\n",
    "}\n",
    "desc_str = str(desc)\n",
    "\n",
    "messages = copy.deepcopy(messages_static)\n",
    "messages.append({\n",
    "    \"role\": \"user\",\n",
    "    \"content\": (\n",
    "        f\"{desc_str} Extract seniority label from this job description. The seniority label may be present in the set: [intermediate, senior, lead, head, experienced, entry-level, executive, assistant, senior/lead, deputy, director, trainee, associate, graduate, junior, general-manager, coordinator, student, chief, principal, apprentice, qualified, entry-level to intermediate, senior associate, standard, senior assistant, specialist, mid-level, entry level assistant, experienced assistant, manager, graduate/junior, independent, 1st year apprentice, senior-executive, junior assistant, assistant manager, supervisor, second-in-command, associate director, board, 4th year apprentice, mid-senior, regional head, middle-management, advanced, 2nd year apprentice, intermediate apprentice, level 2, assistant head, owner, post-doctoral, owner-operator, middle management, senior head, assistant director, junior-intermediate, sous, intermediate to senior, senior executive] . If not present in the set, then create a label. \"\n",
    "        \"Respond in JSON: {\\\"seniority_label\\\": \\\"\\\"}.\"\n",
    "    )\n",
    "})"
   ]
  },
  {
   "cell_type": "code",
   "execution_count": 15,
   "id": "677e474d-008f-4149-9f90-ca9946b7f4e5",
   "metadata": {
    "tags": []
   },
   "outputs": [
    {
     "data": {
      "text/plain": [
       "[{'role': 'system',\n",
       "  'content': 'You are an expert job ad annotator. Your task is to infer the seniority information from job descriptions. The seniority label may be present in the set: [intermediate, senior, lead, head, experienced, entry-level, executive, assistant, senior/lead, deputy, director, trainee, associate, graduate, junior, general-manager, coordinator, student, chief, principal, apprentice, qualified, entry-level to intermediate, senior associate, standard, senior assistant, specialist, mid-level, entry level assistant, experienced assistant, manager, graduate/junior, independent, 1st year apprentice, senior-executive, junior assistant, assistant manager, supervisor, second-in-command, associate director, board, 4th year apprentice, mid-senior, regional head, middle-management, advanced, 2nd year apprentice, intermediate apprentice, level 2, assistant head, owner, post-doctoral, owner-operator, middle management, senior head, assistant director, junior-intermediate, sous, intermediate to senior, senior executive] . If not present in the set, then create a label.'},\n",
       " {'role': 'user',\n",
       "  'content': '{\\'job_title\\': \\'Financial Planning and Modelling Manager\\', \\'job_summary\\': \\'.\\', \\'job_ad_details\\': \\' Help us create better connected futures.Make your mark. See the difference. Be recognised.Solve high-impact, complex challengesWork with aligned engaged team membersAbout us At BAI, we draw from our rich history to create even better connected futures.We are both big enough to deliver and maintain large-scale operations and nimble enough to make things happen.We deliver Wi-Fi and cellular connectivity on subways from New York to Hong Kong to Toronto and we keep Australians, from the cities to the outback, connected to what matters to them.We build technology, and teams, that people want to be part of, and we have the courage to not only imagine, but to do, what really matters.Help us imagine and create what’s next. Join us. About the rolePlay a key role in providing support to the Group Planning & Reporting Manager to set up a ‘Centre of Excellence’ in terms of best practice financial modelling for the Group.Provide detailed financial modelling and analysis regarding the Long-Term Plan, this will require liaising with internal stakeholders to review and assess key assumptions and drivers, impact on shareholder distributions, equity value and key ratios of the Group.Contribute to the Growth strategy which will involve building/reviewing and improving business cases on potential M&A and tender opportunities in a national and international basis.Provide leadership and mentoring to one direct report.About you Tertiary qualifications in Accounting / Finance.Minimum of 7-10 years’ experience gained from a big 4 firm, corporate or commercial entity.Strong background in M&A with strong capability in financial modelling (3-way models, business case evaluations, sensitivity analysis). Expert level of proficiency in financial modelling techniques.Highly developed communication skills both written and verbal complemented with the ability to forge partnerships with key stakeholders.Ideally CA/CPA or working towards it.Why work with us The most common connection across our diverse and global employee community, is that our people are deeply driven to make a real difference for others. We are a culture of courage where people do what really matters putting people, customers and community at the heart of every decision. Our leaders are proud to make a difference. together. through innovative and collaborative teamwork. We provide a learning environment where your growth and development matters and meaningful recognition and appreciation for your contribution with competitive compensation, performance bonuses and exceptional health and personal insurance options. Connect now. Join us.\\', \\'classification_name\\': \\'Accounting\\', \\'subclassification_name\\': \\'Financial Accounting & Reporting\\'} Extract seniority label from this job description. The seniority label may be present in the set: [intermediate, senior, lead, head, experienced, entry-level, executive, assistant, senior/lead, deputy, director, trainee, associate, graduate, junior, general-manager, coordinator, student, chief, principal, apprentice, qualified, entry-level to intermediate, senior associate, standard, senior assistant, specialist, mid-level, entry level assistant, experienced assistant, manager, graduate/junior, independent, 1st year apprentice, senior-executive, junior assistant, assistant manager, supervisor, second-in-command, associate director, board, 4th year apprentice, mid-senior, regional head, middle-management, advanced, 2nd year apprentice, intermediate apprentice, level 2, assistant head, owner, post-doctoral, owner-operator, middle management, senior head, assistant director, junior-intermediate, sous, intermediate to senior, senior executive] . If not present in the set, then create a label. Respond in JSON: {\"seniority_label\": \"\"}.'}]"
      ]
     },
     "execution_count": 15,
     "metadata": {},
     "output_type": "execute_result"
    }
   ],
   "source": [
    "messages"
   ]
  },
  {
   "cell_type": "code",
   "execution_count": 16,
   "id": "e921d07d-141f-47ae-990a-67eccb4dc550",
   "metadata": {
    "tags": []
   },
   "outputs": [],
   "source": [
    "prompt = tokenizer.apply_chat_template(messages, tokenize=False)"
   ]
  },
  {
   "cell_type": "code",
   "execution_count": 17,
   "id": "62f9848e-84ba-40ca-9a9f-6e0031fdb85c",
   "metadata": {
    "tags": []
   },
   "outputs": [
    {
     "data": {
      "text/plain": [
       "'<bos><start_of_turn>user\\nYou are an expert job ad annotator. Your task is to infer the seniority information from job descriptions. The seniority label may be present in the set: [intermediate, senior, lead, head, experienced, entry-level, executive, assistant, senior/lead, deputy, director, trainee, associate, graduate, junior, general-manager, coordinator, student, chief, principal, apprentice, qualified, entry-level to intermediate, senior associate, standard, senior assistant, specialist, mid-level, entry level assistant, experienced assistant, manager, graduate/junior, independent, 1st year apprentice, senior-executive, junior assistant, assistant manager, supervisor, second-in-command, associate director, board, 4th year apprentice, mid-senior, regional head, middle-management, advanced, 2nd year apprentice, intermediate apprentice, level 2, assistant head, owner, post-doctoral, owner-operator, middle management, senior head, assistant director, junior-intermediate, sous, intermediate to senior, senior executive] . If not present in the set, then create a label.\\n\\n{\\'job_title\\': \\'Financial Planning and Modelling Manager\\', \\'job_summary\\': \\'.\\', \\'job_ad_details\\': \\' Help us create better connected futures.Make your mark. See the difference. Be recognised.Solve high-impact, complex challengesWork with aligned engaged team membersAbout us At BAI, we draw from our rich history to create even better connected futures.We are both big enough to deliver and maintain large-scale operations and nimble enough to make things happen.We deliver Wi-Fi and cellular connectivity on subways from New York to Hong Kong to Toronto and we keep Australians, from the cities to the outback, connected to what matters to them.We build technology, and teams, that people want to be part of, and we have the courage to not only imagine, but to do, what really matters.Help us imagine and create what’s next. Join us. About the rolePlay a key role in providing support to the Group Planning & Reporting Manager to set up a ‘Centre of Excellence’ in terms of best practice financial modelling for the Group.Provide detailed financial modelling and analysis regarding the Long-Term Plan, this will require liaising with internal stakeholders to review and assess key assumptions and drivers, impact on shareholder distributions, equity value and key ratios of the Group.Contribute to the Growth strategy which will involve building/reviewing and improving business cases on potential M&A and tender opportunities in a national and international basis.Provide leadership and mentoring to one direct report.About you Tertiary qualifications in Accounting / Finance.Minimum of 7-10 years’ experience gained from a big 4 firm, corporate or commercial entity.Strong background in M&A with strong capability in financial modelling (3-way models, business case evaluations, sensitivity analysis). Expert level of proficiency in financial modelling techniques.Highly developed communication skills both written and verbal complemented with the ability to forge partnerships with key stakeholders.Ideally CA/CPA or working towards it.Why work with us The most common connection across our diverse and global employee community, is that our people are deeply driven to make a real difference for others. We are a culture of courage where people do what really matters putting people, customers and community at the heart of every decision. Our leaders are proud to make a difference. together. through innovative and collaborative teamwork. We provide a learning environment where your growth and development matters and meaningful recognition and appreciation for your contribution with competitive compensation, performance bonuses and exceptional health and personal insurance options. Connect now. Join us.\\', \\'classification_name\\': \\'Accounting\\', \\'subclassification_name\\': \\'Financial Accounting & Reporting\\'} Extract seniority label from this job description. The seniority label may be present in the set: [intermediate, senior, lead, head, experienced, entry-level, executive, assistant, senior/lead, deputy, director, trainee, associate, graduate, junior, general-manager, coordinator, student, chief, principal, apprentice, qualified, entry-level to intermediate, senior associate, standard, senior assistant, specialist, mid-level, entry level assistant, experienced assistant, manager, graduate/junior, independent, 1st year apprentice, senior-executive, junior assistant, assistant manager, supervisor, second-in-command, associate director, board, 4th year apprentice, mid-senior, regional head, middle-management, advanced, 2nd year apprentice, intermediate apprentice, level 2, assistant head, owner, post-doctoral, owner-operator, middle management, senior head, assistant director, junior-intermediate, sous, intermediate to senior, senior executive] . If not present in the set, then create a label. Respond in JSON: {\"seniority_label\": \"\"}.<end_of_turn>\\n'"
      ]
     },
     "execution_count": 17,
     "metadata": {},
     "output_type": "execute_result"
    }
   ],
   "source": [
    "prompt"
   ]
  },
  {
   "cell_type": "code",
   "execution_count": 18,
   "id": "fdbf3542-8d83-4478-a09a-81cc602700e9",
   "metadata": {
    "tags": []
   },
   "outputs": [],
   "source": [
    "inputs = tokenizer(prompt, return_tensors=\"pt\").to(model.device)\n",
    "with torch.inference_mode():\n",
    "    outputs = model.generate(**inputs, max_new_tokens=max_new_tokens, pad_token_id=tokenizer.eos_token_id)\n",
    "outputs = outputs[:, inputs['input_ids'].shape[-1]:]\n",
    "response = tokenizer.decode(outputs[0], skip_special_tokens=True)"
   ]
  },
  {
   "cell_type": "code",
   "execution_count": 19,
   "id": "7f562935-032e-4f95-85ff-6e7876232c33",
   "metadata": {
    "tags": []
   },
   "outputs": [
    {
     "data": {
      "text/plain": [
       "'model\\n{\"seniority_label\": \"senior\"}.'"
      ]
     },
     "execution_count": 19,
     "metadata": {},
     "output_type": "execute_result"
    }
   ],
   "source": [
    "response"
   ]
  },
  {
   "cell_type": "code",
   "execution_count": 20,
   "id": "f230f453-847e-4a76-9e6f-c561d2f5c566",
   "metadata": {
    "tags": []
   },
   "outputs": [
    {
     "data": {
      "text/plain": [
       "'{\"seniority_label\": \"senior\"}.'"
      ]
     },
     "execution_count": 20,
     "metadata": {},
     "output_type": "execute_result"
    }
   ],
   "source": [
    "assistant_token = 'model\\n'\n",
    "response[response.find(assistant_token) + len(assistant_token):]"
   ]
  },
  {
   "cell_type": "markdown",
   "id": "939f542f-6844-4364-bcfb-fd31b1957192",
   "metadata": {},
   "source": [
    "Test set:"
   ]
  },
  {
   "cell_type": "code",
   "execution_count": 21,
   "id": "983cb79e-0d6a-4bcb-9571-82c45fc4fcb2",
   "metadata": {
    "tags": []
   },
   "outputs": [],
   "source": [
    "# df to store model predictions\n",
    "test_pred_df = pd.DataFrame(columns=[\"y_pred\"])"
   ]
  },
  {
   "cell_type": "code",
   "execution_count": 22,
   "id": "9da0b991-cb95-4710-a402-321060334ae2",
   "metadata": {
    "tags": []
   },
   "outputs": [],
   "source": [
    "messages_static = [\n",
    "    {\"role\": \"system\", \"content\": \"You are an expert job ad annotator. Your task is to infer the seniority information from job descriptions. The seniority label may be present in the set: [intermediate, senior, lead, head, experienced, entry-level, executive, assistant, senior/lead, deputy, director, trainee, associate, graduate, junior, general-manager, coordinator, student, chief, principal, apprentice, qualified, entry-level to intermediate, senior associate, standard, senior assistant, specialist, mid-level, entry level assistant, experienced assistant, manager, graduate/junior, independent, 1st year apprentice, senior-executive, junior assistant, assistant manager, supervisor, second-in-command, associate director, board, 4th year apprentice, mid-senior, regional head, middle-management, advanced, 2nd year apprentice, intermediate apprentice, level 2, assistant head, owner, post-doctoral, owner-operator, middle management, senior head, assistant director, junior-intermediate, sous, intermediate to senior, senior executive] . If not present in the set, then create a label.\"},\n",
    "]"
   ]
  },
  {
   "cell_type": "code",
   "execution_count": 23,
   "id": "ce6e30af-bae6-4c70-afbb-8b1f994437f1",
   "metadata": {
    "tags": []
   },
   "outputs": [
    {
     "name": "stderr",
     "output_type": "stream",
     "text": [
      "100%|██████████| 689/689 [07:38<00:00,  1.50it/s]\n"
     ]
    }
   ],
   "source": [
    "for i in tqdm(range(len(test_df)), position=0, leave=True):\n",
    "    desc = {\n",
    "        \"job_title\": test_df.iloc[i].job_title,\n",
    "        \"job_summary\": test_df.iloc[i].job_summary,\n",
    "        \"job_ad_details\": test_df.iloc[i].job_ad_details,\n",
    "        \"classification_name\": test_df.iloc[i].classification_name,\n",
    "        \"subclassification_name\": test_df.iloc[i].subclassification_name,\n",
    "    }\n",
    "    desc_str = str(desc)\n",
    "\n",
    "    messages = copy.deepcopy(messages_static)\n",
    "    messages.append({\n",
    "        \"role\": \"user\",\n",
    "        \"content\": (\n",
    "            f\"{desc_str} Extract seniority label from this job description. The seniority label may be present in the set: [intermediate, senior, lead, head, experienced, entry-level, executive, assistant, senior/lead, deputy, director, trainee, associate, graduate, junior, general-manager, coordinator, student, chief, principal, apprentice, qualified, entry-level to intermediate, senior associate, standard, senior assistant, specialist, mid-level, entry level assistant, experienced assistant, manager, graduate/junior, independent, 1st year apprentice, senior-executive, junior assistant, assistant manager, supervisor, second-in-command, associate director, board, 4th year apprentice, mid-senior, regional head, middle-management, advanced, 2nd year apprentice, intermediate apprentice, level 2, assistant head, owner, post-doctoral, owner-operator, middle management, senior head, assistant director, junior-intermediate, sous, intermediate to senior, senior executive] . If not present in the set, then create a label. \"\n",
    "        \"Respond in JSON: {\\\"seniority_label\\\": \\\"\\\"}.\"\n",
    "        )\n",
    "    })\n",
    "    \n",
    "    prompt = tokenizer.apply_chat_template(messages, tokenize=False)\n",
    "    inputs = tokenizer(prompt, return_tensors=\"pt\").to(model.device)\n",
    "    with torch.inference_mode():\n",
    "        outputs = model.generate(**inputs, max_new_tokens=max_new_tokens, pad_token_id=tokenizer.eos_token_id)\n",
    "    outputs = outputs[:, inputs['input_ids'].shape[-1]:]\n",
    "    response = tokenizer.decode(outputs[0], skip_special_tokens=True)\n",
    "    \n",
    "    assistant_token = 'model\\n'\n",
    "    answer_str = response[response.find(assistant_token) + len(assistant_token):]\n",
    "\n",
    "    # format the output\n",
    "    try:\n",
    "        answer_str_ = answer_str[answer_str.find('{'):answer_str.find('}') + 1]\n",
    "        answer_str_ = answer_str_.replace('“', '\"')\n",
    "        answer_str_ = answer_str_.replace('”', '\"')\n",
    "        answer = json.loads(answer_str_)\n",
    "        \n",
    "        label = answer['seniority_label']\n",
    "\n",
    "    except json.JSONDecodeError:\n",
    "        print(f\"Failed to parse model output as JSON: {answer_str}\")\n",
    "        label = \"ERROR \" + answer_str\n",
    "\n",
    "    test_pred_df.loc[len(test_pred_df)] = label"
   ]
  },
  {
   "cell_type": "code",
   "execution_count": 24,
   "id": "26fe7c1a-d554-461f-b854-c3ca33c4dd2c",
   "metadata": {
    "tags": []
   },
   "outputs": [],
   "source": [
    "# export the dataframe to a new csv file\n",
    "test_pred_df.to_csv('seniority_labelled_test_set_gemma3_finetune_preds.csv', index=False)"
   ]
  },
  {
   "cell_type": "markdown",
   "id": "42ce7bcc",
   "metadata": {},
   "source": [
    "# Metrics"
   ]
  },
  {
   "cell_type": "code",
   "execution_count": 1,
   "id": "70dcc794",
   "metadata": {},
   "outputs": [],
   "source": [
    "import json\n",
    "import string\n",
    "import pandas as pd\n",
    "import numpy as np\n",
    "import ast"
   ]
  },
  {
   "cell_type": "code",
   "execution_count": 2,
   "id": "fcaf2d68",
   "metadata": {},
   "outputs": [],
   "source": [
    "def categories(label):\n",
    "    lab = str(label).lower()\n",
    "    if 'entry' in lab:\n",
    "        return 'Entry'\n",
    "    elif 'junior' in lab or 'assistant' in lab:\n",
    "        return 'Junior'\n",
    "    elif 'intermediate' in lab or 'experienced' in lab or 'mid' in lab:\n",
    "        return 'Mid'\n",
    "    elif 'senior' in lab or 'lead' in lab:\n",
    "        return 'Senior'\n",
    "    elif any(x in lab for x in ['manager','director','chief','head','executive','principal']):\n",
    "        return 'Leadership'\n",
    "    else:\n",
    "        return 'Other'\n",
    "    \n",
    "def process(row):\n",
    "    if \"error\" not in row:\n",
    "        row = row.strip().lower()\n",
    "        if '[' in row and ']' in row:\n",
    "            row = ast.literal_eval(row[row.find('['):row.find(']')+1])\n",
    "            row = '/'.join(row)\n",
    "        return row\n",
    "    else:\n",
    "        row = row.strip().lower()\n",
    "        try:\n",
    "            row = row[row.find('{'):row.find('}')+1]\n",
    "            row_data = json.loads(row)\n",
    "        except Exception:\n",
    "            row = row[len('error'):]\n",
    "            row = row.translate(str.maketrans('', '', string.punctuation))\n",
    "            row = row.strip()\n",
    "            if len(row.split(' ')) == 1:\n",
    "                return row\n",
    "            return row\n",
    "        row_data = row_data['clue'] #if 'clue' in row_data else \n",
    "        if row_data == 'yes':\n",
    "            return \"\"\n",
    "        return row_data\n",
    "\n",
    "def get_accuracy(path_to_preds):\n",
    "    preds = pd.read_csv(path_to_preds)\n",
    "    test_df = pd.read_csv('data/seniority_labelled_test_set_cleaned.csv')\n",
    "    \n",
    "    test_df['y_pred'] = preds.values.reshape(-1)\n",
    "    test_df = test_df.fillna('')\n",
    "    \n",
    "    test_df['y_pred'] = test_df['y_pred'].map(process)\n",
    "    test_df['y_true'] = test_df['y_true'].map(process)\n",
    "    \n",
    "    test_df['y_pred_cat'] = test_df['y_pred'].map(categories)\n",
    "    test_df['y_true_cat'] = test_df['y_true'].map(categories)\n",
    "    \n",
    "    exact = (test_df['y_pred'] == test_df['y_true']).mean() * 100\n",
    "    cat = ((test_df['y_pred'] != test_df['y_true']) & (test_df['y_pred_cat'] == test_df['y_true_cat'])).mean() * 100\n",
    "    overall = ((test_df['y_pred'] == test_df['y_true']) | (test_df['y_pred_cat'] == test_df['y_true_cat'])).mean() * 100\n",
    "    \n",
    "    exact_count = (test_df['y_pred'] == test_df['y_true']).sum()\n",
    "    cat_count = ((test_df['y_pred'] != test_df['y_true']) & (test_df['y_pred_cat'] == test_df['y_true_cat'])).sum()\n",
    "    overall_count = ((test_df['y_pred'] == test_df['y_true']) | (test_df['y_pred_cat'] == test_df['y_true_cat'])).sum()\n",
    "    \n",
    "    print(f'Exact: {exact_count}/{test_df.shape[0]}')\n",
    "    print(f'Similar: {cat_count}/{test_df.shape[0]}')\n",
    "    print(f'Overall: {overall_count}/{test_df.shape[0]}')\n",
    "    \n",
    "    res = pd.DataFrame(\n",
    "        {\n",
    "            'Exact': round(exact, 2),\n",
    "            'Similar': round(cat, 2),\n",
    "            'Overall': round(overall, 2),\n",
    "        },\n",
    "        index=['Accuracy (%)']\n",
    "    )\n",
    "    \n",
    "    return res"
   ]
  },
  {
   "cell_type": "code",
   "execution_count": 4,
   "id": "666f4fa9",
   "metadata": {},
   "outputs": [
    {
     "name": "stdout",
     "output_type": "stream",
     "text": [
      "Exact: 449/689\n",
      "Similar: 80/689\n",
      "Overall: 529/689\n"
     ]
    },
    {
     "data": {
      "text/html": [
       "<div>\n",
       "<style scoped>\n",
       "    .dataframe tbody tr th:only-of-type {\n",
       "        vertical-align: middle;\n",
       "    }\n",
       "\n",
       "    .dataframe tbody tr th {\n",
       "        vertical-align: top;\n",
       "    }\n",
       "\n",
       "    .dataframe thead th {\n",
       "        text-align: right;\n",
       "    }\n",
       "</style>\n",
       "<table border=\"1\" class=\"dataframe\">\n",
       "  <thead>\n",
       "    <tr style=\"text-align: right;\">\n",
       "      <th></th>\n",
       "      <th>Exact</th>\n",
       "      <th>Similar</th>\n",
       "      <th>Overall</th>\n",
       "    </tr>\n",
       "  </thead>\n",
       "  <tbody>\n",
       "    <tr>\n",
       "      <th>Accuracy (%)</th>\n",
       "      <td>65.17</td>\n",
       "      <td>11.61</td>\n",
       "      <td>76.78</td>\n",
       "    </tr>\n",
       "  </tbody>\n",
       "</table>\n",
       "</div>"
      ],
      "text/plain": [
       "              Exact  Similar  Overall\n",
       "Accuracy (%)  65.17    11.61    76.78"
      ]
     },
     "execution_count": 4,
     "metadata": {},
     "output_type": "execute_result"
    }
   ],
   "source": [
    "path_to_preds = 'seniority_labelled_test_set_gemma3_finetune_preds.csv'\n",
    "get_accuracy(path_to_preds)"
   ]
  }
 ],
 "metadata": {
  "kernelspec": {
   "display_name": "Python 3 (ipykernel)",
   "language": "python",
   "name": "python3"
  },
  "language_info": {
   "codemirror_mode": {
    "name": "ipython",
    "version": 3
   },
   "file_extension": ".py",
   "mimetype": "text/x-python",
   "name": "python",
   "nbconvert_exporter": "python",
   "pygments_lexer": "ipython3",
   "version": "3.9.21"
  }
 },
 "nbformat": 4,
 "nbformat_minor": 5
}
