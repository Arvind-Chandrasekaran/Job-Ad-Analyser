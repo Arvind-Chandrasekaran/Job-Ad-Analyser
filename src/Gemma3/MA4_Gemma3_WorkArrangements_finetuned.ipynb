{
 "cells": [
  {
   "cell_type": "code",
   "execution_count": null,
   "id": "b4dcde1a-864a-4a9c-8e29-27740eeaf2b6",
   "metadata": {
    "scrolled": true,
    "tags": []
   },
   "outputs": [],
   "source": [
    "! pip install --upgrade transformers==4.50.1 trl\n",
    "! pip install 'accelerate>=0.26.0'"
   ]
  },
  {
   "cell_type": "code",
   "execution_count": null,
   "id": "6badcf05-0f5c-4cea-89d8-989666366c6f",
   "metadata": {
    "tags": []
   },
   "outputs": [],
   "source": [
    "import copy\n",
    "import json\n",
    "import os\n",
    "import pathlib\n",
    "import warnings\n",
    "\n",
    "from datasets import Dataset, load_dataset\n",
    "import pandas as pd\n",
    "from peft import LoraConfig, get_peft_model\n",
    "import torch\n",
    "from transformers import AutoModelForCausalLM, AutoTokenizer\n",
    "from trl import SFTConfig, SFTTrainer\n",
    "from tqdm import tqdm\n",
    "from typing import Optional, Callable\n",
    "import wandb\n",
    "\n",
    "from sklearn.metrics import precision_recall_fscore_support\n",
    "from sklearn.metrics import accuracy_score\n",
    "from sklearn.metrics import classification_report"
   ]
  },
  {
   "cell_type": "markdown",
   "id": "69d73256-6a6e-4ac4-ba3e-612f97f17347",
   "metadata": {
    "tags": []
   },
   "source": [
    "# Create Dataset"
   ]
  },
  {
   "cell_type": "code",
   "execution_count": 7,
   "id": "96a992fa-3c17-4f1d-ba26-077810bfb19a",
   "metadata": {
    "tags": []
   },
   "outputs": [],
   "source": [
    "data = pd.read_csv('data/work_arrangements_development_set.csv')"
   ]
  },
  {
   "cell_type": "code",
   "execution_count": 8,
   "id": "1a0e9ffa-058c-4b85-afa7-13278960f613",
   "metadata": {
    "tags": []
   },
   "outputs": [
    {
     "data": {
      "text/html": [
       "<div>\n",
       "<style scoped>\n",
       "    .dataframe tbody tr th:only-of-type {\n",
       "        vertical-align: middle;\n",
       "    }\n",
       "\n",
       "    .dataframe tbody tr th {\n",
       "        vertical-align: top;\n",
       "    }\n",
       "\n",
       "    .dataframe thead th {\n",
       "        text-align: right;\n",
       "    }\n",
       "</style>\n",
       "<table border=\"1\" class=\"dataframe\">\n",
       "  <thead>\n",
       "    <tr style=\"text-align: right;\">\n",
       "      <th></th>\n",
       "      <th>id</th>\n",
       "      <th>job_ad</th>\n",
       "      <th>y_true</th>\n",
       "    </tr>\n",
       "  </thead>\n",
       "  <tbody>\n",
       "    <tr>\n",
       "      <th>0</th>\n",
       "      <td>79484040</td>\n",
       "      <td>Job title: CEO\\nAbstract: Exciting opportunity...</td>\n",
       "      <td>Remote</td>\n",
       "    </tr>\n",
       "    <tr>\n",
       "      <th>1</th>\n",
       "      <td>80331384</td>\n",
       "      <td>Job title: Home-Based Online ESL Teacher (Onli...</td>\n",
       "      <td>Remote</td>\n",
       "    </tr>\n",
       "    <tr>\n",
       "      <th>2</th>\n",
       "      <td>79721069</td>\n",
       "      <td>Job title: Safeguarding, De La Salle\\nAbstract...</td>\n",
       "      <td>Hybrid</td>\n",
       "    </tr>\n",
       "    <tr>\n",
       "      <th>3</th>\n",
       "      <td>80190376</td>\n",
       "      <td>Job title: Delivery Driver\\nAbstract: Pickup t...</td>\n",
       "      <td>OnSite</td>\n",
       "    </tr>\n",
       "    <tr>\n",
       "      <th>4</th>\n",
       "      <td>80082230</td>\n",
       "      <td>Job title: Store Supervisor\\nAbstract: We are ...</td>\n",
       "      <td>OnSite</td>\n",
       "    </tr>\n",
       "    <tr>\n",
       "      <th>...</th>\n",
       "      <td>...</td>\n",
       "      <td>...</td>\n",
       "      <td>...</td>\n",
       "    </tr>\n",
       "    <tr>\n",
       "      <th>94</th>\n",
       "      <td>80151196</td>\n",
       "      <td>Job title: Senior Pipeline Technical Director\\...</td>\n",
       "      <td>Hybrid</td>\n",
       "    </tr>\n",
       "    <tr>\n",
       "      <th>95</th>\n",
       "      <td>79652545</td>\n",
       "      <td>Job title: Customer Support Administrator\\nAbs...</td>\n",
       "      <td>OnSite</td>\n",
       "    </tr>\n",
       "    <tr>\n",
       "      <th>96</th>\n",
       "      <td>79718230</td>\n",
       "      <td>Job title: Remote Writing Evaluator for AI (As...</td>\n",
       "      <td>Remote</td>\n",
       "    </tr>\n",
       "    <tr>\n",
       "      <th>97</th>\n",
       "      <td>80226188</td>\n",
       "      <td>Job title: People &amp; Culture Advisor\\nAbstract:...</td>\n",
       "      <td>Hybrid</td>\n",
       "    </tr>\n",
       "    <tr>\n",
       "      <th>98</th>\n",
       "      <td>80209702</td>\n",
       "      <td>Job title: Draftsperson\\nAbstract: Residential...</td>\n",
       "      <td>Hybrid</td>\n",
       "    </tr>\n",
       "  </tbody>\n",
       "</table>\n",
       "<p>99 rows × 3 columns</p>\n",
       "</div>"
      ],
      "text/plain": [
       "          id                                             job_ad  y_true\n",
       "0   79484040  Job title: CEO\\nAbstract: Exciting opportunity...  Remote\n",
       "1   80331384  Job title: Home-Based Online ESL Teacher (Onli...  Remote\n",
       "2   79721069  Job title: Safeguarding, De La Salle\\nAbstract...  Hybrid\n",
       "3   80190376  Job title: Delivery Driver\\nAbstract: Pickup t...  OnSite\n",
       "4   80082230  Job title: Store Supervisor\\nAbstract: We are ...  OnSite\n",
       "..       ...                                                ...     ...\n",
       "94  80151196  Job title: Senior Pipeline Technical Director\\...  Hybrid\n",
       "95  79652545  Job title: Customer Support Administrator\\nAbs...  OnSite\n",
       "96  79718230  Job title: Remote Writing Evaluator for AI (As...  Remote\n",
       "97  80226188  Job title: People & Culture Advisor\\nAbstract:...  Hybrid\n",
       "98  80209702  Job title: Draftsperson\\nAbstract: Residential...  Hybrid\n",
       "\n",
       "[99 rows x 3 columns]"
      ]
     },
     "execution_count": 8,
     "metadata": {},
     "output_type": "execute_result"
    }
   ],
   "source": [
    "data"
   ]
  },
  {
   "cell_type": "code",
   "execution_count": 17,
   "id": "7814cde4-8417-4dca-92ee-0c4ac32fbf05",
   "metadata": {
    "tags": []
   },
   "outputs": [],
   "source": [
    "for i in range(data.shape[0]):\n",
    "    desc = data.iloc[i].job_ad\n",
    "    \n",
    "    if desc.strip()[:10] != 'Job title:':\n",
    "        print(i)\n",
    "        print(desc)\n",
    "        print()"
   ]
  },
  {
   "cell_type": "code",
   "execution_count": 18,
   "id": "ee370fb2-7270-4333-a92f-04c4b87f3cc7",
   "metadata": {
    "tags": []
   },
   "outputs": [
    {
     "data": {
      "text/plain": [
       "'Job title: Draftsperson\\nAbstract: Residential Draftsperson to assist our Custom Design team.\\nEmployer: Tallwood Constructions Pty Ltd\\nLocation: busselton\\nHighlights: Flexibility, Variety, Friendly, efficient team\\nContents: Tallwood Custom Built Homes, the South West leading bespoke builders based in Busselton, require the services of a locally based draftsperson experienced in the Western Australian home building industry.\\n Our designer has an exciting pipeline of high-end homes and renovations and requires a draftsperson to assist deliver our client expectations. The position can be flexible in both time and working conditions.\\n Only West Australian applicants please to apply, with questions and applications to Jenna Miller @'"
      ]
     },
     "execution_count": 18,
     "metadata": {},
     "output_type": "execute_result"
    }
   ],
   "source": [
    "desc"
   ]
  },
  {
   "cell_type": "code",
   "execution_count": 23,
   "id": "e62e8dbf-9840-432e-9932-e150ece35d94",
   "metadata": {
    "tags": []
   },
   "outputs": [
    {
     "name": "stderr",
     "output_type": "stream",
     "text": [
      "100%|██████████| 99/99 [00:00<00:00, 5541.58it/s]\n"
     ]
    }
   ],
   "source": [
    "dataset = []\n",
    "\n",
    "for i in tqdm(range(data.shape[0])):\n",
    "    desc = data.iloc[i].job_ad\n",
    "    \n",
    "    label = f'{{\"work_arrangement\": \"{data.iloc[i].y_true}\"}}.'\n",
    "    \n",
    "    messages = []\n",
    "    messages.append(\n",
    "        {\n",
    "            'role': 'system',\n",
    "            'content': 'You are an expert job ad annotator. Your role is to determine the work arrangement of a job from its description. Classify the work arrangement into one of the following: \"Remote\", \"Hybrid\", or \"OnSite\".'\n",
    "        }\n",
    "    )\n",
    "    messages.append(\n",
    "        {\n",
    "            'role': 'user',\n",
    "            'content': (\n",
    "                f'{desc}. Extract work arrangement label from this job description. The label must be one of the following: \"Remote\", \"Hybrid\", or \"OnSite\". '\n",
    "                'Respond in JSON: {\"work_arrangement\": \"\"}.'\n",
    "            )\n",
    "        }\n",
    "    )\n",
    "    messages.append(\n",
    "        {\n",
    "            'role': 'assistant',\n",
    "            'content': label\n",
    "        }\n",
    "    )\n",
    "    \n",
    "    dataset.append({'messages': messages})"
   ]
  },
  {
   "cell_type": "code",
   "execution_count": 24,
   "id": "d1ce27dc-5dab-4c8f-baf6-77cf1d3d62ad",
   "metadata": {
    "tags": []
   },
   "outputs": [
    {
     "data": {
      "text/plain": [
       "{'messages': [{'role': 'system',\n",
       "   'content': 'You are an expert job ad annotator. Your role is to determine the work arrangement of a job from its description. Classify the work arrangement into one of the following: \"Remote\", \"Hybrid\", or \"OnSite\".'},\n",
       "  {'role': 'user',\n",
       "   'content': 'Job title: CEO\\nAbstract: Exciting opportunity to lead and progress our work in addressing the harmful impacts of gendered expectations in disaster. \\n\\n\\nEmployer: Marita Ryan Consulting\\nLocation: melbourne\\nHighlights: Dynamic role in a highly regarded national organisation, Lead change and organisational growth and sustainability, Fully remote working arrangements\\nContents: Full time â€“ 3 year contract (subject to Government funding)\\n Gender and Disaster Australia Ltd. (GADAus) is the leading national organisation offering evidence-based education, training and resources to address the harmful impacts of gendered expectations in disaster.\\n The GADAus Board is currently seeking a highly motivated CEO to lead our organisation. With a dedicated Board, committed team and proven track record for excellence, the organisation is well positioned to expand its core work across the nation. The CEO will provide strategic direction and collaborative, values driven leadership to implement our strategy and ensure achievement of GADAusâ€™s purpose, values and financial sustainability.\\n To be successful in this role you will have experience as a CEO or at Executive level with a strong record of advocacy, stakeholder engagement and influence within community or NFP settings.\\n You bring strong commercial and financial acumen to growth and development within the organisation and have a sound understanding of contemporary governance, along with experience working effectively with a Board.\\n As a leader you are values driven and outcomes focused with a positive â€˜can doâ€™ attitude and have a strong understanding of the role of advocacy in change making. You have exceptional interpersonal and communication skills and your natural approach is inclusive, respectful and professional. For further information on Gender and Disaster Australia please go to https://genderanddisaster.com.au/\\n To apply\\n Our intention is to understand at a high level how your personal values, knowledge and experience align with the key selection criteria (listed in the Position Description). Please complete a cover letter, (up to 3 pages) outlining this and send with your resume to Marita Ryan at Applications close 9am Monday 4th November 2024 Round 1 interviews will be held via Teams on Thursday 14th November 2024\\n For further information Marita Ryan. Extract work arrangement label from this job description. The label must be one of the following: \"Remote\", \"Hybrid\", or \"OnSite\". Respond in JSON: {\"work_arrangement\": \"\"}.'},\n",
       "  {'role': 'assistant', 'content': '{\"work_arrangement\": \"Remote\"}.'}]}"
      ]
     },
     "execution_count": 24,
     "metadata": {},
     "output_type": "execute_result"
    }
   ],
   "source": [
    "dataset[0]"
   ]
  },
  {
   "cell_type": "code",
   "execution_count": 25,
   "id": "2a2101ea-5419-4a3f-9c41-32598dcc6877",
   "metadata": {
    "tags": []
   },
   "outputs": [],
   "source": [
    "with open('work_arrangements_dataset.json', 'w') as f:\n",
    "    json.dump(dataset, f)"
   ]
  },
  {
   "cell_type": "markdown",
   "id": "4a991e91-0f99-4c4f-aed8-f161f3fff146",
   "metadata": {
    "jp-MarkdownHeadingCollapsed": true,
    "tags": []
   },
   "source": [
    "# Finetune Gemma3 1B"
   ]
  },
  {
   "cell_type": "code",
   "execution_count": 4,
   "id": "8769482c-77ba-4de2-a1f6-a9155e73c13f",
   "metadata": {
    "tags": []
   },
   "outputs": [
    {
     "data": {
      "application/vnd.jupyter.widget-view+json": {
       "model_id": "f905afb1a85e40c89f6d36a464cba6d9",
       "version_major": 2,
       "version_minor": 0
      },
      "text/plain": [
       "Generating train split: 0 examples [00:00, ? examples/s]"
      ]
     },
     "metadata": {},
     "output_type": "display_data"
    }
   ],
   "source": [
    "dataset = load_dataset(\"json\", data_files=\"work_arrangements_dataset.json\")"
   ]
  },
  {
   "cell_type": "code",
   "execution_count": 5,
   "id": "8e0d66fb-882a-4178-9a1a-c284b0536bf7",
   "metadata": {
    "tags": []
   },
   "outputs": [
    {
     "data": {
      "text/plain": [
       "DatasetDict({\n",
       "    train: Dataset({\n",
       "        features: ['messages'],\n",
       "        num_rows: 99\n",
       "    })\n",
       "})"
      ]
     },
     "execution_count": 5,
     "metadata": {},
     "output_type": "execute_result"
    }
   ],
   "source": [
    "dataset"
   ]
  },
  {
   "cell_type": "code",
   "execution_count": 6,
   "id": "3877247a-57db-4094-8828-4d69e46bfd20",
   "metadata": {
    "tags": []
   },
   "outputs": [],
   "source": [
    "model_name = 'google/gemma-3-1b-it'"
   ]
  },
  {
   "cell_type": "code",
   "execution_count": 7,
   "id": "b17494b3-29b6-44e2-be39-d90a5d952207",
   "metadata": {
    "tags": []
   },
   "outputs": [
    {
     "data": {
      "application/vnd.jupyter.widget-view+json": {
       "model_id": "6d8ed8de1fc94d2083025f42f095ed8f",
       "version_major": 2,
       "version_minor": 0
      },
      "text/plain": [
       "config.json:   0%|          | 0.00/899 [00:00<?, ?B/s]"
      ]
     },
     "metadata": {},
     "output_type": "display_data"
    },
    {
     "data": {
      "application/vnd.jupyter.widget-view+json": {
       "model_id": "908db2f826724245847bf696e9e86f6e",
       "version_major": 2,
       "version_minor": 0
      },
      "text/plain": [
       "model.safetensors:   0%|          | 0.00/2.00G [00:00<?, ?B/s]"
      ]
     },
     "metadata": {},
     "output_type": "display_data"
    },
    {
     "data": {
      "application/vnd.jupyter.widget-view+json": {
       "model_id": "aa7d9e94cffd45bab44c495eb0cd9411",
       "version_major": 2,
       "version_minor": 0
      },
      "text/plain": [
       "generation_config.json:   0%|          | 0.00/215 [00:00<?, ?B/s]"
      ]
     },
     "metadata": {},
     "output_type": "display_data"
    },
    {
     "data": {
      "application/vnd.jupyter.widget-view+json": {
       "model_id": "c252fc1575714fb2b384d2fe3b6d5d79",
       "version_major": 2,
       "version_minor": 0
      },
      "text/plain": [
       "tokenizer_config.json:   0%|          | 0.00/1.16M [00:00<?, ?B/s]"
      ]
     },
     "metadata": {},
     "output_type": "display_data"
    },
    {
     "data": {
      "application/vnd.jupyter.widget-view+json": {
       "model_id": "4ef2bc6c0a2f461aac30f32105291a13",
       "version_major": 2,
       "version_minor": 0
      },
      "text/plain": [
       "tokenizer.model:   0%|          | 0.00/4.69M [00:00<?, ?B/s]"
      ]
     },
     "metadata": {},
     "output_type": "display_data"
    },
    {
     "data": {
      "application/vnd.jupyter.widget-view+json": {
       "model_id": "6fdc4d2e65f44b49a04742404d63864a",
       "version_major": 2,
       "version_minor": 0
      },
      "text/plain": [
       "tokenizer.json:   0%|          | 0.00/33.4M [00:00<?, ?B/s]"
      ]
     },
     "metadata": {},
     "output_type": "display_data"
    },
    {
     "data": {
      "application/vnd.jupyter.widget-view+json": {
       "model_id": "eb0a94c1ca37404d91015de1b8ec08ff",
       "version_major": 2,
       "version_minor": 0
      },
      "text/plain": [
       "added_tokens.json:   0%|          | 0.00/35.0 [00:00<?, ?B/s]"
      ]
     },
     "metadata": {},
     "output_type": "display_data"
    },
    {
     "data": {
      "application/vnd.jupyter.widget-view+json": {
       "model_id": "4f178ed0b9c3428fb4be3ad80876540c",
       "version_major": 2,
       "version_minor": 0
      },
      "text/plain": [
       "special_tokens_map.json:   0%|          | 0.00/662 [00:00<?, ?B/s]"
      ]
     },
     "metadata": {},
     "output_type": "display_data"
    }
   ],
   "source": [
    "# Load model and tokenizer.\n",
    "os.environ['HF_TOKEN'] = 'hf_...' # put your HF access token here if needed\n",
    "# it is adviced to train Gemma3 with eager attention\n",
    "model = AutoModelForCausalLM.from_pretrained(model_name, device_map=\"auto\", attn_implementation=\"eager\")\n",
    "tokenizer = AutoTokenizer.from_pretrained(\n",
    "   model_name, padding=True, truncation=True\n",
    ")"
   ]
  },
  {
   "cell_type": "code",
   "execution_count": 8,
   "id": "f839d538-847f-4fa5-90eb-18e1437a559b",
   "metadata": {
    "tags": []
   },
   "outputs": [
    {
     "name": "stderr",
     "output_type": "stream",
     "text": [
      "\u001b[34m\u001b[1mwandb\u001b[0m: Logging into wandb.ai. (Learn how to deploy a W&B server locally: https://wandb.me/wandb-server)\n",
      "\u001b[34m\u001b[1mwandb\u001b[0m: You can find your API key in your browser here: https://wandb.ai/authorize\n",
      "\u001b[34m\u001b[1mwandb\u001b[0m: Paste an API key from your profile and hit enter, or press ctrl+c to quit:"
     ]
    },
    {
     "name": "stdin",
     "output_type": "stream",
     "text": [
      "  ········\n"
     ]
    },
    {
     "name": "stderr",
     "output_type": "stream",
     "text": [
      "\u001b[34m\u001b[1mwandb\u001b[0m: Appending key for api.wandb.ai to your netrc file: /root/.netrc\n"
     ]
    },
    {
     "data": {
      "text/plain": [
       "True"
      ]
     },
     "execution_count": 8,
     "metadata": {},
     "output_type": "execute_result"
    }
   ],
   "source": [
    "wandb.login()"
   ]
  },
  {
   "cell_type": "code",
   "execution_count": 9,
   "id": "7b8e63c6-b5e3-4e36-a372-2a0ce14b75fa",
   "metadata": {
    "tags": []
   },
   "outputs": [
    {
     "name": "stdout",
     "output_type": "stream",
     "text": [
      "Creating trainer...\n"
     ]
    },
    {
     "data": {
      "application/vnd.jupyter.widget-view+json": {
       "model_id": "326428f8365f491a8970419d885d7e3e",
       "version_major": 2,
       "version_minor": 0
      },
      "text/plain": [
       "Converting train dataset to ChatML:   0%|          | 0/99 [00:00<?, ? examples/s]"
      ]
     },
     "metadata": {},
     "output_type": "display_data"
    },
    {
     "data": {
      "application/vnd.jupyter.widget-view+json": {
       "model_id": "8081fc3afb744b649b0b4c553e4c3464",
       "version_major": 2,
       "version_minor": 0
      },
      "text/plain": [
       "Applying chat template to train dataset:   0%|          | 0/99 [00:00<?, ? examples/s]"
      ]
     },
     "metadata": {},
     "output_type": "display_data"
    },
    {
     "data": {
      "application/vnd.jupyter.widget-view+json": {
       "model_id": "a1ba6b5ae6084df3abcf91ca49314e90",
       "version_major": 2,
       "version_minor": 0
      },
      "text/plain": [
       "Tokenizing train dataset:   0%|          | 0/99 [00:00<?, ? examples/s]"
      ]
     },
     "metadata": {},
     "output_type": "display_data"
    },
    {
     "data": {
      "application/vnd.jupyter.widget-view+json": {
       "model_id": "3b6476afb425498e92e5b97fe08ac734",
       "version_major": 2,
       "version_minor": 0
      },
      "text/plain": [
       "Truncating train dataset:   0%|          | 0/99 [00:00<?, ? examples/s]"
      ]
     },
     "metadata": {},
     "output_type": "display_data"
    },
    {
     "name": "stdout",
     "output_type": "stream",
     "text": [
      "[2025-04-23 13:36:45,200] [INFO] [real_accelerator.py:158:get_accelerator] Setting ds_accelerator to cuda (auto detect)\n"
     ]
    },
    {
     "name": "stderr",
     "output_type": "stream",
     "text": [
      "\u001b[34m\u001b[1mwandb\u001b[0m: Currently logged in as: \u001b[33mhuwarr\u001b[0m. Use \u001b[1m`wandb login --relogin`\u001b[0m to force relogin\n"
     ]
    },
    {
     "name": "stdout",
     "output_type": "stream",
     "text": [
      "Training...\n"
     ]
    },
    {
     "data": {
      "text/html": [
       "wandb version 0.19.10 is available!  To upgrade, please run:\n",
       " $ pip install wandb --upgrade"
      ],
      "text/plain": [
       "<IPython.core.display.HTML object>"
      ]
     },
     "metadata": {},
     "output_type": "display_data"
    },
    {
     "data": {
      "text/html": [
       "Tracking run with wandb version 0.15.10"
      ],
      "text/plain": [
       "<IPython.core.display.HTML object>"
      ]
     },
     "metadata": {},
     "output_type": "display_data"
    },
    {
     "data": {
      "text/html": [
       "Run data is saved locally in <code>/notebooks/SEEK-job-data-extractor/wandb/run-20250423_133646-2vfppsjz</code>"
      ],
      "text/plain": [
       "<IPython.core.display.HTML object>"
      ]
     },
     "metadata": {},
     "output_type": "display_data"
    },
    {
     "data": {
      "text/html": [
       "Syncing run <strong><a href='https://wandb.ai/huwarr/huggingface/runs/2vfppsjz' target=\"_blank\">gemma-3-1b-it-work_arrangements</a></strong> to <a href='https://wandb.ai/huwarr/huggingface' target=\"_blank\">Weights & Biases</a> (<a href='https://wandb.me/run' target=\"_blank\">docs</a>)<br/>"
      ],
      "text/plain": [
       "<IPython.core.display.HTML object>"
      ]
     },
     "metadata": {},
     "output_type": "display_data"
    },
    {
     "data": {
      "text/html": [
       " View project at <a href='https://wandb.ai/huwarr/huggingface' target=\"_blank\">https://wandb.ai/huwarr/huggingface</a>"
      ],
      "text/plain": [
       "<IPython.core.display.HTML object>"
      ]
     },
     "metadata": {},
     "output_type": "display_data"
    },
    {
     "data": {
      "text/html": [
       " View run at <a href='https://wandb.ai/huwarr/huggingface/runs/2vfppsjz' target=\"_blank\">https://wandb.ai/huwarr/huggingface/runs/2vfppsjz</a>"
      ],
      "text/plain": [
       "<IPython.core.display.HTML object>"
      ]
     },
     "metadata": {},
     "output_type": "display_data"
    },
    {
     "name": "stderr",
     "output_type": "stream",
     "text": [
      "`use_cache=True` is incompatible with gradient checkpointing. Setting `use_cache=False`.\n"
     ]
    },
    {
     "data": {
      "text/html": [
       "\n",
       "    <div>\n",
       "      \n",
       "      <progress value='196' max='196' style='width:300px; height:20px; vertical-align: middle;'></progress>\n",
       "      [196/196 08:15, Epoch 3/4]\n",
       "    </div>\n",
       "    <table border=\"1\" class=\"dataframe\">\n",
       "  <thead>\n",
       " <tr style=\"text-align: left;\">\n",
       "      <th>Step</th>\n",
       "      <th>Training Loss</th>\n",
       "    </tr>\n",
       "  </thead>\n",
       "  <tbody>\n",
       "    <tr>\n",
       "      <td>5</td>\n",
       "      <td>3.132600</td>\n",
       "    </tr>\n",
       "    <tr>\n",
       "      <td>10</td>\n",
       "      <td>2.483800</td>\n",
       "    </tr>\n",
       "    <tr>\n",
       "      <td>15</td>\n",
       "      <td>2.593200</td>\n",
       "    </tr>\n",
       "    <tr>\n",
       "      <td>20</td>\n",
       "      <td>2.873300</td>\n",
       "    </tr>\n",
       "    <tr>\n",
       "      <td>25</td>\n",
       "      <td>2.658500</td>\n",
       "    </tr>\n",
       "    <tr>\n",
       "      <td>30</td>\n",
       "      <td>2.797500</td>\n",
       "    </tr>\n",
       "    <tr>\n",
       "      <td>35</td>\n",
       "      <td>2.397700</td>\n",
       "    </tr>\n",
       "    <tr>\n",
       "      <td>40</td>\n",
       "      <td>2.362000</td>\n",
       "    </tr>\n",
       "    <tr>\n",
       "      <td>45</td>\n",
       "      <td>2.760800</td>\n",
       "    </tr>\n",
       "    <tr>\n",
       "      <td>50</td>\n",
       "      <td>2.555800</td>\n",
       "    </tr>\n",
       "    <tr>\n",
       "      <td>55</td>\n",
       "      <td>1.460100</td>\n",
       "    </tr>\n",
       "    <tr>\n",
       "      <td>60</td>\n",
       "      <td>1.192500</td>\n",
       "    </tr>\n",
       "    <tr>\n",
       "      <td>65</td>\n",
       "      <td>1.263400</td>\n",
       "    </tr>\n",
       "    <tr>\n",
       "      <td>70</td>\n",
       "      <td>1.180100</td>\n",
       "    </tr>\n",
       "    <tr>\n",
       "      <td>75</td>\n",
       "      <td>1.670900</td>\n",
       "    </tr>\n",
       "    <tr>\n",
       "      <td>80</td>\n",
       "      <td>1.462900</td>\n",
       "    </tr>\n",
       "    <tr>\n",
       "      <td>85</td>\n",
       "      <td>1.391900</td>\n",
       "    </tr>\n",
       "    <tr>\n",
       "      <td>90</td>\n",
       "      <td>1.154400</td>\n",
       "    </tr>\n",
       "    <tr>\n",
       "      <td>95</td>\n",
       "      <td>1.412300</td>\n",
       "    </tr>\n",
       "    <tr>\n",
       "      <td>100</td>\n",
       "      <td>1.273300</td>\n",
       "    </tr>\n",
       "    <tr>\n",
       "      <td>105</td>\n",
       "      <td>0.661800</td>\n",
       "    </tr>\n",
       "    <tr>\n",
       "      <td>110</td>\n",
       "      <td>0.471500</td>\n",
       "    </tr>\n",
       "    <tr>\n",
       "      <td>115</td>\n",
       "      <td>0.510000</td>\n",
       "    </tr>\n",
       "    <tr>\n",
       "      <td>120</td>\n",
       "      <td>0.618300</td>\n",
       "    </tr>\n",
       "    <tr>\n",
       "      <td>125</td>\n",
       "      <td>0.282100</td>\n",
       "    </tr>\n",
       "    <tr>\n",
       "      <td>130</td>\n",
       "      <td>0.506800</td>\n",
       "    </tr>\n",
       "    <tr>\n",
       "      <td>135</td>\n",
       "      <td>0.526500</td>\n",
       "    </tr>\n",
       "    <tr>\n",
       "      <td>140</td>\n",
       "      <td>0.484800</td>\n",
       "    </tr>\n",
       "    <tr>\n",
       "      <td>145</td>\n",
       "      <td>0.479600</td>\n",
       "    </tr>\n",
       "    <tr>\n",
       "      <td>150</td>\n",
       "      <td>0.506700</td>\n",
       "    </tr>\n",
       "    <tr>\n",
       "      <td>155</td>\n",
       "      <td>0.111700</td>\n",
       "    </tr>\n",
       "    <tr>\n",
       "      <td>160</td>\n",
       "      <td>0.129000</td>\n",
       "    </tr>\n",
       "    <tr>\n",
       "      <td>165</td>\n",
       "      <td>0.100800</td>\n",
       "    </tr>\n",
       "    <tr>\n",
       "      <td>170</td>\n",
       "      <td>0.105600</td>\n",
       "    </tr>\n",
       "    <tr>\n",
       "      <td>175</td>\n",
       "      <td>0.144900</td>\n",
       "    </tr>\n",
       "    <tr>\n",
       "      <td>180</td>\n",
       "      <td>0.187100</td>\n",
       "    </tr>\n",
       "    <tr>\n",
       "      <td>185</td>\n",
       "      <td>0.115400</td>\n",
       "    </tr>\n",
       "    <tr>\n",
       "      <td>190</td>\n",
       "      <td>0.117700</td>\n",
       "    </tr>\n",
       "    <tr>\n",
       "      <td>195</td>\n",
       "      <td>0.083900</td>\n",
       "    </tr>\n",
       "  </tbody>\n",
       "</table><p>"
      ],
      "text/plain": [
       "<IPython.core.display.HTML object>"
      ]
     },
     "metadata": {},
     "output_type": "display_data"
    },
    {
     "data": {
      "text/plain": [
       "TrainOutput(global_step=196, training_loss=1.1796454693741945, metrics={'train_runtime': 499.7435, 'train_samples_per_second': 0.792, 'train_steps_per_second': 0.392, 'total_flos': 1067404114045440.0, 'train_loss': 1.1796454693741945})"
      ]
     },
     "execution_count": 9,
     "metadata": {},
     "output_type": "execute_result"
    },
    {
     "name": "stdout",
     "output_type": "stream",
     "text": [
      "Error in callback <bound method _WandbInit._pause_backend of <wandb.sdk.wandb_init._WandbInit object at 0x7f78407c3f50>> (for post_run_cell), with arguments args (<ExecutionResult object at 7f7848832650, execution_count=9 error_before_exec=None error_in_exec=None info=<ExecutionInfo object at 7f78581874d0, raw_cell=\"seed = 123\n",
      "\n",
      "num_train_epochs = 4\n",
      "max_steps = -1\n",
      "bf..\" store_history=True silent=False shell_futures=True cell_id=7b8e63c6-b5e3-4e36-a372-2a0ce14b75fa> result=TrainOutput(global_step=196, training_loss=1.1796454693741945, metrics={'train_runtime': 499.7435, 'train_samples_per_second': 0.792, 'train_steps_per_second': 0.392, 'total_flos': 1067404114045440.0, 'train_loss': 1.1796454693741945})>,),kwargs {}:\n"
     ]
    },
    {
     "ename": "TypeError",
     "evalue": "_WandbInit._pause_backend() takes 1 positional argument but 2 were given",
     "output_type": "error",
     "traceback": [
      "\u001b[0;31m---------------------------------------------------------------------------\u001b[0m",
      "\u001b[0;31mTypeError\u001b[0m                                 Traceback (most recent call last)",
      "\u001b[0;31mTypeError\u001b[0m: _WandbInit._pause_backend() takes 1 positional argument but 2 were given"
     ]
    }
   ],
   "source": [
    "seed = 123\n",
    "\n",
    "num_train_epochs = 4\n",
    "max_steps = -1\n",
    "bf16 = False\n",
    "output_dir = 'finetune_gemma_results'\n",
    "run_name = f\"{model_name.split('/')[-1]}-work_arrangements\"\n",
    "output_dir_final = os.path.join(output_dir, run_name)\n",
    "pathlib.Path(output_dir_final).mkdir(parents=True, exist_ok=True)\n",
    "\n",
    "# Adjust tokenizer settings as warned by the trainer\n",
    "tokenizer.padding_side = 'right'\n",
    "\n",
    "print(\"Creating trainer...\")\n",
    "training_args = SFTConfig(\n",
    "    num_train_epochs=num_train_epochs,\n",
    "    per_device_train_batch_size=1,\n",
    "    gradient_accumulation_steps=2,\n",
    "    gradient_checkpointing=True,\n",
    "    bf16=bf16,\n",
    "    tf32=False, # use tf32 for faster training on Ampere GPUs or newer.\n",
    "    dataloader_pin_memory=False,\n",
    "    torch_compile=False,\n",
    "    warmup_steps=5,\n",
    "    max_steps=max_steps,\n",
    "    learning_rate=1e-4,\n",
    "    lr_scheduler_type=\"cosine\",\n",
    "    weight_decay=0.01,\n",
    "    logging_strategy=\"steps\",\n",
    "    save_strategy=\"steps\",\n",
    "    save_steps=2000,\n",
    "    save_total_limit=10,\n",
    "    logging_steps=5,\n",
    "    output_dir=output_dir_final,\n",
    "    optim=\"paged_adamw_8bit\",\n",
    "    remove_unused_columns=True,\n",
    "    seed=seed,\n",
    "    run_name=run_name,\n",
    "    report_to=\"wandb\",\n",
    "    push_to_hub=False,\n",
    ")\n",
    "\n",
    "trainer = SFTTrainer(\n",
    "    model=model,\n",
    "    args=training_args,\n",
    "    train_dataset=dataset['train'],\n",
    "    processing_class=tokenizer,\n",
    ")\n",
    "\n",
    "print(\"Training...\")\n",
    "trainer.train()"
   ]
  },
  {
   "cell_type": "code",
   "execution_count": 10,
   "id": "4e3cb0f3-2e57-4c1e-b94b-5c95d7641424",
   "metadata": {
    "tags": []
   },
   "outputs": [
    {
     "name": "stdout",
     "output_type": "stream",
     "text": [
      "Error in callback <bound method _WandbInit._resume_backend of <wandb.sdk.wandb_init._WandbInit object at 0x7f78407c3f50>> (for pre_run_cell), with arguments args (<ExecutionInfo object at 7f784065be90, raw_cell=\"wandb.finish()\" store_history=True silent=False shell_futures=True cell_id=4e3cb0f3-2e57-4c1e-b94b-5c95d7641424>,),kwargs {}:\n"
     ]
    },
    {
     "ename": "TypeError",
     "evalue": "_WandbInit._resume_backend() takes 1 positional argument but 2 were given",
     "output_type": "error",
     "traceback": [
      "\u001b[0;31m---------------------------------------------------------------------------\u001b[0m",
      "\u001b[0;31mTypeError\u001b[0m                                 Traceback (most recent call last)",
      "\u001b[0;31mTypeError\u001b[0m: _WandbInit._resume_backend() takes 1 positional argument but 2 were given"
     ]
    },
    {
     "data": {
      "text/html": [
       "Waiting for W&B process to finish... <strong style=\"color:green\">(success).</strong>"
      ],
      "text/plain": [
       "<IPython.core.display.HTML object>"
      ]
     },
     "metadata": {},
     "output_type": "display_data"
    },
    {
     "data": {
      "application/vnd.jupyter.widget-view+json": {
       "model_id": "068f85a39a69467286245aa859737b6f",
       "version_major": 2,
       "version_minor": 0
      },
      "text/plain": [
       "VBox(children=(Label(value='0.002 MB of 0.002 MB uploaded (0.000 MB deduped)\\r'), FloatProgress(value=1.0, max…"
      ]
     },
     "metadata": {},
     "output_type": "display_data"
    },
    {
     "data": {
      "text/html": [
       "<style>\n",
       "    table.wandb td:nth-child(1) { padding: 0 10px; text-align: left ; width: auto;} td:nth-child(2) {text-align: left ; width: 100%}\n",
       "    .wandb-row { display: flex; flex-direction: row; flex-wrap: wrap; justify-content: flex-start; width: 100% }\n",
       "    .wandb-col { display: flex; flex-direction: column; flex-basis: 100%; flex: 1; padding: 10px; }\n",
       "    </style>\n",
       "<div class=\"wandb-row\"><div class=\"wandb-col\"><h3>Run history:</h3><br/><table class=\"wandb\"><tr><td>train/epoch</td><td>▁▁▁▂▂▂▂▂▂▃▃▃▃▃▄▄▄▄▄▄▅▅▅▅▅▆▆▆▆▆▆▇▇▇▇▇████</td></tr><tr><td>train/global_step</td><td>▁▁▁▂▂▂▂▂▂▃▃▃▃▃▄▄▄▄▄▄▅▅▅▅▅▆▆▆▆▆▆▇▇▇▇▇████</td></tr><tr><td>train/grad_norm</td><td>█▇▆▅▅▅▄▄▄▅▄▄▃▃▅▃▄▃▃▇▂▁▂▃▃▃▃▂▃▄▂▁▁▂▂▂▁▂▁</td></tr><tr><td>train/learning_rate</td><td>███████▇▇▇▇▇▆▆▆▆▅▅▅▅▄▄▄▃▃▃▃▂▂▂▂▂▁▁▁▁▁▁▁</td></tr><tr><td>train/loss</td><td>█▇▇▇▇▇▆▆▇▇▄▄▄▄▅▄▄▃▄▄▂▂▂▂▁▂▂▂▂▂▁▁▁▁▁▁▁▁▁</td></tr><tr><td>train/mean_token_accuracy</td><td>▁▂▂▁▁▁▂▂▂▂▄▅▄▄▃▄▄▅▄▄▆▇▇▆▇▆▆▆▇▇██████████</td></tr><tr><td>train/num_tokens</td><td>▁▁▁▂▂▂▂▂▃▃▃▃▃▃▄▄▄▄▄▄▅▅▅▅▅▆▆▆▆▆▆▇▇▇▇▇████</td></tr></table><br/></div><div class=\"wandb-col\"><h3>Run summary:</h3><br/><table class=\"wandb\"><tr><td>total_flos</td><td>1067404114045440.0</td></tr><tr><td>train/epoch</td><td>3.92929</td></tr><tr><td>train/global_step</td><td>196</td></tr><tr><td>train/grad_norm</td><td>1.76102</td></tr><tr><td>train/learning_rate</td><td>0.0</td></tr><tr><td>train/loss</td><td>0.0839</td></tr><tr><td>train/mean_token_accuracy</td><td>0.97116</td></tr><tr><td>train/num_tokens</td><td>254910.0</td></tr><tr><td>train_loss</td><td>1.17965</td></tr><tr><td>train_runtime</td><td>499.7435</td></tr><tr><td>train_samples_per_second</td><td>0.792</td></tr><tr><td>train_steps_per_second</td><td>0.392</td></tr></table><br/></div></div>"
      ],
      "text/plain": [
       "<IPython.core.display.HTML object>"
      ]
     },
     "metadata": {},
     "output_type": "display_data"
    },
    {
     "data": {
      "text/html": [
       " View run <strong style=\"color:#cdcd00\">gemma-3-1b-it-work_arrangements</strong> at: <a href='https://wandb.ai/huwarr/huggingface/runs/2vfppsjz' target=\"_blank\">https://wandb.ai/huwarr/huggingface/runs/2vfppsjz</a><br/> View job at <a href='https://wandb.ai/huwarr/huggingface/jobs/QXJ0aWZhY3RDb2xsZWN0aW9uOjYxNzM4MDE1Ng==/version_details/v0' target=\"_blank\">https://wandb.ai/huwarr/huggingface/jobs/QXJ0aWZhY3RDb2xsZWN0aW9uOjYxNzM4MDE1Ng==/version_details/v0</a><br/>Synced 5 W&B file(s), 0 media file(s), 2 artifact file(s) and 0 other file(s)"
      ],
      "text/plain": [
       "<IPython.core.display.HTML object>"
      ]
     },
     "metadata": {},
     "output_type": "display_data"
    },
    {
     "data": {
      "text/html": [
       "Find logs at: <code>./wandb/run-20250423_133646-2vfppsjz/logs</code>"
      ],
      "text/plain": [
       "<IPython.core.display.HTML object>"
      ]
     },
     "metadata": {},
     "output_type": "display_data"
    }
   ],
   "source": [
    "wandb.finish()"
   ]
  },
  {
   "cell_type": "markdown",
   "id": "020b8328-a685-4974-94ff-09bacf176731",
   "metadata": {
    "tags": []
   },
   "source": [
    "# Inference"
   ]
  },
  {
   "cell_type": "code",
   "execution_count": 2,
   "id": "82526dff-ab81-4d5c-9d66-ad15b696bd16",
   "metadata": {
    "tags": []
   },
   "outputs": [],
   "source": [
    "max_new_tokens = 256\n",
    "model_name = 'google/gemma-3-1b-it'\n",
    "checkpoint_path = 'finetune_gemma_results/gemma-3-1b-it-work_arrangements/checkpoint-196/'"
   ]
  },
  {
   "cell_type": "code",
   "execution_count": 3,
   "id": "657c7abb-83f4-41c2-b7d0-5ba6c2ec2cc9",
   "metadata": {
    "tags": []
   },
   "outputs": [],
   "source": [
    "os.environ['HF_TOKEN'] = 'hf_...' # put your HF access token here if needed\n",
    "model = AutoModelForCausalLM.from_pretrained(checkpoint_path, device_map=\"cuda:0\", attn_implementation=\"eager\")\n",
    "tokenizer = AutoTokenizer.from_pretrained(\n",
    "   model_name, padding=True, truncation=True\n",
    ")"
   ]
  },
  {
   "cell_type": "code",
   "execution_count": 6,
   "id": "f4562907-13b5-4791-be89-b55f001938b8",
   "metadata": {
    "tags": []
   },
   "outputs": [
    {
     "name": "stdout",
     "output_type": "stream",
     "text": [
      "[2025-04-27 14:00:06,561] [INFO] [real_accelerator.py:158:get_accelerator] Setting ds_accelerator to cuda (auto detect)\n"
     ]
    },
    {
     "data": {
      "application/vnd.jupyter.widget-view+json": {
       "model_id": "6c686e1ad0574fea935521c3180e09f7",
       "version_major": 2,
       "version_minor": 0
      },
      "text/plain": [
       "model.safetensors:   0%|          | 0.00/4.00G [00:00<?, ?B/s]"
      ]
     },
     "metadata": {},
     "output_type": "display_data"
    },
    {
     "data": {
      "text/plain": [
       "CommitInfo(commit_url='https://huggingface.co/huwar/gemma_work_arrangements/commit/8a4ce9a319509a92840ddf6a9b6221fbe6d4efe1', commit_message='Upload Gemma3ForCausalLM', commit_description='', oid='8a4ce9a319509a92840ddf6a9b6221fbe6d4efe1', pr_url=None, repo_url=RepoUrl('https://huggingface.co/huwar/gemma_work_arrangements', endpoint='https://huggingface.co', repo_type='model', repo_id='huwar/gemma_work_arrangements'), pr_revision=None, pr_num=None)"
      ]
     },
     "execution_count": 6,
     "metadata": {},
     "output_type": "execute_result"
    }
   ],
   "source": [
    "os.environ['HF_TOKEN'] = 'hf_...'\n",
    "model.push_to_hub('gemma_work_arrangements')"
   ]
  },
  {
   "cell_type": "code",
   "execution_count": 5,
   "id": "23acfb5f-e664-426c-9dcb-110f9bf37831",
   "metadata": {
    "tags": []
   },
   "outputs": [
    {
     "data": {
      "application/vnd.jupyter.widget-view+json": {
       "model_id": "94692ce490c741b28c3f0fd2a8f1201d",
       "version_major": 2,
       "version_minor": 0
      },
      "text/plain": [
       "README.md:   0%|          | 0.00/5.17k [00:00<?, ?B/s]"
      ]
     },
     "metadata": {},
     "output_type": "display_data"
    },
    {
     "data": {
      "application/vnd.jupyter.widget-view+json": {
       "model_id": "8483e479031241c2a8aa575b315591e1",
       "version_major": 2,
       "version_minor": 0
      },
      "text/plain": [
       "tokenizer.json:   0%|          | 0.00/33.4M [00:00<?, ?B/s]"
      ]
     },
     "metadata": {},
     "output_type": "display_data"
    },
    {
     "data": {
      "application/vnd.jupyter.widget-view+json": {
       "model_id": "0017d090c490413b992d55cb10723d37",
       "version_major": 2,
       "version_minor": 0
      },
      "text/plain": [
       "tokenizer.model:   0%|          | 0.00/4.69M [00:00<?, ?B/s]"
      ]
     },
     "metadata": {},
     "output_type": "display_data"
    },
    {
     "data": {
      "application/vnd.jupyter.widget-view+json": {
       "model_id": "14f5c990440741f192b2fdd685975dcf",
       "version_major": 2,
       "version_minor": 0
      },
      "text/plain": [
       "Upload 2 LFS files:   0%|          | 0/2 [00:00<?, ?it/s]"
      ]
     },
     "metadata": {},
     "output_type": "display_data"
    },
    {
     "data": {
      "text/plain": [
       "CommitInfo(commit_url='https://huggingface.co/huwar/gemma_work_arrangements/commit/558173ac4d59b4a47a3d83b9e32df05e32b56804', commit_message='Upload tokenizer', commit_description='', oid='558173ac4d59b4a47a3d83b9e32df05e32b56804', pr_url=None, repo_url=RepoUrl('https://huggingface.co/huwar/gemma_work_arrangements', endpoint='https://huggingface.co', repo_type='model', repo_id='huwar/gemma_work_arrangements'), pr_revision=None, pr_num=None)"
      ]
     },
     "execution_count": 5,
     "metadata": {},
     "output_type": "execute_result"
    }
   ],
   "source": [
    "os.environ['HF_TOKEN'] = 'hf_...'\n",
    "tokenizer.push_to_hub('gemma_work_arrangements')"
   ]
  },
  {
   "cell_type": "code",
   "execution_count": 15,
   "id": "48f2fb53-c47a-406e-a6ff-09d62678c204",
   "metadata": {
    "tags": []
   },
   "outputs": [],
   "source": [
    "test_df = pd.read_csv('data/work_arrangements_test_set.csv')"
   ]
  },
  {
   "cell_type": "markdown",
   "id": "e03da0e4-242f-4320-8db5-b3ba9bd2d575",
   "metadata": {},
   "source": [
    "Example:"
   ]
  },
  {
   "cell_type": "code",
   "execution_count": 16,
   "id": "5860dd4b-d40f-40ad-aeb1-1438777e1ee2",
   "metadata": {
    "tags": []
   },
   "outputs": [],
   "source": [
    "messages_static = [\n",
    "    {\"role\": \"system\", \"content\": 'You are an expert job ad annotator. Your role is to determine the work arrangement of a job from its description. Classify the work arrangement into one of the following: \"Remote\", \"Hybrid\", or \"OnSite\".'},\n",
    "]"
   ]
  },
  {
   "cell_type": "code",
   "execution_count": 17,
   "id": "7f3cfd3a-0f3f-4e23-a2c0-21a0e77c392c",
   "metadata": {
    "tags": []
   },
   "outputs": [],
   "source": [
    "i = 0\n",
    "\n",
    "desc = test_df.iloc[i].job_ad\n",
    "\n",
    "messages = copy.deepcopy(messages_static)\n",
    "messages.append(\n",
    "    {\n",
    "        'role': 'user',\n",
    "        'content': (\n",
    "            f'{desc}. Extract work arrangement label from this job description. The label must be one of the following: \"Remote\", \"Hybrid\", or \"OnSite\". '\n",
    "            'Respond in JSON: {\"work_arrangement\": \"\"}.'\n",
    "        )\n",
    "    }\n",
    ")"
   ]
  },
  {
   "cell_type": "code",
   "execution_count": 18,
   "id": "677e474d-008f-4149-9f90-ca9946b7f4e5",
   "metadata": {
    "tags": []
   },
   "outputs": [
    {
     "data": {
      "text/plain": [
       "[{'role': 'system',\n",
       "  'content': 'You are an expert job ad annotator. Your role is to determine the work arrangement of a job from its description. Classify the work arrangement into one of the following: \"Remote\", \"Hybrid\", or \"OnSite\".'},\n",
       " {'role': 'user',\n",
       "  'content': 'Job title: Restaurant Kitchen Hand\\nAbstract: We are seeking experienced Kitchen Hand to join our hospitality team.\\nEmployer: Catering HQ\\nLocation: pitttown\\nHighlights: opportunity for growth, Opportunity to work in an industry leading hospitality group, Positive, fun and supportive work culture\\nContents: We are currently searching for talented and polished Full Time Kitchen Hands to join our hospitality team.\\n Key duties\\n Thorough cleaning of the kitchen, including dishes and floors, Food preparation assistance, Stock rotation and stock control, Ensuring to follow all health and safety procedures when caring out all tasks, Any other adhoc duties as required by our fantastic Chefs and Management, Operating a commercial dishwasher to a high standard, Assist with general kitchen duties under the direction of the Head Chef.\\n The Person \\n Previous relevant experience in a high-volume catering/kitchen hand role is essential, Commercial kitchen experience essential, Knowledge of WH&S guidelines, Able to work a variety of shifts including morning, afternoons, evenings, Ability to take direction, Flexible availability, Youâ€™ll be a team player, fluent in English and have an eye for detail, Weâ€™d love it if you brought knife skills!.. Extract work arrangement label from this job description. The label must be one of the following: \"Remote\", \"Hybrid\", or \"OnSite\". Respond in JSON: {\"work_arrangement\": \"\"}.'}]"
      ]
     },
     "execution_count": 18,
     "metadata": {},
     "output_type": "execute_result"
    }
   ],
   "source": [
    "messages"
   ]
  },
  {
   "cell_type": "code",
   "execution_count": 19,
   "id": "e921d07d-141f-47ae-990a-67eccb4dc550",
   "metadata": {
    "tags": []
   },
   "outputs": [],
   "source": [
    "prompt = tokenizer.apply_chat_template(messages, tokenize=False)"
   ]
  },
  {
   "cell_type": "code",
   "execution_count": 20,
   "id": "62f9848e-84ba-40ca-9a9f-6e0031fdb85c",
   "metadata": {
    "tags": []
   },
   "outputs": [
    {
     "data": {
      "text/plain": [
       "'<bos><start_of_turn>user\\nYou are an expert job ad annotator. Your role is to determine the work arrangement of a job from its description. Classify the work arrangement into one of the following: \"Remote\", \"Hybrid\", or \"OnSite\".\\n\\nJob title: Restaurant Kitchen Hand\\nAbstract: We are seeking experienced Kitchen Hand to join our hospitality team.\\nEmployer: Catering HQ\\nLocation: pitttown\\nHighlights: opportunity for growth, Opportunity to work in an industry leading hospitality group, Positive, fun and supportive work culture\\nContents: We are currently searching for talented and polished Full Time Kitchen Hands to join our hospitality team.\\n Key duties\\n Thorough cleaning of the kitchen, including dishes and floors, Food preparation assistance, Stock rotation and stock control, Ensuring to follow all health and safety procedures when caring out all tasks, Any other adhoc duties as required by our fantastic Chefs and Management, Operating a commercial dishwasher to a high standard, Assist with general kitchen duties under the direction of the Head Chef.\\n The Person \\n Previous relevant experience in a high-volume catering/kitchen hand role is essential, Commercial kitchen experience essential, Knowledge of WH&S guidelines, Able to work a variety of shifts including morning, afternoons, evenings, Ability to take direction, Flexible availability, Youâ€™ll be a team player, fluent in English and have an eye for detail, Weâ€™d love it if you brought knife skills!.. Extract work arrangement label from this job description. The label must be one of the following: \"Remote\", \"Hybrid\", or \"OnSite\". Respond in JSON: {\"work_arrangement\": \"\"}.<end_of_turn>\\n'"
      ]
     },
     "execution_count": 20,
     "metadata": {},
     "output_type": "execute_result"
    }
   ],
   "source": [
    "prompt"
   ]
  },
  {
   "cell_type": "code",
   "execution_count": 21,
   "id": "fdbf3542-8d83-4478-a09a-81cc602700e9",
   "metadata": {
    "tags": []
   },
   "outputs": [],
   "source": [
    "inputs = tokenizer(prompt, return_tensors=\"pt\").to(model.device)\n",
    "with torch.inference_mode():\n",
    "    outputs = model.generate(**inputs, max_new_tokens=max_new_tokens, pad_token_id=tokenizer.eos_token_id)\n",
    "outputs = outputs[:, inputs['input_ids'].shape[-1]:]\n",
    "response = tokenizer.decode(outputs[0], skip_special_tokens=True)"
   ]
  },
  {
   "cell_type": "code",
   "execution_count": 22,
   "id": "7f562935-032e-4f95-85ff-6e7876232c33",
   "metadata": {
    "tags": []
   },
   "outputs": [
    {
     "data": {
      "text/plain": [
       "'model\\n{\"work_arrangement\": \"OnSite\"}.'"
      ]
     },
     "execution_count": 22,
     "metadata": {},
     "output_type": "execute_result"
    }
   ],
   "source": [
    "response"
   ]
  },
  {
   "cell_type": "code",
   "execution_count": 23,
   "id": "f230f453-847e-4a76-9e6f-c561d2f5c566",
   "metadata": {
    "tags": []
   },
   "outputs": [
    {
     "data": {
      "text/plain": [
       "'{\"work_arrangement\": \"OnSite\"}.'"
      ]
     },
     "execution_count": 23,
     "metadata": {},
     "output_type": "execute_result"
    }
   ],
   "source": [
    "assistant_token = 'model\\n'\n",
    "response[response.find(assistant_token) + len(assistant_token):]"
   ]
  },
  {
   "cell_type": "markdown",
   "id": "939f542f-6844-4364-bcfb-fd31b1957192",
   "metadata": {},
   "source": [
    "Test set:"
   ]
  },
  {
   "cell_type": "code",
   "execution_count": 24,
   "id": "983cb79e-0d6a-4bcb-9571-82c45fc4fcb2",
   "metadata": {
    "tags": []
   },
   "outputs": [],
   "source": [
    "# df to store model predictions\n",
    "test_pred_df = pd.DataFrame(columns=[\"y_pred\"])"
   ]
  },
  {
   "cell_type": "code",
   "execution_count": 25,
   "id": "9da0b991-cb95-4710-a402-321060334ae2",
   "metadata": {
    "tags": []
   },
   "outputs": [],
   "source": [
    "messages_static = [\n",
    "    {\"role\": \"system\", \"content\": 'You are an expert job ad annotator. Your role is to determine the work arrangement of a job from its description. Classify the work arrangement into one of the following: \"Remote\", \"Hybrid\", or \"OnSite\".'},\n",
    "]"
   ]
  },
  {
   "cell_type": "code",
   "execution_count": 26,
   "id": "ce6e30af-bae6-4c70-afbb-8b1f994437f1",
   "metadata": {
    "tags": []
   },
   "outputs": [
    {
     "name": "stderr",
     "output_type": "stream",
     "text": [
      "100%|██████████| 99/99 [01:49<00:00,  1.11s/it]\n"
     ]
    }
   ],
   "source": [
    "for i in tqdm(range(len(test_df)), position=0, leave=True):\n",
    "    desc = test_df.iloc[i].job_ad\n",
    "\n",
    "    messages = copy.deepcopy(messages_static)\n",
    "    messages.append(\n",
    "        {\n",
    "            'role': 'user',\n",
    "            'content': (\n",
    "                f'{desc}. Extract work arrangement label from this job description. The label must be one of the following: \"Remote\", \"Hybrid\", or \"OnSite\". '\n",
    "                'Respond in JSON: {\"work_arrangement\": \"\"}.'\n",
    "            )\n",
    "        }\n",
    "    )\n",
    "    \n",
    "    prompt = tokenizer.apply_chat_template(messages, tokenize=False)\n",
    "    inputs = tokenizer(prompt, return_tensors=\"pt\").to(model.device)\n",
    "    with torch.inference_mode():\n",
    "        outputs = model.generate(**inputs, max_new_tokens=max_new_tokens, pad_token_id=tokenizer.eos_token_id)\n",
    "    outputs = outputs[:, inputs['input_ids'].shape[-1]:]\n",
    "    response = tokenizer.decode(outputs[0], skip_special_tokens=True)\n",
    "    \n",
    "    assistant_token = 'model\\n'\n",
    "    answer_str = response[response.find(assistant_token) + len(assistant_token):]\n",
    "\n",
    "    # format the output\n",
    "    try:\n",
    "        answer_str_ = answer_str[answer_str.find('{'):answer_str.find('}') + 1]\n",
    "        answer_str_ = answer_str_.replace('“', '\"')\n",
    "        answer_str_ = answer_str_.replace('”', '\"')\n",
    "        answer = json.loads(answer_str_)\n",
    "        \n",
    "        label = answer['work_arrangement']\n",
    "\n",
    "    except json.JSONDecodeError:\n",
    "        print(f\"Failed to parse model output as JSON: {answer_str}\")\n",
    "        label = \"ERROR \" + answer_str\n",
    "\n",
    "    test_pred_df.loc[len(test_pred_df)] = label"
   ]
  },
  {
   "cell_type": "code",
   "execution_count": 27,
   "id": "26fe7c1a-d554-461f-b854-c3ca33c4dd2c",
   "metadata": {
    "tags": []
   },
   "outputs": [],
   "source": [
    "# export the dataframe to a new csv file\n",
    "test_pred_df.to_csv('work_arrangements_test_set_gemma3_finetune_preds.csv', index=False)"
   ]
  },
  {
   "cell_type": "markdown",
   "id": "75cb9961-fd04-4c58-afb8-c799c313f985",
   "metadata": {},
   "source": [
    "# Metrics"
   ]
  },
  {
   "cell_type": "code",
   "execution_count": 1,
   "id": "3de2528c",
   "metadata": {},
   "outputs": [],
   "source": [
    "import pandas as pd\n",
    "from sklearn.metrics import precision_recall_fscore_support\n",
    "from sklearn.metrics import accuracy_score\n",
    "from sklearn.metrics import classification_report"
   ]
  },
  {
   "cell_type": "code",
   "execution_count": 2,
   "id": "613dc2f3",
   "metadata": {},
   "outputs": [],
   "source": [
    "def get_metrics(path_to_preds):\n",
    "    preds = pd.read_csv(path_to_preds)\n",
    "    test_df = pd.read_csv('data/work_arrangements_test_set.csv')\n",
    "\n",
    "    test_df['y_pred'] = preds.y_pred.values\n",
    "\n",
    "    precision, recall, f1_score, _ = precision_recall_fscore_support(\n",
    "        test_df.y_true.values, test_df.y_pred.values, labels=['Remote', 'Hybrid', 'OnSite']\n",
    "    )\n",
    "    precision_macro, recall_macro, f1_score_macro, _ = precision_recall_fscore_support(\n",
    "        test_df.y_true.values, test_df.y_pred.values, average='macro'\n",
    "    )\n",
    "    precision_micro, recall_micro, f1_score_micro, _ = precision_recall_fscore_support(\n",
    "        test_df.y_true.values, test_df.y_pred.values, average='micro'\n",
    "    )\n",
    "    precision_weighted, recall_weighted, f1_score_weighted, _ = precision_recall_fscore_support(\n",
    "        test_df.y_true.values, test_df.y_pred.values, average='weighted'\n",
    "    )\n",
    "    acc = accuracy_score(test_df.y_true.values, test_df.y_pred.values)\n",
    "    \n",
    "    print(f'Accuracy: {round(acc * 100, 1)}')\n",
    "    res = pd.DataFrame(\n",
    "        {\n",
    "                'Precision': [*[round(p * 100, 1) for p in precision], \"\", round(precision_macro * 100, 1), round(precision_weighted * 100, 1), round(precision_micro * 100, 1)],\n",
    "                'Recall': [*[round(r * 100, 1) for r in recall], \"\", round(recall_macro * 100, 1), round(recall_weighted * 100, 1), round(recall_micro * 100, 1)],\n",
    "                'F1-score': [*[round(f1 * 100, 1) for f1 in f1_score], \"\", round(f1_score_macro * 100, 1), round(f1_score_weighted * 100, 1), round(f1_score_micro * 100, 1)],\n",
    "        },\n",
    "        index=['Remote', 'Hybrid', 'OnSite', \"\", 'macro average', 'weighted average', 'micro average']\n",
    "    )\n",
    "    return res"
   ]
  },
  {
   "cell_type": "code",
   "execution_count": 3,
   "id": "1bda74b6",
   "metadata": {},
   "outputs": [
    {
     "name": "stdout",
     "output_type": "stream",
     "text": [
      "Accuracy: 74.7\n"
     ]
    },
    {
     "data": {
      "text/html": [
       "<div>\n",
       "<style scoped>\n",
       "    .dataframe tbody tr th:only-of-type {\n",
       "        vertical-align: middle;\n",
       "    }\n",
       "\n",
       "    .dataframe tbody tr th {\n",
       "        vertical-align: top;\n",
       "    }\n",
       "\n",
       "    .dataframe thead th {\n",
       "        text-align: right;\n",
       "    }\n",
       "</style>\n",
       "<table border=\"1\" class=\"dataframe\">\n",
       "  <thead>\n",
       "    <tr style=\"text-align: right;\">\n",
       "      <th></th>\n",
       "      <th>Precision</th>\n",
       "      <th>Recall</th>\n",
       "      <th>F1-score</th>\n",
       "    </tr>\n",
       "  </thead>\n",
       "  <tbody>\n",
       "    <tr>\n",
       "      <th>Remote</th>\n",
       "      <td>77.4</td>\n",
       "      <td>92.3</td>\n",
       "      <td>84.2</td>\n",
       "    </tr>\n",
       "    <tr>\n",
       "      <th>Hybrid</th>\n",
       "      <td>58.6</td>\n",
       "      <td>63.0</td>\n",
       "      <td>60.7</td>\n",
       "    </tr>\n",
       "    <tr>\n",
       "      <th>OnSite</th>\n",
       "      <td>84.6</td>\n",
       "      <td>71.7</td>\n",
       "      <td>77.6</td>\n",
       "    </tr>\n",
       "    <tr>\n",
       "      <th></th>\n",
       "      <td></td>\n",
       "      <td></td>\n",
       "      <td></td>\n",
       "    </tr>\n",
       "    <tr>\n",
       "      <th>macro average</th>\n",
       "      <td>73.6</td>\n",
       "      <td>75.7</td>\n",
       "      <td>74.2</td>\n",
       "    </tr>\n",
       "    <tr>\n",
       "      <th>weighted average</th>\n",
       "      <td>75.6</td>\n",
       "      <td>74.7</td>\n",
       "      <td>74.8</td>\n",
       "    </tr>\n",
       "    <tr>\n",
       "      <th>micro average</th>\n",
       "      <td>74.7</td>\n",
       "      <td>74.7</td>\n",
       "      <td>74.7</td>\n",
       "    </tr>\n",
       "  </tbody>\n",
       "</table>\n",
       "</div>"
      ],
      "text/plain": [
       "                 Precision Recall F1-score\n",
       "Remote                77.4   92.3     84.2\n",
       "Hybrid                58.6   63.0     60.7\n",
       "OnSite                84.6   71.7     77.6\n",
       "                                          \n",
       "macro average         73.6   75.7     74.2\n",
       "weighted average      75.6   74.7     74.8\n",
       "micro average         74.7   74.7     74.7"
      ]
     },
     "execution_count": 3,
     "metadata": {},
     "output_type": "execute_result"
    }
   ],
   "source": [
    "get_metrics('work_arrangements_test_set_gemma3_finetune_preds.csv')"
   ]
  }
 ],
 "metadata": {
  "kernelspec": {
   "display_name": "Python 3 (ipykernel)",
   "language": "python",
   "name": "python3"
  },
  "language_info": {
   "codemirror_mode": {
    "name": "ipython",
    "version": 3
   },
   "file_extension": ".py",
   "mimetype": "text/x-python",
   "name": "python",
   "nbconvert_exporter": "python",
   "pygments_lexer": "ipython3",
   "version": "3.9.21"
  }
 },
 "nbformat": 4,
 "nbformat_minor": 5
}
