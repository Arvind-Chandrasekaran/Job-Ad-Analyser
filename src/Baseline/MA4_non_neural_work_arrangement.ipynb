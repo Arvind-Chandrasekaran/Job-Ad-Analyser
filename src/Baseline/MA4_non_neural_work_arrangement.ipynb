{
  "nbformat": 4,
  "nbformat_minor": 0,
  "metadata": {
    "colab": {
      "provenance": []
    },
    "kernelspec": {
      "name": "python3",
      "display_name": "Python 3"
    },
    "language_info": {
      "name": "python"
    }
  },
  "cells": [
    {
      "cell_type": "markdown",
      "source": [
        "Function to extract work arrangement from text"
      ],
      "metadata": {
        "id": "ub_viEcD3ff-"
      }
    },
    {
      "cell_type": "code",
      "execution_count": null,
      "metadata": {
        "id": "lAVfeuVUyh9c"
      },
      "outputs": [],
      "source": [
        "import re\n",
        "import random\n",
        "\n",
        "def preprocess(text):\n",
        "    \"\"\"Lowercase and remove unnecessary punctuation\"\"\"\n",
        "    return re.sub(r'[^\\w\\s-]', '', text.lower())\n",
        "\n",
        "def count_keywords(text, keywords):\n",
        "    \"\"\"Count how many times any keyword appears in the text.\"\"\"\n",
        "    return sum(len(re.findall(rf'\\b{re.escape(k)}\\b', text)) for k in keywords)\n",
        "\n",
        "def classify_work_arrangement(job_ad_text):\n",
        "    # Define keyword lists\n",
        "    remote_keywords = ['remote', 'work from home', 'telecommute', 'telework']\n",
        "    hybrid_keywords = ['hybrid', 'partially remote', 'mix of remote and on-site']\n",
        "    onsite_keywords = ['on-site', 'on site', 'in person', 'in-person', 'office-based']\n",
        "\n",
        "    # Preprocess text\n",
        "    text = preprocess(job_ad_text)\n",
        "\n",
        "    # Count keyword matches\n",
        "    remote_count = count_keywords(text, remote_keywords)\n",
        "    hybrid_count = count_keywords(text, hybrid_keywords)\n",
        "    onsite_count = count_keywords(text, onsite_keywords)\n",
        "\n",
        "    # Map labels to counts\n",
        "    label_counts = {\n",
        "        'remote': remote_count,\n",
        "        'hybrid': hybrid_count,\n",
        "        'OnSite': onsite_count\n",
        "    }\n",
        "\n",
        "    # Get max count\n",
        "    max_count = max(label_counts.values())\n",
        "\n",
        "    # Find all labels with the max count\n",
        "    top_labels = [label for label, count in label_counts.items() if count == max_count]\n",
        "\n",
        "    # Choose randomly if tie or just return the top one\n",
        "    return random.choice(top_labels)"
      ]
    },
    {
      "cell_type": "markdown",
      "source": [
        "Test example"
      ],
      "metadata": {
        "id": "Wyc6-K4G31yQ"
      }
    },
    {
      "cell_type": "code",
      "source": [
        "text = \"We offer a hybrid work environment. You may work remotely up to 3 days per week and are expected to be in-person for meetings.\"\n",
        "\n",
        "print(classify_work_arrangement(text))\n"
      ],
      "metadata": {
        "colab": {
          "base_uri": "https://localhost:8080/"
        },
        "id": "IJVP-_-5yxI8",
        "outputId": "637639cb-75c5-41f8-aa8a-3af44ed03708"
      },
      "execution_count": null,
      "outputs": [
        {
          "output_type": "stream",
          "name": "stdout",
          "text": [
            "OnSite\n"
          ]
        }
      ]
    },
    {
      "cell_type": "markdown",
      "source": [
        "Import data from Google Drive"
      ],
      "metadata": {
        "id": "kl-Dkclp3lRY"
      }
    },
    {
      "cell_type": "code",
      "source": [
        "import os\n",
        "from google.colab import drive\n",
        "\n",
        "drive.mount('/content/drive')\n",
        "folder_path = '/content/drive/MyDrive/AB_job_data_files'\n",
        "\n",
        "import os\n",
        "from google.colab import drive\n",
        "\n",
        "# find location of different files:\n",
        "file_location = {}\n",
        "# Check if the folder exists\n",
        "if os.path.exists(folder_path):\n",
        "  os.chdir(folder_path)\n",
        "  for num, f in enumerate(os.listdir()):  # List files and directories in the current folder\n",
        "    file_location[f] = os.path.join(folder_path, f)\n",
        "\n",
        "else:\n",
        "  print(f\"Folder not found: {folder_path}\")\n",
        "\n",
        "print(file_location)"
      ],
      "metadata": {
        "colab": {
          "base_uri": "https://localhost:8080/"
        },
        "id": "wdecW-VS1cl6",
        "outputId": "81485957-f31f-4adb-fa2a-c738654732cc"
      },
      "execution_count": null,
      "outputs": [
        {
          "output_type": "stream",
          "name": "stdout",
          "text": [
            "Drive already mounted at /content/drive; to attempt to forcibly remount, call drive.mount(\"/content/drive\", force_remount=True).\n",
            "{'seniority_labelled_test_set.csv': '/content/drive/MyDrive/AB_job_data_files/seniority_labelled_test_set.csv', 'unlabelled_development_set.csv': '/content/drive/MyDrive/AB_job_data_files/unlabelled_development_set.csv', 'salary_labelled_development_set.csv': '/content/drive/MyDrive/AB_job_data_files/salary_labelled_development_set.csv', 'seniority_labelled_development_set.csv': '/content/drive/MyDrive/AB_job_data_files/seniority_labelled_development_set.csv', 'work_arrangements_test_set.csv': '/content/drive/MyDrive/AB_job_data_files/work_arrangements_test_set.csv', 'salary_labelled_test_set.csv': '/content/drive/MyDrive/AB_job_data_files/salary_labelled_test_set.csv', 'work_arrangements_development_set.csv': '/content/drive/MyDrive/AB_job_data_files/work_arrangements_development_set.csv', 'results': '/content/drive/MyDrive/AB_job_data_files/results', 'wandb': '/content/drive/MyDrive/AB_job_data_files/wandb', 't5-small-work-arrangement-finetuned': '/content/drive/MyDrive/AB_job_data_files/t5-small-work-arrangement-finetuned', 'model_save': '/content/drive/MyDrive/AB_job_data_files/model_save', 'T5-small-non-fine-tuned-workarrangements_dev.csv': '/content/drive/MyDrive/AB_job_data_files/T5-small-non-fine-tuned-workarrangements_dev.csv', 'T5-small-non-fine-tuned-workarrangements_test.csv': '/content/drive/MyDrive/AB_job_data_files/T5-small-non-fine-tuned-workarrangements_test.csv'}\n"
          ]
        }
      ]
    },
    {
      "cell_type": "markdown",
      "source": [
        "Testing on Development Set for work arrangements"
      ],
      "metadata": {
        "id": "vr7qvl4K5n8J"
      }
    },
    {
      "cell_type": "code",
      "source": [
        "# DEV set\n",
        "import pandas as pd\n",
        "work_arrangement_dev = pd.read_csv(file_location['work_arrangements_development_set.csv'])\n",
        "\n",
        "results = 0\n",
        "count = 0\n",
        "for index, row in work_arrangement_dev.iterrows(): # Iterate through the rows of the dataframe\n",
        "    predicted_label = classify_work_arrangement(row['job_ad']).lower().strip()\n",
        "    true_label =  row['y_true'].lower().strip()\n",
        "\n",
        "    #print(predicted_label ,'---', true_label)\n",
        "    #print(predicted_label == true_label)\n",
        "    if predicted_label == true_label:\n",
        "        results += 1\n",
        "    count += 1\n",
        "\n",
        "print(\"count:\", count)\n",
        "print(\"result:\", results)\n",
        "print(\"correctly indentified:\", results/count)\n"
      ],
      "metadata": {
        "colab": {
          "base_uri": "https://localhost:8080/"
        },
        "id": "kyeUAcmV1jzA",
        "outputId": "5bf31a50-0522-43c7-ba91-221237d7114c"
      },
      "execution_count": null,
      "outputs": [
        {
          "output_type": "stream",
          "name": "stdout",
          "text": [
            "count: 99\n",
            "result: 54\n",
            "correctly indentified: 0.5454545454545454\n"
          ]
        }
      ]
    },
    {
      "cell_type": "markdown",
      "source": [
        "Testing on Test set for work arrangements"
      ],
      "metadata": {
        "id": "xf6ho_v05vpx"
      }
    },
    {
      "cell_type": "code",
      "source": [
        "# TEST set\n",
        "import pandas as pd\n",
        "work_arrangement_test = pd.read_csv(file_location['work_arrangements_test_set.csv'])\n",
        "\n",
        "results = 0\n",
        "count = 0\n",
        "for index, row in work_arrangement_test.iterrows(): # Iterate through the rows of the dataframe\n",
        "    predicted_label = classify_work_arrangement(row['job_ad']).lower().strip()\n",
        "    true_label =  row['y_true'].lower().strip()\n",
        "\n",
        "    #print(predicted_label ,'---', true_label)\n",
        "    #print(predicted_label == true_label)\n",
        "    if predicted_label == true_label:\n",
        "        results += 1\n",
        "    count += 1\n",
        "\n",
        "print(\"count:\", count)\n",
        "print(\"result:\", results)\n",
        "print(\"correctly indentified:\", results/count)\n"
      ],
      "metadata": {
        "colab": {
          "base_uri": "https://localhost:8080/"
        },
        "id": "sWRZUZDz13CW",
        "outputId": "a508ab0e-9b2f-46ac-acd3-b497f3d71ab9"
      },
      "execution_count": null,
      "outputs": [
        {
          "output_type": "stream",
          "name": "stdout",
          "text": [
            "count: 99\n",
            "result: 48\n",
            "correctly indentified: 0.48484848484848486\n"
          ]
        }
      ]
    }
  ]
}