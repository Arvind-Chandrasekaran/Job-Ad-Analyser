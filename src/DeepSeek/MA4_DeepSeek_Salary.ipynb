{
 "cells": [
  {
   "cell_type": "markdown",
   "metadata": {
    "id": "KfXY0rMVfLPo"
   },
   "source": [
    "# Loading"
   ]
  },
  {
   "cell_type": "code",
   "execution_count": 1,
   "metadata": {
    "id": "ziGslr52Zr3j",
    "tags": []
   },
   "outputs": [],
   "source": [
    "import pandas as pd\n",
    "import numpy as np\n",
    "from tqdm import tqdm\n",
    "import openai\n",
    "from openai import OpenAI\n",
    "import string\n",
    "import re\n",
    "from bs4 import BeautifulSoup\n",
    "import json\n",
    "import copy"
   ]
  },
  {
   "cell_type": "code",
   "execution_count": 2,
   "metadata": {
    "colab": {
     "base_uri": "https://localhost:8080/",
     "height": 290,
     "referenced_widgets": [
      "c90f9d95d9724112971633ca15a9bc17",
      "815eaca87f2947ca80d96615d282839e",
      "ecfd276855d84144b5738639d560dd13",
      "1158c5d791494d9499855467242c2afe",
      "fb996b8313df493bac9f2bf87d399333",
      "14eb1c77e7e845f99e3258f0a131cb1c",
      "b4524b58d5ea4924ac670eaa43495df4",
      "873c7b86dd074402a898e75f4c1a9d9f",
      "aa452f6697354aab9acac8d99d54d282",
      "5199350655d842b79dc58e4cf572931d",
      "704411595ee4422ba5ec2677d1d09bf2",
      "d1ba6589fd1e4d7fb72dff5945d5b584",
      "b4ed703dc2d34e958749c2fd67d7802d",
      "29f223da69eb465ea87c806021cb468b",
      "6ff94f195ba14bb2ba7029976ef73ae8",
      "f082d18974fb45e78128051e091de3d4",
      "9d4fd99da0bd46ca99a01ba4a6083ec0",
      "d537771c988c40d592555cdc9d30a3c5",
      "5d26af10ec7947069bbbe2e4228e9c29",
      "e9d0af6181f349baad80a5b418559d03",
      "af7e075217304b56a66b6c15060c0f11",
      "168d3b8fa6664c4d90c6ab12b21f14cf",
      "40700fdade18454ab4c66a05128c3318",
      "145dc132beda4065941cd208e33644b6",
      "1b22c14289584b55adddb36d43262822",
      "97b99148475644b3bfdf34f75908bdb6",
      "958e9d8b35cc48ed9d28fae0b65f2c3f",
      "de6f4730b671411fa486055ca862a30a",
      "0765a58d21d64bc8a633c135f0495d39",
      "4c542b9f7b684baba87876bbe1ddf649",
      "f3ed755eb08e474ea80e624c98ec7607",
      "0ea612f2dada409babf820a9d00413b4",
      "58c102628617430dbd870e9748a1562b",
      "6163e55a2a6e418ba011c62860e18b72",
      "f24c3813fb724acda542d07b1aaf9fbf",
      "e4ae71a066c94383bccd45162314b593",
      "ea7a7c27fca44d98923f303f070b27d3",
      "f07f8f0fec944de2b98d982cf971f27a",
      "c16b33c29b814445b3d783419abac42c",
      "9817a6d3cc454c288db17a001e704de2",
      "83c9ca2b9a8e40d48c261b6b20c53b78",
      "ae5b34887dd74a588df68478bfe6cda9",
      "9e05d0c71fb745418a746db7d4589f44",
      "0d05028ab9a641f4ba3bcb27fa01b46f",
      "621e0a27097d4b938e589fcbd077c7a4",
      "99b3bbce8009492c87ae6e86f815a8ea",
      "f8c8f920cf6649f1bd24fcedafa0cbce",
      "0e4b2a55db1f438ebb4bf9e7adb7c6d0",
      "04935fe71c6e45f7affe7618e6cf8c56",
      "9ee76928655741b5b29bc4f225998378",
      "3fbac1d570c44c60bc422539526855a1",
      "702f4210422b405ab6f146ba41449cb6",
      "9794be82692d4aa8954513b87224a66d",
      "8789c63ee6fa437cb5764cb430b0f143",
      "b820f757da7b439c8d67f44c4b85c0b3",
      "435721f0d61240debb55b9d55982edaa",
      "c073ebde4f4747ef9cde74d467f380d3",
      "f277420b3c684967a564c7f5d5774bc8",
      "cb11d9779c3346149a5b281c8cc3369b",
      "b55f9b11efc7432299bfd2bc31e8047f",
      "8338b8a8ab514cb9aa60e54ee0695713",
      "bbf07685f3e04d62b96f88edab42a5d0",
      "cac44d03666040a4bc1c6333b9136ad1",
      "c2097a7cddf14727b270f483f5cf39cd",
      "fd12a4a0d61545dca30173903feacda5",
      "c16b4bb50c64430cb913135318f7cb36",
      "38131d89a7784da3b3692e28fb2c19fd",
      "9cda9b150d3c42ff9b8894754ba64f69",
      "b0cba3cf9c314440a232789739704813",
      "84f61de0aa9e47cc9d8c1e3b30ef9003",
      "62c1e48820f248c09ed77d8519edc26d",
      "c6279d16c5e7478996c51383f9503a0c",
      "a05a84a8206f4e4f9c0b116b7bcd70f9",
      "a9d6428792564c86b805aac511381c2c",
      "9ce149a825024be78a568696de4e4175",
      "69aad4241f2247e28d822cb181319799",
      "4223d77cd9684b119740649f667d4206",
      "67a1da4e33a4492587f431d49dc98079",
      "4b83eb9995144e0b9eb57f0ebb03b106",
      "6045938926464db69ed14c39967392cf",
      "e8237f1158674661b387320d9f415db4",
      "f7640150712f4a868169b7b575573b85",
      "1d1b76b73ce942658e7f98f43f66b57e",
      "bbc83aacc44a4a14b5e93eb4234a1052",
      "926a8a0a689640afb77ec014935eda13",
      "cbd61c3d0a144de3aa5e767595d67418",
      "6e3b695d048448a8a5415a83b0e4494a",
      "39209c88852848629b72060fddefc2c7"
     ]
    },
    "id": "TIETAXxfp5Yd",
    "outputId": "a7049bdf-33e6-4864-8174-00290abcf3d8",
    "tags": []
   },
   "outputs": [],
   "source": [
    "client = OpenAI(api_key=\"\", base_url=\"https://api.deepseek.com\")\n",
    "model=\"deepseek-chat\" # DeepSeek-V3"
   ]
  },
  {
   "cell_type": "markdown",
   "metadata": {
    "id": "q0oo9hKTZm2R"
   },
   "source": [
    "# Salary"
   ]
  },
  {
   "cell_type": "code",
   "execution_count": 3,
   "metadata": {
    "id": "CblLBHhhZm2S",
    "tags": []
   },
   "outputs": [],
   "source": [
    "train_df = pd.read_csv('data/salary_labelled_development_set_cleaned.csv')\n",
    "test_df = pd.read_csv('data/salary_labelled_test_set_cleaned.csv')"
   ]
  },
  {
   "cell_type": "code",
   "execution_count": 4,
   "metadata": {
    "colab": {
     "base_uri": "https://localhost:8080/",
     "height": 272
    },
    "id": "XrHGLvuPDgDx",
    "outputId": "667d731e-fe91-4c25-ccef-a5e2e6c24b8e",
    "tags": []
   },
   "outputs": [
    {
     "data": {
      "text/plain": [
       "job_id                                                             51839829\n",
       "job_title                                        Senior Key Account Manager\n",
       "job_ad_details            At RB, we’re driven by our fight to make acces...\n",
       "nation_short_desc                                                        NZ\n",
       "salary_additional_text     Competitive base + car allowance + bonus + MORE!\n",
       "y_true                                                        0-0-None-None\n",
       "Name: 1131, dtype: object"
      ]
     },
     "execution_count": 4,
     "metadata": {},
     "output_type": "execute_result"
    }
   ],
   "source": [
    "train_df.iloc[1131]"
   ]
  },
  {
   "cell_type": "markdown",
   "metadata": {
    "id": "4za-mTXBecX8"
   },
   "source": [
    "# RBIC Functions"
   ]
  },
  {
   "cell_type": "markdown",
   "metadata": {
    "id": "_icT_CYAfeJi"
   },
   "source": [
    "### RB\n"
   ]
  },
  {
   "cell_type": "code",
   "execution_count": 5,
   "metadata": {
    "id": "485zx9H7Zw5D",
    "tags": []
   },
   "outputs": [],
   "source": [
    "#== step 1: role explanation\n",
    "def step_1():\n",
    "    messages = [\n",
    "        {\"role\": \"system\", \"content\": \"You are an expert job ad annotator. Your task is to extract structured salary information from job descriptions in the format: min-max-currency-frequency. If salary is not found, return: 0-0-None-None.\"},\n",
    "        {\"role\": \"user\", \"content\": \"Based on your role, can you briefly explain what constitutes a salary range, currency and frequency in a job listing?\"}\n",
    "    ]\n",
    "\n",
    "    response = client.chat.completions.create(\n",
    "        model=model,\n",
    "        messages=messages\n",
    "    )\n",
    "    messages.append({\"role\": \"assistant\", \"content\": response.choices[0].message.content})\n",
    "\n",
    "    return response.choices[0].message.content, messages"
   ]
  },
  {
   "cell_type": "code",
   "execution_count": 6,
   "metadata": {
    "id": "QwpJGdGO4BV-",
    "tags": []
   },
   "outputs": [],
   "source": [
    "#== few-shot examples\n",
    "def fewshot(messages):\n",
    "    # messages.append({\n",
    "    #     \"role\": \"user\",\n",
    "    #     \"content\": \"I will provide you with some examples on how to accomplish your task\"\n",
    "    # })\n",
    "\n",
    "    # response = client.chat.completions.create(\n",
    "    #     model=model,\n",
    "    #     messages=messages\n",
    "    # )\n",
    "    # messages.append({\"role\": \"assistant\", \"content\": response.choices[0].message.content})\n",
    "\n",
    "    few_shot_indices = [1030, 1041, 1025, 1022, 1011]\n",
    "\n",
    "    for i in few_shot_indices:\n",
    "        desc = {\n",
    "          \"job_title\": train_df.iloc[i].job_title,\n",
    "          \"job_ad_details\": train_df.iloc[i].job_ad_details,\n",
    "          \"nation_short_desc\": train_df.iloc[i].nation_short_desc,\n",
    "          \"salary_additional_text\": train_df.iloc[i].salary_additional_text,\n",
    "        }\n",
    "        desc_str = str(desc)\n",
    "\n",
    "        # add the description\n",
    "        messages.append({\n",
    "          \"role\": \"user\",\n",
    "          \"content\": desc_str\n",
    "        })\n",
    "\n",
    "        label = train_df.iloc[i].y_true\n",
    "        label_str = str(label)\n",
    "\n",
    "        # add the output\n",
    "        messages.append({\n",
    "            \"role\": \"assistant\",\n",
    "            \"content\": label_str\n",
    "        })\n",
    "\n",
    "    return messages"
   ]
  },
  {
   "cell_type": "code",
   "execution_count": 7,
   "metadata": {
    "id": "zbr7XLTfmBtc",
    "tags": []
   },
   "outputs": [],
   "source": [
    "#== step 2: setting sub-task --> ask for salary patterns\n",
    "def step_2(messages):\n",
    "    messages.append({\n",
    "        \"role\": \"user\",\n",
    "        \"content\": \"As a salary extractor, what are some common phrases or numeric patterns that indicate a salary range, currency and frequency in a job description?\"\n",
    "    })\n",
    "\n",
    "    response = client.chat.completions.create(\n",
    "        model=model,\n",
    "        messages=messages\n",
    "    )\n",
    "    messages.append({\"role\": \"assistant\", \"content\": response.choices[0].message.content})\n",
    "\n",
    "    return response.choices[0].message.content, messages"
   ]
  },
  {
   "cell_type": "markdown",
   "metadata": {
    "id": "9-6MkZsUfhLi"
   },
   "source": [
    "### IC"
   ]
  },
  {
   "cell_type": "code",
   "execution_count": 8,
   "metadata": {
    "id": "f9GUkH7kmWcc",
    "tags": []
   },
   "outputs": [],
   "source": [
    "#== step 3: ask if salary info is in the description\n",
    "def step_3(messages_static, desc_str):\n",
    "    messages = copy.deepcopy(messages_static)\n",
    "\n",
    "    messages.append({\n",
    "        \"role\": \"user\",\n",
    "        \"content\": f\"{desc_str} does this job description include any salary-related information? Just respond with 'Yes' or 'No'.\"\n",
    "    })\n",
    "\n",
    "    response = client.chat.completions.create(\n",
    "        model=model,\n",
    "        messages=messages\n",
    "    )\n",
    "    messages.append({\"role\": \"assistant\", \"content\": response.choices[0].message.content})\n",
    "\n",
    "    p3_content = response.choices[0].message.content\n",
    "\n",
    "    # clean and check the response\n",
    "    response_p3 = p3_content.translate(str.maketrans('', '', string.punctuation))\n",
    "    response_p3 = response_p3.strip().lower()[:3]\n",
    "    #print(f\"step3 messages: {len(messages)}\")\n",
    "    return response_p3, messages"
   ]
  },
  {
   "cell_type": "code",
   "execution_count": 9,
   "metadata": {
    "id": "c3rIEflSmZQG",
    "tags": []
   },
   "outputs": [],
   "source": [
    "#== step 4: iterative coaching/finding clues to prevent hallucination\n",
    "def step_4(response_p3, messages):\n",
    "    if response_p3 == \"yes\":\n",
    "        messages.append({\n",
    "            \"role\": \"user\",\n",
    "            \"content\": \"Extract the salary range or salary-related phrases from the text verbatim. Respond in JSON: {\\\"Clue\\\": \\\"\\\"}.\"\n",
    "        })\n",
    "    elif response_p3 == \"no\":\n",
    "        messages.append({\n",
    "            \"role\": \"user\",\n",
    "            \"content\": \"Briefly explain why there is no salary information (e.g., 'No mention of pay or compensation'). Respond in JSON: {\\\"Clue\\\": \\\"\\\"}.\"\n",
    "        })\n",
    "    else:\n",
    "        raise Exception(f\"Unexpected model output: {response_p3}\")\n",
    "\n",
    "    response = client.chat.completions.create(\n",
    "        model=model,\n",
    "        messages=messages\n",
    "    )\n",
    "    messages.append({\"role\": \"assistant\", \"content\": response.choices[0].message.content})\n",
    "    #print(f\"step4 messages: {len(messages)}\")\n",
    "\n",
    "    return response.choices[0].message.content, messages"
   ]
  },
  {
   "cell_type": "code",
   "execution_count": 10,
   "metadata": {
    "id": "rftUWb7JZwxg",
    "tags": []
   },
   "outputs": [],
   "source": [
    "#== step 5: use the clue to generate the final output\n",
    "def step_5(messages):\n",
    "    messages.append({\n",
    "        \"role\": \"user\",\n",
    "        \"content\": (\n",
    "            \"Based on the extracted salary clue, return a structured salary in JSON. \"\n",
    "            \"Use 'nation_short_desc' to determine the correct currency. \"\n",
    "            \"Use this format: {\\\"MinSalary\\\": \\\"\\\", \\\"MaxSalary\\\": \\\"\\\", \\\"Currency\\\": \\\"\\\", \\\"Frequency\\\": \\\"\\\"}. \"\n",
    "            \"If not provided explicitly, output 0 for \\\"MinSalary\\\" and \\\"MaxSalary\\\", and \\\"None\\\" for \\\"Currency\\\" and \\\"Frequency\\\". \"\n",
    "            \"If the salary is mentioned, always output a range, where MinSalary and MaxSalary can be equal. \"\n",
    "            \"Output the currency as 3 letters. Use adverb to output frequency (annual, monthly, daily or hourly).\"\n",
    "        )\n",
    "    })\n",
    "\n",
    "    response = client.chat.completions.create(\n",
    "        model=model,\n",
    "        messages=messages\n",
    "    )\n",
    "    answer_str = response.choices[0].message.content\n",
    "\n",
    "    #print(f\"step5 messages: {len(messages)}\")\n",
    "\n",
    "    # format and print the output\n",
    "    try:\n",
    "        answer_str_ = answer_str[answer_str.find('{'):answer_str.find('}') + 1]\n",
    "        answer_str_ = answer_str_.replace('“', '\"')\n",
    "        answer_str_ = answer_str_.replace('”', '\"')\n",
    "        answer = json.loads(answer_str_)\n",
    "\n",
    "        # min_salary = int(round(float(answer['MinSalary'])))\n",
    "        # max_salary = int(round(float(answer['MaxSalary'])))\n",
    "\n",
    "        # if  min_salary == 0 and  max_salary == 0:\n",
    "        #   label = \"0-0-None-None\"\n",
    "        # else:\n",
    "        #   label = f\"{min_salary}-{max_salary}-{answer['Currency'].upper()}-{answer['Frequency'].upper()}\"\n",
    "        # label = f\"{min_salary}-{max_salary}-{answer['Currency'].upper()}-{answer['Frequency'].upper()}\"\n",
    "\n",
    "        label = f\"{answer['MinSalary']}-{answer['MaxSalary']}-{answer['Currency'].upper()}-{answer['Frequency'].upper()}\"\n",
    "\n",
    "\n",
    "\n",
    "    except json.JSONDecodeError:\n",
    "        print(f\"Failed to parse model output as JSON: {answer_str}\")\n",
    "        label = \"ERROR \" + answer_str\n",
    "\n",
    "    return label, answer_str"
   ]
  },
  {
   "cell_type": "code",
   "execution_count": 11,
   "metadata": {
    "id": "MzSYBXFaS2kU",
    "tags": []
   },
   "outputs": [],
   "source": [
    "def RBIC_static_messages(verbose=False, add_fewshot=True):\n",
    "    response, messages = step_1()\n",
    "    if verbose: print(f\"RB step 1: {response}\\n\")\n",
    "\n",
    "    response, messages = step_2(messages)\n",
    "    if verbose: print(f\"RB step 2: {response}\\n\")\n",
    "\n",
    "    if add_fewshot:\n",
    "        messages = fewshot(messages)\n",
    "        if verbose: print(f\"Fewshot examples added\\n\")\n",
    "    return messages"
   ]
  },
  {
   "cell_type": "code",
   "execution_count": 12,
   "metadata": {
    "id": "QBoQh1EoTsJ2",
    "tags": []
   },
   "outputs": [],
   "source": [
    "def RBIC(messages, desc_str, verbose=False):\n",
    "    response_p3, messages_local = step_3(messages, desc_str)\n",
    "    if verbose: print(f\"IC step 1: {response_p3}\\n\")\n",
    "\n",
    "    response, messages_local = step_4(response_p3, messages_local)\n",
    "    if verbose: print(f\"IC step 2: {response}\\n\")\n",
    "\n",
    "    label, answer_str = step_5(messages_local)\n",
    "    if verbose: print(f\"IC step 3 (Final): {label}\\n\")\n",
    "    if verbose: print(f\"IC step 3 (Final Raw): {answer_str}\\n\")\n",
    "\n",
    "    return label"
   ]
  },
  {
   "cell_type": "markdown",
   "metadata": {
    "id": "0KUTpN4tetFe"
   },
   "source": [
    "# Testing"
   ]
  },
  {
   "cell_type": "markdown",
   "metadata": {
    "id": "pTCP6pXsw0nd"
   },
   "source": [
    "### Qualitative Tests"
   ]
  },
  {
   "cell_type": "code",
   "execution_count": 13,
   "metadata": {
    "colab": {
     "base_uri": "https://localhost:8080/"
    },
    "id": "9-7IV-4tSnsB",
    "outputId": "7c3df295-f35a-4dfb-9919-9cf4f97c7b2f",
    "tags": []
   },
   "outputs": [
    {
     "name": "stdout",
     "output_type": "stream",
     "text": [
      "RB step 1: Certainly! Here’s a breakdown of the key components for structured salary extraction in job listings:  \n",
      "\n",
      "1. **Salary Range**:  \n",
      "   - Typically expressed as a **min-max** (e.g., \"$50,000 - $70,000\" → `50000-70000`).  \n",
      "   - May appear as a single figure (e.g., \"Salary: €60,000\" → `60000-60000`).  \n",
      "\n",
      "2. **Currency**:  \n",
      "   - Explicit symbols (e.g., $, €, £) or codes (e.g., USD, EUR, GBP).  \n",
      "   - Sometimes implied by location (e.g., \"£\" for UK roles, \"$\" for US/Canada/AUD depending on context).  \n",
      "\n",
      "3. **Frequency**:  \n",
      "   - **Annual** (e.g., \"per year,\" \"annually,\" \"yr\").  \n",
      "   - **Monthly** (e.g., \"per month,\" \"monthly\").  \n",
      "   - **Hourly** (e.g., \"$20/hour,\" \"per hour\").  \n",
      "   - **Other** (e.g., \"daily,\" \"weekly,\" or one-time \"bonus\").  \n",
      "\n",
      "**Example Annotations**:  \n",
      "- \"$70k - $90k per year\" → `70000-90000-USD-annual`  \n",
      "- \"€45,000 annually\" → `45000-45000-EUR-annual`  \n",
      "- \"£15/hour\" → `15-15-GBP-hourly`  \n",
      "\n",
      "If no salary is mentioned, return `0-0-None-None`. Let me know if you'd like further clarification!\n",
      "\n",
      "RB step 2: Here are common **phrases**, **numeric patterns**, and **keywords** that signal salary information in job descriptions:  \n",
      "\n",
      "---\n",
      "\n",
      "### **1. Salary Range Indicators**  \n",
      "#### **Explicit Phrases**:  \n",
      "- **\"Salary range:\"**, **\"Compensation:\"**, **\"Pay:\"**, **\"Earnings:\"**  \n",
      "- **\"$X – $Y\"**, **\"$X to $Y\"** (e.g., \"$60,000 – $80,000\")  \n",
      "- **\"Up to $X\"** (implies max, e.g., \"up to $100k\" → `0-100000-USD-annual`)  \n",
      "- **\"Starting at $X\"** (implies min, e.g., \"starting at $25/hr\" → `25-25-USD-hourly`)  \n",
      "- **\"Competitive salary\"** (often no range, but may hint at market rates)  \n",
      "\n",
      "#### **Numeric Patterns**:  \n",
      "- **Commas/decimals**: \"$50,000\", \"€75.000\" (EU format)  \n",
      "- **K/m suffixes**: \"$80k\" (= $80,000), \"£50m\" (= £50,000, rare but possible)  \n",
      "- **Hyphen/dash ranges**: \"£30k-£40k\", \"CAD 50K - 60K\"  \n",
      "\n",
      "---\n",
      "\n",
      "### **2. Currency Indicators**  \n",
      "#### **Symbols & Codes**:  \n",
      "- **$**: USD (US), CAD (Canada), AUD (Australia), NZD (New Zealand)  \n",
      "- **€**: EUR (Eurozone)  \n",
      "- **£**: GBP (UK)  \n",
      "- **¥**: JPY (Japan) or CNY (China)  \n",
      "- **₹**: INR (India)  \n",
      "- **Explicit codes**: \"USD 70,000\", \"EUR 50k\"  \n",
      "\n",
      "#### **Context Clues**:  \n",
      "- Location (e.g., \"Remote (US)\" implies USD)  \n",
      "- \"Dollar\" (needs context: CAD vs. AUD vs. USD)  \n",
      "\n",
      "---\n",
      "\n",
      "### **3. Frequency Indicators**  \n",
      "#### **Explicit Terms**:  \n",
      "- **Annual**: \"per year\", \"annually\", \"/yr\", \"/y\", \"yearly\"  \n",
      "- **Monthly**: \"per month\", \"monthly\", \"/mo\"  \n",
      "- **Hourly**: \"per hour\", \"/hr\", \"hourly wage\"  \n",
      "- **Other**: \"weekly\", \"daily\", \"bi-weekly\", \"lump sum\"  \n",
      "\n",
      "#### **Implied Frequency**:  \n",
      "- No frequency mentioned → Often **annual** (for full-time roles) or **hourly** (for gigs).  \n",
      "- \"Salary\" → Usually annual; \"wage\" → Usually hourly.  \n",
      "\n",
      "---\n",
      "\n",
      "### **4. Edge Cases & Pitfalls**  \n",
      "- **Bonus/Commission**: \"OTE $120k\" (On-Target Earnings) → May include variable pay.  \n",
      "- **Negotiable**: \"Salary negotiable\" → No range.  \n",
      "- **Non-Numeric**: \"Pay depends on experience\" → Unstructured.  \n",
      "- **Multiple Currencies**: \"€50k or $55k\" → Requires disambiguation.  \n",
      "\n",
      "---\n",
      "\n",
      "### **Examples & Outputs**  \n",
      "| Job Description Snippet | Structured Output |  \n",
      "|-------------------------|-------------------|  \n",
      "| \"Salary: $90,000 - $110,000 per year\" | `90000-110000-USD-annual` |  \n",
      "| \"€45.000 annually\" | `45000-45000-EUR-annual` |  \n",
      "| \"Pay rate: £15/hour\" | `15-15-GBP-hourly` |  \n",
      "| \"Competitive pay\" | `0-0-None-None` |  \n",
      "\n",
      "Would you like me to refine any specific aspect (e.g., handling non-US formats, bonuses)?\n",
      "\n",
      "Fewshot examples added\n",
      "\n"
     ]
    }
   ],
   "source": [
    "messages_static = RBIC_static_messages(verbose=True, add_fewshot=True)"
   ]
  },
  {
   "cell_type": "code",
   "execution_count": 14,
   "metadata": {
    "colab": {
     "base_uri": "https://localhost:8080/"
    },
    "id": "63XWt1d3e1DH",
    "outputId": "d674d9a7-a086-4c5b-8ebb-de28ffd0ebb2",
    "tags": []
   },
   "outputs": [
    {
     "name": "stdout",
     "output_type": "stream",
     "text": [
      "len of messages_static 15\n",
      "IC step 1: yes\n",
      "\n",
      "IC step 2: ```json\n",
      "{\n",
      "  \"Clue\": \"$70049.73 - $98351.39 + Super\"\n",
      "}\n",
      "```\n",
      "\n",
      "IC step 3 (Final): 70049.73-98351.39-AUD-ANNUAL\n",
      "\n",
      "IC step 3 (Final Raw): ```json\n",
      "{\n",
      "  \"MinSalary\": \"70049.73\",\n",
      "  \"MaxSalary\": \"98351.39\",\n",
      "  \"Currency\": \"AUD\",\n",
      "  \"Frequency\": \"annual\"\n",
      "}\n",
      "```\n",
      "\n",
      "pred = 70049.73-98351.39-AUD-ANNUAL\n",
      "truth = 70049-98351-AUD-ANNUAL\n"
     ]
    }
   ],
   "source": [
    "ind = 345\n",
    "\n",
    "desc = {\n",
    "    \"job_title\": train_df.iloc[ind].job_title,\n",
    "    \"job_ad_details\": train_df.iloc[ind].job_ad_details,\n",
    "    \"nation_short_desc\": train_df.iloc[ind].nation_short_desc,\n",
    "    \"salary_additional_text\": train_df.iloc[ind].salary_additional_text,\n",
    "  }\n",
    "desc_str = str(desc)\n",
    "\n",
    "label = train_df.iloc[ind].y_true\n",
    "label_str = str(label)\n",
    "\n",
    "print(f\"len of messages_static {len(messages_static)}\")\n",
    "label_pred = RBIC(messages_static, desc_str, verbose=True)\n",
    "\n",
    "\n",
    "print(f\"pred = {label_pred}\")\n",
    "print(f\"truth = {label_str}\")"
   ]
  },
  {
   "cell_type": "markdown",
   "metadata": {
    "id": "U2QyVlqCw5i0"
   },
   "source": [
    "### Quantitative Tests"
   ]
  },
  {
   "cell_type": "code",
   "execution_count": 15,
   "metadata": {
    "id": "E4gl8vRKBms8",
    "tags": []
   },
   "outputs": [],
   "source": [
    "# df to store model predictions\n",
    "test_pred_df = pd.DataFrame(columns=[\"y_pred\"])"
   ]
  },
  {
   "cell_type": "code",
   "execution_count": 16,
   "metadata": {
    "colab": {
     "base_uri": "https://localhost:8080/",
     "height": 89
    },
    "id": "U3qCaPABxoiR",
    "outputId": "b86ae745-e7c5-4fab-e332-18576a8c2689",
    "tags": []
   },
   "outputs": [
    {
     "data": {
      "text/html": [
       "<div>\n",
       "<style scoped>\n",
       "    .dataframe tbody tr th:only-of-type {\n",
       "        vertical-align: middle;\n",
       "    }\n",
       "\n",
       "    .dataframe tbody tr th {\n",
       "        vertical-align: top;\n",
       "    }\n",
       "\n",
       "    .dataframe thead th {\n",
       "        text-align: right;\n",
       "    }\n",
       "</style>\n",
       "<table border=\"1\" class=\"dataframe\">\n",
       "  <thead>\n",
       "    <tr style=\"text-align: right;\">\n",
       "      <th></th>\n",
       "      <th>y_pred</th>\n",
       "    </tr>\n",
       "  </thead>\n",
       "  <tbody>\n",
       "  </tbody>\n",
       "</table>\n",
       "</div>"
      ],
      "text/plain": [
       "Empty DataFrame\n",
       "Columns: [y_pred]\n",
       "Index: []"
      ]
     },
     "execution_count": 16,
     "metadata": {},
     "output_type": "execute_result"
    }
   ],
   "source": [
    "test_pred_df"
   ]
  },
  {
   "cell_type": "code",
   "execution_count": 17,
   "metadata": {
    "colab": {
     "base_uri": "https://localhost:8080/"
    },
    "id": "4wjKCfK0BI8Q",
    "outputId": "1d342f04-0ce2-4259-b887-909fcc3efa05",
    "tags": []
   },
   "outputs": [
    {
     "name": "stderr",
     "output_type": "stream",
     "text": [
      "100%|███████████████████████████████████████| 567/567 [2:30:05<00:00, 15.88s/it]\n"
     ]
    }
   ],
   "source": [
    "for i in tqdm(range(len(test_df))):\n",
    "    desc = {\n",
    "        \"job_title\": test_df.iloc[i].job_title,\n",
    "        \"job_ad_details\": test_df.iloc[i].job_ad_details,\n",
    "        \"nation_short_desc\": test_df.iloc[i].nation_short_desc,\n",
    "        \"salary_additional_text\": test_df.iloc[i].salary_additional_text,\n",
    "    }\n",
    "    desc_str = str(desc)\n",
    "\n",
    "    label = test_df.iloc[i].y_true\n",
    "    label_str = str(label)\n",
    "\n",
    "    label_pred = RBIC(messages_static, desc_str)\n",
    "\n",
    "    test_pred_df.loc[len(test_pred_df)] = label_pred\n",
    "\n",
    "# export the dataframe to a new csv file\n",
    "test_pred_df.to_csv('salary_labelled_test_set_deepseek_rbic_fewshot_preds.csv', index=False)"
   ]
  },
  {
   "cell_type": "markdown",
   "metadata": {},
   "source": [
    "# No few-shot"
   ]
  },
  {
   "cell_type": "code",
   "execution_count": 18,
   "metadata": {
    "id": "fb-hnHhHdhPW",
    "tags": []
   },
   "outputs": [
    {
     "name": "stdout",
     "output_type": "stream",
     "text": [
      "RB step 1: Certainly! Here’s a breakdown of the key components for structured salary extraction in job listings:  \n",
      "\n",
      "1. **Salary Range (min-max)**:  \n",
      "   - The minimum and maximum values of the offered compensation (e.g., *$50,000 - $70,000* → **50000-70000**).  \n",
      "   - If only a single figure is given (e.g., *$80,000*), treat it as **80000-80000**.  \n",
      "\n",
      "2. **Currency**:  \n",
      "   - The monetary unit (e.g., USD, EUR, GBP, CAD, INR).  \n",
      "   - Symbols ($, €, £) or codes (USD, EUR) should be normalized to standard ISO codes (e.g., *$* → **USD**, *€* → **EUR**).  \n",
      "\n",
      "3. **Frequency**:  \n",
      "   - The time unit for the salary (e.g., *per year*, *monthly*, *hourly*).  \n",
      "   - Common terms:  \n",
      "     - *yearly/annually/per year* → **yearly**  \n",
      "     - *monthly/per month* → **monthly**  \n",
      "     - *hourly/per hour* → **hourly**  \n",
      "\n",
      "**Example**:  \n",
      "- *\"Salary: €60,000 - €75,000 per year\"* → **60000-75000-EUR-yearly**  \n",
      "- *\"Pay: $30/hour\"* → **30-30-USD-hourly**  \n",
      "- No salary mentioned → **0-0-None-None**  \n",
      "\n",
      "Let me know if you'd like further clarification!\n",
      "\n",
      "RB step 2: As a salary extractor, you’ll encounter recurring phrases, numeric patterns, and contextual cues that signal compensation details. Here’s a breakdown of **common indicators** for each component:  \n",
      "\n",
      "---\n",
      "\n",
      "### **1. Salary Range (Min-Max)**\n",
      "**Phrases/Patterns:**  \n",
      "- **Explicit ranges**:  \n",
      "  - *\"$50,000 - $70,000\"*, *\"€40K–€60K\"*, *\"£80k - £100k\"*  \n",
      "  - *\"Salary range: 90,000 - 120,000 CAD\"*  \n",
      "- **Approximations**:  \n",
      "  - *\"Up to $110,000\"* → (Assumes min=0, max=110000)  \n",
      "  - *\"Starting at $45/hour\"* → (min=45, max=45)  \n",
      "- **Negotiable ranges**:  \n",
      "  - *\"Competitive salary DOE (Depends on Experience)\"* → May imply a hidden range.  \n",
      "- **Hybrid formats**:  \n",
      "  - *\"Base + bonus: $75,000 - $95,000\"* → Focus on base salary.  \n",
      "\n",
      "**Numeric Patterns**:  \n",
      "- **Commas/decimals**: *\"$5,000/month\"*, *\"€75.000\"* (European format).  \n",
      "- **Abbreviations**: *\"80K-100K\"*, *\"120k+\"*.  \n",
      "- **Dashes/slashes**: *\"$50K-$70K\"*, *\"100,000/annum\"*.  \n",
      "\n",
      "---\n",
      "\n",
      "### **2. Currency Indicators**  \n",
      "**Explicit Mentions**:  \n",
      "- **Symbols**: *$ (USD, CAD, AUD, etc.)*, *€ (EUR)*, *£ (GBP)*, *¥ (JPY/CNY)*.  \n",
      "- **ISO codes**: *\"USD 60,000\"*, *\"60,000 EUR\"*.  \n",
      "- **Location hints**:  \n",
      "  - *\"Salary in GBP\"*, *\"Compensation in Canadian dollars\"*.  \n",
      "\n",
      "**Ambiguity Notes**:  \n",
      "- *\"$\"* could mean USD, CAD, AUD, etc. Default to **USD** unless context suggests otherwise (e.g., job location: Toronto → **CAD**).  \n",
      "\n",
      "---\n",
      "\n",
      "### **3. Frequency Indicators**  \n",
      "**Common Phrases**:  \n",
      "- **Yearly**:  \n",
      "  - *\"per year\"*, *\"annually\"*, *\"p.a.\" (per annum)*, *\"/yr\"*.  \n",
      "- **Monthly**:  \n",
      "  - *\"per month\"*, *\"monthly salary\"*, *\"/mo\"*.  \n",
      "- **Hourly**:  \n",
      "  - *\"per hour\"*, *\"hourly wage\"*, *\"/hr\"*.  \n",
      "- **Project-based**:  \n",
      "  - *\"flat rate of $10,000\"* → Treat as one-time (frequency=None).  \n",
      "\n",
      "**Implicit Frequency**:  \n",
      "- No frequency mentioned? Assume **yearly** for professional roles (common in US/UK).  \n",
      "- Hourly roles often state *\"$20/hour\"* explicitly.  \n",
      "\n",
      "---\n",
      "\n",
      "### **4. Edge Cases & Pitfalls**  \n",
      "- **Variable Pay**:  \n",
      "  - *\"OTE (On-Target Earnings): $100,000\"* → Includes bonuses (extract base if possible).  \n",
      "  - *\"Base salary + commission\"* → Focus on base.  \n",
      "- **Non-Numeric Ranges**:  \n",
      "  - *\"Salary commensurate with experience\"* → **0-0-None-None**.  \n",
      "- **Multiple Currencies**:  \n",
      "  - *\"€50,000 (or $55,000)\"* → Use the first currency (**EUR**).  \n",
      "\n",
      "---\n",
      "\n",
      "### **Regex Patterns (for Automation)**  \n",
      "1. **Range Extraction**:  \n",
      "   `(\\$|€|£|USD|EUR|GBP)\\s*(\\d{1,3}(?:,\\d{3})*(?:\\.\\d{2})?)(?:\\s*-\\s*(\\$|€|£|USD|EUR|GBP)?\\s*(\\d{1,3}(?:,\\d{3})*(?:\\.\\d{2})?))?`  \n",
      "2. **Frequency Detection**:  \n",
      "   `(per year|annually|p\\.a\\.|/yr|yearly)|(per month|monthly|/mo)|(per hour|hourly|/hr)`  \n",
      "\n",
      "---\n",
      "\n",
      "### **Examples in Action**  \n",
      "1. *\"Pay: £45,000 - £52,000 per annum\"* → **45000-52000-GBP-yearly**  \n",
      "2. *\"Hourly rate: $25.50\"* → **25.50-25.50-USD-hourly**  \n",
      "3. *\"Competitive salary DOE\"* → **0-0-None-None**  \n",
      "\n",
      "Would you like me to refine this further for specific regions or industries?\n",
      "\n"
     ]
    }
   ],
   "source": [
    "messages_static = RBIC_static_messages(verbose=True, add_fewshot=False)"
   ]
  },
  {
   "cell_type": "code",
   "execution_count": 19,
   "metadata": {
    "tags": []
   },
   "outputs": [],
   "source": [
    "# df to store model predictions\n",
    "test_pred_df = pd.DataFrame(columns=[\"y_pred\"])"
   ]
  },
  {
   "cell_type": "code",
   "execution_count": 20,
   "metadata": {
    "tags": []
   },
   "outputs": [
    {
     "name": "stderr",
     "output_type": "stream",
     "text": [
      " 72%|████████████████████████████▏          | 409/567 [1:43:17<41:09, 15.63s/it]"
     ]
    },
    {
     "name": "stdout",
     "output_type": "stream",
     "text": [
      "Failed to parse model output as JSON: ```json\n",
      "{\n",
      "  \"Full Time\": {\n",
      "    \"MinSalary\": \"1500\",\n",
      "    \"MaxSalary\": \"1900\",\n",
      "    \"Currency\": \"MYR\",\n",
      "    \"Frequency\": \"monthly\"\n",
      "  },\n",
      "  \"Part Time\": {\n",
      "    \"MinSalary\": \"8\",\n",
      "    \"MaxSalary\": \"8\",\n",
      "    \"Currency\": \"MYR\",\n",
      "    \"Frequency\": \"hourly\"\n",
      "  },\n",
      "  \"Freelancer\": {\n",
      "    \"MinSalary\": \"0\",\n",
      "    \"MaxSalary\": \"0\",\n",
      "    \"Currency\": \"None\",\n",
      "    \"Frequency\": \"None\"\n",
      "  }\n",
      "}\n",
      "```\n"
     ]
    },
    {
     "name": "stderr",
     "output_type": "stream",
     "text": [
      "100%|███████████████████████████████████████| 567/567 [2:21:44<00:00, 15.00s/it]\n"
     ]
    }
   ],
   "source": [
    "for i in tqdm(range(len(test_df))):\n",
    "    desc = {\n",
    "        \"job_title\": test_df.iloc[i].job_title,\n",
    "        \"job_ad_details\": test_df.iloc[i].job_ad_details,\n",
    "        \"nation_short_desc\": test_df.iloc[i].nation_short_desc,\n",
    "        \"salary_additional_text\": test_df.iloc[i].salary_additional_text,\n",
    "    }\n",
    "    desc_str = str(desc)\n",
    "\n",
    "    label = test_df.iloc[i].y_true\n",
    "    label_str = str(label)\n",
    "\n",
    "    label_pred = RBIC(messages_static, desc_str)\n",
    "\n",
    "    test_pred_df.loc[len(test_pred_df)] = label_pred\n",
    "\n",
    "# export the dataframe to a new csv file\n",
    "test_pred_df.to_csv('salary_labelled_test_set_deepseek_rbic_preds.csv', index=False)"
   ]
  },
  {
   "cell_type": "markdown",
   "metadata": {},
   "source": [
    "# Regular prompting"
   ]
  },
  {
   "cell_type": "code",
   "execution_count": 21,
   "metadata": {
    "tags": []
   },
   "outputs": [],
   "source": [
    "# df to store model predictions\n",
    "test_pred_df = pd.DataFrame(columns=[\"y_pred\"])"
   ]
  },
  {
   "cell_type": "code",
   "execution_count": 22,
   "metadata": {
    "tags": []
   },
   "outputs": [],
   "source": [
    "messages_static = [\n",
    "    {\"role\": \"system\", \"content\": \"You are an expert job ad annotator. Your task is to extract structured salary information from job descriptions in the format: min-max-currency-frequency. If salary is not found, return: 0-0-None-None.\"},\n",
    "]"
   ]
  },
  {
   "cell_type": "code",
   "execution_count": 23,
   "metadata": {
    "tags": []
   },
   "outputs": [
    {
     "name": "stderr",
     "output_type": "stream",
     "text": [
      " 40%|████████████████▌                        | 229/567 [19:34<45:34,  8.09s/it]"
     ]
    },
    {
     "name": "stdout",
     "output_type": "stream",
     "text": [
      "Failed to parse model output as JSON: ```json\n",
      "{\n",
      "  \"Full-timer\": {\n",
      "    \"MinSalary\": \"1500\",\n",
      "    \"MaxSalary\": \"1700\",\n",
      "    \"Currency\": \"MYR\",\n",
      "    \"Frequency\": \"monthly\"\n",
      "  },\n",
      "  \"Part-timer Jadual 1\": {\n",
      "    \"MinSalary\": \"400\",\n",
      "    \"MaxSalary\": \"500\",\n",
      "    \"Currency\": \"MYR\",\n",
      "    \"Frequency\": \"monthly\"\n",
      "  },\n",
      "  \"Part-timer Jadual 2\": {\n",
      "    \"MinSalary\": \"400\",\n",
      "    \"MaxSalary\": \"500\",\n",
      "    \"Currency\": \"MYR\",\n",
      "    \"Frequency\": \"monthly\"\n",
      "  },\n",
      "  \"Part-timer Jadual 3\": {\n",
      "    \"MinSalary\": \"400\",\n",
      "    \"MaxSalary\": \"400\",\n",
      "    \"Currency\": \"MYR\",\n",
      "    \"Frequency\": \"monthly\"\n",
      "  },\n",
      "  \"Combination Example 1\": {\n",
      "    \"MinSalary\": \"1200\",\n",
      "    \"MaxSalary\": \"1400\",\n",
      "    \"Currency\": \"MYR\",\n",
      "    \"Frequency\": \"monthly\"\n",
      "  },\n",
      "  \"Combination Example 2\": {\n",
      "    \"MinSalary\": \"1900\",\n",
      "    \"MaxSalary\": \"2100\",\n",
      "    \"Currency\": \"MYR\",\n",
      "    \"Frequency\": \"monthly\"\n",
      "  }\n",
      "}\n",
      "```\n"
     ]
    },
    {
     "name": "stderr",
     "output_type": "stream",
     "text": [
      " 72%|█████████████████████████████▌           | 409/567 [35:08<16:06,  6.12s/it]"
     ]
    },
    {
     "name": "stdout",
     "output_type": "stream",
     "text": [
      "Failed to parse model output as JSON: ```json\n",
      "{\n",
      "  \"Full Time\": {\n",
      "    \"MinSalary\": \"1500\",\n",
      "    \"MaxSalary\": \"1900\",\n",
      "    \"Currency\": \"MYR\",\n",
      "    \"Frequency\": \"monthly\"\n",
      "  },\n",
      "  \"Part Time\": {\n",
      "    \"MinSalary\": \"8\",\n",
      "    \"MaxSalary\": \"8\",\n",
      "    \"Currency\": \"MYR\",\n",
      "    \"Frequency\": \"hourly\"\n",
      "  },\n",
      "  \"Freelancer\": {\n",
      "    \"MinSalary\": \"0\",\n",
      "    \"MaxSalary\": \"0\",\n",
      "    \"Currency\": \"None\",\n",
      "    \"Frequency\": \"None\"\n",
      "  }\n",
      "}\n",
      "```\n"
     ]
    },
    {
     "name": "stderr",
     "output_type": "stream",
     "text": [
      "100%|█████████████████████████████████████████| 567/567 [48:37<00:00,  5.15s/it]\n"
     ]
    }
   ],
   "source": [
    "for i in tqdm(range(len(test_df))):\n",
    "    desc = {\n",
    "        \"job_title\": test_df.iloc[i].job_title,\n",
    "        \"job_ad_details\": test_df.iloc[i].job_ad_details,\n",
    "        \"nation_short_desc\": test_df.iloc[i].nation_short_desc,\n",
    "        \"salary_additional_text\": test_df.iloc[i].salary_additional_text,\n",
    "    }\n",
    "    desc_str = str(desc)\n",
    "\n",
    "    messages = copy.deepcopy(messages_static)\n",
    "    messages.append({\n",
    "        \"role\": \"user\",\n",
    "        \"content\": (\n",
    "            f\"{desc_str} Extract structured salary information from this job descriptions in the format: min-max-currency-frequency. \"\n",
    "            \"Respond in JSON: {\\\"MinSalary\\\": \\\"\\\", \\\"MaxSalary\\\": \\\"\\\", \\\"Currency\\\": \\\"\\\", \\\"Frequency\\\": \\\"\\\"}. \"\n",
    "            \"If not provided explicitly, output 0 for \\\"MinSalary\\\" and \\\"MaxSalary\\\", and \\\"None\\\" for \\\"Currency\\\" and \\\"Frequency\\\". \"\n",
    "            \"If the salary is mentioned, always output a range, where MinSalary and MaxSalary can be equal. \"\n",
    "            \"Use 'nation_short_desc' to determine the correct currency. \"\n",
    "            \"Output the currency as 3 letters. Use adverb to output frequency (annual, monthly, daily or hourly).\"\n",
    "        )\n",
    "    })\n",
    "    \n",
    "    response = client.chat.completions.create(\n",
    "        model=model,\n",
    "        messages=messages\n",
    "    )\n",
    "    answer_str = response.choices[0].message.content\n",
    "\n",
    "    # format the output\n",
    "    try:\n",
    "        answer_str_ = answer_str[answer_str.find('{'):answer_str.find('}') + 1]\n",
    "        answer_str_ = answer_str_.replace('“', '\"')\n",
    "        answer_str_ = answer_str_.replace('”', '\"')\n",
    "        answer = json.loads(answer_str_)\n",
    "\n",
    "        label = f\"{answer['MinSalary']}-{answer['MaxSalary']}-{answer['Currency'].upper()}-{answer['Frequency'].upper()}\"\n",
    "\n",
    "    except json.JSONDecodeError:\n",
    "        print(f\"Failed to parse model output as JSON: {answer_str}\")\n",
    "        label = \"ERROR \" + answer_str\n",
    "\n",
    "    test_pred_df.loc[len(test_pred_df)] = label\n",
    "\n",
    "# export the dataframe to a new csv file\n",
    "test_pred_df.to_csv('salary_labelled_test_set_deepseek_preds.csv', index=False)"
   ]
  },
  {
   "cell_type": "markdown",
   "metadata": {},
   "source": [
    "# Metrics"
   ]
  },
  {
   "cell_type": "code",
   "execution_count": 1,
   "metadata": {},
   "outputs": [],
   "source": [
    "import json\n",
    "import string\n",
    "import pandas as pd"
   ]
  },
  {
   "cell_type": "code",
   "execution_count": 2,
   "metadata": {},
   "outputs": [],
   "source": [
    "def simple_post_process(row):\n",
    "    if 'ERROR' not in row:\n",
    "        row = row.translate(str.maketrans('', '', '\"'))\n",
    "        try:\n",
    "            mn, mx, cur, freq = row.split('-')\n",
    "        except Exception:\n",
    "            row_split = row.split('-')\n",
    "            mn = row_split[0]\n",
    "            mx = ''.join(c for c in mn if c.isdigit())\n",
    "            mx = row_split[-3]\n",
    "            mx = ''.join(c for c in mx if c.isdigit())\n",
    "            cur = row_split[-2]\n",
    "            freq = row_split[-1]\n",
    "        # 'NONE' -> 'None'\n",
    "        cur = 'None' if cur == 'NONE' else cur\n",
    "        freq = 'None' if freq == 'NONE' else freq\n",
    "        # cast min and max salary to int\n",
    "        try:\n",
    "            mn = int(round(float(mn)))\n",
    "        except Exception:\n",
    "            mn = 0\n",
    "        try:\n",
    "            mx = int(round(float(mx)))\n",
    "        except Exception:\n",
    "            mx = 0\n",
    "        return str(mn), str(mx), cur, freq, f'{mn}-{mx}-{cur}-{freq}'\n",
    "    else:\n",
    "        row = row.strip()\n",
    "        try:\n",
    "            row = row[row.find('{'):-4]\n",
    "            row_data = json.loads(row)\n",
    "        except Exception:\n",
    "            return 0, 0, 'None', 'None', '0-0-None-None'\n",
    "        row_data = row_data['Full Time'] if 'Full Time' in row_data else (row_data['Full-timer'] if 'Full-timer' in row_data else row_data)\n",
    "        try:\n",
    "            mn = row_data['MinSalary']\n",
    "            mx = row_data['MaxSalary']\n",
    "            cur = row_data['Currency']\n",
    "            freq = row_data['Frequency']\n",
    "        except Exception:\n",
    "            return 0, 0, 'None', 'None', '0-0-None-None'\n",
    "        # 'NONE' -> 'None'\n",
    "        cur = 'None' if cur == 'NONE' else cur\n",
    "        freq = 'None' if freq == 'NONE' else freq\n",
    "        # cast min and max salary to int\n",
    "        mn = int(round(float(mn)))\n",
    "        mx = int(round(float(mx)))\n",
    "        return str(mn), str(mx), cur, freq, f'{mn}-{mx}-{cur}-{freq}'\n",
    "\n",
    "def split_target(row):\n",
    "    mn, mx, cur, freq = row.split('-')\n",
    "    return mn, mx, cur, freq\n",
    "\n",
    "def get_accuracy(path_to_preds):\n",
    "    preds = pd.read_csv(path_to_preds)\n",
    "    test_df = pd.read_csv('data/salary_labelled_test_set_cleaned.csv')\n",
    "    \n",
    "    test_df['y_pred'] = preds.values.reshape(-1)\n",
    "    \n",
    "    test_df['min_salary_pred'], test_df['max_salary_pred'], test_df['currency_pred'], test_df['freq_pred'], test_df['y_pred'] = zip(*test_df['y_pred'].map(simple_post_process))\n",
    "    test_df['min_salary_true'], test_df['max_salary_true'], test_df['currency_true'], test_df['freq_true'] = zip(*test_df['y_true'].map(split_target))\n",
    "    \n",
    "    acc_overall = (test_df['y_pred'] == test_df['y_true']).mean() * 100\n",
    "    acc_min = (test_df['min_salary_pred'] == test_df['min_salary_true']).mean() * 100\n",
    "    acc_max = (test_df['max_salary_pred'] == test_df['max_salary_true']).mean() * 100\n",
    "    acc_curr = (test_df['currency_pred'] == test_df['currency_true']).mean() * 100\n",
    "    acc_freq = (test_df['freq_pred'] == test_df['freq_true']).mean() * 100\n",
    "    \n",
    "    res = pd.DataFrame(\n",
    "        {\n",
    "            'Overall': round(acc_overall, 2),\n",
    "            'Min Salary': round(acc_min, 2),\n",
    "            'Max Salary': round(acc_max, 2),\n",
    "            'Currency': round(acc_curr, 2),\n",
    "            'Frequency': round(acc_freq, 2),\n",
    "        },\n",
    "        index=['Accuracy (%)']\n",
    "    )\n",
    "    \n",
    "    return res"
   ]
  },
  {
   "cell_type": "code",
   "execution_count": 3,
   "metadata": {},
   "outputs": [
    {
     "data": {
      "text/html": [
       "<div>\n",
       "<style scoped>\n",
       "    .dataframe tbody tr th:only-of-type {\n",
       "        vertical-align: middle;\n",
       "    }\n",
       "\n",
       "    .dataframe tbody tr th {\n",
       "        vertical-align: top;\n",
       "    }\n",
       "\n",
       "    .dataframe thead th {\n",
       "        text-align: right;\n",
       "    }\n",
       "</style>\n",
       "<table border=\"1\" class=\"dataframe\">\n",
       "  <thead>\n",
       "    <tr style=\"text-align: right;\">\n",
       "      <th></th>\n",
       "      <th>Overall</th>\n",
       "      <th>Min Salary</th>\n",
       "      <th>Max Salary</th>\n",
       "      <th>Currency</th>\n",
       "      <th>Frequency</th>\n",
       "    </tr>\n",
       "  </thead>\n",
       "  <tbody>\n",
       "    <tr>\n",
       "      <th>Accuracy (%)</th>\n",
       "      <td>88.36</td>\n",
       "      <td>91.36</td>\n",
       "      <td>90.83</td>\n",
       "      <td>97.53</td>\n",
       "      <td>97.71</td>\n",
       "    </tr>\n",
       "  </tbody>\n",
       "</table>\n",
       "</div>"
      ],
      "text/plain": [
       "              Overall  Min Salary  Max Salary  Currency  Frequency\n",
       "Accuracy (%)    88.36       91.36       90.83     97.53      97.71"
      ]
     },
     "execution_count": 3,
     "metadata": {},
     "output_type": "execute_result"
    }
   ],
   "source": [
    "get_accuracy('salary_labelled_test_set_deepseek_rbic_fewshot_preds.csv')"
   ]
  },
  {
   "cell_type": "code",
   "execution_count": 4,
   "metadata": {},
   "outputs": [
    {
     "data": {
      "text/html": [
       "<div>\n",
       "<style scoped>\n",
       "    .dataframe tbody tr th:only-of-type {\n",
       "        vertical-align: middle;\n",
       "    }\n",
       "\n",
       "    .dataframe tbody tr th {\n",
       "        vertical-align: top;\n",
       "    }\n",
       "\n",
       "    .dataframe thead th {\n",
       "        text-align: right;\n",
       "    }\n",
       "</style>\n",
       "<table border=\"1\" class=\"dataframe\">\n",
       "  <thead>\n",
       "    <tr style=\"text-align: right;\">\n",
       "      <th></th>\n",
       "      <th>Overall</th>\n",
       "      <th>Min Salary</th>\n",
       "      <th>Max Salary</th>\n",
       "      <th>Currency</th>\n",
       "      <th>Frequency</th>\n",
       "    </tr>\n",
       "  </thead>\n",
       "  <tbody>\n",
       "    <tr>\n",
       "      <th>Accuracy (%)</th>\n",
       "      <td>87.13</td>\n",
       "      <td>91.01</td>\n",
       "      <td>90.65</td>\n",
       "      <td>97.0</td>\n",
       "      <td>96.65</td>\n",
       "    </tr>\n",
       "  </tbody>\n",
       "</table>\n",
       "</div>"
      ],
      "text/plain": [
       "              Overall  Min Salary  Max Salary  Currency  Frequency\n",
       "Accuracy (%)    87.13       91.01       90.65      97.0      96.65"
      ]
     },
     "execution_count": 4,
     "metadata": {},
     "output_type": "execute_result"
    }
   ],
   "source": [
    "get_accuracy('salary_labelled_test_set_deepseek_rbic_preds.csv')"
   ]
  },
  {
   "cell_type": "code",
   "execution_count": 5,
   "metadata": {},
   "outputs": [
    {
     "data": {
      "text/html": [
       "<div>\n",
       "<style scoped>\n",
       "    .dataframe tbody tr th:only-of-type {\n",
       "        vertical-align: middle;\n",
       "    }\n",
       "\n",
       "    .dataframe tbody tr th {\n",
       "        vertical-align: top;\n",
       "    }\n",
       "\n",
       "    .dataframe thead th {\n",
       "        text-align: right;\n",
       "    }\n",
       "</style>\n",
       "<table border=\"1\" class=\"dataframe\">\n",
       "  <thead>\n",
       "    <tr style=\"text-align: right;\">\n",
       "      <th></th>\n",
       "      <th>Overall</th>\n",
       "      <th>Min Salary</th>\n",
       "      <th>Max Salary</th>\n",
       "      <th>Currency</th>\n",
       "      <th>Frequency</th>\n",
       "    </tr>\n",
       "  </thead>\n",
       "  <tbody>\n",
       "    <tr>\n",
       "      <th>Accuracy (%)</th>\n",
       "      <td>87.3</td>\n",
       "      <td>91.36</td>\n",
       "      <td>90.48</td>\n",
       "      <td>97.18</td>\n",
       "      <td>96.65</td>\n",
       "    </tr>\n",
       "  </tbody>\n",
       "</table>\n",
       "</div>"
      ],
      "text/plain": [
       "              Overall  Min Salary  Max Salary  Currency  Frequency\n",
       "Accuracy (%)     87.3       91.36       90.48     97.18      96.65"
      ]
     },
     "execution_count": 5,
     "metadata": {},
     "output_type": "execute_result"
    }
   ],
   "source": [
    "get_accuracy('salary_labelled_test_set_deepseek_preds.csv')"
   ]
  }
 ],
 "metadata": {
  "accelerator": "GPU",
  "colab": {
   "gpuType": "T4",
   "provenance": []
  },
  "kernelspec": {
   "display_name": "Python 3 (ipykernel)",
   "language": "python",
   "name": "python3"
  },
  "language_info": {
   "codemirror_mode": {
    "name": "ipython",
    "version": 3
   },
   "file_extension": ".py",
   "mimetype": "text/x-python",
   "name": "python",
   "nbconvert_exporter": "python",
   "pygments_lexer": "ipython3",
   "version": "3.9.21"
  }
 },
 "nbformat": 4,
 "nbformat_minor": 4
}
