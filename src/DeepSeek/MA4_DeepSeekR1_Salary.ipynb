{
 "cells": [
  {
   "cell_type": "markdown",
   "metadata": {
    "id": "KfXY0rMVfLPo"
   },
   "source": [
    "# Loading"
   ]
  },
  {
   "cell_type": "code",
   "execution_count": 1,
   "metadata": {
    "id": "ziGslr52Zr3j",
    "tags": []
   },
   "outputs": [],
   "source": [
    "import pandas as pd\n",
    "import numpy as np\n",
    "from tqdm import tqdm\n",
    "import openai\n",
    "from openai import OpenAI\n",
    "import string\n",
    "import re\n",
    "from bs4 import BeautifulSoup\n",
    "import json\n",
    "import copy"
   ]
  },
  {
   "cell_type": "code",
   "execution_count": 2,
   "metadata": {
    "colab": {
     "base_uri": "https://localhost:8080/",
     "height": 290,
     "referenced_widgets": [
      "c90f9d95d9724112971633ca15a9bc17",
      "815eaca87f2947ca80d96615d282839e",
      "ecfd276855d84144b5738639d560dd13",
      "1158c5d791494d9499855467242c2afe",
      "fb996b8313df493bac9f2bf87d399333",
      "14eb1c77e7e845f99e3258f0a131cb1c",
      "b4524b58d5ea4924ac670eaa43495df4",
      "873c7b86dd074402a898e75f4c1a9d9f",
      "aa452f6697354aab9acac8d99d54d282",
      "5199350655d842b79dc58e4cf572931d",
      "704411595ee4422ba5ec2677d1d09bf2",
      "d1ba6589fd1e4d7fb72dff5945d5b584",
      "b4ed703dc2d34e958749c2fd67d7802d",
      "29f223da69eb465ea87c806021cb468b",
      "6ff94f195ba14bb2ba7029976ef73ae8",
      "f082d18974fb45e78128051e091de3d4",
      "9d4fd99da0bd46ca99a01ba4a6083ec0",
      "d537771c988c40d592555cdc9d30a3c5",
      "5d26af10ec7947069bbbe2e4228e9c29",
      "e9d0af6181f349baad80a5b418559d03",
      "af7e075217304b56a66b6c15060c0f11",
      "168d3b8fa6664c4d90c6ab12b21f14cf",
      "40700fdade18454ab4c66a05128c3318",
      "145dc132beda4065941cd208e33644b6",
      "1b22c14289584b55adddb36d43262822",
      "97b99148475644b3bfdf34f75908bdb6",
      "958e9d8b35cc48ed9d28fae0b65f2c3f",
      "de6f4730b671411fa486055ca862a30a",
      "0765a58d21d64bc8a633c135f0495d39",
      "4c542b9f7b684baba87876bbe1ddf649",
      "f3ed755eb08e474ea80e624c98ec7607",
      "0ea612f2dada409babf820a9d00413b4",
      "58c102628617430dbd870e9748a1562b",
      "6163e55a2a6e418ba011c62860e18b72",
      "f24c3813fb724acda542d07b1aaf9fbf",
      "e4ae71a066c94383bccd45162314b593",
      "ea7a7c27fca44d98923f303f070b27d3",
      "f07f8f0fec944de2b98d982cf971f27a",
      "c16b33c29b814445b3d783419abac42c",
      "9817a6d3cc454c288db17a001e704de2",
      "83c9ca2b9a8e40d48c261b6b20c53b78",
      "ae5b34887dd74a588df68478bfe6cda9",
      "9e05d0c71fb745418a746db7d4589f44",
      "0d05028ab9a641f4ba3bcb27fa01b46f",
      "621e0a27097d4b938e589fcbd077c7a4",
      "99b3bbce8009492c87ae6e86f815a8ea",
      "f8c8f920cf6649f1bd24fcedafa0cbce",
      "0e4b2a55db1f438ebb4bf9e7adb7c6d0",
      "04935fe71c6e45f7affe7618e6cf8c56",
      "9ee76928655741b5b29bc4f225998378",
      "3fbac1d570c44c60bc422539526855a1",
      "702f4210422b405ab6f146ba41449cb6",
      "9794be82692d4aa8954513b87224a66d",
      "8789c63ee6fa437cb5764cb430b0f143",
      "b820f757da7b439c8d67f44c4b85c0b3",
      "435721f0d61240debb55b9d55982edaa",
      "c073ebde4f4747ef9cde74d467f380d3",
      "f277420b3c684967a564c7f5d5774bc8",
      "cb11d9779c3346149a5b281c8cc3369b",
      "b55f9b11efc7432299bfd2bc31e8047f",
      "8338b8a8ab514cb9aa60e54ee0695713",
      "bbf07685f3e04d62b96f88edab42a5d0",
      "cac44d03666040a4bc1c6333b9136ad1",
      "c2097a7cddf14727b270f483f5cf39cd",
      "fd12a4a0d61545dca30173903feacda5",
      "c16b4bb50c64430cb913135318f7cb36",
      "38131d89a7784da3b3692e28fb2c19fd",
      "9cda9b150d3c42ff9b8894754ba64f69",
      "b0cba3cf9c314440a232789739704813",
      "84f61de0aa9e47cc9d8c1e3b30ef9003",
      "62c1e48820f248c09ed77d8519edc26d",
      "c6279d16c5e7478996c51383f9503a0c",
      "a05a84a8206f4e4f9c0b116b7bcd70f9",
      "a9d6428792564c86b805aac511381c2c",
      "9ce149a825024be78a568696de4e4175",
      "69aad4241f2247e28d822cb181319799",
      "4223d77cd9684b119740649f667d4206",
      "67a1da4e33a4492587f431d49dc98079",
      "4b83eb9995144e0b9eb57f0ebb03b106",
      "6045938926464db69ed14c39967392cf",
      "e8237f1158674661b387320d9f415db4",
      "f7640150712f4a868169b7b575573b85",
      "1d1b76b73ce942658e7f98f43f66b57e",
      "bbc83aacc44a4a14b5e93eb4234a1052",
      "926a8a0a689640afb77ec014935eda13",
      "cbd61c3d0a144de3aa5e767595d67418",
      "6e3b695d048448a8a5415a83b0e4494a",
      "39209c88852848629b72060fddefc2c7"
     ]
    },
    "id": "TIETAXxfp5Yd",
    "outputId": "a7049bdf-33e6-4864-8174-00290abcf3d8",
    "tags": []
   },
   "outputs": [],
   "source": [
    "client = OpenAI(api_key=\"\", base_url=\"https://api.deepseek.com\")\n",
    "model=\"deepseek-reasoner\" # DeepSeek-R1"
   ]
  },
  {
   "cell_type": "markdown",
   "metadata": {
    "id": "q0oo9hKTZm2R"
   },
   "source": [
    "# Salary"
   ]
  },
  {
   "cell_type": "code",
   "execution_count": 3,
   "metadata": {
    "id": "CblLBHhhZm2S",
    "tags": []
   },
   "outputs": [],
   "source": [
    "train_df = pd.read_csv('data/salary_labelled_development_set_cleaned.csv')\n",
    "test_df = pd.read_csv('data/salary_labelled_test_set_cleaned.csv')"
   ]
  },
  {
   "cell_type": "code",
   "execution_count": 4,
   "metadata": {
    "colab": {
     "base_uri": "https://localhost:8080/",
     "height": 272
    },
    "id": "XrHGLvuPDgDx",
    "outputId": "667d731e-fe91-4c25-ccef-a5e2e6c24b8e",
    "tags": []
   },
   "outputs": [
    {
     "data": {
      "text/plain": [
       "job_id                                                             51839829\n",
       "job_title                                        Senior Key Account Manager\n",
       "job_ad_details            At RB, we’re driven by our fight to make acces...\n",
       "nation_short_desc                                                        NZ\n",
       "salary_additional_text     Competitive base + car allowance + bonus + MORE!\n",
       "y_true                                                        0-0-None-None\n",
       "Name: 1131, dtype: object"
      ]
     },
     "execution_count": 4,
     "metadata": {},
     "output_type": "execute_result"
    }
   ],
   "source": [
    "train_df.iloc[1131]"
   ]
  },
  {
   "cell_type": "markdown",
   "metadata": {},
   "source": [
    "# Regular prompting"
   ]
  },
  {
   "cell_type": "code",
   "execution_count": 13,
   "metadata": {
    "tags": []
   },
   "outputs": [],
   "source": [
    "# df to store model predictions\n",
    "test_pred_df = pd.DataFrame(columns=[\"y_pred\"])"
   ]
  },
  {
   "cell_type": "code",
   "execution_count": 14,
   "metadata": {
    "tags": []
   },
   "outputs": [],
   "source": [
    "messages_static = [\n",
    "    {\"role\": \"system\", \"content\": \"You are an expert job ad annotator. Your task is to extract structured salary information from job descriptions in the format: min-max-currency-frequency. If salary is not found, return: 0-0-None-None.\"},\n",
    "]"
   ]
  },
  {
   "cell_type": "code",
   "execution_count": 15,
   "metadata": {
    "tags": []
   },
   "outputs": [
    {
     "name": "stderr",
     "output_type": "stream",
     "text": [
      "100%|███████████████████████████████████████| 567/567 [3:10:25<00:00, 20.15s/it]\n"
     ]
    }
   ],
   "source": [
    "for i in tqdm(range(len(test_df))):\n",
    "    desc = {\n",
    "        \"job_title\": test_df.iloc[i].job_title,\n",
    "        \"job_ad_details\": test_df.iloc[i].job_ad_details,\n",
    "        \"nation_short_desc\": test_df.iloc[i].nation_short_desc,\n",
    "        \"salary_additional_text\": test_df.iloc[i].salary_additional_text,\n",
    "    }\n",
    "    desc_str = str(desc)\n",
    "\n",
    "    messages = copy.deepcopy(messages_static)\n",
    "    messages.append({\n",
    "        \"role\": \"user\",\n",
    "        \"content\": (\n",
    "            f\"{desc_str} Extract structured salary information from this job descriptions in the format: min-max-currency-frequency. \"\n",
    "            \"Respond in JSON: {\\\"MinSalary\\\": \\\"\\\", \\\"MaxSalary\\\": \\\"\\\", \\\"Currency\\\": \\\"\\\", \\\"Frequency\\\": \\\"\\\"}. \"\n",
    "            \"If not provided explicitly, output 0 for \\\"MinSalary\\\" and \\\"MaxSalary\\\", and \\\"None\\\" for \\\"Currency\\\" and \\\"Frequency\\\". \"\n",
    "            \"If the salary is mentioned, always output a range, where MinSalary and MaxSalary can be equal. \"\n",
    "            \"Use 'nation_short_desc' to determine the correct currency. \"\n",
    "            \"Output the currency as 3 letters. Use adverb to output frequency (annual, monthly, daily or hourly).\"\n",
    "        )\n",
    "    })\n",
    "    \n",
    "    response = client.chat.completions.create(\n",
    "        model=model,\n",
    "        messages=messages\n",
    "    )\n",
    "    answer_str = response.choices[0].message.content\n",
    "\n",
    "    # format the output\n",
    "    try:\n",
    "        answer_str_ = answer_str[answer_str.find('{'):answer_str.find('}') + 1]\n",
    "        answer_str_ = answer_str_.replace('“', '\"')\n",
    "        answer_str_ = answer_str_.replace('”', '\"')\n",
    "        answer = json.loads(answer_str_)\n",
    "\n",
    "        label = f\"{answer['MinSalary']}-{answer['MaxSalary']}-{answer['Currency'].upper()}-{answer['Frequency'].upper()}\"\n",
    "\n",
    "    except json.JSONDecodeError:\n",
    "        print(f\"Failed to parse model output as JSON: {answer_str}\")\n",
    "        label = \"ERROR \" + answer_str\n",
    "\n",
    "    test_pred_df.loc[len(test_pred_df)] = label\n",
    "\n",
    "# export the dataframe to a new csv file\n",
    "test_pred_df.to_csv('salary_labelled_test_set_deepseek_r1_preds.csv', index=False)"
   ]
  },
  {
   "cell_type": "markdown",
   "metadata": {},
   "source": [
    "# Metrics"
   ]
  },
  {
   "cell_type": "code",
   "execution_count": 2,
   "metadata": {},
   "outputs": [],
   "source": [
    "import json\n",
    "import string\n",
    "import pandas as pd"
   ]
  },
  {
   "cell_type": "code",
   "execution_count": 4,
   "metadata": {},
   "outputs": [],
   "source": [
    "def simple_post_process(row):\n",
    "    if 'ERROR' not in row:\n",
    "        row = row.translate(str.maketrans('', '', '\"'))\n",
    "        try:\n",
    "            mn, mx, cur, freq = row.split('-')\n",
    "        except Exception:\n",
    "            row_split = row.split('-')\n",
    "            mn = row_split[0]\n",
    "            mx = ''.join(c for c in mn if c.isdigit())\n",
    "            mx = row_split[-3]\n",
    "            mx = ''.join(c for c in mx if c.isdigit())\n",
    "            cur = row_split[-2]\n",
    "            freq = row_split[-1]\n",
    "        # 'NONE' -> 'None'\n",
    "        cur = 'None' if cur == 'NONE' else cur\n",
    "        freq = 'None' if freq == 'NONE' else freq\n",
    "        # cast min and max salary to int\n",
    "        try:\n",
    "            mn = int(round(float(mn)))\n",
    "        except Exception:\n",
    "            mn = 0\n",
    "        try:\n",
    "            mx = int(round(float(mx)))\n",
    "        except Exception:\n",
    "            mx = 0\n",
    "        return str(mn), str(mx), cur, freq, f'{mn}-{mx}-{cur}-{freq}'\n",
    "    else:\n",
    "        row = row.strip()\n",
    "        try:\n",
    "            row = row[row.find('{'):-4]\n",
    "            row_data = json.loads(row)\n",
    "        except Exception:\n",
    "            return 0, 0, 'None', 'None', '0-0-None-None'\n",
    "        row_data = row_data['Full Time'] if 'Full Time' in row_data else (row_data['Full-timer'] if 'Full-timer' in row_data else row_data)\n",
    "        try:\n",
    "            mn = row_data['MinSalary']\n",
    "            mx = row_data['MaxSalary']\n",
    "            cur = row_data['Currency']\n",
    "            freq = row_data['Frequency']\n",
    "        except Exception:\n",
    "            return 0, 0, 'None', 'None', '0-0-None-None'\n",
    "        # 'NONE' -> 'None'\n",
    "        cur = 'None' if cur == 'NONE' else cur\n",
    "        freq = 'None' if freq == 'NONE' else freq\n",
    "        # cast min and max salary to int\n",
    "        mn = int(round(float(mn)))\n",
    "        mx = int(round(float(mx)))\n",
    "        return str(mn), str(mx), cur, freq, f'{mn}-{mx}-{cur}-{freq}'\n",
    "\n",
    "def split_target(row):\n",
    "    mn, mx, cur, freq = row.split('-')\n",
    "    return mn, mx, cur, freq\n",
    "\n",
    "def get_accuracy(path_to_preds):\n",
    "    preds = pd.read_csv(path_to_preds)\n",
    "    test_df = pd.read_csv('data/salary_labelled_test_set_cleaned.csv')\n",
    "    \n",
    "    test_df['y_pred'] = preds.values.reshape(-1)\n",
    "    \n",
    "    test_df['min_salary_pred'], test_df['max_salary_pred'], test_df['currency_pred'], test_df['freq_pred'], test_df['y_pred'] = zip(*test_df['y_pred'].map(simple_post_process))\n",
    "    test_df['min_salary_true'], test_df['max_salary_true'], test_df['currency_true'], test_df['freq_true'] = zip(*test_df['y_true'].map(split_target))\n",
    "    \n",
    "    acc_overall = (test_df['y_pred'] == test_df['y_true']).mean() * 100\n",
    "    acc_min = (test_df['min_salary_pred'] == test_df['min_salary_true']).mean() * 100\n",
    "    acc_max = (test_df['max_salary_pred'] == test_df['max_salary_true']).mean() * 100\n",
    "    acc_curr = (test_df['currency_pred'] == test_df['currency_true']).mean() * 100\n",
    "    acc_freq = (test_df['freq_pred'] == test_df['freq_true']).mean() * 100\n",
    "    \n",
    "    res = pd.DataFrame(\n",
    "        {\n",
    "            'Overall': round(acc_overall, 2),\n",
    "            'Min Salary': round(acc_min, 2),\n",
    "            'Max Salary': round(acc_max, 2),\n",
    "            'Currency': round(acc_curr, 2),\n",
    "            'Frequency': round(acc_freq, 2),\n",
    "        },\n",
    "        index=['Accuracy (%)']\n",
    "    )\n",
    "    \n",
    "    return res"
   ]
  },
  {
   "cell_type": "code",
   "execution_count": 5,
   "metadata": {},
   "outputs": [
    {
     "data": {
      "text/html": [
       "<style type=\"text/css\">\n",
       "</style>\n",
       "<table id=\"T_42d0a\">\n",
       "  <caption>Accuracy (%), Salary, Regular prompting</caption>\n",
       "  <thead>\n",
       "    <tr>\n",
       "      <th class=\"blank level0\" >&nbsp;</th>\n",
       "      <th id=\"T_42d0a_level0_col0\" class=\"col_heading level0 col0\" >Overall</th>\n",
       "      <th id=\"T_42d0a_level0_col1\" class=\"col_heading level0 col1\" >Min Salary</th>\n",
       "      <th id=\"T_42d0a_level0_col2\" class=\"col_heading level0 col2\" >Max Salary</th>\n",
       "      <th id=\"T_42d0a_level0_col3\" class=\"col_heading level0 col3\" >Currency</th>\n",
       "      <th id=\"T_42d0a_level0_col4\" class=\"col_heading level0 col4\" >Frequency</th>\n",
       "      <th id=\"T_42d0a_level0_col5\" class=\"col_heading level0 col5\" >Time (seconds)</th>\n",
       "    </tr>\n",
       "  </thead>\n",
       "  <tbody>\n",
       "    <tr>\n",
       "      <th id=\"T_42d0a_level0_row0\" class=\"row_heading level0 row0\" >DeepSeek-V3</th>\n",
       "      <td id=\"T_42d0a_row0_col0\" class=\"data row0 col0\" >87.300000</td>\n",
       "      <td id=\"T_42d0a_row0_col1\" class=\"data row0 col1\" >91.360000</td>\n",
       "      <td id=\"T_42d0a_row0_col2\" class=\"data row0 col2\" >90.480000</td>\n",
       "      <td id=\"T_42d0a_row0_col3\" class=\"data row0 col3\" >97.180000</td>\n",
       "      <td id=\"T_42d0a_row0_col4\" class=\"data row0 col4\" >96.650000</td>\n",
       "      <td id=\"T_42d0a_row0_col5\" class=\"data row0 col5\" >2917</td>\n",
       "    </tr>\n",
       "    <tr>\n",
       "      <th id=\"T_42d0a_level0_row1\" class=\"row_heading level0 row1\" >DeepSeek-R1</th>\n",
       "      <td id=\"T_42d0a_row1_col0\" class=\"data row1 col0\" >86.770000</td>\n",
       "      <td id=\"T_42d0a_row1_col1\" class=\"data row1 col1\" >91.010000</td>\n",
       "      <td id=\"T_42d0a_row1_col2\" class=\"data row1 col2\" >91.180000</td>\n",
       "      <td id=\"T_42d0a_row1_col3\" class=\"data row1 col3\" >98.590000</td>\n",
       "      <td id=\"T_42d0a_row1_col4\" class=\"data row1 col4\" >94.360000</td>\n",
       "      <td id=\"T_42d0a_row1_col5\" class=\"data row1 col5\" >11425</td>\n",
       "    </tr>\n",
       "  </tbody>\n",
       "</table>\n"
      ],
      "text/plain": [
       "<pandas.io.formats.style.Styler at 0x118a72b80>"
      ]
     },
     "execution_count": 5,
     "metadata": {},
     "output_type": "execute_result"
    }
   ],
   "source": [
    "preds = pd.read_csv('salary_labelled_test_set_deepseek_r1_preds.csv')\n",
    "test_df = pd.read_csv('data/salary_labelled_test_set_cleaned.csv')\n",
    "test_df['y_pred'] = preds.values.reshape(-1)\n",
    "test_df['min_salary_pred'], test_df['max_salary_pred'], test_df['currency_pred'], test_df['freq_pred'], test_df['y_pred'] = zip(*test_df['y_pred'].map(simple_post_process))\n",
    "test_df['min_salary_true'], test_df['max_salary_true'], test_df['currency_true'], test_df['freq_true'] = zip(*test_df['y_true'].map(split_target))\n",
    "\n",
    "acc_overall = (test_df['y_pred'] == test_df['y_true']).mean() * 100\n",
    "acc_min = (test_df['min_salary_pred'] == test_df['min_salary_true']).mean() * 100\n",
    "acc_max = (test_df['max_salary_pred'] == test_df['max_salary_true']).mean() * 100\n",
    "acc_curr = (test_df['currency_pred'] == test_df['currency_true']).mean() * 100\n",
    "acc_freq = (test_df['freq_pred'] == test_df['freq_true']).mean() * 100\n",
    "\n",
    "preds = pd.read_csv('salary_labelled_test_set_deepseek_preds.csv')\n",
    "test_df = pd.read_csv('data/salary_labelled_test_set_cleaned.csv')\n",
    "test_df['y_pred'] = preds.values.reshape(-1)\n",
    "test_df['min_salary_pred'], test_df['max_salary_pred'], test_df['currency_pred'], test_df['freq_pred'], test_df['y_pred'] = zip(*test_df['y_pred'].map(simple_post_process))\n",
    "test_df['min_salary_true'], test_df['max_salary_true'], test_df['currency_true'], test_df['freq_true'] = zip(*test_df['y_true'].map(split_target))\n",
    "\n",
    "acc_overall_v3 = (test_df['y_pred'] == test_df['y_true']).mean() * 100\n",
    "acc_min_v3 = (test_df['min_salary_pred'] == test_df['min_salary_true']).mean() * 100\n",
    "acc_max_v3 = (test_df['max_salary_pred'] == test_df['max_salary_true']).mean() * 100\n",
    "acc_curr_v3 = (test_df['currency_pred'] == test_df['currency_true']).mean() * 100\n",
    "acc_freq_v3 = (test_df['freq_pred'] == test_df['freq_true']).mean() * 100\n",
    "\n",
    "\n",
    "pd.DataFrame(\n",
    "    {\n",
    "        'Overall': [round(acc_overall_v3, 2), round(acc_overall, 2)],\n",
    "        'Min Salary': [round(acc_min_v3, 2), round(acc_min, 2)],\n",
    "        'Max Salary': [round(acc_max_v3, 2), round(acc_max, 2)],\n",
    "        'Currency': [round(acc_curr_v3, 2), round(acc_curr, 2)],\n",
    "        'Frequency': [round(acc_freq_v3, 2), round(acc_freq, 2)],\n",
    "        'Time (seconds)': [2917, 11425]\n",
    "    },\n",
    "    index=['DeepSeek-V3', 'DeepSeek-R1']\n",
    ").style.set_caption('Accuracy (%), Salary, Regular prompting')"
   ]
  }
 ],
 "metadata": {
  "accelerator": "GPU",
  "colab": {
   "gpuType": "T4",
   "provenance": []
  },
  "kernelspec": {
   "display_name": "Python 3 (ipykernel)",
   "language": "python",
   "name": "python3"
  },
  "language_info": {
   "codemirror_mode": {
    "name": "ipython",
    "version": 3
   },
   "file_extension": ".py",
   "mimetype": "text/x-python",
   "name": "python",
   "nbconvert_exporter": "python",
   "pygments_lexer": "ipython3",
   "version": "3.9.21"
  }
 },
 "nbformat": 4,
 "nbformat_minor": 4
}
