{
 "cells": [
  {
   "cell_type": "markdown",
   "metadata": {
    "id": "KfXY0rMVfLPo"
   },
   "source": [
    "# Loading"
   ]
  },
  {
   "cell_type": "code",
   "execution_count": 1,
   "metadata": {
    "id": "ziGslr52Zr3j",
    "tags": []
   },
   "outputs": [],
   "source": [
    "import pandas as pd\n",
    "from tqdm import tqdm\n",
    "from openai import OpenAI\n",
    "import openai\n",
    "import string\n",
    "import json\n",
    "import copy"
   ]
  },
  {
   "cell_type": "code",
   "execution_count": 2,
   "metadata": {},
   "outputs": [],
   "source": [
    "client = OpenAI(api_key=\"\", base_url=\"https://api.deepseek.com\")\n",
    "model=\"deepseek-chat\" # DeepSeek-V3"
   ]
  },
  {
   "cell_type": "markdown",
   "metadata": {
    "id": "q0oo9hKTZm2R"
   },
   "source": [
    "# Seniority"
   ]
  },
  {
   "cell_type": "code",
   "execution_count": 3,
   "metadata": {
    "id": "CblLBHhhZm2S",
    "tags": []
   },
   "outputs": [],
   "source": [
    "train_df = pd.read_csv('data/seniority_labelled_development_set_cleaned.csv')\n",
    "test_df = pd.read_csv('data/seniority_labelled_test_set_cleaned.csv')"
   ]
  },
  {
   "cell_type": "code",
   "execution_count": 4,
   "metadata": {
    "colab": {
     "base_uri": "https://localhost:8080/",
     "height": 272
    },
    "id": "XrHGLvuPDgDx",
    "outputId": "667d731e-fe91-4c25-ccef-a5e2e6c24b8e",
    "tags": []
   },
   "outputs": [
    {
     "data": {
      "text/plain": [
       "job_id                                                             33027740\n",
       "job_title                                                   Fitter & Welder\n",
       "job_summary               A food manufacturing company has an opportunit...\n",
       "job_ad_details            A well known food manufacturer operating since...\n",
       "classification_name                    Manufacturing, Transport & Logistics\n",
       "subclassification_name                                                Other\n",
       "y_true                                                          experienced\n",
       "Name: 1131, dtype: object"
      ]
     },
     "execution_count": 4,
     "metadata": {},
     "output_type": "execute_result"
    }
   ],
   "source": [
    "train_df.iloc[1131]"
   ]
  },
  {
   "cell_type": "markdown",
   "metadata": {
    "id": "4za-mTXBecX8"
   },
   "source": [
    "# RBIC Functions"
   ]
  },
  {
   "cell_type": "markdown",
   "metadata": {
    "id": "_icT_CYAfeJi"
   },
   "source": [
    "### RB\n"
   ]
  },
  {
   "cell_type": "code",
   "execution_count": 5,
   "metadata": {
    "id": "485zx9H7Zw5D",
    "tags": []
   },
   "outputs": [],
   "source": [
    "#== step 1: role explanation\n",
    "def step_1():\n",
    "    messages = [\n",
    "        {\"role\": \"system\", \"content\": \"You are an expert job ad annotator. Your task is to infer the seniority information from job descriptions. The seniority label may be present in the set: [intermediate, senior, lead, head, experienced, entry-level, executive, assistant, senior/lead, deputy, director, trainee, associate, graduate, junior, general-manager, coordinator, student, chief, principal, apprentice, qualified, entry-level to intermediate, senior associate, standard, senior assistant, specialist, mid-level, entry level assistant, experienced assistant, manager, graduate/junior, independent, 1st year apprentice, senior-executive, junior assistant, assistant manager, supervisor, second-in-command, associate director, board, 4th year apprentice, mid-senior, regional head, middle-management, advanced, 2nd year apprentice, intermediate apprentice, level 2, assistant head, owner, post-doctoral, owner-operator, middle management, senior head, assistant director, junior-intermediate, sous, intermediate to senior, senior executive] . If not present in the set, then create a label.\"},\n",
    "        {\"role\": \"user\", \"content\": \"Based on your role, can you briefly explain what seniority means, and what seniority labels look like?\"}\n",
    "    ]\n",
    "\n",
    "    response = client.chat.completions.create(\n",
    "        model=model,\n",
    "        messages=messages\n",
    "    )\n",
    "    messages.append({\"role\": \"assistant\", \"content\": response.choices[0].message.content})\n",
    "\n",
    "    return response.choices[0].message.content, messages"
   ]
  },
  {
   "cell_type": "code",
   "execution_count": 6,
   "metadata": {
    "id": "QwpJGdGO4BV-",
    "tags": []
   },
   "outputs": [],
   "source": [
    "#== few-shot examples\n",
    "def fewshot(messages):\n",
    "    # messages.append({\n",
    "    #     \"role\": \"user\",\n",
    "    #     \"content\": \"I will provide you with some examples on how to accomplish your task\"\n",
    "    # })\n",
    "\n",
    "    # response = client.chat.completions.create(\n",
    "    #     model=model,\n",
    "    #     messages=messages\n",
    "    # )\n",
    "    # messages.append({\"role\": \"assistant\", \"content\": response.choices[0].message.content})\n",
    "\n",
    "    few_shot_indices = [2081,1,5,12,3]\n",
    "\n",
    "    for i in few_shot_indices:\n",
    "        desc = {\n",
    "          \"job_title\": train_df.iloc[i].job_title,\n",
    "          \"job_summary\": train_df.iloc[i].job_summary,\n",
    "          \"job_ad_details\": train_df.iloc[i].job_ad_details,\n",
    "          \"classification_name\": train_df.iloc[i].classification_name,\n",
    "          \"subclassification_name\": train_df.iloc[i].subclassification_name\n",
    "        }\n",
    "        desc_str = str(desc)\n",
    "\n",
    "        # add the description\n",
    "        messages.append({\n",
    "          \"role\": \"user\",\n",
    "          \"content\": desc_str\n",
    "        })\n",
    "\n",
    "        label = train_df.iloc[i].y_true\n",
    "        label_str = str(label)\n",
    "\n",
    "        # add the output\n",
    "        messages.append({\n",
    "            \"role\": \"assistant\",\n",
    "            \"content\": label_str\n",
    "        })\n",
    "\n",
    "    return messages"
   ]
  },
  {
   "cell_type": "code",
   "execution_count": 7,
   "metadata": {
    "id": "zbr7XLTfmBtc",
    "tags": []
   },
   "outputs": [],
   "source": [
    "#== step 2: setting sub-task --> ask for seniority patterns\n",
    "def step_2(messages):\n",
    "    messages.append({\n",
    "        \"role\": \"user\",\n",
    "        \"content\": \"As a seniority label predictor, what are some common phrases or patterns that indicate a seniority label in a job description?\"\n",
    "    })\n",
    "\n",
    "    response = client.chat.completions.create(\n",
    "        model=model,\n",
    "        messages=messages\n",
    "    )\n",
    "    messages.append({\"role\": \"assistant\", \"content\": response.choices[0].message.content})\n",
    "\n",
    "    return response.choices[0].message.content, messages"
   ]
  },
  {
   "cell_type": "markdown",
   "metadata": {
    "id": "9-6MkZsUfhLi"
   },
   "source": [
    "### IC"
   ]
  },
  {
   "cell_type": "code",
   "execution_count": 8,
   "metadata": {
    "id": "f9GUkH7kmWcc",
    "tags": []
   },
   "outputs": [],
   "source": [
    "#== step 3: presence of seniority (skipped)\n",
    "def step_3(messages_static, desc_str):\n",
    "    messages = copy.deepcopy(messages_static)\n",
    "\n",
    "    messages.append({\n",
    "        \"role\": \"user\",\n",
    "        \"content\": f\"{desc_str} does this job description include any seniority-related information? Just respond with 'Yes' or 'No'.\"\n",
    "    })\n",
    "\n",
    "    response = client.chat.completions.create(\n",
    "        model=model,\n",
    "        messages=messages\n",
    "    )\n",
    "    messages.append({\"role\": \"assistant\", \"content\": response.choices[0].message.content})\n",
    "\n",
    "    p3_content = response.choices[0].message.content\n",
    "\n",
    "    # clean and check the response\n",
    "    response_p3 = p3_content.translate(str.maketrans('', '', string.punctuation))\n",
    "    response_p3 = response_p3.strip().lower()[:3]\n",
    "    #print(f\"step3 messages: {len(messages)}\")\n",
    "    return response_p3, messages"
   ]
  },
  {
   "cell_type": "code",
   "execution_count": 9,
   "metadata": {
    "id": "c3rIEflSmZQG",
    "tags": []
   },
   "outputs": [],
   "source": [
    "#== step 4: iterative coaching/finding clues to prevent hallucination\n",
    "def step_4(response_p3, messages):\n",
    "    messages.append({\n",
    "            \"role\": \"user\",\n",
    "            \"content\": \"Extract the seniority-related phrases from the text verbatim. Respond in JSON: {\\\"Clue\\\": \\\"\\\"}.\"\n",
    "        })\n",
    "\n",
    "    response = client.chat.completions.create(\n",
    "        model=model,\n",
    "        messages=messages\n",
    "    )\n",
    "    messages.append({\"role\": \"assistant\", \"content\": response.choices[0].message.content})\n",
    "    #print(f\"step4 messages: {len(messages)}\")\n",
    "\n",
    "    return response.choices[0].message.content, messages"
   ]
  },
  {
   "cell_type": "code",
   "execution_count": 10,
   "metadata": {
    "id": "rftUWb7JZwxg",
    "tags": []
   },
   "outputs": [],
   "source": [
    "#== step 5: use the clue to generate the final output\n",
    "def step_5(messages):\n",
    "    messages.append({\n",
    "        \"role\": \"user\",\n",
    "        \"content\": (\n",
    "            \"Based on the extracted seniority clue, return a structured seniority label in the format {\\\"seniority_label\\\": \\\"\\\"}. \"\n",
    "                        \n",
    "        )\n",
    "    })\n",
    "\n",
    "    response = client.chat.completions.create(\n",
    "        model=model,\n",
    "        messages=messages\n",
    "    )\n",
    "    answer_str = response.choices[0].message.content\n",
    "    \n",
    "    # format and print the output\n",
    "    try:\n",
    "        answer_str_ = answer_str[answer_str.find('{'):answer_str.find('}') + 1]\n",
    "        answer_str_ = answer_str_.replace('“', '\"')\n",
    "        answer_str_ = answer_str_.replace('”', '\"')\n",
    "        answer = json.loads(answer_str_)\n",
    "        \n",
    "        label = answer['seniority_label']\n",
    "    except ...:\n",
    "        print(f\"Failed to parse model output: {answer_str}\")\n",
    "        label = \"ERROR \" + answer_str\n",
    "\n",
    "    return label, answer_str"
   ]
  },
  {
   "cell_type": "code",
   "execution_count": 11,
   "metadata": {
    "id": "MzSYBXFaS2kU",
    "tags": []
   },
   "outputs": [],
   "source": [
    "def RBIC_static_messages(verbose=False, add_fewshot=True):\n",
    "    response, messages = step_1()\n",
    "    if verbose: print(f\"RB step 1: {response}\\n\")\n",
    "\n",
    "    response, messages = step_2(messages)\n",
    "    if verbose: print(f\"RB step 2: {response}\\n\")\n",
    "\n",
    "    if add_fewshot:\n",
    "        messages = fewshot(messages)\n",
    "        if verbose: print(f\"Fewshot examples added\\n\")\n",
    "    return messages"
   ]
  },
  {
   "cell_type": "code",
   "execution_count": 12,
   "metadata": {
    "id": "QBoQh1EoTsJ2",
    "tags": []
   },
   "outputs": [],
   "source": [
    "def RBIC(messages, desc_str, verbose=False):\n",
    "    response_p3, messages_local = step_3(messages, desc_str)\n",
    "    if verbose: print(f\"IC step 1: {response_p3}\\n\")\n",
    "\n",
    "    response, messages_local = step_4(response_p3, messages_local)\n",
    "    if verbose: print(f\"IC step 2: {response}\\n\")\n",
    "\n",
    "    label, answer_str = step_5(messages_local)\n",
    "    if verbose: print(f\"IC step 3 (Final): {label}\\n\")\n",
    "    if verbose: print(f\"IC step 3 (Final Raw): {answer_str}\\n\")\n",
    "\n",
    "    return str(label)"
   ]
  },
  {
   "cell_type": "markdown",
   "metadata": {
    "id": "0KUTpN4tetFe"
   },
   "source": [
    "# Testing"
   ]
  },
  {
   "cell_type": "markdown",
   "metadata": {
    "id": "pTCP6pXsw0nd"
   },
   "source": [
    "### Qualitative Tests"
   ]
  },
  {
   "cell_type": "code",
   "execution_count": 13,
   "metadata": {
    "colab": {
     "base_uri": "https://localhost:8080/"
    },
    "id": "9-7IV-4tSnsB",
    "outputId": "7c3df295-f35a-4dfb-9919-9cf4f97c7b2f",
    "scrolled": false,
    "tags": []
   },
   "outputs": [
    {
     "name": "stdout",
     "output_type": "stream",
     "text": [
      "RB step 1: Certainly!  \n",
      "\n",
      "**Seniority** refers to the level of experience, responsibility, and authority associated with a job role. It helps categorize positions based on career progression, from entry-level roles to executive leadership.  \n",
      "\n",
      "### **Common Seniority Labels (Hierarchy from Junior to Senior)**  \n",
      "1. **Entry-Level / Junior / Trainee / Apprentice / Graduate** – Little to no prior experience required.  \n",
      "2. **Intermediate / Mid-Level / Associate / Standard** – Some experience, independent work expected.  \n",
      "3. **Senior / Experienced / Specialist / Supervisor** – Advanced expertise, may mentor others.  \n",
      "4. **Lead / Manager / Assistant Manager / Coordinator** – Team or project leadership.  \n",
      "5. **Head / Director / Chief / Principal / Executive** – Strategic decision-making, high responsibility.  \n",
      "6. **Board / Owner / C-Level (CEO, CFO, etc.)** – Top leadership or ownership roles.  \n",
      "\n",
      "### **Other Variations**  \n",
      "- **Hybrid Labels:** (e.g., \"Senior/Lead,\" \"Junior-Intermediate\")  \n",
      "- **Experience-Based:** (e.g., \"1st Year Apprentice,\" \"Post-Doctoral\")  \n",
      "- **Industry-Specific:** (e.g., \"Sous Chef,\" \"Regional Head\")  \n",
      "\n",
      "If a job ad doesn’t explicitly state seniority, I infer it from:  \n",
      "✔ **Required experience** (e.g., \"5+ years\" → Senior)  \n",
      "✔ **Responsibilities** (e.g., \"mentoring junior staff\" → Lead)  \n",
      "✔ **Reporting structure** (e.g., \"reports to the CEO\" → Executive)  \n",
      "\n",
      "Would you like me to analyze a specific job description?\n",
      "\n",
      "RB step 2: Great question! When predicting seniority labels from job descriptions, certain **phrases, keywords, and structural patterns** serve as strong indicators. Here’s a breakdown:\n",
      "\n",
      "---\n",
      "\n",
      "### **1. Explicit Seniority Terms in Job Titles**  \n",
      "- **Entry-Level/Junior:**  \n",
      "  - \"Junior [Role],\" \"Trainee,\" \"Graduate [Role],\" \"Apprentice,\" \"Intern\"  \n",
      "  - \"Associate\" (in some fields, e.g., \"Associate Consultant\" = entry-level)  \n",
      "  - \"No experience required,\" \"Recent graduates encouraged to apply\"  \n",
      "\n",
      "- **Intermediate/Mid-Level:**  \n",
      "  - \"[Role] II,\" \"Mid-Level [Role],\" \"Experienced [Role]\"  \n",
      "  - \"3–5 years of experience,\" \"Proven track record in...\"  \n",
      "\n",
      "- **Senior/Lead:**  \n",
      "  - \"Senior [Role],\" \"Lead [Role],\" \"Principal [Role]\"  \n",
      "  - \"5+ years of experience,\" \"Subject matter expert,\" \"Mentoring junior staff\"  \n",
      "\n",
      "- **Managerial/Executive:**  \n",
      "  - \"Manager,\" \"Director,\" \"Head of [Dept],\" \"Chief [X Officer]\"  \n",
      "  - \"10+ years of experience,\" \"Strategic leadership,\" \"P&L responsibility\"  \n",
      "\n",
      "---\n",
      "\n",
      "### **2. Experience Requirements**  \n",
      "- **Entry-Level:**  \n",
      "  - \"0–2 years of experience,\" \"Fresh graduates welcome\"  \n",
      "  - \"Training provided,\" \"No prior experience necessary\"  \n",
      "\n",
      "- **Mid-Level:**  \n",
      "  - \"3–5 years in [field],\" \"Minimum [X] years of relevant experience\"  \n",
      "\n",
      "- **Senior/Leadership:**  \n",
      "  - \"7+ years of experience,\" \"Extensive background in...\"  \n",
      "  - \"Proven leadership in [area],\" \"Managed teams of [size]\"  \n",
      "\n",
      "---\n",
      "\n",
      "### **3. Responsibility Clues**  \n",
      "- **Junior Roles:**  \n",
      "  - \"Support [senior team members],\" \"Assist with...\"  \n",
      "  - \"Follow established processes,\" \"Learning and development focus\"  \n",
      "\n",
      "- **Senior Roles:**  \n",
      "  - \"Own [process/project],\" \"Define strategy for...\"  \n",
      "  - \"Mentor junior staff,\" \"Report to C-suite\"  \n",
      "\n",
      "- **Executive Roles:**  \n",
      "  - \"Set company-wide vision,\" \"Board-level decision-making\"  \n",
      "  - \"Oversee [multiple teams/departments],\" \"P&L accountability\"  \n",
      "\n",
      "---\n",
      "\n",
      "### **4. Reporting Structure**  \n",
      "- \"Reports to [Junior Role]\" → Likely **entry-level**  \n",
      "- \"Reports to [Senior Manager/Director]\" → Likely **mid-level**  \n",
      "- \"Direct reports: [X] team members\" → **Lead/Managerial**  \n",
      "- \"Reports to CEO/Board\" → **Executive**  \n",
      "\n",
      "---\n",
      "\n",
      "### **5. Industry-Specific Patterns**  \n",
      "- **Tech:** \"Junior Dev\" (entry) vs. \"Staff Engineer\" (senior)  \n",
      "- **Law/Consulting:** \"Associate\" (entry) vs. \"Partner\" (executive)  \n",
      "- **Healthcare:** \"Resident\" (junior) vs. \"Attending Physician\" (senior)  \n",
      "\n",
      "---\n",
      "\n",
      "### **6. Salary/Benefits Hints**  \n",
      "- Entry-level: \"Competitive salary\" (no range)  \n",
      "- Senior: \"Salary commensurate with experience\" + equity/bonus mentions  \n",
      "\n",
      "---\n",
      "\n",
      "### **Red Flags for Ambiguity**  \n",
      "- Vague titles like \"Team Member\" or \"Contributor\" (need context)  \n",
      "- \"All experience levels considered\" → May require manual inference  \n",
      "\n",
      "Would you like me to test these patterns on a real job description?\n",
      "\n",
      "Fewshot examples added\n",
      "\n"
     ]
    }
   ],
   "source": [
    "messages_static = RBIC_static_messages(verbose=True, add_fewshot=True)"
   ]
  },
  {
   "cell_type": "code",
   "execution_count": 14,
   "metadata": {
    "colab": {
     "base_uri": "https://localhost:8080/"
    },
    "id": "63XWt1d3e1DH",
    "outputId": "d674d9a7-a086-4c5b-8ebb-de28ffd0ebb2",
    "tags": []
   },
   "outputs": [
    {
     "name": "stdout",
     "output_type": "stream",
     "text": [
      "len of messages_static 15\n",
      "IC step 1: yes\n",
      "\n",
      "IC step 2: ```json\n",
      "{\n",
      "  \"Clue\": \"This position leads and supports a team of staff\",\n",
      "  \"Clue\": \"Leading a team to ensure development of local area plans\",\n",
      "  \"Clue\": \"Creating and maintaining a culture consistent with the organisation’s values\",\n",
      "  \"Clue\": \"Leading and ensuring the development of any policies, standards, procedures and strategic documents\",\n",
      "  \"Clue\": \"Demonstrable experience and an excellent reputation in the leadership and management of people within a comparable organisation\"\n",
      "}\n",
      "```\n",
      "\n",
      "IC step 3 (Final): manager\n",
      "\n",
      "IC step 3 (Final Raw): ```json\n",
      "{\n",
      "  \"seniority_label\": \"manager\"\n",
      "}\n",
      "```\n",
      "\n",
      "pred = manager\n",
      "truth = senior\n"
     ]
    }
   ],
   "source": [
    "ind = 28\n",
    "\n",
    "#[2081,1,5,12,3]\n",
    "\n",
    "desc = {\n",
    "    \"job_title\": train_df.iloc[ind].job_title,\n",
    "    \"job_summary\": train_df.iloc[ind].job_summary,\n",
    "    \"job_ad_details\": train_df.iloc[ind].job_ad_details,\n",
    "    \"classification_name\": train_df.iloc[ind].classification_name,\n",
    "    \"subclassification_name\": train_df.iloc[ind].subclassification_name,\n",
    "  }\n",
    "desc_str = str(desc)\n",
    "\n",
    "label = train_df.iloc[ind].y_true\n",
    "label_str = str(label)\n",
    "\n",
    "print(f\"len of messages_static {len(messages_static)}\")\n",
    "label_pred = RBIC(messages_static, desc_str, verbose=True)\n",
    "\n",
    "\n",
    "print(f\"pred = {label_pred}\")\n",
    "print(f\"truth = {label_str}\")"
   ]
  },
  {
   "cell_type": "markdown",
   "metadata": {
    "id": "U2QyVlqCw5i0"
   },
   "source": [
    "### Quantitative Tests"
   ]
  },
  {
   "cell_type": "code",
   "execution_count": 15,
   "metadata": {
    "id": "E4gl8vRKBms8",
    "tags": []
   },
   "outputs": [],
   "source": [
    "# df to store model predictions\n",
    "test_pred_df = pd.DataFrame(columns=[\"y_pred\"])"
   ]
  },
  {
   "cell_type": "code",
   "execution_count": 16,
   "metadata": {
    "colab": {
     "base_uri": "https://localhost:8080/",
     "height": 89
    },
    "id": "U3qCaPABxoiR",
    "outputId": "b86ae745-e7c5-4fab-e332-18576a8c2689",
    "tags": []
   },
   "outputs": [
    {
     "data": {
      "text/html": [
       "<div>\n",
       "<style scoped>\n",
       "    .dataframe tbody tr th:only-of-type {\n",
       "        vertical-align: middle;\n",
       "    }\n",
       "\n",
       "    .dataframe tbody tr th {\n",
       "        vertical-align: top;\n",
       "    }\n",
       "\n",
       "    .dataframe thead th {\n",
       "        text-align: right;\n",
       "    }\n",
       "</style>\n",
       "<table border=\"1\" class=\"dataframe\">\n",
       "  <thead>\n",
       "    <tr style=\"text-align: right;\">\n",
       "      <th></th>\n",
       "      <th>y_pred</th>\n",
       "    </tr>\n",
       "  </thead>\n",
       "  <tbody>\n",
       "  </tbody>\n",
       "</table>\n",
       "</div>"
      ],
      "text/plain": [
       "Empty DataFrame\n",
       "Columns: [y_pred]\n",
       "Index: []"
      ]
     },
     "execution_count": 16,
     "metadata": {},
     "output_type": "execute_result"
    }
   ],
   "source": [
    "test_pred_df"
   ]
  },
  {
   "cell_type": "code",
   "execution_count": 17,
   "metadata": {
    "colab": {
     "base_uri": "https://localhost:8080/"
    },
    "id": "4wjKCfK0BI8Q",
    "outputId": "1d342f04-0ce2-4259-b887-909fcc3efa05",
    "tags": []
   },
   "outputs": [
    {
     "name": "stderr",
     "output_type": "stream",
     "text": [
      "100%|███████████████████████████████████████| 689/689 [2:57:37<00:00, 15.47s/it]\n"
     ]
    }
   ],
   "source": [
    "for i in tqdm(range(len(test_df))):\n",
    "    desc = {\n",
    "        \"job_title\": test_df.iloc[i].job_title,\n",
    "        \"job_summary\": test_df.iloc[i].job_summary,\n",
    "        \"job_ad_details\": test_df.iloc[i].job_ad_details,\n",
    "        \"classification_name\": test_df.iloc[i].classification_name,\n",
    "        \"subclassification_name\": test_df.iloc[i].subclassification_name,\n",
    "    }\n",
    "    desc_str = str(desc)\n",
    "\n",
    "    label = test_df.iloc[i].y_true\n",
    "    label_str = str(label)\n",
    "\n",
    "    label_pred = RBIC(messages_static, desc_str)\n",
    "\n",
    "    test_pred_df.loc[len(test_pred_df)] = label_pred\n",
    "\n",
    "# export the dataframe to a new csv file\n",
    "test_pred_df.to_csv('seniority_labelled_test_set_deepseek_rbic_fewshot_preds.csv', index=False)"
   ]
  },
  {
   "cell_type": "markdown",
   "metadata": {},
   "source": [
    "# No few-shot"
   ]
  },
  {
   "cell_type": "code",
   "execution_count": 18,
   "metadata": {
    "id": "fb-hnHhHdhPW",
    "scrolled": false,
    "tags": []
   },
   "outputs": [
    {
     "name": "stdout",
     "output_type": "stream",
     "text": [
      "RB step 1: Certainly! **Seniority** in job descriptions refers to the level of experience, responsibility, and authority associated with a role. It helps candidates understand whether a position is suitable for their career stage (e.g., a recent graduate vs. a seasoned professional).  \n",
      "\n",
      "### **Common Seniority Labels (Hierarchy Approximate):**  \n",
      "1. **Entry-Level / Junior / Graduate / Trainee / Apprentice** – Little to no prior experience required; training provided.  \n",
      "2. **Intermediate / Associate / Mid-Level** – Some experience (2–5 years), moderate autonomy.  \n",
      "3. **Senior / Experienced / Specialist** – Significant expertise (5+ years), leadership in tasks.  \n",
      "4. **Lead / Supervisor / Assistant Manager** – Oversees small teams or projects.  \n",
      "5. **Manager / Head / Director / Principal** – Strategic leadership, department-level decisions.  \n",
      "6. **Executive / Chief (C-level) / Board / Owner** – Top-tier leadership (CEO, CFO, etc.).  \n",
      "\n",
      "### **Variations & Nuances:**  \n",
      "- **\"Senior/Lead\"** – Hybrid roles with leadership duties.  \n",
      "- **\"Mid-Senior\"** – Between intermediate and senior.  \n",
      "- **\"Deputy / Assistant Director\"** – Second-in-command roles.  \n",
      "- **\"Entry-Level to Intermediate\"** – Growth expected within the role.  \n",
      "\n",
      "Would you like me to analyze a specific job description for its seniority?\n",
      "\n",
      "RB step 2: Great question! When predicting seniority labels from job descriptions, certain **phrases, keywords, and structural patterns** act as strong indicators. Here’s a breakdown of common signals for each seniority level:\n",
      "\n",
      "---\n",
      "\n",
      "### **1. Entry-Level / Junior / Trainee / Graduate**  \n",
      "**Key Phrases:**  \n",
      "- \"No prior experience required\"  \n",
      "- \"Recent graduates welcome\"  \n",
      "- \"Training provided\" / \"Will train the right candidate\"  \n",
      "- \"Ideal for someone starting their career\"  \n",
      "- \"Junior [role]\" / \"Associate [role]\"  \n",
      "- \"0–2 years of experience\"  \n",
      "- \"Internship\" / \"Apprenticeship\"  \n",
      "\n",
      "**Example Sentence:**  \n",
      "*\"This role is perfect for a recent graduate looking to gain hands-on experience in [field].\"*\n",
      "\n",
      "---\n",
      "\n",
      "### **2. Intermediate / Mid-Level / Associate**  \n",
      "**Key Phrases:**  \n",
      "- \"2–5 years of experience\"  \n",
      "- \"Proven track record in [skill]\"  \n",
      "- \"Ability to work independently\"  \n",
      "- \"Mid-level\" / \"Experienced [role]\"  \n",
      "- \"Collaborate with senior teams\"  \n",
      "\n",
      "**Example Sentence:**  \n",
      "*\"The ideal candidate has 3+ years of experience managing projects and can lead small initiatives.\"*\n",
      "\n",
      "---\n",
      "\n",
      "### **3. Senior / Specialist / Experienced**  \n",
      "**Key Phrases:**  \n",
      "- \"5+ years of experience\"  \n",
      "- \"Deep expertise in [area]\"  \n",
      "- \"Mentor junior staff\"  \n",
      "- \"Senior [role]\" / \"Subject Matter Expert (SME)\"  \n",
      "- \"Strategic decision-making\"  \n",
      "- \"Lead [process/team]\" (without formal managerial title)  \n",
      "\n",
      "**Example Sentence:**  \n",
      "*\"We seek a Senior Developer with 7+ years of experience architecting scalable systems.\"*\n",
      "\n",
      "---\n",
      "\n",
      "### **4. Lead / Supervisor / Assistant Manager**  \n",
      "**Key Phrases:**  \n",
      "- \"Team lead\" / \"Project lead\"  \n",
      "- \"Supervise [X] team members\"  \n",
      "- \"Assistant [Manager/Director]\"  \n",
      "- \"Delegate tasks\"  \n",
      "- \"Bridge between staff and management\"  \n",
      "\n",
      "**Example Sentence:**  \n",
      "*\"The Marketing Lead will oversee a team of 5 and report to the Director.\"*\n",
      "\n",
      "---\n",
      "\n",
      "### **5. Manager / Head / Director**  \n",
      "**Key Phrases:**  \n",
      "- \"Manager of [department]\"  \n",
      "- \"Head of [function]\"  \n",
      "- \"Director-level\"  \n",
      "- \"P&L responsibility\"  \n",
      "- \"Set departmental strategy\"  \n",
      "- \"10+ years of experience\"  \n",
      "\n",
      "**Example Sentence:**  \n",
      "*\"The Head of Sales will define go-to-market strategies and manage a $5M budget.\"*\n",
      "\n",
      "---\n",
      "\n",
      "### **6. Executive / C-Level / Chief / Board**  \n",
      "**Key Phrases:**  \n",
      "- \"C-Suite\" / \"Chief [Officer]\" (CEO, CFO, etc.)  \n",
      "- \"Board member\" / \"Executive leadership\"  \n",
      "- \"Report directly to the CEO\"  \n",
      "- \"Shape company-wide vision\"  \n",
      "- \"15+ years in leadership roles\"  \n",
      "\n",
      "**Example Sentence:**  \n",
      "*\"The Chief Technology Officer will drive innovation across all product lines.\"*\n",
      "\n",
      "---\n",
      "\n",
      "### **Ambiguous or Hybrid Cases**  \n",
      "- **\"Senior/Lead\"**: Combines expertise + leadership (e.g., *\"Senior/Lead Engineer\"*).  \n",
      "- **\"Mid-Senior\"**: Targets candidates between intermediate and senior (e.g., *\"Mid-Senior UX Designer\"*).  \n",
      "- **\"Entry-Level to Intermediate\"**: Implies growth within the role.  \n",
      "\n",
      "---\n",
      "\n",
      "### **Other Clues**  \n",
      "- **Experience Requirements**: Years mentioned (e.g., \"8+ years\" = likely senior).  \n",
      "- **Reporting Structure**: \"Reports to [senior title]\" hints at hierarchy.  \n",
      "- **Scope of Responsibility**: Words like \"strategic,\" \"oversee,\" or \"mentor\" signal seniority.  \n",
      "\n",
      "Would you like me to test this on a real job description?\n",
      "\n"
     ]
    }
   ],
   "source": [
    "messages_static = RBIC_static_messages(verbose=True, add_fewshot=False)"
   ]
  },
  {
   "cell_type": "code",
   "execution_count": 19,
   "metadata": {},
   "outputs": [
    {
     "data": {
      "text/html": [
       "<div>\n",
       "<style scoped>\n",
       "    .dataframe tbody tr th:only-of-type {\n",
       "        vertical-align: middle;\n",
       "    }\n",
       "\n",
       "    .dataframe tbody tr th {\n",
       "        vertical-align: top;\n",
       "    }\n",
       "\n",
       "    .dataframe thead th {\n",
       "        text-align: right;\n",
       "    }\n",
       "</style>\n",
       "<table border=\"1\" class=\"dataframe\">\n",
       "  <thead>\n",
       "    <tr style=\"text-align: right;\">\n",
       "      <th></th>\n",
       "      <th>y_pred</th>\n",
       "    </tr>\n",
       "  </thead>\n",
       "  <tbody>\n",
       "  </tbody>\n",
       "</table>\n",
       "</div>"
      ],
      "text/plain": [
       "Empty DataFrame\n",
       "Columns: [y_pred]\n",
       "Index: []"
      ]
     },
     "execution_count": 19,
     "metadata": {},
     "output_type": "execute_result"
    }
   ],
   "source": [
    "# df to store model predictions\n",
    "test_pred_df = pd.DataFrame(columns=[\"y_pred\"])\n",
    "test_pred_df"
   ]
  },
  {
   "cell_type": "code",
   "execution_count": 20,
   "metadata": {
    "tags": []
   },
   "outputs": [
    {
     "name": "stderr",
     "output_type": "stream",
     "text": [
      "100%|███████████████████████████████████████| 689/689 [3:17:54<00:00, 17.23s/it]\n"
     ]
    }
   ],
   "source": [
    "for i in tqdm(range(len(test_df))):\n",
    "    desc = {\n",
    "        \"job_title\": test_df.iloc[i].job_title,\n",
    "        \"job_summary\": test_df.iloc[i].job_summary,\n",
    "        \"job_ad_details\": test_df.iloc[i].job_ad_details,\n",
    "        \"classification_name\": test_df.iloc[i].classification_name,\n",
    "        \"subclassification_name\": test_df.iloc[i].subclassification_name,\n",
    "    }\n",
    "    desc_str = str(desc)\n",
    "\n",
    "    label = test_df.iloc[i].y_true\n",
    "    label_str = str(label)\n",
    "\n",
    "    label_pred = RBIC(messages_static, desc_str)\n",
    "\n",
    "    test_pred_df.loc[len(test_pred_df)] = label_pred\n",
    "    \n",
    "test_pred_df.to_csv('seniority_labelled_test_set_deepseek_rbic_preds.csv', index=False)"
   ]
  },
  {
   "cell_type": "markdown",
   "metadata": {},
   "source": [
    "# Regular prompting"
   ]
  },
  {
   "cell_type": "code",
   "execution_count": 21,
   "metadata": {
    "tags": []
   },
   "outputs": [],
   "source": [
    "# df to store model predictions\n",
    "test_pred_df = pd.DataFrame(columns=[\"y_pred\"])"
   ]
  },
  {
   "cell_type": "code",
   "execution_count": 22,
   "metadata": {
    "tags": []
   },
   "outputs": [],
   "source": [
    "messages_static = [\n",
    "    {\"role\": \"system\", \"content\": \"You are an expert job ad annotator. Your task is to infer the seniority information from job descriptions. The seniority label may be present in the set: [intermediate, senior, lead, head, experienced, entry-level, executive, assistant, senior/lead, deputy, director, trainee, associate, graduate, junior, general-manager, coordinator, student, chief, principal, apprentice, qualified, entry-level to intermediate, senior associate, standard, senior assistant, specialist, mid-level, entry level assistant, experienced assistant, manager, graduate/junior, independent, 1st year apprentice, senior-executive, junior assistant, assistant manager, supervisor, second-in-command, associate director, board, 4th year apprentice, mid-senior, regional head, middle-management, advanced, 2nd year apprentice, intermediate apprentice, level 2, assistant head, owner, post-doctoral, owner-operator, middle management, senior head, assistant director, junior-intermediate, sous, intermediate to senior, senior executive] . If not present in the set, then create a label.\"},\n",
    "]"
   ]
  },
  {
   "cell_type": "code",
   "execution_count": 23,
   "metadata": {
    "tags": []
   },
   "outputs": [
    {
     "name": "stderr",
     "output_type": "stream",
     "text": [
      "100%|█████████████████████████████████████████| 689/689 [57:45<00:00,  5.03s/it]\n"
     ]
    }
   ],
   "source": [
    "for i in tqdm(range(len(test_df))):\n",
    "    desc = {\n",
    "      \"job_title\": test_df.iloc[i].job_title,\n",
    "      \"job_summary\": test_df.iloc[i].job_summary,\n",
    "      \"job_ad_details\": test_df.iloc[i].job_ad_details,\n",
    "      \"classification_name\": test_df.iloc[i].classification_name,\n",
    "      \"subclassification_name\": test_df.iloc[i].subclassification_name\n",
    "    }\n",
    "    desc_str = str(desc)\n",
    "\n",
    "    messages = copy.deepcopy(messages_static)\n",
    "    messages.append({\n",
    "        \"role\": \"user\",\n",
    "        \"content\": (\n",
    "            f\"{desc_str} Extract seniority label from this job description. The seniority label may be present in the set: [intermediate, senior, lead, head, experienced, entry-level, executive, assistant, senior/lead, deputy, director, trainee, associate, graduate, junior, general-manager, coordinator, student, chief, principal, apprentice, qualified, entry-level to intermediate, senior associate, standard, senior assistant, specialist, mid-level, entry level assistant, experienced assistant, manager, graduate/junior, independent, 1st year apprentice, senior-executive, junior assistant, assistant manager, supervisor, second-in-command, associate director, board, 4th year apprentice, mid-senior, regional head, middle-management, advanced, 2nd year apprentice, intermediate apprentice, level 2, assistant head, owner, post-doctoral, owner-operator, middle management, senior head, assistant director, junior-intermediate, sous, intermediate to senior, senior executive] . If not present in the set, then create a label. \"\n",
    "            \"Respond in JSON: {\\\"seniority_label\\\": \\\"\\\"}.\"\n",
    "        )\n",
    "    })\n",
    "    \n",
    "    response = client.chat.completions.create(\n",
    "        model=model,\n",
    "        messages=messages\n",
    "    )\n",
    "    answer_str = response.choices[0].message.content\n",
    "\n",
    "    # format and print the output\n",
    "    try:\n",
    "        answer_str_ = answer_str[answer_str.find('{'):answer_str.find('}') + 1]\n",
    "        answer_str_ = answer_str_.replace('“', '\"')\n",
    "        answer_str_ = answer_str_.replace('”', '\"')\n",
    "        answer = json.loads(answer_str_)\n",
    "        \n",
    "        label = answer['seniority_label']\n",
    "    except ...:\n",
    "        print(f\"Failed to parse model output: {answer_str}\")\n",
    "        label = \"ERROR \" + answer_str\n",
    "\n",
    "    if type(label) == list:\n",
    "        label = '/'.join(label)\n",
    "    test_pred_df.loc[len(test_pred_df)] = label\n",
    "\n",
    "# export the dataframe to a new csv file\n",
    "test_pred_df.to_csv('seniority_labelled_test_set_deepseek_preds.csv', index=False)"
   ]
  },
  {
   "cell_type": "markdown",
   "metadata": {},
   "source": [
    "# Metrics"
   ]
  },
  {
   "cell_type": "code",
   "execution_count": 1,
   "metadata": {},
   "outputs": [],
   "source": [
    "import json\n",
    "import string\n",
    "import pandas as pd\n",
    "import numpy as np\n",
    "import ast"
   ]
  },
  {
   "cell_type": "code",
   "execution_count": 2,
   "metadata": {},
   "outputs": [],
   "source": [
    "def categories(label):\n",
    "    lab = str(label).lower()\n",
    "    if 'entry' in lab:\n",
    "        return 'Entry'\n",
    "    elif 'junior' in lab or 'assistant' in lab:\n",
    "        return 'Junior'\n",
    "    elif 'intermediate' in lab or 'experienced' in lab or 'mid' in lab:\n",
    "        return 'Mid'\n",
    "    elif 'senior' in lab or 'lead' in lab:\n",
    "        return 'Senior'\n",
    "    elif any(x in lab for x in ['manager','director','chief','head','executive','principal']):\n",
    "        return 'Leadership'\n",
    "    else:\n",
    "        return 'Other'\n",
    "    \n",
    "def process(row):\n",
    "    if \"error\" not in row:\n",
    "        row = row.strip().lower()\n",
    "        if '[' in row and ']' in row:\n",
    "            row = ast.literal_eval(row[row.find('['):row.find(']')+1])\n",
    "            row = '/'.join(row)\n",
    "        return row\n",
    "    else:\n",
    "        row = row.strip().lower()\n",
    "        try:\n",
    "            row = row[row.find('{'):row.find('}')+1]\n",
    "            row_data = json.loads(row)\n",
    "        except Exception:\n",
    "            row = row[len('error'):]\n",
    "            row = row.translate(str.maketrans('', '', string.punctuation))\n",
    "            row = row.strip()\n",
    "            if len(row.split(' ')) == 1:\n",
    "                return row\n",
    "            return row\n",
    "        row_data = row_data['clue'] #if 'clue' in row_data else \n",
    "        if row_data == 'yes':\n",
    "            return \"\"\n",
    "        return row_data\n",
    "\n",
    "def get_accuracy(path_to_preds):\n",
    "    preds = pd.read_csv(path_to_preds)\n",
    "    test_df = pd.read_csv('data/seniority_labelled_test_set_cleaned.csv')\n",
    "    \n",
    "    test_df['y_pred'] = preds.values.reshape(-1)\n",
    "    test_df = test_df.fillna('')\n",
    "    \n",
    "    test_df['y_pred'] = test_df['y_pred'].map(process)\n",
    "    test_df['y_true'] = test_df['y_true'].map(process)\n",
    "    \n",
    "    test_df['y_pred_cat'] = test_df['y_pred'].map(categories)\n",
    "    test_df['y_true_cat'] = test_df['y_true'].map(categories)\n",
    "    \n",
    "    exact = (test_df['y_pred'] == test_df['y_true']).mean() * 100\n",
    "    cat = ((test_df['y_pred'] != test_df['y_true']) & (test_df['y_pred_cat'] == test_df['y_true_cat'])).mean() * 100\n",
    "    overall = ((test_df['y_pred'] == test_df['y_true']) | (test_df['y_pred_cat'] == test_df['y_true_cat'])).mean() * 100\n",
    "    \n",
    "    exact_count = (test_df['y_pred'] == test_df['y_true']).sum()\n",
    "    cat_count = ((test_df['y_pred'] != test_df['y_true']) & (test_df['y_pred_cat'] == test_df['y_true_cat'])).sum()\n",
    "    overall_count = ((test_df['y_pred'] == test_df['y_true']) | (test_df['y_pred_cat'] == test_df['y_true_cat'])).sum()\n",
    "    \n",
    "    print(f'Exact: {exact_count}/{test_df.shape[0]}')\n",
    "    print(f'Similar: {cat_count}/{test_df.shape[0]}')\n",
    "    print(f'Overall: {overall_count}/{test_df.shape[0]}')\n",
    "    \n",
    "    res = pd.DataFrame(\n",
    "        {\n",
    "            'Exact': round(exact, 2),\n",
    "            'Similar': round(cat, 2),\n",
    "            'Overall': round(overall, 2),\n",
    "        },\n",
    "        index=['Accuracy (%)']\n",
    "    )\n",
    "    \n",
    "    return res"
   ]
  },
  {
   "cell_type": "code",
   "execution_count": 3,
   "metadata": {},
   "outputs": [
    {
     "name": "stdout",
     "output_type": "stream",
     "text": [
      "Exact: 339/689\n",
      "Similar: 76/689\n",
      "Overall: 415/689\n"
     ]
    },
    {
     "data": {
      "text/html": [
       "<div>\n",
       "<style scoped>\n",
       "    .dataframe tbody tr th:only-of-type {\n",
       "        vertical-align: middle;\n",
       "    }\n",
       "\n",
       "    .dataframe tbody tr th {\n",
       "        vertical-align: top;\n",
       "    }\n",
       "\n",
       "    .dataframe thead th {\n",
       "        text-align: right;\n",
       "    }\n",
       "</style>\n",
       "<table border=\"1\" class=\"dataframe\">\n",
       "  <thead>\n",
       "    <tr style=\"text-align: right;\">\n",
       "      <th></th>\n",
       "      <th>Exact</th>\n",
       "      <th>Similar</th>\n",
       "      <th>Overall</th>\n",
       "    </tr>\n",
       "  </thead>\n",
       "  <tbody>\n",
       "    <tr>\n",
       "      <th>Accuracy (%)</th>\n",
       "      <td>49.2</td>\n",
       "      <td>11.03</td>\n",
       "      <td>60.23</td>\n",
       "    </tr>\n",
       "  </tbody>\n",
       "</table>\n",
       "</div>"
      ],
      "text/plain": [
       "              Exact  Similar  Overall\n",
       "Accuracy (%)   49.2    11.03    60.23"
      ]
     },
     "execution_count": 3,
     "metadata": {},
     "output_type": "execute_result"
    }
   ],
   "source": [
    "path_to_preds = 'seniority_labelled_test_set_deepseek_rbic_fewshot_preds.csv'\n",
    "get_accuracy(path_to_preds)"
   ]
  },
  {
   "cell_type": "code",
   "execution_count": 4,
   "metadata": {},
   "outputs": [
    {
     "name": "stdout",
     "output_type": "stream",
     "text": [
      "Exact: 360/689\n",
      "Similar: 99/689\n",
      "Overall: 459/689\n"
     ]
    },
    {
     "data": {
      "text/html": [
       "<div>\n",
       "<style scoped>\n",
       "    .dataframe tbody tr th:only-of-type {\n",
       "        vertical-align: middle;\n",
       "    }\n",
       "\n",
       "    .dataframe tbody tr th {\n",
       "        vertical-align: top;\n",
       "    }\n",
       "\n",
       "    .dataframe thead th {\n",
       "        text-align: right;\n",
       "    }\n",
       "</style>\n",
       "<table border=\"1\" class=\"dataframe\">\n",
       "  <thead>\n",
       "    <tr style=\"text-align: right;\">\n",
       "      <th></th>\n",
       "      <th>Exact</th>\n",
       "      <th>Similar</th>\n",
       "      <th>Overall</th>\n",
       "    </tr>\n",
       "  </thead>\n",
       "  <tbody>\n",
       "    <tr>\n",
       "      <th>Accuracy (%)</th>\n",
       "      <td>52.25</td>\n",
       "      <td>14.37</td>\n",
       "      <td>66.62</td>\n",
       "    </tr>\n",
       "  </tbody>\n",
       "</table>\n",
       "</div>"
      ],
      "text/plain": [
       "              Exact  Similar  Overall\n",
       "Accuracy (%)  52.25    14.37    66.62"
      ]
     },
     "execution_count": 4,
     "metadata": {},
     "output_type": "execute_result"
    }
   ],
   "source": [
    "path_to_preds = 'seniority_labelled_test_set_deepseek_rbic_preds.csv'\n",
    "get_accuracy(path_to_preds)"
   ]
  },
  {
   "cell_type": "code",
   "execution_count": 5,
   "metadata": {},
   "outputs": [
    {
     "name": "stdout",
     "output_type": "stream",
     "text": [
      "Exact: 381/689\n",
      "Similar: 81/689\n",
      "Overall: 462/689\n"
     ]
    },
    {
     "data": {
      "text/html": [
       "<div>\n",
       "<style scoped>\n",
       "    .dataframe tbody tr th:only-of-type {\n",
       "        vertical-align: middle;\n",
       "    }\n",
       "\n",
       "    .dataframe tbody tr th {\n",
       "        vertical-align: top;\n",
       "    }\n",
       "\n",
       "    .dataframe thead th {\n",
       "        text-align: right;\n",
       "    }\n",
       "</style>\n",
       "<table border=\"1\" class=\"dataframe\">\n",
       "  <thead>\n",
       "    <tr style=\"text-align: right;\">\n",
       "      <th></th>\n",
       "      <th>Exact</th>\n",
       "      <th>Similar</th>\n",
       "      <th>Overall</th>\n",
       "    </tr>\n",
       "  </thead>\n",
       "  <tbody>\n",
       "    <tr>\n",
       "      <th>Accuracy (%)</th>\n",
       "      <td>55.3</td>\n",
       "      <td>11.76</td>\n",
       "      <td>67.05</td>\n",
       "    </tr>\n",
       "  </tbody>\n",
       "</table>\n",
       "</div>"
      ],
      "text/plain": [
       "              Exact  Similar  Overall\n",
       "Accuracy (%)   55.3    11.76    67.05"
      ]
     },
     "execution_count": 5,
     "metadata": {},
     "output_type": "execute_result"
    }
   ],
   "source": [
    "path_to_preds = 'seniority_labelled_test_set_deepseek_preds.csv'\n",
    "get_accuracy(path_to_preds)"
   ]
  }
 ],
 "metadata": {
  "accelerator": "GPU",
  "colab": {
   "gpuType": "T4",
   "provenance": []
  },
  "kernelspec": {
   "display_name": "Python 3 (ipykernel)",
   "language": "python",
   "name": "python3"
  },
  "language_info": {
   "codemirror_mode": {
    "name": "ipython",
    "version": 3
   },
   "file_extension": ".py",
   "mimetype": "text/x-python",
   "name": "python",
   "nbconvert_exporter": "python",
   "pygments_lexer": "ipython3",
   "version": "3.9.21"
  }
 },
 "nbformat": 4,
 "nbformat_minor": 4
}
