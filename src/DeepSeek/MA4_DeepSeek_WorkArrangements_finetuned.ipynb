{
 "cells": [
  {
   "cell_type": "code",
   "execution_count": null,
   "id": "b4dcde1a-864a-4a9c-8e29-27740eeaf2b6",
   "metadata": {
    "scrolled": true,
    "tags": []
   },
   "outputs": [],
   "source": [
    "! pip install --upgrade transformers==4.50.1 trl\n",
    "! pip install 'accelerate>=0.26.0'"
   ]
  },
  {
   "cell_type": "code",
   "execution_count": null,
   "id": "6badcf05-0f5c-4cea-89d8-989666366c6f",
   "metadata": {
    "tags": []
   },
   "outputs": [],
   "source": [
    "import copy\n",
    "import json\n",
    "import os\n",
    "import pathlib\n",
    "import warnings\n",
    "\n",
    "from datasets import Dataset, load_dataset\n",
    "import pandas as pd\n",
    "from peft import LoraConfig, get_peft_model\n",
    "import torch\n",
    "from transformers import AutoModelForCausalLM, AutoTokenizer\n",
    "from trl import SFTConfig, SFTTrainer\n",
    "from tqdm import tqdm\n",
    "from typing import Optional, Callable\n",
    "import wandb\n",
    "\n",
    "from sklearn.metrics import precision_recall_fscore_support\n",
    "from sklearn.metrics import accuracy_score\n",
    "from sklearn.metrics import classification_report"
   ]
  },
  {
   "cell_type": "markdown",
   "id": "69d73256-6a6e-4ac4-ba3e-612f97f17347",
   "metadata": {
    "tags": []
   },
   "source": [
    "# Create Dataset"
   ]
  },
  {
   "cell_type": "code",
   "execution_count": 7,
   "id": "96a992fa-3c17-4f1d-ba26-077810bfb19a",
   "metadata": {
    "tags": []
   },
   "outputs": [],
   "source": [
    "data = pd.read_csv('data/work_arrangements_development_set.csv')"
   ]
  },
  {
   "cell_type": "code",
   "execution_count": 8,
   "id": "1a0e9ffa-058c-4b85-afa7-13278960f613",
   "metadata": {
    "tags": []
   },
   "outputs": [
    {
     "data": {
      "text/html": [
       "<div>\n",
       "<style scoped>\n",
       "    .dataframe tbody tr th:only-of-type {\n",
       "        vertical-align: middle;\n",
       "    }\n",
       "\n",
       "    .dataframe tbody tr th {\n",
       "        vertical-align: top;\n",
       "    }\n",
       "\n",
       "    .dataframe thead th {\n",
       "        text-align: right;\n",
       "    }\n",
       "</style>\n",
       "<table border=\"1\" class=\"dataframe\">\n",
       "  <thead>\n",
       "    <tr style=\"text-align: right;\">\n",
       "      <th></th>\n",
       "      <th>id</th>\n",
       "      <th>job_ad</th>\n",
       "      <th>y_true</th>\n",
       "    </tr>\n",
       "  </thead>\n",
       "  <tbody>\n",
       "    <tr>\n",
       "      <th>0</th>\n",
       "      <td>79484040</td>\n",
       "      <td>Job title: CEO\\nAbstract: Exciting opportunity...</td>\n",
       "      <td>Remote</td>\n",
       "    </tr>\n",
       "    <tr>\n",
       "      <th>1</th>\n",
       "      <td>80331384</td>\n",
       "      <td>Job title: Home-Based Online ESL Teacher (Onli...</td>\n",
       "      <td>Remote</td>\n",
       "    </tr>\n",
       "    <tr>\n",
       "      <th>2</th>\n",
       "      <td>79721069</td>\n",
       "      <td>Job title: Safeguarding, De La Salle\\nAbstract...</td>\n",
       "      <td>Hybrid</td>\n",
       "    </tr>\n",
       "    <tr>\n",
       "      <th>3</th>\n",
       "      <td>80190376</td>\n",
       "      <td>Job title: Delivery Driver\\nAbstract: Pickup t...</td>\n",
       "      <td>OnSite</td>\n",
       "    </tr>\n",
       "    <tr>\n",
       "      <th>4</th>\n",
       "      <td>80082230</td>\n",
       "      <td>Job title: Store Supervisor\\nAbstract: We are ...</td>\n",
       "      <td>OnSite</td>\n",
       "    </tr>\n",
       "    <tr>\n",
       "      <th>...</th>\n",
       "      <td>...</td>\n",
       "      <td>...</td>\n",
       "      <td>...</td>\n",
       "    </tr>\n",
       "    <tr>\n",
       "      <th>94</th>\n",
       "      <td>80151196</td>\n",
       "      <td>Job title: Senior Pipeline Technical Director\\...</td>\n",
       "      <td>Hybrid</td>\n",
       "    </tr>\n",
       "    <tr>\n",
       "      <th>95</th>\n",
       "      <td>79652545</td>\n",
       "      <td>Job title: Customer Support Administrator\\nAbs...</td>\n",
       "      <td>OnSite</td>\n",
       "    </tr>\n",
       "    <tr>\n",
       "      <th>96</th>\n",
       "      <td>79718230</td>\n",
       "      <td>Job title: Remote Writing Evaluator for AI (As...</td>\n",
       "      <td>Remote</td>\n",
       "    </tr>\n",
       "    <tr>\n",
       "      <th>97</th>\n",
       "      <td>80226188</td>\n",
       "      <td>Job title: People &amp; Culture Advisor\\nAbstract:...</td>\n",
       "      <td>Hybrid</td>\n",
       "    </tr>\n",
       "    <tr>\n",
       "      <th>98</th>\n",
       "      <td>80209702</td>\n",
       "      <td>Job title: Draftsperson\\nAbstract: Residential...</td>\n",
       "      <td>Hybrid</td>\n",
       "    </tr>\n",
       "  </tbody>\n",
       "</table>\n",
       "<p>99 rows × 3 columns</p>\n",
       "</div>"
      ],
      "text/plain": [
       "          id                                             job_ad  y_true\n",
       "0   79484040  Job title: CEO\\nAbstract: Exciting opportunity...  Remote\n",
       "1   80331384  Job title: Home-Based Online ESL Teacher (Onli...  Remote\n",
       "2   79721069  Job title: Safeguarding, De La Salle\\nAbstract...  Hybrid\n",
       "3   80190376  Job title: Delivery Driver\\nAbstract: Pickup t...  OnSite\n",
       "4   80082230  Job title: Store Supervisor\\nAbstract: We are ...  OnSite\n",
       "..       ...                                                ...     ...\n",
       "94  80151196  Job title: Senior Pipeline Technical Director\\...  Hybrid\n",
       "95  79652545  Job title: Customer Support Administrator\\nAbs...  OnSite\n",
       "96  79718230  Job title: Remote Writing Evaluator for AI (As...  Remote\n",
       "97  80226188  Job title: People & Culture Advisor\\nAbstract:...  Hybrid\n",
       "98  80209702  Job title: Draftsperson\\nAbstract: Residential...  Hybrid\n",
       "\n",
       "[99 rows x 3 columns]"
      ]
     },
     "execution_count": 8,
     "metadata": {},
     "output_type": "execute_result"
    }
   ],
   "source": [
    "data"
   ]
  },
  {
   "cell_type": "code",
   "execution_count": 17,
   "id": "7814cde4-8417-4dca-92ee-0c4ac32fbf05",
   "metadata": {
    "tags": []
   },
   "outputs": [],
   "source": [
    "for i in range(data.shape[0]):\n",
    "    desc = data.iloc[i].job_ad\n",
    "    \n",
    "    if desc.strip()[:10] != 'Job title:':\n",
    "        print(i)\n",
    "        print(desc)\n",
    "        print()"
   ]
  },
  {
   "cell_type": "code",
   "execution_count": 18,
   "id": "ee370fb2-7270-4333-a92f-04c4b87f3cc7",
   "metadata": {
    "tags": []
   },
   "outputs": [
    {
     "data": {
      "text/plain": [
       "'Job title: Draftsperson\\nAbstract: Residential Draftsperson to assist our Custom Design team.\\nEmployer: Tallwood Constructions Pty Ltd\\nLocation: busselton\\nHighlights: Flexibility, Variety, Friendly, efficient team\\nContents: Tallwood Custom Built Homes, the South West leading bespoke builders based in Busselton, require the services of a locally based draftsperson experienced in the Western Australian home building industry.\\n Our designer has an exciting pipeline of high-end homes and renovations and requires a draftsperson to assist deliver our client expectations. The position can be flexible in both time and working conditions.\\n Only West Australian applicants please to apply, with questions and applications to Jenna Miller @'"
      ]
     },
     "execution_count": 18,
     "metadata": {},
     "output_type": "execute_result"
    }
   ],
   "source": [
    "desc"
   ]
  },
  {
   "cell_type": "code",
   "execution_count": 23,
   "id": "e62e8dbf-9840-432e-9932-e150ece35d94",
   "metadata": {
    "tags": []
   },
   "outputs": [
    {
     "name": "stderr",
     "output_type": "stream",
     "text": [
      "100%|██████████| 99/99 [00:00<00:00, 5541.58it/s]\n"
     ]
    }
   ],
   "source": [
    "dataset = []\n",
    "\n",
    "for i in tqdm(range(data.shape[0])):\n",
    "    desc = data.iloc[i].job_ad\n",
    "    \n",
    "    label = f'{{\"work_arrangement\": \"{data.iloc[i].y_true}\"}}.'\n",
    "    \n",
    "    messages = []\n",
    "    messages.append(\n",
    "        {\n",
    "            'role': 'system',\n",
    "            'content': 'You are an expert job ad annotator. Your role is to determine the work arrangement of a job from its description. Classify the work arrangement into one of the following: \"Remote\", \"Hybrid\", or \"OnSite\".'\n",
    "        }\n",
    "    )\n",
    "    messages.append(\n",
    "        {\n",
    "            'role': 'user',\n",
    "            'content': (\n",
    "                f'{desc}. Extract work arrangement label from this job description. The label must be one of the following: \"Remote\", \"Hybrid\", or \"OnSite\". '\n",
    "                'Respond in JSON: {\"work_arrangement\": \"\"}.'\n",
    "            )\n",
    "        }\n",
    "    )\n",
    "    messages.append(\n",
    "        {\n",
    "            'role': 'assistant',\n",
    "            'content': label\n",
    "        }\n",
    "    )\n",
    "    \n",
    "    dataset.append({'messages': messages})"
   ]
  },
  {
   "cell_type": "code",
   "execution_count": 24,
   "id": "d1ce27dc-5dab-4c8f-baf6-77cf1d3d62ad",
   "metadata": {
    "tags": []
   },
   "outputs": [
    {
     "data": {
      "text/plain": [
       "{'messages': [{'role': 'system',\n",
       "   'content': 'You are an expert job ad annotator. Your role is to determine the work arrangement of a job from its description. Classify the work arrangement into one of the following: \"Remote\", \"Hybrid\", or \"OnSite\".'},\n",
       "  {'role': 'user',\n",
       "   'content': 'Job title: CEO\\nAbstract: Exciting opportunity to lead and progress our work in addressing the harmful impacts of gendered expectations in disaster. \\n\\n\\nEmployer: Marita Ryan Consulting\\nLocation: melbourne\\nHighlights: Dynamic role in a highly regarded national organisation, Lead change and organisational growth and sustainability, Fully remote working arrangements\\nContents: Full time â€“ 3 year contract (subject to Government funding)\\n Gender and Disaster Australia Ltd. (GADAus) is the leading national organisation offering evidence-based education, training and resources to address the harmful impacts of gendered expectations in disaster.\\n The GADAus Board is currently seeking a highly motivated CEO to lead our organisation. With a dedicated Board, committed team and proven track record for excellence, the organisation is well positioned to expand its core work across the nation. The CEO will provide strategic direction and collaborative, values driven leadership to implement our strategy and ensure achievement of GADAusâ€™s purpose, values and financial sustainability.\\n To be successful in this role you will have experience as a CEO or at Executive level with a strong record of advocacy, stakeholder engagement and influence within community or NFP settings.\\n You bring strong commercial and financial acumen to growth and development within the organisation and have a sound understanding of contemporary governance, along with experience working effectively with a Board.\\n As a leader you are values driven and outcomes focused with a positive â€˜can doâ€™ attitude and have a strong understanding of the role of advocacy in change making. You have exceptional interpersonal and communication skills and your natural approach is inclusive, respectful and professional. For further information on Gender and Disaster Australia please go to https://genderanddisaster.com.au/\\n To apply\\n Our intention is to understand at a high level how your personal values, knowledge and experience align with the key selection criteria (listed in the Position Description). Please complete a cover letter, (up to 3 pages) outlining this and send with your resume to Marita Ryan at Applications close 9am Monday 4th November 2024 Round 1 interviews will be held via Teams on Thursday 14th November 2024\\n For further information Marita Ryan. Extract work arrangement label from this job description. The label must be one of the following: \"Remote\", \"Hybrid\", or \"OnSite\". Respond in JSON: {\"work_arrangement\": \"\"}.'},\n",
       "  {'role': 'assistant', 'content': '{\"work_arrangement\": \"Remote\"}.'}]}"
      ]
     },
     "execution_count": 24,
     "metadata": {},
     "output_type": "execute_result"
    }
   ],
   "source": [
    "dataset[0]"
   ]
  },
  {
   "cell_type": "code",
   "execution_count": 25,
   "id": "2a2101ea-5419-4a3f-9c41-32598dcc6877",
   "metadata": {
    "tags": []
   },
   "outputs": [],
   "source": [
    "with open('work_arrangements_dataset.json', 'w') as f:\n",
    "    json.dump(dataset, f)"
   ]
  },
  {
   "cell_type": "markdown",
   "id": "4a991e91-0f99-4c4f-aed8-f161f3fff146",
   "metadata": {
    "jp-MarkdownHeadingCollapsed": true,
    "tags": []
   },
   "source": [
    "# Finetune DeepSeek"
   ]
  },
  {
   "cell_type": "code",
   "execution_count": 3,
   "id": "8769482c-77ba-4de2-a1f6-a9155e73c13f",
   "metadata": {
    "tags": []
   },
   "outputs": [],
   "source": [
    "dataset = load_dataset(\"json\", data_files=\"work_arrangements_dataset.json\")"
   ]
  },
  {
   "cell_type": "code",
   "execution_count": 4,
   "id": "8e0d66fb-882a-4178-9a1a-c284b0536bf7",
   "metadata": {
    "tags": []
   },
   "outputs": [
    {
     "data": {
      "text/plain": [
       "DatasetDict({\n",
       "    train: Dataset({\n",
       "        features: ['messages'],\n",
       "        num_rows: 99\n",
       "    })\n",
       "})"
      ]
     },
     "execution_count": 4,
     "metadata": {},
     "output_type": "execute_result"
    }
   ],
   "source": [
    "dataset"
   ]
  },
  {
   "cell_type": "code",
   "execution_count": 5,
   "id": "3877247a-57db-4094-8828-4d69e46bfd20",
   "metadata": {
    "tags": []
   },
   "outputs": [],
   "source": [
    "model_name = 'deepseek-ai/DeepSeek-R1-Distill-Qwen-1.5B'"
   ]
  },
  {
   "cell_type": "code",
   "execution_count": 6,
   "id": "b17494b3-29b6-44e2-be39-d90a5d952207",
   "metadata": {
    "tags": []
   },
   "outputs": [
    {
     "name": "stderr",
     "output_type": "stream",
     "text": [
      "Sliding Window Attention is enabled but not implemented for `sdpa`; unexpected results may be encountered.\n"
     ]
    }
   ],
   "source": [
    "# Load model and tokenizer.\n",
    "model = AutoModelForCausalLM.from_pretrained(model_name, device_map=\"auto\")\n",
    "tokenizer = AutoTokenizer.from_pretrained(\n",
    "   model_name, padding=True, truncation=True\n",
    ")"
   ]
  },
  {
   "cell_type": "code",
   "execution_count": 7,
   "id": "f839d538-847f-4fa5-90eb-18e1437a559b",
   "metadata": {
    "tags": []
   },
   "outputs": [
    {
     "name": "stderr",
     "output_type": "stream",
     "text": [
      "\u001b[34m\u001b[1mwandb\u001b[0m: Currently logged in as: \u001b[33mhuwarr\u001b[0m. Use \u001b[1m`wandb login --relogin`\u001b[0m to force relogin\n"
     ]
    },
    {
     "data": {
      "text/plain": [
       "True"
      ]
     },
     "execution_count": 7,
     "metadata": {},
     "output_type": "execute_result"
    }
   ],
   "source": [
    "wandb.login()"
   ]
  },
  {
   "cell_type": "code",
   "execution_count": null,
   "id": "7b8e63c6-b5e3-4e36-a372-2a0ce14b75fa",
   "metadata": {
    "tags": []
   },
   "outputs": [],
   "source": [
    "seed = 123\n",
    "\n",
    "num_train_epochs = 4\n",
    "max_steps = -1\n",
    "bf16 = False\n",
    "output_dir = 'finetune_deepseek_results'\n",
    "run_name = f\"{model_name.split('/')[-1]}-work_arrangements\"\n",
    "output_dir_final = os.path.join(output_dir, run_name)\n",
    "pathlib.Path(output_dir_final).mkdir(parents=True, exist_ok=True)\n",
    "\n",
    "# Adjust tokenizer settings as warned by the trainer\n",
    "tokenizer.padding_side = 'right'\n",
    "\n",
    "print(\"Creating trainer...\")\n",
    "training_args = SFTConfig(\n",
    "    num_train_epochs=num_train_epochs,\n",
    "    per_device_train_batch_size=1,\n",
    "    gradient_accumulation_steps=2,\n",
    "    gradient_checkpointing=True,\n",
    "    bf16=bf16,\n",
    "    tf32=False, # use tf32 for faster training on Ampere GPUs or newer.\n",
    "    dataloader_pin_memory=False,\n",
    "    torch_compile=False,\n",
    "    warmup_steps=5,\n",
    "    max_steps=max_steps,\n",
    "    learning_rate=1e-4,\n",
    "    lr_scheduler_type=\"cosine\",\n",
    "    weight_decay=0.01,\n",
    "    logging_strategy=\"steps\",\n",
    "    save_strategy=\"steps\",\n",
    "    save_steps=2000,\n",
    "    save_total_limit=10,\n",
    "    logging_steps=5,\n",
    "    output_dir=output_dir_final,\n",
    "    optim=\"paged_adamw_8bit\",\n",
    "    remove_unused_columns=True,\n",
    "    seed=seed,\n",
    "    run_name=run_name,\n",
    "    report_to=\"wandb\",\n",
    "    push_to_hub=False,\n",
    ")\n",
    "\n",
    "trainer = SFTTrainer(\n",
    "    model=model,\n",
    "    args=training_args,\n",
    "    train_dataset=dataset['train'],\n",
    "    processing_class=tokenizer,\n",
    ")\n",
    "\n",
    "print(\"Training...\")\n",
    "trainer.train()"
   ]
  },
  {
   "cell_type": "code",
   "execution_count": null,
   "id": "4e3cb0f3-2e57-4c1e-b94b-5c95d7641424",
   "metadata": {
    "tags": []
   },
   "outputs": [],
   "source": [
    "wandb.finish()"
   ]
  },
  {
   "cell_type": "markdown",
   "id": "020b8328-a685-4974-94ff-09bacf176731",
   "metadata": {
    "tags": []
   },
   "source": [
    "# Inference"
   ]
  },
  {
   "cell_type": "code",
   "execution_count": 2,
   "id": "82526dff-ab81-4d5c-9d66-ad15b696bd16",
   "metadata": {
    "tags": []
   },
   "outputs": [],
   "source": [
    "max_new_tokens = 256\n",
    "model_name = 'deepseek-ai/DeepSeek-R1-Distill-Qwen-1.5B'\n",
    "checkpoint_path = 'finetune_deepseek_results/DeepSeek-R1-Distill-Qwen-1.5B-work_arrangements/checkpoint-196/'"
   ]
  },
  {
   "cell_type": "code",
   "execution_count": 3,
   "id": "657c7abb-83f4-41c2-b7d0-5ba6c2ec2cc9",
   "metadata": {
    "tags": []
   },
   "outputs": [
    {
     "name": "stderr",
     "output_type": "stream",
     "text": [
      "Sliding Window Attention is enabled but not implemented for `sdpa`; unexpected results may be encountered.\n"
     ]
    },
    {
     "data": {
      "application/vnd.jupyter.widget-view+json": {
       "model_id": "a20551d0ee69451798b4718356c7cfe9",
       "version_major": 2,
       "version_minor": 0
      },
      "text/plain": [
       "Loading checkpoint shards:   0%|          | 0/2 [00:00<?, ?it/s]"
      ]
     },
     "metadata": {},
     "output_type": "display_data"
    }
   ],
   "source": [
    "model = AutoModelForCausalLM.from_pretrained(checkpoint_path, device_map=\"cuda:0\")\n",
    "tokenizer = AutoTokenizer.from_pretrained(\n",
    "   model_name, padding=True, truncation=True\n",
    ")"
   ]
  },
  {
   "cell_type": "code",
   "execution_count": 14,
   "id": "44c12585-2b7b-47e5-a097-b4fb49bbd0d2",
   "metadata": {
    "tags": []
   },
   "outputs": [
    {
     "name": "stdout",
     "output_type": "stream",
     "text": [
      "[2025-04-27 13:56:47,310] [INFO] [real_accelerator.py:158:get_accelerator] Setting ds_accelerator to cuda (auto detect)\n"
     ]
    },
    {
     "data": {
      "application/vnd.jupyter.widget-view+json": {
       "model_id": "b9498f57db4b4ea09ff82164c25b32e1",
       "version_major": 2,
       "version_minor": 0
      },
      "text/plain": [
       "model-00002-of-00002.safetensors:   0%|          | 0.00/2.11G [00:00<?, ?B/s]"
      ]
     },
     "metadata": {},
     "output_type": "display_data"
    },
    {
     "data": {
      "application/vnd.jupyter.widget-view+json": {
       "model_id": "4874bd5f326b4133a2e1aea5d5eba15b",
       "version_major": 2,
       "version_minor": 0
      },
      "text/plain": [
       "Upload 2 LFS files:   0%|          | 0/2 [00:00<?, ?it/s]"
      ]
     },
     "metadata": {},
     "output_type": "display_data"
    },
    {
     "data": {
      "application/vnd.jupyter.widget-view+json": {
       "model_id": "540d523e87a8445695eaebe9cc907b48",
       "version_major": 2,
       "version_minor": 0
      },
      "text/plain": [
       "model-00001-of-00002.safetensors:   0%|          | 0.00/5.00G [00:00<?, ?B/s]"
      ]
     },
     "metadata": {},
     "output_type": "display_data"
    },
    {
     "data": {
      "text/plain": [
       "CommitInfo(commit_url='https://huggingface.co/huwar/deepseek_work_arrangements/commit/226f4ed5076586921004912d7d108611dab8e5fe', commit_message='Upload Qwen2ForCausalLM', commit_description='', oid='226f4ed5076586921004912d7d108611dab8e5fe', pr_url=None, repo_url=RepoUrl('https://huggingface.co/huwar/deepseek_work_arrangements', endpoint='https://huggingface.co', repo_type='model', repo_id='huwar/deepseek_work_arrangements'), pr_revision=None, pr_num=None)"
      ]
     },
     "execution_count": 14,
     "metadata": {},
     "output_type": "execute_result"
    }
   ],
   "source": [
    "os.environ['HF_TOKEN'] = 'hf_...'\n",
    "model.push_to_hub('deepseek_work_arrangements')"
   ]
  },
  {
   "cell_type": "code",
   "execution_count": 4,
   "id": "055c02d5-5ecb-4a47-9e91-449d4be58711",
   "metadata": {
    "tags": []
   },
   "outputs": [
    {
     "data": {
      "text/plain": [
       "CommitInfo(commit_url='https://huggingface.co/huwar/deepseek_work_arrangements/commit/83e3ff999c74bbd49c5d56ba5f2e9b2ff4aa7388', commit_message='Upload tokenizer', commit_description='', oid='83e3ff999c74bbd49c5d56ba5f2e9b2ff4aa7388', pr_url=None, repo_url=RepoUrl('https://huggingface.co/huwar/deepseek_work_arrangements', endpoint='https://huggingface.co', repo_type='model', repo_id='huwar/deepseek_work_arrangements'), pr_revision=None, pr_num=None)"
      ]
     },
     "execution_count": 4,
     "metadata": {},
     "output_type": "execute_result"
    }
   ],
   "source": [
    "tokenizer.push_to_hub('deepseek_work_arrangements')"
   ]
  },
  {
   "cell_type": "code",
   "execution_count": 12,
   "id": "48f2fb53-c47a-406e-a6ff-09d62678c204",
   "metadata": {
    "tags": []
   },
   "outputs": [],
   "source": [
    "test_df = pd.read_csv('data/work_arrangements_test_set.csv')"
   ]
  },
  {
   "cell_type": "markdown",
   "id": "e03da0e4-242f-4320-8db5-b3ba9bd2d575",
   "metadata": {},
   "source": [
    "Example:"
   ]
  },
  {
   "cell_type": "code",
   "execution_count": 13,
   "id": "5860dd4b-d40f-40ad-aeb1-1438777e1ee2",
   "metadata": {
    "tags": []
   },
   "outputs": [],
   "source": [
    "messages_static = [\n",
    "    {\"role\": \"system\", \"content\": 'You are an expert job ad annotator. Your role is to determine the work arrangement of a job from its description. Classify the work arrangement into one of the following: \"Remote\", \"Hybrid\", or \"OnSite\".'},\n",
    "]"
   ]
  },
  {
   "cell_type": "code",
   "execution_count": 14,
   "id": "7f3cfd3a-0f3f-4e23-a2c0-21a0e77c392c",
   "metadata": {
    "tags": []
   },
   "outputs": [],
   "source": [
    "i = 0\n",
    "\n",
    "desc = test_df.iloc[i].job_ad\n",
    "\n",
    "messages = copy.deepcopy(messages_static)\n",
    "messages.append(\n",
    "    {\n",
    "        'role': 'user',\n",
    "        'content': (\n",
    "            f'{desc}. Extract work arrangement label from this job description. The label must be one of the following: \"Remote\", \"Hybrid\", or \"OnSite\". '\n",
    "            'Respond in JSON: {\"work_arrangement\": \"\"}.'\n",
    "        )\n",
    "    }\n",
    ")"
   ]
  },
  {
   "cell_type": "code",
   "execution_count": 15,
   "id": "677e474d-008f-4149-9f90-ca9946b7f4e5",
   "metadata": {
    "tags": []
   },
   "outputs": [
    {
     "data": {
      "text/plain": [
       "[{'role': 'system',\n",
       "  'content': 'You are an expert job ad annotator. Your role is to determine the work arrangement of a job from its description. Classify the work arrangement into one of the following: \"Remote\", \"Hybrid\", or \"OnSite\".'},\n",
       " {'role': 'user',\n",
       "  'content': 'Job title: Restaurant Kitchen Hand\\nAbstract: We are seeking experienced Kitchen Hand to join our hospitality team.\\nEmployer: Catering HQ\\nLocation: pitttown\\nHighlights: opportunity for growth, Opportunity to work in an industry leading hospitality group, Positive, fun and supportive work culture\\nContents: We are currently searching for talented and polished Full Time Kitchen Hands to join our hospitality team.\\n Key duties\\n Thorough cleaning of the kitchen, including dishes and floors, Food preparation assistance, Stock rotation and stock control, Ensuring to follow all health and safety procedures when caring out all tasks, Any other adhoc duties as required by our fantastic Chefs and Management, Operating a commercial dishwasher to a high standard, Assist with general kitchen duties under the direction of the Head Chef.\\n The Person \\n Previous relevant experience in a high-volume catering/kitchen hand role is essential, Commercial kitchen experience essential, Knowledge of WH&S guidelines, Able to work a variety of shifts including morning, afternoons, evenings, Ability to take direction, Flexible availability, Youâ€™ll be a team player, fluent in English and have an eye for detail, Weâ€™d love it if you brought knife skills!.. Extract work arrangement label from this job description. The label must be one of the following: \"Remote\", \"Hybrid\", or \"OnSite\". Respond in JSON: {\"work_arrangement\": \"\"}.'}]"
      ]
     },
     "execution_count": 15,
     "metadata": {},
     "output_type": "execute_result"
    }
   ],
   "source": [
    "messages"
   ]
  },
  {
   "cell_type": "code",
   "execution_count": 16,
   "id": "e921d07d-141f-47ae-990a-67eccb4dc550",
   "metadata": {
    "tags": []
   },
   "outputs": [],
   "source": [
    "prompt = tokenizer.apply_chat_template(messages, tokenize=False)"
   ]
  },
  {
   "cell_type": "code",
   "execution_count": 17,
   "id": "62f9848e-84ba-40ca-9a9f-6e0031fdb85c",
   "metadata": {
    "tags": []
   },
   "outputs": [
    {
     "data": {
      "text/plain": [
       "'<｜begin▁of▁sentence｜>You are an expert job ad annotator. Your role is to determine the work arrangement of a job from its description. Classify the work arrangement into one of the following: \"Remote\", \"Hybrid\", or \"OnSite\".<｜User｜>Job title: Restaurant Kitchen Hand\\nAbstract: We are seeking experienced Kitchen Hand to join our hospitality team.\\nEmployer: Catering HQ\\nLocation: pitttown\\nHighlights: opportunity for growth, Opportunity to work in an industry leading hospitality group, Positive, fun and supportive work culture\\nContents: We are currently searching for talented and polished Full Time Kitchen Hands to join our hospitality team.\\n Key duties\\n Thorough cleaning of the kitchen, including dishes and floors, Food preparation assistance, Stock rotation and stock control, Ensuring to follow all health and safety procedures when caring out all tasks, Any other adhoc duties as required by our fantastic Chefs and Management, Operating a commercial dishwasher to a high standard, Assist with general kitchen duties under the direction of the Head Chef.\\n The Person \\n Previous relevant experience in a high-volume catering/kitchen hand role is essential, Commercial kitchen experience essential, Knowledge of WH&S guidelines, Able to work a variety of shifts including morning, afternoons, evenings, Ability to take direction, Flexible availability, Youâ€™ll be a team player, fluent in English and have an eye for detail, Weâ€™d love it if you brought knife skills!.. Extract work arrangement label from this job description. The label must be one of the following: \"Remote\", \"Hybrid\", or \"OnSite\". Respond in JSON: {\"work_arrangement\": \"\"}.'"
      ]
     },
     "execution_count": 17,
     "metadata": {},
     "output_type": "execute_result"
    }
   ],
   "source": [
    "prompt"
   ]
  },
  {
   "cell_type": "code",
   "execution_count": 18,
   "id": "fdbf3542-8d83-4478-a09a-81cc602700e9",
   "metadata": {
    "tags": []
   },
   "outputs": [],
   "source": [
    "inputs = tokenizer(prompt, return_tensors=\"pt\").to(model.device)\n",
    "with torch.inference_mode():\n",
    "    outputs = model.generate(**inputs, max_new_tokens=max_new_tokens, pad_token_id=tokenizer.eos_token_id)\n",
    "outputs = outputs[:, inputs['input_ids'].shape[-1]:]\n",
    "response = tokenizer.decode(outputs[0], skip_special_tokens=True)"
   ]
  },
  {
   "cell_type": "code",
   "execution_count": 19,
   "id": "7f562935-032e-4f95-85ff-6e7876232c33",
   "metadata": {
    "tags": []
   },
   "outputs": [
    {
     "data": {
      "text/plain": [
       "'<｜Assistant｜>{\"work_arrangement\": \"OnSite\"}.'"
      ]
     },
     "execution_count": 19,
     "metadata": {},
     "output_type": "execute_result"
    }
   ],
   "source": [
    "response"
   ]
  },
  {
   "cell_type": "code",
   "execution_count": 20,
   "id": "f230f453-847e-4a76-9e6f-c561d2f5c566",
   "metadata": {
    "tags": []
   },
   "outputs": [
    {
     "data": {
      "text/plain": [
       "'{\"work_arrangement\": \"OnSite\"}.'"
      ]
     },
     "execution_count": 20,
     "metadata": {},
     "output_type": "execute_result"
    }
   ],
   "source": [
    "assistant_token = '<｜Assistant｜>'\n",
    "response[response.find(assistant_token) + len(assistant_token):]"
   ]
  },
  {
   "cell_type": "markdown",
   "id": "939f542f-6844-4364-bcfb-fd31b1957192",
   "metadata": {},
   "source": [
    "Test set:"
   ]
  },
  {
   "cell_type": "code",
   "execution_count": 13,
   "id": "983cb79e-0d6a-4bcb-9571-82c45fc4fcb2",
   "metadata": {
    "tags": []
   },
   "outputs": [],
   "source": [
    "# df to store model predictions\n",
    "test_pred_df = pd.DataFrame(columns=[\"y_pred\"])"
   ]
  },
  {
   "cell_type": "code",
   "execution_count": 14,
   "id": "9da0b991-cb95-4710-a402-321060334ae2",
   "metadata": {
    "tags": []
   },
   "outputs": [],
   "source": [
    "messages_static = [\n",
    "    {\"role\": \"system\", \"content\": 'You are an expert job ad annotator. Your role is to determine the work arrangement of a job from its description. Classify the work arrangement into one of the following: \"Remote\", \"Hybrid\", or \"OnSite\".'},\n",
    "]"
   ]
  },
  {
   "cell_type": "code",
   "execution_count": 15,
   "id": "ce6e30af-bae6-4c70-afbb-8b1f994437f1",
   "metadata": {
    "tags": []
   },
   "outputs": [
    {
     "name": "stderr",
     "output_type": "stream",
     "text": [
      "100%|██████████| 99/99 [01:24<00:00,  1.17it/s]\n"
     ]
    }
   ],
   "source": [
    "for i in tqdm(range(len(test_df)), position=0, leave=True):\n",
    "    desc = test_df.iloc[i].job_ad\n",
    "\n",
    "    messages = copy.deepcopy(messages_static)\n",
    "    messages.append(\n",
    "        {\n",
    "            'role': 'user',\n",
    "            'content': (\n",
    "                f'{desc}. Extract work arrangement label from this job description. The label must be one of the following: \"Remote\", \"Hybrid\", or \"OnSite\". '\n",
    "                'Respond in JSON: {\"work_arrangement\": \"\"}.'\n",
    "            )\n",
    "        }\n",
    "    )\n",
    "    \n",
    "    prompt = tokenizer.apply_chat_template(messages, tokenize=False)\n",
    "    inputs = tokenizer(prompt, return_tensors=\"pt\").to(model.device)\n",
    "    with torch.inference_mode():\n",
    "        outputs = model.generate(**inputs, max_new_tokens=max_new_tokens, pad_token_id=tokenizer.eos_token_id)\n",
    "    outputs = outputs[:, inputs['input_ids'].shape[-1]:]\n",
    "    response = tokenizer.decode(outputs[0], skip_special_tokens=True)\n",
    "    \n",
    "    assistant_token = '<｜Assistant｜>'\n",
    "    answer_str = response[response.find(assistant_token) + len(assistant_token):]\n",
    "\n",
    "    # format the output\n",
    "    try:\n",
    "        answer_str_ = answer_str[answer_str.find('{'):answer_str.find('}') + 1]\n",
    "        answer_str_ = answer_str_.replace('“', '\"')\n",
    "        answer_str_ = answer_str_.replace('”', '\"')\n",
    "        answer = json.loads(answer_str_)\n",
    "        \n",
    "        label = answer['work_arrangement']\n",
    "\n",
    "    except json.JSONDecodeError:\n",
    "        print(f\"Failed to parse model output as JSON: {answer_str}\")\n",
    "        label = \"ERROR \" + answer_str\n",
    "\n",
    "    test_pred_df.loc[len(test_pred_df)] = label"
   ]
  },
  {
   "cell_type": "code",
   "execution_count": 16,
   "id": "26fe7c1a-d554-461f-b854-c3ca33c4dd2c",
   "metadata": {
    "tags": []
   },
   "outputs": [],
   "source": [
    "# export the dataframe to a new csv file\n",
    "test_pred_df.to_csv('work_arrangements_test_set_deepseek_r1_distill_finetune_preds.csv', index=False)"
   ]
  },
  {
   "cell_type": "markdown",
   "id": "75cb9961-fd04-4c58-afb8-c799c313f985",
   "metadata": {
    "jp-MarkdownHeadingCollapsed": true,
    "tags": []
   },
   "source": [
    "# Metrics"
   ]
  },
  {
   "cell_type": "code",
   "execution_count": 1,
   "id": "f31333cf",
   "metadata": {},
   "outputs": [],
   "source": [
    "import pandas as pd\n",
    "from sklearn.metrics import precision_recall_fscore_support\n",
    "from sklearn.metrics import accuracy_score\n",
    "from sklearn.metrics import classification_report"
   ]
  },
  {
   "cell_type": "code",
   "execution_count": 2,
   "id": "04bd6f74",
   "metadata": {},
   "outputs": [],
   "source": [
    "def get_metrics(path_to_preds):\n",
    "    preds = pd.read_csv(path_to_preds)\n",
    "    test_df = pd.read_csv('data/work_arrangements_test_set.csv')\n",
    "\n",
    "    test_df['y_pred'] = preds.y_pred.values\n",
    "\n",
    "    precision, recall, f1_score, _ = precision_recall_fscore_support(\n",
    "        test_df.y_true.values, test_df.y_pred.values, labels=['Remote', 'Hybrid', 'OnSite']\n",
    "    )\n",
    "    precision_macro, recall_macro, f1_score_macro, _ = precision_recall_fscore_support(\n",
    "        test_df.y_true.values, test_df.y_pred.values, average='macro'\n",
    "    )\n",
    "    precision_micro, recall_micro, f1_score_micro, _ = precision_recall_fscore_support(\n",
    "        test_df.y_true.values, test_df.y_pred.values, average='micro'\n",
    "    )\n",
    "    precision_weighted, recall_weighted, f1_score_weighted, _ = precision_recall_fscore_support(\n",
    "        test_df.y_true.values, test_df.y_pred.values, average='weighted'\n",
    "    )\n",
    "    acc = accuracy_score(test_df.y_true.values, test_df.y_pred.values)\n",
    "    \n",
    "    print(f'Accuracy: {round(acc * 100, 1)}')\n",
    "    res = pd.DataFrame(\n",
    "        {\n",
    "                'Precision': [*[round(p * 100, 1) for p in precision], \"\", round(precision_macro * 100, 1), round(precision_weighted * 100, 1), round(precision_micro * 100, 1)],\n",
    "                'Recall': [*[round(r * 100, 1) for r in recall], \"\", round(recall_macro * 100, 1), round(recall_weighted * 100, 1), round(recall_micro * 100, 1)],\n",
    "                'F1-score': [*[round(f1 * 100, 1) for f1 in f1_score], \"\", round(f1_score_macro * 100, 1), round(f1_score_weighted * 100, 1), round(f1_score_micro * 100, 1)],\n",
    "        },\n",
    "        index=['Remote', 'Hybrid', 'OnSite', \"\", 'macro average', 'weighted average', 'micro average']\n",
    "    )\n",
    "    return res"
   ]
  },
  {
   "cell_type": "code",
   "execution_count": 3,
   "id": "16327787",
   "metadata": {},
   "outputs": [
    {
     "name": "stdout",
     "output_type": "stream",
     "text": [
      "Accuracy: 92.9\n"
     ]
    },
    {
     "data": {
      "text/html": [
       "<div>\n",
       "<style scoped>\n",
       "    .dataframe tbody tr th:only-of-type {\n",
       "        vertical-align: middle;\n",
       "    }\n",
       "\n",
       "    .dataframe tbody tr th {\n",
       "        vertical-align: top;\n",
       "    }\n",
       "\n",
       "    .dataframe thead th {\n",
       "        text-align: right;\n",
       "    }\n",
       "</style>\n",
       "<table border=\"1\" class=\"dataframe\">\n",
       "  <thead>\n",
       "    <tr style=\"text-align: right;\">\n",
       "      <th></th>\n",
       "      <th>Precision</th>\n",
       "      <th>Recall</th>\n",
       "      <th>F1-score</th>\n",
       "    </tr>\n",
       "  </thead>\n",
       "  <tbody>\n",
       "    <tr>\n",
       "      <th>Remote</th>\n",
       "      <td>92.0</td>\n",
       "      <td>88.5</td>\n",
       "      <td>90.2</td>\n",
       "    </tr>\n",
       "    <tr>\n",
       "      <th>Hybrid</th>\n",
       "      <td>96.2</td>\n",
       "      <td>92.6</td>\n",
       "      <td>94.3</td>\n",
       "    </tr>\n",
       "    <tr>\n",
       "      <th>OnSite</th>\n",
       "      <td>91.7</td>\n",
       "      <td>95.7</td>\n",
       "      <td>93.6</td>\n",
       "    </tr>\n",
       "    <tr>\n",
       "      <th></th>\n",
       "      <td></td>\n",
       "      <td></td>\n",
       "      <td></td>\n",
       "    </tr>\n",
       "    <tr>\n",
       "      <th>macro average</th>\n",
       "      <td>93.3</td>\n",
       "      <td>92.2</td>\n",
       "      <td>92.7</td>\n",
       "    </tr>\n",
       "    <tr>\n",
       "      <th>weighted average</th>\n",
       "      <td>93.0</td>\n",
       "      <td>92.9</td>\n",
       "      <td>92.9</td>\n",
       "    </tr>\n",
       "    <tr>\n",
       "      <th>micro average</th>\n",
       "      <td>92.9</td>\n",
       "      <td>92.9</td>\n",
       "      <td>92.9</td>\n",
       "    </tr>\n",
       "  </tbody>\n",
       "</table>\n",
       "</div>"
      ],
      "text/plain": [
       "                 Precision Recall F1-score\n",
       "Remote                92.0   88.5     90.2\n",
       "Hybrid                96.2   92.6     94.3\n",
       "OnSite                91.7   95.7     93.6\n",
       "                                          \n",
       "macro average         93.3   92.2     92.7\n",
       "weighted average      93.0   92.9     92.9\n",
       "micro average         92.9   92.9     92.9"
      ]
     },
     "execution_count": 3,
     "metadata": {},
     "output_type": "execute_result"
    }
   ],
   "source": [
    "get_metrics('work_arrangements_test_set_deepseek_r1_distill_finetune_preds.csv')"
   ]
  }
 ],
 "metadata": {
  "kernelspec": {
   "display_name": "Python 3 (ipykernel)",
   "language": "python",
   "name": "python3"
  },
  "language_info": {
   "codemirror_mode": {
    "name": "ipython",
    "version": 3
   },
   "file_extension": ".py",
   "mimetype": "text/x-python",
   "name": "python",
   "nbconvert_exporter": "python",
   "pygments_lexer": "ipython3",
   "version": "3.9.21"
  }
 },
 "nbformat": 4,
 "nbformat_minor": 5
}
