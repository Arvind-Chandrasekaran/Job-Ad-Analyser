{
 "cells": [
  {
   "cell_type": "markdown",
   "metadata": {
    "id": "KfXY0rMVfLPo"
   },
   "source": [
    "# Loading"
   ]
  },
  {
   "cell_type": "code",
   "execution_count": 1,
   "metadata": {
    "id": "ziGslr52Zr3j",
    "tags": []
   },
   "outputs": [],
   "source": [
    "import pandas as pd\n",
    "from tqdm import tqdm\n",
    "from openai import OpenAI\n",
    "import openai\n",
    "import string\n",
    "import json\n",
    "import copy\n",
    "\n",
    "from sklearn.metrics import precision_recall_fscore_support\n",
    "from sklearn.metrics import accuracy_score\n",
    "from sklearn.metrics import classification_report"
   ]
  },
  {
   "cell_type": "code",
   "execution_count": 2,
   "metadata": {
    "colab": {
     "base_uri": "https://localhost:8080/",
     "height": 290,
     "referenced_widgets": [
      "c90f9d95d9724112971633ca15a9bc17",
      "815eaca87f2947ca80d96615d282839e",
      "ecfd276855d84144b5738639d560dd13",
      "1158c5d791494d9499855467242c2afe",
      "fb996b8313df493bac9f2bf87d399333",
      "14eb1c77e7e845f99e3258f0a131cb1c",
      "b4524b58d5ea4924ac670eaa43495df4",
      "873c7b86dd074402a898e75f4c1a9d9f",
      "aa452f6697354aab9acac8d99d54d282",
      "5199350655d842b79dc58e4cf572931d",
      "704411595ee4422ba5ec2677d1d09bf2",
      "d1ba6589fd1e4d7fb72dff5945d5b584",
      "b4ed703dc2d34e958749c2fd67d7802d",
      "29f223da69eb465ea87c806021cb468b",
      "6ff94f195ba14bb2ba7029976ef73ae8",
      "f082d18974fb45e78128051e091de3d4",
      "9d4fd99da0bd46ca99a01ba4a6083ec0",
      "d537771c988c40d592555cdc9d30a3c5",
      "5d26af10ec7947069bbbe2e4228e9c29",
      "e9d0af6181f349baad80a5b418559d03",
      "af7e075217304b56a66b6c15060c0f11",
      "168d3b8fa6664c4d90c6ab12b21f14cf",
      "40700fdade18454ab4c66a05128c3318",
      "145dc132beda4065941cd208e33644b6",
      "1b22c14289584b55adddb36d43262822",
      "97b99148475644b3bfdf34f75908bdb6",
      "958e9d8b35cc48ed9d28fae0b65f2c3f",
      "de6f4730b671411fa486055ca862a30a",
      "0765a58d21d64bc8a633c135f0495d39",
      "4c542b9f7b684baba87876bbe1ddf649",
      "f3ed755eb08e474ea80e624c98ec7607",
      "0ea612f2dada409babf820a9d00413b4",
      "58c102628617430dbd870e9748a1562b",
      "6163e55a2a6e418ba011c62860e18b72",
      "f24c3813fb724acda542d07b1aaf9fbf",
      "e4ae71a066c94383bccd45162314b593",
      "ea7a7c27fca44d98923f303f070b27d3",
      "f07f8f0fec944de2b98d982cf971f27a",
      "c16b33c29b814445b3d783419abac42c",
      "9817a6d3cc454c288db17a001e704de2",
      "83c9ca2b9a8e40d48c261b6b20c53b78",
      "ae5b34887dd74a588df68478bfe6cda9",
      "9e05d0c71fb745418a746db7d4589f44",
      "0d05028ab9a641f4ba3bcb27fa01b46f",
      "621e0a27097d4b938e589fcbd077c7a4",
      "99b3bbce8009492c87ae6e86f815a8ea",
      "f8c8f920cf6649f1bd24fcedafa0cbce",
      "0e4b2a55db1f438ebb4bf9e7adb7c6d0",
      "04935fe71c6e45f7affe7618e6cf8c56",
      "9ee76928655741b5b29bc4f225998378",
      "3fbac1d570c44c60bc422539526855a1",
      "702f4210422b405ab6f146ba41449cb6",
      "9794be82692d4aa8954513b87224a66d",
      "8789c63ee6fa437cb5764cb430b0f143",
      "b820f757da7b439c8d67f44c4b85c0b3",
      "435721f0d61240debb55b9d55982edaa",
      "c073ebde4f4747ef9cde74d467f380d3",
      "f277420b3c684967a564c7f5d5774bc8",
      "cb11d9779c3346149a5b281c8cc3369b",
      "b55f9b11efc7432299bfd2bc31e8047f",
      "8338b8a8ab514cb9aa60e54ee0695713",
      "bbf07685f3e04d62b96f88edab42a5d0",
      "cac44d03666040a4bc1c6333b9136ad1",
      "c2097a7cddf14727b270f483f5cf39cd",
      "fd12a4a0d61545dca30173903feacda5",
      "c16b4bb50c64430cb913135318f7cb36",
      "38131d89a7784da3b3692e28fb2c19fd",
      "9cda9b150d3c42ff9b8894754ba64f69",
      "b0cba3cf9c314440a232789739704813",
      "84f61de0aa9e47cc9d8c1e3b30ef9003",
      "62c1e48820f248c09ed77d8519edc26d",
      "c6279d16c5e7478996c51383f9503a0c",
      "a05a84a8206f4e4f9c0b116b7bcd70f9",
      "a9d6428792564c86b805aac511381c2c",
      "9ce149a825024be78a568696de4e4175",
      "69aad4241f2247e28d822cb181319799",
      "4223d77cd9684b119740649f667d4206",
      "67a1da4e33a4492587f431d49dc98079",
      "4b83eb9995144e0b9eb57f0ebb03b106",
      "6045938926464db69ed14c39967392cf",
      "e8237f1158674661b387320d9f415db4",
      "f7640150712f4a868169b7b575573b85",
      "1d1b76b73ce942658e7f98f43f66b57e",
      "bbc83aacc44a4a14b5e93eb4234a1052",
      "926a8a0a689640afb77ec014935eda13",
      "cbd61c3d0a144de3aa5e767595d67418",
      "6e3b695d048448a8a5415a83b0e4494a",
      "39209c88852848629b72060fddefc2c7"
     ]
    },
    "id": "TIETAXxfp5Yd",
    "outputId": "a7049bdf-33e6-4864-8174-00290abcf3d8",
    "tags": []
   },
   "outputs": [],
   "source": [
    "client = OpenAI(api_key=\"\", base_url=\"https://api.deepseek.com\")\n",
    "model=\"deepseek-chat\" # DeepSeek-V3"
   ]
  },
  {
   "cell_type": "markdown",
   "metadata": {
    "id": "q0oo9hKTZm2R"
   },
   "source": [
    "# Work Arrangement"
   ]
  },
  {
   "cell_type": "code",
   "execution_count": 3,
   "metadata": {
    "id": "CblLBHhhZm2S",
    "tags": []
   },
   "outputs": [],
   "source": [
    "train_df = pd.read_csv('data/work_arrangements_development_set.csv')\n",
    "test_df = pd.read_csv('data/work_arrangements_test_set.csv')"
   ]
  },
  {
   "cell_type": "code",
   "execution_count": 4,
   "metadata": {
    "colab": {
     "base_uri": "https://localhost:8080/",
     "height": 272
    },
    "id": "XrHGLvuPDgDx",
    "outputId": "667d731e-fe91-4c25-ccef-a5e2e6c24b8e",
    "tags": []
   },
   "outputs": [
    {
     "data": {
      "text/plain": [
       "id                                                 80058389\n",
       "job_ad    Job title: Tax Agent Training and Mentor Manag...\n",
       "y_true                                               Hybrid\n",
       "Name: 48, dtype: object"
      ]
     },
     "execution_count": 4,
     "metadata": {},
     "output_type": "execute_result"
    }
   ],
   "source": [
    "train_df.iloc[48]"
   ]
  },
  {
   "cell_type": "markdown",
   "metadata": {
    "id": "4za-mTXBecX8"
   },
   "source": [
    "# RBIC Functions"
   ]
  },
  {
   "cell_type": "markdown",
   "metadata": {
    "id": "_icT_CYAfeJi"
   },
   "source": [
    "### RB\n"
   ]
  },
  {
   "cell_type": "code",
   "execution_count": 5,
   "metadata": {
    "id": "485zx9H7Zw5D",
    "tags": []
   },
   "outputs": [],
   "source": [
    "#== step 1: role explanation\n",
    "def step_1():\n",
    "    messages = [\n",
    "        {\"role\": \"system\", \"content\": \"You are an expert job-ad annotator. Your job is to read a job description and classify its work arrangement into exactly one of: Remote, Hybrid, or OnSite.\"},\n",
    "        {\"role\": \"user\", \"content\": \"Based on your role, can you briefly explain what work arrangement means, and what work arrangement labels look like?\"}\n",
    "    ]\n",
    "\n",
    "    response = client.chat.completions.create(\n",
    "        model=model,\n",
    "        messages=messages\n",
    "    )\n",
    "    messages.append({\"role\": \"assistant\", \"content\": response.choices[0].message.content})\n",
    "\n",
    "    return response.choices[0].message.content, messages"
   ]
  },
  {
   "cell_type": "code",
   "execution_count": 6,
   "metadata": {
    "id": "QwpJGdGO4BV-",
    "tags": []
   },
   "outputs": [],
   "source": [
    "#== few-shot examples\n",
    "def fewshot(messages):\n",
    "    # messages.append({\n",
    "    #     \"role\": \"user\",\n",
    "    #     \"content\": \"I will provide you with some examples on how to accomplish your task\"\n",
    "    # })\n",
    "\n",
    "    # response = client.chat.completions.create(\n",
    "    #     model=model,\n",
    "    #     messages=messages\n",
    "    # )\n",
    "    # messages.append({\"role\": \"assistant\", \"content\": response.choices[0].message.content})\n",
    "\n",
    "    few_shot_indices = [20,23,36,48]\n",
    "\n",
    "    for i in few_shot_indices:\n",
    "        desc = {\n",
    "          \"job_ad\": train_df.iloc[i].job_ad\n",
    "        }\n",
    "        desc_str = str(desc)\n",
    "\n",
    "        # add the description\n",
    "        messages.append({\n",
    "          \"role\": \"user\",\n",
    "          \"content\": desc_str\n",
    "        })\n",
    "\n",
    "        label = train_df.iloc[i].y_true\n",
    "        label_str = str(label)\n",
    "\n",
    "        # add the output\n",
    "        messages.append({\n",
    "            \"role\": \"assistant\",\n",
    "            \"content\": label_str\n",
    "        })\n",
    "\n",
    "    return messages"
   ]
  },
  {
   "cell_type": "code",
   "execution_count": 7,
   "metadata": {
    "id": "zbr7XLTfmBtc",
    "tags": []
   },
   "outputs": [],
   "source": [
    "#== step 2: setting sub-task --> ask for seniority patterns\n",
    "def step_2(messages):\n",
    "    messages.append({\n",
    "        \"role\": \"user\",\n",
    "        \"content\": \"As a work arrangements classifier, what are some common phrases or patterns that indicate a work arrangements in a job description?\"\n",
    "    })\n",
    "\n",
    "    response = client.chat.completions.create(\n",
    "        model=model,\n",
    "        messages=messages\n",
    "    )\n",
    "    messages.append({\"role\": \"assistant\", \"content\": response.choices[0].message.content})\n",
    "\n",
    "    return response.choices[0].message.content, messages"
   ]
  },
  {
   "cell_type": "markdown",
   "metadata": {
    "id": "9-6MkZsUfhLi"
   },
   "source": [
    "### IC"
   ]
  },
  {
   "cell_type": "code",
   "execution_count": 8,
   "metadata": {
    "id": "f9GUkH7kmWcc",
    "tags": []
   },
   "outputs": [],
   "source": [
    "#== step 3: presence of seniority (skipped)\n",
    "def step_3(messages_static, desc_str):\n",
    "    messages = copy.deepcopy(messages_static)\n",
    "\n",
    "    messages.append({\n",
    "        \"role\": \"user\",\n",
    "        \"content\": f\"{desc_str} does this job description include any work-arrangements related information? Just respond with 'Yes' or 'No'.\"\n",
    "    })\n",
    "\n",
    "    response = client.chat.completions.create(\n",
    "        model=model,\n",
    "        messages=messages\n",
    "    )\n",
    "    messages.append({\"role\": \"assistant\", \"content\": response.choices[0].message.content})\n",
    "\n",
    "    p3_content = response.choices[0].message.content\n",
    "\n",
    "    # clean and check the response\n",
    "    response_p3 = p3_content.translate(str.maketrans('', '', string.punctuation))\n",
    "    response_p3 = response_p3.strip().lower()[:3]\n",
    "    #print(f\"step3 messages: {len(messages)}\")\n",
    "    return response_p3, messages"
   ]
  },
  {
   "cell_type": "code",
   "execution_count": 9,
   "metadata": {
    "id": "c3rIEflSmZQG",
    "tags": []
   },
   "outputs": [],
   "source": [
    "#== step 4: iterative coaching/finding clues to prevent hallucination\n",
    "def step_4(response_p3, messages):\n",
    "    messages.append({\n",
    "        \"role\": \"user\",\n",
    "        \"content\": \"Extract the work arrangements related phrases from the text verbatim. Respond in JSON: {\\\"Clue\\\": \\\"\\\"}.\"\n",
    "    })\n",
    "\n",
    "    response = client.chat.completions.create(\n",
    "        model=model,\n",
    "        messages=messages\n",
    "    )\n",
    "    messages.append({\"role\": \"assistant\", \"content\": response.choices[0].message.content})\n",
    "    #print(f\"step4 messages: {len(messages)}\")\n",
    "\n",
    "    return response.choices[0].message.content, messages"
   ]
  },
  {
   "cell_type": "code",
   "execution_count": 10,
   "metadata": {
    "id": "rftUWb7JZwxg",
    "tags": []
   },
   "outputs": [],
   "source": [
    "#== step 5: use the clue to generate the final output\n",
    "def step_5(messages):\n",
    "    messages.append({\n",
    "        \"role\": \"user\",\n",
    "        \"content\": (\n",
    "            \"Based on the extracted work-arrangement clue and the text verbatim, return a structured work arrangements classification in the format {\\\"work_arrangements_label\\\": \\\"work arrangements classification\\\"}.\"\n",
    "            \" Return only the json object with no extra details.\"          \n",
    "        )\n",
    "    })\n",
    "\n",
    "    response = client.chat.completions.create(\n",
    "        model=model,\n",
    "        messages=messages\n",
    "    )\n",
    "    answer_str = response.choices[0].message.content\n",
    "    \n",
    "    # format and print the output\n",
    "    try:\n",
    "        answer_str_ = answer_str[answer_str.find('{'):answer_str.find('}') + 1]\n",
    "        answer_str_ = answer_str_.replace('“', '\"')\n",
    "        answer_str_ = answer_str_.replace('”', '\"')\n",
    "        answer = json.loads(answer_str_)\n",
    "        \n",
    "        label = answer['work_arrangements_label']\n",
    "    except ...:\n",
    "        print(f\"Failed to parse model output: {answer_str}\")\n",
    "        label = \"ERROR \" + answer_str\n",
    "\n",
    "    return label, answer_str"
   ]
  },
  {
   "cell_type": "code",
   "execution_count": 11,
   "metadata": {
    "id": "MzSYBXFaS2kU",
    "tags": []
   },
   "outputs": [],
   "source": [
    "def RBIC_static_messages(verbose=False, add_fewshot=True):\n",
    "    response, messages = step_1()\n",
    "    if verbose: print(f\"RB step 1: {response}\\n\")\n",
    "\n",
    "    response, messages = step_2(messages)\n",
    "    if verbose: print(f\"RB step 2: {response}\\n\")\n",
    "\n",
    "    if add_fewshot:\n",
    "        messages = fewshot(messages)\n",
    "        if verbose: print(f\"Fewshot examples added\\n\")\n",
    "    return messages"
   ]
  },
  {
   "cell_type": "code",
   "execution_count": 12,
   "metadata": {
    "id": "QBoQh1EoTsJ2",
    "tags": []
   },
   "outputs": [],
   "source": [
    "def RBIC(messages, desc_str, verbose=False):\n",
    "    response_p3, messages_local = step_3(messages, desc_str)\n",
    "    if verbose: print(f\"IC step 1: {response_p3}\\n\")\n",
    "\n",
    "    response, messages_local = step_4(response_p3, messages_local)\n",
    "    if verbose: print(f\"IC step 2: {response}\\n\")\n",
    "\n",
    "    label, answer_str = step_5(messages_local)\n",
    "    if verbose: print(f\"IC step 3 (Final): {label}\\n\")\n",
    "    if verbose: print(f\"IC step 3 (Final Raw): {answer_str}\\n\")\n",
    "\n",
    "    return str(label)"
   ]
  },
  {
   "cell_type": "markdown",
   "metadata": {
    "id": "0KUTpN4tetFe"
   },
   "source": [
    "# Testing"
   ]
  },
  {
   "cell_type": "markdown",
   "metadata": {
    "id": "pTCP6pXsw0nd"
   },
   "source": [
    "### Qualitative Tests"
   ]
  },
  {
   "cell_type": "code",
   "execution_count": 13,
   "metadata": {
    "colab": {
     "base_uri": "https://localhost:8080/"
    },
    "id": "9-7IV-4tSnsB",
    "outputId": "7c3df295-f35a-4dfb-9919-9cf4f97c7b2f",
    "tags": []
   },
   "outputs": [
    {
     "name": "stdout",
     "output_type": "stream",
     "text": [
      "RB step 1: Certainly!  \n",
      "\n",
      "### **Work Arrangement Meaning**  \n",
      "A **work arrangement** describes where an employee is expected to perform their job duties. It falls into one of three main categories:  \n",
      "1. **Remote** – The job can be done entirely from anywhere, with no requirement to work from an office.  \n",
      "2. **Hybrid** – The job requires a mix of remote and in-office work (e.g., 2 days in-office, 3 days remote).  \n",
      "3. **OnSite** – The job requires working full-time at a physical location (e.g., office, factory, store).  \n",
      "\n",
      "### **What Work Arrangement Labels Look Like**  \n",
      "Job postings may explicitly state the arrangement (e.g., \"fully remote,\" \"hybrid role,\" \"on-site position\"). Sometimes, it's implied through phrases like:  \n",
      "- **Remote**: \"Work from anywhere,\" \"100% remote,\" \"no location restrictions.\"  \n",
      "- **Hybrid**: \"Flexible work model,\" \"partially remote,\" \"must be in office X days a week.\"  \n",
      "- **OnSite**: \"Must work at [location],\" \"not a remote role,\" \"in-office presence required.\"  \n",
      "\n",
      "Would you like me to analyze a specific job description for its work arrangement?\n",
      "\n",
      "RB step 2: As a work arrangements classifier, you should look for **explicit keywords, phrases, and contextual patterns** in job descriptions that signal whether a role is **Remote, Hybrid, or OnSite**. Below are common indicators for each category:  \n",
      "\n",
      "---\n",
      "\n",
      "### **1. Remote Work Indicators**  \n",
      "**Explicit Phrases:**  \n",
      "- \"Fully remote\" / \"100% remote\"  \n",
      "- \"Work from anywhere\" / \"Remote-first\"  \n",
      "- \"No location requirements\"  \n",
      "- \"Virtual role\" / \"Distributed team\"  \n",
      "- \"Remote eligible\" (if clearly stated as fully remote)  \n",
      "\n",
      "**Contextual Clues:**  \n",
      "- Mentions of \"home office setup\" or \"reliable internet required\"  \n",
      "- No mention of an office location  \n",
      "- \"Global team\" or \"work across time zones\" without location constraints  \n",
      "\n",
      "**Caution:**  \n",
      "- Some job ads say \"remote\" but restrict to certain regions (still Remote if no office requirement).  \n",
      "- \"Remote optional\" or \"remote flexibility\" may imply Hybrid.  \n",
      "\n",
      "---\n",
      "\n",
      "### **2. Hybrid Work Indicators**  \n",
      "**Explicit Phrases:**  \n",
      "- \"Hybrid role\" / \"Hybrid work model\"  \n",
      "- \"Partially remote\" / \"Flexible remote\"  \n",
      "- \"[X] days in office, [Y] days remote\" (e.g., \"3 days onsite, 2 days remote\")  \n",
      "- \"Work remotely with occasional office visits\"  \n",
      "\n",
      "**Contextual Clues:**  \n",
      "- \"Must be within commuting distance of [city/office]\"  \n",
      "- \"Office presence required [X] days per week\"  \n",
      "- \"Balance of remote and in-office work\"  \n",
      "\n",
      "**Caution:**  \n",
      "- If no clear split is given (e.g., \"flexible hybrid\"), default to Hybrid unless proven otherwise.  \n",
      "\n",
      "---\n",
      "\n",
      "### **3. OnSite Work Indicators**  \n",
      "**Explicit Phrases:**  \n",
      "- \"Onsite role\" / \"In-office position\"  \n",
      "- \"Not remote\" / \"No remote work\"  \n",
      "- \"Must work at [location]\"  \n",
      "- \"Full-time in [city/office]\"  \n",
      "\n",
      "**Contextual Clues:**  \n",
      "- Mentions of \"physical presence required\"  \n",
      "- Job involves machinery, lab work, or face-to-face interaction (e.g., healthcare, manufacturing)  \n",
      "- No mention of remote options + office address provided  \n",
      "\n",
      "**Caution:**  \n",
      "- Some roles say \"remote not available\" but allow occasional WFH (still OnSite).  \n",
      "\n",
      "---\n",
      "\n",
      "### **Ambiguous Cases & How to Resolve Them**  \n",
      "1. **No explicit mention?** Default to **OnSite** (traditional assumption).  \n",
      "2. **\"Flexible workplace\"** → Likely **Hybrid** (unless clarified otherwise).  \n",
      "3. **\"Remote during COVID\"** → Check if post-pandemic policy is stated; otherwise, assume **Hybrid/OnSite**.  \n",
      "4. **\"Open to remote\"** → Could mean **Remote** or **Hybrid**; prioritize explicit details.  \n",
      "\n",
      "Would you like me to analyze a specific job description snippet for practice?\n",
      "\n",
      "Fewshot examples added\n",
      "\n"
     ]
    }
   ],
   "source": [
    "messages_static = RBIC_static_messages(verbose=True, add_fewshot=True)"
   ]
  },
  {
   "cell_type": "code",
   "execution_count": 14,
   "metadata": {
    "colab": {
     "base_uri": "https://localhost:8080/"
    },
    "id": "63XWt1d3e1DH",
    "outputId": "d674d9a7-a086-4c5b-8ebb-de28ffd0ebb2",
    "tags": []
   },
   "outputs": [
    {
     "name": "stdout",
     "output_type": "stream",
     "text": [
      "len of messages_static 13\n",
      "IC step 1: yes\n",
      "\n",
      "IC step 2: ```json\n",
      "{\n",
      "  \"Clue\": \"Permanent work from home, Complete WFH set-up, Flexible working environment\"\n",
      "}\n",
      "```\n",
      "\n",
      "IC step 3 (Final): Remote\n",
      "\n",
      "IC step 3 (Final Raw): ```json\n",
      "{\n",
      "  \"work_arrangements_label\": \"Remote\"\n",
      "}\n",
      "```\n",
      "\n",
      "pred = Remote\n",
      "truth = Remote\n"
     ]
    }
   ],
   "source": [
    "ind = 2\n",
    "\n",
    "desc = {\n",
    "    \"job_ad\": test_df.iloc[ind].job_ad\n",
    "  }\n",
    "desc_str = str(desc)\n",
    "\n",
    "label = test_df.iloc[ind].y_true\n",
    "label_str = str(label)\n",
    "\n",
    "print(f\"len of messages_static {len(messages_static)}\")\n",
    "label_pred = RBIC(messages_static, desc_str, verbose=True)\n",
    "\n",
    "\n",
    "print(f\"pred = {label_pred}\")\n",
    "print(f\"truth = {label_str}\")"
   ]
  },
  {
   "cell_type": "markdown",
   "metadata": {
    "id": "U2QyVlqCw5i0"
   },
   "source": [
    "### Quantitative Tests"
   ]
  },
  {
   "cell_type": "code",
   "execution_count": 15,
   "metadata": {},
   "outputs": [],
   "source": [
    "# df to store model predictions\n",
    "test_pred_df = pd.DataFrame(columns=[\"y_pred\"])"
   ]
  },
  {
   "cell_type": "code",
   "execution_count": 16,
   "metadata": {},
   "outputs": [
    {
     "name": "stderr",
     "output_type": "stream",
     "text": [
      "100%|███████████████████████████████████████████| 99/99 [36:27<00:00, 22.10s/it]\n"
     ]
    }
   ],
   "source": [
    "for i in tqdm(range(len(test_df))):\n",
    "    desc = {\n",
    "        \"job_ad\": test_df.iloc[i].job_ad\n",
    "    }\n",
    "    desc_str = str(desc)\n",
    "\n",
    "    label = test_df.iloc[i].y_true\n",
    "    label_str = str(label)\n",
    "\n",
    "    label_pred = RBIC(messages_static, desc_str)\n",
    "\n",
    "    test_pred_df.loc[len(test_pred_df)] = label_pred\n",
    "\n",
    "# export the dataframe to a new csv file\n",
    "test_pred_df.to_csv('work_arrangements_test_set_deepseek_rbic_fewshot_preds.csv', index=False)"
   ]
  },
  {
   "cell_type": "markdown",
   "metadata": {},
   "source": [
    "# No few-shot"
   ]
  },
  {
   "cell_type": "code",
   "execution_count": 17,
   "metadata": {
    "id": "fb-hnHhHdhPW",
    "tags": []
   },
   "outputs": [
    {
     "name": "stdout",
     "output_type": "stream",
     "text": [
      "RB step 1: Certainly!  \n",
      "\n",
      "**Work Arrangement** refers to how and where an employee is expected to perform their job duties. The three main classifications are:  \n",
      "\n",
      "1. **Remote** – The job can be performed entirely from a location outside a traditional office (e.g., home or another remote workspace). No on-site presence is required.  \n",
      "2. **Hybrid** – The job requires a mix of remote and on-site work (e.g., a few days in the office per week/month).  \n",
      "3. **OnSite** – The job requires the employee to work primarily or exclusively at a physical workplace (e.g., office, factory, or client location).  \n",
      "\n",
      "### **What Work Arrangement Labels Look Like**  \n",
      "Job descriptions may explicitly state the arrangement (e.g., \"This is a fully remote position\") or imply it through phrases like:  \n",
      "- **Remote**: \"Work from anywhere,\" \"100% remote,\" \"No office requirement.\"  \n",
      "- **Hybrid**: \"Flexible work model,\" \"Partially remote,\" \"3 days in-office, 2 remote.\"  \n",
      "- **OnSite**: \"Must work in [location],\" \"Office-based,\" \"No remote work available.\"  \n",
      "\n",
      "Would you like me to analyze a specific job description for its work arrangement?\n",
      "\n",
      "RB step 2: Great question! When classifying work arrangements in job descriptions, certain **key phrases, patterns, and contextual clues** can help determine whether a role is **Remote, Hybrid, or OnSite**. Here’s a breakdown of common indicators:  \n",
      "\n",
      "---\n",
      "\n",
      "### **1. Remote Work Indicators**  \n",
      "- **Explicit labels**:  \n",
      "  - \"100% remote\" / \"Fully remote\"  \n",
      "  - \"Work from anywhere\" / \"Remote-first\"  \n",
      "  - \"Virtual role\" / \"No office required\"  \n",
      "  - \"Distributed team\"  \n",
      "\n",
      "- **Implied flexibility**:  \n",
      "  - \"No location restrictions\"  \n",
      "  - \"Open to candidates in [multiple time zones/countries]\"  \n",
      "  - \"Home office setup provided\"  \n",
      "  - \"Digital nomad-friendly\"  \n",
      "\n",
      "- **Red flags for \"fake remote\"**:  \n",
      "  - \"Remote but must live near [city]\" → Likely **Hybrid/OnSite**  \n",
      "  - \"Temporarily remote\" → Not truly remote  \n",
      "\n",
      "---\n",
      "\n",
      "### **2. Hybrid Work Indicators**  \n",
      "- **Explicit schedules**:  \n",
      "  - \"Hybrid role: 3 days in-office, 2 remote\"  \n",
      "  - \"Flexible work model\" (if location-dependent)  \n",
      "  - \"Partially remote\"  \n",
      "\n",
      "- **Location-dependent flexibility**:  \n",
      "  - \"Must be within commuting distance of [office]\"  \n",
      "  - \"Remote optional, but occasional office visits\"  \n",
      "  - \"Work from home [X] days per week\"  \n",
      "\n",
      "- **Vague but telling phrases**:  \n",
      "  - \"Balance of remote and in-office work\"  \n",
      "  - \"Collaborate in-person when needed\"  \n",
      "\n",
      "---\n",
      "\n",
      "### **3. OnSite Work Indicators**  \n",
      "- **Explicit requirements**:  \n",
      "  - \"Onsite position\" / \"Office-based\"  \n",
      "  - \"No remote work available\"  \n",
      "  - \"Must report to [location] daily\"  \n",
      "\n",
      "- **Job-specific constraints**:  \n",
      "  - \"Lab-based role\" / \"Factory setting\"  \n",
      "  - \"Client-facing position\" (if location-bound)  \n",
      "  - \"Must work in [city/state/country]\"  \n",
      "\n",
      "- **Implied expectations**:  \n",
      "  - \"Relocation assistance provided\" → Suggests OnSite  \n",
      "  - \"Office perks listed (e.g., gym, cafeteria)\" → Often OnSite  \n",
      "\n",
      "---\n",
      "\n",
      "### **Ambiguous Cases to Watch For**  \n",
      "- **\"Flexible\"** → Could mean Hybrid or Remote (check context).  \n",
      "- **\"Remote but occasional travel\"** → Could still be Remote if travel is rare.  \n",
      "- **\"Open to remote\"** → Might mean Hybrid (employer discretion).  \n",
      "\n",
      "Would you like me to analyze a specific job description snippet for practice?\n",
      "\n"
     ]
    }
   ],
   "source": [
    "messages_static = RBIC_static_messages(verbose=True, add_fewshot=False)"
   ]
  },
  {
   "cell_type": "code",
   "execution_count": 18,
   "metadata": {
    "tags": []
   },
   "outputs": [],
   "source": [
    "# df to store model predictions\n",
    "test_pred_df = pd.DataFrame(columns=[\"y_pred\"])"
   ]
  },
  {
   "cell_type": "code",
   "execution_count": 19,
   "metadata": {
    "tags": []
   },
   "outputs": [
    {
     "name": "stderr",
     "output_type": "stream",
     "text": [
      "100%|███████████████████████████████████████████| 99/99 [23:42<00:00, 14.37s/it]\n"
     ]
    }
   ],
   "source": [
    "for i in tqdm(range(len(test_df))):\n",
    "    desc = {\n",
    "        \"job_ad\": test_df.iloc[i].job_ad\n",
    "    }\n",
    "    desc_str = str(desc)\n",
    "\n",
    "    label = test_df.iloc[i].y_true\n",
    "    label_str = str(label)\n",
    "\n",
    "    label_pred = RBIC(messages_static, desc_str)\n",
    "\n",
    "    test_pred_df.loc[len(test_pred_df)] = label_pred\n",
    "\n",
    "# export the dataframe to a new csv file\n",
    "test_pred_df.to_csv('work_arrangements_test_set_deepseek_rbic_preds.csv', index=False)"
   ]
  },
  {
   "cell_type": "markdown",
   "metadata": {},
   "source": [
    "# Regular prompting"
   ]
  },
  {
   "cell_type": "code",
   "execution_count": 20,
   "metadata": {
    "tags": []
   },
   "outputs": [],
   "source": [
    "# df to store model predictions\n",
    "test_pred_df = pd.DataFrame(columns=[\"y_pred\"])"
   ]
  },
  {
   "cell_type": "code",
   "execution_count": 21,
   "metadata": {
    "tags": []
   },
   "outputs": [],
   "source": [
    "messages_static = [\n",
    "    {\"role\": \"system\", \"content\": \"You are an expert job-ad annotator. Your job is to read a job description and classify its work arrangement into exactly one of: Remote, Hybrid, or OnSite.\"},\n",
    "]"
   ]
  },
  {
   "cell_type": "code",
   "execution_count": 22,
   "metadata": {
    "tags": []
   },
   "outputs": [
    {
     "name": "stderr",
     "output_type": "stream",
     "text": [
      "100%|███████████████████████████████████████████| 99/99 [07:25<00:00,  4.50s/it]\n"
     ]
    }
   ],
   "source": [
    "for i in tqdm(range(len(test_df))):\n",
    "    desc = {\n",
    "        \"job_ad\": test_df.iloc[i].job_ad\n",
    "    }\n",
    "    desc_str = str(desc)\n",
    "\n",
    "    messages = copy.deepcopy(messages_static)\n",
    "    messages.append({\n",
    "        \"role\": \"user\",\n",
    "        \"content\": (\n",
    "            f\"{desc_str} Extract work-arrangements information from the job ad. \"\n",
    "            \"Return a structured work-arrangements label in the format {\\\"work_arrangements_label\\\": \\\"\\\"}.\"\n",
    "            \" Return only the JSON object with no extra details.\"\n",
    "        )\n",
    "    })\n",
    "    \n",
    "    response = client.chat.completions.create(\n",
    "        model=model,\n",
    "        messages=messages\n",
    "    )\n",
    "    answer_str = response.choices[0].message.content\n",
    "\n",
    "    # format the output\n",
    "    try:\n",
    "        answer_str_ = answer_str[answer_str.find('{'):answer_str.find('}') + 1]\n",
    "        answer_str_ = answer_str_.replace('“', '\"')\n",
    "        answer_str_ = answer_str_.replace('”', '\"')\n",
    "        answer = json.loads(answer_str_)\n",
    "        \n",
    "        label = answer['work_arrangements_label']\n",
    "    except json.JSONDecodeError:\n",
    "        print(f\"Failed to parse model output as JSON: {answer_str}\")\n",
    "        label = \"ERROR \" + answer_str\n",
    "\n",
    "    test_pred_df.loc[len(test_pred_df)] = label\n",
    "\n",
    "# export the dataframe to a new csv file\n",
    "test_pred_df.to_csv('work_arrangements_test_set_deepseek_preds.csv', index=False)"
   ]
  },
  {
   "cell_type": "markdown",
   "metadata": {},
   "source": [
    "# Metrics"
   ]
  },
  {
   "cell_type": "code",
   "execution_count": 1,
   "metadata": {},
   "outputs": [],
   "source": [
    "import pandas as pd\n",
    "from sklearn.metrics import precision_recall_fscore_support\n",
    "from sklearn.metrics import accuracy_score\n",
    "from sklearn.metrics import classification_report"
   ]
  },
  {
   "cell_type": "code",
   "execution_count": 2,
   "metadata": {},
   "outputs": [],
   "source": [
    "def get_metrics(path_to_preds):\n",
    "    preds = pd.read_csv(path_to_preds)\n",
    "    test_df = pd.read_csv('data/work_arrangements_test_set.csv')\n",
    "\n",
    "    test_df['y_pred'] = preds.y_pred.values\n",
    "\n",
    "    precision, recall, f1_score, _ = precision_recall_fscore_support(\n",
    "        test_df.y_true.values, test_df.y_pred.values, labels=['Remote', 'Hybrid', 'OnSite']\n",
    "    )\n",
    "    precision_macro, recall_macro, f1_score_macro, _ = precision_recall_fscore_support(\n",
    "        test_df.y_true.values, test_df.y_pred.values, average='macro'\n",
    "    )\n",
    "    precision_micro, recall_micro, f1_score_micro, _ = precision_recall_fscore_support(\n",
    "        test_df.y_true.values, test_df.y_pred.values, average='micro'\n",
    "    )\n",
    "    precision_weighted, recall_weighted, f1_score_weighted, _ = precision_recall_fscore_support(\n",
    "        test_df.y_true.values, test_df.y_pred.values, average='weighted'\n",
    "    )\n",
    "    acc = accuracy_score(test_df.y_true.values, test_df.y_pred.values)\n",
    "    \n",
    "    print(f'Accuracy: {round(acc * 100, 1)}')\n",
    "    res = pd.DataFrame(\n",
    "        {\n",
    "                'Precision': [*[round(p * 100, 1) for p in precision], \"\", round(precision_macro * 100, 1), round(precision_weighted * 100, 1), round(precision_micro * 100, 1)],\n",
    "                'Recall': [*[round(r * 100, 1) for r in recall], \"\", round(recall_macro * 100, 1), round(recall_weighted * 100, 1), round(recall_micro * 100, 1)],\n",
    "                'F1-score': [*[round(f1 * 100, 1) for f1 in f1_score], \"\", round(f1_score_macro * 100, 1), round(f1_score_weighted * 100, 1), round(f1_score_micro * 100, 1)],\n",
    "        },\n",
    "        index=['Remote', 'Hybrid', 'OnSite', \"\", 'macro average', 'weighted average', 'micro average']\n",
    "    )\n",
    "    return res"
   ]
  },
  {
   "cell_type": "code",
   "execution_count": 3,
   "metadata": {},
   "outputs": [
    {
     "name": "stdout",
     "output_type": "stream",
     "text": [
      "Accuracy: 91.9\n"
     ]
    },
    {
     "data": {
      "text/html": [
       "<div>\n",
       "<style scoped>\n",
       "    .dataframe tbody tr th:only-of-type {\n",
       "        vertical-align: middle;\n",
       "    }\n",
       "\n",
       "    .dataframe tbody tr th {\n",
       "        vertical-align: top;\n",
       "    }\n",
       "\n",
       "    .dataframe thead th {\n",
       "        text-align: right;\n",
       "    }\n",
       "</style>\n",
       "<table border=\"1\" class=\"dataframe\">\n",
       "  <thead>\n",
       "    <tr style=\"text-align: right;\">\n",
       "      <th></th>\n",
       "      <th>Precision</th>\n",
       "      <th>Recall</th>\n",
       "      <th>F1-score</th>\n",
       "    </tr>\n",
       "  </thead>\n",
       "  <tbody>\n",
       "    <tr>\n",
       "      <th>Remote</th>\n",
       "      <td>92.9</td>\n",
       "      <td>100.0</td>\n",
       "      <td>96.3</td>\n",
       "    </tr>\n",
       "    <tr>\n",
       "      <th>Hybrid</th>\n",
       "      <td>82.8</td>\n",
       "      <td>88.9</td>\n",
       "      <td>85.7</td>\n",
       "    </tr>\n",
       "    <tr>\n",
       "      <th>OnSite</th>\n",
       "      <td>97.6</td>\n",
       "      <td>89.1</td>\n",
       "      <td>93.2</td>\n",
       "    </tr>\n",
       "    <tr>\n",
       "      <th></th>\n",
       "      <td></td>\n",
       "      <td></td>\n",
       "      <td></td>\n",
       "    </tr>\n",
       "    <tr>\n",
       "      <th>macro average</th>\n",
       "      <td>91.1</td>\n",
       "      <td>92.7</td>\n",
       "      <td>91.7</td>\n",
       "    </tr>\n",
       "    <tr>\n",
       "      <th>weighted average</th>\n",
       "      <td>92.3</td>\n",
       "      <td>91.9</td>\n",
       "      <td>92.0</td>\n",
       "    </tr>\n",
       "    <tr>\n",
       "      <th>micro average</th>\n",
       "      <td>91.9</td>\n",
       "      <td>91.9</td>\n",
       "      <td>91.9</td>\n",
       "    </tr>\n",
       "  </tbody>\n",
       "</table>\n",
       "</div>"
      ],
      "text/plain": [
       "                 Precision Recall F1-score\n",
       "Remote                92.9  100.0     96.3\n",
       "Hybrid                82.8   88.9     85.7\n",
       "OnSite                97.6   89.1     93.2\n",
       "                                          \n",
       "macro average         91.1   92.7     91.7\n",
       "weighted average      92.3   91.9     92.0\n",
       "micro average         91.9   91.9     91.9"
      ]
     },
     "execution_count": 3,
     "metadata": {},
     "output_type": "execute_result"
    }
   ],
   "source": [
    "get_metrics('work_arrangements_test_set_deepseek_rbic_fewshot_preds.csv')"
   ]
  },
  {
   "cell_type": "code",
   "execution_count": 4,
   "metadata": {},
   "outputs": [
    {
     "name": "stdout",
     "output_type": "stream",
     "text": [
      "Accuracy: 90.9\n"
     ]
    },
    {
     "data": {
      "text/html": [
       "<div>\n",
       "<style scoped>\n",
       "    .dataframe tbody tr th:only-of-type {\n",
       "        vertical-align: middle;\n",
       "    }\n",
       "\n",
       "    .dataframe tbody tr th {\n",
       "        vertical-align: top;\n",
       "    }\n",
       "\n",
       "    .dataframe thead th {\n",
       "        text-align: right;\n",
       "    }\n",
       "</style>\n",
       "<table border=\"1\" class=\"dataframe\">\n",
       "  <thead>\n",
       "    <tr style=\"text-align: right;\">\n",
       "      <th></th>\n",
       "      <th>Precision</th>\n",
       "      <th>Recall</th>\n",
       "      <th>F1-score</th>\n",
       "    </tr>\n",
       "  </thead>\n",
       "  <tbody>\n",
       "    <tr>\n",
       "      <th>Remote</th>\n",
       "      <td>100.0</td>\n",
       "      <td>96.2</td>\n",
       "      <td>98.0</td>\n",
       "    </tr>\n",
       "    <tr>\n",
       "      <th>Hybrid</th>\n",
       "      <td>76.5</td>\n",
       "      <td>96.3</td>\n",
       "      <td>85.2</td>\n",
       "    </tr>\n",
       "    <tr>\n",
       "      <th>OnSite</th>\n",
       "      <td>97.5</td>\n",
       "      <td>84.8</td>\n",
       "      <td>90.7</td>\n",
       "    </tr>\n",
       "    <tr>\n",
       "      <th></th>\n",
       "      <td></td>\n",
       "      <td></td>\n",
       "      <td></td>\n",
       "    </tr>\n",
       "    <tr>\n",
       "      <th>macro average</th>\n",
       "      <td>91.3</td>\n",
       "      <td>92.4</td>\n",
       "      <td>91.3</td>\n",
       "    </tr>\n",
       "    <tr>\n",
       "      <th>weighted average</th>\n",
       "      <td>92.4</td>\n",
       "      <td>90.9</td>\n",
       "      <td>91.1</td>\n",
       "    </tr>\n",
       "    <tr>\n",
       "      <th>micro average</th>\n",
       "      <td>90.9</td>\n",
       "      <td>90.9</td>\n",
       "      <td>90.9</td>\n",
       "    </tr>\n",
       "  </tbody>\n",
       "</table>\n",
       "</div>"
      ],
      "text/plain": [
       "                 Precision Recall F1-score\n",
       "Remote               100.0   96.2     98.0\n",
       "Hybrid                76.5   96.3     85.2\n",
       "OnSite                97.5   84.8     90.7\n",
       "                                          \n",
       "macro average         91.3   92.4     91.3\n",
       "weighted average      92.4   90.9     91.1\n",
       "micro average         90.9   90.9     90.9"
      ]
     },
     "execution_count": 4,
     "metadata": {},
     "output_type": "execute_result"
    }
   ],
   "source": [
    "get_metrics('work_arrangements_test_set_deepseek_rbic_preds.csv')"
   ]
  },
  {
   "cell_type": "code",
   "execution_count": 5,
   "metadata": {},
   "outputs": [
    {
     "name": "stdout",
     "output_type": "stream",
     "text": [
      "Accuracy: 96.0\n"
     ]
    },
    {
     "data": {
      "text/html": [
       "<div>\n",
       "<style scoped>\n",
       "    .dataframe tbody tr th:only-of-type {\n",
       "        vertical-align: middle;\n",
       "    }\n",
       "\n",
       "    .dataframe tbody tr th {\n",
       "        vertical-align: top;\n",
       "    }\n",
       "\n",
       "    .dataframe thead th {\n",
       "        text-align: right;\n",
       "    }\n",
       "</style>\n",
       "<table border=\"1\" class=\"dataframe\">\n",
       "  <thead>\n",
       "    <tr style=\"text-align: right;\">\n",
       "      <th></th>\n",
       "      <th>Precision</th>\n",
       "      <th>Recall</th>\n",
       "      <th>F1-score</th>\n",
       "    </tr>\n",
       "  </thead>\n",
       "  <tbody>\n",
       "    <tr>\n",
       "      <th>Remote</th>\n",
       "      <td>92.9</td>\n",
       "      <td>100.0</td>\n",
       "      <td>96.3</td>\n",
       "    </tr>\n",
       "    <tr>\n",
       "      <th>Hybrid</th>\n",
       "      <td>96.0</td>\n",
       "      <td>88.9</td>\n",
       "      <td>92.3</td>\n",
       "    </tr>\n",
       "    <tr>\n",
       "      <th>OnSite</th>\n",
       "      <td>97.8</td>\n",
       "      <td>97.8</td>\n",
       "      <td>97.8</td>\n",
       "    </tr>\n",
       "    <tr>\n",
       "      <th></th>\n",
       "      <td></td>\n",
       "      <td></td>\n",
       "      <td></td>\n",
       "    </tr>\n",
       "    <tr>\n",
       "      <th>macro average</th>\n",
       "      <td>95.6</td>\n",
       "      <td>95.6</td>\n",
       "      <td>95.5</td>\n",
       "    </tr>\n",
       "    <tr>\n",
       "      <th>weighted average</th>\n",
       "      <td>96.0</td>\n",
       "      <td>96.0</td>\n",
       "      <td>95.9</td>\n",
       "    </tr>\n",
       "    <tr>\n",
       "      <th>micro average</th>\n",
       "      <td>96.0</td>\n",
       "      <td>96.0</td>\n",
       "      <td>96.0</td>\n",
       "    </tr>\n",
       "  </tbody>\n",
       "</table>\n",
       "</div>"
      ],
      "text/plain": [
       "                 Precision Recall F1-score\n",
       "Remote                92.9  100.0     96.3\n",
       "Hybrid                96.0   88.9     92.3\n",
       "OnSite                97.8   97.8     97.8\n",
       "                                          \n",
       "macro average         95.6   95.6     95.5\n",
       "weighted average      96.0   96.0     95.9\n",
       "micro average         96.0   96.0     96.0"
      ]
     },
     "execution_count": 5,
     "metadata": {},
     "output_type": "execute_result"
    }
   ],
   "source": [
    "get_metrics('work_arrangements_test_set_deepseek_preds.csv')"
   ]
  }
 ],
 "metadata": {
  "accelerator": "GPU",
  "colab": {
   "gpuType": "T4",
   "provenance": []
  },
  "kernelspec": {
   "display_name": "Python 3 (ipykernel)",
   "language": "python",
   "name": "python3"
  },
  "language_info": {
   "codemirror_mode": {
    "name": "ipython",
    "version": 3
   },
   "file_extension": ".py",
   "mimetype": "text/x-python",
   "name": "python",
   "nbconvert_exporter": "python",
   "pygments_lexer": "ipython3",
   "version": "3.9.21"
  }
 },
 "nbformat": 4,
 "nbformat_minor": 4
}
