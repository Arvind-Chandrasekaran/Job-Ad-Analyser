{
 "cells": [
  {
   "cell_type": "markdown",
   "metadata": {
    "id": "uZEuTRk7d52A"
   },
   "source": [
    "# Loading"
   ]
  },
  {
   "cell_type": "code",
   "execution_count": null,
   "metadata": {
    "colab": {
     "base_uri": "https://localhost:8080/"
    },
    "id": "x0u17xNjfAWd",
    "outputId": "36b8bf8a-beaf-4e74-e6f4-48b9e4734535",
    "scrolled": true
   },
   "outputs": [],
   "source": [
    "!pip install -U google-genai"
   ]
  },
  {
   "cell_type": "code",
   "execution_count": 90,
   "metadata": {
    "id": "AEk7r-pdfNsa"
   },
   "outputs": [],
   "source": [
    "import pandas as pd\n",
    "import numpy as np\n",
    "import copy\n",
    "import string\n",
    "import re\n",
    "import json\n",
    "import random\n",
    "import time\n",
    "from tqdm import tqdm\n",
    "\n",
    "from google import genai\n",
    "from google.genai import types"
   ]
  },
  {
   "cell_type": "code",
   "execution_count": 4,
   "metadata": {
    "id": "j-pWe9rozIWI"
   },
   "outputs": [],
   "source": [
    "client = genai.Client(api_key=\"\")"
   ]
  },
  {
   "cell_type": "code",
   "execution_count": null,
   "metadata": {
    "id": "JHMF9T-sEWSF",
    "scrolled": true
   },
   "outputs": [],
   "source": [
    "for model_info in client.models.list():\n",
    "    print(model_info.name)"
   ]
  },
  {
   "cell_type": "code",
   "execution_count": 6,
   "metadata": {
    "id": "WTGB0lQSEXoR"
   },
   "outputs": [],
   "source": [
    "for model_info in client.tunings.list():\n",
    "    print(model_info.name)"
   ]
  },
  {
   "cell_type": "markdown",
   "metadata": {
    "id": "JOYDeud4d2BS"
   },
   "source": [
    "# Dataset Prep"
   ]
  },
  {
   "cell_type": "code",
   "execution_count": 7,
   "metadata": {
    "id": "CYGMuBynis8U"
   },
   "outputs": [],
   "source": [
    "train_df = pd.read_csv('data/seniority_labelled_development_set_cleaned.csv')\n",
    "test_df = pd.read_csv('data/seniority_labelled_test_set_cleaned.csv')"
   ]
  },
  {
   "cell_type": "code",
   "execution_count": 8,
   "metadata": {
    "id": "c-bT0iFzfaOg"
   },
   "outputs": [],
   "source": [
    "# df to store model predictions\n",
    "train_format_df = pd.DataFrame(columns=[\"text_input\", \"output\"])"
   ]
  },
  {
   "cell_type": "code",
   "execution_count": 9,
   "metadata": {
    "id": "tk0EcYlv_iC4"
   },
   "outputs": [],
   "source": [
    "test_format_df = pd.DataFrame(columns=[\"text_input\", \"output\"])"
   ]
  },
  {
   "cell_type": "code",
   "execution_count": 10,
   "metadata": {
    "id": "o85Zh6AzgK4B"
   },
   "outputs": [],
   "source": [
    "for i in range(len(train_df)):\n",
    "\n",
    "    desc = f\"\"\"job_title: {train_df.iloc[i].job_title},\n",
    "job_summary: {train_df.iloc[i].job_summary},\n",
    "job_ad_details: {train_df.iloc[i].job_ad_details},\n",
    "classification_name: {train_df.iloc[i].classification_name},\n",
    "subclassification_name: {train_df.iloc[i].subclassification_name},\n",
    "\"\"\"\n",
    "\n",
    "    desc += \"\"\"\n",
    "Extract seniority label from this job description. The seniority label may be present in the set: [intermediate, senior, lead, head, experienced, entry-level, executive, assistant, senior/lead, deputy, director, trainee, associate, graduate, junior, general-manager, coordinator, student, chief, principal, apprentice, qualified, entry-level to intermediate, senior associate, standard, senior assistant, specialist, mid-level, entry level assistant, experienced assistant, manager, graduate/junior, independent, 1st year apprentice, senior-executive, junior assistant, assistant manager, supervisor, second-in-command, associate director, board, 4th year apprentice, mid-senior, regional head, middle-management, advanced, 2nd year apprentice, intermediate apprentice, level 2, assistant head, owner, post-doctoral, owner-operator, middle management, senior head, assistant director, junior-intermediate, sous, intermediate to senior, senior executive] . If not present in the set, then create a label. \"\n",
    "Respond in JSON: {\"seniority_label\": \"\"}.\n",
    "\"\"\"\n",
    "\n",
    "    label = f'{{\"seniority_label\": \"{train_df.iloc[i].y_true}\"}}.'\n",
    "    train_format_df.loc[i] = [desc, label]"
   ]
  },
  {
   "cell_type": "code",
   "execution_count": 11,
   "metadata": {
    "id": "phYKvLgoEc7X"
   },
   "outputs": [
    {
     "data": {
      "text/html": [
       "<div>\n",
       "<style scoped>\n",
       "    .dataframe tbody tr th:only-of-type {\n",
       "        vertical-align: middle;\n",
       "    }\n",
       "\n",
       "    .dataframe tbody tr th {\n",
       "        vertical-align: top;\n",
       "    }\n",
       "\n",
       "    .dataframe thead th {\n",
       "        text-align: right;\n",
       "    }\n",
       "</style>\n",
       "<table border=\"1\" class=\"dataframe\">\n",
       "  <thead>\n",
       "    <tr style=\"text-align: right;\">\n",
       "      <th></th>\n",
       "      <th>text_input</th>\n",
       "      <th>output</th>\n",
       "    </tr>\n",
       "  </thead>\n",
       "  <tbody>\n",
       "    <tr>\n",
       "      <th>0</th>\n",
       "      <td>job_title: Electrical BIM modeller - Contract ...</td>\n",
       "      <td>{\"seniority_label\": \"intermediate\"}.</td>\n",
       "    </tr>\n",
       "    <tr>\n",
       "      <th>1</th>\n",
       "      <td>job_title: Marketing Manager - Tourism,\\njob_s...</td>\n",
       "      <td>{\"seniority_label\": \"senior\"}.</td>\n",
       "    </tr>\n",
       "    <tr>\n",
       "      <th>2</th>\n",
       "      <td>job_title: Quality Coordinator Registered Nurs...</td>\n",
       "      <td>{\"seniority_label\": \"lead\"}.</td>\n",
       "    </tr>\n",
       "    <tr>\n",
       "      <th>3</th>\n",
       "      <td>job_title: National Lean and Quality Manager,\\...</td>\n",
       "      <td>{\"seniority_label\": \"head\"}.</td>\n",
       "    </tr>\n",
       "    <tr>\n",
       "      <th>4</th>\n",
       "      <td>job_title: Experienced Registered Nurses: casu...</td>\n",
       "      <td>{\"seniority_label\": \"experienced\"}.</td>\n",
       "    </tr>\n",
       "    <tr>\n",
       "      <th>...</th>\n",
       "      <td>...</td>\n",
       "      <td>...</td>\n",
       "    </tr>\n",
       "    <tr>\n",
       "      <th>2747</th>\n",
       "      <td>job_title: Truck Driver - Pneumatic Tanker,\\nj...</td>\n",
       "      <td>{\"seniority_label\": \"intermediate\"}.</td>\n",
       "    </tr>\n",
       "    <tr>\n",
       "      <th>2748</th>\n",
       "      <td>job_title: Senior UI Designer | Front End Deve...</td>\n",
       "      <td>{\"seniority_label\": \"senior\"}.</td>\n",
       "    </tr>\n",
       "    <tr>\n",
       "      <th>2749</th>\n",
       "      <td>job_title: Virtual Pharmaceutical Sales Repres...</td>\n",
       "      <td>{\"seniority_label\": \"entry-level\"}.</td>\n",
       "    </tr>\n",
       "    <tr>\n",
       "      <th>2750</th>\n",
       "      <td>job_title: Electrical Design and Draftsperson,...</td>\n",
       "      <td>{\"seniority_label\": \"experienced\"}.</td>\n",
       "    </tr>\n",
       "    <tr>\n",
       "      <th>2751</th>\n",
       "      <td>job_title: National Talent Specialist,\\njob_su...</td>\n",
       "      <td>{\"seniority_label\": \"senior\"}.</td>\n",
       "    </tr>\n",
       "  </tbody>\n",
       "</table>\n",
       "<p>2752 rows × 2 columns</p>\n",
       "</div>"
      ],
      "text/plain": [
       "                                             text_input  \\\n",
       "0     job_title: Electrical BIM modeller - Contract ...   \n",
       "1     job_title: Marketing Manager - Tourism,\\njob_s...   \n",
       "2     job_title: Quality Coordinator Registered Nurs...   \n",
       "3     job_title: National Lean and Quality Manager,\\...   \n",
       "4     job_title: Experienced Registered Nurses: casu...   \n",
       "...                                                 ...   \n",
       "2747  job_title: Truck Driver - Pneumatic Tanker,\\nj...   \n",
       "2748  job_title: Senior UI Designer | Front End Deve...   \n",
       "2749  job_title: Virtual Pharmaceutical Sales Repres...   \n",
       "2750  job_title: Electrical Design and Draftsperson,...   \n",
       "2751  job_title: National Talent Specialist,\\njob_su...   \n",
       "\n",
       "                                    output  \n",
       "0     {\"seniority_label\": \"intermediate\"}.  \n",
       "1           {\"seniority_label\": \"senior\"}.  \n",
       "2             {\"seniority_label\": \"lead\"}.  \n",
       "3             {\"seniority_label\": \"head\"}.  \n",
       "4      {\"seniority_label\": \"experienced\"}.  \n",
       "...                                    ...  \n",
       "2747  {\"seniority_label\": \"intermediate\"}.  \n",
       "2748        {\"seniority_label\": \"senior\"}.  \n",
       "2749   {\"seniority_label\": \"entry-level\"}.  \n",
       "2750   {\"seniority_label\": \"experienced\"}.  \n",
       "2751        {\"seniority_label\": \"senior\"}.  \n",
       "\n",
       "[2752 rows x 2 columns]"
      ]
     },
     "execution_count": 11,
     "metadata": {},
     "output_type": "execute_result"
    }
   ],
   "source": [
    "train_format_df"
   ]
  },
  {
   "cell_type": "code",
   "execution_count": 24,
   "metadata": {},
   "outputs": [],
   "source": [
    "train_format_df.to_csv('seniority_dataset.csv')"
   ]
  },
  {
   "cell_type": "code",
   "execution_count": 12,
   "metadata": {
    "id": "gnULDX2EP_tr"
   },
   "outputs": [],
   "source": [
    "for i in range(len(test_df)):\n",
    "\n",
    "    desc = f\"\"\"job_title: {test_df.iloc[i].job_title},\n",
    "job_summary: {test_df.iloc[i].job_summary},\n",
    "job_ad_details: {test_df.iloc[i].job_ad_details},\n",
    "classification_name: {test_df.iloc[i].classification_name},\n",
    "subclassification_name: {test_df.iloc[i].subclassification_name},\n",
    "\"\"\"\n",
    "\n",
    "    desc += \"\"\"\n",
    "Extract seniority label from this job description. The seniority label may be present in the set: [intermediate, senior, lead, head, experienced, entry-level, executive, assistant, senior/lead, deputy, director, trainee, associate, graduate, junior, general-manager, coordinator, student, chief, principal, apprentice, qualified, entry-level to intermediate, senior associate, standard, senior assistant, specialist, mid-level, entry level assistant, experienced assistant, manager, graduate/junior, independent, 1st year apprentice, senior-executive, junior assistant, assistant manager, supervisor, second-in-command, associate director, board, 4th year apprentice, mid-senior, regional head, middle-management, advanced, 2nd year apprentice, intermediate apprentice, level 2, assistant head, owner, post-doctoral, owner-operator, middle management, senior head, assistant director, junior-intermediate, sous, intermediate to senior, senior executive] . If not present in the set, then create a label. \"\n",
    "Respond in JSON: {\"seniority_label\": \"\"}.\n",
    "\"\"\"\n",
    "\n",
    "    label = test_df.iloc[i].y_true\n",
    "    test_format_df.loc[i] = [desc, label]"
   ]
  },
  {
   "cell_type": "code",
   "execution_count": 13,
   "metadata": {
    "id": "lV8gOoSsEf6e"
   },
   "outputs": [
    {
     "data": {
      "text/html": [
       "<div>\n",
       "<style scoped>\n",
       "    .dataframe tbody tr th:only-of-type {\n",
       "        vertical-align: middle;\n",
       "    }\n",
       "\n",
       "    .dataframe tbody tr th {\n",
       "        vertical-align: top;\n",
       "    }\n",
       "\n",
       "    .dataframe thead th {\n",
       "        text-align: right;\n",
       "    }\n",
       "</style>\n",
       "<table border=\"1\" class=\"dataframe\">\n",
       "  <thead>\n",
       "    <tr style=\"text-align: right;\">\n",
       "      <th></th>\n",
       "      <th>text_input</th>\n",
       "      <th>output</th>\n",
       "    </tr>\n",
       "  </thead>\n",
       "  <tbody>\n",
       "    <tr>\n",
       "      <th>0</th>\n",
       "      <td>job_title: Financial Planning and Modelling Ma...</td>\n",
       "      <td>senior</td>\n",
       "    </tr>\n",
       "    <tr>\n",
       "      <th>1</th>\n",
       "      <td>job_title: Residential Site Manager - Melbourn...</td>\n",
       "      <td>experienced</td>\n",
       "    </tr>\n",
       "    <tr>\n",
       "      <th>2</th>\n",
       "      <td>job_title: Wellbeing Administrator - Fixed Ter...</td>\n",
       "      <td>entry-level</td>\n",
       "    </tr>\n",
       "    <tr>\n",
       "      <th>3</th>\n",
       "      <td>job_title: Senior Natural Hazards and Climate ...</td>\n",
       "      <td>senior</td>\n",
       "    </tr>\n",
       "    <tr>\n",
       "      <th>4</th>\n",
       "      <td>job_title: Credit Union - Member &amp; Customer se...</td>\n",
       "      <td>intermediate</td>\n",
       "    </tr>\n",
       "    <tr>\n",
       "      <th>...</th>\n",
       "      <td>...</td>\n",
       "      <td>...</td>\n",
       "    </tr>\n",
       "    <tr>\n",
       "      <th>684</th>\n",
       "      <td>job_title: GP Family Planning,\\njob_summary: D...</td>\n",
       "      <td>experienced</td>\n",
       "    </tr>\n",
       "    <tr>\n",
       "      <th>685</th>\n",
       "      <td>job_title: Dispatch Team Member - Kerikeri,\\nj...</td>\n",
       "      <td>entry-level</td>\n",
       "    </tr>\n",
       "    <tr>\n",
       "      <th>686</th>\n",
       "      <td>job_title: Senior Property Development Officer...</td>\n",
       "      <td>senior</td>\n",
       "    </tr>\n",
       "    <tr>\n",
       "      <th>687</th>\n",
       "      <td>job_title: Client Services Associate - Mosman,...</td>\n",
       "      <td>associate</td>\n",
       "    </tr>\n",
       "    <tr>\n",
       "      <th>688</th>\n",
       "      <td>job_title: Jobs4Youth 2017 - Graduate Revenue ...</td>\n",
       "      <td>graduate</td>\n",
       "    </tr>\n",
       "  </tbody>\n",
       "</table>\n",
       "<p>689 rows × 2 columns</p>\n",
       "</div>"
      ],
      "text/plain": [
       "                                            text_input        output\n",
       "0    job_title: Financial Planning and Modelling Ma...        senior\n",
       "1    job_title: Residential Site Manager - Melbourn...   experienced\n",
       "2    job_title: Wellbeing Administrator - Fixed Ter...   entry-level\n",
       "3    job_title: Senior Natural Hazards and Climate ...        senior\n",
       "4    job_title: Credit Union - Member & Customer se...  intermediate\n",
       "..                                                 ...           ...\n",
       "684  job_title: GP Family Planning,\\njob_summary: D...   experienced\n",
       "685  job_title: Dispatch Team Member - Kerikeri,\\nj...   entry-level\n",
       "686  job_title: Senior Property Development Officer...        senior\n",
       "687  job_title: Client Services Associate - Mosman,...     associate\n",
       "688  job_title: Jobs4Youth 2017 - Graduate Revenue ...      graduate\n",
       "\n",
       "[689 rows x 2 columns]"
      ]
     },
     "execution_count": 13,
     "metadata": {},
     "output_type": "execute_result"
    }
   ],
   "source": [
    "test_format_df"
   ]
  },
  {
   "cell_type": "markdown",
   "metadata": {
    "id": "xKAnQ5BRc-E3"
   },
   "source": [
    "# Tuning"
   ]
  },
  {
   "cell_type": "code",
   "execution_count": 14,
   "metadata": {
    "id": "pk3dd32Dh6tW"
   },
   "outputs": [],
   "source": [
    "# create tuning examples\n",
    "training_dataset=types.TuningDataset(\n",
    "        examples=[\n",
    "            types.TuningExample(\n",
    "                text_input=train_format_df.iloc[i].text_input,\n",
    "                output=train_format_df.iloc[i].output,\n",
    "            )\n",
    "            for i in range(len(train_format_df))\n",
    "        ],\n",
    "    )"
   ]
  },
  {
   "cell_type": "code",
   "execution_count": 15,
   "metadata": {
    "colab": {
     "base_uri": "https://localhost:8080/"
    },
    "id": "nWl7iLath6rR",
    "outputId": "bf0f56b5-6fa7-4279-e26b-10b8057c78c2"
   },
   "outputs": [
    {
     "name": "stderr",
     "output_type": "stream",
     "text": [
      "/var/folders/7f/xkmyr8ss5zzgc7z2m_hqb_f80000gn/T/ipykernel_2185/1446187548.py:2: ExperimentalWarning: The SDK's tuning implementation is experimental, and may change in future versions.\n",
      "  tuning_job = client.tunings.tune(\n"
     ]
    }
   ],
   "source": [
    "# start tuning job\n",
    "tuning_job = client.tunings.tune(\n",
    "    base_model='models/gemini-1.5-flash-001-tuning',\n",
    "    training_dataset=training_dataset,\n",
    "    # hyperparameters\n",
    "    config=types.CreateTuningJobConfig(\n",
    "        epoch_count=5,\n",
    "        batch_size=4,\n",
    "        learning_rate=0.001,\n",
    "        tuned_model_display_name=\"seniority_tuned_model_5\"\n",
    "    )\n",
    ")"
   ]
  },
  {
   "cell_type": "code",
   "execution_count": 99,
   "metadata": {
    "colab": {
     "base_uri": "https://localhost:8080/"
    },
    "id": "xnef6qXqcfTK",
    "outputId": "225c0706-c190-4049-a342-63a364562118"
   },
   "outputs": [
    {
     "data": {
      "text/plain": [
       "TuningJob(name='tunedModels/senioritytunedmodel5-addujvt0uujq', state=<JobState.JOB_STATE_SUCCEEDED: 'JOB_STATE_SUCCEEDED'>, create_time=datetime.datetime(2025, 4, 24, 9, 17, 40, 115709, tzinfo=TzInfo(UTC)), start_time=datetime.datetime(2025, 4, 24, 9, 17, 40, 561293, tzinfo=TzInfo(UTC)), end_time=datetime.datetime(2025, 4, 24, 11, 26, 41, 818239, tzinfo=TzInfo(UTC)), update_time=datetime.datetime(2025, 4, 24, 11, 26, 41, 818239, tzinfo=TzInfo(UTC)), error=None, description='{\"description\":\"\",\"exampleInput\":\"\",\"exampleOutput\":\"\",\"showedTuningComplete\":false,\"rowsCount\":2752}', base_model='models/gemini-1.5-flash-001-tuning', tuned_model=TunedModel(model='tunedModels/senioritytunedmodel5-addujvt0uujq', endpoint='tunedModels/senioritytunedmodel5-addujvt0uujq'), supervised_tuning_spec=None, tuning_data_stats=None, encryption_spec=None, partner_model_tuning_spec=None, distillation_spec=None, experiment=None, labels=None, pipeline_job=None, tuned_model_display_name=None)"
      ]
     },
     "execution_count": 99,
     "metadata": {},
     "output_type": "execute_result"
    }
   ],
   "source": [
    "tuning_job"
   ]
  },
  {
   "cell_type": "markdown",
   "metadata": {
    "id": "K73tq8izdB_9"
   },
   "source": [
    "# Testing"
   ]
  },
  {
   "cell_type": "code",
   "execution_count": 100,
   "metadata": {
    "colab": {
     "base_uri": "https://localhost:8080/"
    },
    "id": "aQlwdZzL_q7n",
    "outputId": "52711d32-2624-4e97-e587-0bf0cdec2b61"
   },
   "outputs": [
    {
     "name": "stdout",
     "output_type": "stream",
     "text": [
      "name='tunedModels/senioritytunedmodel5-addujvt0uujq' state=<JobState.JOB_STATE_SUCCEEDED: 'JOB_STATE_SUCCEEDED'> create_time=datetime.datetime(2025, 4, 24, 9, 17, 40, 115709, tzinfo=TzInfo(UTC)) start_time=datetime.datetime(2025, 4, 24, 9, 17, 40, 561293, tzinfo=TzInfo(UTC)) end_time=datetime.datetime(2025, 4, 24, 11, 26, 41, 818239, tzinfo=TzInfo(UTC)) update_time=datetime.datetime(2025, 4, 24, 11, 26, 41, 818239, tzinfo=TzInfo(UTC)) error=None description='{\"description\":\"\",\"exampleInput\":\"\",\"exampleOutput\":\"\",\"showedTuningComplete\":false,\"rowsCount\":2752}' base_model='models/gemini-1.5-flash-001-tuning' tuned_model=TunedModel(model='tunedModels/senioritytunedmodel5-addujvt0uujq', endpoint='tunedModels/senioritytunedmodel5-addujvt0uujq') supervised_tuning_spec=None tuning_data_stats=None encryption_spec=None partner_model_tuning_spec=None distillation_spec=None experiment=None labels=None pipeline_job=None tuned_model_display_name=None\n"
     ]
    }
   ],
   "source": [
    "# fetch the tuning job again by model name\n",
    "\n",
    "tuning_job = client.tunings.get(name='tunedModels/senioritytunedmodel5-addujvt0uujq')\n",
    "print(tuning_job)"
   ]
  },
  {
   "cell_type": "markdown",
   "metadata": {
    "id": "4x5iXpUrdlHO"
   },
   "source": [
    "## Qualitative"
   ]
  },
  {
   "cell_type": "code",
   "execution_count": 105,
   "metadata": {},
   "outputs": [
    {
     "data": {
      "text/plain": [
       "'entry-level\"}.'"
      ]
     },
     "execution_count": 105,
     "metadata": {},
     "output_type": "execute_result"
    }
   ],
   "source": [
    "test_index = 174\n",
    "\n",
    "response = client.models.generate_content(\n",
    "    # change model name\n",
    "    model='tunedModels/senioritytunedmodel5-addujvt0uujq',\n",
    "    contents=test_format_df.iloc[test_index].text_input,\n",
    ")\n",
    "\n",
    "response.text"
   ]
  },
  {
   "cell_type": "code",
   "execution_count": 104,
   "metadata": {
    "id": "QfKZUXVaEkTu"
   },
   "outputs": [
    {
     "data": {
      "text/plain": [
       "'{\"seniority_label\": \"entry-level\"}.'"
      ]
     },
     "execution_count": 104,
     "metadata": {},
     "output_type": "execute_result"
    }
   ],
   "source": [
    "test_index = 2\n",
    "\n",
    "response = client.models.generate_content(\n",
    "    # change model name\n",
    "    model='tunedModels/senioritytunedmodel5-addujvt0uujq',\n",
    "    contents=test_format_df.iloc[test_index].text_input,\n",
    ")\n",
    "\n",
    "response.text"
   ]
  },
  {
   "cell_type": "markdown",
   "metadata": {
    "id": "nA5NIpcWdogI"
   },
   "source": [
    "## Quantitative"
   ]
  },
  {
   "cell_type": "code",
   "execution_count": 108,
   "metadata": {
    "id": "srmfD1aWazx7"
   },
   "outputs": [],
   "source": [
    "# create df to capture results\n",
    "results_df = pd.DataFrame(columns=[\"y_true\", \"y_pred\"])"
   ]
  },
  {
   "cell_type": "code",
   "execution_count": 109,
   "metadata": {
    "id": "ZBajrTjwEoML"
   },
   "outputs": [
    {
     "name": "stderr",
     "output_type": "stream",
     "text": [
      "100%|█████████████████████████████████████████| 689/689 [12:41<00:00,  1.11s/it]\n"
     ]
    }
   ],
   "source": [
    "for i in (pbar := tqdm(range(len(test_format_df)))):\n",
    "    pbar.set_description(\"\")\n",
    "    while True:\n",
    "        try:\n",
    "            response = client.models.generate_content(\n",
    "                model='tunedModels/senioritytunedmodel5-addujvt0uujq',\n",
    "                contents=test_format_df.iloc[i].text_input,\n",
    "            )\n",
    "            results_df.loc[len(results_df)] = [test_format_df.iloc[i].output, response.text]\n",
    "            break  # break the retry loop if successful\n",
    "\n",
    "        except Exception as e:\n",
    "            retry_delay = 60  # default delay\n",
    "            \n",
    "            pbar.set_description(f\"Waiting {retry_delay}s to retry at index {i}\")\n",
    "            time.sleep(retry_delay)"
   ]
  },
  {
   "cell_type": "markdown",
   "metadata": {},
   "source": [
    "## Post-process predcitions"
   ]
  },
  {
   "cell_type": "code",
   "execution_count": 121,
   "metadata": {},
   "outputs": [
    {
     "data": {
      "text/html": [
       "<div>\n",
       "<style scoped>\n",
       "    .dataframe tbody tr th:only-of-type {\n",
       "        vertical-align: middle;\n",
       "    }\n",
       "\n",
       "    .dataframe tbody tr th {\n",
       "        vertical-align: top;\n",
       "    }\n",
       "\n",
       "    .dataframe thead th {\n",
       "        text-align: right;\n",
       "    }\n",
       "</style>\n",
       "<table border=\"1\" class=\"dataframe\">\n",
       "  <thead>\n",
       "    <tr style=\"text-align: right;\">\n",
       "      <th></th>\n",
       "      <th>y_true</th>\n",
       "      <th>y_pred</th>\n",
       "    </tr>\n",
       "  </thead>\n",
       "  <tbody>\n",
       "    <tr>\n",
       "      <th>6</th>\n",
       "      <td>experienced</td>\n",
       "      <td>None</td>\n",
       "    </tr>\n",
       "    <tr>\n",
       "      <th>56</th>\n",
       "      <td>senior</td>\n",
       "      <td>None</td>\n",
       "    </tr>\n",
       "    <tr>\n",
       "      <th>160</th>\n",
       "      <td>intermediate</td>\n",
       "      <td>None</td>\n",
       "    </tr>\n",
       "    <tr>\n",
       "      <th>173</th>\n",
       "      <td>experienced</td>\n",
       "      <td>None</td>\n",
       "    </tr>\n",
       "    <tr>\n",
       "      <th>267</th>\n",
       "      <td>intermediate</td>\n",
       "      <td>None</td>\n",
       "    </tr>\n",
       "    <tr>\n",
       "      <th>373</th>\n",
       "      <td>entry-level</td>\n",
       "      <td>None</td>\n",
       "    </tr>\n",
       "    <tr>\n",
       "      <th>409</th>\n",
       "      <td>entry-level</td>\n",
       "      <td>None</td>\n",
       "    </tr>\n",
       "    <tr>\n",
       "      <th>536</th>\n",
       "      <td>junior</td>\n",
       "      <td>None</td>\n",
       "    </tr>\n",
       "    <tr>\n",
       "      <th>541</th>\n",
       "      <td>intermediate</td>\n",
       "      <td>None</td>\n",
       "    </tr>\n",
       "    <tr>\n",
       "      <th>588</th>\n",
       "      <td>entry-level</td>\n",
       "      <td>None</td>\n",
       "    </tr>\n",
       "  </tbody>\n",
       "</table>\n",
       "</div>"
      ],
      "text/plain": [
       "           y_true y_pred\n",
       "6     experienced   None\n",
       "56         senior   None\n",
       "160  intermediate   None\n",
       "173   experienced   None\n",
       "267  intermediate   None\n",
       "373   entry-level   None\n",
       "409   entry-level   None\n",
       "536        junior   None\n",
       "541  intermediate   None\n",
       "588   entry-level   None"
      ]
     },
     "execution_count": 121,
     "metadata": {},
     "output_type": "execute_result"
    }
   ],
   "source": [
    "results_df[results_df.y_pred.isna()]"
   ]
  },
  {
   "cell_type": "code",
   "execution_count": 152,
   "metadata": {},
   "outputs": [],
   "source": [
    "def process_pred(y_pred):\n",
    "    if y_pred == None:\n",
    "        return \"\"\n",
    "    y_pred = y_pred.replace('“', '\"')\n",
    "    y_pred = y_pred.replace('”', '\"')\n",
    "        \n",
    "    if '{' in y_pred and ':' in y_pred:\n",
    "        y_pred_ = y_pred[y_pred.find('{'):y_pred.find('}') + 1]\n",
    "        \n",
    "        try:\n",
    "            answer = json.loads(y_pred_)\n",
    "            label = answer['seniority_label'] if 'seniority_label' in answer else answer['seniority-label']\n",
    "        except Exception as e:\n",
    "            print(f\"{e}: {y_pred_}\")\n",
    "            label = \"ERROR \" + y_pred\n",
    "    else:\n",
    "        y_pred_ = y_pred.translate(str.maketrans('', '', '{\".' + \"'\"))\n",
    "        label = y_pred_[:y_pred_.find('}')]\n",
    "        \n",
    "    return label"
   ]
  },
  {
   "cell_type": "code",
   "execution_count": 153,
   "metadata": {},
   "outputs": [],
   "source": [
    "results_df['y_pred_processed'] = results_df.y_pred.map(process_pred)"
   ]
  },
  {
   "cell_type": "code",
   "execution_count": 154,
   "metadata": {},
   "outputs": [
    {
     "data": {
      "text/html": [
       "<div>\n",
       "<style scoped>\n",
       "    .dataframe tbody tr th:only-of-type {\n",
       "        vertical-align: middle;\n",
       "    }\n",
       "\n",
       "    .dataframe tbody tr th {\n",
       "        vertical-align: top;\n",
       "    }\n",
       "\n",
       "    .dataframe thead th {\n",
       "        text-align: right;\n",
       "    }\n",
       "</style>\n",
       "<table border=\"1\" class=\"dataframe\">\n",
       "  <thead>\n",
       "    <tr style=\"text-align: right;\">\n",
       "      <th></th>\n",
       "      <th>y_true</th>\n",
       "      <th>y_pred</th>\n",
       "      <th>y_pred_processed</th>\n",
       "    </tr>\n",
       "  </thead>\n",
       "  <tbody>\n",
       "    <tr>\n",
       "      <th>0</th>\n",
       "      <td>senior</td>\n",
       "      <td>head\"}.</td>\n",
       "      <td>head</td>\n",
       "    </tr>\n",
       "    <tr>\n",
       "      <th>1</th>\n",
       "      <td>experienced</td>\n",
       "      <td>experienced\"}.</td>\n",
       "      <td>experienced</td>\n",
       "    </tr>\n",
       "    <tr>\n",
       "      <th>2</th>\n",
       "      <td>entry-level</td>\n",
       "      <td>{\"seniority_label\": \"intermediate\"}.</td>\n",
       "      <td>intermediate</td>\n",
       "    </tr>\n",
       "    <tr>\n",
       "      <th>3</th>\n",
       "      <td>senior</td>\n",
       "      <td>senior\"}.</td>\n",
       "      <td>senior</td>\n",
       "    </tr>\n",
       "    <tr>\n",
       "      <th>4</th>\n",
       "      <td>intermediate</td>\n",
       "      <td>entry-level\"}.</td>\n",
       "      <td>entry-level</td>\n",
       "    </tr>\n",
       "    <tr>\n",
       "      <th>...</th>\n",
       "      <td>...</td>\n",
       "      <td>...</td>\n",
       "      <td>...</td>\n",
       "    </tr>\n",
       "    <tr>\n",
       "      <th>684</th>\n",
       "      <td>experienced</td>\n",
       "      <td>{\"seniority_label\": \"intermediate\"}.</td>\n",
       "      <td>intermediate</td>\n",
       "    </tr>\n",
       "    <tr>\n",
       "      <th>685</th>\n",
       "      <td>entry-level</td>\n",
       "      <td>entry-level\"}.</td>\n",
       "      <td>entry-level</td>\n",
       "    </tr>\n",
       "    <tr>\n",
       "      <th>686</th>\n",
       "      <td>senior</td>\n",
       "      <td>senior\"}.</td>\n",
       "      <td>senior</td>\n",
       "    </tr>\n",
       "    <tr>\n",
       "      <th>687</th>\n",
       "      <td>associate</td>\n",
       "      <td>{\"seniority_label\": \"intermediate\"}.</td>\n",
       "      <td>intermediate</td>\n",
       "    </tr>\n",
       "    <tr>\n",
       "      <th>688</th>\n",
       "      <td>graduate</td>\n",
       "      <td>qualified\"}.</td>\n",
       "      <td>qualified</td>\n",
       "    </tr>\n",
       "  </tbody>\n",
       "</table>\n",
       "<p>689 rows × 3 columns</p>\n",
       "</div>"
      ],
      "text/plain": [
       "           y_true                                y_pred y_pred_processed\n",
       "0          senior                               head\"}.             head\n",
       "1     experienced                        experienced\"}.      experienced\n",
       "2     entry-level  {\"seniority_label\": \"intermediate\"}.     intermediate\n",
       "3          senior                             senior\"}.           senior\n",
       "4    intermediate                        entry-level\"}.      entry-level\n",
       "..            ...                                   ...              ...\n",
       "684   experienced  {\"seniority_label\": \"intermediate\"}.     intermediate\n",
       "685   entry-level                        entry-level\"}.      entry-level\n",
       "686        senior                             senior\"}.           senior\n",
       "687     associate  {\"seniority_label\": \"intermediate\"}.     intermediate\n",
       "688      graduate                          qualified\"}.        qualified\n",
       "\n",
       "[689 rows x 3 columns]"
      ]
     },
     "execution_count": 154,
     "metadata": {},
     "output_type": "execute_result"
    }
   ],
   "source": [
    "results_df"
   ]
  },
  {
   "cell_type": "code",
   "execution_count": 155,
   "metadata": {
    "scrolled": true
   },
   "outputs": [
    {
     "name": "stdout",
     "output_type": "stream",
     "text": [
      "entry-level\n",
      "entry-level\n",
      "entry-level\n",
      "entry-apprentice\n",
      "entry-level\n",
      "entry-level\n",
      "entry-level\n",
      "senior assistant\n",
      "entry-level\n",
      "lead head\n",
      "entry-level\n",
      "entry-level\n",
      "entry-level\n",
      "entry-level\n",
      "entry-level\n",
      "entry-level\n",
      "entry-level\n",
      "senior assistant\n",
      "junior-mid-senior\n",
      "entry-level\n",
      "senior assistant\n",
      "entry-level\n",
      "entry-level\n",
      "entry-level\n",
      "entry-level\n",
      "entry-seniority\n",
      "junior supervisor\n",
      "intermediate-junior\n",
      "entry-level\n",
      "head-head\n",
      "entry-level\n",
      "entry-level\n",
      "entry-level\n",
      "mid-senior\n",
      "seniority-assistant\n",
      "head headhead\n",
      "entry-level\n",
      "entry-level\n",
      "entry-level\n",
      "entry-level\n",
      "entry-level\n",
      "experienced head\n",
      "entry-level\n",
      "seniority_label: experienced\n",
      "entry-level\n",
      "entry-level\n",
      "entry-level\n",
      "entry-level\n",
      "entry-level\n",
      "entry-level\n",
      "entry-level\n",
      "entry-level\n",
      "entry-level\n",
      "entry-level\n",
      "entry-level\n",
      "entry-level\n",
      "entry-level\n",
      "entry-level\n",
      "entry-level\n",
      "entry-level\n",
      "entry-level\n",
      "entry-qualified\n",
      "entry-level\n",
      "entry-level\n",
      "seniority_label: assistant\n",
      "entry-level\n",
      "entry-level\n",
      "entry-level\n",
      "entry-level\n",
      "mid-senior\n",
      "entry-level\n",
      "head senior\n",
      "entry-level\n",
      "entry-level\n",
      "entry-level\n",
      "entry-level\n",
      "seniority_label: entry-senior\n",
      "entry-level\n",
      "entry-level\n",
      "entry-level\n",
      "entry-level\n",
      "entry-level\n",
      "qualified apprentice\n",
      "entry-level\n",
      "entry-level\n",
      "entry-level\n"
     ]
    }
   ],
   "source": [
    "for i in range(results_df.shape[0]):\n",
    "    y_pred_processed = results_df.iloc[i].y_pred_processed\n",
    "    \n",
    "    for c in y_pred_processed:\n",
    "        if not c.isalpha():\n",
    "            print(y_pred_processed)\n",
    "            break"
   ]
  },
  {
   "cell_type": "code",
   "execution_count": 157,
   "metadata": {},
   "outputs": [],
   "source": [
    "def final_process(y_pred_processed):\n",
    "    if 'seniority_label: ' in y_pred_processed:\n",
    "        y_pred_processed = y_pred_processed[len('seniority_label: '):]\n",
    "    return y_pred_processed"
   ]
  },
  {
   "cell_type": "code",
   "execution_count": 158,
   "metadata": {},
   "outputs": [],
   "source": [
    "results_df['y_pred_processed'] = results_df.y_pred_processed.map(final_process)"
   ]
  },
  {
   "cell_type": "code",
   "execution_count": 159,
   "metadata": {
    "scrolled": true
   },
   "outputs": [
    {
     "name": "stdout",
     "output_type": "stream",
     "text": [
      "entry-level\n",
      "entry-level\n",
      "entry-level\n",
      "entry-apprentice\n",
      "entry-level\n",
      "entry-level\n",
      "entry-level\n",
      "senior assistant\n",
      "entry-level\n",
      "lead head\n",
      "entry-level\n",
      "entry-level\n",
      "entry-level\n",
      "entry-level\n",
      "entry-level\n",
      "entry-level\n",
      "entry-level\n",
      "senior assistant\n",
      "junior-mid-senior\n",
      "entry-level\n",
      "senior assistant\n",
      "entry-level\n",
      "entry-level\n",
      "entry-level\n",
      "entry-level\n",
      "entry-seniority\n",
      "junior supervisor\n",
      "intermediate-junior\n",
      "entry-level\n",
      "head-head\n",
      "entry-level\n",
      "entry-level\n",
      "entry-level\n",
      "mid-senior\n",
      "seniority-assistant\n",
      "head headhead\n",
      "entry-level\n",
      "entry-level\n",
      "entry-level\n",
      "entry-level\n",
      "entry-level\n",
      "experienced head\n",
      "entry-level\n",
      "entry-level\n",
      "entry-level\n",
      "entry-level\n",
      "entry-level\n",
      "entry-level\n",
      "entry-level\n",
      "entry-level\n",
      "entry-level\n",
      "entry-level\n",
      "entry-level\n",
      "entry-level\n",
      "entry-level\n",
      "entry-level\n",
      "entry-level\n",
      "entry-level\n",
      "entry-level\n",
      "entry-level\n",
      "entry-qualified\n",
      "entry-level\n",
      "entry-level\n",
      "entry-level\n",
      "entry-level\n",
      "entry-level\n",
      "entry-level\n",
      "mid-senior\n",
      "entry-level\n",
      "head senior\n",
      "entry-level\n",
      "entry-level\n",
      "entry-level\n",
      "entry-level\n",
      "entry-senior\n",
      "entry-level\n",
      "entry-level\n",
      "entry-level\n",
      "entry-level\n",
      "entry-level\n",
      "qualified apprentice\n",
      "entry-level\n",
      "entry-level\n",
      "entry-level\n"
     ]
    }
   ],
   "source": [
    "for i in range(results_df.shape[0]):\n",
    "    y_pred_processed = results_df.iloc[i].y_pred_processed\n",
    "    \n",
    "    for c in y_pred_processed:\n",
    "        if not c.isalpha():\n",
    "            print(y_pred_processed)\n",
    "            break"
   ]
  },
  {
   "cell_type": "code",
   "execution_count": 160,
   "metadata": {
    "id": "iIAMqnF-fNKG"
   },
   "outputs": [],
   "source": [
    "# export the dataframe to a new csv file\n",
    "results_df.to_csv('seniority_labelled_test_set_gemini_finetune.csv', index=False)"
   ]
  },
  {
   "cell_type": "markdown",
   "metadata": {},
   "source": [
    "# Metrics"
   ]
  },
  {
   "cell_type": "code",
   "execution_count": 1,
   "metadata": {},
   "outputs": [],
   "source": [
    "import json\n",
    "import string\n",
    "import pandas as pd\n",
    "import numpy as np\n",
    "import ast"
   ]
  },
  {
   "cell_type": "code",
   "execution_count": 2,
   "metadata": {},
   "outputs": [],
   "source": [
    "def categories(label):\n",
    "    lab = str(label).lower()\n",
    "    if 'entry' in lab:\n",
    "        return 'Entry'\n",
    "    elif 'junior' in lab or 'assistant' in lab:\n",
    "        return 'Junior'\n",
    "    elif 'intermediate' in lab or 'experienced' in lab or 'mid' in lab:\n",
    "        return 'Mid'\n",
    "    elif 'senior' in lab or 'lead' in lab:\n",
    "        return 'Senior'\n",
    "    elif any(x in lab for x in ['manager','director','chief','head','executive','principal']):\n",
    "        return 'Leadership'\n",
    "    else:\n",
    "        return 'Other'\n",
    "    \n",
    "def process(row):\n",
    "    if \"error\" not in row:\n",
    "        row = row.strip().lower()\n",
    "        if '[' in row and ']' in row:\n",
    "            row = ast.literal_eval(row[row.find('['):row.find(']')+1])\n",
    "            row = '/'.join(row)\n",
    "        return row\n",
    "    else:\n",
    "        row = row.strip().lower()\n",
    "        try:\n",
    "            row = row[row.find('{'):row.find('}')+1]\n",
    "            row_data = json.loads(row)\n",
    "        except Exception:\n",
    "            row = row[len('error'):]\n",
    "            row = row.translate(str.maketrans('', '', string.punctuation))\n",
    "            row = row.strip()\n",
    "            if len(row.split(' ')) == 1:\n",
    "                return row\n",
    "            return row\n",
    "        row_data = row_data['clue'] #if 'clue' in row_data else \n",
    "        if row_data == 'yes':\n",
    "            return \"\"\n",
    "        return row_data\n",
    "\n",
    "def get_accuracy(path_to_preds):\n",
    "    preds = pd.read_csv(path_to_preds)\n",
    "    test_df = pd.read_csv('data/seniority_labelled_test_set_cleaned.csv')\n",
    "    \n",
    "    test_df['y_pred'] = preds.values.reshape(-1)\n",
    "    test_df = test_df.fillna('')\n",
    "    \n",
    "    test_df['y_pred'] = test_df['y_pred'].map(process)\n",
    "    test_df['y_true'] = test_df['y_true'].map(process)\n",
    "    \n",
    "    test_df['y_pred_cat'] = test_df['y_pred'].map(categories)\n",
    "    test_df['y_true_cat'] = test_df['y_true'].map(categories)\n",
    "    \n",
    "    exact = (test_df['y_pred'] == test_df['y_true']).mean() * 100\n",
    "    cat = ((test_df['y_pred'] != test_df['y_true']) & (test_df['y_pred_cat'] == test_df['y_true_cat'])).mean() * 100\n",
    "    overall = ((test_df['y_pred'] == test_df['y_true']) | (test_df['y_pred_cat'] == test_df['y_true_cat'])).mean() * 100\n",
    "    \n",
    "    exact_count = (test_df['y_pred'] == test_df['y_true']).sum()\n",
    "    cat_count = ((test_df['y_pred'] != test_df['y_true']) & (test_df['y_pred_cat'] == test_df['y_true_cat'])).sum()\n",
    "    overall_count = ((test_df['y_pred'] == test_df['y_true']) | (test_df['y_pred_cat'] == test_df['y_true_cat'])).sum()\n",
    "    \n",
    "    print(f'Exact: {exact_count}/{test_df.shape[0]}')\n",
    "    print(f'Similar: {cat_count}/{test_df.shape[0]}')\n",
    "    print(f'Overall: {overall_count}/{test_df.shape[0]}')\n",
    "    \n",
    "    res = pd.DataFrame(\n",
    "        {\n",
    "            'Exact': round(exact, 2),\n",
    "            'Similar': round(cat, 2),\n",
    "            'Overall': round(overall, 2),\n",
    "        },\n",
    "        index=['Accuracy (%)']\n",
    "    )\n",
    "    \n",
    "    return res"
   ]
  },
  {
   "cell_type": "code",
   "execution_count": 4,
   "metadata": {},
   "outputs": [],
   "source": [
    "path_to_preds = 'seniority_labelled_test_set_gemini_finetune.csv'\n",
    "test_df = pd.read_csv(path_to_preds)\n",
    "test_df['y_pred'] = test_df.y_pred_processed\n",
    "test_df = test_df.fillna('')"
   ]
  },
  {
   "cell_type": "code",
   "execution_count": 5,
   "metadata": {},
   "outputs": [
    {
     "name": "stdout",
     "output_type": "stream",
     "text": [
      "Exact: 362/689\n",
      "Similar: 103/689\n",
      "Overall: 465/689\n"
     ]
    },
    {
     "data": {
      "text/html": [
       "<div>\n",
       "<style scoped>\n",
       "    .dataframe tbody tr th:only-of-type {\n",
       "        vertical-align: middle;\n",
       "    }\n",
       "\n",
       "    .dataframe tbody tr th {\n",
       "        vertical-align: top;\n",
       "    }\n",
       "\n",
       "    .dataframe thead th {\n",
       "        text-align: right;\n",
       "    }\n",
       "</style>\n",
       "<table border=\"1\" class=\"dataframe\">\n",
       "  <thead>\n",
       "    <tr style=\"text-align: right;\">\n",
       "      <th></th>\n",
       "      <th>Exact</th>\n",
       "      <th>Similar</th>\n",
       "      <th>Overall</th>\n",
       "    </tr>\n",
       "  </thead>\n",
       "  <tbody>\n",
       "    <tr>\n",
       "      <th>Accuracy (%)</th>\n",
       "      <td>52.54</td>\n",
       "      <td>14.95</td>\n",
       "      <td>67.49</td>\n",
       "    </tr>\n",
       "  </tbody>\n",
       "</table>\n",
       "</div>"
      ],
      "text/plain": [
       "              Exact  Similar  Overall\n",
       "Accuracy (%)  52.54    14.95    67.49"
      ]
     },
     "execution_count": 5,
     "metadata": {},
     "output_type": "execute_result"
    }
   ],
   "source": [
    "test_df['y_pred'] = test_df['y_pred'].map(process)\n",
    "test_df['y_true'] = test_df['y_true'].map(process)\n",
    "\n",
    "test_df['y_pred_cat'] = test_df['y_pred'].map(categories)\n",
    "test_df['y_true_cat'] = test_df['y_true'].map(categories)\n",
    "\n",
    "exact = (test_df['y_pred'] == test_df['y_true']).mean() * 100\n",
    "cat = ((test_df['y_pred'] != test_df['y_true']) & (test_df['y_pred_cat'] == test_df['y_true_cat'])).mean() * 100\n",
    "overall = ((test_df['y_pred'] == test_df['y_true']) | (test_df['y_pred_cat'] == test_df['y_true_cat'])).mean() * 100\n",
    "\n",
    "exact_count = (test_df['y_pred'] == test_df['y_true']).sum()\n",
    "cat_count = ((test_df['y_pred'] != test_df['y_true']) & (test_df['y_pred_cat'] == test_df['y_true_cat'])).sum()\n",
    "overall_count = ((test_df['y_pred'] == test_df['y_true']) | (test_df['y_pred_cat'] == test_df['y_true_cat'])).sum()\n",
    "\n",
    "print(f'Exact: {exact_count}/{test_df.shape[0]}')\n",
    "print(f'Similar: {cat_count}/{test_df.shape[0]}')\n",
    "print(f'Overall: {overall_count}/{test_df.shape[0]}')\n",
    "\n",
    "pd.DataFrame(\n",
    "    {\n",
    "        'Exact': round(exact, 2),\n",
    "        'Similar': round(cat, 2),\n",
    "        'Overall': round(overall, 2),\n",
    "    },\n",
    "    index=['Accuracy (%)']\n",
    ")"
   ]
  }
 ],
 "metadata": {
  "colab": {
   "provenance": []
  },
  "kernelspec": {
   "display_name": "Python 3 (ipykernel)",
   "language": "python",
   "name": "python3"
  },
  "language_info": {
   "codemirror_mode": {
    "name": "ipython",
    "version": 3
   },
   "file_extension": ".py",
   "mimetype": "text/x-python",
   "name": "python",
   "nbconvert_exporter": "python",
   "pygments_lexer": "ipython3",
   "version": "3.9.21"
  }
 },
 "nbformat": 4,
 "nbformat_minor": 1
}
