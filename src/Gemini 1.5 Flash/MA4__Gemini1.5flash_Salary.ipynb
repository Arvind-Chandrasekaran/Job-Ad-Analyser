{
 "cells": [
  {
   "cell_type": "markdown",
   "metadata": {
    "id": "KfXY0rMVfLPo"
   },
   "source": [
    "# Loading"
   ]
  },
  {
   "cell_type": "code",
   "execution_count": 1,
   "metadata": {
    "id": "ziGslr52Zr3j",
    "tags": []
   },
   "outputs": [],
   "source": [
    "import pandas as pd\n",
    "from tqdm import tqdm\n",
    "from openai import OpenAI\n",
    "import string\n",
    "import json\n",
    "import copy\n",
    "import math \n",
    "import re\n",
    "import time\n",
    "\n",
    "import os\n",
    "from dotenv import load_dotenv\n"
   ]
  },
  {
   "cell_type": "code",
   "execution_count": 44,
   "metadata": {
    "colab": {
     "base_uri": "https://localhost:8080/",
     "height": 290,
     "referenced_widgets": [
      "c90f9d95d9724112971633ca15a9bc17",
      "815eaca87f2947ca80d96615d282839e",
      "ecfd276855d84144b5738639d560dd13",
      "1158c5d791494d9499855467242c2afe",
      "fb996b8313df493bac9f2bf87d399333",
      "14eb1c77e7e845f99e3258f0a131cb1c",
      "b4524b58d5ea4924ac670eaa43495df4",
      "873c7b86dd074402a898e75f4c1a9d9f",
      "aa452f6697354aab9acac8d99d54d282",
      "5199350655d842b79dc58e4cf572931d",
      "704411595ee4422ba5ec2677d1d09bf2",
      "d1ba6589fd1e4d7fb72dff5945d5b584",
      "b4ed703dc2d34e958749c2fd67d7802d",
      "29f223da69eb465ea87c806021cb468b",
      "6ff94f195ba14bb2ba7029976ef73ae8",
      "f082d18974fb45e78128051e091de3d4",
      "9d4fd99da0bd46ca99a01ba4a6083ec0",
      "d537771c988c40d592555cdc9d30a3c5",
      "5d26af10ec7947069bbbe2e4228e9c29",
      "e9d0af6181f349baad80a5b418559d03",
      "af7e075217304b56a66b6c15060c0f11",
      "168d3b8fa6664c4d90c6ab12b21f14cf",
      "40700fdade18454ab4c66a05128c3318",
      "145dc132beda4065941cd208e33644b6",
      "1b22c14289584b55adddb36d43262822",
      "97b99148475644b3bfdf34f75908bdb6",
      "958e9d8b35cc48ed9d28fae0b65f2c3f",
      "de6f4730b671411fa486055ca862a30a",
      "0765a58d21d64bc8a633c135f0495d39",
      "4c542b9f7b684baba87876bbe1ddf649",
      "f3ed755eb08e474ea80e624c98ec7607",
      "0ea612f2dada409babf820a9d00413b4",
      "58c102628617430dbd870e9748a1562b",
      "6163e55a2a6e418ba011c62860e18b72",
      "f24c3813fb724acda542d07b1aaf9fbf",
      "e4ae71a066c94383bccd45162314b593",
      "ea7a7c27fca44d98923f303f070b27d3",
      "f07f8f0fec944de2b98d982cf971f27a",
      "c16b33c29b814445b3d783419abac42c",
      "9817a6d3cc454c288db17a001e704de2",
      "83c9ca2b9a8e40d48c261b6b20c53b78",
      "ae5b34887dd74a588df68478bfe6cda9",
      "9e05d0c71fb745418a746db7d4589f44",
      "0d05028ab9a641f4ba3bcb27fa01b46f",
      "621e0a27097d4b938e589fcbd077c7a4",
      "99b3bbce8009492c87ae6e86f815a8ea",
      "f8c8f920cf6649f1bd24fcedafa0cbce",
      "0e4b2a55db1f438ebb4bf9e7adb7c6d0",
      "04935fe71c6e45f7affe7618e6cf8c56",
      "9ee76928655741b5b29bc4f225998378",
      "3fbac1d570c44c60bc422539526855a1",
      "702f4210422b405ab6f146ba41449cb6",
      "9794be82692d4aa8954513b87224a66d",
      "8789c63ee6fa437cb5764cb430b0f143",
      "b820f757da7b439c8d67f44c4b85c0b3",
      "435721f0d61240debb55b9d55982edaa",
      "c073ebde4f4747ef9cde74d467f380d3",
      "f277420b3c684967a564c7f5d5774bc8",
      "cb11d9779c3346149a5b281c8cc3369b",
      "b55f9b11efc7432299bfd2bc31e8047f",
      "8338b8a8ab514cb9aa60e54ee0695713",
      "bbf07685f3e04d62b96f88edab42a5d0",
      "cac44d03666040a4bc1c6333b9136ad1",
      "c2097a7cddf14727b270f483f5cf39cd",
      "fd12a4a0d61545dca30173903feacda5",
      "c16b4bb50c64430cb913135318f7cb36",
      "38131d89a7784da3b3692e28fb2c19fd",
      "9cda9b150d3c42ff9b8894754ba64f69",
      "b0cba3cf9c314440a232789739704813",
      "84f61de0aa9e47cc9d8c1e3b30ef9003",
      "62c1e48820f248c09ed77d8519edc26d",
      "c6279d16c5e7478996c51383f9503a0c",
      "a05a84a8206f4e4f9c0b116b7bcd70f9",
      "a9d6428792564c86b805aac511381c2c",
      "9ce149a825024be78a568696de4e4175",
      "69aad4241f2247e28d822cb181319799",
      "4223d77cd9684b119740649f667d4206",
      "67a1da4e33a4492587f431d49dc98079",
      "4b83eb9995144e0b9eb57f0ebb03b106",
      "6045938926464db69ed14c39967392cf",
      "e8237f1158674661b387320d9f415db4",
      "f7640150712f4a868169b7b575573b85",
      "1d1b76b73ce942658e7f98f43f66b57e",
      "bbc83aacc44a4a14b5e93eb4234a1052",
      "926a8a0a689640afb77ec014935eda13",
      "cbd61c3d0a144de3aa5e767595d67418",
      "6e3b695d048448a8a5415a83b0e4494a",
      "39209c88852848629b72060fddefc2c7"
     ]
    },
    "id": "TIETAXxfp5Yd",
    "outputId": "a7049bdf-33e6-4864-8174-00290abcf3d8",
    "tags": []
   },
   "outputs": [
    {
     "name": "stdout",
     "output_type": "stream",
     "text": [
      "Success: Pong!\n",
      "\n"
     ]
    }
   ],
   "source": [
    "load_dotenv()\n",
    "model=\"gemini-1.5-flash\"\n",
    "\n",
    "gemini_api_key = os.getenv(\"GEMINI_API_KEY_1_5_FIVE\")\n",
    "\n",
    "client = OpenAI(\n",
    "    api_key=gemini_api_key,\n",
    "    base_url=\"https://generativelanguage.googleapis.com/v1beta/openai/\"\n",
    ")\n",
    "\n",
    "try:\n",
    "    resp = client.chat.completions.create(\n",
    "        model=\"gemini-1.5-flash\",\n",
    "        messages=[{\"role\": \"user\", \"content\": \"Ping\"}]\n",
    "    )\n",
    "    print(\"Success:\", resp.choices[0].message.content)\n",
    "except Exception as e:\n",
    "    # <-- note the closing ')' here\n",
    "    print(\"Request failed:\", type(e).__name__, e)"
   ]
  },
  {
   "cell_type": "markdown",
   "metadata": {
    "id": "q0oo9hKTZm2R"
   },
   "source": [
    "# Salary"
   ]
  },
  {
   "cell_type": "code",
   "execution_count": 3,
   "metadata": {
    "id": "CblLBHhhZm2S",
    "tags": []
   },
   "outputs": [],
   "source": [
    "train_df = pd.read_csv('../data/salary_labelled_development_set_cleaned.csv')\n",
    "test_df = pd.read_csv('../data/salary_labelled_test_set_cleaned.csv')"
   ]
  },
  {
   "cell_type": "markdown",
   "metadata": {
    "id": "4za-mTXBecX8"
   },
   "source": [
    "# RBIC Functions"
   ]
  },
  {
   "cell_type": "markdown",
   "metadata": {
    "id": "_icT_CYAfeJi"
   },
   "source": [
    "### RB\n"
   ]
  },
  {
   "cell_type": "code",
   "execution_count": 4,
   "metadata": {
    "id": "485zx9H7Zw5D",
    "tags": []
   },
   "outputs": [],
   "source": [
    "#== step 1: role explanation\n",
    "def step_1():\n",
    "    messages = [\n",
    "        {\"role\": \"system\", \"content\": \"You are an expert job ad annotator. Your task is to extract structured salary information from job descriptions in the format: min-max-currency-frequency. If salary is not found, return: 0-0-None-None.\"},\n",
    "        {\"role\": \"user\", \"content\": \"Based on your role, can you briefly explain what constitutes a salary range, currency and frequency in a job listing?\"}\n",
    "    ]\n",
    "\n",
    "    response = client.chat.completions.create(\n",
    "        model=model,\n",
    "        messages=messages\n",
    "    )\n",
    "    messages.append({\"role\": \"assistant\", \"content\": response.choices[0].message.content})\n",
    "\n",
    "    return response.choices[0].message.content, messages"
   ]
  },
  {
   "cell_type": "code",
   "execution_count": 5,
   "metadata": {
    "id": "QwpJGdGO4BV-",
    "tags": []
   },
   "outputs": [],
   "source": [
    "#== few-shot examples\n",
    "def fewshot(messages):\n",
    "    # messages.append({\n",
    "    #     \"role\": \"user\",\n",
    "    #     \"content\": \"I will provide you with some examples on how to accomplish your task\"\n",
    "    # })\n",
    "\n",
    "    # response = client.chat.completions.create(\n",
    "    #     model=model,\n",
    "    #     messages=messages\n",
    "    # )\n",
    "    # messages.append({\"role\": \"assistant\", \"content\": response.choices[0].message.content})\n",
    "\n",
    "    few_shot_indices = [1030, 1041, 1025, 1022, 1011]\n",
    "\n",
    "    for i in few_shot_indices:\n",
    "        desc = {\n",
    "          \"job_title\": train_df.iloc[i].job_title,\n",
    "          \"job_ad_details\": train_df.iloc[i].job_ad_details,\n",
    "          \"nation_short_desc\": train_df.iloc[i].nation_short_desc,\n",
    "          \"salary_additional_text\": train_df.iloc[i].salary_additional_text,\n",
    "        }\n",
    "        desc_str = str(desc)\n",
    "\n",
    "        # add the description\n",
    "        messages.append({\n",
    "          \"role\": \"user\",\n",
    "          \"content\": desc_str\n",
    "        })\n",
    "\n",
    "        label = train_df.iloc[i].y_true\n",
    "        label_str = str(label)\n",
    "\n",
    "        # add the output\n",
    "        messages.append({\n",
    "            \"role\": \"assistant\",\n",
    "            \"content\": label_str\n",
    "        })\n",
    "\n",
    "    return messages"
   ]
  },
  {
   "cell_type": "code",
   "execution_count": 6,
   "metadata": {
    "id": "zbr7XLTfmBtc",
    "tags": []
   },
   "outputs": [],
   "source": [
    "#== step 2: setting sub-task --> ask for salary patterns\n",
    "def step_2(messages):\n",
    "    messages.append({\n",
    "        \"role\": \"user\",\n",
    "        \"content\": \"As a salary extractor, what are some common phrases or numeric patterns that indicate a salary range, currency and frequency in a job description?\"\n",
    "    })\n",
    "\n",
    "    response = client.chat.completions.create(\n",
    "        model=model,\n",
    "        messages=messages\n",
    "    )\n",
    "    messages.append({\"role\": \"assistant\", \"content\": response.choices[0].message.content})\n",
    "\n",
    "    return response.choices[0].message.content, messages"
   ]
  },
  {
   "cell_type": "markdown",
   "metadata": {
    "id": "9-6MkZsUfhLi"
   },
   "source": [
    "### IC"
   ]
  },
  {
   "cell_type": "code",
   "execution_count": 7,
   "metadata": {
    "id": "f9GUkH7kmWcc",
    "tags": []
   },
   "outputs": [],
   "source": [
    "#== step 3: ask if salary info is in the description\n",
    "def step_3(messages_static, desc_str):\n",
    "    messages = copy.deepcopy(messages_static)\n",
    "\n",
    "    messages.append({\n",
    "        \"role\": \"user\",\n",
    "        \"content\": f\"{desc_str} does this job description include any salary-related information? Just respond with 'Yes' or 'No'.\"\n",
    "    })\n",
    "\n",
    "    response = client.chat.completions.create(\n",
    "        model=model,\n",
    "        messages=messages\n",
    "    )\n",
    "    messages.append({\"role\": \"assistant\", \"content\": response.choices[0].message.content})\n",
    "\n",
    "    p3_content = response.choices[0].message.content\n",
    "\n",
    "    # clean and check the response\n",
    "    response_p3 = p3_content.translate(str.maketrans('', '', string.punctuation))\n",
    "    response_p3 = response_p3.strip().lower()[:3]\n",
    "    #print(f\"step3 messages: {len(messages)}\")\n",
    "    return response_p3, messages"
   ]
  },
  {
   "cell_type": "code",
   "execution_count": 8,
   "metadata": {
    "id": "c3rIEflSmZQG",
    "tags": []
   },
   "outputs": [],
   "source": [
    "#== step 4: iterative coaching/finding clues to prevent hallucination\n",
    "def step_4(response_p3, messages):\n",
    "    if response_p3 == \"yes\":\n",
    "        messages.append({\n",
    "            \"role\": \"user\",\n",
    "            \"content\": \"Extract the salary range or salary-related phrases from the text verbatim. Respond in JSON: {\\\"Clue\\\": \\\"\\\"}.\"\n",
    "        })\n",
    "    elif response_p3 == \"no\":\n",
    "        messages.append({\n",
    "            \"role\": \"user\",\n",
    "            \"content\": \"Briefly explain why there is no salary information (e.g., 'No mention of pay or compensation'). Respond in JSON: {\\\"Clue\\\": \\\"\\\"}.\"\n",
    "        })\n",
    "    else:\n",
    "        raise Exception(f\"Unexpected model output: {response_p3}\")\n",
    "\n",
    "    response = client.chat.completions.create(\n",
    "        model=model,\n",
    "        messages=messages\n",
    "    )\n",
    "    messages.append({\"role\": \"assistant\", \"content\": response.choices[0].message.content})\n",
    "    #print(f\"step4 messages: {len(messages)}\")\n",
    "\n",
    "    return response.choices[0].message.content, messages"
   ]
  },
  {
   "cell_type": "code",
   "execution_count": 9,
   "metadata": {
    "id": "rftUWb7JZwxg",
    "tags": []
   },
   "outputs": [],
   "source": [
    "#== step 5: use the clue to generate the final output\n",
    "def step_5(messages):\n",
    "    messages.append({\n",
    "        \"role\": \"user\",\n",
    "        \"content\": (\n",
    "            \"Based on the extracted salary clue, return a structured salary in JSON. \"\n",
    "            \"Use 'nation_short_desc' to determine the correct currency. \"\n",
    "            \"Use this format: {\\\"MinSalary\\\": \\\"\\\", \\\"MaxSalary\\\": \\\"\\\", \\\"Currency\\\": \\\"\\\", \\\"Frequency\\\": \\\"\\\"}. \"\n",
    "            \"If not provided explicitly, output 0 for \\\"MinSalary\\\" and \\\"MaxSalary\\\", and \\\"None\\\" for \\\"Currency\\\" and \\\"Frequency\\\". \"\n",
    "            \"If the salary is mentioned, always output a range, where MinSalary and MaxSalary can be equal. \"\n",
    "            \"Output the currency as 3 letters. Use adverb to output frequency (annual, monthly, daily or hourly).\"\n",
    "            \"Perform floor function on the float type salary\"\n",
    "        )\n",
    "    })\n",
    "\n",
    "    response = client.chat.completions.create(\n",
    "        model=model,\n",
    "        messages=messages\n",
    "    )\n",
    "    answer_str = response.choices[0].message.content\n",
    "\n",
    "    #print(f\"step5 messages: {len(messages)}\")\n",
    "\n",
    "    # format and print the output\n",
    "    try:\n",
    "        answer_str_ = answer_str[answer_str.find('{'):answer_str.find('}') + 1]\n",
    "        answer_str_ = answer_str_.replace('“', '\"')\n",
    "        answer_str_ = answer_str_.replace('”', '\"')\n",
    "        answer = json.loads(answer_str_)\n",
    "\n",
    "        # min_salary = int(round(float(answer['MinSalary'])))\n",
    "        # max_salary = int(round(float(answer['MaxSalary'])))\n",
    "\n",
    "        # if  min_salary == 0 and  max_salary == 0:\n",
    "        #   label = \"0-0-None-None\"\n",
    "        # else:\n",
    "        #   label = f\"{min_salary}-{max_salary}-{answer['Currency'].upper()}-{answer['Frequency'].upper()}\"\n",
    "        # label = f\"{min_salary}-{max_salary}-{answer['Currency'].upper()}-{answer['Frequency'].upper()}\"\n",
    "\n",
    "        label = f\"{answer['MinSalary']}-{answer['MaxSalary']}-{answer['Currency'].upper()}-{answer['Frequency'].upper()}\"\n",
    "\n",
    "\n",
    "\n",
    "    except json.JSONDecodeError:\n",
    "        print(f\"Failed to parse model output as JSON: {answer_str}\")\n",
    "        label = \"ERROR \" + answer_str\n",
    "\n",
    "    return label, answer_str"
   ]
  },
  {
   "cell_type": "code",
   "execution_count": 10,
   "metadata": {
    "id": "MzSYBXFaS2kU",
    "tags": []
   },
   "outputs": [],
   "source": [
    "def RBIC_static_messages(verbose=False, add_fewshot=True):\n",
    "    response, messages = step_1()\n",
    "    if verbose: print(f\"RB step 1: {response}\\n\")\n",
    "\n",
    "    response, messages = step_2(messages)\n",
    "    if verbose: print(f\"RB step 2: {response}\\n\")\n",
    "\n",
    "    if add_fewshot:\n",
    "        messages = fewshot(messages)\n",
    "        if verbose: print(f\"Fewshot examples added\\n\")\n",
    "    return messages"
   ]
  },
  {
   "cell_type": "code",
   "execution_count": 12,
   "metadata": {
    "id": "QBoQh1EoTsJ2",
    "tags": []
   },
   "outputs": [],
   "source": [
    "def RBIC(messages, desc_str, verbose=False):\n",
    "    response_p3, messages_local = step_3(messages, desc_str)\n",
    "    if verbose: print(f\"IC step 1: {response_p3}\\n\")\n",
    "\n",
    "    response, messages_local = step_4(response_p3, messages_local)\n",
    "    if verbose: print(f\"IC step 2: {response}\\n\")\n",
    "\n",
    "    label, answer_str = step_5(messages_local)\n",
    "    if verbose: print(f\"IC step 3 (Final): {label}\\n\")\n",
    "    if verbose: print(f\"IC step 3 (Final Raw): {answer_str}\\n\")\n",
    "\n",
    "    return label"
   ]
  },
  {
   "cell_type": "markdown",
   "metadata": {
    "id": "0KUTpN4tetFe"
   },
   "source": [
    "# Testing"
   ]
  },
  {
   "cell_type": "markdown",
   "metadata": {
    "id": "pTCP6pXsw0nd"
   },
   "source": [
    "### Qualitative Tests"
   ]
  },
  {
   "cell_type": "code",
   "execution_count": 13,
   "metadata": {
    "colab": {
     "base_uri": "https://localhost:8080/"
    },
    "id": "9-7IV-4tSnsB",
    "outputId": "7c3df295-f35a-4dfb-9919-9cf4f97c7b2f",
    "tags": []
   },
   "outputs": [
    {
     "name": "stdout",
     "output_type": "stream",
     "text": [
      "RB step 1: A salary range in a job listing specifies the minimum and maximum compensation an employer is willing to pay for a particular role.  It's typically expressed as a numerical range (e.g., 60000-80000).\n",
      "\n",
      "The currency indicates the unit of the salary (e.g., USD, EUR, GBP).  This clarifies whether the figures are in US Dollars, Euros, British Pounds, etc.\n",
      "\n",
      "The frequency specifies how often the salary is paid (e.g., annually, monthly, bi-weekly).  This is crucial because a yearly salary is very different from a monthly salary.\n",
      "\n",
      "\n",
      "RB step 2: To reliably extract salary information, I look for several key phrases and patterns, categorized as follows:\n",
      "\n",
      "**Salary Range Indicators:**\n",
      "\n",
      "* **Explicit Ranges:**  The most straightforward: \"£30,000 - £40,000\", \"$60,000-$80,000\", \"€50,000 - 60,000\".  I pay close attention to the delimiters used (hyphens, \"to\", \"and\").  Sometimes ranges are written as \"between $X and $Y\".\n",
      "\n",
      "* **\"Up to\" or \"To\":** Phrases like \"$70,000 per year up to $90,000\", indicating a maximum salary but not a guaranteed minimum.  In these cases I would treat it as 0-70000-USD-annually.\n",
      "\n",
      "* **\"From\" or \"Starting at\":** Similar to \"up to\", these imply a minimum, but no explicit maximum.  For example, \"Starting at $50,000 annually\" would be 50000-0-USD-annually.\n",
      "\n",
      "* **Mid-range, high-range:** These are vague but can be helpful in context with other information. For example,  \"mid-range six figures\" would need additional context to be accurately translated.\n",
      "\n",
      "\n",
      "**Currency Indicators:**\n",
      "\n",
      "* **Standard Currency Symbols:** $, €, £, ¥, etc.  I look for these immediately before or after the numeric values.\n",
      "\n",
      "* **Currency Names:** \"US dollars,\" \"Euros,\" \"British pounds,\" \"Japanese yen,\" etc.\n",
      "\n",
      "* **Country Context:** If the job posting is explicitly for a specific country, it can help infer the likely currency.\n",
      "\n",
      "**Frequency Indicators:**\n",
      "\n",
      "* **Explicit Frequency:** \"per year,\" \"annually,\" \"monthly,\" \"bi-weekly,\" \"weekly,\" \"hourly\".\n",
      "\n",
      "* **Contextual Clues:** If the salary is a very high number, it's more likely to be annual. If it's relatively low, it could be monthly or hourly.\n",
      "\n",
      "**Challenges & Considerations:**\n",
      "\n",
      "* **Vague Language:**  Phrases like \"competitive salary,\" \"commensurate with experience,\" or \"negotiable\" provide no concrete numerical data.\n",
      "\n",
      "* **Salary Bands:**  Some postings use salary bands for different experience levels. I need to carefully extract the relevant range for the specific position.\n",
      "\n",
      "* **Benefits Included:**  Sometimes benefits (health insurance, bonuses) are included in the salary figure, requiring careful judgment to isolate the base salary.\n",
      "\n",
      "* **Multiple Salaries:**  A posting may list several salary ranges for different roles or experience levels within the same job description.  I need to correctly identify and extract the appropriate range.\n",
      "\n",
      "\n",
      "By combining these patterns and considering contextual clues, I can accurately extract the salary information in the requested format.  If ambiguity remains, I return 0-0-None-None to avoid inaccuracies.\n",
      "\n",
      "\n",
      "Fewshot examples added\n",
      "\n"
     ]
    }
   ],
   "source": [
    "messages_static = RBIC_static_messages(verbose=True, add_fewshot=True)"
   ]
  },
  {
   "cell_type": "code",
   "execution_count": 14,
   "metadata": {
    "colab": {
     "base_uri": "https://localhost:8080/"
    },
    "id": "63XWt1d3e1DH",
    "outputId": "d674d9a7-a086-4c5b-8ebb-de28ffd0ebb2",
    "tags": []
   },
   "outputs": [
    {
     "name": "stdout",
     "output_type": "stream",
     "text": [
      "len of messages_static 15\n",
      "IC step 1: yes\n",
      "\n",
      "IC step 2: ```json\n",
      "{\"Clue\": \"$70049.73 - $98351.39 + Super\"}\n",
      "```\n",
      "\n",
      "\n",
      "IC step 3 (Final): 70049-98351-AUD-ANNUAL\n",
      "\n",
      "IC step 3 (Final Raw): ```json\n",
      "{\n",
      "  \"MinSalary\": 70049,\n",
      "  \"MaxSalary\": 98351,\n",
      "  \"Currency\": \"AUD\",\n",
      "  \"Frequency\": \"annual\"\n",
      "}\n",
      "```\n",
      "\n",
      "\n",
      "pred = 70049-98351-AUD-ANNUAL\n",
      "truth = 70049-98351-AUD-ANNUAL\n"
     ]
    }
   ],
   "source": [
    "ind = 345\n",
    "\n",
    "desc = {\n",
    "    \"job_title\": train_df.iloc[ind].job_title,\n",
    "    \"job_ad_details\": train_df.iloc[ind].job_ad_details,\n",
    "    \"nation_short_desc\": train_df.iloc[ind].nation_short_desc,\n",
    "    \"salary_additional_text\": train_df.iloc[ind].salary_additional_text,\n",
    "  }\n",
    "desc_str = str(desc)\n",
    "\n",
    "label = train_df.iloc[ind].y_true\n",
    "label_str = str(label)\n",
    "\n",
    "print(f\"len of messages_static {len(messages_static)}\")\n",
    "label_pred = RBIC(messages_static, desc_str, verbose=True)\n",
    "\n",
    "\n",
    "print(f\"pred = {label_pred}\")\n",
    "print(f\"truth = {label_str}\")"
   ]
  },
  {
   "cell_type": "markdown",
   "metadata": {
    "id": "U2QyVlqCw5i0"
   },
   "source": [
    "### Quantitative Tests"
   ]
  },
  {
   "cell_type": "code",
   "execution_count": 15,
   "metadata": {
    "id": "E4gl8vRKBms8",
    "tags": []
   },
   "outputs": [],
   "source": [
    "# df to store model predictions\n",
    "test_pred_df = pd.DataFrame(columns=[\"y_pred\"])"
   ]
  },
  {
   "cell_type": "code",
   "execution_count": 16,
   "metadata": {
    "colab": {
     "base_uri": "https://localhost:8080/",
     "height": 89
    },
    "id": "U3qCaPABxoiR",
    "outputId": "b86ae745-e7c5-4fab-e332-18576a8c2689",
    "tags": []
   },
   "outputs": [
    {
     "data": {
      "text/html": [
       "<div>\n",
       "<style scoped>\n",
       "    .dataframe tbody tr th:only-of-type {\n",
       "        vertical-align: middle;\n",
       "    }\n",
       "\n",
       "    .dataframe tbody tr th {\n",
       "        vertical-align: top;\n",
       "    }\n",
       "\n",
       "    .dataframe thead th {\n",
       "        text-align: right;\n",
       "    }\n",
       "</style>\n",
       "<table border=\"1\" class=\"dataframe\">\n",
       "  <thead>\n",
       "    <tr style=\"text-align: right;\">\n",
       "      <th></th>\n",
       "      <th>y_pred</th>\n",
       "    </tr>\n",
       "  </thead>\n",
       "  <tbody>\n",
       "  </tbody>\n",
       "</table>\n",
       "</div>"
      ],
      "text/plain": [
       "Empty DataFrame\n",
       "Columns: [y_pred]\n",
       "Index: []"
      ]
     },
     "execution_count": 16,
     "metadata": {},
     "output_type": "execute_result"
    }
   ],
   "source": [
    "test_pred_df"
   ]
  },
  {
   "cell_type": "code",
   "execution_count": 17,
   "metadata": {},
   "outputs": [
    {
     "name": "stdout",
     "output_type": "stream",
     "text": [
      "567\n"
     ]
    }
   ],
   "source": [
    "print(len(test_df))"
   ]
  },
  {
   "cell_type": "code",
   "execution_count": 21,
   "metadata": {},
   "outputs": [],
   "source": [
    "test_pred_df2 = pd.DataFrame(columns=[\"y_pred\"])"
   ]
  },
  {
   "cell_type": "code",
   "execution_count": 26,
   "metadata": {},
   "outputs": [
    {
     "data": {
      "text/html": [
       "<div>\n",
       "<style scoped>\n",
       "    .dataframe tbody tr th:only-of-type {\n",
       "        vertical-align: middle;\n",
       "    }\n",
       "\n",
       "    .dataframe tbody tr th {\n",
       "        vertical-align: top;\n",
       "    }\n",
       "\n",
       "    .dataframe thead th {\n",
       "        text-align: right;\n",
       "    }\n",
       "</style>\n",
       "<table border=\"1\" class=\"dataframe\">\n",
       "  <thead>\n",
       "    <tr style=\"text-align: right;\">\n",
       "      <th></th>\n",
       "      <th>y_pred</th>\n",
       "    </tr>\n",
       "  </thead>\n",
       "  <tbody>\n",
       "  </tbody>\n",
       "</table>\n",
       "</div>"
      ],
      "text/plain": [
       "Empty DataFrame\n",
       "Columns: [y_pred]\n",
       "Index: []"
      ]
     },
     "execution_count": 26,
     "metadata": {},
     "output_type": "execute_result"
    }
   ],
   "source": [
    "test_pred_df3 = pd.DataFrame(columns=[\"y_pred\"])\n",
    "test_pred_df3"
   ]
  },
  {
   "cell_type": "code",
   "execution_count": 27,
   "metadata": {
    "colab": {
     "base_uri": "https://localhost:8080/"
    },
    "id": "4wjKCfK0BI8Q",
    "outputId": "1d342f04-0ce2-4259-b887-909fcc3efa05",
    "tags": []
   },
   "outputs": [
    {
     "name": "stderr",
     "output_type": "stream",
     "text": [
      " 13%|█▎        | 6/45 [00:16<01:41,  2.61s/it]"
     ]
    },
    {
     "name": "stdout",
     "output_type": "stream",
     "text": [
      "Error on row 528 (RateLimitError): Error code: 429 - [{'error': {'code': 429, 'message': 'You exceeded your current quota, please check your plan and billing details. For more information on this error, head to: https://ai.google.dev/gemini-api/docs/rate-limits.', 'status': 'RESOURCE_EXHAUSTED', 'details': [{'@type': 'type.googleapis.com/google.rpc.QuotaFailure', 'violations': [{'quotaMetric': 'generativelanguage.googleapis.com/generate_content_free_tier_requests', 'quotaId': 'GenerateRequestsPerMinutePerProjectPerModel-FreeTier', 'quotaDimensions': {'location': 'global', 'model': 'gemini-1.5-flash'}, 'quotaValue': '15'}]}, {'@type': 'type.googleapis.com/google.rpc.Help', 'links': [{'description': 'Learn more about Gemini API quotas', 'url': 'https://ai.google.dev/gemini-api/docs/rate-limits'}]}, {'@type': 'type.googleapis.com/google.rpc.RetryInfo', 'retryDelay': '19s'}]}}]. Sleeping 60 s before retry…\n"
     ]
    },
    {
     "name": "stderr",
     "output_type": "stream",
     "text": [
      " 24%|██▍       | 11/45 [01:33<04:09,  7.33s/it]"
     ]
    },
    {
     "name": "stdout",
     "output_type": "stream",
     "text": [
      "Error on row 533 (RateLimitError): Error code: 429 - [{'error': {'code': 429, 'message': 'You exceeded your current quota, please check your plan and billing details. For more information on this error, head to: https://ai.google.dev/gemini-api/docs/rate-limits.', 'status': 'RESOURCE_EXHAUSTED', 'details': [{'@type': 'type.googleapis.com/google.rpc.QuotaFailure', 'violations': [{'quotaMetric': 'generativelanguage.googleapis.com/generate_content_free_tier_requests', 'quotaId': 'GenerateRequestsPerMinutePerProjectPerModel-FreeTier', 'quotaDimensions': {'model': 'gemini-1.5-flash', 'location': 'global'}, 'quotaValue': '15'}]}, {'@type': 'type.googleapis.com/google.rpc.Help', 'links': [{'description': 'Learn more about Gemini API quotas', 'url': 'https://ai.google.dev/gemini-api/docs/rate-limits'}]}, {'@type': 'type.googleapis.com/google.rpc.RetryInfo', 'retryDelay': '1s'}]}}]. Sleeping 60 s before retry…\n"
     ]
    },
    {
     "name": "stderr",
     "output_type": "stream",
     "text": [
      " 36%|███▌      | 16/45 [02:50<03:47,  7.84s/it]"
     ]
    },
    {
     "name": "stdout",
     "output_type": "stream",
     "text": [
      "Error on row 538 (RateLimitError): Error code: 429 - [{'error': {'code': 429, 'message': 'You exceeded your current quota, please check your plan and billing details. For more information on this error, head to: https://ai.google.dev/gemini-api/docs/rate-limits.', 'status': 'RESOURCE_EXHAUSTED', 'details': [{'@type': 'type.googleapis.com/google.rpc.QuotaFailure', 'violations': [{'quotaMetric': 'generativelanguage.googleapis.com/generate_content_free_tier_requests', 'quotaId': 'GenerateRequestsPerMinutePerProjectPerModel-FreeTier', 'quotaDimensions': {'location': 'global', 'model': 'gemini-1.5-flash'}, 'quotaValue': '15'}]}, {'@type': 'type.googleapis.com/google.rpc.Help', 'links': [{'description': 'Learn more about Gemini API quotas', 'url': 'https://ai.google.dev/gemini-api/docs/rate-limits'}]}, {'@type': 'type.googleapis.com/google.rpc.RetryInfo', 'retryDelay': '44s'}]}}]. Sleeping 60 s before retry…\n"
     ]
    },
    {
     "name": "stderr",
     "output_type": "stream",
     "text": [
      " 53%|█████▎    | 24/45 [04:17<01:41,  4.85s/it]"
     ]
    },
    {
     "name": "stdout",
     "output_type": "stream",
     "text": [
      "Error on row 546 (RateLimitError): Error code: 429 - [{'error': {'code': 429, 'message': 'You exceeded your current quota, please check your plan and billing details. For more information on this error, head to: https://ai.google.dev/gemini-api/docs/rate-limits.', 'status': 'RESOURCE_EXHAUSTED', 'details': [{'@type': 'type.googleapis.com/google.rpc.QuotaFailure', 'violations': [{'quotaMetric': 'generativelanguage.googleapis.com/generate_content_free_tier_requests', 'quotaId': 'GenerateRequestsPerMinutePerProjectPerModel-FreeTier', 'quotaDimensions': {'location': 'global', 'model': 'gemini-1.5-flash'}, 'quotaValue': '15'}]}, {'@type': 'type.googleapis.com/google.rpc.Help', 'links': [{'description': 'Learn more about Gemini API quotas', 'url': 'https://ai.google.dev/gemini-api/docs/rate-limits'}]}, {'@type': 'type.googleapis.com/google.rpc.RetryInfo', 'retryDelay': '18s'}]}}]. Sleeping 60 s before retry…\n"
     ]
    },
    {
     "name": "stderr",
     "output_type": "stream",
     "text": [
      " 64%|██████▍   | 29/45 [05:35<02:02,  7.67s/it]"
     ]
    },
    {
     "name": "stdout",
     "output_type": "stream",
     "text": [
      "Error on row 551 (RateLimitError): Error code: 429 - [{'error': {'code': 429, 'message': 'You exceeded your current quota, please check your plan and billing details. For more information on this error, head to: https://ai.google.dev/gemini-api/docs/rate-limits.', 'status': 'RESOURCE_EXHAUSTED', 'details': [{'@type': 'type.googleapis.com/google.rpc.QuotaFailure', 'violations': [{'quotaMetric': 'generativelanguage.googleapis.com/generate_content_free_tier_requests', 'quotaId': 'GenerateRequestsPerMinutePerProjectPerModel-FreeTier', 'quotaDimensions': {'location': 'global', 'model': 'gemini-1.5-flash'}, 'quotaValue': '15'}]}, {'@type': 'type.googleapis.com/google.rpc.Help', 'links': [{'description': 'Learn more about Gemini API quotas', 'url': 'https://ai.google.dev/gemini-api/docs/rate-limits'}]}, {'@type': 'type.googleapis.com/google.rpc.RetryInfo', 'retryDelay': '58s'}]}}]. Sleeping 60 s before retry…\n"
     ]
    },
    {
     "name": "stderr",
     "output_type": "stream",
     "text": [
      " 89%|████████▉ | 40/45 [07:17<00:17,  3.48s/it]"
     ]
    },
    {
     "name": "stdout",
     "output_type": "stream",
     "text": [
      "Error on row 562 (RateLimitError): Error code: 429 - [{'error': {'code': 429, 'message': 'You exceeded your current quota, please check your plan and billing details. For more information on this error, head to: https://ai.google.dev/gemini-api/docs/rate-limits.', 'status': 'RESOURCE_EXHAUSTED', 'details': [{'@type': 'type.googleapis.com/google.rpc.QuotaFailure', 'violations': [{'quotaMetric': 'generativelanguage.googleapis.com/generate_content_free_tier_requests', 'quotaId': 'GenerateRequestsPerMinutePerProjectPerModel-FreeTier', 'quotaDimensions': {'location': 'global', 'model': 'gemini-1.5-flash'}, 'quotaValue': '15'}]}, {'@type': 'type.googleapis.com/google.rpc.Help', 'links': [{'description': 'Learn more about Gemini API quotas', 'url': 'https://ai.google.dev/gemini-api/docs/rate-limits'}]}, {'@type': 'type.googleapis.com/google.rpc.RetryInfo', 'retryDelay': '19s'}]}}]. Sleeping 60 s before retry…\n"
     ]
    },
    {
     "name": "stderr",
     "output_type": "stream",
     "text": [
      "100%|██████████| 45/45 [08:35<00:00, 11.45s/it]\n"
     ]
    }
   ],
   "source": [
    "for i in tqdm(range(522,len(test_df))):\n",
    "    desc = {\n",
    "        \"job_title\":            test_df.iloc[i].job_title,\n",
    "        \"job_ad_details\":       test_df.iloc[i].job_ad_details,\n",
    "        \"nation_short_desc\":    test_df.iloc[i].nation_short_desc,\n",
    "        \"salary_additional_text\": test_df.iloc[i].salary_additional_text,\n",
    "    }\n",
    "    desc_str = str(desc)\n",
    "\n",
    "    # keep retrying this same i until it succeeds\n",
    "    while True:\n",
    "        try:\n",
    "            label_pred = RBIC(messages_static, desc_str)\n",
    "            break\n",
    "        except Exception as e:\n",
    "            # catch any error (rate‐limit, network blip, parsing error, etc.)\n",
    "            print(f\"Error on row {i} ({e.__class__.__name__}): {e}. \"\n",
    "                  \"Sleeping 60 s before retry…\")\n",
    "            time.sleep(60)\n",
    "\n",
    "    # append the successful prediction to the next empty row\n",
    "    test_pred_df3.loc[len(test_pred_df3)] = label_pred\n",
    "\n",
    "# finally, save your results\n",
    "test_pred_df3.to_csv(\n",
    "    'salary_labelled_test_set_gemini_predictions.csv',\n",
    "    index=False\n",
    ")\n",
    "\n"
   ]
  },
  {
   "cell_type": "code",
   "execution_count": 28,
   "metadata": {},
   "outputs": [],
   "source": [
    "# export the dataframe to a new csv file\n",
    "test_pred_df3.to_csv('salary_labelled_test_set_gemini_predictions3.csv', index=False)"
   ]
  },
  {
   "cell_type": "code",
   "execution_count": 30,
   "metadata": {},
   "outputs": [],
   "source": [
    "test_df[['y_true']].to_csv('salary_set_ans.csv', index=False)"
   ]
  },
  {
   "cell_type": "code",
   "execution_count": 3,
   "metadata": {},
   "outputs": [
    {
     "name": "stdout",
     "output_type": "stream",
     "text": [
      "min_salary   accuracy: 88.36% (501/567)\n",
      "max_salary   accuracy: 88.54% (502/567)\n",
      "currency     accuracy: 96.65% (548/567)\n",
      "frequency    accuracy: 92.42% (524/567)\n",
      "overall accuracy: 82.19% (466/567)\n"
     ]
    }
   ],
   "source": [
    "from sklearn.metrics import classification_report, f1_score\n",
    "\n",
    "# 1. Load your files\n",
    "preds = pd.read_csv('salary_labelled_test_set_gemini_predictions.csv')\n",
    "true  = pd.read_csv('salary_set_ans.csv')\n",
    "\n",
    "# 2. Extract the columns\n",
    "df = pd.DataFrame({\n",
    "    'y_pred': preds['y_pred'],\n",
    "    'y_true': true['y_true']\n",
    "})\n",
    "\n",
    "# 3. Split both prediction and truth into 4 columns\n",
    "pred_cols = df['y_pred'].str.split('-', expand=True)\n",
    "pred_cols.columns = ['min_pred','max_pred','curr_pred','freq_pred']\n",
    "\n",
    "true_cols = df['y_true'].str.split('-', expand=True)\n",
    "true_cols.columns = ['min_true','max_true','curr_true','freq_true']\n",
    "\n",
    "df = pd.concat([df, pred_cols, true_cols], axis=1)\n",
    "\n",
    "# 4. Convert salary columns to numeric for a fair comparison\n",
    "for col in ['min_pred','max_pred','min_true','max_true']:\n",
    "    df[col] = pd.to_numeric(df[col], errors='coerce')\n",
    "\n",
    "# 5. Compute per‐field accuracies\n",
    "n = len(df)\n",
    "results = {}\n",
    "results['min_salary'] = (df['min_pred'] == df['min_true']).sum() / n\n",
    "results['max_salary'] = (df['max_pred'] == df['max_true']).sum() / n\n",
    "results['currency']   = (df['curr_pred'] == df['curr_true']).sum() / n\n",
    "results['frequency']  = (df['freq_pred'] == df['freq_true']).sum() / n\n",
    "\n",
    "# 6. Print them out\n",
    "for field, acc in results.items():\n",
    "    correct = int(acc * n)\n",
    "    print(f\"{field:12} accuracy: {acc:.2%} ({correct}/{n})\")\n",
    "\n",
    "\n",
    "    all_match = (\n",
    "    (df['min_pred']   == df['min_true']) &\n",
    "    (df['max_pred']   == df['max_true']) &\n",
    "    (df['curr_pred']  == df['curr_true']) &\n",
    "    (df['freq_pred']  == df['freq_true']))\n",
    "\n",
    "overall_acc = all_match.sum() / n\n",
    "\n",
    "print(f\"overall accuracy: {overall_acc:.2%} ({all_match.sum()}/{n})\")"
   ]
  },
  {
   "cell_type": "markdown",
   "metadata": {},
   "source": [
    "# Regular prompting"
   ]
  },
  {
   "cell_type": "code",
   "execution_count": 36,
   "metadata": {
    "tags": []
   },
   "outputs": [],
   "source": [
    "# df to store model predictions\n",
    "test_pred_df4 = pd.DataFrame(columns=[\"y_pred\"])"
   ]
  },
  {
   "cell_type": "code",
   "execution_count": 46,
   "metadata": {},
   "outputs": [
    {
     "data": {
      "text/html": [
       "<div>\n",
       "<style scoped>\n",
       "    .dataframe tbody tr th:only-of-type {\n",
       "        vertical-align: middle;\n",
       "    }\n",
       "\n",
       "    .dataframe tbody tr th {\n",
       "        vertical-align: top;\n",
       "    }\n",
       "\n",
       "    .dataframe thead th {\n",
       "        text-align: right;\n",
       "    }\n",
       "</style>\n",
       "<table border=\"1\" class=\"dataframe\">\n",
       "  <thead>\n",
       "    <tr style=\"text-align: right;\">\n",
       "      <th></th>\n",
       "      <th>y_pred</th>\n",
       "    </tr>\n",
       "  </thead>\n",
       "  <tbody>\n",
       "  </tbody>\n",
       "</table>\n",
       "</div>"
      ],
      "text/plain": [
       "Empty DataFrame\n",
       "Columns: [y_pred]\n",
       "Index: []"
      ]
     },
     "execution_count": 46,
     "metadata": {},
     "output_type": "execute_result"
    }
   ],
   "source": [
    "test_pred_df5 = pd.DataFrame(columns=[\"y_pred\"])\n",
    "test_pred_df5"
   ]
  },
  {
   "cell_type": "code",
   "execution_count": 37,
   "metadata": {
    "tags": []
   },
   "outputs": [],
   "source": [
    "messages_static = [\n",
    "    {\"role\": \"system\", \"content\": \"You are an expert job ad annotator. Your task is to extract structured salary information from job descriptions in the format: min-max-currency-frequency. If salary is not found, return: 0-0-None-None.\"},\n",
    "]"
   ]
  },
  {
   "cell_type": "code",
   "execution_count": 47,
   "metadata": {
    "tags": []
   },
   "outputs": [
    {
     "name": "stderr",
     "output_type": "stream",
     "text": [
      " 20%|██        | 16/80 [00:13<01:01,  1.03it/s]"
     ]
    },
    {
     "name": "stdout",
     "output_type": "stream",
     "text": [
      "Error on row 503 (RateLimitError): Error code: 429 - [{'error': {'code': 429, 'message': 'You exceeded your current quota, please check your plan and billing details. For more information on this error, head to: https://ai.google.dev/gemini-api/docs/rate-limits.', 'status': 'RESOURCE_EXHAUSTED', 'details': [{'@type': 'type.googleapis.com/google.rpc.QuotaFailure', 'violations': [{'quotaMetric': 'generativelanguage.googleapis.com/generate_content_free_tier_requests', 'quotaId': 'GenerateRequestsPerMinutePerProjectPerModel-FreeTier', 'quotaDimensions': {'location': 'global', 'model': 'gemini-1.5-flash'}, 'quotaValue': '15'}]}, {'@type': 'type.googleapis.com/google.rpc.Help', 'links': [{'description': 'Learn more about Gemini API quotas', 'url': 'https://ai.google.dev/gemini-api/docs/rate-limits'}]}, {'@type': 'type.googleapis.com/google.rpc.RetryInfo', 'retryDelay': '39s'}]}}]. Sleeping 60s before retry…\n"
     ]
    },
    {
     "name": "stderr",
     "output_type": "stream",
     "text": [
      " 49%|████▉     | 39/80 [01:32<00:37,  1.10it/s]"
     ]
    },
    {
     "name": "stdout",
     "output_type": "stream",
     "text": [
      "Error on row 526 (RateLimitError): Error code: 429 - [{'error': {'code': 429, 'message': 'You exceeded your current quota, please check your plan and billing details. For more information on this error, head to: https://ai.google.dev/gemini-api/docs/rate-limits.', 'status': 'RESOURCE_EXHAUSTED', 'details': [{'@type': 'type.googleapis.com/google.rpc.QuotaFailure', 'violations': [{'quotaMetric': 'generativelanguage.googleapis.com/generate_content_free_tier_requests', 'quotaId': 'GenerateRequestsPerMinutePerProjectPerModel-FreeTier', 'quotaDimensions': {'location': 'global', 'model': 'gemini-1.5-flash'}, 'quotaValue': '15'}]}, {'@type': 'type.googleapis.com/google.rpc.Help', 'links': [{'description': 'Learn more about Gemini API quotas', 'url': 'https://ai.google.dev/gemini-api/docs/rate-limits'}]}, {'@type': 'type.googleapis.com/google.rpc.RetryInfo', 'retryDelay': '19s'}]}}]. Sleeping 60s before retry…\n"
     ]
    },
    {
     "name": "stderr",
     "output_type": "stream",
     "text": [
      " 69%|██████▉   | 55/80 [02:47<00:20,  1.21it/s]"
     ]
    },
    {
     "name": "stdout",
     "output_type": "stream",
     "text": [
      "Error on row 542 (RateLimitError): Error code: 429 - [{'error': {'code': 429, 'message': 'You exceeded your current quota, please check your plan and billing details. For more information on this error, head to: https://ai.google.dev/gemini-api/docs/rate-limits.', 'status': 'RESOURCE_EXHAUSTED', 'details': [{'@type': 'type.googleapis.com/google.rpc.QuotaFailure', 'violations': [{'quotaMetric': 'generativelanguage.googleapis.com/generate_content_free_tier_requests', 'quotaId': 'GenerateRequestsPerMinutePerProjectPerModel-FreeTier', 'quotaDimensions': {'location': 'global', 'model': 'gemini-1.5-flash'}, 'quotaValue': '15'}]}, {'@type': 'type.googleapis.com/google.rpc.Help', 'links': [{'description': 'Learn more about Gemini API quotas', 'url': 'https://ai.google.dev/gemini-api/docs/rate-limits'}]}, {'@type': 'type.googleapis.com/google.rpc.RetryInfo', 'retryDelay': '5s'}]}}]. Sleeping 60s before retry…\n"
     ]
    },
    {
     "name": "stderr",
     "output_type": "stream",
     "text": [
      " 89%|████████▉ | 71/80 [04:03<00:07,  1.13it/s]"
     ]
    },
    {
     "name": "stdout",
     "output_type": "stream",
     "text": [
      "Error on row 558 (RateLimitError): Error code: 429 - [{'error': {'code': 429, 'message': 'You exceeded your current quota, please check your plan and billing details. For more information on this error, head to: https://ai.google.dev/gemini-api/docs/rate-limits.', 'status': 'RESOURCE_EXHAUSTED', 'details': [{'@type': 'type.googleapis.com/google.rpc.QuotaFailure', 'violations': [{'quotaMetric': 'generativelanguage.googleapis.com/generate_content_free_tier_requests', 'quotaId': 'GenerateRequestsPerMinutePerProjectPerModel-FreeTier', 'quotaDimensions': {'location': 'global', 'model': 'gemini-1.5-flash'}, 'quotaValue': '15'}]}, {'@type': 'type.googleapis.com/google.rpc.Help', 'links': [{'description': 'Learn more about Gemini API quotas', 'url': 'https://ai.google.dev/gemini-api/docs/rate-limits'}]}, {'@type': 'type.googleapis.com/google.rpc.RetryInfo', 'retryDelay': '49s'}]}}]. Sleeping 60s before retry…\n"
     ]
    },
    {
     "name": "stderr",
     "output_type": "stream",
     "text": [
      "100%|██████████| 80/80 [05:13<00:00,  3.92s/it]\n"
     ]
    }
   ],
   "source": [
    "for i in tqdm(range(487,len(test_df))):\n",
    "    desc = {\n",
    "        \"job_title\":              test_df.iloc[i].job_title,\n",
    "        \"job_ad_details\":         test_df.iloc[i].job_ad_details,\n",
    "        \"nation_short_desc\":      test_df.iloc[i].nation_short_desc,\n",
    "        \"salary_additional_text\": test_df.iloc[i].salary_additional_text,\n",
    "    }\n",
    "    desc_str = str(desc)\n",
    "\n",
    "    # rebuild the prompt messages for this row\n",
    "    messages = copy.deepcopy(messages_static)\n",
    "    messages.append({\n",
    "        \"role\": \"user\",\n",
    "        \"content\": (\n",
    "            f\"{desc_str} Extract structured salary information from this job description in the format: \"\n",
    "            \"min-max-currency-frequency. Respond in JSON: \"\n",
    "            \"{\\\"MinSalary\\\": \\\"\\\", \\\"MaxSalary\\\": \\\"\\\", \\\"Currency\\\": \\\"\\\", \\\"Frequency\\\": \\\"\\\"}. \"\n",
    "            \"If not provided explicitly, output 0 for MinSalary and MaxSalary, and \\\"None\\\" for Currency and Frequency. \"\n",
    "            \"If the salary is mentioned, always output a range, where MinSalary and MaxSalary can be equal. \"\n",
    "            \"Use nation_short_desc to determine the correct currency as 3 letters, and use an adverb for frequency \"\n",
    "            \"(annual, monthly, daily or hourly).\"\n",
    "        )\n",
    "    })\n",
    "\n",
    "    # retry the API call on any error, pausing 60s each time\n",
    "    while True:\n",
    "        try:\n",
    "            response = client.chat.completions.create(\n",
    "                model=model,\n",
    "                messages=messages\n",
    "            )\n",
    "            break\n",
    "        except Exception as e:\n",
    "            print(f\"Error on row {i} ({e.__class__.__name__}): {e}. Sleeping 60s before retry…\")\n",
    "            time.sleep(60)\n",
    "\n",
    "    answer_str = response.choices[0].message.content\n",
    "\n",
    "    # extract the JSON snippet and parse it\n",
    "    try:\n",
    "        # grab the first {...} block\n",
    "        answer_json = answer_str[answer_str.find('{'): answer_str.rfind('}')+1]\n",
    "        # replace any fancy quotes\n",
    "        answer_json = answer_json.replace('“', '\"').replace('”', '\"')\n",
    "        data = json.loads(answer_json)\n",
    "\n",
    "        label = (\n",
    "            f\"{data['MinSalary']}-\"\n",
    "            f\"{data['MaxSalary']}-\"\n",
    "            f\"{data['Currency'].upper()}-\"\n",
    "            f\"{data['Frequency'].upper()}\"\n",
    "        )\n",
    "    except (ValueError, json.JSONDecodeError, KeyError) as parse_err:\n",
    "        print(f\"Failed to parse JSON on row {i}: {answer_str}\")\n",
    "        label = \"ERROR \" + answer_str\n",
    "\n",
    "    # append to the next empty row\n",
    "    test_pred_df5.loc[len(test_pred_df5)] = label\n",
    "\n"
   ]
  },
  {
   "cell_type": "code",
   "execution_count": 48,
   "metadata": {},
   "outputs": [],
   "source": [
    "test_pred_df5.to_csv(\n",
    "    'salary_labelled_test_set_gemini_preds_with_simple_prompt2.csv',\n",
    "    index=False)"
   ]
  },
  {
   "cell_type": "code",
   "execution_count": 52,
   "metadata": {},
   "outputs": [],
   "source": [
    "import math\n",
    "\n",
    "# 1. Load your CSV (adjust filename as needed)\n",
    "df = pd.read_csv('salary_labelled_test_set_gemini_preds_with_simple_prompt.csv')\n",
    "\n",
    "# 2. Define a function to floor the two salary values\n",
    "def floor_salary_range(s: str) -> str:\n",
    "    try:\n",
    "        # split from the right into exactly 4 parts: min, max, currency, frequency\n",
    "        min_str, max_str, currency, freq = s.rsplit('-', 3)\n",
    "        # floor each numeric part\n",
    "        min_fl = math.floor(float(min_str))\n",
    "        max_fl = math.floor(float(max_str))\n",
    "        # reassemble\n",
    "        return f\"{min_fl}-{max_fl}-{currency}-{freq}\"\n",
    "    except Exception:\n",
    "        # if anything goes wrong (e.g. unexpected format), leave as-is\n",
    "        return s\n",
    "\n",
    "# 3. Apply to the column\n",
    "df['y_pred'] = df['y_pred'].apply(floor_salary_range)\n",
    "\n",
    "# 4. Save out\n",
    "df.to_csv('y_pred_floored.csv', index=False)\n"
   ]
  },
  {
   "cell_type": "code",
   "execution_count": 2,
   "metadata": {},
   "outputs": [
    {
     "name": "stdout",
     "output_type": "stream",
     "text": [
      "min_salary   accuracy: 88.18% (500/567)\n",
      "max_salary   accuracy: 87.83% (498/567)\n",
      "currency     accuracy: 96.83% (549/567)\n",
      "frequency    accuracy: 96.65% (548/567)\n",
      "overall accuracy: 83.42% (473/567)\n"
     ]
    }
   ],
   "source": [
    "import pandas as pd\n",
    "import numpy as np\n",
    "\n",
    "# 1. Load your files\n",
    "preds = pd.read_csv('y_pred_floored.csv')\n",
    "true  = pd.read_csv('salary_set_ans.csv')\n",
    "\n",
    "# 2. Build a single DataFrame\n",
    "df = pd.DataFrame({\n",
    "    'y_pred': preds['y_pred'],\n",
    "    'y_true': true['y_true']\n",
    "})\n",
    "\n",
    "# 3. Split both prediction and truth into 4 columns\n",
    "pred_cols = df['y_pred'].str.split('-', expand=True)\n",
    "pred_cols.columns = ['min_pred','max_pred','curr_pred','freq_pred']\n",
    "\n",
    "true_cols = df['y_true'].str.split('-', expand=True)\n",
    "true_cols.columns = ['min_true','max_true','curr_true','freq_true']\n",
    "\n",
    "df = pd.concat([df, pred_cols, true_cols], axis=1)\n",
    "\n",
    "# 4. Convert salary columns to numeric for a fair comparison\n",
    "for col in ['min_pred','max_pred','min_true','max_true']:\n",
    "    df[col] = pd.to_numeric(df[col], errors='coerce')\n",
    "\n",
    "# 5. Compute per‐field accuracies\n",
    "n = len(df)\n",
    "results = {}\n",
    "results['min_salary'] = (df['min_pred'] == df['min_true']).sum() / n\n",
    "results['max_salary'] = (df['max_pred'] == df['max_true']).sum() / n\n",
    "results['currency']   = (df['curr_pred'] == df['curr_true']).sum() / n\n",
    "results['frequency']  = (df['freq_pred'] == df['freq_true']).sum() / n\n",
    "\n",
    "# 6. Print them out\n",
    "for field, acc in results.items():\n",
    "    correct = int(acc * n)\n",
    "    print(f\"{field:12} accuracy: {acc:.2%} ({correct}/{n})\")\n",
    "\n",
    "\n",
    "all_match = (\n",
    "    (df['min_pred']   == df['min_true']) &\n",
    "    (df['max_pred']   == df['max_true']) &\n",
    "    (df['curr_pred']  == df['curr_true']) &\n",
    "    (df['freq_pred']  == df['freq_true']))\n",
    "\n",
    "overall_acc = all_match.sum() / n\n",
    "\n",
    "print(f\"overall accuracy: {overall_acc:.2%} ({all_match.sum()}/{n})\")"
   ]
  }
 ],
 "metadata": {
  "accelerator": "GPU",
  "colab": {
   "gpuType": "T4",
   "provenance": []
  },
  "kernelspec": {
   "display_name": "Python (venv)",
   "language": "python",
   "name": "venv"
  },
  "language_info": {
   "codemirror_mode": {
    "name": "ipython",
    "version": 3
   },
   "file_extension": ".py",
   "mimetype": "text/x-python",
   "name": "python",
   "nbconvert_exporter": "python",
   "pygments_lexer": "ipython3",
   "version": "3.11.3"
  }
 },
 "nbformat": 4,
 "nbformat_minor": 4
}
