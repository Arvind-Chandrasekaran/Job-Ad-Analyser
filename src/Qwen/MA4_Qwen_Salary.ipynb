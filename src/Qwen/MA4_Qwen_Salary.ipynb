{
  "cells": [
    {
      "cell_type": "code",
      "execution_count": null,
      "metadata": {
        "id": "tfitb1i0yk2U"
      },
      "outputs": [],
      "source": [
        "import string\n",
        "import json\n",
        "import copy\n",
        "from tqdm import tqdm\n",
        "import re\n",
        "import pandas as pd"
      ]
    },
    {
      "cell_type": "code",
      "execution_count": null,
      "metadata": {
        "id": "mR1CZOR2OFag"
      },
      "outputs": [],
      "source": [
        "train_df = pd.read_csv(\"data/salary_labelled_development_set_cleaned.csv\")\n",
        "test_df = pd.read_csv('data/salary_labelled_test_set_cleaned.csv')"
      ]
    },
    {
      "cell_type": "code",
      "execution_count": null,
      "metadata": {
        "colab": {
          "base_uri": "https://localhost:8080/",
          "height": 827
        },
        "id": "epn0zP4zjAA4",
        "outputId": "ef6ebe53-9642-4dd4-e2ab-bc4ba85ee6b9"
      },
      "outputs": [
        {
          "data": {
            "application/vnd.google.colaboratory.intrinsic+json": {
              "summary": "{\n  \"name\": \"train_df\",\n  \"rows\": 2253,\n  \"fields\": [\n    {\n      \"column\": \"job_id\",\n      \"properties\": {\n        \"dtype\": \"number\",\n        \"std\": 7263613,\n        \"min\": 51233414,\n        \"max\": 79393653,\n        \"num_unique_values\": 2252,\n        \"samples\": [\n          73131234,\n          77513643,\n          74171950\n        ],\n        \"semantic_type\": \"\",\n        \"description\": \"\"\n      }\n    },\n    {\n      \"column\": \"job_title\",\n      \"properties\": {\n        \"dtype\": \"string\",\n        \"num_unique_values\": 2075,\n        \"samples\": [\n          \"Product Marketing Manager - Ecosystem\",\n          \"Power Platform Developer\",\n          \"Loom Machine Operator\"\n        ],\n        \"semantic_type\": \"\",\n        \"description\": \"\"\n      }\n    },\n    {\n      \"column\": \"job_ad_details\",\n      \"properties\": {\n        \"dtype\": \"string\",\n        \"num_unique_values\": 2208,\n        \"samples\": [\n          \"This is a casual position at HEP 4\\u00a0classification,\\u00a0$42.59 per hour,\\u00a0working\\u00a0one\\u202fto five days a week depending on the seasonal requirements of the department.\\u00a0Make a positive impact on the lives of our studentsJoin a highly motivated and enthusiastic teamThe position will be located at any of our Melbourne campusesAbout the roleStudent Advisor Assistants\\u00a0play a pivotal role in supporting our students at Victoria University. As the first point of contact for current and future student enquiries, you will be supporting our students to navigate university systems and processes, their personal and academic goals, and setting them up to get the most out of their student experience.\\u00a0\\u00a0In this role you will work closely with our Advisory teams, Student Administration and college staff to support domestic, international, TAFE and higher education students. Our Service centres are located across multiple campuses.About the personThe successful candidate:Has a customer service mindset and wants to make a positive difference to the lives of our studentsHas experience in customer service roles and record management systems (preferably in student services)Has the ability to collaborate and work effectively with colleagues and stakeholders to deliver exemplary student supportKeeps a level head in busy and sometimes stressful situations, proactively identifies and resolves issues where possible and appropriately escalates where necessaryCan equally work autonomously and collaboratively as neededDutiesAn example of duties you may perform will include:Provide accurate, timely and documented advice to potential and current students on a range of general matters including course information, administration, admissions, enrolment fees and on using student systemsResolve first level student enquiries efficiently and effectively and escalate where appropriate to Student AdvisorsProvide student service to the performance and quality standards of Student Services Customer Service Framework and the Student Advising ModelBenefitsProfessional development opportunitiesFlexible working arrangements availableOn-site gym and fitness centre and more!How to applyFor a position description and to submit an application please\\u00a0visit our career website: https://fa-ercy-saasfaprod1.fa.ocs.oraclecloud.com/hcmUI/CandidateExperience/en/sites/CX_1/job/11830/?utm_medium=jobshareApplications must include:A cover letter,Your curriculum vitae/resume,Your responses to key selection criteriaEvidence of applicable qualifications, licences and registrationsFor further information relating to the position, please contact Petross Renfrey,\\u00a0Team Leader Student Advising,\\u00a0by email at\\u00a0Petross.Renfrey@vu.edu.auFor further information relating to the recruitment process, please contact Shiva Foroutan, Recruitment Officer by email at\\u00a0Shiva.Foroutan@vu.edu.auApplications close 11:59pm on Tuesday the 4 of July, 2023.\",\n          \"Working with Customers, Sales Engineer, Ops and various vendors to validate and deploy customers' order requirements based on the general technical knowledge of the data centre facility. Support Sales Engineer team with close coordination with relevant PIC within Ops team to ensure smooth delivery within deployment timeline based on Customers' requirement.Client DetailsWe are currently partnering with a leading data center company that is looking for a competent Implementation Manager to help them in this time of growth.DescriptionAssist Sales Team to formulate technical proposals for the customers during tender process with the most ideal solution for both customers and the company. Manage end to end delivery process and handover with customers on DC site.Supports such as on a piece of a larger project as assignedManages high-level project cost control and procurementSchedules implementation meetings with customers and cross-functional groupsCollaborates with cross-functional teams to resolve issues during project implementationSupport to liaison with customers to facilitate smooth service delivery and ensure provisioned services meet and exceed customers' expectationsServes as customers' point of contact for any escalation of issues during project implementation for small to medium scale projectEngages and works with Sales and Operations team to manage and engage third party vendors and suppliers for services and materialsProfileBachelor degree in Electrical/Mechanical EngineeringData Center experience is a plus3-5 years experiences in project management is preferableHighly organised with outstanding attention to detail and a consistent dedication to resolving issuesFlexible and able to work through challenges related to unique and non-standard solutionsSelf-driven personal and able to work independently with minimal supervisionExperienced in using Microsoft Project, Microsoft Visio or AutocadMust be able to travel, as necessary, to manage customer projectsJob OfferGreat career prospects as the growth opportunity in the company is tremendous.The chance to really impact the decisions of a very successful business and input into process, procedures & systemsTo apply online please click the 'Apply' button below. For a confidential discussion about this role please contact Veny Adilia on +62 21 2958 8846.\",\n          \"\\n\\u670d\\u52d9\\u54e1\\u6bcf\\u5c0f\\u6642$58-$60\\n\\u7063\\u4ed4\\u96c6\\u6210\\u4e2d\\u5fc3\\u9ea5\\u7576\\u52de\\u62db\\u8058\\u9867\\u5ba2\\u670d\\u52d9\\u7d44\\u54e1\\n\\u7121\\u9700\\u7d93\\u9a57\\n\\u53ea\\u8981\\u4f60\\u559c\\u6b61\\u8207\\u4eba\\u4e92\\u52d5\\uff0c\\u559c\\u6b61\\u5c55\\u73fe\\u7b11\\u5bb9\\u5177\\u5718\\u968a\\u7cbe\\u795e\\u4e26\\u7a4d\\u6975\\u4e3b\\u52d5, \\u4e00\\u5b9a\\u4e0d\\u80fd\\u932f\\u904e\\uff0c\\u671f\\u5f85\\u4f60\\u52a0\\u5165\\u6211\\u5011\\u9ea5\\u7576\\u52de\\u5927\\u5bb6\\u5ead\\n\\u5de5\\u4f5c\\u5167\\u5bb9\\n\\u2022\\u5354\\u52a9\\u53d6\\u9910\\uff0c\\u9001\\u9910\\u2022\\u63d0\\u4f9b\\u8cbc\\u5fc3\\u670d\\u52d9\\u53ca\\u89e3\\u7b54\\u5ba2\\u4eba\\u554f\\u984c\\u2022\\u63d0\\u4f9b\\u6975\\u81f4\\u7684\\u7528\\u9910\\u9ad4\\u9a57\\n\\u5de5\\u4f5c\\u5730\\u9ede:\\u9999\\u6e2f\\u7063\\u4ed4\\u8ed2\\u5c3c\\u8a69\\u9053302-308\\u865f\\u96c6\\u6210\\u4e2d\\u5fc3\\n\\u5de5\\u4f5c\\u6642\\u6bb5:\\u5f48\\u6027\\u4e0a\\u73ed\\u6642\\u9593\\uff0c\\u6bcf\\u59296-8\\u5c0f\\u6642\\u5de5\\u4f5c\\n\\u6642\\u85aa: \\u6bcf\\u5c0f\\u6642$58-$60\\n\\u6b61\\u8fce\\u81f4\\u96fb/Whatsapp 6627 0107 \\u79e6\\u5c0f\\u59d0\\u9810\\u7d04\\u9762\\u8a66/\\u67e5\\u8a62\\u7533\\u8acb\\u4eba\\u6240\\u63d0\\u4f9b\\u7684\\u8cc7\\u6599\\u5c07\\u4fdd\\u5bc6\\u53ca\\u66ff\\u4ee3\\u62db\\u8058\\u4e4b\\u7528\\nWhatsapp 6627 0107\\n\"\n        ],\n        \"semantic_type\": \"\",\n        \"description\": \"\"\n      }\n    },\n    {\n      \"column\": \"nation_short_desc\",\n      \"properties\": {\n        \"dtype\": \"category\",\n        \"num_unique_values\": 8,\n        \"samples\": [\n          \"NZ\",\n          \"MY\",\n          \"PH\"\n        ],\n        \"semantic_type\": \"\",\n        \"description\": \"\"\n      }\n    },\n    {\n      \"column\": \"salary_additional_text\",\n      \"properties\": {\n        \"dtype\": \"category\",\n        \"num_unique_values\": 558,\n        \"samples\": [\n          \"$51.67 - $ 59.03 + Salary Packaging\",\n          \"$50 \\u2013 $65 per hour\",\n          \"$2,500 \\u2013 $2,800 per month\"\n        ],\n        \"semantic_type\": \"\",\n        \"description\": \"\"\n      }\n    },\n    {\n      \"column\": \"y_true\",\n      \"properties\": {\n        \"dtype\": \"category\",\n        \"num_unique_values\": 734,\n        \"samples\": [\n          \"50-90-HKD-HOURLY\",\n          \"37-84-AUD-HOURLY\",\n          \"64265-64265-AUD-ANNUAL\"\n        ],\n        \"semantic_type\": \"\",\n        \"description\": \"\"\n      }\n    }\n  ]\n}",
              "type": "dataframe",
              "variable_name": "train_df"
            },
            "text/html": [
              "\n",
              "  <div id=\"df-96c54f60-6e1b-44bf-805c-6cef63fe48e5\" class=\"colab-df-container\">\n",
              "    <div>\n",
              "<style scoped>\n",
              "    .dataframe tbody tr th:only-of-type {\n",
              "        vertical-align: middle;\n",
              "    }\n",
              "\n",
              "    .dataframe tbody tr th {\n",
              "        vertical-align: top;\n",
              "    }\n",
              "\n",
              "    .dataframe thead th {\n",
              "        text-align: right;\n",
              "    }\n",
              "</style>\n",
              "<table border=\"1\" class=\"dataframe\">\n",
              "  <thead>\n",
              "    <tr style=\"text-align: right;\">\n",
              "      <th></th>\n",
              "      <th>job_id</th>\n",
              "      <th>job_title</th>\n",
              "      <th>job_ad_details</th>\n",
              "      <th>nation_short_desc</th>\n",
              "      <th>salary_additional_text</th>\n",
              "      <th>y_true</th>\n",
              "    </tr>\n",
              "  </thead>\n",
              "  <tbody>\n",
              "    <tr>\n",
              "      <th>0</th>\n",
              "      <td>72000415</td>\n",
              "      <td>Financial Account - Call Center Agent - Up to 34k</td>\n",
              "      <td>\\n \\n Job Opening \\n \\n \\n Financial Account -...</td>\n",
              "      <td>PH</td>\n",
              "      <td>NaN</td>\n",
              "      <td>17500-17500-PHP-MONTHLY</td>\n",
              "    </tr>\n",
              "    <tr>\n",
              "      <th>1</th>\n",
              "      <td>69481519</td>\n",
              "      <td>Aspiring Call Center Agents - Work from Home -...</td>\n",
              "      <td>\\n\\nJob Opening\\n\\nAspiring Call Center Agents...</td>\n",
              "      <td>PH</td>\n",
              "      <td>NaN</td>\n",
              "      <td>16000-16000-PHP-MONTHLY</td>\n",
              "    </tr>\n",
              "    <tr>\n",
              "      <th>2</th>\n",
              "      <td>55838599</td>\n",
              "      <td>Production Staff Required - Afternoon &amp; Night-...</td>\n",
              "      <td>Original Foods Baking Co. is one of New Zealan...</td>\n",
              "      <td>NZ</td>\n",
              "      <td>NaN</td>\n",
              "      <td>0-0-None-None</td>\n",
              "    </tr>\n",
              "    <tr>\n",
              "      <th>3</th>\n",
              "      <td>64369104</td>\n",
              "      <td>Payer Analyst</td>\n",
              "      <td>The Payer Analyst individual is assigned to ...</td>\n",
              "      <td>PH</td>\n",
              "      <td>-</td>\n",
              "      <td>0-0-None-None</td>\n",
              "    </tr>\n",
              "    <tr>\n",
              "      <th>4</th>\n",
              "      <td>54861511</td>\n",
              "      <td>Solicitor, Restructuring</td>\n",
              "      <td>The DLA Piper team operates across more than 4...</td>\n",
              "      <td>AUS</td>\n",
              "      <td>NaN</td>\n",
              "      <td>0-0-None-None</td>\n",
              "    </tr>\n",
              "    <tr>\n",
              "      <th>...</th>\n",
              "      <td>...</td>\n",
              "      <td>...</td>\n",
              "      <td>...</td>\n",
              "      <td>...</td>\n",
              "      <td>...</td>\n",
              "      <td>...</td>\n",
              "    </tr>\n",
              "    <tr>\n",
              "      <th>2248</th>\n",
              "      <td>75640730</td>\n",
              "      <td>Senior Manager, Process Excellence and Transfo...</td>\n",
              "      <td>Our client is a well-established consumer good...</td>\n",
              "      <td>HK</td>\n",
              "      <td>NaN</td>\n",
              "      <td>0-0-None-None</td>\n",
              "    </tr>\n",
              "    <tr>\n",
              "      <th>2249</th>\n",
              "      <td>77931852</td>\n",
              "      <td>Accounting Manager - Hotel Business</td>\n",
              "      <td>Position: Accounting ManagerJob DescriptionCo...</td>\n",
              "      <td>TH</td>\n",
              "      <td>NaN</td>\n",
              "      <td>0-0-None-None</td>\n",
              "    </tr>\n",
              "    <tr>\n",
              "      <th>2250</th>\n",
              "      <td>54359262</td>\n",
              "      <td>Technical Operator - Audio Visual</td>\n",
              "      <td>Your mission: To create memorable experiences ...</td>\n",
              "      <td>AUS</td>\n",
              "      <td>NaN</td>\n",
              "      <td>0-0-None-None</td>\n",
              "    </tr>\n",
              "    <tr>\n",
              "      <th>2251</th>\n",
              "      <td>73457326</td>\n",
              "      <td>Customer Service Officer</td>\n",
              "      <td>Working Day: 5-6-5-6 work weeks (rotating base...</td>\n",
              "      <td>SG</td>\n",
              "      <td>$2,500 – $3,000 per month</td>\n",
              "      <td>2500-3000-SGD-MONTHLY</td>\n",
              "    </tr>\n",
              "    <tr>\n",
              "      <th>2252</th>\n",
              "      <td>79333669</td>\n",
              "      <td>AVP, Institutional Customer Service Manager</td>\n",
              "      <td>At Citi, we get to connect millions of people ...</td>\n",
              "      <td>MY</td>\n",
              "      <td>NaN</td>\n",
              "      <td>0-0-None-None</td>\n",
              "    </tr>\n",
              "  </tbody>\n",
              "</table>\n",
              "<p>2253 rows × 6 columns</p>\n",
              "</div>\n",
              "    <div class=\"colab-df-buttons\">\n",
              "\n",
              "  <div class=\"colab-df-container\">\n",
              "    <button class=\"colab-df-convert\" onclick=\"convertToInteractive('df-96c54f60-6e1b-44bf-805c-6cef63fe48e5')\"\n",
              "            title=\"Convert this dataframe to an interactive table.\"\n",
              "            style=\"display:none;\">\n",
              "\n",
              "  <svg xmlns=\"http://www.w3.org/2000/svg\" height=\"24px\" viewBox=\"0 -960 960 960\">\n",
              "    <path d=\"M120-120v-720h720v720H120Zm60-500h600v-160H180v160Zm220 220h160v-160H400v160Zm0 220h160v-160H400v160ZM180-400h160v-160H180v160Zm440 0h160v-160H620v160ZM180-180h160v-160H180v160Zm440 0h160v-160H620v160Z\"/>\n",
              "  </svg>\n",
              "    </button>\n",
              "\n",
              "  <style>\n",
              "    .colab-df-container {\n",
              "      display:flex;\n",
              "      gap: 12px;\n",
              "    }\n",
              "\n",
              "    .colab-df-convert {\n",
              "      background-color: #E8F0FE;\n",
              "      border: none;\n",
              "      border-radius: 50%;\n",
              "      cursor: pointer;\n",
              "      display: none;\n",
              "      fill: #1967D2;\n",
              "      height: 32px;\n",
              "      padding: 0 0 0 0;\n",
              "      width: 32px;\n",
              "    }\n",
              "\n",
              "    .colab-df-convert:hover {\n",
              "      background-color: #E2EBFA;\n",
              "      box-shadow: 0px 1px 2px rgba(60, 64, 67, 0.3), 0px 1px 3px 1px rgba(60, 64, 67, 0.15);\n",
              "      fill: #174EA6;\n",
              "    }\n",
              "\n",
              "    .colab-df-buttons div {\n",
              "      margin-bottom: 4px;\n",
              "    }\n",
              "\n",
              "    [theme=dark] .colab-df-convert {\n",
              "      background-color: #3B4455;\n",
              "      fill: #D2E3FC;\n",
              "    }\n",
              "\n",
              "    [theme=dark] .colab-df-convert:hover {\n",
              "      background-color: #434B5C;\n",
              "      box-shadow: 0px 1px 3px 1px rgba(0, 0, 0, 0.15);\n",
              "      filter: drop-shadow(0px 1px 2px rgba(0, 0, 0, 0.3));\n",
              "      fill: #FFFFFF;\n",
              "    }\n",
              "  </style>\n",
              "\n",
              "    <script>\n",
              "      const buttonEl =\n",
              "        document.querySelector('#df-96c54f60-6e1b-44bf-805c-6cef63fe48e5 button.colab-df-convert');\n",
              "      buttonEl.style.display =\n",
              "        google.colab.kernel.accessAllowed ? 'block' : 'none';\n",
              "\n",
              "      async function convertToInteractive(key) {\n",
              "        const element = document.querySelector('#df-96c54f60-6e1b-44bf-805c-6cef63fe48e5');\n",
              "        const dataTable =\n",
              "          await google.colab.kernel.invokeFunction('convertToInteractive',\n",
              "                                                    [key], {});\n",
              "        if (!dataTable) return;\n",
              "\n",
              "        const docLinkHtml = 'Like what you see? Visit the ' +\n",
              "          '<a target=\"_blank\" href=https://colab.research.google.com/notebooks/data_table.ipynb>data table notebook</a>'\n",
              "          + ' to learn more about interactive tables.';\n",
              "        element.innerHTML = '';\n",
              "        dataTable['output_type'] = 'display_data';\n",
              "        await google.colab.output.renderOutput(dataTable, element);\n",
              "        const docLink = document.createElement('div');\n",
              "        docLink.innerHTML = docLinkHtml;\n",
              "        element.appendChild(docLink);\n",
              "      }\n",
              "    </script>\n",
              "  </div>\n",
              "\n",
              "\n",
              "<div id=\"df-7f6ec8c4-fd97-4697-8de4-e9cb0da87c0f\">\n",
              "  <button class=\"colab-df-quickchart\" onclick=\"quickchart('df-7f6ec8c4-fd97-4697-8de4-e9cb0da87c0f')\"\n",
              "            title=\"Suggest charts\"\n",
              "            style=\"display:none;\">\n",
              "\n",
              "<svg xmlns=\"http://www.w3.org/2000/svg\" height=\"24px\"viewBox=\"0 0 24 24\"\n",
              "     width=\"24px\">\n",
              "    <g>\n",
              "        <path d=\"M19 3H5c-1.1 0-2 .9-2 2v14c0 1.1.9 2 2 2h14c1.1 0 2-.9 2-2V5c0-1.1-.9-2-2-2zM9 17H7v-7h2v7zm4 0h-2V7h2v10zm4 0h-2v-4h2v4z\"/>\n",
              "    </g>\n",
              "</svg>\n",
              "  </button>\n",
              "\n",
              "<style>\n",
              "  .colab-df-quickchart {\n",
              "      --bg-color: #E8F0FE;\n",
              "      --fill-color: #1967D2;\n",
              "      --hover-bg-color: #E2EBFA;\n",
              "      --hover-fill-color: #174EA6;\n",
              "      --disabled-fill-color: #AAA;\n",
              "      --disabled-bg-color: #DDD;\n",
              "  }\n",
              "\n",
              "  [theme=dark] .colab-df-quickchart {\n",
              "      --bg-color: #3B4455;\n",
              "      --fill-color: #D2E3FC;\n",
              "      --hover-bg-color: #434B5C;\n",
              "      --hover-fill-color: #FFFFFF;\n",
              "      --disabled-bg-color: #3B4455;\n",
              "      --disabled-fill-color: #666;\n",
              "  }\n",
              "\n",
              "  .colab-df-quickchart {\n",
              "    background-color: var(--bg-color);\n",
              "    border: none;\n",
              "    border-radius: 50%;\n",
              "    cursor: pointer;\n",
              "    display: none;\n",
              "    fill: var(--fill-color);\n",
              "    height: 32px;\n",
              "    padding: 0;\n",
              "    width: 32px;\n",
              "  }\n",
              "\n",
              "  .colab-df-quickchart:hover {\n",
              "    background-color: var(--hover-bg-color);\n",
              "    box-shadow: 0 1px 2px rgba(60, 64, 67, 0.3), 0 1px 3px 1px rgba(60, 64, 67, 0.15);\n",
              "    fill: var(--button-hover-fill-color);\n",
              "  }\n",
              "\n",
              "  .colab-df-quickchart-complete:disabled,\n",
              "  .colab-df-quickchart-complete:disabled:hover {\n",
              "    background-color: var(--disabled-bg-color);\n",
              "    fill: var(--disabled-fill-color);\n",
              "    box-shadow: none;\n",
              "  }\n",
              "\n",
              "  .colab-df-spinner {\n",
              "    border: 2px solid var(--fill-color);\n",
              "    border-color: transparent;\n",
              "    border-bottom-color: var(--fill-color);\n",
              "    animation:\n",
              "      spin 1s steps(1) infinite;\n",
              "  }\n",
              "\n",
              "  @keyframes spin {\n",
              "    0% {\n",
              "      border-color: transparent;\n",
              "      border-bottom-color: var(--fill-color);\n",
              "      border-left-color: var(--fill-color);\n",
              "    }\n",
              "    20% {\n",
              "      border-color: transparent;\n",
              "      border-left-color: var(--fill-color);\n",
              "      border-top-color: var(--fill-color);\n",
              "    }\n",
              "    30% {\n",
              "      border-color: transparent;\n",
              "      border-left-color: var(--fill-color);\n",
              "      border-top-color: var(--fill-color);\n",
              "      border-right-color: var(--fill-color);\n",
              "    }\n",
              "    40% {\n",
              "      border-color: transparent;\n",
              "      border-right-color: var(--fill-color);\n",
              "      border-top-color: var(--fill-color);\n",
              "    }\n",
              "    60% {\n",
              "      border-color: transparent;\n",
              "      border-right-color: var(--fill-color);\n",
              "    }\n",
              "    80% {\n",
              "      border-color: transparent;\n",
              "      border-right-color: var(--fill-color);\n",
              "      border-bottom-color: var(--fill-color);\n",
              "    }\n",
              "    90% {\n",
              "      border-color: transparent;\n",
              "      border-bottom-color: var(--fill-color);\n",
              "    }\n",
              "  }\n",
              "</style>\n",
              "\n",
              "  <script>\n",
              "    async function quickchart(key) {\n",
              "      const quickchartButtonEl =\n",
              "        document.querySelector('#' + key + ' button');\n",
              "      quickchartButtonEl.disabled = true;  // To prevent multiple clicks.\n",
              "      quickchartButtonEl.classList.add('colab-df-spinner');\n",
              "      try {\n",
              "        const charts = await google.colab.kernel.invokeFunction(\n",
              "            'suggestCharts', [key], {});\n",
              "      } catch (error) {\n",
              "        console.error('Error during call to suggestCharts:', error);\n",
              "      }\n",
              "      quickchartButtonEl.classList.remove('colab-df-spinner');\n",
              "      quickchartButtonEl.classList.add('colab-df-quickchart-complete');\n",
              "    }\n",
              "    (() => {\n",
              "      let quickchartButtonEl =\n",
              "        document.querySelector('#df-7f6ec8c4-fd97-4697-8de4-e9cb0da87c0f button');\n",
              "      quickchartButtonEl.style.display =\n",
              "        google.colab.kernel.accessAllowed ? 'block' : 'none';\n",
              "    })();\n",
              "  </script>\n",
              "</div>\n",
              "\n",
              "  <div id=\"id_15c8afa7-103c-4303-b9bd-e6bf8a91d33a\">\n",
              "    <style>\n",
              "      .colab-df-generate {\n",
              "        background-color: #E8F0FE;\n",
              "        border: none;\n",
              "        border-radius: 50%;\n",
              "        cursor: pointer;\n",
              "        display: none;\n",
              "        fill: #1967D2;\n",
              "        height: 32px;\n",
              "        padding: 0 0 0 0;\n",
              "        width: 32px;\n",
              "      }\n",
              "\n",
              "      .colab-df-generate:hover {\n",
              "        background-color: #E2EBFA;\n",
              "        box-shadow: 0px 1px 2px rgba(60, 64, 67, 0.3), 0px 1px 3px 1px rgba(60, 64, 67, 0.15);\n",
              "        fill: #174EA6;\n",
              "      }\n",
              "\n",
              "      [theme=dark] .colab-df-generate {\n",
              "        background-color: #3B4455;\n",
              "        fill: #D2E3FC;\n",
              "      }\n",
              "\n",
              "      [theme=dark] .colab-df-generate:hover {\n",
              "        background-color: #434B5C;\n",
              "        box-shadow: 0px 1px 3px 1px rgba(0, 0, 0, 0.15);\n",
              "        filter: drop-shadow(0px 1px 2px rgba(0, 0, 0, 0.3));\n",
              "        fill: #FFFFFF;\n",
              "      }\n",
              "    </style>\n",
              "    <button class=\"colab-df-generate\" onclick=\"generateWithVariable('train_df')\"\n",
              "            title=\"Generate code using this dataframe.\"\n",
              "            style=\"display:none;\">\n",
              "\n",
              "  <svg xmlns=\"http://www.w3.org/2000/svg\" height=\"24px\"viewBox=\"0 0 24 24\"\n",
              "       width=\"24px\">\n",
              "    <path d=\"M7,19H8.4L18.45,9,17,7.55,7,17.6ZM5,21V16.75L18.45,3.32a2,2,0,0,1,2.83,0l1.4,1.43a1.91,1.91,0,0,1,.58,1.4,1.91,1.91,0,0,1-.58,1.4L9.25,21ZM18.45,9,17,7.55Zm-12,3A5.31,5.31,0,0,0,4.9,8.1,5.31,5.31,0,0,0,1,6.5,5.31,5.31,0,0,0,4.9,4.9,5.31,5.31,0,0,0,6.5,1,5.31,5.31,0,0,0,8.1,4.9,5.31,5.31,0,0,0,12,6.5,5.46,5.46,0,0,0,6.5,12Z\"/>\n",
              "  </svg>\n",
              "    </button>\n",
              "    <script>\n",
              "      (() => {\n",
              "      const buttonEl =\n",
              "        document.querySelector('#id_15c8afa7-103c-4303-b9bd-e6bf8a91d33a button.colab-df-generate');\n",
              "      buttonEl.style.display =\n",
              "        google.colab.kernel.accessAllowed ? 'block' : 'none';\n",
              "\n",
              "      buttonEl.onclick = () => {\n",
              "        google.colab.notebook.generateWithVariable('train_df');\n",
              "      }\n",
              "      })();\n",
              "    </script>\n",
              "  </div>\n",
              "\n",
              "    </div>\n",
              "  </div>\n"
            ],
            "text/plain": [
              "        job_id                                          job_title  \\\n",
              "0     72000415  Financial Account - Call Center Agent - Up to 34k   \n",
              "1     69481519  Aspiring Call Center Agents - Work from Home -...   \n",
              "2     55838599  Production Staff Required - Afternoon & Night-...   \n",
              "3     64369104                                      Payer Analyst   \n",
              "4     54861511                          Solicitor, Restructuring    \n",
              "...        ...                                                ...   \n",
              "2248  75640730  Senior Manager, Process Excellence and Transfo...   \n",
              "2249  77931852               Accounting Manager - Hotel Business    \n",
              "2250  54359262                  Technical Operator - Audio Visual   \n",
              "2251  73457326                          Customer Service Officer    \n",
              "2252  79333669       AVP, Institutional Customer Service Manager    \n",
              "\n",
              "                                         job_ad_details nation_short_desc  \\\n",
              "0     \\n \\n Job Opening \\n \\n \\n Financial Account -...                PH   \n",
              "1     \\n\\nJob Opening\\n\\nAspiring Call Center Agents...                PH   \n",
              "2     Original Foods Baking Co. is one of New Zealan...                NZ   \n",
              "3       The Payer Analyst individual is assigned to ...                PH   \n",
              "4     The DLA Piper team operates across more than 4...               AUS   \n",
              "...                                                 ...               ...   \n",
              "2248  Our client is a well-established consumer good...                HK   \n",
              "2249   Position: Accounting ManagerJob DescriptionCo...                TH   \n",
              "2250  Your mission: To create memorable experiences ...               AUS   \n",
              "2251  Working Day: 5-6-5-6 work weeks (rotating base...                SG   \n",
              "2252  At Citi, we get to connect millions of people ...                MY   \n",
              "\n",
              "         salary_additional_text                   y_true  \n",
              "0                           NaN  17500-17500-PHP-MONTHLY  \n",
              "1                           NaN  16000-16000-PHP-MONTHLY  \n",
              "2                           NaN            0-0-None-None  \n",
              "3                             -            0-0-None-None  \n",
              "4                           NaN            0-0-None-None  \n",
              "...                         ...                      ...  \n",
              "2248                        NaN            0-0-None-None  \n",
              "2249                        NaN            0-0-None-None  \n",
              "2250                        NaN            0-0-None-None  \n",
              "2251  $2,500 – $3,000 per month    2500-3000-SGD-MONTHLY  \n",
              "2252                        NaN            0-0-None-None  \n",
              "\n",
              "[2253 rows x 6 columns]"
            ]
          },
          "execution_count": 12,
          "metadata": {},
          "output_type": "execute_result"
        }
      ],
      "source": [
        "train_df"
      ]
    },
    {
      "cell_type": "markdown",
      "metadata": {
        "id": "D720aQIvFih5"
      },
      "source": [
        "# Loading Qwen"
      ]
    },
    {
      "cell_type": "code",
      "execution_count": null,
      "metadata": {
        "colab": {
          "base_uri": "https://localhost:8080/",
          "height": 380,
          "referenced_widgets": [
            "00fdc57aa85440dc82054f6d6d6bec66",
            "ae615fc49892479ab70ab57e760fdd9c",
            "a97d9b1d983a4b6bbd4ed85f7a3f78ef",
            "6af3374507634174b70cecfcd8aa9264",
            "8aca497c3d6d41c4811da326d0880892",
            "cad4b4b4a7a54ee6ad6f15ce27166039",
            "04cfcefa27234dada96bf79f7acd5da1",
            "fdcd604d23bc40c09d2dc366c3298e32",
            "407ddbb2d21c40139d9be24ef5eb15ff",
            "a1cde0c36bcc4d6a929e7c81797c2507",
            "0e5a017c128543fa821646b50a6937b4",
            "7f53dcf8f3f14be584bb3c33f1c06680",
            "726b3ef7d7764a8ea8380041c8facd6b",
            "32c19fda822c4d15a6b45d8071426c1f",
            "2445a7fa9c5f4ba397f7c15c2e9788e6",
            "822bc702128c43b695cac13a1aa15762",
            "4b4488b8081a4155a8ada7c5e66ad5af",
            "8cdfce13d3f54f8e8f416ad0827b2cc9",
            "b63b5c1788b5457da2034f2745269ed1",
            "400f995f3b7e4cd9955a2fbdff277709",
            "837428a61a1a4a3e843e139ca602dfd1",
            "85094c487cd64bf7ac39750ad5b711fa",
            "3a37c46fff7447bead8ad297b2e4f552",
            "2aeb5473cd9541ce92adfc11db82e102",
            "7f716eca749e4b50aad99e62d91f1cd4",
            "924e1a94ce78454aa3b8b4190b1f9960",
            "7667abac2eb74247bd11921b7e5c21e5",
            "47e1248e308842588d2ed2e98ff1662d",
            "78b63fa54fec4286b2758fcb98d641f8",
            "7573b5a0f8df42e6ac4737092cbfff4a",
            "026ed018cbee459c94449e180225b592",
            "3b800a3e08ff4065ad8c07e730fe2d1a",
            "705879b9135e4555be38530a7a3b13c2",
            "e78bbf18ea62403ead7fff8c21b265c5",
            "7cc97bf0eee04a1f88d2205fad7cfb26",
            "8ddf5a0f70b245da904efbdde7a6cfd3",
            "8bc4f6ec35c84ff085919f93c34c631a",
            "13b1fce841b7488588546426d314f4b3",
            "e6c8484f4dec4a81a5f029b12b97fc4a",
            "787bf15d469240fbbb1bcd9cd33dded1",
            "9617ca3489e64e31a87443f02362f423",
            "04a8d8f8689a42f4bb00a4c0b9fecafd",
            "07f67506ba3b4c788afb785479c0be59",
            "99fb33ee6c104f019e1749a217ae18b1",
            "5f58e4ff23a24c32803a9e985aa7b764",
            "f4d372e0a04c4463adb12f7b8611d4c8",
            "b34d004793bb407093e5b7d9fd829cf6",
            "bcc88d5d53804085a552249a9f189f2e",
            "73d567ae48364f8ca075a11014e3cb35",
            "e8d7c84a64ca4886b535a69ae0da2560",
            "3b3570d0511f4fbaa81c7044e271b722",
            "0f8ed1374a2d410097b42fc871040622",
            "973c53c9834b486491574d4a6cf7469e",
            "f1a6a9eba16a44749a267b75df1a11d6",
            "944f96536f754fd6b79190a8eab44905",
            "ae9d53d15f9b4a3b96468f0f07866050",
            "973d03a2c4294ff19da7e71a733d13a8",
            "22d0d326ef7242018f29b4db10e85a5c",
            "6f04432c59164c849af9dae74f2b5bef",
            "f27052010e694d6e8373e6d97b862910",
            "f98708e9a9cb4a5ab53e94badb7599f1",
            "26198b261ce84b64b9dc754a9026133d",
            "b19b4242b3f54237baf99671ebd07988",
            "13f31700934c4dd286f2e388f71db9cd",
            "aacd6b095a7d4b91ba4df976a47948d7",
            "8d80f7e6d6d740afb0d8b565d35a3b91",
            "c2cdee5a0a57479392130a33e1bd18b7",
            "5d06b7943b7d47a09260f519de0c5d24",
            "a4b5579777404581a0be3090cb3006c6",
            "9f73048eb9244f00a94c4555acddb538",
            "b1087b0ef582406fb447eb74b560e262",
            "344efe4471324e0cb5023d003382597f",
            "36f23b3adc71401489e7ddd012ec16ad",
            "0711e92326184f40996f55d9bc95e60a",
            "4709903f8578423d815cc778193d45e1",
            "736a57fb6a924216afc0c7d30253455e",
            "6742865b21dd48aebac7b2e38a4d1d18"
          ]
        },
        "id": "1CirS469JwWN",
        "outputId": "551089e2-5acc-4800-949d-0020d009e9ff"
      },
      "outputs": [
        {
          "name": "stderr",
          "output_type": "stream",
          "text": [
            "/usr/local/lib/python3.11/dist-packages/huggingface_hub/utils/_auth.py:94: UserWarning: \n",
            "The secret `HF_TOKEN` does not exist in your Colab secrets.\n",
            "To authenticate with the Hugging Face Hub, create a token in your settings tab (https://huggingface.co/settings/tokens), set it as secret in your Google Colab and restart your session.\n",
            "You will be able to reuse this secret in all of your notebooks.\n",
            "Please note that authentication is recommended but still optional to access public models or datasets.\n",
            "  warnings.warn(\n"
          ]
        },
        {
          "data": {
            "application/vnd.jupyter.widget-view+json": {
              "model_id": "00fdc57aa85440dc82054f6d6d6bec66",
              "version_major": 2,
              "version_minor": 0
            },
            "text/plain": [
              "config.json:   0%|          | 0.00/659 [00:00<?, ?B/s]"
            ]
          },
          "metadata": {},
          "output_type": "display_data"
        },
        {
          "data": {
            "application/vnd.jupyter.widget-view+json": {
              "model_id": "7f53dcf8f3f14be584bb3c33f1c06680",
              "version_major": 2,
              "version_minor": 0
            },
            "text/plain": [
              "model.safetensors:   0%|          | 0.00/988M [00:00<?, ?B/s]"
            ]
          },
          "metadata": {},
          "output_type": "display_data"
        },
        {
          "name": "stderr",
          "output_type": "stream",
          "text": [
            "Sliding Window Attention is enabled but not implemented for `sdpa`; unexpected results may be encountered.\n"
          ]
        },
        {
          "data": {
            "application/vnd.jupyter.widget-view+json": {
              "model_id": "3a37c46fff7447bead8ad297b2e4f552",
              "version_major": 2,
              "version_minor": 0
            },
            "text/plain": [
              "generation_config.json:   0%|          | 0.00/242 [00:00<?, ?B/s]"
            ]
          },
          "metadata": {},
          "output_type": "display_data"
        },
        {
          "data": {
            "application/vnd.jupyter.widget-view+json": {
              "model_id": "e78bbf18ea62403ead7fff8c21b265c5",
              "version_major": 2,
              "version_minor": 0
            },
            "text/plain": [
              "tokenizer_config.json:   0%|          | 0.00/7.30k [00:00<?, ?B/s]"
            ]
          },
          "metadata": {},
          "output_type": "display_data"
        },
        {
          "data": {
            "application/vnd.jupyter.widget-view+json": {
              "model_id": "5f58e4ff23a24c32803a9e985aa7b764",
              "version_major": 2,
              "version_minor": 0
            },
            "text/plain": [
              "vocab.json:   0%|          | 0.00/2.78M [00:00<?, ?B/s]"
            ]
          },
          "metadata": {},
          "output_type": "display_data"
        },
        {
          "data": {
            "application/vnd.jupyter.widget-view+json": {
              "model_id": "ae9d53d15f9b4a3b96468f0f07866050",
              "version_major": 2,
              "version_minor": 0
            },
            "text/plain": [
              "merges.txt:   0%|          | 0.00/1.67M [00:00<?, ?B/s]"
            ]
          },
          "metadata": {},
          "output_type": "display_data"
        },
        {
          "data": {
            "application/vnd.jupyter.widget-view+json": {
              "model_id": "c2cdee5a0a57479392130a33e1bd18b7",
              "version_major": 2,
              "version_minor": 0
            },
            "text/plain": [
              "tokenizer.json:   0%|          | 0.00/7.03M [00:00<?, ?B/s]"
            ]
          },
          "metadata": {},
          "output_type": "display_data"
        }
      ],
      "source": [
        "from transformers import AutoModelForCausalLM, AutoTokenizer\n",
        "\n",
        "model_name = \"Qwen/Qwen2.5-0.5B-Instruct\"\n",
        "\n",
        "model = AutoModelForCausalLM.from_pretrained(\n",
        "    model_name,\n",
        "    torch_dtype=\"auto\",\n",
        "    device_map=\"auto\"\n",
        ")\n",
        "tokenizer = AutoTokenizer.from_pretrained(model_name)\n"
      ]
    },
    {
      "cell_type": "code",
      "execution_count": null,
      "metadata": {
        "id": "z2KDCNVqF4Ts"
      },
      "outputs": [],
      "source": [
        "def call_model(messages):\n",
        "  text = tokenizer.apply_chat_template(\n",
        "      messages,\n",
        "      tokenize=False,\n",
        "      add_generation_prompt=True\n",
        "  )\n",
        "  model_inputs = tokenizer([text], return_tensors=\"pt\").to(model.device)\n",
        "\n",
        "  generated_ids = model.generate(\n",
        "      **model_inputs,\n",
        "      max_new_tokens=512\n",
        "  )\n",
        "  generated_ids = [\n",
        "      output_ids[len(input_ids):] for input_ids, output_ids in zip(model_inputs.input_ids, generated_ids)\n",
        "  ]\n",
        "\n",
        "  response = tokenizer.batch_decode(generated_ids, skip_special_tokens=True)\n",
        "  return response"
      ]
    },
    {
      "cell_type": "code",
      "execution_count": null,
      "metadata": {
        "id": "PyJZju0nNuGi"
      },
      "outputs": [],
      "source": [
        "#== step 1: role explanation\n",
        "def step_1():\n",
        "  messages = [\n",
        "      {\"role\": \"system\", \"content\": \"You are an expert job ad annotator. Your task is to extract structured salary information from job descriptions in the format: min-max-currency-frequency. If salary is not found, return: 0-0-None-None.\"},\n",
        "      {\"role\": \"user\", \"content\": \"Based on your role, can you briefly explain what constitutes a salary range, currency and frequency in a job listing?\"}\n",
        "  ]\n",
        "\n",
        "  response = call_model(messages)\n",
        "  messages.append({\"role\": \"assistant\", \"content\": response[0]})\n",
        "  return response[0], messages\n"
      ]
    },
    {
      "cell_type": "markdown",
      "metadata": {
        "id": "C7zqRyramFgm"
      },
      "source": [
        "### RB"
      ]
    },
    {
      "cell_type": "code",
      "execution_count": null,
      "metadata": {
        "id": "rLtSlnRaRsws"
      },
      "outputs": [],
      "source": [
        "#== few-shot examples\n",
        "def fewshot(messages):\n",
        "  few_shot_indices = [1030, 1041, 1025, 1022, 1011]\n",
        "\n",
        "  for i in few_shot_indices:\n",
        "    desc = {\n",
        "      \"job_title\": train_df.iloc[i].job_title,\n",
        "      \"job_ad_details\": train_df.iloc[i].job_ad_details,\n",
        "      \"nation_short_desc\": train_df.iloc[i].nation_short_desc,\n",
        "      \"salary_additional_text\": train_df.iloc[i].salary_additional_text,\n",
        "    }\n",
        "\n",
        "    desc_str = str(desc)\n",
        "     # add the description\n",
        "    messages.append({\n",
        "      \"role\": \"user\",\n",
        "      \"content\": desc_str\n",
        "    })\n",
        "\n",
        "    label = train_df.iloc[i].y_true\n",
        "    label_str = str(label)\n",
        "\n",
        "    # add the output\n",
        "    messages.append({\n",
        "        \"role\": \"assistant\",\n",
        "        \"content\": label_str\n",
        "    })\n",
        "\n",
        "  return messages\n"
      ]
    },
    {
      "cell_type": "code",
      "execution_count": null,
      "metadata": {
        "colab": {
          "base_uri": "https://localhost:8080/"
        },
        "id": "uPXLKwUbQhUb",
        "outputId": "3efcffb8-6576-4539-d507-ffd4c3e1f753"
      },
      "outputs": [
        {
          "data": {
            "text/plain": [
              "[{'role': 'user',\n",
              "  'content': '{\\'job_title\\': \\'Thailand based Online English Teacher  Expat\\', \\'job_ad_details\\': \"\\\\xa0JOIN OUR TEAM OF INSPIRING EDUCATORS!\\\\xa0Hello Passionate Educators!Are you a truly exceptional teacher, fueled by the desire to ignite a passion for learning in those you teach? The Really Great Teacher Company invites you to embark on a rewarding journey of personal and professional growth while making a positive impact on students worldwide through the art of teaching English. WHAT AWAITS YOU:\\\\xa0CAREER ADVANCEMENT:\\\\xa0Countless opportunities await your upward trajectory into more senior roles.\\\\xa0DEDICATED SUPPORT TEAM:\\\\xa0We\\'ve got your back with all the materials and human support you need to shine.\\\\xa0PROFESSIONAL DEVELOPMENT:\\\\xa0Our Inspire Academy offers a treasure trove of free courses, allowing you to chart your professional growth at your own pace.\\\\xa0PERSONAL DEVELOPMENT:\\\\xa0Join our Evolve program and revel in wellness, fitness, fun, and community events—all from the comfort of your home.\\\\xa0POSITION DETAILS:Start Date:\\\\xa0Immediate upon completion of the recruitment processTeaching Hours:\\\\xa0Peak hours are Monday to Sunday 7-11 PM and 9-11 AM Beijing timeStudents:\\\\xa0Adults based in ChinaRemuneration:\\\\xa0Set base rate of 11.50 USD per hourContract type:\\\\xa0Independent Service Provider with The Really Great Teacher CompanyLocation:\\\\xa0Embrace the convenience of working from home\\\\xa0KEY RESPONSIBILITIES:Deliver engaging English lessons to studentsCreate a dynamic and fun classroom environmentUtilize world-class teaching methods for group instructionLead discussions, assess student performance, and provide constructive feedbackRequirements\\\\xa0APPLICANT REQUIREMENTS:Completed Bachelor\\'s Degree or higher (Any field)Accredited 120-hour or above TEFL, TESOL, CELTATeaching or tutoring experience advantageousEnglish first language speakers from USA/Canada/UK/Ireland/Australia/New ZealandBased in Southeast Asia (Cambodia/Thailand/Vietnam/Bali etc.)Computer literate with a clear criminal recordEngaging and inspiring communication skillsPunctual and precise timekeepingAlignment with The Really Great Teacher Company\\'s values\\\\xa0TECHNICAL REQUIREMENTS:PC specifications:\\\\xa0Intel Core i5 CPU @2.0GHz (4 CPUs) or greater, 8GB RAM or greaterBackup power:\\\\xa0Uninterrupted Power Supply (UPS) with a battery life of 4-5 hours (2000VA)Internet connection:\\\\xa0Stable fiber connection, minimum 20 Mbps upload and download speedsAccessories:\\\\xa0Noise-cancelling headsets, HD web camera, and a tidy, well-lit, and quiet teaching environmentสรุปความต้องการของบทบาท:กำลังหาผู้สมัครที่พร้อมจะร่วมงาน:วันจันทร์: เช้า, บ่าย, เย็นวันอังคาร: เช้า, บ่าย, เย็นวันพุธ: เช้า, บ่าย, เย็นวันพฤหัส: เช้า, บ่าย, เย็นวันศุกร์: เช้า, บ่าย, เย็นวันเสาร์: เช้า, บ่าย, เย็นวันอาทิตย์: เช้า, บ่าย, เย็นไม่จำเป็นต้องมีประสบการณ์สำหรับบทบาทนี้ต้องมีสิทธิ์ในการทำงานสำหรับตำแหน่งนี้คาดหวังวันเริ่มงานวันที่: 10 March 2024เงินเดือนที่คาดหวัง: ฿412 ต่อ ชั่วโมง\", \\'nation_short_desc\\': \\'TH\\', \\'salary_additional_text\\': nan}'},\n",
              " {'role': 'assistant', 'content': '412-412-THB-HOURLY'},\n",
              " {'role': 'user',\n",
              "  'content': '{\\'job_title\\': \\'Accountant  | Healthcare| One North ~\\', \\'job_ad_details\\': \\'Healthcare IndustrySalary: $2800 - $3600Duration: 4 months ExtendableWorking Location: One NorthWorking hours: 08.30am – 6.00pm (Monday to Thursday), 08.30am – 5.30pm (Friday)Job Summary:You will be part of Finance team reporting to the Head of Finance.Your role and responsibilities are mainly to support financial reporting as well as finance operations by working closely with business partners within and outside of the organizationMajor Duties And Responsibilities – Compliance & Finance OperationsJob Duties:Governance/Internal ControlsConduct periodic review to ensure internal controls and processes are adhered toCoordinate yearly Internal Audit by MOHH GIA, answers auditors’ queries and provide information timely to the auditors and overseeing the work of other stakeholders in meeting audit deadlinesImplement control measures and work with various stakeholders to resolve issues highlighted in the audit findingsSupport Finance Operations (AR)Preparation of monthly financial reporting and financial variance analysisAssist in forecasting and budgetary processReview and provide support to accounting team on AR billings and processesProvide guidance to the junior accounting staff in day-to-day operationsPreparation and coordination with business partners on customers’ pricing and costing exercisesEnsure that prices and costs of items are accurately reflected in system upon approvalAssist in data mining, data cleansing and data extractionReview and enhance the back-end functions of POS system and work with Operations team to ensure that front-end systems are not impactedInitiate process improvements to simplify, resolve current manual process and improve productivityParticipate in UAT of system enhancements and projectsManage and maintain the Change Request for Management Information SystemAssist to carry out any other duties assigned by superiorRequirementsDegree in Finance/Accounting/ACCA with at least 2 years relevant experienceStrong business partnering skill with operations team membersKnowledge on Finance MIS reporting will be an advantageWell versed in M365 especially Advance Excel skills, SAPPossess strong sense of responsibility, initiative, interpersonal and communication skillsPositive attitude with strong desire to learnTeam player with good interpersonal, communication and problem solving skillsA self-starter, independent and be able to thrive in a fast paced and changing environmentAbility to work under pressureInterested candidate please click \"APPLY\" to begin your job search journey and submit your CV directly through the official PERSOLKELLY job application platform - GO Mobile.https://go.persolkelly.com/job/apply/2175/accountant-(fmisContact number: 8189 1194We regret to inform that only shortlisted candidates will be notified.By sending us your personal data and curriculum vitae (CV), you are deemed to consent to PERSOLKELLY Singapore Pte Ltd and its affiliates to collect, use and disclose your personal data for the purposes set out in the Privacy Policy available at https://www.persolkelly.com.sg/policies. You acknowledge that you have read, understood, and agree with the Privacy Policy.PERSOLKELLY Singapore Pte Ltd • RCB No. 200007268E • EA License No. 01C4394• Reg. • R1981246 • Bertram Lee Kian Hui\\', \\'nation_short_desc\\': \\'SG\\', \\'salary_additional_text\\': \\'$2,800 – $3,600 per month\\'}'},\n",
              " {'role': 'assistant', 'content': '2800-3600-SGD-MONTHLY'},\n",
              " {'role': 'user',\n",
              "  'content': \"{'job_title': 'Catering & Cleaning Attendant', 'job_ad_details': '\\\\nRiverland Mallee Coorong Local Health Network, Loxton\\\\nSalary: $27.36 - $27.65 per hour + 25% casual loading - Casual (up to\\\\xa030 September 2023) - WHA2\\\\n\\\\n\\\\xa0\\\\nThe Catering and Cleaning Attendant - Services Assistant is responsible for providing a timely, efficient and effective service, that involves the catering and cleaning of the health unit.\\\\xa0 Duties may include the preparation, service and delivery of food to clients, and general housekeeping and may also be required to undertake laundry duties.\\\\nBeing part of Riverland Mallee Coorong Local Health Network means you will be supported both personally and professionally, can take advantage of education and training opportunities, you will have access to flexible working hours.\\\\nAppointment will be subject to a satisfactory Criminal History Screening/Check and specific immunisation requirements. COVID-19 vaccination is an essential requirement under the Public Health Act 2011 (Healthcare Setting Workers Vaccination) (COVID-19) to work in SA Health/health care setting.\\\\nSuitably qualified Aboriginal and Torres Strait Islander applicants are strongly encouraged to apply and will be given preference as a special/equal opportunity measure under section 8(1) of the Racial Discrimination Act 1975 (Cth), and sections 34(2) and 56(2) of the Equal Opportunity Act 1984 (SA).\\\\nThe South Australian public sector promotes diversity and flexible ways of working including part-time. Applicants are encouraged to discuss the flexible working arrangements for this role.\\\\nFor more information about the role please refer to the Job Pack provided below. Job ref: 807701\\\\n\\\\xa0807701 Catering and Cleaning Attendant Job Pack.pdf\\\\n\\\\xa0JCS+Cleaner+Domestic+final.pdf', 'nation_short_desc': 'AUS', 'salary_additional_text': 'per hour + 25% casual loading'}\"},\n",
              " {'role': 'assistant', 'content': '27-28-AUD-HOURLY'},\n",
              " {'role': 'user',\n",
              "  'content': \"{'job_title': 'System Analyst', 'job_ad_details': 'Location\\\\nThailand\\\\nJob type\\\\nPermanent\\\\nJob reference\\\\nBBBH32932_1668060061\\\\nSalary\\\\nUp to THB35000.00 per month + gas and car allowance-\\\\n -\\\\n\\\\n**Job Descriptions**\\\\n- Support clients regarding software and infrastructure systems\\\\n- Provide support to sale team about software.\\\\n- Monitor and maintain barcode reader equipment and its software systems.\\\\n- Provide support for basic network systems\\\\n- Use algorithm to design software system.\\\\n- Label design using provided software.\\\\n- Prepare software specification documents.\\\\n- Visit to customer and get requirements.\\\\n\\\\n**Qualifications**\\\\n- Bachelor Degree of IT, Computer, or related field\\\\n- At lest 1-2 years of expereinces in software system analysis, infrastruccture and network support.\\\\n\\\\n**Benefit**: Bonus, Gas allowance, Car allowance, and mobile allowance provided', 'nation_short_desc': 'TH', 'salary_additional_text': nan}\"},\n",
              " {'role': 'assistant', 'content': '35000-35000-THB-MONTHLY'},\n",
              " {'role': 'user',\n",
              "  'content': '{\\'job_title\\': \\' Regional Director \\', \\'job_ad_details\\': \"Our exclusive client, a reputable organisation partnered with Robert Walters, is seeking a highly accomplished and experienced Regional Director to oversee their operations at the Ivy League University. As the Regional Director, you will play a crucial role in leading and managing the organisation\\'s initiatives, partnerships, and programs within this prestigious academic institution.What you\\'ll do:Strategic Leadership: Develop and implement strategic plans, objectives, and initiatives in alignment with the organisation\\'s mission and vision within the Ivy League University.Relationship Management: Build and maintain strong relationships with key stakeholders at the university, including administration, faculty, and staff, to foster collaboration and ensure the organisation\\'s presence and impact.Program Development: Identify opportunities for the creation and implementation of innovative programs, initiatives, and partnerships that align with the organisation\\'s goals and enhance the university\\'s educational experience.Partnership Engagement: Identify, establish, and nurture strategic partnerships with external organisations, industry leaders, and alumni networks to strengthen the organisation\\'s reach and reputation within the Ivy League community.Team Management: Lead and manage a team of professionals, providing guidance, support, and mentorship to enable their professional growth and ensure the successful execution of organisational objectives.Budget and Resource Management: Manage financial resources effectively, including budgeting, forecasting, and resource allocation, to optimise the organisation\\'s impact and ensure financial sustainability.Compliance and Regulations: Ensure compliance with relevant legal and regulatory requirements, as well as university policies and guidelines, to maintain ethical and compliant operations.Performance Monitoring: Regularly monitor and assess key performance indicators, program outcomes, and stakeholder feedback to evaluate the effectiveness and impact of initiatives and drive continuous improvement.What you bring:Bachelor\\'s degree in Business Administration, Education, or a related field (Master\\'s degree preferred)Proven experience in a leadership role, such as Regional Director, within the education sector or nonprofit organisationsStrong knowledge of the higher education landscape, particularly within Ivy League universitiesExcellent leadership, communication, and interpersonal skillsAbility to build and nurture relationships with diverse stakeholders, including university administration, faculty, and external partnersStrategic thinking and problem-solving abilitiesSound financial management and budgeting skillsProficiency in using relevant software and technology platformsWhat sets this company apart:If you are a visionary leader with a passion for education, a track record of success in strategic management, and a desire to make a significant impact within the Ivy League University community, we invite you to apply for the position of Regional Director with our exclusive client. Join a reputable organisation that offers excellent growth opportunities and a competitive compensation package.What\\'s next:Ready to take the next step in your career? Don\\'t miss out on this exciting opportunity!Apply today by clicking on the link!Due to the high volume of applications, our team will only be in touch if your application is shortlisted.Robert Walters Recruitment (Thailand) LimitedRecruitment License No.: น. 1188 / 2551\", \\'nation_short_desc\\': \\'TH\\', \\'salary_additional_text\\': \\'Bonus + AL\\'}'},\n",
              " {'role': 'assistant', 'content': '0-0-None-None'}]"
            ]
          },
          "execution_count": 17,
          "metadata": {},
          "output_type": "execute_result"
        }
      ],
      "source": [
        "fewshot([])"
      ]
    },
    {
      "cell_type": "code",
      "execution_count": null,
      "metadata": {
        "id": "87Nl50BFRxnZ"
      },
      "outputs": [],
      "source": [
        "#== step 2: setting sub-task --> ask for salary patterns\n",
        "def step_2(messages):\n",
        "  messages.append({\n",
        "      \"role\": \"user\",\n",
        "      \"content\": \"As a salary extractor, what are some common phrases or numeric patterns that indicate a salary range, currency and frequency in a job description?\"\n",
        "  })\n",
        "\n",
        "  response = call_model(messages)\n",
        "  messages.append({\"role\": \"assistant\", \"content\": response[0]})\n",
        "  return response, messages"
      ]
    },
    {
      "cell_type": "code",
      "execution_count": null,
      "metadata": {
        "colab": {
          "base_uri": "https://localhost:8080/"
        },
        "id": "RvC8g-mDmRod",
        "outputId": "cd8d7b6b-e329-42d1-9fed-8453d3184447"
      },
      "outputs": [
        {
          "data": {
            "text/plain": [
              "(['Common Phrases:\\n1. \"Range of [min salary] to [max salary]\"\\n2. \"Salary range [min salary] to [max salary]\"\\n3. \"Salary within [min salary] to [max salary]\"\\n4. \"Salary range from [min salary] to [max salary]\"\\n5. \"Salary bracket between [min salary] and [max salary]\"\\n6. \"Salary scale [min salary] to [max salary]\"\\n7. \"Salary range [min salary] to [max salary]\"\\n8. \"Salary band from [min salary] to [max salary]\"\\n9. \"Salary range [min salary] to [max salary]\"\\n10. \"Salary scale between [min salary] and [max salary]\"\\n11. \"Salary bracket between [min salary] and [max salary]\"\\n12. \"Salary scale [min salary] to [max salary]\"\\n13. \"Salary range [min salary] to [max salary]\"\\n14. \"Salary band from [min salary] to [max salary]\"\\n15. \"Salary range [min salary] to [max salary]\"\\n16. \"Salary scale [min salary] to [max salary]\"\\n17. \"Salary bracket between [min salary] and [max salary]\"\\n18. \"Salary scale [min salary] to [max salary]\"\\n19. \"Salary range [min salary] to [max salary]\"\\n20. \"Salary band from [min salary] to [max salary]\"\\n21. \"Salary range [min salary] to [max salary]\"\\n22. \"Salary scale [min salary] to [max salary]\"\\n23. \"Salary bracket between [min salary] and [max salary]\"\\n24. \"Salary scale [min salary] to [max salary]\"\\n25. \"Salary range [min salary] to [max salary]\"\\n26. \"Salary band from [min salary] to [max salary]\"\\n27. \"Salary range [min salary] to [max salary]\"\\n28. \"Salary scale [min salary] to [max salary]\"\\n29. \"Salary bracket between [min salary] and [max salary]\"\\n30. \"Salary scale [min salary] to [max salary]\"\\n31. \"Salary range [min salary] to [max salary]\"\\n32. \"Salary band from [min salary] to [max salary]\"\\n33. \"Salary range [min salary] to [max salary]\"\\n34. \"Salary scale [min salary]'],\n",
              " [{'role': 'system',\n",
              "   'content': 'You are an expert job ad annotator. Your task is to extract structured salary information from job descriptions in the format: min-max-currency-frequency. If salary is not found, return: 0-0-None-None.'},\n",
              "  {'role': 'user',\n",
              "   'content': 'Based on your role, can you briefly explain what constitutes a salary range, currency and frequency in a job listing?'},\n",
              "  {'role': 'assistant',\n",
              "   'content': 'Salary Range: **25,000** - **35,000**\\n\\nCurrency: **USD**\\n\\nFrequency: **Monthly**'},\n",
              "  {'role': 'user',\n",
              "   'content': 'As a salary extractor, what are some common phrases or numeric patterns that indicate a salary range, currency and frequency in a job description?'},\n",
              "  {'role': 'assistant',\n",
              "   'content': 'Common Phrases:\\n1. \"Range of [min salary] to [max salary]\"\\n2. \"Salary range [min salary] to [max salary]\"\\n3. \"Salary within [min salary] to [max salary]\"\\n4. \"Salary range from [min salary] to [max salary]\"\\n5. \"Salary bracket between [min salary] and [max salary]\"\\n6. \"Salary scale [min salary] to [max salary]\"\\n7. \"Salary range [min salary] to [max salary]\"\\n8. \"Salary band from [min salary] to [max salary]\"\\n9. \"Salary range [min salary] to [max salary]\"\\n10. \"Salary scale between [min salary] and [max salary]\"\\n11. \"Salary bracket between [min salary] and [max salary]\"\\n12. \"Salary scale [min salary] to [max salary]\"\\n13. \"Salary range [min salary] to [max salary]\"\\n14. \"Salary band from [min salary] to [max salary]\"\\n15. \"Salary range [min salary] to [max salary]\"\\n16. \"Salary scale [min salary] to [max salary]\"\\n17. \"Salary bracket between [min salary] and [max salary]\"\\n18. \"Salary scale [min salary] to [max salary]\"\\n19. \"Salary range [min salary] to [max salary]\"\\n20. \"Salary band from [min salary] to [max salary]\"\\n21. \"Salary range [min salary] to [max salary]\"\\n22. \"Salary scale [min salary] to [max salary]\"\\n23. \"Salary bracket between [min salary] and [max salary]\"\\n24. \"Salary scale [min salary] to [max salary]\"\\n25. \"Salary range [min salary] to [max salary]\"\\n26. \"Salary band from [min salary] to [max salary]\"\\n27. \"Salary range [min salary] to [max salary]\"\\n28. \"Salary scale [min salary] to [max salary]\"\\n29. \"Salary bracket between [min salary] and [max salary]\"\\n30. \"Salary scale [min salary] to [max salary]\"\\n31. \"Salary range [min salary] to [max salary]\"\\n32. \"Salary band from [min salary] to [max salary]\"\\n33. \"Salary range [min salary] to [max salary]\"\\n34. \"Salary scale [min salary]'}])"
            ]
          },
          "execution_count": 19,
          "metadata": {},
          "output_type": "execute_result"
        }
      ],
      "source": [
        "step_2(step_1()[1])"
      ]
    },
    {
      "cell_type": "markdown",
      "metadata": {
        "id": "e6laUIWBmPoG"
      },
      "source": [
        "### IC"
      ]
    },
    {
      "cell_type": "code",
      "execution_count": null,
      "metadata": {
        "id": "S7sa3Tr3kUiK"
      },
      "outputs": [],
      "source": [
        "#== step 3: ask if salary info is in the description\n",
        "def step_3(messages_static, desc_str):\n",
        "  messages = copy.deepcopy(messages_static)\n",
        "\n",
        "  messages.append({\n",
        "      \"role\": \"user\",\n",
        "      \"content\": f\"{desc_str} does this job description include any salary-related information? Just respond with 'Yes' or 'No'.\"\n",
        "  })\n",
        "\n",
        "  response = call_model(messages)\n",
        "  messages.append({\"role\": \"assistant\", \"content\": response[0]})\n",
        "\n",
        "  p3_content = response[0]\n",
        "\n",
        "  # clean and check the response\n",
        "  response_p3 = p3_content.strip().lower()\n",
        "  response_p3 = response_p3.translate(str.maketrans('', '', string.punctuation))\n",
        "  print(f\"step3 messages: {len(messages)}\")\n",
        "  return response_p3, messages"
      ]
    },
    {
      "cell_type": "code",
      "execution_count": null,
      "metadata": {
        "id": "hzm08cNlx3CV"
      },
      "outputs": [],
      "source": [
        "def step_4(response_p3, messages):\n",
        "  if response_p3 == \"yes\":\n",
        "      messages.append({\n",
        "          \"role\": \"user\",\n",
        "          \"content\": \"Extract the salary range or salary-related phrases from the text verbatim. Respond in JSON: {\\\"Clue\\\": \\\"\\\"}.\"\n",
        "      })\n",
        "  elif response_p3 == \"no\":\n",
        "      messages.append({\n",
        "          \"role\": \"user\",\n",
        "          \"content\": \"Briefly explain why there is no salary information (e.g., 'No mention of pay or compensation'). Respond in JSON: {\\\"Clue\\\": \\\"\\\"}.\"\n",
        "      })\n",
        "  else:\n",
        "      raise Exception(f\"Unexpected model output: {response_p3}\")\n",
        "\n",
        "  response = call_model(messages)\n",
        "  messages.append({\"role\": \"assistant\", \"content\": response[0]})\n",
        "  print(f\"step4 messages: {len(messages)}\")\n",
        "\n",
        "  return response[0], messages"
      ]
    },
    {
      "cell_type": "code",
      "execution_count": null,
      "metadata": {
        "id": "Bt3MNxW6zDRs"
      },
      "outputs": [],
      "source": [
        "\n",
        "#== step 5: use the clue to generate the final output\n",
        "def step_5(messages):\n",
        "  messages.append({\n",
        "      \"role\": \"user\",\n",
        "      \"content\": (\n",
        "          \"Based on the extracted salary clue, return a structured salary in JSON. \"\n",
        "          \"Use 'nation_short_desc' to determine the correct currency. \"\n",
        "          \"Use this format: {\\\"MinSalary\\\": \\\"\\\", \\\"MaxSalary\\\": \\\"\\\", \\\"Currency\\\": \\\"\\\", \\\"Frequency\\\": \\\"\\\"}. \"\n",
        "          \"If not provided explicitly, output 0 for \\\"MinSalary\\\" and \\\"MaxSalary\\\", and \\\"None\\\" for \\\"Currency\\\" and \\\"Frequency\\\". \"\n",
        "          \"If the salary is mentioned, always output a range, where MinSalary and MaxSalary can be equal. \"\n",
        "          \"Output the currency as 3 letters. Use adverb to output frequency (yearly, monthly, daily or hourly).\"\n",
        "      )\n",
        "  })\n",
        "\n",
        "\n",
        "  response = call_model(messages)\n",
        "\n",
        "  answer_str = response[0]\n",
        "\n",
        "  print(f\"step5 messages: {len(messages)}\")\n",
        "\n",
        "  # format and print the output\n",
        "  try:\n",
        "      answer = json.loads(answer_str)\n",
        "      label = f\"{answer['MinSalary']}-{answer['MaxSalary']}-{answer['Currency'].upper()}-{answer['Frequency'].upper()}\"\n",
        "\n",
        "  except json.JSONDecodeError:\n",
        "      print(\"Failed to parse model output as JSON:\")\n",
        "      label = \"ERROR \" + answer_str\n",
        "\n",
        "  return label, answer_str"
      ]
    },
    {
      "cell_type": "code",
      "execution_count": null,
      "metadata": {
        "id": "qLRdAOa-zjiC"
      },
      "outputs": [],
      "source": [
        "def RBIC_static_messages(verbose=False, add_fewshot=True):\n",
        "  response, messages = step_1()\n",
        "  if verbose: print(f\"RB step 1: {response}\\n\")\n",
        "\n",
        "  response, messages = step_2(messages)\n",
        "  if verbose: print(f\"RB step 2: {response}\\n\")\n",
        "\n",
        "  if add_fewshot:\n",
        "    messages = fewshot(messages)\n",
        "    if verbose: print(f\"Fewshot examples added\\n\")\n",
        "  return messages\n",
        "\n",
        "\n",
        "def RBIC(messages, desc_str, verbose=False):\n",
        "  response_p3, messages_local = step_3(messages, desc_str)\n",
        "  if verbose: print(f\"IC step 1: {response_p3}\\n\")\n",
        "\n",
        "  response, messages_local = step_4(response_p3, messages_local)\n",
        "  if verbose: print(f\"IC step 2: {response}\\n\")\n",
        "\n",
        "  label, answer_str = step_5(messages_local)\n",
        "  if verbose: print(f\"IC step 3 (Final): {label}\\n\")\n",
        "  if verbose: print(f\"IC step 3 (Final Raw): {answer_str}\\n\")\n",
        "\n",
        "  return label\n"
      ]
    },
    {
      "cell_type": "markdown",
      "source": [
        "# RBIC + Few shot"
      ],
      "metadata": {
        "id": "7qh9e0-_4vBd"
      }
    },
    {
      "cell_type": "markdown",
      "metadata": {
        "id": "Ywio6Y56qHp5"
      },
      "source": [
        "# Qualitative Tests"
      ]
    },
    {
      "cell_type": "code",
      "execution_count": null,
      "metadata": {
        "colab": {
          "base_uri": "https://localhost:8080/"
        },
        "id": "lUiiX3X4zpBg",
        "outputId": "851c3e20-5a8d-4104-dcae-4e22403885c5"
      },
      "outputs": [
        {
          "name": "stdout",
          "output_type": "stream",
          "text": [
            "RB step 1: A salary range typically refers to the upper limit and lower limit of pay for a specific position within an organization or company. Currency frequency indicates how often the salary is paid, such as monthly, quarterly, annually, etc.\n",
            "\n",
            "For example:\n",
            "- **Salary Range**: $50k - $70k (monthly)\n",
            "- **Currency Frequency**: Monthly\n",
            "\n",
            "If there's no mention of these details, it might indicate that the salary is not disclosed or is confidential.\n",
            "\n",
            "RB step 2: ['Common phrases or numeric patterns indicating a salary range, currency, and frequency include:\\n\\n- **$X-Y** where X is the minimum and Y is the maximum salary.\\n- **M/M/Y** where M stands for monthly, M stands for half-monthly, and Y stands for yearly.\\n- **Y/Y** where Y represents years and Y/Y means annualized.\\n- **MM/YR** where MM represents months and YR represents years.\\n\\nThese terms help in understanding the scope and scale of the salary range mentioned in the job description.']\n",
            "\n",
            "Fewshot examples added\n",
            "\n"
          ]
        }
      ],
      "source": [
        "messages_static = RBIC_static_messages(verbose=True, add_fewshot=True)"
      ]
    },
    {
      "cell_type": "code",
      "execution_count": null,
      "metadata": {
        "colab": {
          "background_save": true,
          "base_uri": "https://localhost:8080/"
        },
        "id": "nhLmqQIr104f",
        "outputId": "22c67f43-e5be-47b2-ebab-de16e22fc0b7"
      },
      "outputs": [
        {
          "name": "stdout",
          "output_type": "stream",
          "text": [
            "len of messages_static 15\n",
            "step3 messages: 17\n",
            "IC step 1: yes\n",
            "\n",
            "step4 messages: 19\n",
            "IC step 2: {\"Clue\": \"Salary range: $70,049 - $98,351\"}\n",
            "\n",
            "step5 messages: 20\n",
            "IC step 3 (Final): $70-$98-USD-MONTHLY\n",
            "\n",
            "IC step 3 (Final Raw): {\"MinSalary\": \"$70\", \"MaxSalary\": \"$98\", \"Currency\": \"USD\", \"Frequency\": \"monthly\"}\n",
            "\n",
            "pred = $70-$98-USD-MONTHLY\n",
            "truth = 70049-98351-AUD-ANNUAL\n"
          ]
        }
      ],
      "source": [
        "ind = 345\n",
        "\n",
        "desc = {\n",
        "    \"job_title\": train_df.iloc[ind].job_title,\n",
        "    \"job_ad_details\": train_df.iloc[ind].job_ad_details,\n",
        "    \"nation_short_desc\": train_df.iloc[ind].nation_short_desc,\n",
        "    \"salary_additional_text\": train_df.iloc[ind].salary_additional_text,\n",
        "  }\n",
        "desc_str = str(desc)\n",
        "\n",
        "label = train_df.iloc[ind].y_true\n",
        "label_str = str(label)\n",
        "\n",
        "print(f\"len of messages_static {len(messages_static)}\")\n",
        "label_pred = RBIC(messages_static, desc_str, verbose=True)\n",
        "\n",
        "\n",
        "print(f\"pred = {label_pred}\")\n",
        "print(f\"truth = {label_str}\")"
      ]
    },
    {
      "cell_type": "markdown",
      "metadata": {
        "id": "RaaVoUzdshHs"
      },
      "source": [
        "## Quantitative Tests"
      ]
    },
    {
      "cell_type": "code",
      "execution_count": null,
      "metadata": {
        "colab": {
          "base_uri": "https://localhost:8080/",
          "height": 89
        },
        "id": "zZcICCuQthD4",
        "outputId": "cb08f61b-f96b-43ec-db5f-513d2c145915"
      },
      "outputs": [
        {
          "data": {
            "application/vnd.google.colaboratory.intrinsic+json": {
              "repr_error": "Out of range float values are not JSON compliant: nan",
              "type": "dataframe",
              "variable_name": "test_pred_df"
            },
            "text/html": [
              "\n",
              "  <div id=\"df-aa40a7ee-3ed4-4488-8af7-b08e2e04dce0\" class=\"colab-df-container\">\n",
              "    <div>\n",
              "<style scoped>\n",
              "    .dataframe tbody tr th:only-of-type {\n",
              "        vertical-align: middle;\n",
              "    }\n",
              "\n",
              "    .dataframe tbody tr th {\n",
              "        vertical-align: top;\n",
              "    }\n",
              "\n",
              "    .dataframe thead th {\n",
              "        text-align: right;\n",
              "    }\n",
              "</style>\n",
              "<table border=\"1\" class=\"dataframe\">\n",
              "  <thead>\n",
              "    <tr style=\"text-align: right;\">\n",
              "      <th></th>\n",
              "      <th>y_pred</th>\n",
              "    </tr>\n",
              "  </thead>\n",
              "  <tbody>\n",
              "  </tbody>\n",
              "</table>\n",
              "</div>\n",
              "    <div class=\"colab-df-buttons\">\n",
              "\n",
              "  <div class=\"colab-df-container\">\n",
              "    <button class=\"colab-df-convert\" onclick=\"convertToInteractive('df-aa40a7ee-3ed4-4488-8af7-b08e2e04dce0')\"\n",
              "            title=\"Convert this dataframe to an interactive table.\"\n",
              "            style=\"display:none;\">\n",
              "\n",
              "  <svg xmlns=\"http://www.w3.org/2000/svg\" height=\"24px\" viewBox=\"0 -960 960 960\">\n",
              "    <path d=\"M120-120v-720h720v720H120Zm60-500h600v-160H180v160Zm220 220h160v-160H400v160Zm0 220h160v-160H400v160ZM180-400h160v-160H180v160Zm440 0h160v-160H620v160ZM180-180h160v-160H180v160Zm440 0h160v-160H620v160Z\"/>\n",
              "  </svg>\n",
              "    </button>\n",
              "\n",
              "  <style>\n",
              "    .colab-df-container {\n",
              "      display:flex;\n",
              "      gap: 12px;\n",
              "    }\n",
              "\n",
              "    .colab-df-convert {\n",
              "      background-color: #E8F0FE;\n",
              "      border: none;\n",
              "      border-radius: 50%;\n",
              "      cursor: pointer;\n",
              "      display: none;\n",
              "      fill: #1967D2;\n",
              "      height: 32px;\n",
              "      padding: 0 0 0 0;\n",
              "      width: 32px;\n",
              "    }\n",
              "\n",
              "    .colab-df-convert:hover {\n",
              "      background-color: #E2EBFA;\n",
              "      box-shadow: 0px 1px 2px rgba(60, 64, 67, 0.3), 0px 1px 3px 1px rgba(60, 64, 67, 0.15);\n",
              "      fill: #174EA6;\n",
              "    }\n",
              "\n",
              "    .colab-df-buttons div {\n",
              "      margin-bottom: 4px;\n",
              "    }\n",
              "\n",
              "    [theme=dark] .colab-df-convert {\n",
              "      background-color: #3B4455;\n",
              "      fill: #D2E3FC;\n",
              "    }\n",
              "\n",
              "    [theme=dark] .colab-df-convert:hover {\n",
              "      background-color: #434B5C;\n",
              "      box-shadow: 0px 1px 3px 1px rgba(0, 0, 0, 0.15);\n",
              "      filter: drop-shadow(0px 1px 2px rgba(0, 0, 0, 0.3));\n",
              "      fill: #FFFFFF;\n",
              "    }\n",
              "  </style>\n",
              "\n",
              "    <script>\n",
              "      const buttonEl =\n",
              "        document.querySelector('#df-aa40a7ee-3ed4-4488-8af7-b08e2e04dce0 button.colab-df-convert');\n",
              "      buttonEl.style.display =\n",
              "        google.colab.kernel.accessAllowed ? 'block' : 'none';\n",
              "\n",
              "      async function convertToInteractive(key) {\n",
              "        const element = document.querySelector('#df-aa40a7ee-3ed4-4488-8af7-b08e2e04dce0');\n",
              "        const dataTable =\n",
              "          await google.colab.kernel.invokeFunction('convertToInteractive',\n",
              "                                                    [key], {});\n",
              "        if (!dataTable) return;\n",
              "\n",
              "        const docLinkHtml = 'Like what you see? Visit the ' +\n",
              "          '<a target=\"_blank\" href=https://colab.research.google.com/notebooks/data_table.ipynb>data table notebook</a>'\n",
              "          + ' to learn more about interactive tables.';\n",
              "        element.innerHTML = '';\n",
              "        dataTable['output_type'] = 'display_data';\n",
              "        await google.colab.output.renderOutput(dataTable, element);\n",
              "        const docLink = document.createElement('div');\n",
              "        docLink.innerHTML = docLinkHtml;\n",
              "        element.appendChild(docLink);\n",
              "      }\n",
              "    </script>\n",
              "  </div>\n",
              "\n",
              "\n",
              "  <div id=\"id_d655d7c6-c613-47d9-a549-85bde99956fb\">\n",
              "    <style>\n",
              "      .colab-df-generate {\n",
              "        background-color: #E8F0FE;\n",
              "        border: none;\n",
              "        border-radius: 50%;\n",
              "        cursor: pointer;\n",
              "        display: none;\n",
              "        fill: #1967D2;\n",
              "        height: 32px;\n",
              "        padding: 0 0 0 0;\n",
              "        width: 32px;\n",
              "      }\n",
              "\n",
              "      .colab-df-generate:hover {\n",
              "        background-color: #E2EBFA;\n",
              "        box-shadow: 0px 1px 2px rgba(60, 64, 67, 0.3), 0px 1px 3px 1px rgba(60, 64, 67, 0.15);\n",
              "        fill: #174EA6;\n",
              "      }\n",
              "\n",
              "      [theme=dark] .colab-df-generate {\n",
              "        background-color: #3B4455;\n",
              "        fill: #D2E3FC;\n",
              "      }\n",
              "\n",
              "      [theme=dark] .colab-df-generate:hover {\n",
              "        background-color: #434B5C;\n",
              "        box-shadow: 0px 1px 3px 1px rgba(0, 0, 0, 0.15);\n",
              "        filter: drop-shadow(0px 1px 2px rgba(0, 0, 0, 0.3));\n",
              "        fill: #FFFFFF;\n",
              "      }\n",
              "    </style>\n",
              "    <button class=\"colab-df-generate\" onclick=\"generateWithVariable('test_pred_df')\"\n",
              "            title=\"Generate code using this dataframe.\"\n",
              "            style=\"display:none;\">\n",
              "\n",
              "  <svg xmlns=\"http://www.w3.org/2000/svg\" height=\"24px\"viewBox=\"0 0 24 24\"\n",
              "       width=\"24px\">\n",
              "    <path d=\"M7,19H8.4L18.45,9,17,7.55,7,17.6ZM5,21V16.75L18.45,3.32a2,2,0,0,1,2.83,0l1.4,1.43a1.91,1.91,0,0,1,.58,1.4,1.91,1.91,0,0,1-.58,1.4L9.25,21ZM18.45,9,17,7.55Zm-12,3A5.31,5.31,0,0,0,4.9,8.1,5.31,5.31,0,0,0,1,6.5,5.31,5.31,0,0,0,4.9,4.9,5.31,5.31,0,0,0,6.5,1,5.31,5.31,0,0,0,8.1,4.9,5.31,5.31,0,0,0,12,6.5,5.46,5.46,0,0,0,6.5,12Z\"/>\n",
              "  </svg>\n",
              "    </button>\n",
              "    <script>\n",
              "      (() => {\n",
              "      const buttonEl =\n",
              "        document.querySelector('#id_d655d7c6-c613-47d9-a549-85bde99956fb button.colab-df-generate');\n",
              "      buttonEl.style.display =\n",
              "        google.colab.kernel.accessAllowed ? 'block' : 'none';\n",
              "\n",
              "      buttonEl.onclick = () => {\n",
              "        google.colab.notebook.generateWithVariable('test_pred_df');\n",
              "      }\n",
              "      })();\n",
              "    </script>\n",
              "  </div>\n",
              "\n",
              "    </div>\n",
              "  </div>\n"
            ],
            "text/plain": [
              "Empty DataFrame\n",
              "Columns: [y_pred]\n",
              "Index: []"
            ]
          },
          "execution_count": 15,
          "metadata": {},
          "output_type": "execute_result"
        }
      ],
      "source": [
        "test_pred_df = pd.DataFrame(columns=[\"y_pred\"])\n",
        "test_pred_df"
      ]
    },
    {
      "cell_type": "code",
      "execution_count": null,
      "metadata": {
        "id": "eH3TDAsEswN0"
      },
      "outputs": [],
      "source": [
        "for i in tqdm(range(len(test_df))):\n",
        "    desc = {\n",
        "        \"job_title\": test_df.iloc[i].job_title,\n",
        "        \"job_ad_details\": test_df.iloc[i].job_ad_details,\n",
        "        \"nation_short_desc\": test_df.iloc[i].nation_short_desc,\n",
        "        \"salary_additional_text\": test_df.iloc[i].salary_additional_text,\n",
        "    }\n",
        "    desc_str = str(desc)\n",
        "\n",
        "    label = test_df.iloc[i].y_true\n",
        "    label_str = str(label)\n",
        "\n",
        "    label_pred = RBIC(messages_static, desc_str)\n",
        "\n",
        "    test_pred_df.loc[len(test_pred_df)] = label_pred\n",
        "\n",
        "# export the dataframe to a new csv file\n",
        "test_pred_df.to_csv('salary_labelled_test_set_qwen_rbic_fewshot_preds.csv', index=False)"
      ]
    },
    {
      "cell_type": "markdown",
      "metadata": {
        "id": "gOY3S3syJn8k"
      },
      "source": [
        "## **Post processing few shot**\n",
        "fix error json outputs from model"
      ]
    },
    {
      "cell_type": "code",
      "execution_count": null,
      "metadata": {
        "colab": {
          "base_uri": "https://localhost:8080/",
          "height": 419
        },
        "id": "z7f8SnE1JmER",
        "outputId": "00ec3b08-6c25-438c-c769-3fc5f2ff672f"
      },
      "outputs": [
        {
          "data": {
            "application/vnd.google.colaboratory.intrinsic+json": {
              "summary": "{\n  \"name\": \"rbic_df\",\n  \"rows\": 576,\n  \"fields\": [\n    {\n      \"column\": \"y_pred\",\n      \"properties\": {\n        \"dtype\": \"string\",\n        \"num_unique_values\": 471,\n        \"samples\": [\n          \"$35,000-$45,000-USD-YEARLY\",\n          \"$27-$35-USD-MONTHLY\",\n          \"RM5,000-RM8,000-THB-YEARLY\"\n        ],\n        \"semantic_type\": \"\",\n        \"description\": \"\"\n      }\n    }\n  ]\n}",
              "type": "dataframe",
              "variable_name": "rbic_df"
            },
            "text/html": [
              "\n",
              "  <div id=\"df-e128bcb3-5d9a-487e-8fbc-456d515c7422\" class=\"colab-df-container\">\n",
              "    <div>\n",
              "<style scoped>\n",
              "    .dataframe tbody tr th:only-of-type {\n",
              "        vertical-align: middle;\n",
              "    }\n",
              "\n",
              "    .dataframe tbody tr th {\n",
              "        vertical-align: top;\n",
              "    }\n",
              "\n",
              "    .dataframe thead th {\n",
              "        text-align: right;\n",
              "    }\n",
              "</style>\n",
              "<table border=\"1\" class=\"dataframe\">\n",
              "  <thead>\n",
              "    <tr style=\"text-align: right;\">\n",
              "      <th></th>\n",
              "      <th>y_pred</th>\n",
              "    </tr>\n",
              "  </thead>\n",
              "  <tbody>\n",
              "    <tr>\n",
              "      <th>0</th>\n",
              "      <td>ERROR ```json\\n{\\n  \"MinSalary\": \"\",\\n  \"MaxSa...</td>\n",
              "    </tr>\n",
              "    <tr>\n",
              "      <th>1</th>\n",
              "      <td>$1000-$2000-USD-MONTHLY</td>\n",
              "    </tr>\n",
              "    <tr>\n",
              "      <th>2</th>\n",
              "      <td>$3000-$5000-USD-YEARLY</td>\n",
              "    </tr>\n",
              "    <tr>\n",
              "      <th>3</th>\n",
              "      <td>$11,000-$11,000-USD-MONTHLY</td>\n",
              "    </tr>\n",
              "    <tr>\n",
              "      <th>4</th>\n",
              "      <td>$2,000-$3,000-USD-MONTHLY</td>\n",
              "    </tr>\n",
              "    <tr>\n",
              "      <th>...</th>\n",
              "      <td>...</td>\n",
              "    </tr>\n",
              "    <tr>\n",
              "      <th>571</th>\n",
              "      <td>$26.24-$26.24-THB-YEARLY</td>\n",
              "    </tr>\n",
              "    <tr>\n",
              "      <th>572</th>\n",
              "      <td>$2500-$3500-USD-MONTHLY</td>\n",
              "    </tr>\n",
              "    <tr>\n",
              "      <th>573</th>\n",
              "      <td>27.36-28.36-AUD-MONTHLY</td>\n",
              "    </tr>\n",
              "    <tr>\n",
              "      <th>574</th>\n",
              "      <td>$1500.00-$2500.00-USD-MONTHLY</td>\n",
              "    </tr>\n",
              "    <tr>\n",
              "      <th>575</th>\n",
              "      <td>ERROR ```json\\n{\\n  \"MinSalary\": \"0\",\\n  \"MaxS...</td>\n",
              "    </tr>\n",
              "  </tbody>\n",
              "</table>\n",
              "<p>576 rows × 1 columns</p>\n",
              "</div>\n",
              "    <div class=\"colab-df-buttons\">\n",
              "\n",
              "  <div class=\"colab-df-container\">\n",
              "    <button class=\"colab-df-convert\" onclick=\"convertToInteractive('df-e128bcb3-5d9a-487e-8fbc-456d515c7422')\"\n",
              "            title=\"Convert this dataframe to an interactive table.\"\n",
              "            style=\"display:none;\">\n",
              "\n",
              "  <svg xmlns=\"http://www.w3.org/2000/svg\" height=\"24px\" viewBox=\"0 -960 960 960\">\n",
              "    <path d=\"M120-120v-720h720v720H120Zm60-500h600v-160H180v160Zm220 220h160v-160H400v160Zm0 220h160v-160H400v160ZM180-400h160v-160H180v160Zm440 0h160v-160H620v160ZM180-180h160v-160H180v160Zm440 0h160v-160H620v160Z\"/>\n",
              "  </svg>\n",
              "    </button>\n",
              "\n",
              "  <style>\n",
              "    .colab-df-container {\n",
              "      display:flex;\n",
              "      gap: 12px;\n",
              "    }\n",
              "\n",
              "    .colab-df-convert {\n",
              "      background-color: #E8F0FE;\n",
              "      border: none;\n",
              "      border-radius: 50%;\n",
              "      cursor: pointer;\n",
              "      display: none;\n",
              "      fill: #1967D2;\n",
              "      height: 32px;\n",
              "      padding: 0 0 0 0;\n",
              "      width: 32px;\n",
              "    }\n",
              "\n",
              "    .colab-df-convert:hover {\n",
              "      background-color: #E2EBFA;\n",
              "      box-shadow: 0px 1px 2px rgba(60, 64, 67, 0.3), 0px 1px 3px 1px rgba(60, 64, 67, 0.15);\n",
              "      fill: #174EA6;\n",
              "    }\n",
              "\n",
              "    .colab-df-buttons div {\n",
              "      margin-bottom: 4px;\n",
              "    }\n",
              "\n",
              "    [theme=dark] .colab-df-convert {\n",
              "      background-color: #3B4455;\n",
              "      fill: #D2E3FC;\n",
              "    }\n",
              "\n",
              "    [theme=dark] .colab-df-convert:hover {\n",
              "      background-color: #434B5C;\n",
              "      box-shadow: 0px 1px 3px 1px rgba(0, 0, 0, 0.15);\n",
              "      filter: drop-shadow(0px 1px 2px rgba(0, 0, 0, 0.3));\n",
              "      fill: #FFFFFF;\n",
              "    }\n",
              "  </style>\n",
              "\n",
              "    <script>\n",
              "      const buttonEl =\n",
              "        document.querySelector('#df-e128bcb3-5d9a-487e-8fbc-456d515c7422 button.colab-df-convert');\n",
              "      buttonEl.style.display =\n",
              "        google.colab.kernel.accessAllowed ? 'block' : 'none';\n",
              "\n",
              "      async function convertToInteractive(key) {\n",
              "        const element = document.querySelector('#df-e128bcb3-5d9a-487e-8fbc-456d515c7422');\n",
              "        const dataTable =\n",
              "          await google.colab.kernel.invokeFunction('convertToInteractive',\n",
              "                                                    [key], {});\n",
              "        if (!dataTable) return;\n",
              "\n",
              "        const docLinkHtml = 'Like what you see? Visit the ' +\n",
              "          '<a target=\"_blank\" href=https://colab.research.google.com/notebooks/data_table.ipynb>data table notebook</a>'\n",
              "          + ' to learn more about interactive tables.';\n",
              "        element.innerHTML = '';\n",
              "        dataTable['output_type'] = 'display_data';\n",
              "        await google.colab.output.renderOutput(dataTable, element);\n",
              "        const docLink = document.createElement('div');\n",
              "        docLink.innerHTML = docLinkHtml;\n",
              "        element.appendChild(docLink);\n",
              "      }\n",
              "    </script>\n",
              "  </div>\n",
              "\n",
              "\n",
              "<div id=\"df-cb0db381-639e-4168-80fe-3c3482e0e6db\">\n",
              "  <button class=\"colab-df-quickchart\" onclick=\"quickchart('df-cb0db381-639e-4168-80fe-3c3482e0e6db')\"\n",
              "            title=\"Suggest charts\"\n",
              "            style=\"display:none;\">\n",
              "\n",
              "<svg xmlns=\"http://www.w3.org/2000/svg\" height=\"24px\"viewBox=\"0 0 24 24\"\n",
              "     width=\"24px\">\n",
              "    <g>\n",
              "        <path d=\"M19 3H5c-1.1 0-2 .9-2 2v14c0 1.1.9 2 2 2h14c1.1 0 2-.9 2-2V5c0-1.1-.9-2-2-2zM9 17H7v-7h2v7zm4 0h-2V7h2v10zm4 0h-2v-4h2v4z\"/>\n",
              "    </g>\n",
              "</svg>\n",
              "  </button>\n",
              "\n",
              "<style>\n",
              "  .colab-df-quickchart {\n",
              "      --bg-color: #E8F0FE;\n",
              "      --fill-color: #1967D2;\n",
              "      --hover-bg-color: #E2EBFA;\n",
              "      --hover-fill-color: #174EA6;\n",
              "      --disabled-fill-color: #AAA;\n",
              "      --disabled-bg-color: #DDD;\n",
              "  }\n",
              "\n",
              "  [theme=dark] .colab-df-quickchart {\n",
              "      --bg-color: #3B4455;\n",
              "      --fill-color: #D2E3FC;\n",
              "      --hover-bg-color: #434B5C;\n",
              "      --hover-fill-color: #FFFFFF;\n",
              "      --disabled-bg-color: #3B4455;\n",
              "      --disabled-fill-color: #666;\n",
              "  }\n",
              "\n",
              "  .colab-df-quickchart {\n",
              "    background-color: var(--bg-color);\n",
              "    border: none;\n",
              "    border-radius: 50%;\n",
              "    cursor: pointer;\n",
              "    display: none;\n",
              "    fill: var(--fill-color);\n",
              "    height: 32px;\n",
              "    padding: 0;\n",
              "    width: 32px;\n",
              "  }\n",
              "\n",
              "  .colab-df-quickchart:hover {\n",
              "    background-color: var(--hover-bg-color);\n",
              "    box-shadow: 0 1px 2px rgba(60, 64, 67, 0.3), 0 1px 3px 1px rgba(60, 64, 67, 0.15);\n",
              "    fill: var(--button-hover-fill-color);\n",
              "  }\n",
              "\n",
              "  .colab-df-quickchart-complete:disabled,\n",
              "  .colab-df-quickchart-complete:disabled:hover {\n",
              "    background-color: var(--disabled-bg-color);\n",
              "    fill: var(--disabled-fill-color);\n",
              "    box-shadow: none;\n",
              "  }\n",
              "\n",
              "  .colab-df-spinner {\n",
              "    border: 2px solid var(--fill-color);\n",
              "    border-color: transparent;\n",
              "    border-bottom-color: var(--fill-color);\n",
              "    animation:\n",
              "      spin 1s steps(1) infinite;\n",
              "  }\n",
              "\n",
              "  @keyframes spin {\n",
              "    0% {\n",
              "      border-color: transparent;\n",
              "      border-bottom-color: var(--fill-color);\n",
              "      border-left-color: var(--fill-color);\n",
              "    }\n",
              "    20% {\n",
              "      border-color: transparent;\n",
              "      border-left-color: var(--fill-color);\n",
              "      border-top-color: var(--fill-color);\n",
              "    }\n",
              "    30% {\n",
              "      border-color: transparent;\n",
              "      border-left-color: var(--fill-color);\n",
              "      border-top-color: var(--fill-color);\n",
              "      border-right-color: var(--fill-color);\n",
              "    }\n",
              "    40% {\n",
              "      border-color: transparent;\n",
              "      border-right-color: var(--fill-color);\n",
              "      border-top-color: var(--fill-color);\n",
              "    }\n",
              "    60% {\n",
              "      border-color: transparent;\n",
              "      border-right-color: var(--fill-color);\n",
              "    }\n",
              "    80% {\n",
              "      border-color: transparent;\n",
              "      border-right-color: var(--fill-color);\n",
              "      border-bottom-color: var(--fill-color);\n",
              "    }\n",
              "    90% {\n",
              "      border-color: transparent;\n",
              "      border-bottom-color: var(--fill-color);\n",
              "    }\n",
              "  }\n",
              "</style>\n",
              "\n",
              "  <script>\n",
              "    async function quickchart(key) {\n",
              "      const quickchartButtonEl =\n",
              "        document.querySelector('#' + key + ' button');\n",
              "      quickchartButtonEl.disabled = true;  // To prevent multiple clicks.\n",
              "      quickchartButtonEl.classList.add('colab-df-spinner');\n",
              "      try {\n",
              "        const charts = await google.colab.kernel.invokeFunction(\n",
              "            'suggestCharts', [key], {});\n",
              "      } catch (error) {\n",
              "        console.error('Error during call to suggestCharts:', error);\n",
              "      }\n",
              "      quickchartButtonEl.classList.remove('colab-df-spinner');\n",
              "      quickchartButtonEl.classList.add('colab-df-quickchart-complete');\n",
              "    }\n",
              "    (() => {\n",
              "      let quickchartButtonEl =\n",
              "        document.querySelector('#df-cb0db381-639e-4168-80fe-3c3482e0e6db button');\n",
              "      quickchartButtonEl.style.display =\n",
              "        google.colab.kernel.accessAllowed ? 'block' : 'none';\n",
              "    })();\n",
              "  </script>\n",
              "</div>\n",
              "\n",
              "  <div id=\"id_647787bc-1ca8-4765-b03b-31a818b80b2a\">\n",
              "    <style>\n",
              "      .colab-df-generate {\n",
              "        background-color: #E8F0FE;\n",
              "        border: none;\n",
              "        border-radius: 50%;\n",
              "        cursor: pointer;\n",
              "        display: none;\n",
              "        fill: #1967D2;\n",
              "        height: 32px;\n",
              "        padding: 0 0 0 0;\n",
              "        width: 32px;\n",
              "      }\n",
              "\n",
              "      .colab-df-generate:hover {\n",
              "        background-color: #E2EBFA;\n",
              "        box-shadow: 0px 1px 2px rgba(60, 64, 67, 0.3), 0px 1px 3px 1px rgba(60, 64, 67, 0.15);\n",
              "        fill: #174EA6;\n",
              "      }\n",
              "\n",
              "      [theme=dark] .colab-df-generate {\n",
              "        background-color: #3B4455;\n",
              "        fill: #D2E3FC;\n",
              "      }\n",
              "\n",
              "      [theme=dark] .colab-df-generate:hover {\n",
              "        background-color: #434B5C;\n",
              "        box-shadow: 0px 1px 3px 1px rgba(0, 0, 0, 0.15);\n",
              "        filter: drop-shadow(0px 1px 2px rgba(0, 0, 0, 0.3));\n",
              "        fill: #FFFFFF;\n",
              "      }\n",
              "    </style>\n",
              "    <button class=\"colab-df-generate\" onclick=\"generateWithVariable('rbic_df')\"\n",
              "            title=\"Generate code using this dataframe.\"\n",
              "            style=\"display:none;\">\n",
              "\n",
              "  <svg xmlns=\"http://www.w3.org/2000/svg\" height=\"24px\"viewBox=\"0 0 24 24\"\n",
              "       width=\"24px\">\n",
              "    <path d=\"M7,19H8.4L18.45,9,17,7.55,7,17.6ZM5,21V16.75L18.45,3.32a2,2,0,0,1,2.83,0l1.4,1.43a1.91,1.91,0,0,1,.58,1.4,1.91,1.91,0,0,1-.58,1.4L9.25,21ZM18.45,9,17,7.55Zm-12,3A5.31,5.31,0,0,0,4.9,8.1,5.31,5.31,0,0,0,1,6.5,5.31,5.31,0,0,0,4.9,4.9,5.31,5.31,0,0,0,6.5,1,5.31,5.31,0,0,0,8.1,4.9,5.31,5.31,0,0,0,12,6.5,5.46,5.46,0,0,0,6.5,12Z\"/>\n",
              "  </svg>\n",
              "    </button>\n",
              "    <script>\n",
              "      (() => {\n",
              "      const buttonEl =\n",
              "        document.querySelector('#id_647787bc-1ca8-4765-b03b-31a818b80b2a button.colab-df-generate');\n",
              "      buttonEl.style.display =\n",
              "        google.colab.kernel.accessAllowed ? 'block' : 'none';\n",
              "\n",
              "      buttonEl.onclick = () => {\n",
              "        google.colab.notebook.generateWithVariable('rbic_df');\n",
              "      }\n",
              "      })();\n",
              "    </script>\n",
              "  </div>\n",
              "\n",
              "    </div>\n",
              "  </div>\n"
            ],
            "text/plain": [
              "                                                y_pred\n",
              "0    ERROR ```json\\n{\\n  \"MinSalary\": \"\",\\n  \"MaxSa...\n",
              "1                              $1000-$2000-USD-MONTHLY\n",
              "2                               $3000-$5000-USD-YEARLY\n",
              "3                          $11,000-$11,000-USD-MONTHLY\n",
              "4                            $2,000-$3,000-USD-MONTHLY\n",
              "..                                                 ...\n",
              "571                           $26.24-$26.24-THB-YEARLY\n",
              "572                            $2500-$3500-USD-MONTHLY\n",
              "573                            27.36-28.36-AUD-MONTHLY\n",
              "574                      $1500.00-$2500.00-USD-MONTHLY\n",
              "575  ERROR ```json\\n{\\n  \"MinSalary\": \"0\",\\n  \"MaxS...\n",
              "\n",
              "[576 rows x 1 columns]"
            ]
          },
          "execution_count": 49,
          "metadata": {},
          "output_type": "execute_result"
        }
      ],
      "source": [
        "rbic_df = pd.read_csv(\"salary_labelled_test_set_qwen_rbic_fewshot_preds.csv\")\n",
        "rbic_df"
      ]
    },
    {
      "cell_type": "code",
      "execution_count": null,
      "metadata": {
        "id": "ifx2edOosAe3"
      },
      "outputs": [],
      "source": [
        "post_process_fewshot_df = pd.DataFrame(columns=[\"y_pred\"])"
      ]
    },
    {
      "cell_type": "code",
      "execution_count": null,
      "metadata": {
        "id": "E3-DmhOoVQ2W"
      },
      "outputs": [],
      "source": [
        "# include missing quote for value of minSalary\n",
        "cleaned_text = rbic_df.iloc[120].y_pred\n",
        "cleaned_text = re.sub(r'(฿[\\d]+)', r'\"\\1\"', cleaned_text)\n",
        "rbic_df.iloc[120].y_pred = cleaned_text"
      ]
    },
    {
      "cell_type": "code",
      "execution_count": null,
      "metadata": {
        "id": "A1y6shsuKjGq"
      },
      "outputs": [],
      "source": [
        "for i in rbic_df.index:\n",
        "  prediction = rbic_df.iloc[i].y_pred\n",
        "  if \"ERROR\" in rbic_df.iloc[i].y_pred :\n",
        "    cleaned_text = prediction.replace(\"ERROR\", \"\").replace(\"```json\", \"\").replace(\"```\", \"\").strip()\n",
        "    # remove any \"}}\" at the end\n",
        "    cleaned_text = cleaned_text.replace(\"}}\", \"}\")\n",
        "    try:\n",
        "      loaded = json.loads(cleaned_text)\n",
        "      label = f\"{loaded['MinSalary']}-{loaded['MaxSalary']}-{loaded['Currency'].upper()}-{loaded['Frequency'].upper()}\"\n",
        "      post_process_fewshot_df.loc[i] = label\n",
        "    except:\n",
        "      print(\"failed didnt work\", cleaned_text, \"at index\", i)\n",
        "\n",
        "post_process_fewshot_df.to_csv('2+post_processed_salary_labelled_test_set_qwen_rbic_fewshot_preds.csv', index=False)\n"
      ]
    },
    {
      "cell_type": "code",
      "execution_count": null,
      "metadata": {
        "colab": {
          "base_uri": "https://localhost:8080/",
          "height": 83
        },
        "id": "TWOYD93WtzfT",
        "outputId": "545e43b2-6a78-4d8d-ee3e-eefc98cb22f4"
      },
      "outputs": [
        {
          "data": {
            "text/html": [
              "<div>\n",
              "<style scoped>\n",
              "    .dataframe tbody tr th:only-of-type {\n",
              "        vertical-align: middle;\n",
              "    }\n",
              "\n",
              "    .dataframe tbody tr th {\n",
              "        vertical-align: top;\n",
              "    }\n",
              "\n",
              "    .dataframe thead th {\n",
              "        text-align: right;\n",
              "    }\n",
              "</style>\n",
              "<table border=\"1\" class=\"dataframe\">\n",
              "  <thead>\n",
              "    <tr style=\"text-align: right;\">\n",
              "      <th></th>\n",
              "      <th>y_pred</th>\n",
              "    </tr>\n",
              "  </thead>\n",
              "  <tbody>\n",
              "  </tbody>\n",
              "</table>\n",
              "</div><br><label><b>dtype:</b> object</label>"
            ],
            "text/plain": [
              "Series([], Name: y_pred, dtype: object)"
            ]
          },
          "execution_count": 48,
          "metadata": {},
          "output_type": "execute_result"
        }
      ],
      "source": [
        "post_process_fewshot_df['y_pred']"
      ]
    },
    {
      "cell_type": "markdown",
      "metadata": {
        "id": "KURzTLj5h-8L"
      },
      "source": [
        "# **No Few Shot**\n"
      ]
    },
    {
      "cell_type": "code",
      "execution_count": null,
      "metadata": {
        "colab": {
          "base_uri": "https://localhost:8080/"
        },
        "id": "sPrONT1liNfD",
        "outputId": "ecf712e2-f878-4e01-b029-8cf009345f33"
      },
      "outputs": [
        {
          "name": "stdout",
          "output_type": "stream",
          "text": [
            "RB step 1: Certainly! Here's a brief explanation:\n",
            "\n",
            "**Salary Range**: The salary range typically refers to the upper limit (minimum) and lower limit (maximum) of pay for the position.\n",
            "\n",
            "**Currency**: This usually includes the currency used by the employer or company to calculate salaries. Common currencies include USD (United States Dollar), EUR (Euro), GBP (British Pound Sterling), CAD (Canadian Dollar), etc.\n",
            "\n",
            "**Frequency**: Frequency might refer to how often the salary is paid out (e.g., monthly, quarterly). It could also indicate whether the salary is fixed or variable based on performance metrics, such as annual bonuses, commissions, etc.\n",
            "\n",
            "For example:\n",
            "- Minimum Salary Range: $50,000 - $70,000 USD\n",
            "- Currency: USD\n",
            "- Frequency: Monthly\n",
            "\n",
            "If there's no clear information provided about salary ranges, currency, or frequencies, it would be best to provide more context or ask clarifying questions directly in the job description.\n",
            "\n",
            "RB step 2: ['Here are some common phrases and numeric patterns that can indicate a salary range, currency, and frequency in a job description:\\n\\n1. **Minimum Salary Range**: \"The minimum salary range is $X-$Y USD.\"\\n2. **Maximum Salary Range**: \"The maximum salary range is $X-Y USD.\"\\n3. **Currency**: \"The salary is calculated in USD.\"\\n4. **Frequency**: \"The salary is paid every X months.\"\\n5. **Base Salary**: \"Base salary is $Z USD.\"\\n6. **Performance-Based Pay**: \"Performance-based pay is linked to sales performance.\"\\n7. **Bonus Structure**: \"Bonuses are based on sales volume.\"\\n8. **Compensation Plan**: \"Compensation plans include annual bonuses.\"\\n9. **Pay Cycle**: \"Payment cycle is monthly.\"\\n\\nFor example:\\n- Minimum Salary Range: \"$50,000 - $70,000 USD\"\\n- Maximum Salary Range: \"$60,000 - $80,000 USD\"\\n- Currency: USD\\n- Frequency: Monthly\\n\\nIf there\\'s any ambiguity in the job description regarding these specific terms, it may help to consult the full text or contact the hiring manager directly for clarification.']\n",
            "\n"
          ]
        }
      ],
      "source": [
        "messages_static = RBIC_static_messages(verbose=True, add_fewshot=False)"
      ]
    },
    {
      "cell_type": "code",
      "execution_count": null,
      "metadata": {
        "id": "dGpIyQTrifLW"
      },
      "outputs": [],
      "source": [
        "test_pred_df = pd.DataFrame(columns=[\"y_pred\"])"
      ]
    },
    {
      "cell_type": "code",
      "execution_count": null,
      "metadata": {
        "colab": {
          "base_uri": "https://localhost:8080/"
        },
        "id": "uFYHyMN5ihPo",
        "outputId": "3697c4ed-3556-4278-f4f7-ff7d69f3b809"
      },
      "outputs": [
        {
          "name": "stderr",
          "output_type": "stream",
          "text": [
            "\r  0%|          | 0/567 [00:00<?, ?it/s]"
          ]
        },
        {
          "name": "stdout",
          "output_type": "stream",
          "text": [
            "step3 messages: 7\n",
            "step4 messages: 9\n"
          ]
        },
        {
          "name": "stderr",
          "output_type": "stream",
          "text": [
            "\r  0%|          | 1/567 [00:05<48:40,  5.16s/it]"
          ]
        },
        {
          "name": "stdout",
          "output_type": "stream",
          "text": [
            "step5 messages: 10\n",
            "Failed to parse model output as JSON:\n",
            "step3 messages: 7\n",
            "step4 messages: 9\n"
          ]
        },
        {
          "name": "stderr",
          "output_type": "stream",
          "text": [
            "\r  0%|          | 2/567 [00:12<58:06,  6.17s/it]"
          ]
        },
        {
          "name": "stdout",
          "output_type": "stream",
          "text": [
            "step5 messages: 10\n",
            "Failed to parse model output as JSON:\n",
            "step3 messages: 7\n",
            "step4 messages: 9\n"
          ]
        },
        {
          "name": "stderr",
          "output_type": "stream",
          "text": [
            "\r  1%|          | 3/567 [00:16<51:03,  5.43s/it]"
          ]
        },
        {
          "name": "stdout",
          "output_type": "stream",
          "text": [
            "step5 messages: 10\n",
            "Failed to parse model output as JSON:\n",
            "step3 messages: 7\n",
            "step4 messages: 9\n"
          ]
        },
        {
          "name": "stderr",
          "output_type": "stream",
          "text": [
            "\r  1%|          | 4/567 [00:19<42:47,  4.56s/it]"
          ]
        },
        {
          "name": "stdout",
          "output_type": "stream",
          "text": [
            "step5 messages: 10\n",
            "Failed to parse model output as JSON:\n",
            "step3 messages: 7\n",
            "step4 messages: 9\n"
          ]
        },
        {
          "name": "stderr",
          "output_type": "stream",
          "text": [
            "\r  1%|          | 5/567 [00:23<38:59,  4.16s/it]"
          ]
        },
        {
          "name": "stdout",
          "output_type": "stream",
          "text": [
            "step5 messages: 10\n",
            "Failed to parse model output as JSON:\n",
            "step3 messages: 7\n",
            "step4 messages: 9\n"
          ]
        },
        {
          "name": "stderr",
          "output_type": "stream",
          "text": [
            "\r  1%|          | 6/567 [00:27<39:30,  4.22s/it]"
          ]
        },
        {
          "name": "stdout",
          "output_type": "stream",
          "text": [
            "step5 messages: 10\n",
            "Failed to parse model output as JSON:\n",
            "step3 messages: 7\n",
            "step4 messages: 9\n"
          ]
        },
        {
          "name": "stderr",
          "output_type": "stream",
          "text": [
            "\r  1%|          | 7/567 [00:31<37:16,  3.99s/it]"
          ]
        },
        {
          "name": "stdout",
          "output_type": "stream",
          "text": [
            "step5 messages: 10\n",
            "Failed to parse model output as JSON:\n",
            "step3 messages: 7\n",
            "step4 messages: 9\n"
          ]
        },
        {
          "name": "stderr",
          "output_type": "stream",
          "text": [
            "\r  1%|▏         | 8/567 [00:34<36:14,  3.89s/it]"
          ]
        },
        {
          "name": "stdout",
          "output_type": "stream",
          "text": [
            "step5 messages: 10\n",
            "Failed to parse model output as JSON:\n",
            "step3 messages: 7\n",
            "step4 messages: 9\n"
          ]
        },
        {
          "name": "stderr",
          "output_type": "stream",
          "text": [
            "\r  2%|▏         | 9/567 [00:39<39:42,  4.27s/it]"
          ]
        },
        {
          "name": "stdout",
          "output_type": "stream",
          "text": [
            "step5 messages: 10\n",
            "Failed to parse model output as JSON:\n",
            "step3 messages: 7\n",
            "step4 messages: 9\n"
          ]
        },
        {
          "name": "stderr",
          "output_type": "stream",
          "text": [
            "\r  2%|▏         | 10/567 [00:43<37:14,  4.01s/it]"
          ]
        },
        {
          "name": "stdout",
          "output_type": "stream",
          "text": [
            "step5 messages: 10\n",
            "Failed to parse model output as JSON:\n",
            "step3 messages: 7\n",
            "step4 messages: 9\n"
          ]
        },
        {
          "name": "stderr",
          "output_type": "stream",
          "text": [
            "\r  2%|▏         | 11/567 [00:46<35:36,  3.84s/it]"
          ]
        },
        {
          "name": "stdout",
          "output_type": "stream",
          "text": [
            "step5 messages: 10\n",
            "Failed to parse model output as JSON:\n",
            "step3 messages: 7\n",
            "step4 messages: 9\n"
          ]
        },
        {
          "name": "stderr",
          "output_type": "stream",
          "text": [
            "\r  2%|▏         | 12/567 [00:50<35:43,  3.86s/it]"
          ]
        },
        {
          "name": "stdout",
          "output_type": "stream",
          "text": [
            "step5 messages: 10\n",
            "Failed to parse model output as JSON:\n",
            "step3 messages: 7\n",
            "step4 messages: 9\n"
          ]
        },
        {
          "name": "stderr",
          "output_type": "stream",
          "text": [
            "\r  2%|▏         | 13/567 [00:55<38:50,  4.21s/it]"
          ]
        },
        {
          "name": "stdout",
          "output_type": "stream",
          "text": [
            "step5 messages: 10\n",
            "Failed to parse model output as JSON:\n",
            "step3 messages: 7\n",
            "step4 messages: 9\n"
          ]
        },
        {
          "name": "stderr",
          "output_type": "stream",
          "text": [
            "\r  2%|▏         | 14/567 [00:59<37:47,  4.10s/it]"
          ]
        },
        {
          "name": "stdout",
          "output_type": "stream",
          "text": [
            "step5 messages: 10\n",
            "Failed to parse model output as JSON:\n",
            "step3 messages: 7\n",
            "step4 messages: 9\n"
          ]
        },
        {
          "name": "stderr",
          "output_type": "stream",
          "text": [
            "\r  3%|▎         | 15/567 [01:04<39:46,  4.32s/it]"
          ]
        },
        {
          "name": "stdout",
          "output_type": "stream",
          "text": [
            "step5 messages: 10\n",
            "Failed to parse model output as JSON:\n",
            "step3 messages: 7\n",
            "step4 messages: 9\n"
          ]
        },
        {
          "name": "stderr",
          "output_type": "stream",
          "text": [
            "\r  3%|▎         | 16/567 [01:07<37:04,  4.04s/it]"
          ]
        },
        {
          "name": "stdout",
          "output_type": "stream",
          "text": [
            "step5 messages: 10\n",
            "Failed to parse model output as JSON:\n",
            "step3 messages: 7\n",
            "step4 messages: 9\n"
          ]
        },
        {
          "name": "stderr",
          "output_type": "stream",
          "text": [
            "\r  3%|▎         | 17/567 [01:10<34:45,  3.79s/it]"
          ]
        },
        {
          "name": "stdout",
          "output_type": "stream",
          "text": [
            "step5 messages: 10\n",
            "Failed to parse model output as JSON:\n",
            "step3 messages: 7\n",
            "step4 messages: 9\n"
          ]
        },
        {
          "name": "stderr",
          "output_type": "stream",
          "text": [
            "\r  3%|▎         | 18/567 [01:14<34:35,  3.78s/it]"
          ]
        },
        {
          "name": "stdout",
          "output_type": "stream",
          "text": [
            "step5 messages: 10\n",
            "Failed to parse model output as JSON:\n",
            "step3 messages: 7\n",
            "step4 messages: 9\n"
          ]
        },
        {
          "name": "stderr",
          "output_type": "stream",
          "text": [
            "\r  3%|▎         | 19/567 [01:21<41:22,  4.53s/it]"
          ]
        },
        {
          "name": "stdout",
          "output_type": "stream",
          "text": [
            "step5 messages: 10\n",
            "Failed to parse model output as JSON:\n",
            "step3 messages: 7\n",
            "step4 messages: 9\n"
          ]
        },
        {
          "name": "stderr",
          "output_type": "stream",
          "text": [
            "\r  4%|▎         | 20/567 [01:25<42:08,  4.62s/it]"
          ]
        },
        {
          "name": "stdout",
          "output_type": "stream",
          "text": [
            "step5 messages: 10\n",
            "Failed to parse model output as JSON:\n",
            "step3 messages: 7\n",
            "step4 messages: 9\n"
          ]
        },
        {
          "name": "stderr",
          "output_type": "stream",
          "text": [
            "\r  4%|▎         | 21/567 [01:28<37:57,  4.17s/it]"
          ]
        },
        {
          "name": "stdout",
          "output_type": "stream",
          "text": [
            "step5 messages: 10\n",
            "Failed to parse model output as JSON:\n",
            "step3 messages: 7\n",
            "step4 messages: 9\n"
          ]
        },
        {
          "name": "stderr",
          "output_type": "stream",
          "text": [
            "\r  4%|▍         | 22/567 [01:31<34:20,  3.78s/it]"
          ]
        },
        {
          "name": "stdout",
          "output_type": "stream",
          "text": [
            "step5 messages: 10\n",
            "Failed to parse model output as JSON:\n",
            "step3 messages: 7\n",
            "step4 messages: 9\n"
          ]
        },
        {
          "name": "stderr",
          "output_type": "stream",
          "text": [
            "\r  4%|▍         | 23/567 [01:35<33:29,  3.69s/it]"
          ]
        },
        {
          "name": "stdout",
          "output_type": "stream",
          "text": [
            "step5 messages: 10\n",
            "Failed to parse model output as JSON:\n",
            "step3 messages: 7\n",
            "step4 messages: 9\n"
          ]
        },
        {
          "name": "stderr",
          "output_type": "stream",
          "text": [
            "\r  4%|▍         | 24/567 [01:38<31:05,  3.44s/it]"
          ]
        },
        {
          "name": "stdout",
          "output_type": "stream",
          "text": [
            "step5 messages: 10\n",
            "Failed to parse model output as JSON:\n",
            "step3 messages: 7\n",
            "step4 messages: 9\n"
          ]
        },
        {
          "name": "stderr",
          "output_type": "stream",
          "text": [
            "\r  4%|▍         | 25/567 [01:42<32:19,  3.58s/it]"
          ]
        },
        {
          "name": "stdout",
          "output_type": "stream",
          "text": [
            "step5 messages: 10\n",
            "Failed to parse model output as JSON:\n",
            "step3 messages: 7\n",
            "step4 messages: 9\n"
          ]
        },
        {
          "name": "stderr",
          "output_type": "stream",
          "text": [
            "\r  5%|▍         | 26/567 [01:47<36:03,  4.00s/it]"
          ]
        },
        {
          "name": "stdout",
          "output_type": "stream",
          "text": [
            "step5 messages: 10\n",
            "Failed to parse model output as JSON:\n",
            "step3 messages: 7\n",
            "step4 messages: 9\n"
          ]
        },
        {
          "name": "stderr",
          "output_type": "stream",
          "text": [
            "\r  5%|▍         | 27/567 [01:50<35:20,  3.93s/it]"
          ]
        },
        {
          "name": "stdout",
          "output_type": "stream",
          "text": [
            "step5 messages: 10\n",
            "Failed to parse model output as JSON:\n",
            "step3 messages: 7\n",
            "step4 messages: 9\n"
          ]
        },
        {
          "name": "stderr",
          "output_type": "stream",
          "text": [
            "\r  5%|▍         | 28/567 [01:54<33:39,  3.75s/it]"
          ]
        },
        {
          "name": "stdout",
          "output_type": "stream",
          "text": [
            "step5 messages: 10\n",
            "Failed to parse model output as JSON:\n",
            "step3 messages: 7\n",
            "step4 messages: 9\n"
          ]
        },
        {
          "name": "stderr",
          "output_type": "stream",
          "text": [
            "\r  5%|▌         | 29/567 [01:57<31:44,  3.54s/it]"
          ]
        },
        {
          "name": "stdout",
          "output_type": "stream",
          "text": [
            "step5 messages: 10\n",
            "Failed to parse model output as JSON:\n",
            "step3 messages: 7\n",
            "step4 messages: 9\n"
          ]
        },
        {
          "name": "stderr",
          "output_type": "stream",
          "text": [
            "\r  5%|▌         | 30/567 [02:02<35:04,  3.92s/it]"
          ]
        },
        {
          "name": "stdout",
          "output_type": "stream",
          "text": [
            "step5 messages: 10\n",
            "Failed to parse model output as JSON:\n",
            "step3 messages: 7\n",
            "step4 messages: 9\n"
          ]
        },
        {
          "name": "stderr",
          "output_type": "stream",
          "text": [
            "\r  5%|▌         | 31/567 [02:05<33:05,  3.70s/it]"
          ]
        },
        {
          "name": "stdout",
          "output_type": "stream",
          "text": [
            "step5 messages: 10\n",
            "Failed to parse model output as JSON:\n",
            "step3 messages: 7\n",
            "step4 messages: 9\n"
          ]
        },
        {
          "name": "stderr",
          "output_type": "stream",
          "text": [
            "\r  6%|▌         | 32/567 [02:09<34:05,  3.82s/it]"
          ]
        },
        {
          "name": "stdout",
          "output_type": "stream",
          "text": [
            "step5 messages: 10\n",
            "Failed to parse model output as JSON:\n",
            "step3 messages: 7\n",
            "step4 messages: 9\n"
          ]
        },
        {
          "name": "stderr",
          "output_type": "stream",
          "text": [
            "\r  6%|▌         | 33/567 [02:13<34:15,  3.85s/it]"
          ]
        },
        {
          "name": "stdout",
          "output_type": "stream",
          "text": [
            "step5 messages: 10\n",
            "Failed to parse model output as JSON:\n",
            "step3 messages: 7\n",
            "step4 messages: 9\n"
          ]
        },
        {
          "name": "stderr",
          "output_type": "stream",
          "text": [
            "\r  6%|▌         | 34/567 [02:17<34:40,  3.90s/it]"
          ]
        },
        {
          "name": "stdout",
          "output_type": "stream",
          "text": [
            "step5 messages: 10\n",
            "Failed to parse model output as JSON:\n",
            "step3 messages: 7\n",
            "step4 messages: 9\n"
          ]
        },
        {
          "name": "stderr",
          "output_type": "stream",
          "text": [
            "\r  6%|▌         | 35/567 [02:20<32:43,  3.69s/it]"
          ]
        },
        {
          "name": "stdout",
          "output_type": "stream",
          "text": [
            "step5 messages: 10\n",
            "Failed to parse model output as JSON:\n",
            "step3 messages: 7\n",
            "step4 messages: 9\n"
          ]
        },
        {
          "name": "stderr",
          "output_type": "stream",
          "text": [
            "\r  6%|▋         | 36/567 [02:26<40:13,  4.55s/it]"
          ]
        },
        {
          "name": "stdout",
          "output_type": "stream",
          "text": [
            "step5 messages: 10\n",
            "Failed to parse model output as JSON:\n",
            "step3 messages: 7\n",
            "step4 messages: 9\n"
          ]
        },
        {
          "name": "stderr",
          "output_type": "stream",
          "text": [
            "\r  7%|▋         | 37/567 [02:32<42:12,  4.78s/it]"
          ]
        },
        {
          "name": "stdout",
          "output_type": "stream",
          "text": [
            "step5 messages: 10\n",
            "Failed to parse model output as JSON:\n",
            "step3 messages: 7\n",
            "step4 messages: 9\n"
          ]
        },
        {
          "name": "stderr",
          "output_type": "stream",
          "text": [
            "\r  7%|▋         | 38/567 [02:35<37:58,  4.31s/it]"
          ]
        },
        {
          "name": "stdout",
          "output_type": "stream",
          "text": [
            "step5 messages: 10\n",
            "Failed to parse model output as JSON:\n",
            "step3 messages: 7\n",
            "step4 messages: 9\n"
          ]
        },
        {
          "name": "stderr",
          "output_type": "stream",
          "text": [
            "\r  7%|▋         | 39/567 [02:38<35:02,  3.98s/it]"
          ]
        },
        {
          "name": "stdout",
          "output_type": "stream",
          "text": [
            "step5 messages: 10\n",
            "Failed to parse model output as JSON:\n",
            "step3 messages: 7\n",
            "step4 messages: 9\n"
          ]
        },
        {
          "name": "stderr",
          "output_type": "stream",
          "text": [
            "\r  7%|▋         | 40/567 [02:43<35:58,  4.10s/it]"
          ]
        },
        {
          "name": "stdout",
          "output_type": "stream",
          "text": [
            "step5 messages: 10\n",
            "Failed to parse model output as JSON:\n",
            "step3 messages: 7\n",
            "step4 messages: 9\n"
          ]
        },
        {
          "name": "stderr",
          "output_type": "stream",
          "text": [
            "\r  7%|▋         | 41/567 [02:53<51:45,  5.90s/it]"
          ]
        },
        {
          "name": "stdout",
          "output_type": "stream",
          "text": [
            "step5 messages: 10\n",
            "Failed to parse model output as JSON:\n",
            "step3 messages: 7\n",
            "step4 messages: 9\n"
          ]
        },
        {
          "name": "stderr",
          "output_type": "stream",
          "text": [
            "\r  7%|▋         | 42/567 [02:57<46:05,  5.27s/it]"
          ]
        },
        {
          "name": "stdout",
          "output_type": "stream",
          "text": [
            "step5 messages: 10\n",
            "Failed to parse model output as JSON:\n",
            "step3 messages: 7\n",
            "step4 messages: 9\n"
          ]
        },
        {
          "name": "stderr",
          "output_type": "stream",
          "text": [
            "\r  8%|▊         | 43/567 [03:00<42:33,  4.87s/it]"
          ]
        },
        {
          "name": "stdout",
          "output_type": "stream",
          "text": [
            "step5 messages: 10\n",
            "Failed to parse model output as JSON:\n",
            "step3 messages: 7\n",
            "step4 messages: 9\n"
          ]
        },
        {
          "name": "stderr",
          "output_type": "stream",
          "text": [
            "\r  8%|▊         | 44/567 [03:05<40:39,  4.66s/it]"
          ]
        },
        {
          "name": "stdout",
          "output_type": "stream",
          "text": [
            "step5 messages: 10\n",
            "Failed to parse model output as JSON:\n",
            "step3 messages: 7\n",
            "step4 messages: 9\n"
          ]
        },
        {
          "name": "stderr",
          "output_type": "stream",
          "text": [
            "\r  8%|▊         | 45/567 [03:09<39:26,  4.53s/it]"
          ]
        },
        {
          "name": "stdout",
          "output_type": "stream",
          "text": [
            "step5 messages: 10\n",
            "Failed to parse model output as JSON:\n",
            "step3 messages: 7\n",
            "step4 messages: 9\n"
          ]
        },
        {
          "name": "stderr",
          "output_type": "stream",
          "text": [
            "\r  8%|▊         | 46/567 [03:13<37:30,  4.32s/it]"
          ]
        },
        {
          "name": "stdout",
          "output_type": "stream",
          "text": [
            "step5 messages: 10\n",
            "Failed to parse model output as JSON:\n",
            "step3 messages: 7\n",
            "step4 messages: 9\n"
          ]
        },
        {
          "name": "stderr",
          "output_type": "stream",
          "text": [
            "\r  8%|▊         | 47/567 [03:16<35:37,  4.11s/it]"
          ]
        },
        {
          "name": "stdout",
          "output_type": "stream",
          "text": [
            "step5 messages: 10\n",
            "Failed to parse model output as JSON:\n",
            "step3 messages: 7\n",
            "step4 messages: 9\n"
          ]
        },
        {
          "name": "stderr",
          "output_type": "stream",
          "text": [
            "\r  8%|▊         | 48/567 [03:20<34:10,  3.95s/it]"
          ]
        },
        {
          "name": "stdout",
          "output_type": "stream",
          "text": [
            "step5 messages: 10\n",
            "Failed to parse model output as JSON:\n",
            "step3 messages: 7\n",
            "step4 messages: 9\n"
          ]
        },
        {
          "name": "stderr",
          "output_type": "stream",
          "text": [
            "\r  9%|▊         | 49/567 [03:25<37:04,  4.29s/it]"
          ]
        },
        {
          "name": "stdout",
          "output_type": "stream",
          "text": [
            "step5 messages: 10\n",
            "Failed to parse model output as JSON:\n",
            "step3 messages: 7\n",
            "step4 messages: 9\n"
          ]
        },
        {
          "name": "stderr",
          "output_type": "stream",
          "text": [
            "\r  9%|▉         | 50/567 [03:28<33:36,  3.90s/it]"
          ]
        },
        {
          "name": "stdout",
          "output_type": "stream",
          "text": [
            "step5 messages: 10\n",
            "Failed to parse model output as JSON:\n",
            "step3 messages: 7\n",
            "step4 messages: 9\n"
          ]
        },
        {
          "name": "stderr",
          "output_type": "stream",
          "text": [
            "\r  9%|▉         | 51/567 [03:32<33:18,  3.87s/it]"
          ]
        },
        {
          "name": "stdout",
          "output_type": "stream",
          "text": [
            "step5 messages: 10\n",
            "Failed to parse model output as JSON:\n",
            "step3 messages: 7\n",
            "step4 messages: 9\n"
          ]
        },
        {
          "name": "stderr",
          "output_type": "stream",
          "text": [
            "\r  9%|▉         | 52/567 [03:37<36:40,  4.27s/it]"
          ]
        },
        {
          "name": "stdout",
          "output_type": "stream",
          "text": [
            "step5 messages: 10\n",
            "Failed to parse model output as JSON:\n",
            "step3 messages: 7\n",
            "step4 messages: 9\n"
          ]
        },
        {
          "name": "stderr",
          "output_type": "stream",
          "text": [
            "\r  9%|▉         | 53/567 [03:41<35:11,  4.11s/it]"
          ]
        },
        {
          "name": "stdout",
          "output_type": "stream",
          "text": [
            "step5 messages: 10\n",
            "Failed to parse model output as JSON:\n",
            "step3 messages: 7\n",
            "step4 messages: 9\n"
          ]
        },
        {
          "name": "stderr",
          "output_type": "stream",
          "text": [
            "\r 10%|▉         | 54/567 [03:45<35:22,  4.14s/it]"
          ]
        },
        {
          "name": "stdout",
          "output_type": "stream",
          "text": [
            "step5 messages: 10\n",
            "Failed to parse model output as JSON:\n",
            "step3 messages: 7\n",
            "step4 messages: 9\n"
          ]
        },
        {
          "name": "stderr",
          "output_type": "stream",
          "text": [
            "\r 10%|▉         | 55/567 [03:48<33:50,  3.97s/it]"
          ]
        },
        {
          "name": "stdout",
          "output_type": "stream",
          "text": [
            "step5 messages: 10\n",
            "Failed to parse model output as JSON:\n",
            "step3 messages: 7\n",
            "step4 messages: 9\n"
          ]
        },
        {
          "name": "stderr",
          "output_type": "stream",
          "text": [
            "\r 10%|▉         | 56/567 [03:52<32:26,  3.81s/it]"
          ]
        },
        {
          "name": "stdout",
          "output_type": "stream",
          "text": [
            "step5 messages: 10\n",
            "Failed to parse model output as JSON:\n",
            "step3 messages: 7\n",
            "step4 messages: 9\n"
          ]
        },
        {
          "name": "stderr",
          "output_type": "stream",
          "text": [
            "\r 10%|█         | 57/567 [03:55<30:41,  3.61s/it]"
          ]
        },
        {
          "name": "stdout",
          "output_type": "stream",
          "text": [
            "step5 messages: 10\n",
            "Failed to parse model output as JSON:\n",
            "step3 messages: 7\n",
            "step4 messages: 9\n"
          ]
        },
        {
          "name": "stderr",
          "output_type": "stream",
          "text": [
            "\r 10%|█         | 58/567 [03:58<29:16,  3.45s/it]"
          ]
        },
        {
          "name": "stdout",
          "output_type": "stream",
          "text": [
            "step5 messages: 10\n",
            "Failed to parse model output as JSON:\n",
            "step3 messages: 7\n",
            "step4 messages: 9\n"
          ]
        },
        {
          "name": "stderr",
          "output_type": "stream",
          "text": [
            "\r 10%|█         | 59/567 [04:02<29:07,  3.44s/it]"
          ]
        },
        {
          "name": "stdout",
          "output_type": "stream",
          "text": [
            "step5 messages: 10\n",
            "Failed to parse model output as JSON:\n",
            "step3 messages: 7\n",
            "step4 messages: 9\n"
          ]
        },
        {
          "name": "stderr",
          "output_type": "stream",
          "text": [
            "\r 11%|█         | 60/567 [04:05<28:27,  3.37s/it]"
          ]
        },
        {
          "name": "stdout",
          "output_type": "stream",
          "text": [
            "step5 messages: 10\n",
            "Failed to parse model output as JSON:\n",
            "step3 messages: 7\n",
            "step4 messages: 9\n"
          ]
        },
        {
          "name": "stderr",
          "output_type": "stream",
          "text": [
            "\r 11%|█         | 61/567 [04:09<29:28,  3.49s/it]"
          ]
        },
        {
          "name": "stdout",
          "output_type": "stream",
          "text": [
            "step5 messages: 10\n",
            "Failed to parse model output as JSON:\n",
            "step3 messages: 7\n",
            "step4 messages: 9\n"
          ]
        },
        {
          "name": "stderr",
          "output_type": "stream",
          "text": [
            "\r 11%|█         | 62/567 [04:13<31:12,  3.71s/it]"
          ]
        },
        {
          "name": "stdout",
          "output_type": "stream",
          "text": [
            "step5 messages: 10\n",
            "Failed to parse model output as JSON:\n",
            "step3 messages: 7\n",
            "step4 messages: 9\n"
          ]
        },
        {
          "name": "stderr",
          "output_type": "stream",
          "text": [
            "\r 11%|█         | 63/567 [04:18<34:33,  4.11s/it]"
          ]
        },
        {
          "name": "stdout",
          "output_type": "stream",
          "text": [
            "step5 messages: 10\n",
            "Failed to parse model output as JSON:\n",
            "step3 messages: 7\n",
            "step4 messages: 9\n"
          ]
        },
        {
          "name": "stderr",
          "output_type": "stream",
          "text": [
            "\r 11%|█▏        | 64/567 [04:22<33:34,  4.01s/it]"
          ]
        },
        {
          "name": "stdout",
          "output_type": "stream",
          "text": [
            "step5 messages: 10\n",
            "Failed to parse model output as JSON:\n",
            "step3 messages: 7\n",
            "step4 messages: 9\n"
          ]
        },
        {
          "name": "stderr",
          "output_type": "stream",
          "text": [
            "\r 11%|█▏        | 65/567 [04:30<43:35,  5.21s/it]"
          ]
        },
        {
          "name": "stdout",
          "output_type": "stream",
          "text": [
            "step5 messages: 10\n",
            "Failed to parse model output as JSON:\n",
            "step3 messages: 7\n",
            "step4 messages: 9\n"
          ]
        },
        {
          "name": "stderr",
          "output_type": "stream",
          "text": [
            "\r 12%|█▏        | 66/567 [04:35<44:15,  5.30s/it]"
          ]
        },
        {
          "name": "stdout",
          "output_type": "stream",
          "text": [
            "step5 messages: 10\n",
            "Failed to parse model output as JSON:\n",
            "step3 messages: 7\n",
            "step4 messages: 9\n"
          ]
        },
        {
          "name": "stderr",
          "output_type": "stream",
          "text": [
            "\r 12%|█▏        | 67/567 [04:40<43:52,  5.26s/it]"
          ]
        },
        {
          "name": "stdout",
          "output_type": "stream",
          "text": [
            "step5 messages: 10\n",
            "Failed to parse model output as JSON:\n",
            "step3 messages: 7\n",
            "step4 messages: 9\n"
          ]
        },
        {
          "name": "stderr",
          "output_type": "stream",
          "text": [
            "\r 12%|█▏        | 68/567 [04:44<39:08,  4.71s/it]"
          ]
        },
        {
          "name": "stdout",
          "output_type": "stream",
          "text": [
            "step5 messages: 10\n",
            "Failed to parse model output as JSON:\n",
            "step3 messages: 7\n",
            "step4 messages: 9\n"
          ]
        },
        {
          "name": "stderr",
          "output_type": "stream",
          "text": [
            "\r 12%|█▏        | 69/567 [04:47<36:24,  4.39s/it]"
          ]
        },
        {
          "name": "stdout",
          "output_type": "stream",
          "text": [
            "step5 messages: 10\n",
            "Failed to parse model output as JSON:\n",
            "step3 messages: 7\n",
            "step4 messages: 9\n"
          ]
        },
        {
          "name": "stderr",
          "output_type": "stream",
          "text": [
            "\r 12%|█▏        | 70/567 [04:52<38:07,  4.60s/it]"
          ]
        },
        {
          "name": "stdout",
          "output_type": "stream",
          "text": [
            "step5 messages: 10\n",
            "Failed to parse model output as JSON:\n",
            "step3 messages: 7\n",
            "step4 messages: 9\n"
          ]
        },
        {
          "name": "stderr",
          "output_type": "stream",
          "text": [
            "\r 13%|█▎        | 71/567 [04:55<33:38,  4.07s/it]"
          ]
        },
        {
          "name": "stdout",
          "output_type": "stream",
          "text": [
            "step5 messages: 10\n",
            "Failed to parse model output as JSON:\n",
            "step3 messages: 7\n",
            "step4 messages: 9\n"
          ]
        },
        {
          "name": "stderr",
          "output_type": "stream",
          "text": [
            "\r 13%|█▎        | 72/567 [04:59<31:48,  3.85s/it]"
          ]
        },
        {
          "name": "stdout",
          "output_type": "stream",
          "text": [
            "step5 messages: 10\n",
            "Failed to parse model output as JSON:\n",
            "step3 messages: 7\n",
            "step4 messages: 9\n"
          ]
        },
        {
          "name": "stderr",
          "output_type": "stream",
          "text": [
            "\r 13%|█▎        | 73/567 [05:02<31:25,  3.82s/it]"
          ]
        },
        {
          "name": "stdout",
          "output_type": "stream",
          "text": [
            "step5 messages: 10\n",
            "Failed to parse model output as JSON:\n",
            "step3 messages: 7\n",
            "step4 messages: 9\n"
          ]
        },
        {
          "name": "stderr",
          "output_type": "stream",
          "text": [
            "\r 13%|█▎        | 74/567 [05:06<29:52,  3.64s/it]"
          ]
        },
        {
          "name": "stdout",
          "output_type": "stream",
          "text": [
            "step5 messages: 10\n",
            "Failed to parse model output as JSON:\n",
            "step3 messages: 7\n",
            "step4 messages: 9\n"
          ]
        },
        {
          "name": "stderr",
          "output_type": "stream",
          "text": [
            "\r 13%|█▎        | 75/567 [05:09<29:54,  3.65s/it]"
          ]
        },
        {
          "name": "stdout",
          "output_type": "stream",
          "text": [
            "step5 messages: 10\n",
            "Failed to parse model output as JSON:\n",
            "step3 messages: 7\n",
            "step4 messages: 9\n"
          ]
        },
        {
          "name": "stderr",
          "output_type": "stream",
          "text": [
            "\r 13%|█▎        | 76/567 [05:16<36:53,  4.51s/it]"
          ]
        },
        {
          "name": "stdout",
          "output_type": "stream",
          "text": [
            "step5 messages: 10\n",
            "Failed to parse model output as JSON:\n",
            "step3 messages: 7\n",
            "step4 messages: 9\n"
          ]
        },
        {
          "name": "stderr",
          "output_type": "stream",
          "text": [
            "\r 14%|█▎        | 77/567 [05:20<36:33,  4.48s/it]"
          ]
        },
        {
          "name": "stdout",
          "output_type": "stream",
          "text": [
            "step5 messages: 10\n",
            "Failed to parse model output as JSON:\n",
            "step3 messages: 7\n",
            "step4 messages: 9\n"
          ]
        },
        {
          "name": "stderr",
          "output_type": "stream",
          "text": [
            "\r 14%|█▍        | 78/567 [05:25<38:30,  4.72s/it]"
          ]
        },
        {
          "name": "stdout",
          "output_type": "stream",
          "text": [
            "step5 messages: 10\n",
            "Failed to parse model output as JSON:\n",
            "step3 messages: 7\n",
            "step4 messages: 9\n"
          ]
        },
        {
          "name": "stderr",
          "output_type": "stream",
          "text": [
            "\r 14%|█▍        | 79/567 [05:29<34:27,  4.24s/it]"
          ]
        },
        {
          "name": "stdout",
          "output_type": "stream",
          "text": [
            "step5 messages: 10\n",
            "Failed to parse model output as JSON:\n",
            "step3 messages: 7\n",
            "step4 messages: 9\n"
          ]
        },
        {
          "name": "stderr",
          "output_type": "stream",
          "text": [
            "\r 14%|█▍        | 80/567 [05:34<36:51,  4.54s/it]"
          ]
        },
        {
          "name": "stdout",
          "output_type": "stream",
          "text": [
            "step5 messages: 10\n",
            "Failed to parse model output as JSON:\n",
            "step3 messages: 7\n",
            "step4 messages: 9\n"
          ]
        },
        {
          "name": "stderr",
          "output_type": "stream",
          "text": [
            "\r 14%|█▍        | 81/567 [05:38<35:46,  4.42s/it]"
          ]
        },
        {
          "name": "stdout",
          "output_type": "stream",
          "text": [
            "step5 messages: 10\n",
            "Failed to parse model output as JSON:\n",
            "step3 messages: 7\n",
            "step4 messages: 9\n"
          ]
        },
        {
          "name": "stderr",
          "output_type": "stream",
          "text": [
            "\r 14%|█▍        | 82/567 [05:41<33:02,  4.09s/it]"
          ]
        },
        {
          "name": "stdout",
          "output_type": "stream",
          "text": [
            "step5 messages: 10\n",
            "Failed to parse model output as JSON:\n",
            "step3 messages: 7\n",
            "step4 messages: 9\n"
          ]
        },
        {
          "name": "stderr",
          "output_type": "stream",
          "text": [
            "\r 15%|█▍        | 83/567 [05:45<32:13,  3.99s/it]"
          ]
        },
        {
          "name": "stdout",
          "output_type": "stream",
          "text": [
            "step5 messages: 10\n",
            "step3 messages: 7\n",
            "step4 messages: 9\n"
          ]
        },
        {
          "name": "stderr",
          "output_type": "stream",
          "text": [
            "\r 15%|█▍        | 84/567 [05:53<41:39,  5.18s/it]"
          ]
        },
        {
          "name": "stdout",
          "output_type": "stream",
          "text": [
            "step5 messages: 10\n",
            "Failed to parse model output as JSON:\n",
            "step3 messages: 7\n",
            "step4 messages: 9\n"
          ]
        },
        {
          "name": "stderr",
          "output_type": "stream",
          "text": [
            "\r 15%|█▍        | 85/567 [05:58<42:17,  5.26s/it]"
          ]
        },
        {
          "name": "stdout",
          "output_type": "stream",
          "text": [
            "step5 messages: 10\n",
            "Failed to parse model output as JSON:\n",
            "step3 messages: 7\n",
            "step4 messages: 9\n"
          ]
        },
        {
          "name": "stderr",
          "output_type": "stream",
          "text": [
            "\r 15%|█▌        | 86/567 [06:02<38:47,  4.84s/it]"
          ]
        },
        {
          "name": "stdout",
          "output_type": "stream",
          "text": [
            "step5 messages: 10\n",
            "Failed to parse model output as JSON:\n",
            "step3 messages: 7\n",
            "step4 messages: 9\n"
          ]
        },
        {
          "name": "stderr",
          "output_type": "stream",
          "text": [
            "\r 15%|█▌        | 87/567 [06:07<37:45,  4.72s/it]"
          ]
        },
        {
          "name": "stdout",
          "output_type": "stream",
          "text": [
            "step5 messages: 10\n",
            "Failed to parse model output as JSON:\n",
            "step3 messages: 7\n",
            "step4 messages: 9\n"
          ]
        },
        {
          "name": "stderr",
          "output_type": "stream",
          "text": [
            "\r 16%|█▌        | 88/567 [06:12<39:22,  4.93s/it]"
          ]
        },
        {
          "name": "stdout",
          "output_type": "stream",
          "text": [
            "step5 messages: 10\n",
            "Failed to parse model output as JSON:\n",
            "step3 messages: 7\n",
            "step4 messages: 9\n"
          ]
        },
        {
          "name": "stderr",
          "output_type": "stream",
          "text": [
            "\r 16%|█▌        | 89/567 [06:18<41:05,  5.16s/it]"
          ]
        },
        {
          "name": "stdout",
          "output_type": "stream",
          "text": [
            "step5 messages: 10\n",
            "Failed to parse model output as JSON:\n",
            "step3 messages: 7\n",
            "step4 messages: 9\n"
          ]
        },
        {
          "name": "stderr",
          "output_type": "stream",
          "text": [
            "\r 16%|█▌        | 90/567 [06:21<36:31,  4.59s/it]"
          ]
        },
        {
          "name": "stdout",
          "output_type": "stream",
          "text": [
            "step5 messages: 10\n",
            "Failed to parse model output as JSON:\n",
            "step3 messages: 7\n",
            "step4 messages: 9\n"
          ]
        },
        {
          "name": "stderr",
          "output_type": "stream",
          "text": [
            "\r 16%|█▌        | 91/567 [06:26<36:24,  4.59s/it]"
          ]
        },
        {
          "name": "stdout",
          "output_type": "stream",
          "text": [
            "step5 messages: 10\n",
            "Failed to parse model output as JSON:\n",
            "step3 messages: 7\n",
            "step4 messages: 9\n"
          ]
        },
        {
          "name": "stderr",
          "output_type": "stream",
          "text": [
            "\r 16%|█▌        | 92/567 [06:29<33:50,  4.28s/it]"
          ]
        },
        {
          "name": "stdout",
          "output_type": "stream",
          "text": [
            "step5 messages: 10\n",
            "Failed to parse model output as JSON:\n",
            "step3 messages: 7\n",
            "step4 messages: 9\n"
          ]
        },
        {
          "name": "stderr",
          "output_type": "stream",
          "text": [
            "\r 16%|█▋        | 93/567 [06:33<32:23,  4.10s/it]"
          ]
        },
        {
          "name": "stdout",
          "output_type": "stream",
          "text": [
            "step5 messages: 10\n",
            "Failed to parse model output as JSON:\n",
            "step3 messages: 7\n",
            "step4 messages: 9\n"
          ]
        },
        {
          "name": "stderr",
          "output_type": "stream",
          "text": [
            "\r 17%|█▋        | 94/567 [06:36<30:44,  3.90s/it]"
          ]
        },
        {
          "name": "stdout",
          "output_type": "stream",
          "text": [
            "step5 messages: 10\n",
            "Failed to parse model output as JSON:\n",
            "step3 messages: 7\n",
            "step4 messages: 9\n"
          ]
        },
        {
          "name": "stderr",
          "output_type": "stream",
          "text": [
            "\r 17%|█▋        | 95/567 [06:40<31:05,  3.95s/it]"
          ]
        },
        {
          "name": "stdout",
          "output_type": "stream",
          "text": [
            "step5 messages: 10\n",
            "Failed to parse model output as JSON:\n",
            "step3 messages: 7\n",
            "step4 messages: 9\n"
          ]
        },
        {
          "name": "stderr",
          "output_type": "stream",
          "text": [
            "\r 17%|█▋        | 96/567 [06:44<30:27,  3.88s/it]"
          ]
        },
        {
          "name": "stdout",
          "output_type": "stream",
          "text": [
            "step5 messages: 10\n",
            "Failed to parse model output as JSON:\n",
            "step3 messages: 7\n",
            "step4 messages: 9\n"
          ]
        },
        {
          "name": "stderr",
          "output_type": "stream",
          "text": [
            "\r 17%|█▋        | 97/567 [06:48<31:18,  4.00s/it]"
          ]
        },
        {
          "name": "stdout",
          "output_type": "stream",
          "text": [
            "step5 messages: 10\n",
            "Failed to parse model output as JSON:\n",
            "step3 messages: 7\n",
            "step4 messages: 9\n"
          ]
        },
        {
          "name": "stderr",
          "output_type": "stream",
          "text": [
            "\r 17%|█▋        | 98/567 [06:51<28:18,  3.62s/it]"
          ]
        },
        {
          "name": "stdout",
          "output_type": "stream",
          "text": [
            "step5 messages: 10\n",
            "Failed to parse model output as JSON:\n",
            "step3 messages: 7\n",
            "step4 messages: 9\n"
          ]
        },
        {
          "name": "stderr",
          "output_type": "stream",
          "text": [
            "\r 17%|█▋        | 99/567 [06:55<27:48,  3.57s/it]"
          ]
        },
        {
          "name": "stdout",
          "output_type": "stream",
          "text": [
            "step5 messages: 10\n",
            "Failed to parse model output as JSON:\n",
            "step3 messages: 7\n",
            "step4 messages: 9\n"
          ]
        },
        {
          "name": "stderr",
          "output_type": "stream",
          "text": [
            "\r 18%|█▊        | 100/567 [07:00<30:53,  3.97s/it]"
          ]
        },
        {
          "name": "stdout",
          "output_type": "stream",
          "text": [
            "step5 messages: 10\n",
            "Failed to parse model output as JSON:\n",
            "step3 messages: 7\n",
            "step4 messages: 9\n"
          ]
        },
        {
          "name": "stderr",
          "output_type": "stream",
          "text": [
            "\r 18%|█▊        | 101/567 [07:04<31:43,  4.09s/it]"
          ]
        },
        {
          "name": "stdout",
          "output_type": "stream",
          "text": [
            "step5 messages: 10\n",
            "Failed to parse model output as JSON:\n",
            "step3 messages: 7\n",
            "step4 messages: 9\n"
          ]
        },
        {
          "name": "stderr",
          "output_type": "stream",
          "text": [
            "\r 18%|█▊        | 102/567 [07:09<34:30,  4.45s/it]"
          ]
        },
        {
          "name": "stdout",
          "output_type": "stream",
          "text": [
            "step5 messages: 10\n",
            "Failed to parse model output as JSON:\n",
            "step3 messages: 7\n",
            "step4 messages: 9\n"
          ]
        },
        {
          "name": "stderr",
          "output_type": "stream",
          "text": [
            "\r 18%|█▊        | 103/567 [07:13<32:50,  4.25s/it]"
          ]
        },
        {
          "name": "stdout",
          "output_type": "stream",
          "text": [
            "step5 messages: 10\n",
            "Failed to parse model output as JSON:\n",
            "step3 messages: 7\n",
            "step4 messages: 9\n"
          ]
        },
        {
          "name": "stderr",
          "output_type": "stream",
          "text": [
            "\r 18%|█▊        | 104/567 [07:19<37:16,  4.83s/it]"
          ]
        },
        {
          "name": "stdout",
          "output_type": "stream",
          "text": [
            "step5 messages: 10\n",
            "Failed to parse model output as JSON:\n",
            "step3 messages: 7\n",
            "step4 messages: 9\n"
          ]
        },
        {
          "name": "stderr",
          "output_type": "stream",
          "text": [
            "\r 19%|█▊        | 105/567 [07:24<36:15,  4.71s/it]"
          ]
        },
        {
          "name": "stdout",
          "output_type": "stream",
          "text": [
            "step5 messages: 10\n",
            "Failed to parse model output as JSON:\n",
            "step3 messages: 7\n",
            "step4 messages: 9\n"
          ]
        },
        {
          "name": "stderr",
          "output_type": "stream",
          "text": [
            "\r 19%|█▊        | 106/567 [07:28<34:49,  4.53s/it]"
          ]
        },
        {
          "name": "stdout",
          "output_type": "stream",
          "text": [
            "step5 messages: 10\n",
            "Failed to parse model output as JSON:\n",
            "step3 messages: 7\n",
            "step4 messages: 9\n"
          ]
        },
        {
          "name": "stderr",
          "output_type": "stream",
          "text": [
            "\r 19%|█▉        | 107/567 [07:31<31:22,  4.09s/it]"
          ]
        },
        {
          "name": "stdout",
          "output_type": "stream",
          "text": [
            "step5 messages: 10\n",
            "Failed to parse model output as JSON:\n",
            "step3 messages: 7\n",
            "step4 messages: 9\n"
          ]
        },
        {
          "name": "stderr",
          "output_type": "stream",
          "text": [
            "\r 19%|█▉        | 108/567 [07:34<30:30,  3.99s/it]"
          ]
        },
        {
          "name": "stdout",
          "output_type": "stream",
          "text": [
            "step5 messages: 10\n",
            "Failed to parse model output as JSON:\n",
            "step3 messages: 7\n",
            "step4 messages: 9\n"
          ]
        },
        {
          "name": "stderr",
          "output_type": "stream",
          "text": [
            "\r 19%|█▉        | 109/567 [07:40<34:52,  4.57s/it]"
          ]
        },
        {
          "name": "stdout",
          "output_type": "stream",
          "text": [
            "step5 messages: 10\n",
            "Failed to parse model output as JSON:\n",
            "step3 messages: 7\n",
            "step4 messages: 9\n"
          ]
        },
        {
          "name": "stderr",
          "output_type": "stream",
          "text": [
            "\r 19%|█▉        | 110/567 [07:44<32:48,  4.31s/it]"
          ]
        },
        {
          "name": "stdout",
          "output_type": "stream",
          "text": [
            "step5 messages: 10\n",
            "Failed to parse model output as JSON:\n",
            "step3 messages: 7\n",
            "step4 messages: 9\n"
          ]
        },
        {
          "name": "stderr",
          "output_type": "stream",
          "text": [
            "\r 20%|█▉        | 111/567 [07:48<31:24,  4.13s/it]"
          ]
        },
        {
          "name": "stdout",
          "output_type": "stream",
          "text": [
            "step5 messages: 10\n",
            "Failed to parse model output as JSON:\n",
            "step3 messages: 7\n",
            "step4 messages: 9\n"
          ]
        },
        {
          "name": "stderr",
          "output_type": "stream",
          "text": [
            "\r 20%|█▉        | 112/567 [07:52<30:44,  4.05s/it]"
          ]
        },
        {
          "name": "stdout",
          "output_type": "stream",
          "text": [
            "step5 messages: 10\n",
            "Failed to parse model output as JSON:\n",
            "step3 messages: 7\n",
            "step4 messages: 9\n"
          ]
        },
        {
          "name": "stderr",
          "output_type": "stream",
          "text": [
            "\r 20%|█▉        | 113/567 [07:56<32:07,  4.25s/it]"
          ]
        },
        {
          "name": "stdout",
          "output_type": "stream",
          "text": [
            "step5 messages: 10\n",
            "Failed to parse model output as JSON:\n",
            "step3 messages: 7\n",
            "step4 messages: 9\n"
          ]
        },
        {
          "name": "stderr",
          "output_type": "stream",
          "text": [
            "\r 20%|██        | 114/567 [08:01<32:24,  4.29s/it]"
          ]
        },
        {
          "name": "stdout",
          "output_type": "stream",
          "text": [
            "step5 messages: 10\n",
            "Failed to parse model output as JSON:\n",
            "step3 messages: 7\n",
            "step4 messages: 9\n"
          ]
        },
        {
          "name": "stderr",
          "output_type": "stream",
          "text": [
            "\r 20%|██        | 115/567 [08:04<30:09,  4.00s/it]"
          ]
        },
        {
          "name": "stdout",
          "output_type": "stream",
          "text": [
            "step5 messages: 10\n",
            "Failed to parse model output as JSON:\n",
            "step3 messages: 7\n",
            "step4 messages: 9\n"
          ]
        },
        {
          "name": "stderr",
          "output_type": "stream",
          "text": [
            "\r 20%|██        | 116/567 [08:08<29:17,  3.90s/it]"
          ]
        },
        {
          "name": "stdout",
          "output_type": "stream",
          "text": [
            "step5 messages: 10\n",
            "Failed to parse model output as JSON:\n",
            "step3 messages: 7\n",
            "step4 messages: 9\n"
          ]
        },
        {
          "name": "stderr",
          "output_type": "stream",
          "text": [
            "\r 21%|██        | 117/567 [08:12<29:14,  3.90s/it]"
          ]
        },
        {
          "name": "stdout",
          "output_type": "stream",
          "text": [
            "step5 messages: 10\n",
            "Failed to parse model output as JSON:\n",
            "step3 messages: 7\n",
            "step4 messages: 9\n"
          ]
        },
        {
          "name": "stderr",
          "output_type": "stream",
          "text": [
            "\r 21%|██        | 118/567 [08:16<29:05,  3.89s/it]"
          ]
        },
        {
          "name": "stdout",
          "output_type": "stream",
          "text": [
            "step5 messages: 10\n",
            "Failed to parse model output as JSON:\n",
            "step3 messages: 7\n",
            "step4 messages: 9\n"
          ]
        },
        {
          "name": "stderr",
          "output_type": "stream",
          "text": [
            "\r 21%|██        | 119/567 [08:19<27:37,  3.70s/it]"
          ]
        },
        {
          "name": "stdout",
          "output_type": "stream",
          "text": [
            "step5 messages: 10\n",
            "Failed to parse model output as JSON:\n",
            "step3 messages: 7\n",
            "step4 messages: 9\n"
          ]
        },
        {
          "name": "stderr",
          "output_type": "stream",
          "text": [
            "\r 21%|██        | 120/567 [08:24<30:05,  4.04s/it]"
          ]
        },
        {
          "name": "stdout",
          "output_type": "stream",
          "text": [
            "step5 messages: 10\n",
            "Failed to parse model output as JSON:\n",
            "step3 messages: 7\n",
            "step4 messages: 9\n"
          ]
        },
        {
          "name": "stderr",
          "output_type": "stream",
          "text": [
            "\r 21%|██▏       | 121/567 [08:27<29:09,  3.92s/it]"
          ]
        },
        {
          "name": "stdout",
          "output_type": "stream",
          "text": [
            "step5 messages: 10\n",
            "Failed to parse model output as JSON:\n",
            "step3 messages: 7\n",
            "step4 messages: 9\n"
          ]
        },
        {
          "name": "stderr",
          "output_type": "stream",
          "text": [
            "\r 22%|██▏       | 122/567 [08:33<34:07,  4.60s/it]"
          ]
        },
        {
          "name": "stdout",
          "output_type": "stream",
          "text": [
            "step5 messages: 10\n",
            "Failed to parse model output as JSON:\n",
            "step3 messages: 7\n",
            "step4 messages: 9\n"
          ]
        },
        {
          "name": "stderr",
          "output_type": "stream",
          "text": [
            "\r 22%|██▏       | 123/567 [08:38<33:23,  4.51s/it]"
          ]
        },
        {
          "name": "stdout",
          "output_type": "stream",
          "text": [
            "step5 messages: 10\n",
            "Failed to parse model output as JSON:\n",
            "step3 messages: 7\n",
            "step4 messages: 9\n"
          ]
        },
        {
          "name": "stderr",
          "output_type": "stream",
          "text": [
            "\r 22%|██▏       | 124/567 [08:41<30:41,  4.16s/it]"
          ]
        },
        {
          "name": "stdout",
          "output_type": "stream",
          "text": [
            "step5 messages: 10\n",
            "Failed to parse model output as JSON:\n",
            "step3 messages: 7\n",
            "step4 messages: 9\n"
          ]
        },
        {
          "name": "stderr",
          "output_type": "stream",
          "text": [
            "\r 22%|██▏       | 125/567 [08:44<28:09,  3.82s/it]"
          ]
        },
        {
          "name": "stdout",
          "output_type": "stream",
          "text": [
            "step5 messages: 10\n",
            "Failed to parse model output as JSON:\n",
            "step3 messages: 7\n",
            "step4 messages: 9\n"
          ]
        },
        {
          "name": "stderr",
          "output_type": "stream",
          "text": [
            "\r 22%|██▏       | 126/567 [08:48<28:53,  3.93s/it]"
          ]
        },
        {
          "name": "stdout",
          "output_type": "stream",
          "text": [
            "step5 messages: 10\n",
            "Failed to parse model output as JSON:\n",
            "step3 messages: 7\n",
            "step4 messages: 9\n"
          ]
        },
        {
          "name": "stderr",
          "output_type": "stream",
          "text": [
            "\r 22%|██▏       | 127/567 [08:51<26:32,  3.62s/it]"
          ]
        },
        {
          "name": "stdout",
          "output_type": "stream",
          "text": [
            "step5 messages: 10\n",
            "Failed to parse model output as JSON:\n",
            "step3 messages: 7\n",
            "step4 messages: 9\n"
          ]
        },
        {
          "name": "stderr",
          "output_type": "stream",
          "text": [
            "\r 23%|██▎       | 128/567 [08:55<26:04,  3.56s/it]"
          ]
        },
        {
          "name": "stdout",
          "output_type": "stream",
          "text": [
            "step5 messages: 10\n",
            "Failed to parse model output as JSON:\n",
            "step3 messages: 7\n",
            "step4 messages: 9\n"
          ]
        },
        {
          "name": "stderr",
          "output_type": "stream",
          "text": [
            "\r 23%|██▎       | 129/567 [08:58<24:43,  3.39s/it]"
          ]
        },
        {
          "name": "stdout",
          "output_type": "stream",
          "text": [
            "step5 messages: 10\n",
            "Failed to parse model output as JSON:\n",
            "step3 messages: 7\n",
            "step4 messages: 9\n"
          ]
        },
        {
          "name": "stderr",
          "output_type": "stream",
          "text": [
            "\r 23%|██▎       | 130/567 [09:01<24:11,  3.32s/it]"
          ]
        },
        {
          "name": "stdout",
          "output_type": "stream",
          "text": [
            "step5 messages: 10\n",
            "Failed to parse model output as JSON:\n",
            "step3 messages: 7\n",
            "step4 messages: 9\n"
          ]
        },
        {
          "name": "stderr",
          "output_type": "stream",
          "text": [
            "\r 23%|██▎       | 131/567 [09:05<26:47,  3.69s/it]"
          ]
        },
        {
          "name": "stdout",
          "output_type": "stream",
          "text": [
            "step5 messages: 10\n",
            "Failed to parse model output as JSON:\n",
            "step3 messages: 7\n",
            "step4 messages: 9\n"
          ]
        },
        {
          "name": "stderr",
          "output_type": "stream",
          "text": [
            "\r 23%|██▎       | 132/567 [09:11<30:41,  4.23s/it]"
          ]
        },
        {
          "name": "stdout",
          "output_type": "stream",
          "text": [
            "step5 messages: 10\n",
            "Failed to parse model output as JSON:\n",
            "step3 messages: 7\n",
            "step4 messages: 9\n"
          ]
        },
        {
          "name": "stderr",
          "output_type": "stream",
          "text": [
            "\r 23%|██▎       | 133/567 [09:15<29:26,  4.07s/it]"
          ]
        },
        {
          "name": "stdout",
          "output_type": "stream",
          "text": [
            "step5 messages: 10\n",
            "Failed to parse model output as JSON:\n",
            "step3 messages: 7\n",
            "step4 messages: 9\n"
          ]
        },
        {
          "name": "stderr",
          "output_type": "stream",
          "text": [
            "\r 24%|██▎       | 134/567 [09:19<29:37,  4.11s/it]"
          ]
        },
        {
          "name": "stdout",
          "output_type": "stream",
          "text": [
            "step5 messages: 10\n",
            "Failed to parse model output as JSON:\n",
            "step3 messages: 7\n",
            "step4 messages: 9\n"
          ]
        },
        {
          "name": "stderr",
          "output_type": "stream",
          "text": [
            "\r 24%|██▍       | 135/567 [09:23<28:51,  4.01s/it]"
          ]
        },
        {
          "name": "stdout",
          "output_type": "stream",
          "text": [
            "step5 messages: 10\n",
            "Failed to parse model output as JSON:\n",
            "step3 messages: 7\n",
            "step4 messages: 9\n"
          ]
        },
        {
          "name": "stderr",
          "output_type": "stream",
          "text": [
            "\r 24%|██▍       | 136/567 [09:26<28:01,  3.90s/it]"
          ]
        },
        {
          "name": "stdout",
          "output_type": "stream",
          "text": [
            "step5 messages: 10\n",
            "Failed to parse model output as JSON:\n",
            "step3 messages: 7\n",
            "step4 messages: 9\n"
          ]
        },
        {
          "name": "stderr",
          "output_type": "stream",
          "text": [
            "\r 24%|██▍       | 137/567 [09:29<25:31,  3.56s/it]"
          ]
        },
        {
          "name": "stdout",
          "output_type": "stream",
          "text": [
            "step5 messages: 10\n",
            "Failed to parse model output as JSON:\n",
            "step3 messages: 7\n",
            "step4 messages: 9\n"
          ]
        },
        {
          "name": "stderr",
          "output_type": "stream",
          "text": [
            "\r 24%|██▍       | 138/567 [09:43<48:31,  6.79s/it]"
          ]
        },
        {
          "name": "stdout",
          "output_type": "stream",
          "text": [
            "step5 messages: 10\n",
            "Failed to parse model output as JSON:\n",
            "step3 messages: 7\n",
            "step4 messages: 9\n"
          ]
        },
        {
          "name": "stderr",
          "output_type": "stream",
          "text": [
            "\r 25%|██▍       | 139/567 [09:48<44:19,  6.21s/it]"
          ]
        },
        {
          "name": "stdout",
          "output_type": "stream",
          "text": [
            "step5 messages: 10\n",
            "Failed to parse model output as JSON:\n",
            "step3 messages: 7\n",
            "step4 messages: 9\n"
          ]
        },
        {
          "name": "stderr",
          "output_type": "stream",
          "text": [
            "\r 25%|██▍       | 140/567 [09:51<38:06,  5.36s/it]"
          ]
        },
        {
          "name": "stdout",
          "output_type": "stream",
          "text": [
            "step5 messages: 10\n",
            "Failed to parse model output as JSON:\n",
            "step3 messages: 7\n",
            "step4 messages: 9\n"
          ]
        },
        {
          "name": "stderr",
          "output_type": "stream",
          "text": [
            "\r 25%|██▍       | 141/567 [09:55<33:39,  4.74s/it]"
          ]
        },
        {
          "name": "stdout",
          "output_type": "stream",
          "text": [
            "step5 messages: 10\n",
            "Failed to parse model output as JSON:\n",
            "step3 messages: 7\n",
            "step4 messages: 9\n"
          ]
        },
        {
          "name": "stderr",
          "output_type": "stream",
          "text": [
            "\r 25%|██▌       | 142/567 [09:58<30:58,  4.37s/it]"
          ]
        },
        {
          "name": "stdout",
          "output_type": "stream",
          "text": [
            "step5 messages: 10\n",
            "Failed to parse model output as JSON:\n",
            "step3 messages: 7\n",
            "step4 messages: 9\n"
          ]
        },
        {
          "name": "stderr",
          "output_type": "stream",
          "text": [
            "\r 25%|██▌       | 143/567 [10:02<28:50,  4.08s/it]"
          ]
        },
        {
          "name": "stdout",
          "output_type": "stream",
          "text": [
            "step5 messages: 10\n",
            "Failed to parse model output as JSON:\n",
            "step3 messages: 7\n",
            "step4 messages: 9\n"
          ]
        },
        {
          "name": "stderr",
          "output_type": "stream",
          "text": [
            "\r 25%|██▌       | 144/567 [10:05<27:16,  3.87s/it]"
          ]
        },
        {
          "name": "stdout",
          "output_type": "stream",
          "text": [
            "step5 messages: 10\n",
            "Failed to parse model output as JSON:\n",
            "step3 messages: 7\n",
            "step4 messages: 9\n"
          ]
        },
        {
          "name": "stderr",
          "output_type": "stream",
          "text": [
            "\r 26%|██▌       | 145/567 [10:10<29:40,  4.22s/it]"
          ]
        },
        {
          "name": "stdout",
          "output_type": "stream",
          "text": [
            "step5 messages: 10\n",
            "Failed to parse model output as JSON:\n",
            "step3 messages: 7\n",
            "step4 messages: 9\n"
          ]
        },
        {
          "name": "stderr",
          "output_type": "stream",
          "text": [
            "\r 26%|██▌       | 146/567 [10:14<29:52,  4.26s/it]"
          ]
        },
        {
          "name": "stdout",
          "output_type": "stream",
          "text": [
            "step5 messages: 10\n",
            "Failed to parse model output as JSON:\n",
            "step3 messages: 7\n",
            "step4 messages: 9\n"
          ]
        },
        {
          "name": "stderr",
          "output_type": "stream",
          "text": [
            "\r 26%|██▌       | 147/567 [10:18<28:32,  4.08s/it]"
          ]
        },
        {
          "name": "stdout",
          "output_type": "stream",
          "text": [
            "step5 messages: 10\n",
            "Failed to parse model output as JSON:\n",
            "step3 messages: 7\n",
            "step4 messages: 9\n"
          ]
        },
        {
          "name": "stderr",
          "output_type": "stream",
          "text": [
            "\r 26%|██▌       | 148/567 [10:22<27:18,  3.91s/it]"
          ]
        },
        {
          "name": "stdout",
          "output_type": "stream",
          "text": [
            "step5 messages: 10\n",
            "Failed to parse model output as JSON:\n",
            "step3 messages: 7\n",
            "step4 messages: 9\n"
          ]
        },
        {
          "name": "stderr",
          "output_type": "stream",
          "text": [
            "\r 26%|██▋       | 149/567 [10:26<27:17,  3.92s/it]"
          ]
        },
        {
          "name": "stdout",
          "output_type": "stream",
          "text": [
            "step5 messages: 10\n",
            "Failed to parse model output as JSON:\n",
            "step3 messages: 7\n",
            "step4 messages: 9\n"
          ]
        },
        {
          "name": "stderr",
          "output_type": "stream",
          "text": [
            "\r 26%|██▋       | 150/567 [10:29<26:52,  3.87s/it]"
          ]
        },
        {
          "name": "stdout",
          "output_type": "stream",
          "text": [
            "step5 messages: 10\n",
            "Failed to parse model output as JSON:\n",
            "step3 messages: 7\n",
            "step4 messages: 9\n"
          ]
        },
        {
          "name": "stderr",
          "output_type": "stream",
          "text": [
            "\r 27%|██▋       | 151/567 [10:34<27:34,  3.98s/it]"
          ]
        },
        {
          "name": "stdout",
          "output_type": "stream",
          "text": [
            "step5 messages: 10\n",
            "Failed to parse model output as JSON:\n",
            "step3 messages: 7\n",
            "step4 messages: 9\n"
          ]
        },
        {
          "name": "stderr",
          "output_type": "stream",
          "text": [
            "\r 27%|██▋       | 152/567 [10:37<25:43,  3.72s/it]"
          ]
        },
        {
          "name": "stdout",
          "output_type": "stream",
          "text": [
            "step5 messages: 10\n",
            "Failed to parse model output as JSON:\n",
            "step3 messages: 7\n",
            "step4 messages: 9\n"
          ]
        },
        {
          "name": "stderr",
          "output_type": "stream",
          "text": [
            "\r 27%|██▋       | 153/567 [10:41<25:58,  3.76s/it]"
          ]
        },
        {
          "name": "stdout",
          "output_type": "stream",
          "text": [
            "step5 messages: 10\n",
            "Failed to parse model output as JSON:\n",
            "step3 messages: 7\n",
            "step4 messages: 9\n"
          ]
        },
        {
          "name": "stderr",
          "output_type": "stream",
          "text": [
            "\r 27%|██▋       | 154/567 [10:44<25:42,  3.73s/it]"
          ]
        },
        {
          "name": "stdout",
          "output_type": "stream",
          "text": [
            "step5 messages: 10\n",
            "Failed to parse model output as JSON:\n",
            "step3 messages: 7\n",
            "step4 messages: 9\n"
          ]
        },
        {
          "name": "stderr",
          "output_type": "stream",
          "text": [
            "\r 27%|██▋       | 155/567 [10:48<25:10,  3.67s/it]"
          ]
        },
        {
          "name": "stdout",
          "output_type": "stream",
          "text": [
            "step5 messages: 10\n",
            "Failed to parse model output as JSON:\n",
            "step3 messages: 7\n",
            "step4 messages: 9\n"
          ]
        },
        {
          "name": "stderr",
          "output_type": "stream",
          "text": [
            "\r 28%|██▊       | 156/567 [10:54<30:59,  4.52s/it]"
          ]
        },
        {
          "name": "stdout",
          "output_type": "stream",
          "text": [
            "step5 messages: 10\n",
            "Failed to parse model output as JSON:\n",
            "step3 messages: 7\n",
            "step4 messages: 9\n"
          ]
        },
        {
          "name": "stderr",
          "output_type": "stream",
          "text": [
            "\r 28%|██▊       | 157/567 [10:58<30:13,  4.42s/it]"
          ]
        },
        {
          "name": "stdout",
          "output_type": "stream",
          "text": [
            "step5 messages: 10\n",
            "Failed to parse model output as JSON:\n",
            "step3 messages: 7\n",
            "step4 messages: 9\n"
          ]
        },
        {
          "name": "stderr",
          "output_type": "stream",
          "text": [
            "\r 28%|██▊       | 158/567 [11:02<28:34,  4.19s/it]"
          ]
        },
        {
          "name": "stdout",
          "output_type": "stream",
          "text": [
            "step5 messages: 10\n",
            "Failed to parse model output as JSON:\n",
            "step3 messages: 7\n",
            "step4 messages: 9\n"
          ]
        },
        {
          "name": "stderr",
          "output_type": "stream",
          "text": [
            "\r 28%|██▊       | 159/567 [11:07<29:28,  4.34s/it]"
          ]
        },
        {
          "name": "stdout",
          "output_type": "stream",
          "text": [
            "step5 messages: 10\n",
            "Failed to parse model output as JSON:\n",
            "step3 messages: 7\n",
            "step4 messages: 9\n"
          ]
        },
        {
          "name": "stderr",
          "output_type": "stream",
          "text": [
            "\r 28%|██▊       | 160/567 [11:12<30:45,  4.53s/it]"
          ]
        },
        {
          "name": "stdout",
          "output_type": "stream",
          "text": [
            "step5 messages: 10\n",
            "Failed to parse model output as JSON:\n",
            "step3 messages: 7\n",
            "step4 messages: 9\n"
          ]
        },
        {
          "name": "stderr",
          "output_type": "stream",
          "text": [
            "\r 28%|██▊       | 161/567 [11:15<28:20,  4.19s/it]"
          ]
        },
        {
          "name": "stdout",
          "output_type": "stream",
          "text": [
            "step5 messages: 10\n",
            "Failed to parse model output as JSON:\n",
            "step3 messages: 7\n",
            "step4 messages: 9\n"
          ]
        },
        {
          "name": "stderr",
          "output_type": "stream",
          "text": [
            "\r 29%|██▊       | 162/567 [11:19<27:32,  4.08s/it]"
          ]
        },
        {
          "name": "stdout",
          "output_type": "stream",
          "text": [
            "step5 messages: 10\n",
            "Failed to parse model output as JSON:\n",
            "step3 messages: 7\n",
            "step4 messages: 9\n"
          ]
        },
        {
          "name": "stderr",
          "output_type": "stream",
          "text": [
            "\r 29%|██▊       | 163/567 [11:22<25:10,  3.74s/it]"
          ]
        },
        {
          "name": "stdout",
          "output_type": "stream",
          "text": [
            "step5 messages: 10\n",
            "Failed to parse model output as JSON:\n",
            "step3 messages: 7\n",
            "step4 messages: 9\n"
          ]
        },
        {
          "name": "stderr",
          "output_type": "stream",
          "text": [
            "\r 29%|██▉       | 164/567 [11:26<26:14,  3.91s/it]"
          ]
        },
        {
          "name": "stdout",
          "output_type": "stream",
          "text": [
            "step5 messages: 10\n",
            "Failed to parse model output as JSON:\n",
            "step3 messages: 7\n",
            "step4 messages: 9\n"
          ]
        },
        {
          "name": "stderr",
          "output_type": "stream",
          "text": [
            "\r 29%|██▉       | 165/567 [11:30<25:55,  3.87s/it]"
          ]
        },
        {
          "name": "stdout",
          "output_type": "stream",
          "text": [
            "step5 messages: 10\n",
            "Failed to parse model output as JSON:\n",
            "step3 messages: 7\n",
            "step4 messages: 9\n"
          ]
        },
        {
          "name": "stderr",
          "output_type": "stream",
          "text": [
            "\r 29%|██▉       | 166/567 [11:33<25:07,  3.76s/it]"
          ]
        },
        {
          "name": "stdout",
          "output_type": "stream",
          "text": [
            "step5 messages: 10\n",
            "Failed to parse model output as JSON:\n",
            "step3 messages: 7\n",
            "step4 messages: 9\n"
          ]
        },
        {
          "name": "stderr",
          "output_type": "stream",
          "text": [
            "\r 29%|██▉       | 167/567 [11:38<25:49,  3.87s/it]"
          ]
        },
        {
          "name": "stdout",
          "output_type": "stream",
          "text": [
            "step5 messages: 10\n",
            "Failed to parse model output as JSON:\n",
            "step3 messages: 7\n",
            "step4 messages: 9\n"
          ]
        },
        {
          "name": "stderr",
          "output_type": "stream",
          "text": [
            "\r 30%|██▉       | 168/567 [11:42<26:13,  3.94s/it]"
          ]
        },
        {
          "name": "stdout",
          "output_type": "stream",
          "text": [
            "step5 messages: 10\n",
            "Failed to parse model output as JSON:\n",
            "step3 messages: 7\n",
            "step4 messages: 9\n"
          ]
        },
        {
          "name": "stderr",
          "output_type": "stream",
          "text": [
            "\r 30%|██▉       | 169/567 [11:46<27:14,  4.11s/it]"
          ]
        },
        {
          "name": "stdout",
          "output_type": "stream",
          "text": [
            "step5 messages: 10\n",
            "Failed to parse model output as JSON:\n",
            "step3 messages: 7\n",
            "step4 messages: 9\n"
          ]
        },
        {
          "name": "stderr",
          "output_type": "stream",
          "text": [
            "\r 30%|██▉       | 170/567 [11:51<28:42,  4.34s/it]"
          ]
        },
        {
          "name": "stdout",
          "output_type": "stream",
          "text": [
            "step5 messages: 10\n",
            "Failed to parse model output as JSON:\n",
            "step3 messages: 7\n",
            "step4 messages: 9\n"
          ]
        },
        {
          "name": "stderr",
          "output_type": "stream",
          "text": [
            "\r 30%|███       | 171/567 [11:55<28:34,  4.33s/it]"
          ]
        },
        {
          "name": "stdout",
          "output_type": "stream",
          "text": [
            "step5 messages: 10\n",
            "Failed to parse model output as JSON:\n",
            "step3 messages: 7\n",
            "step4 messages: 9\n"
          ]
        },
        {
          "name": "stderr",
          "output_type": "stream",
          "text": [
            "\r 30%|███       | 172/567 [11:59<27:00,  4.10s/it]"
          ]
        },
        {
          "name": "stdout",
          "output_type": "stream",
          "text": [
            "step5 messages: 10\n",
            "Failed to parse model output as JSON:\n",
            "step3 messages: 7\n",
            "step4 messages: 9\n"
          ]
        },
        {
          "name": "stderr",
          "output_type": "stream",
          "text": [
            "\r 31%|███       | 173/567 [12:02<25:12,  3.84s/it]"
          ]
        },
        {
          "name": "stdout",
          "output_type": "stream",
          "text": [
            "step5 messages: 10\n",
            "Failed to parse model output as JSON:\n",
            "step3 messages: 7\n",
            "step4 messages: 9\n"
          ]
        },
        {
          "name": "stderr",
          "output_type": "stream",
          "text": [
            "\r 31%|███       | 174/567 [12:07<26:34,  4.06s/it]"
          ]
        },
        {
          "name": "stdout",
          "output_type": "stream",
          "text": [
            "step5 messages: 10\n",
            "Failed to parse model output as JSON:\n",
            "step3 messages: 7\n",
            "step4 messages: 9\n"
          ]
        },
        {
          "name": "stderr",
          "output_type": "stream",
          "text": [
            "\r 31%|███       | 175/567 [12:12<28:03,  4.29s/it]"
          ]
        },
        {
          "name": "stdout",
          "output_type": "stream",
          "text": [
            "step5 messages: 10\n",
            "Failed to parse model output as JSON:\n",
            "step3 messages: 7\n",
            "step4 messages: 9\n"
          ]
        },
        {
          "name": "stderr",
          "output_type": "stream",
          "text": [
            "\r 31%|███       | 176/567 [12:15<27:00,  4.14s/it]"
          ]
        },
        {
          "name": "stdout",
          "output_type": "stream",
          "text": [
            "step5 messages: 10\n",
            "Failed to parse model output as JSON:\n",
            "step3 messages: 7\n",
            "step4 messages: 9\n"
          ]
        },
        {
          "name": "stderr",
          "output_type": "stream",
          "text": [
            "\r 31%|███       | 177/567 [12:35<57:18,  8.82s/it]"
          ]
        },
        {
          "name": "stdout",
          "output_type": "stream",
          "text": [
            "step5 messages: 10\n",
            "Failed to parse model output as JSON:\n",
            "step3 messages: 7\n",
            "step4 messages: 9\n"
          ]
        },
        {
          "name": "stderr",
          "output_type": "stream",
          "text": [
            "\r 31%|███▏      | 178/567 [12:39<46:38,  7.19s/it]"
          ]
        },
        {
          "name": "stdout",
          "output_type": "stream",
          "text": [
            "step5 messages: 10\n",
            "Failed to parse model output as JSON:\n",
            "step3 messages: 7\n",
            "step4 messages: 9\n"
          ]
        },
        {
          "name": "stderr",
          "output_type": "stream",
          "text": [
            "\r 32%|███▏      | 179/567 [12:44<42:33,  6.58s/it]"
          ]
        },
        {
          "name": "stdout",
          "output_type": "stream",
          "text": [
            "step5 messages: 10\n",
            "Failed to parse model output as JSON:\n",
            "step3 messages: 7\n",
            "step4 messages: 9\n"
          ]
        },
        {
          "name": "stderr",
          "output_type": "stream",
          "text": [
            "\r 32%|███▏      | 180/567 [12:49<40:17,  6.25s/it]"
          ]
        },
        {
          "name": "stdout",
          "output_type": "stream",
          "text": [
            "step5 messages: 10\n",
            "Failed to parse model output as JSON:\n",
            "step3 messages: 7\n",
            "step4 messages: 9\n"
          ]
        },
        {
          "name": "stderr",
          "output_type": "stream",
          "text": [
            "\r 32%|███▏      | 181/567 [12:54<38:26,  5.98s/it]"
          ]
        },
        {
          "name": "stdout",
          "output_type": "stream",
          "text": [
            "step5 messages: 10\n",
            "Failed to parse model output as JSON:\n",
            "step3 messages: 7\n",
            "step4 messages: 9\n"
          ]
        },
        {
          "name": "stderr",
          "output_type": "stream",
          "text": [
            "\r 32%|███▏      | 182/567 [12:59<35:02,  5.46s/it]"
          ]
        },
        {
          "name": "stdout",
          "output_type": "stream",
          "text": [
            "step5 messages: 10\n",
            "Failed to parse model output as JSON:\n",
            "step3 messages: 7\n",
            "step4 messages: 9\n"
          ]
        },
        {
          "name": "stderr",
          "output_type": "stream",
          "text": [
            "\r 32%|███▏      | 183/567 [13:04<34:11,  5.34s/it]"
          ]
        },
        {
          "name": "stdout",
          "output_type": "stream",
          "text": [
            "step5 messages: 10\n",
            "Failed to parse model output as JSON:\n",
            "step3 messages: 7\n",
            "step4 messages: 9\n"
          ]
        },
        {
          "name": "stderr",
          "output_type": "stream",
          "text": [
            "\r 32%|███▏      | 184/567 [13:09<34:22,  5.39s/it]"
          ]
        },
        {
          "name": "stdout",
          "output_type": "stream",
          "text": [
            "step5 messages: 10\n",
            "Failed to parse model output as JSON:\n",
            "step3 messages: 7\n",
            "step4 messages: 9\n"
          ]
        },
        {
          "name": "stderr",
          "output_type": "stream",
          "text": [
            "\r 33%|███▎      | 185/567 [13:13<30:56,  4.86s/it]"
          ]
        },
        {
          "name": "stdout",
          "output_type": "stream",
          "text": [
            "step5 messages: 10\n",
            "Failed to parse model output as JSON:\n",
            "step3 messages: 7\n",
            "step4 messages: 9\n"
          ]
        },
        {
          "name": "stderr",
          "output_type": "stream",
          "text": [
            "\r 33%|███▎      | 186/567 [13:17<29:19,  4.62s/it]"
          ]
        },
        {
          "name": "stdout",
          "output_type": "stream",
          "text": [
            "step5 messages: 10\n",
            "Failed to parse model output as JSON:\n",
            "step3 messages: 7\n",
            "step4 messages: 9\n"
          ]
        },
        {
          "name": "stderr",
          "output_type": "stream",
          "text": [
            "\r 33%|███▎      | 187/567 [13:23<31:46,  5.02s/it]"
          ]
        },
        {
          "name": "stdout",
          "output_type": "stream",
          "text": [
            "step5 messages: 10\n",
            "Failed to parse model output as JSON:\n",
            "step3 messages: 7\n",
            "step4 messages: 9\n"
          ]
        },
        {
          "name": "stderr",
          "output_type": "stream",
          "text": [
            "\r 33%|███▎      | 188/567 [13:29<33:36,  5.32s/it]"
          ]
        },
        {
          "name": "stdout",
          "output_type": "stream",
          "text": [
            "step5 messages: 10\n",
            "Failed to parse model output as JSON:\n",
            "step3 messages: 7\n",
            "step4 messages: 9\n"
          ]
        },
        {
          "name": "stderr",
          "output_type": "stream",
          "text": [
            "\r 33%|███▎      | 189/567 [13:35<34:55,  5.54s/it]"
          ]
        },
        {
          "name": "stdout",
          "output_type": "stream",
          "text": [
            "step5 messages: 10\n",
            "Failed to parse model output as JSON:\n",
            "step3 messages: 7\n",
            "step4 messages: 9\n"
          ]
        },
        {
          "name": "stderr",
          "output_type": "stream",
          "text": [
            "\r 34%|███▎      | 190/567 [13:39<31:22,  4.99s/it]"
          ]
        },
        {
          "name": "stdout",
          "output_type": "stream",
          "text": [
            "step5 messages: 10\n",
            "Failed to parse model output as JSON:\n",
            "step3 messages: 7\n",
            "step4 messages: 9\n"
          ]
        },
        {
          "name": "stderr",
          "output_type": "stream",
          "text": [
            "\r 34%|███▎      | 191/567 [13:43<29:00,  4.63s/it]"
          ]
        },
        {
          "name": "stdout",
          "output_type": "stream",
          "text": [
            "step5 messages: 10\n",
            "Failed to parse model output as JSON:\n",
            "step3 messages: 7\n",
            "step4 messages: 9\n"
          ]
        },
        {
          "name": "stderr",
          "output_type": "stream",
          "text": [
            "\r 34%|███▍      | 192/567 [13:46<27:22,  4.38s/it]"
          ]
        },
        {
          "name": "stdout",
          "output_type": "stream",
          "text": [
            "step5 messages: 10\n",
            "Failed to parse model output as JSON:\n",
            "step3 messages: 7\n",
            "step4 messages: 9\n"
          ]
        },
        {
          "name": "stderr",
          "output_type": "stream",
          "text": [
            "\r 34%|███▍      | 193/567 [13:50<26:37,  4.27s/it]"
          ]
        },
        {
          "name": "stdout",
          "output_type": "stream",
          "text": [
            "step5 messages: 10\n",
            "Failed to parse model output as JSON:\n",
            "step3 messages: 7\n",
            "step4 messages: 9\n"
          ]
        },
        {
          "name": "stderr",
          "output_type": "stream",
          "text": [
            "\r 34%|███▍      | 194/567 [13:55<26:32,  4.27s/it]"
          ]
        },
        {
          "name": "stdout",
          "output_type": "stream",
          "text": [
            "step5 messages: 10\n",
            "Failed to parse model output as JSON:\n",
            "step3 messages: 7\n",
            "step4 messages: 9\n"
          ]
        },
        {
          "name": "stderr",
          "output_type": "stream",
          "text": [
            "\r 34%|███▍      | 195/567 [13:58<24:33,  3.96s/it]"
          ]
        },
        {
          "name": "stdout",
          "output_type": "stream",
          "text": [
            "step5 messages: 10\n",
            "Failed to parse model output as JSON:\n",
            "step3 messages: 7\n",
            "step4 messages: 9\n"
          ]
        },
        {
          "name": "stderr",
          "output_type": "stream",
          "text": [
            "\r 35%|███▍      | 196/567 [14:02<24:22,  3.94s/it]"
          ]
        },
        {
          "name": "stdout",
          "output_type": "stream",
          "text": [
            "step5 messages: 10\n",
            "Failed to parse model output as JSON:\n",
            "step3 messages: 7\n",
            "step4 messages: 9\n"
          ]
        },
        {
          "name": "stderr",
          "output_type": "stream",
          "text": [
            "\r 35%|███▍      | 197/567 [14:05<23:40,  3.84s/it]"
          ]
        },
        {
          "name": "stdout",
          "output_type": "stream",
          "text": [
            "step5 messages: 10\n",
            "Failed to parse model output as JSON:\n",
            "step3 messages: 7\n",
            "step4 messages: 9\n"
          ]
        },
        {
          "name": "stderr",
          "output_type": "stream",
          "text": [
            "\r 35%|███▍      | 198/567 [14:09<23:08,  3.76s/it]"
          ]
        },
        {
          "name": "stdout",
          "output_type": "stream",
          "text": [
            "step5 messages: 10\n",
            "Failed to parse model output as JSON:\n",
            "step3 messages: 7\n",
            "step4 messages: 9\n"
          ]
        },
        {
          "name": "stderr",
          "output_type": "stream",
          "text": [
            "\r 35%|███▌      | 199/567 [14:15<27:21,  4.46s/it]"
          ]
        },
        {
          "name": "stdout",
          "output_type": "stream",
          "text": [
            "step5 messages: 10\n",
            "Failed to parse model output as JSON:\n",
            "step3 messages: 7\n",
            "step4 messages: 9\n"
          ]
        },
        {
          "name": "stderr",
          "output_type": "stream",
          "text": [
            "\r 35%|███▌      | 200/567 [14:18<25:05,  4.10s/it]"
          ]
        },
        {
          "name": "stdout",
          "output_type": "stream",
          "text": [
            "step5 messages: 10\n",
            "Failed to parse model output as JSON:\n",
            "step3 messages: 7\n",
            "step4 messages: 9\n"
          ]
        },
        {
          "name": "stderr",
          "output_type": "stream",
          "text": [
            "\r 35%|███▌      | 201/567 [14:22<24:15,  3.98s/it]"
          ]
        },
        {
          "name": "stdout",
          "output_type": "stream",
          "text": [
            "step5 messages: 10\n",
            "Failed to parse model output as JSON:\n",
            "step3 messages: 7\n",
            "step4 messages: 9\n"
          ]
        },
        {
          "name": "stderr",
          "output_type": "stream",
          "text": [
            "\r 36%|███▌      | 202/567 [14:28<28:15,  4.65s/it]"
          ]
        },
        {
          "name": "stdout",
          "output_type": "stream",
          "text": [
            "step5 messages: 10\n",
            "Failed to parse model output as JSON:\n",
            "step3 messages: 7\n",
            "step4 messages: 9\n"
          ]
        },
        {
          "name": "stderr",
          "output_type": "stream",
          "text": [
            "\r 36%|███▌      | 203/567 [14:34<29:48,  4.91s/it]"
          ]
        },
        {
          "name": "stdout",
          "output_type": "stream",
          "text": [
            "step5 messages: 10\n",
            "Failed to parse model output as JSON:\n",
            "step3 messages: 7\n",
            "step4 messages: 9\n"
          ]
        },
        {
          "name": "stderr",
          "output_type": "stream",
          "text": [
            "\r 36%|███▌      | 204/567 [14:38<28:40,  4.74s/it]"
          ]
        },
        {
          "name": "stdout",
          "output_type": "stream",
          "text": [
            "step5 messages: 10\n",
            "Failed to parse model output as JSON:\n",
            "step3 messages: 7\n",
            "step4 messages: 9\n"
          ]
        },
        {
          "name": "stderr",
          "output_type": "stream",
          "text": [
            "\r 36%|███▌      | 205/567 [14:42<26:47,  4.44s/it]"
          ]
        },
        {
          "name": "stdout",
          "output_type": "stream",
          "text": [
            "step5 messages: 10\n",
            "Failed to parse model output as JSON:\n",
            "step3 messages: 7\n",
            "step4 messages: 9\n"
          ]
        },
        {
          "name": "stderr",
          "output_type": "stream",
          "text": [
            "\r 36%|███▋      | 206/567 [14:45<25:19,  4.21s/it]"
          ]
        },
        {
          "name": "stdout",
          "output_type": "stream",
          "text": [
            "step5 messages: 10\n",
            "Failed to parse model output as JSON:\n",
            "step3 messages: 7\n",
            "step4 messages: 9\n"
          ]
        },
        {
          "name": "stderr",
          "output_type": "stream",
          "text": [
            "\r 37%|███▋      | 207/567 [14:49<23:39,  3.94s/it]"
          ]
        },
        {
          "name": "stdout",
          "output_type": "stream",
          "text": [
            "step5 messages: 10\n",
            "Failed to parse model output as JSON:\n",
            "step3 messages: 7\n",
            "step4 messages: 9\n"
          ]
        },
        {
          "name": "stderr",
          "output_type": "stream",
          "text": [
            "\r 37%|███▋      | 208/567 [14:52<22:25,  3.75s/it]"
          ]
        },
        {
          "name": "stdout",
          "output_type": "stream",
          "text": [
            "step5 messages: 10\n",
            "Failed to parse model output as JSON:\n",
            "step3 messages: 7\n",
            "step4 messages: 9\n"
          ]
        },
        {
          "name": "stderr",
          "output_type": "stream",
          "text": [
            "\r 37%|███▋      | 209/567 [14:56<23:34,  3.95s/it]"
          ]
        },
        {
          "name": "stdout",
          "output_type": "stream",
          "text": [
            "step5 messages: 10\n",
            "Failed to parse model output as JSON:\n",
            "step3 messages: 7\n",
            "step4 messages: 9\n"
          ]
        },
        {
          "name": "stderr",
          "output_type": "stream",
          "text": [
            "\r 37%|███▋      | 210/567 [15:01<25:16,  4.25s/it]"
          ]
        },
        {
          "name": "stdout",
          "output_type": "stream",
          "text": [
            "step5 messages: 10\n",
            "Failed to parse model output as JSON:\n",
            "step3 messages: 7\n",
            "step4 messages: 9\n"
          ]
        },
        {
          "name": "stderr",
          "output_type": "stream",
          "text": [
            "\r 37%|███▋      | 211/567 [15:07<26:54,  4.54s/it]"
          ]
        },
        {
          "name": "stdout",
          "output_type": "stream",
          "text": [
            "step5 messages: 10\n",
            "Failed to parse model output as JSON:\n",
            "step3 messages: 7\n",
            "step4 messages: 9\n"
          ]
        },
        {
          "name": "stderr",
          "output_type": "stream",
          "text": [
            "\r 37%|███▋      | 212/567 [15:10<25:35,  4.33s/it]"
          ]
        },
        {
          "name": "stdout",
          "output_type": "stream",
          "text": [
            "step5 messages: 10\n",
            "Failed to parse model output as JSON:\n",
            "step3 messages: 7\n",
            "step4 messages: 9\n"
          ]
        },
        {
          "name": "stderr",
          "output_type": "stream",
          "text": [
            "\r 38%|███▊      | 213/567 [15:16<27:27,  4.65s/it]"
          ]
        },
        {
          "name": "stdout",
          "output_type": "stream",
          "text": [
            "step5 messages: 10\n",
            "Failed to parse model output as JSON:\n",
            "step3 messages: 7\n",
            "step4 messages: 9\n"
          ]
        },
        {
          "name": "stderr",
          "output_type": "stream",
          "text": [
            "\r 38%|███▊      | 214/567 [15:20<25:37,  4.36s/it]"
          ]
        },
        {
          "name": "stdout",
          "output_type": "stream",
          "text": [
            "step5 messages: 10\n",
            "Failed to parse model output as JSON:\n",
            "step3 messages: 7\n",
            "step4 messages: 9\n"
          ]
        },
        {
          "name": "stderr",
          "output_type": "stream",
          "text": [
            "\r 38%|███▊      | 215/567 [15:25<27:10,  4.63s/it]"
          ]
        },
        {
          "name": "stdout",
          "output_type": "stream",
          "text": [
            "step5 messages: 10\n",
            "Failed to parse model output as JSON:\n",
            "step3 messages: 7\n",
            "step4 messages: 9\n"
          ]
        },
        {
          "name": "stderr",
          "output_type": "stream",
          "text": [
            "\r 38%|███▊      | 216/567 [15:29<25:35,  4.37s/it]"
          ]
        },
        {
          "name": "stdout",
          "output_type": "stream",
          "text": [
            "step5 messages: 10\n",
            "Failed to parse model output as JSON:\n",
            "step3 messages: 7\n",
            "step4 messages: 9\n"
          ]
        },
        {
          "name": "stderr",
          "output_type": "stream",
          "text": [
            "\r 38%|███▊      | 217/567 [15:34<27:29,  4.71s/it]"
          ]
        },
        {
          "name": "stdout",
          "output_type": "stream",
          "text": [
            "step5 messages: 10\n",
            "Failed to parse model output as JSON:\n",
            "step3 messages: 7\n",
            "step4 messages: 9\n"
          ]
        },
        {
          "name": "stderr",
          "output_type": "stream",
          "text": [
            "\r 38%|███▊      | 218/567 [15:37<25:00,  4.30s/it]"
          ]
        },
        {
          "name": "stdout",
          "output_type": "stream",
          "text": [
            "step5 messages: 10\n",
            "Failed to parse model output as JSON:\n",
            "step3 messages: 7\n",
            "step4 messages: 9\n"
          ]
        },
        {
          "name": "stderr",
          "output_type": "stream",
          "text": [
            "\r 39%|███▊      | 219/567 [15:41<23:57,  4.13s/it]"
          ]
        },
        {
          "name": "stdout",
          "output_type": "stream",
          "text": [
            "step5 messages: 10\n",
            "Failed to parse model output as JSON:\n",
            "step3 messages: 7\n",
            "step4 messages: 9\n"
          ]
        },
        {
          "name": "stderr",
          "output_type": "stream",
          "text": [
            "\r 39%|███▉      | 220/567 [15:45<23:03,  3.99s/it]"
          ]
        },
        {
          "name": "stdout",
          "output_type": "stream",
          "text": [
            "step5 messages: 10\n",
            "Failed to parse model output as JSON:\n",
            "step3 messages: 7\n",
            "step4 messages: 9\n"
          ]
        },
        {
          "name": "stderr",
          "output_type": "stream",
          "text": [
            "\r 39%|███▉      | 221/567 [15:49<23:30,  4.08s/it]"
          ]
        },
        {
          "name": "stdout",
          "output_type": "stream",
          "text": [
            "step5 messages: 10\n",
            "Failed to parse model output as JSON:\n",
            "step3 messages: 7\n",
            "step4 messages: 9\n"
          ]
        },
        {
          "name": "stderr",
          "output_type": "stream",
          "text": [
            "\r 39%|███▉      | 222/567 [15:52<22:14,  3.87s/it]"
          ]
        },
        {
          "name": "stdout",
          "output_type": "stream",
          "text": [
            "step5 messages: 10\n",
            "Failed to parse model output as JSON:\n",
            "step3 messages: 7\n",
            "step4 messages: 9\n"
          ]
        },
        {
          "name": "stderr",
          "output_type": "stream",
          "text": [
            "\r 39%|███▉      | 223/567 [15:56<21:11,  3.70s/it]"
          ]
        },
        {
          "name": "stdout",
          "output_type": "stream",
          "text": [
            "step5 messages: 10\n",
            "Failed to parse model output as JSON:\n",
            "step3 messages: 7\n",
            "step4 messages: 9\n"
          ]
        },
        {
          "name": "stderr",
          "output_type": "stream",
          "text": [
            "\r 40%|███▉      | 224/567 [15:59<20:59,  3.67s/it]"
          ]
        },
        {
          "name": "stdout",
          "output_type": "stream",
          "text": [
            "step5 messages: 10\n",
            "Failed to parse model output as JSON:\n",
            "step3 messages: 7\n",
            "step4 messages: 9\n"
          ]
        },
        {
          "name": "stderr",
          "output_type": "stream",
          "text": [
            "\r 40%|███▉      | 225/567 [16:03<20:07,  3.53s/it]"
          ]
        },
        {
          "name": "stdout",
          "output_type": "stream",
          "text": [
            "step5 messages: 10\n",
            "Failed to parse model output as JSON:\n",
            "step3 messages: 7\n",
            "step4 messages: 9\n"
          ]
        },
        {
          "name": "stderr",
          "output_type": "stream",
          "text": [
            "\r 40%|███▉      | 226/567 [16:06<20:07,  3.54s/it]"
          ]
        },
        {
          "name": "stdout",
          "output_type": "stream",
          "text": [
            "step5 messages: 10\n",
            "Failed to parse model output as JSON:\n",
            "step3 messages: 7\n",
            "step4 messages: 9\n"
          ]
        },
        {
          "name": "stderr",
          "output_type": "stream",
          "text": [
            "\r 40%|████      | 227/567 [16:11<21:28,  3.79s/it]"
          ]
        },
        {
          "name": "stdout",
          "output_type": "stream",
          "text": [
            "step5 messages: 10\n",
            "Failed to parse model output as JSON:\n",
            "step3 messages: 7\n",
            "step4 messages: 9\n"
          ]
        },
        {
          "name": "stderr",
          "output_type": "stream",
          "text": [
            "\r 40%|████      | 228/567 [16:15<22:19,  3.95s/it]"
          ]
        },
        {
          "name": "stdout",
          "output_type": "stream",
          "text": [
            "step5 messages: 10\n",
            "Failed to parse model output as JSON:\n",
            "step3 messages: 7\n",
            "step4 messages: 9\n"
          ]
        },
        {
          "name": "stderr",
          "output_type": "stream",
          "text": [
            "\r 40%|████      | 229/567 [16:21<25:10,  4.47s/it]"
          ]
        },
        {
          "name": "stdout",
          "output_type": "stream",
          "text": [
            "step5 messages: 10\n",
            "Failed to parse model output as JSON:\n",
            "step3 messages: 7\n",
            "step4 messages: 9\n"
          ]
        },
        {
          "name": "stderr",
          "output_type": "stream",
          "text": [
            "\r 41%|████      | 230/567 [16:25<24:23,  4.34s/it]"
          ]
        },
        {
          "name": "stdout",
          "output_type": "stream",
          "text": [
            "step5 messages: 10\n",
            "Failed to parse model output as JSON:\n",
            "step3 messages: 7\n",
            "step4 messages: 9\n"
          ]
        },
        {
          "name": "stderr",
          "output_type": "stream",
          "text": [
            "\r 41%|████      | 231/567 [16:29<24:37,  4.40s/it]"
          ]
        },
        {
          "name": "stdout",
          "output_type": "stream",
          "text": [
            "step5 messages: 10\n",
            "Failed to parse model output as JSON:\n",
            "step3 messages: 7\n",
            "step4 messages: 9\n"
          ]
        },
        {
          "name": "stderr",
          "output_type": "stream",
          "text": [
            "\r 41%|████      | 232/567 [16:33<23:25,  4.19s/it]"
          ]
        },
        {
          "name": "stdout",
          "output_type": "stream",
          "text": [
            "step5 messages: 10\n",
            "Failed to parse model output as JSON:\n",
            "step3 messages: 7\n",
            "step4 messages: 9\n"
          ]
        },
        {
          "name": "stderr",
          "output_type": "stream",
          "text": [
            "\r 41%|████      | 233/567 [16:39<26:42,  4.80s/it]"
          ]
        },
        {
          "name": "stdout",
          "output_type": "stream",
          "text": [
            "step5 messages: 10\n",
            "Failed to parse model output as JSON:\n",
            "step3 messages: 7\n",
            "step4 messages: 9\n"
          ]
        },
        {
          "name": "stderr",
          "output_type": "stream",
          "text": [
            "\r 41%|████▏     | 234/567 [16:43<24:44,  4.46s/it]"
          ]
        },
        {
          "name": "stdout",
          "output_type": "stream",
          "text": [
            "step5 messages: 10\n",
            "Failed to parse model output as JSON:\n",
            "step3 messages: 7\n",
            "step4 messages: 9\n"
          ]
        },
        {
          "name": "stderr",
          "output_type": "stream",
          "text": [
            "\r 41%|████▏     | 235/567 [16:47<24:11,  4.37s/it]"
          ]
        },
        {
          "name": "stdout",
          "output_type": "stream",
          "text": [
            "step5 messages: 10\n",
            "Failed to parse model output as JSON:\n",
            "step3 messages: 7\n",
            "step4 messages: 9\n"
          ]
        },
        {
          "name": "stderr",
          "output_type": "stream",
          "text": [
            "\r 42%|████▏     | 236/567 [16:50<22:11,  4.02s/it]"
          ]
        },
        {
          "name": "stdout",
          "output_type": "stream",
          "text": [
            "step5 messages: 10\n",
            "Failed to parse model output as JSON:\n",
            "step3 messages: 7\n",
            "step4 messages: 9\n"
          ]
        },
        {
          "name": "stderr",
          "output_type": "stream",
          "text": [
            "\r 42%|████▏     | 237/567 [17:00<31:23,  5.71s/it]"
          ]
        },
        {
          "name": "stdout",
          "output_type": "stream",
          "text": [
            "step5 messages: 10\n",
            "Failed to parse model output as JSON:\n",
            "step3 messages: 7\n",
            "step4 messages: 9\n"
          ]
        },
        {
          "name": "stderr",
          "output_type": "stream",
          "text": [
            "\r 42%|████▏     | 238/567 [17:04<28:13,  5.15s/it]"
          ]
        },
        {
          "name": "stdout",
          "output_type": "stream",
          "text": [
            "step5 messages: 10\n",
            "Failed to parse model output as JSON:\n",
            "step3 messages: 7\n",
            "step4 messages: 9\n"
          ]
        },
        {
          "name": "stderr",
          "output_type": "stream",
          "text": [
            "\r 42%|████▏     | 239/567 [17:07<25:58,  4.75s/it]"
          ]
        },
        {
          "name": "stdout",
          "output_type": "stream",
          "text": [
            "step5 messages: 10\n",
            "Failed to parse model output as JSON:\n",
            "step3 messages: 7\n",
            "step4 messages: 9\n"
          ]
        },
        {
          "name": "stderr",
          "output_type": "stream",
          "text": [
            "\r 42%|████▏     | 240/567 [17:11<23:47,  4.37s/it]"
          ]
        },
        {
          "name": "stdout",
          "output_type": "stream",
          "text": [
            "step5 messages: 10\n",
            "Failed to parse model output as JSON:\n",
            "step3 messages: 7\n",
            "step4 messages: 9\n"
          ]
        },
        {
          "name": "stderr",
          "output_type": "stream",
          "text": [
            "\r 43%|████▎     | 241/567 [17:14<22:06,  4.07s/it]"
          ]
        },
        {
          "name": "stdout",
          "output_type": "stream",
          "text": [
            "step5 messages: 10\n",
            "Failed to parse model output as JSON:\n",
            "step3 messages: 7\n",
            "step4 messages: 9\n"
          ]
        },
        {
          "name": "stderr",
          "output_type": "stream",
          "text": [
            "\r 43%|████▎     | 242/567 [17:18<21:14,  3.92s/it]"
          ]
        },
        {
          "name": "stdout",
          "output_type": "stream",
          "text": [
            "step5 messages: 10\n",
            "Failed to parse model output as JSON:\n",
            "step3 messages: 7\n",
            "step4 messages: 9\n"
          ]
        },
        {
          "name": "stderr",
          "output_type": "stream",
          "text": [
            "\r 43%|████▎     | 243/567 [17:21<19:53,  3.68s/it]"
          ]
        },
        {
          "name": "stdout",
          "output_type": "stream",
          "text": [
            "step5 messages: 10\n",
            "Failed to parse model output as JSON:\n",
            "step3 messages: 7\n",
            "step4 messages: 9\n"
          ]
        },
        {
          "name": "stderr",
          "output_type": "stream",
          "text": [
            "\r 43%|████▎     | 244/567 [17:25<19:52,  3.69s/it]"
          ]
        },
        {
          "name": "stdout",
          "output_type": "stream",
          "text": [
            "step5 messages: 10\n",
            "Failed to parse model output as JSON:\n",
            "step3 messages: 7\n",
            "step4 messages: 9\n"
          ]
        },
        {
          "name": "stderr",
          "output_type": "stream",
          "text": [
            "\r 43%|████▎     | 245/567 [17:28<19:54,  3.71s/it]"
          ]
        },
        {
          "name": "stdout",
          "output_type": "stream",
          "text": [
            "step5 messages: 10\n",
            "Failed to parse model output as JSON:\n",
            "step3 messages: 7\n",
            "step4 messages: 9\n"
          ]
        },
        {
          "name": "stderr",
          "output_type": "stream",
          "text": [
            "\r 43%|████▎     | 246/567 [17:35<24:50,  4.64s/it]"
          ]
        },
        {
          "name": "stdout",
          "output_type": "stream",
          "text": [
            "step5 messages: 10\n",
            "Failed to parse model output as JSON:\n",
            "step3 messages: 7\n",
            "step4 messages: 9\n"
          ]
        },
        {
          "name": "stderr",
          "output_type": "stream",
          "text": [
            "\r 44%|████▎     | 247/567 [17:40<25:12,  4.73s/it]"
          ]
        },
        {
          "name": "stdout",
          "output_type": "stream",
          "text": [
            "step5 messages: 10\n",
            "Failed to parse model output as JSON:\n",
            "step3 messages: 7\n",
            "step4 messages: 9\n"
          ]
        },
        {
          "name": "stderr",
          "output_type": "stream",
          "text": [
            "\r 44%|████▎     | 248/567 [17:44<23:34,  4.43s/it]"
          ]
        },
        {
          "name": "stdout",
          "output_type": "stream",
          "text": [
            "step5 messages: 10\n",
            "Failed to parse model output as JSON:\n",
            "step3 messages: 7\n",
            "step4 messages: 9\n"
          ]
        },
        {
          "name": "stderr",
          "output_type": "stream",
          "text": [
            "\r 44%|████▍     | 249/567 [17:48<22:45,  4.29s/it]"
          ]
        },
        {
          "name": "stdout",
          "output_type": "stream",
          "text": [
            "step5 messages: 10\n",
            "Failed to parse model output as JSON:\n",
            "step3 messages: 7\n",
            "step4 messages: 9\n"
          ]
        },
        {
          "name": "stderr",
          "output_type": "stream",
          "text": [
            "\r 44%|████▍     | 250/567 [17:52<21:52,  4.14s/it]"
          ]
        },
        {
          "name": "stdout",
          "output_type": "stream",
          "text": [
            "step5 messages: 10\n",
            "Failed to parse model output as JSON:\n",
            "step3 messages: 7\n",
            "step4 messages: 9\n"
          ]
        },
        {
          "name": "stderr",
          "output_type": "stream",
          "text": [
            "\r 44%|████▍     | 251/567 [17:58<24:44,  4.70s/it]"
          ]
        },
        {
          "name": "stdout",
          "output_type": "stream",
          "text": [
            "step5 messages: 10\n",
            "Failed to parse model output as JSON:\n",
            "step3 messages: 7\n",
            "step4 messages: 9\n"
          ]
        },
        {
          "name": "stderr",
          "output_type": "stream",
          "text": [
            "\r 44%|████▍     | 252/567 [18:03<25:53,  4.93s/it]"
          ]
        },
        {
          "name": "stdout",
          "output_type": "stream",
          "text": [
            "step5 messages: 10\n",
            "Failed to parse model output as JSON:\n",
            "step3 messages: 7\n",
            "step4 messages: 9\n"
          ]
        },
        {
          "name": "stderr",
          "output_type": "stream",
          "text": [
            "\r 45%|████▍     | 253/567 [18:09<27:35,  5.27s/it]"
          ]
        },
        {
          "name": "stdout",
          "output_type": "stream",
          "text": [
            "step5 messages: 10\n",
            "Failed to parse model output as JSON:\n",
            "step3 messages: 7\n",
            "step4 messages: 9\n"
          ]
        },
        {
          "name": "stderr",
          "output_type": "stream",
          "text": [
            "\r 45%|████▍     | 254/567 [18:15<27:34,  5.29s/it]"
          ]
        },
        {
          "name": "stdout",
          "output_type": "stream",
          "text": [
            "step5 messages: 10\n",
            "Failed to parse model output as JSON:\n",
            "step3 messages: 7\n",
            "step4 messages: 9\n"
          ]
        },
        {
          "name": "stderr",
          "output_type": "stream",
          "text": [
            "\r 45%|████▍     | 255/567 [18:18<24:59,  4.81s/it]"
          ]
        },
        {
          "name": "stdout",
          "output_type": "stream",
          "text": [
            "step5 messages: 10\n",
            "Failed to parse model output as JSON:\n",
            "step3 messages: 7\n",
            "step4 messages: 9\n"
          ]
        },
        {
          "name": "stderr",
          "output_type": "stream",
          "text": [
            "\r 45%|████▌     | 256/567 [18:22<22:56,  4.42s/it]"
          ]
        },
        {
          "name": "stdout",
          "output_type": "stream",
          "text": [
            "step5 messages: 10\n",
            "Failed to parse model output as JSON:\n",
            "step3 messages: 7\n",
            "step4 messages: 9\n"
          ]
        },
        {
          "name": "stderr",
          "output_type": "stream",
          "text": [
            "\r 45%|████▌     | 257/567 [18:28<25:40,  4.97s/it]"
          ]
        },
        {
          "name": "stdout",
          "output_type": "stream",
          "text": [
            "step5 messages: 10\n",
            "Failed to parse model output as JSON:\n",
            "step3 messages: 7\n",
            "step4 messages: 9\n"
          ]
        },
        {
          "name": "stderr",
          "output_type": "stream",
          "text": [
            "\r 46%|████▌     | 258/567 [18:32<24:19,  4.72s/it]"
          ]
        },
        {
          "name": "stdout",
          "output_type": "stream",
          "text": [
            "step5 messages: 10\n",
            "Failed to parse model output as JSON:\n",
            "step3 messages: 7\n",
            "step4 messages: 9\n"
          ]
        },
        {
          "name": "stderr",
          "output_type": "stream",
          "text": [
            "\r 46%|████▌     | 259/567 [18:36<23:16,  4.53s/it]"
          ]
        },
        {
          "name": "stdout",
          "output_type": "stream",
          "text": [
            "step5 messages: 10\n",
            "Failed to parse model output as JSON:\n",
            "step3 messages: 7\n",
            "step4 messages: 9\n"
          ]
        },
        {
          "name": "stderr",
          "output_type": "stream",
          "text": [
            "\r 46%|████▌     | 260/567 [18:43<27:25,  5.36s/it]"
          ]
        },
        {
          "name": "stdout",
          "output_type": "stream",
          "text": [
            "step5 messages: 10\n",
            "Failed to parse model output as JSON:\n",
            "step3 messages: 7\n",
            "step4 messages: 9\n"
          ]
        },
        {
          "name": "stderr",
          "output_type": "stream",
          "text": [
            "\r 46%|████▌     | 261/567 [18:49<26:52,  5.27s/it]"
          ]
        },
        {
          "name": "stdout",
          "output_type": "stream",
          "text": [
            "step5 messages: 10\n",
            "Failed to parse model output as JSON:\n",
            "step3 messages: 7\n",
            "step4 messages: 9\n"
          ]
        },
        {
          "name": "stderr",
          "output_type": "stream",
          "text": [
            "\r 46%|████▌     | 262/567 [18:52<23:57,  4.71s/it]"
          ]
        },
        {
          "name": "stdout",
          "output_type": "stream",
          "text": [
            "step5 messages: 10\n",
            "Failed to parse model output as JSON:\n",
            "step3 messages: 7\n",
            "step4 messages: 9\n"
          ]
        },
        {
          "name": "stderr",
          "output_type": "stream",
          "text": [
            "\r 46%|████▋     | 263/567 [18:56<22:23,  4.42s/it]"
          ]
        },
        {
          "name": "stdout",
          "output_type": "stream",
          "text": [
            "step5 messages: 10\n",
            "Failed to parse model output as JSON:\n",
            "step3 messages: 7\n",
            "step4 messages: 9\n"
          ]
        },
        {
          "name": "stderr",
          "output_type": "stream",
          "text": [
            "\r 47%|████▋     | 264/567 [18:59<20:51,  4.13s/it]"
          ]
        },
        {
          "name": "stdout",
          "output_type": "stream",
          "text": [
            "step5 messages: 10\n",
            "Failed to parse model output as JSON:\n",
            "step3 messages: 7\n",
            "step4 messages: 9\n"
          ]
        },
        {
          "name": "stderr",
          "output_type": "stream",
          "text": [
            "\r 47%|████▋     | 265/567 [19:05<23:23,  4.65s/it]"
          ]
        },
        {
          "name": "stdout",
          "output_type": "stream",
          "text": [
            "step5 messages: 10\n",
            "Failed to parse model output as JSON:\n",
            "step3 messages: 7\n",
            "step4 messages: 9\n"
          ]
        },
        {
          "name": "stderr",
          "output_type": "stream",
          "text": [
            "\r 47%|████▋     | 266/567 [19:08<21:07,  4.21s/it]"
          ]
        },
        {
          "name": "stdout",
          "output_type": "stream",
          "text": [
            "step5 messages: 10\n",
            "Failed to parse model output as JSON:\n",
            "step3 messages: 7\n",
            "step4 messages: 9\n"
          ]
        },
        {
          "name": "stderr",
          "output_type": "stream",
          "text": [
            "\r 47%|████▋     | 267/567 [19:12<20:03,  4.01s/it]"
          ]
        },
        {
          "name": "stdout",
          "output_type": "stream",
          "text": [
            "step5 messages: 10\n",
            "Failed to parse model output as JSON:\n",
            "step3 messages: 7\n",
            "step4 messages: 9\n"
          ]
        },
        {
          "name": "stderr",
          "output_type": "stream",
          "text": [
            "\r 47%|████▋     | 268/567 [19:15<18:43,  3.76s/it]"
          ]
        },
        {
          "name": "stdout",
          "output_type": "stream",
          "text": [
            "step5 messages: 10\n",
            "Failed to parse model output as JSON:\n",
            "step3 messages: 7\n",
            "step4 messages: 9\n"
          ]
        },
        {
          "name": "stderr",
          "output_type": "stream",
          "text": [
            "\r 47%|████▋     | 269/567 [19:18<17:40,  3.56s/it]"
          ]
        },
        {
          "name": "stdout",
          "output_type": "stream",
          "text": [
            "step5 messages: 10\n",
            "Failed to parse model output as JSON:\n",
            "step3 messages: 7\n",
            "step4 messages: 9\n"
          ]
        },
        {
          "name": "stderr",
          "output_type": "stream",
          "text": [
            "\r 48%|████▊     | 270/567 [19:22<18:42,  3.78s/it]"
          ]
        },
        {
          "name": "stdout",
          "output_type": "stream",
          "text": [
            "step5 messages: 10\n",
            "Failed to parse model output as JSON:\n",
            "step3 messages: 7\n",
            "step4 messages: 9\n"
          ]
        },
        {
          "name": "stderr",
          "output_type": "stream",
          "text": [
            "\r 48%|████▊     | 271/567 [19:28<21:22,  4.33s/it]"
          ]
        },
        {
          "name": "stdout",
          "output_type": "stream",
          "text": [
            "step5 messages: 10\n",
            "Failed to parse model output as JSON:\n",
            "step3 messages: 7\n",
            "step4 messages: 9\n"
          ]
        },
        {
          "name": "stderr",
          "output_type": "stream",
          "text": [
            "\r 48%|████▊     | 272/567 [19:32<20:12,  4.11s/it]"
          ]
        },
        {
          "name": "stdout",
          "output_type": "stream",
          "text": [
            "step5 messages: 10\n",
            "Failed to parse model output as JSON:\n",
            "step3 messages: 7\n",
            "step4 messages: 9\n"
          ]
        },
        {
          "name": "stderr",
          "output_type": "stream",
          "text": [
            "\r 48%|████▊     | 273/567 [19:36<20:28,  4.18s/it]"
          ]
        },
        {
          "name": "stdout",
          "output_type": "stream",
          "text": [
            "step5 messages: 10\n",
            "Failed to parse model output as JSON:\n",
            "step3 messages: 7\n",
            "step4 messages: 9\n"
          ]
        },
        {
          "name": "stderr",
          "output_type": "stream",
          "text": [
            "\r 48%|████▊     | 274/567 [19:39<18:50,  3.86s/it]"
          ]
        },
        {
          "name": "stdout",
          "output_type": "stream",
          "text": [
            "step5 messages: 10\n",
            "Failed to parse model output as JSON:\n",
            "step3 messages: 7\n",
            "step4 messages: 9\n"
          ]
        },
        {
          "name": "stderr",
          "output_type": "stream",
          "text": [
            "\r 49%|████▊     | 275/567 [19:43<19:14,  3.95s/it]"
          ]
        },
        {
          "name": "stdout",
          "output_type": "stream",
          "text": [
            "step5 messages: 10\n",
            "step3 messages: 7\n",
            "step4 messages: 9\n"
          ]
        },
        {
          "name": "stderr",
          "output_type": "stream",
          "text": [
            "\r 49%|████▊     | 276/567 [19:47<18:51,  3.89s/it]"
          ]
        },
        {
          "name": "stdout",
          "output_type": "stream",
          "text": [
            "step5 messages: 10\n",
            "Failed to parse model output as JSON:\n",
            "step3 messages: 7\n",
            "step4 messages: 9\n"
          ]
        },
        {
          "name": "stderr",
          "output_type": "stream",
          "text": [
            "\r 49%|████▉     | 277/567 [19:53<21:53,  4.53s/it]"
          ]
        },
        {
          "name": "stdout",
          "output_type": "stream",
          "text": [
            "step5 messages: 10\n",
            "Failed to parse model output as JSON:\n",
            "step3 messages: 7\n",
            "step4 messages: 9\n"
          ]
        },
        {
          "name": "stderr",
          "output_type": "stream",
          "text": [
            "\r 49%|████▉     | 278/567 [19:57<21:43,  4.51s/it]"
          ]
        },
        {
          "name": "stdout",
          "output_type": "stream",
          "text": [
            "step5 messages: 10\n",
            "Failed to parse model output as JSON:\n",
            "step3 messages: 7\n",
            "step4 messages: 9\n"
          ]
        },
        {
          "name": "stderr",
          "output_type": "stream",
          "text": [
            "\r 49%|████▉     | 279/567 [20:03<22:59,  4.79s/it]"
          ]
        },
        {
          "name": "stdout",
          "output_type": "stream",
          "text": [
            "step5 messages: 10\n",
            "Failed to parse model output as JSON:\n",
            "step3 messages: 7\n",
            "step4 messages: 9\n"
          ]
        },
        {
          "name": "stderr",
          "output_type": "stream",
          "text": [
            "\r 49%|████▉     | 280/567 [20:08<24:08,  5.05s/it]"
          ]
        },
        {
          "name": "stdout",
          "output_type": "stream",
          "text": [
            "step5 messages: 10\n",
            "Failed to parse model output as JSON:\n",
            "step3 messages: 7\n",
            "step4 messages: 9\n"
          ]
        },
        {
          "name": "stderr",
          "output_type": "stream",
          "text": [
            "\r 50%|████▉     | 281/567 [20:14<24:50,  5.21s/it]"
          ]
        },
        {
          "name": "stdout",
          "output_type": "stream",
          "text": [
            "step5 messages: 10\n",
            "Failed to parse model output as JSON:\n",
            "step3 messages: 7\n",
            "step4 messages: 9\n"
          ]
        },
        {
          "name": "stderr",
          "output_type": "stream",
          "text": [
            "\r 50%|████▉     | 282/567 [20:20<26:02,  5.48s/it]"
          ]
        },
        {
          "name": "stdout",
          "output_type": "stream",
          "text": [
            "step5 messages: 10\n",
            "Failed to parse model output as JSON:\n",
            "step3 messages: 7\n",
            "step4 messages: 9\n"
          ]
        },
        {
          "name": "stderr",
          "output_type": "stream",
          "text": [
            "\r 50%|████▉     | 283/567 [20:24<23:42,  5.01s/it]"
          ]
        },
        {
          "name": "stdout",
          "output_type": "stream",
          "text": [
            "step5 messages: 10\n",
            "Failed to parse model output as JSON:\n",
            "step3 messages: 7\n",
            "step4 messages: 9\n"
          ]
        },
        {
          "name": "stderr",
          "output_type": "stream",
          "text": [
            "\r 50%|█████     | 284/567 [20:28<22:24,  4.75s/it]"
          ]
        },
        {
          "name": "stdout",
          "output_type": "stream",
          "text": [
            "step5 messages: 10\n",
            "Failed to parse model output as JSON:\n",
            "step3 messages: 7\n",
            "step4 messages: 9\n"
          ]
        },
        {
          "name": "stderr",
          "output_type": "stream",
          "text": [
            "\r 50%|█████     | 285/567 [20:33<23:01,  4.90s/it]"
          ]
        },
        {
          "name": "stdout",
          "output_type": "stream",
          "text": [
            "step5 messages: 10\n",
            "Failed to parse model output as JSON:\n",
            "step3 messages: 7\n",
            "step4 messages: 9\n"
          ]
        },
        {
          "name": "stderr",
          "output_type": "stream",
          "text": [
            "\r 50%|█████     | 286/567 [20:37<20:52,  4.46s/it]"
          ]
        },
        {
          "name": "stdout",
          "output_type": "stream",
          "text": [
            "step5 messages: 10\n",
            "Failed to parse model output as JSON:\n",
            "step3 messages: 7\n",
            "step4 messages: 9\n"
          ]
        },
        {
          "name": "stderr",
          "output_type": "stream",
          "text": [
            "\r 51%|█████     | 287/567 [20:41<19:53,  4.26s/it]"
          ]
        },
        {
          "name": "stdout",
          "output_type": "stream",
          "text": [
            "step5 messages: 10\n",
            "Failed to parse model output as JSON:\n",
            "step3 messages: 7\n",
            "step4 messages: 9\n"
          ]
        },
        {
          "name": "stderr",
          "output_type": "stream",
          "text": [
            "\r 51%|█████     | 288/567 [20:45<19:55,  4.29s/it]"
          ]
        },
        {
          "name": "stdout",
          "output_type": "stream",
          "text": [
            "step5 messages: 10\n",
            "step3 messages: 7\n",
            "step4 messages: 9\n"
          ]
        },
        {
          "name": "stderr",
          "output_type": "stream",
          "text": [
            "\r 51%|█████     | 289/567 [20:49<19:20,  4.17s/it]"
          ]
        },
        {
          "name": "stdout",
          "output_type": "stream",
          "text": [
            "step5 messages: 10\n",
            "Failed to parse model output as JSON:\n",
            "step3 messages: 7\n",
            "step4 messages: 9\n"
          ]
        },
        {
          "name": "stderr",
          "output_type": "stream",
          "text": [
            "\r 51%|█████     | 290/567 [20:53<19:25,  4.21s/it]"
          ]
        },
        {
          "name": "stdout",
          "output_type": "stream",
          "text": [
            "step5 messages: 10\n",
            "Failed to parse model output as JSON:\n",
            "step3 messages: 7\n",
            "step4 messages: 9\n"
          ]
        },
        {
          "name": "stderr",
          "output_type": "stream",
          "text": [
            "\r 51%|█████▏    | 291/567 [20:57<18:20,  3.99s/it]"
          ]
        },
        {
          "name": "stdout",
          "output_type": "stream",
          "text": [
            "step5 messages: 10\n",
            "Failed to parse model output as JSON:\n",
            "step3 messages: 7\n",
            "step4 messages: 9\n"
          ]
        },
        {
          "name": "stderr",
          "output_type": "stream",
          "text": [
            "\r 51%|█████▏    | 292/567 [21:00<17:43,  3.87s/it]"
          ]
        },
        {
          "name": "stdout",
          "output_type": "stream",
          "text": [
            "step5 messages: 10\n",
            "Failed to parse model output as JSON:\n",
            "step3 messages: 7\n",
            "step4 messages: 9\n"
          ]
        },
        {
          "name": "stderr",
          "output_type": "stream",
          "text": [
            "\r 52%|█████▏    | 293/567 [21:04<17:56,  3.93s/it]"
          ]
        },
        {
          "name": "stdout",
          "output_type": "stream",
          "text": [
            "step5 messages: 10\n",
            "Failed to parse model output as JSON:\n",
            "step3 messages: 7\n",
            "step4 messages: 9\n"
          ]
        },
        {
          "name": "stderr",
          "output_type": "stream",
          "text": [
            "\r 52%|█████▏    | 294/567 [21:27<42:47,  9.41s/it]"
          ]
        },
        {
          "name": "stdout",
          "output_type": "stream",
          "text": [
            "step5 messages: 10\n",
            "Failed to parse model output as JSON:\n",
            "step3 messages: 7\n",
            "step4 messages: 9\n"
          ]
        },
        {
          "name": "stderr",
          "output_type": "stream",
          "text": [
            "\r 52%|█████▏    | 295/567 [21:31<35:33,  7.84s/it]"
          ]
        },
        {
          "name": "stdout",
          "output_type": "stream",
          "text": [
            "step5 messages: 10\n",
            "Failed to parse model output as JSON:\n",
            "step3 messages: 7\n",
            "step4 messages: 9\n"
          ]
        },
        {
          "name": "stderr",
          "output_type": "stream",
          "text": [
            "\r 52%|█████▏    | 296/567 [21:35<30:51,  6.83s/it]"
          ]
        },
        {
          "name": "stdout",
          "output_type": "stream",
          "text": [
            "step5 messages: 10\n",
            "Failed to parse model output as JSON:\n",
            "step3 messages: 7\n",
            "step4 messages: 9\n"
          ]
        },
        {
          "name": "stderr",
          "output_type": "stream",
          "text": [
            "\r 52%|█████▏    | 297/567 [21:39<27:13,  6.05s/it]"
          ]
        },
        {
          "name": "stdout",
          "output_type": "stream",
          "text": [
            "step5 messages: 10\n",
            "step3 messages: 7\n",
            "step4 messages: 9\n"
          ]
        },
        {
          "name": "stderr",
          "output_type": "stream",
          "text": [
            "\r 53%|█████▎    | 298/567 [21:44<25:30,  5.69s/it]"
          ]
        },
        {
          "name": "stdout",
          "output_type": "stream",
          "text": [
            "step5 messages: 10\n",
            "Failed to parse model output as JSON:\n",
            "step3 messages: 7\n",
            "step4 messages: 9\n"
          ]
        },
        {
          "name": "stderr",
          "output_type": "stream",
          "text": [
            "\r 53%|█████▎    | 299/567 [21:50<25:16,  5.66s/it]"
          ]
        },
        {
          "name": "stdout",
          "output_type": "stream",
          "text": [
            "step5 messages: 10\n",
            "Failed to parse model output as JSON:\n",
            "step3 messages: 7\n",
            "step4 messages: 9\n"
          ]
        },
        {
          "name": "stderr",
          "output_type": "stream",
          "text": [
            "\r 53%|█████▎    | 300/567 [21:54<22:48,  5.13s/it]"
          ]
        },
        {
          "name": "stdout",
          "output_type": "stream",
          "text": [
            "step5 messages: 10\n",
            "Failed to parse model output as JSON:\n",
            "step3 messages: 7\n",
            "step4 messages: 9\n"
          ]
        },
        {
          "name": "stderr",
          "output_type": "stream",
          "text": [
            "\r 53%|█████▎    | 301/567 [22:00<23:40,  5.34s/it]"
          ]
        },
        {
          "name": "stdout",
          "output_type": "stream",
          "text": [
            "step5 messages: 10\n",
            "Failed to parse model output as JSON:\n",
            "step3 messages: 7\n",
            "step4 messages: 9\n"
          ]
        },
        {
          "name": "stderr",
          "output_type": "stream",
          "text": [
            "\r 53%|█████▎    | 302/567 [22:05<23:19,  5.28s/it]"
          ]
        },
        {
          "name": "stdout",
          "output_type": "stream",
          "text": [
            "step5 messages: 10\n",
            "Failed to parse model output as JSON:\n",
            "step3 messages: 7\n",
            "step4 messages: 9\n"
          ]
        },
        {
          "name": "stderr",
          "output_type": "stream",
          "text": [
            "\r 53%|█████▎    | 303/567 [22:09<22:09,  5.04s/it]"
          ]
        },
        {
          "name": "stdout",
          "output_type": "stream",
          "text": [
            "step5 messages: 10\n",
            "Failed to parse model output as JSON:\n",
            "step3 messages: 7\n",
            "step4 messages: 9\n"
          ]
        },
        {
          "name": "stderr",
          "output_type": "stream",
          "text": [
            "\r 54%|█████▎    | 304/567 [22:12<19:21,  4.42s/it]"
          ]
        },
        {
          "name": "stdout",
          "output_type": "stream",
          "text": [
            "step5 messages: 10\n",
            "Failed to parse model output as JSON:\n",
            "step3 messages: 7\n",
            "step4 messages: 9\n"
          ]
        },
        {
          "name": "stderr",
          "output_type": "stream",
          "text": [
            "\r 54%|█████▍    | 305/567 [22:16<18:37,  4.26s/it]"
          ]
        },
        {
          "name": "stdout",
          "output_type": "stream",
          "text": [
            "step5 messages: 10\n",
            "Failed to parse model output as JSON:\n",
            "step3 messages: 7\n",
            "step4 messages: 9\n"
          ]
        },
        {
          "name": "stderr",
          "output_type": "stream",
          "text": [
            "\r 54%|█████▍    | 306/567 [22:21<18:50,  4.33s/it]"
          ]
        },
        {
          "name": "stdout",
          "output_type": "stream",
          "text": [
            "step5 messages: 10\n",
            "Failed to parse model output as JSON:\n",
            "step3 messages: 7\n",
            "step4 messages: 9\n"
          ]
        },
        {
          "name": "stderr",
          "output_type": "stream",
          "text": [
            "\r 54%|█████▍    | 307/567 [22:26<20:28,  4.73s/it]"
          ]
        },
        {
          "name": "stdout",
          "output_type": "stream",
          "text": [
            "step5 messages: 10\n",
            "Failed to parse model output as JSON:\n",
            "step3 messages: 7\n",
            "step4 messages: 9\n"
          ]
        },
        {
          "name": "stderr",
          "output_type": "stream",
          "text": [
            "\r 54%|█████▍    | 308/567 [22:30<18:43,  4.34s/it]"
          ]
        },
        {
          "name": "stdout",
          "output_type": "stream",
          "text": [
            "step5 messages: 10\n",
            "Failed to parse model output as JSON:\n",
            "step3 messages: 7\n",
            "step4 messages: 9\n"
          ]
        },
        {
          "name": "stderr",
          "output_type": "stream",
          "text": [
            "\r 54%|█████▍    | 309/567 [22:34<18:26,  4.29s/it]"
          ]
        },
        {
          "name": "stdout",
          "output_type": "stream",
          "text": [
            "step5 messages: 10\n",
            "Failed to parse model output as JSON:\n",
            "step3 messages: 7\n",
            "step4 messages: 9\n"
          ]
        },
        {
          "name": "stderr",
          "output_type": "stream",
          "text": [
            "\r 55%|█████▍    | 310/567 [22:37<17:24,  4.06s/it]"
          ]
        },
        {
          "name": "stdout",
          "output_type": "stream",
          "text": [
            "step5 messages: 10\n",
            "Failed to parse model output as JSON:\n",
            "step3 messages: 7\n",
            "step4 messages: 9\n"
          ]
        },
        {
          "name": "stderr",
          "output_type": "stream",
          "text": [
            "\r 55%|█████▍    | 311/567 [22:41<16:50,  3.95s/it]"
          ]
        },
        {
          "name": "stdout",
          "output_type": "stream",
          "text": [
            "step5 messages: 10\n",
            "Failed to parse model output as JSON:\n",
            "step3 messages: 7\n",
            "step4 messages: 9\n"
          ]
        },
        {
          "name": "stderr",
          "output_type": "stream",
          "text": [
            "\r 55%|█████▌    | 312/567 [23:14<53:52, 12.68s/it]"
          ]
        },
        {
          "name": "stdout",
          "output_type": "stream",
          "text": [
            "step5 messages: 10\n",
            "Failed to parse model output as JSON:\n",
            "step3 messages: 7\n",
            "step4 messages: 9\n"
          ]
        },
        {
          "name": "stderr",
          "output_type": "stream",
          "text": [
            "\r 55%|█████▌    | 313/567 [23:17<41:46,  9.87s/it]"
          ]
        },
        {
          "name": "stdout",
          "output_type": "stream",
          "text": [
            "step5 messages: 10\n",
            "Failed to parse model output as JSON:\n",
            "step3 messages: 7\n",
            "step4 messages: 9\n"
          ]
        },
        {
          "name": "stderr",
          "output_type": "stream",
          "text": [
            "\r 55%|█████▌    | 314/567 [23:22<34:42,  8.23s/it]"
          ]
        },
        {
          "name": "stdout",
          "output_type": "stream",
          "text": [
            "step5 messages: 10\n",
            "Failed to parse model output as JSON:\n",
            "step3 messages: 7\n",
            "step4 messages: 9\n"
          ]
        },
        {
          "name": "stderr",
          "output_type": "stream",
          "text": [
            "\r 56%|█████▌    | 315/567 [23:28<31:31,  7.50s/it]"
          ]
        },
        {
          "name": "stdout",
          "output_type": "stream",
          "text": [
            "step5 messages: 10\n",
            "Failed to parse model output as JSON:\n",
            "step3 messages: 7\n",
            "step4 messages: 9\n"
          ]
        },
        {
          "name": "stderr",
          "output_type": "stream",
          "text": [
            "\r 56%|█████▌    | 316/567 [23:32<27:52,  6.66s/it]"
          ]
        },
        {
          "name": "stdout",
          "output_type": "stream",
          "text": [
            "step5 messages: 10\n",
            "Failed to parse model output as JSON:\n",
            "step3 messages: 7\n",
            "step4 messages: 9\n"
          ]
        },
        {
          "name": "stderr",
          "output_type": "stream",
          "text": [
            "\r 56%|█████▌    | 317/567 [23:35<23:01,  5.52s/it]"
          ]
        },
        {
          "name": "stdout",
          "output_type": "stream",
          "text": [
            "step5 messages: 10\n",
            "Failed to parse model output as JSON:\n",
            "step3 messages: 7\n",
            "step4 messages: 9\n"
          ]
        },
        {
          "name": "stderr",
          "output_type": "stream",
          "text": [
            "\r 56%|█████▌    | 318/567 [23:39<20:25,  4.92s/it]"
          ]
        },
        {
          "name": "stdout",
          "output_type": "stream",
          "text": [
            "step5 messages: 10\n",
            "Failed to parse model output as JSON:\n",
            "step3 messages: 7\n",
            "step4 messages: 9\n"
          ]
        },
        {
          "name": "stderr",
          "output_type": "stream",
          "text": [
            "\r 56%|█████▋    | 319/567 [23:42<18:24,  4.45s/it]"
          ]
        },
        {
          "name": "stdout",
          "output_type": "stream",
          "text": [
            "step5 messages: 10\n",
            "Failed to parse model output as JSON:\n",
            "step3 messages: 7\n",
            "step4 messages: 9\n"
          ]
        },
        {
          "name": "stderr",
          "output_type": "stream",
          "text": [
            "\r 56%|█████▋    | 320/567 [23:47<18:40,  4.53s/it]"
          ]
        },
        {
          "name": "stdout",
          "output_type": "stream",
          "text": [
            "step5 messages: 10\n",
            "Failed to parse model output as JSON:\n",
            "step3 messages: 7\n",
            "step4 messages: 9\n"
          ]
        },
        {
          "name": "stderr",
          "output_type": "stream",
          "text": [
            "\r 57%|█████▋    | 321/567 [23:50<17:09,  4.18s/it]"
          ]
        },
        {
          "name": "stdout",
          "output_type": "stream",
          "text": [
            "step5 messages: 10\n",
            "Failed to parse model output as JSON:\n",
            "step3 messages: 7\n",
            "step4 messages: 9\n"
          ]
        },
        {
          "name": "stderr",
          "output_type": "stream",
          "text": [
            "\r 57%|█████▋    | 322/567 [23:54<16:58,  4.16s/it]"
          ]
        },
        {
          "name": "stdout",
          "output_type": "stream",
          "text": [
            "step5 messages: 10\n",
            "Failed to parse model output as JSON:\n",
            "step3 messages: 7\n",
            "step4 messages: 9\n"
          ]
        },
        {
          "name": "stderr",
          "output_type": "stream",
          "text": [
            "\r 57%|█████▋    | 323/567 [24:09<29:57,  7.37s/it]"
          ]
        },
        {
          "name": "stdout",
          "output_type": "stream",
          "text": [
            "step5 messages: 10\n",
            "Failed to parse model output as JSON:\n",
            "step3 messages: 7\n",
            "step4 messages: 9\n"
          ]
        },
        {
          "name": "stderr",
          "output_type": "stream",
          "text": [
            "\r 57%|█████▋    | 324/567 [24:20<34:34,  8.54s/it]"
          ]
        },
        {
          "name": "stdout",
          "output_type": "stream",
          "text": [
            "step5 messages: 10\n",
            "Failed to parse model output as JSON:\n",
            "step3 messages: 7\n",
            "step4 messages: 9\n"
          ]
        },
        {
          "name": "stderr",
          "output_type": "stream",
          "text": [
            "\r 57%|█████▋    | 325/567 [24:24<28:11,  6.99s/it]"
          ]
        },
        {
          "name": "stdout",
          "output_type": "stream",
          "text": [
            "step5 messages: 10\n",
            "Failed to parse model output as JSON:\n",
            "step3 messages: 7\n",
            "step4 messages: 9\n"
          ]
        },
        {
          "name": "stderr",
          "output_type": "stream",
          "text": [
            "\r 57%|█████▋    | 326/567 [24:28<25:09,  6.26s/it]"
          ]
        },
        {
          "name": "stdout",
          "output_type": "stream",
          "text": [
            "step5 messages: 10\n",
            "Failed to parse model output as JSON:\n",
            "step3 messages: 7\n",
            "step4 messages: 9\n"
          ]
        },
        {
          "name": "stderr",
          "output_type": "stream",
          "text": [
            "\r 58%|█████▊    | 327/567 [24:32<22:17,  5.57s/it]"
          ]
        },
        {
          "name": "stdout",
          "output_type": "stream",
          "text": [
            "step5 messages: 10\n",
            "Failed to parse model output as JSON:\n",
            "step3 messages: 7\n",
            "step4 messages: 9\n"
          ]
        },
        {
          "name": "stderr",
          "output_type": "stream",
          "text": [
            "\r 58%|█████▊    | 328/567 [24:37<21:15,  5.34s/it]"
          ]
        },
        {
          "name": "stdout",
          "output_type": "stream",
          "text": [
            "step5 messages: 10\n",
            "Failed to parse model output as JSON:\n",
            "step3 messages: 7\n",
            "step4 messages: 9\n"
          ]
        },
        {
          "name": "stderr",
          "output_type": "stream",
          "text": [
            "\r 58%|█████▊    | 329/567 [24:40<18:38,  4.70s/it]"
          ]
        },
        {
          "name": "stdout",
          "output_type": "stream",
          "text": [
            "step5 messages: 10\n",
            "Failed to parse model output as JSON:\n",
            "step3 messages: 7\n",
            "step4 messages: 9\n"
          ]
        },
        {
          "name": "stderr",
          "output_type": "stream",
          "text": [
            "\r 58%|█████▊    | 330/567 [24:45<18:11,  4.60s/it]"
          ]
        },
        {
          "name": "stdout",
          "output_type": "stream",
          "text": [
            "step5 messages: 10\n",
            "Failed to parse model output as JSON:\n",
            "step3 messages: 7\n",
            "step4 messages: 9\n"
          ]
        },
        {
          "name": "stderr",
          "output_type": "stream",
          "text": [
            "\r 58%|█████▊    | 331/567 [24:49<18:09,  4.62s/it]"
          ]
        },
        {
          "name": "stdout",
          "output_type": "stream",
          "text": [
            "step5 messages: 10\n",
            "Failed to parse model output as JSON:\n",
            "step3 messages: 7\n",
            "step4 messages: 9\n"
          ]
        },
        {
          "name": "stderr",
          "output_type": "stream",
          "text": [
            "\r 59%|█████▊    | 332/567 [24:52<16:19,  4.17s/it]"
          ]
        },
        {
          "name": "stdout",
          "output_type": "stream",
          "text": [
            "step5 messages: 10\n",
            "Failed to parse model output as JSON:\n",
            "step3 messages: 7\n",
            "step4 messages: 9\n"
          ]
        },
        {
          "name": "stderr",
          "output_type": "stream",
          "text": [
            "\r 59%|█████▊    | 333/567 [24:58<17:22,  4.46s/it]"
          ]
        },
        {
          "name": "stdout",
          "output_type": "stream",
          "text": [
            "step5 messages: 10\n",
            "Failed to parse model output as JSON:\n",
            "step3 messages: 7\n",
            "step4 messages: 9\n"
          ]
        },
        {
          "name": "stderr",
          "output_type": "stream",
          "text": [
            "\r 59%|█████▉    | 334/567 [25:01<16:09,  4.16s/it]"
          ]
        },
        {
          "name": "stdout",
          "output_type": "stream",
          "text": [
            "step5 messages: 10\n",
            "Failed to parse model output as JSON:\n",
            "step3 messages: 7\n",
            "step4 messages: 9\n"
          ]
        },
        {
          "name": "stderr",
          "output_type": "stream",
          "text": [
            "\r 59%|█████▉    | 335/567 [25:05<15:26,  3.99s/it]"
          ]
        },
        {
          "name": "stdout",
          "output_type": "stream",
          "text": [
            "step5 messages: 10\n",
            "Failed to parse model output as JSON:\n",
            "step3 messages: 7\n",
            "step4 messages: 9\n"
          ]
        },
        {
          "name": "stderr",
          "output_type": "stream",
          "text": [
            "\r 59%|█████▉    | 336/567 [25:08<14:51,  3.86s/it]"
          ]
        },
        {
          "name": "stdout",
          "output_type": "stream",
          "text": [
            "step5 messages: 10\n",
            "Failed to parse model output as JSON:\n",
            "step3 messages: 7\n",
            "step4 messages: 9\n"
          ]
        },
        {
          "name": "stderr",
          "output_type": "stream",
          "text": [
            "\r 59%|█████▉    | 337/567 [25:12<15:03,  3.93s/it]"
          ]
        },
        {
          "name": "stdout",
          "output_type": "stream",
          "text": [
            "step5 messages: 10\n",
            "Failed to parse model output as JSON:\n",
            "step3 messages: 7\n",
            "step4 messages: 9\n"
          ]
        },
        {
          "name": "stderr",
          "output_type": "stream",
          "text": [
            "\r 60%|█████▉    | 338/567 [25:16<14:24,  3.77s/it]"
          ]
        },
        {
          "name": "stdout",
          "output_type": "stream",
          "text": [
            "step5 messages: 10\n",
            "Failed to parse model output as JSON:\n",
            "step3 messages: 7\n",
            "step4 messages: 9\n"
          ]
        },
        {
          "name": "stderr",
          "output_type": "stream",
          "text": [
            "\r 60%|█████▉    | 339/567 [25:20<14:42,  3.87s/it]"
          ]
        },
        {
          "name": "stdout",
          "output_type": "stream",
          "text": [
            "step5 messages: 10\n",
            "Failed to parse model output as JSON:\n",
            "step3 messages: 7\n",
            "step4 messages: 9\n"
          ]
        },
        {
          "name": "stderr",
          "output_type": "stream",
          "text": [
            "\r 60%|█████▉    | 340/567 [25:23<14:10,  3.75s/it]"
          ]
        },
        {
          "name": "stdout",
          "output_type": "stream",
          "text": [
            "step5 messages: 10\n",
            "Failed to parse model output as JSON:\n",
            "step3 messages: 7\n",
            "step4 messages: 9\n"
          ]
        },
        {
          "name": "stderr",
          "output_type": "stream",
          "text": [
            "\r 60%|██████    | 341/567 [25:27<14:19,  3.80s/it]"
          ]
        },
        {
          "name": "stdout",
          "output_type": "stream",
          "text": [
            "step5 messages: 10\n",
            "Failed to parse model output as JSON:\n",
            "step3 messages: 7\n",
            "step4 messages: 9\n"
          ]
        },
        {
          "name": "stderr",
          "output_type": "stream",
          "text": [
            "\r 60%|██████    | 342/567 [25:33<16:25,  4.38s/it]"
          ]
        },
        {
          "name": "stdout",
          "output_type": "stream",
          "text": [
            "step5 messages: 10\n",
            "Failed to parse model output as JSON:\n",
            "step3 messages: 7\n",
            "step4 messages: 9\n"
          ]
        },
        {
          "name": "stderr",
          "output_type": "stream",
          "text": [
            "\r 60%|██████    | 343/567 [25:36<15:01,  4.02s/it]"
          ]
        },
        {
          "name": "stdout",
          "output_type": "stream",
          "text": [
            "step5 messages: 10\n",
            "Failed to parse model output as JSON:\n",
            "step3 messages: 7\n",
            "step4 messages: 9\n"
          ]
        },
        {
          "name": "stderr",
          "output_type": "stream",
          "text": [
            "\r 61%|██████    | 344/567 [25:39<13:53,  3.74s/it]"
          ]
        },
        {
          "name": "stdout",
          "output_type": "stream",
          "text": [
            "step5 messages: 10\n",
            "Failed to parse model output as JSON:\n",
            "step3 messages: 7\n",
            "step4 messages: 9\n"
          ]
        },
        {
          "name": "stderr",
          "output_type": "stream",
          "text": [
            "\r 61%|██████    | 345/567 [25:42<13:18,  3.60s/it]"
          ]
        },
        {
          "name": "stdout",
          "output_type": "stream",
          "text": [
            "step5 messages: 10\n",
            "Failed to parse model output as JSON:\n",
            "step3 messages: 7\n",
            "step4 messages: 9\n"
          ]
        },
        {
          "name": "stderr",
          "output_type": "stream",
          "text": [
            "\r 61%|██████    | 346/567 [25:48<15:27,  4.20s/it]"
          ]
        },
        {
          "name": "stdout",
          "output_type": "stream",
          "text": [
            "step5 messages: 10\n",
            "Failed to parse model output as JSON:\n",
            "step3 messages: 7\n",
            "step4 messages: 9\n"
          ]
        },
        {
          "name": "stderr",
          "output_type": "stream",
          "text": [
            "\r 61%|██████    | 347/567 [25:54<17:47,  4.85s/it]"
          ]
        },
        {
          "name": "stdout",
          "output_type": "stream",
          "text": [
            "step5 messages: 10\n",
            "Failed to parse model output as JSON:\n",
            "step3 messages: 7\n",
            "step4 messages: 9\n"
          ]
        },
        {
          "name": "stderr",
          "output_type": "stream",
          "text": [
            "\r 61%|██████▏   | 348/567 [25:58<16:04,  4.41s/it]"
          ]
        },
        {
          "name": "stdout",
          "output_type": "stream",
          "text": [
            "step5 messages: 10\n",
            "Failed to parse model output as JSON:\n",
            "step3 messages: 7\n",
            "step4 messages: 9\n"
          ]
        },
        {
          "name": "stderr",
          "output_type": "stream",
          "text": [
            "\r 62%|██████▏   | 349/567 [26:01<14:43,  4.05s/it]"
          ]
        },
        {
          "name": "stdout",
          "output_type": "stream",
          "text": [
            "step5 messages: 10\n",
            "Failed to parse model output as JSON:\n",
            "step3 messages: 7\n",
            "step4 messages: 9\n"
          ]
        },
        {
          "name": "stderr",
          "output_type": "stream",
          "text": [
            "\r 62%|██████▏   | 350/567 [26:06<15:41,  4.34s/it]"
          ]
        },
        {
          "name": "stdout",
          "output_type": "stream",
          "text": [
            "step5 messages: 10\n",
            "Failed to parse model output as JSON:\n",
            "step3 messages: 7\n",
            "step4 messages: 9\n"
          ]
        },
        {
          "name": "stderr",
          "output_type": "stream",
          "text": [
            "\r 62%|██████▏   | 351/567 [26:10<15:18,  4.25s/it]"
          ]
        },
        {
          "name": "stdout",
          "output_type": "stream",
          "text": [
            "step5 messages: 10\n",
            "Failed to parse model output as JSON:\n",
            "step3 messages: 7\n",
            "step4 messages: 9\n"
          ]
        },
        {
          "name": "stderr",
          "output_type": "stream",
          "text": [
            "\r 62%|██████▏   | 352/567 [26:13<13:46,  3.84s/it]"
          ]
        },
        {
          "name": "stdout",
          "output_type": "stream",
          "text": [
            "step5 messages: 10\n",
            "Failed to parse model output as JSON:\n",
            "step3 messages: 7\n",
            "step4 messages: 9\n"
          ]
        },
        {
          "name": "stderr",
          "output_type": "stream",
          "text": [
            "\r 62%|██████▏   | 353/567 [26:17<13:28,  3.78s/it]"
          ]
        },
        {
          "name": "stdout",
          "output_type": "stream",
          "text": [
            "step5 messages: 10\n",
            "Failed to parse model output as JSON:\n",
            "step3 messages: 7\n",
            "step4 messages: 9\n"
          ]
        },
        {
          "name": "stderr",
          "output_type": "stream",
          "text": [
            "\r 62%|██████▏   | 354/567 [26:21<14:00,  3.95s/it]"
          ]
        },
        {
          "name": "stdout",
          "output_type": "stream",
          "text": [
            "step5 messages: 10\n",
            "Failed to parse model output as JSON:\n",
            "step3 messages: 7\n",
            "step4 messages: 9\n"
          ]
        },
        {
          "name": "stderr",
          "output_type": "stream",
          "text": [
            "\r 63%|██████▎   | 355/567 [26:26<15:00,  4.25s/it]"
          ]
        },
        {
          "name": "stdout",
          "output_type": "stream",
          "text": [
            "step5 messages: 10\n",
            "Failed to parse model output as JSON:\n",
            "step3 messages: 7\n",
            "step4 messages: 9\n"
          ]
        },
        {
          "name": "stderr",
          "output_type": "stream",
          "text": [
            "\r 63%|██████▎   | 356/567 [26:29<13:43,  3.90s/it]"
          ]
        },
        {
          "name": "stdout",
          "output_type": "stream",
          "text": [
            "step5 messages: 10\n",
            "Failed to parse model output as JSON:\n",
            "step3 messages: 7\n",
            "step4 messages: 9\n"
          ]
        },
        {
          "name": "stderr",
          "output_type": "stream",
          "text": [
            "\r 63%|██████▎   | 357/567 [26:35<15:39,  4.47s/it]"
          ]
        },
        {
          "name": "stdout",
          "output_type": "stream",
          "text": [
            "step5 messages: 10\n",
            "Failed to parse model output as JSON:\n",
            "step3 messages: 7\n",
            "step4 messages: 9\n"
          ]
        },
        {
          "name": "stderr",
          "output_type": "stream",
          "text": [
            "\r 63%|██████▎   | 358/567 [26:40<16:06,  4.62s/it]"
          ]
        },
        {
          "name": "stdout",
          "output_type": "stream",
          "text": [
            "step5 messages: 10\n",
            "Failed to parse model output as JSON:\n",
            "step3 messages: 7\n",
            "step4 messages: 9\n"
          ]
        },
        {
          "name": "stderr",
          "output_type": "stream",
          "text": [
            "\r 63%|██████▎   | 359/567 [26:44<15:06,  4.36s/it]"
          ]
        },
        {
          "name": "stdout",
          "output_type": "stream",
          "text": [
            "step5 messages: 10\n",
            "Failed to parse model output as JSON:\n",
            "step3 messages: 7\n",
            "step4 messages: 9\n"
          ]
        },
        {
          "name": "stderr",
          "output_type": "stream",
          "text": [
            "\r 63%|██████▎   | 360/567 [26:48<15:01,  4.35s/it]"
          ]
        },
        {
          "name": "stdout",
          "output_type": "stream",
          "text": [
            "step5 messages: 10\n",
            "Failed to parse model output as JSON:\n",
            "step3 messages: 7\n",
            "step4 messages: 9\n"
          ]
        },
        {
          "name": "stderr",
          "output_type": "stream",
          "text": [
            "\r 64%|██████▎   | 361/567 [26:51<14:00,  4.08s/it]"
          ]
        },
        {
          "name": "stdout",
          "output_type": "stream",
          "text": [
            "step5 messages: 10\n",
            "Failed to parse model output as JSON:\n",
            "step3 messages: 7\n",
            "step4 messages: 9\n"
          ]
        },
        {
          "name": "stderr",
          "output_type": "stream",
          "text": [
            "\r 64%|██████▍   | 362/567 [26:57<15:12,  4.45s/it]"
          ]
        },
        {
          "name": "stdout",
          "output_type": "stream",
          "text": [
            "step5 messages: 10\n",
            "Failed to parse model output as JSON:\n",
            "step3 messages: 7\n",
            "step4 messages: 9\n"
          ]
        },
        {
          "name": "stderr",
          "output_type": "stream",
          "text": [
            "\r 64%|██████▍   | 363/567 [27:01<14:55,  4.39s/it]"
          ]
        },
        {
          "name": "stdout",
          "output_type": "stream",
          "text": [
            "step5 messages: 10\n",
            "Failed to parse model output as JSON:\n",
            "step3 messages: 7\n",
            "step4 messages: 9\n"
          ]
        },
        {
          "name": "stderr",
          "output_type": "stream",
          "text": [
            "\r 64%|██████▍   | 364/567 [27:05<14:31,  4.29s/it]"
          ]
        },
        {
          "name": "stdout",
          "output_type": "stream",
          "text": [
            "step5 messages: 10\n",
            "step3 messages: 7\n",
            "step4 messages: 9\n"
          ]
        },
        {
          "name": "stderr",
          "output_type": "stream",
          "text": [
            "\r 64%|██████▍   | 365/567 [27:09<14:15,  4.24s/it]"
          ]
        },
        {
          "name": "stdout",
          "output_type": "stream",
          "text": [
            "step5 messages: 10\n",
            "Failed to parse model output as JSON:\n",
            "step3 messages: 7\n",
            "step4 messages: 9\n"
          ]
        },
        {
          "name": "stderr",
          "output_type": "stream",
          "text": [
            "\r 65%|██████▍   | 366/567 [27:12<13:23,  4.00s/it]"
          ]
        },
        {
          "name": "stdout",
          "output_type": "stream",
          "text": [
            "step5 messages: 10\n",
            "Failed to parse model output as JSON:\n",
            "step3 messages: 7\n",
            "step4 messages: 9\n"
          ]
        },
        {
          "name": "stderr",
          "output_type": "stream",
          "text": [
            "\r 65%|██████▍   | 367/567 [27:16<13:02,  3.91s/it]"
          ]
        },
        {
          "name": "stdout",
          "output_type": "stream",
          "text": [
            "step5 messages: 10\n",
            "Failed to parse model output as JSON:\n",
            "step3 messages: 7\n",
            "step4 messages: 9\n"
          ]
        },
        {
          "name": "stderr",
          "output_type": "stream",
          "text": [
            "\r 65%|██████▍   | 368/567 [27:20<12:56,  3.90s/it]"
          ]
        },
        {
          "name": "stdout",
          "output_type": "stream",
          "text": [
            "step5 messages: 10\n",
            "Failed to parse model output as JSON:\n",
            "step3 messages: 7\n",
            "step4 messages: 9\n"
          ]
        },
        {
          "name": "stderr",
          "output_type": "stream",
          "text": [
            "\r 65%|██████▌   | 369/567 [27:24<12:56,  3.92s/it]"
          ]
        },
        {
          "name": "stdout",
          "output_type": "stream",
          "text": [
            "step5 messages: 10\n",
            "Failed to parse model output as JSON:\n",
            "step3 messages: 7\n",
            "step4 messages: 9\n"
          ]
        },
        {
          "name": "stderr",
          "output_type": "stream",
          "text": [
            "\r 65%|██████▌   | 370/567 [27:29<13:56,  4.25s/it]"
          ]
        },
        {
          "name": "stdout",
          "output_type": "stream",
          "text": [
            "step5 messages: 10\n",
            "Failed to parse model output as JSON:\n",
            "step3 messages: 7\n",
            "step4 messages: 9\n"
          ]
        },
        {
          "name": "stderr",
          "output_type": "stream",
          "text": [
            "\r 65%|██████▌   | 371/567 [27:33<13:26,  4.11s/it]"
          ]
        },
        {
          "name": "stdout",
          "output_type": "stream",
          "text": [
            "step5 messages: 10\n",
            "Failed to parse model output as JSON:\n",
            "step3 messages: 7\n",
            "step4 messages: 9\n"
          ]
        },
        {
          "name": "stderr",
          "output_type": "stream",
          "text": [
            "\r 66%|██████▌   | 372/567 [27:36<12:38,  3.89s/it]"
          ]
        },
        {
          "name": "stdout",
          "output_type": "stream",
          "text": [
            "step5 messages: 10\n",
            "Failed to parse model output as JSON:\n",
            "step3 messages: 7\n",
            "step4 messages: 9\n"
          ]
        },
        {
          "name": "stderr",
          "output_type": "stream",
          "text": [
            "\r 66%|██████▌   | 373/567 [27:43<14:58,  4.63s/it]"
          ]
        },
        {
          "name": "stdout",
          "output_type": "stream",
          "text": [
            "step5 messages: 10\n",
            "Failed to parse model output as JSON:\n",
            "step3 messages: 7\n",
            "step4 messages: 9\n"
          ]
        },
        {
          "name": "stderr",
          "output_type": "stream",
          "text": [
            "\r 66%|██████▌   | 374/567 [27:47<14:48,  4.60s/it]"
          ]
        },
        {
          "name": "stdout",
          "output_type": "stream",
          "text": [
            "step5 messages: 10\n",
            "Failed to parse model output as JSON:\n",
            "step3 messages: 7\n",
            "step4 messages: 9\n"
          ]
        },
        {
          "name": "stderr",
          "output_type": "stream",
          "text": [
            "\r 66%|██████▌   | 375/567 [27:51<13:51,  4.33s/it]"
          ]
        },
        {
          "name": "stdout",
          "output_type": "stream",
          "text": [
            "step5 messages: 10\n",
            "Failed to parse model output as JSON:\n",
            "step3 messages: 7\n",
            "step4 messages: 9\n"
          ]
        },
        {
          "name": "stderr",
          "output_type": "stream",
          "text": [
            "\r 66%|██████▋   | 376/567 [27:56<14:48,  4.65s/it]"
          ]
        },
        {
          "name": "stdout",
          "output_type": "stream",
          "text": [
            "step5 messages: 10\n",
            "Failed to parse model output as JSON:\n",
            "step3 messages: 7\n",
            "step4 messages: 9\n"
          ]
        },
        {
          "name": "stderr",
          "output_type": "stream",
          "text": [
            "\r 66%|██████▋   | 377/567 [28:00<13:36,  4.30s/it]"
          ]
        },
        {
          "name": "stdout",
          "output_type": "stream",
          "text": [
            "step5 messages: 10\n",
            "Failed to parse model output as JSON:\n",
            "step3 messages: 7\n",
            "step4 messages: 9\n"
          ]
        },
        {
          "name": "stderr",
          "output_type": "stream",
          "text": [
            "\r 67%|██████▋   | 378/567 [28:04<13:23,  4.25s/it]"
          ]
        },
        {
          "name": "stdout",
          "output_type": "stream",
          "text": [
            "step5 messages: 10\n",
            "Failed to parse model output as JSON:\n",
            "step3 messages: 7\n",
            "step4 messages: 9\n"
          ]
        },
        {
          "name": "stderr",
          "output_type": "stream",
          "text": [
            "\r 67%|██████▋   | 379/567 [28:08<13:34,  4.33s/it]"
          ]
        },
        {
          "name": "stdout",
          "output_type": "stream",
          "text": [
            "step5 messages: 10\n",
            "Failed to parse model output as JSON:\n",
            "step3 messages: 7\n",
            "step4 messages: 9\n"
          ]
        },
        {
          "name": "stderr",
          "output_type": "stream",
          "text": [
            "\r 67%|██████▋   | 380/567 [28:11<12:24,  3.98s/it]"
          ]
        },
        {
          "name": "stdout",
          "output_type": "stream",
          "text": [
            "step5 messages: 10\n",
            "Failed to parse model output as JSON:\n",
            "step3 messages: 7\n",
            "step4 messages: 9\n"
          ]
        },
        {
          "name": "stderr",
          "output_type": "stream",
          "text": [
            "\r 67%|██████▋   | 381/567 [28:15<11:58,  3.86s/it]"
          ]
        },
        {
          "name": "stdout",
          "output_type": "stream",
          "text": [
            "step5 messages: 10\n",
            "Failed to parse model output as JSON:\n",
            "step3 messages: 7\n",
            "step4 messages: 9\n"
          ]
        },
        {
          "name": "stderr",
          "output_type": "stream",
          "text": [
            "\r 67%|██████▋   | 382/567 [28:19<12:06,  3.93s/it]"
          ]
        },
        {
          "name": "stdout",
          "output_type": "stream",
          "text": [
            "step5 messages: 10\n",
            "Failed to parse model output as JSON:\n",
            "step3 messages: 7\n",
            "step4 messages: 9\n"
          ]
        },
        {
          "name": "stderr",
          "output_type": "stream",
          "text": [
            "\r 68%|██████▊   | 383/567 [28:25<13:53,  4.53s/it]"
          ]
        },
        {
          "name": "stdout",
          "output_type": "stream",
          "text": [
            "step5 messages: 10\n",
            "Failed to parse model output as JSON:\n",
            "step3 messages: 7\n",
            "step4 messages: 9\n"
          ]
        },
        {
          "name": "stderr",
          "output_type": "stream",
          "text": [
            "\r 68%|██████▊   | 384/567 [28:31<15:07,  4.96s/it]"
          ]
        },
        {
          "name": "stdout",
          "output_type": "stream",
          "text": [
            "step5 messages: 10\n",
            "Failed to parse model output as JSON:\n",
            "step3 messages: 7\n",
            "step4 messages: 9\n"
          ]
        },
        {
          "name": "stderr",
          "output_type": "stream",
          "text": [
            "\r 68%|██████▊   | 385/567 [28:35<13:44,  4.53s/it]"
          ]
        },
        {
          "name": "stdout",
          "output_type": "stream",
          "text": [
            "step5 messages: 10\n",
            "Failed to parse model output as JSON:\n",
            "step3 messages: 7\n",
            "step4 messages: 9\n"
          ]
        },
        {
          "name": "stderr",
          "output_type": "stream",
          "text": [
            "\r 68%|██████▊   | 386/567 [28:38<12:31,  4.15s/it]"
          ]
        },
        {
          "name": "stdout",
          "output_type": "stream",
          "text": [
            "step5 messages: 10\n",
            "Failed to parse model output as JSON:\n",
            "step3 messages: 7\n",
            "step4 messages: 9\n"
          ]
        },
        {
          "name": "stderr",
          "output_type": "stream",
          "text": [
            "\r 68%|██████▊   | 387/567 [28:41<11:54,  3.97s/it]"
          ]
        },
        {
          "name": "stdout",
          "output_type": "stream",
          "text": [
            "step5 messages: 10\n",
            "Failed to parse model output as JSON:\n",
            "step3 messages: 7\n",
            "step4 messages: 9\n"
          ]
        },
        {
          "name": "stderr",
          "output_type": "stream",
          "text": [
            "\r 68%|██████▊   | 388/567 [28:46<12:18,  4.13s/it]"
          ]
        },
        {
          "name": "stdout",
          "output_type": "stream",
          "text": [
            "step5 messages: 10\n",
            "Failed to parse model output as JSON:\n",
            "step3 messages: 7\n",
            "step4 messages: 9\n"
          ]
        },
        {
          "name": "stderr",
          "output_type": "stream",
          "text": [
            "\r 69%|██████▊   | 389/567 [28:49<11:35,  3.91s/it]"
          ]
        },
        {
          "name": "stdout",
          "output_type": "stream",
          "text": [
            "step5 messages: 10\n",
            "Failed to parse model output as JSON:\n",
            "step3 messages: 7\n",
            "step4 messages: 9\n"
          ]
        },
        {
          "name": "stderr",
          "output_type": "stream",
          "text": [
            "\r 69%|██████▉   | 390/567 [28:53<11:07,  3.77s/it]"
          ]
        },
        {
          "name": "stdout",
          "output_type": "stream",
          "text": [
            "step5 messages: 10\n",
            "Failed to parse model output as JSON:\n",
            "step3 messages: 7\n",
            "step4 messages: 9\n"
          ]
        },
        {
          "name": "stderr",
          "output_type": "stream",
          "text": [
            "\r 69%|██████▉   | 391/567 [28:57<11:27,  3.90s/it]"
          ]
        },
        {
          "name": "stdout",
          "output_type": "stream",
          "text": [
            "step5 messages: 10\n",
            "Failed to parse model output as JSON:\n",
            "step3 messages: 7\n",
            "step4 messages: 9\n"
          ]
        },
        {
          "name": "stderr",
          "output_type": "stream",
          "text": [
            "\r 69%|██████▉   | 392/567 [29:01<11:07,  3.81s/it]"
          ]
        },
        {
          "name": "stdout",
          "output_type": "stream",
          "text": [
            "step5 messages: 10\n",
            "Failed to parse model output as JSON:\n",
            "step3 messages: 7\n",
            "step4 messages: 9\n"
          ]
        },
        {
          "name": "stderr",
          "output_type": "stream",
          "text": [
            "\r 69%|██████▉   | 393/567 [29:05<11:21,  3.92s/it]"
          ]
        },
        {
          "name": "stdout",
          "output_type": "stream",
          "text": [
            "step5 messages: 10\n",
            "Failed to parse model output as JSON:\n",
            "step3 messages: 7\n",
            "step4 messages: 9\n"
          ]
        },
        {
          "name": "stderr",
          "output_type": "stream",
          "text": [
            "\r 69%|██████▉   | 394/567 [29:09<11:55,  4.14s/it]"
          ]
        },
        {
          "name": "stdout",
          "output_type": "stream",
          "text": [
            "step5 messages: 10\n",
            "Failed to parse model output as JSON:\n",
            "step3 messages: 7\n",
            "step4 messages: 9\n"
          ]
        },
        {
          "name": "stderr",
          "output_type": "stream",
          "text": [
            "\r 70%|██████▉   | 395/567 [29:13<11:47,  4.12s/it]"
          ]
        },
        {
          "name": "stdout",
          "output_type": "stream",
          "text": [
            "step5 messages: 10\n",
            "Failed to parse model output as JSON:\n",
            "step3 messages: 7\n",
            "step4 messages: 9\n"
          ]
        },
        {
          "name": "stderr",
          "output_type": "stream",
          "text": [
            "\r 70%|██████▉   | 396/567 [29:17<11:34,  4.06s/it]"
          ]
        },
        {
          "name": "stdout",
          "output_type": "stream",
          "text": [
            "step5 messages: 10\n",
            "Failed to parse model output as JSON:\n",
            "step3 messages: 7\n",
            "step4 messages: 9\n"
          ]
        },
        {
          "name": "stderr",
          "output_type": "stream",
          "text": [
            "\r 70%|███████   | 397/567 [29:22<11:41,  4.13s/it]"
          ]
        },
        {
          "name": "stdout",
          "output_type": "stream",
          "text": [
            "step5 messages: 10\n",
            "Failed to parse model output as JSON:\n",
            "step3 messages: 7\n",
            "step4 messages: 9\n"
          ]
        },
        {
          "name": "stderr",
          "output_type": "stream",
          "text": [
            "\r 70%|███████   | 398/567 [29:25<11:07,  3.95s/it]"
          ]
        },
        {
          "name": "stdout",
          "output_type": "stream",
          "text": [
            "step5 messages: 10\n",
            "Failed to parse model output as JSON:\n",
            "step3 messages: 7\n",
            "step4 messages: 9\n"
          ]
        },
        {
          "name": "stderr",
          "output_type": "stream",
          "text": [
            "\r 70%|███████   | 399/567 [29:29<11:03,  3.95s/it]"
          ]
        },
        {
          "name": "stdout",
          "output_type": "stream",
          "text": [
            "step5 messages: 10\n",
            "Failed to parse model output as JSON:\n",
            "step3 messages: 7\n",
            "step4 messages: 9\n"
          ]
        },
        {
          "name": "stderr",
          "output_type": "stream",
          "text": [
            "\r 71%|███████   | 400/567 [29:33<10:48,  3.88s/it]"
          ]
        },
        {
          "name": "stdout",
          "output_type": "stream",
          "text": [
            "step5 messages: 10\n",
            "Failed to parse model output as JSON:\n",
            "step3 messages: 7\n",
            "step4 messages: 9\n"
          ]
        },
        {
          "name": "stderr",
          "output_type": "stream",
          "text": [
            "\r 71%|███████   | 401/567 [29:36<10:13,  3.70s/it]"
          ]
        },
        {
          "name": "stdout",
          "output_type": "stream",
          "text": [
            "step5 messages: 10\n",
            "Failed to parse model output as JSON:\n",
            "step3 messages: 7\n",
            "step4 messages: 9\n"
          ]
        },
        {
          "name": "stderr",
          "output_type": "stream",
          "text": [
            "\r 71%|███████   | 402/567 [29:40<10:20,  3.76s/it]"
          ]
        },
        {
          "name": "stdout",
          "output_type": "stream",
          "text": [
            "step5 messages: 10\n",
            "Failed to parse model output as JSON:\n",
            "step3 messages: 7\n",
            "step4 messages: 9\n"
          ]
        },
        {
          "name": "stderr",
          "output_type": "stream",
          "text": [
            "\r 71%|███████   | 403/567 [29:46<12:07,  4.44s/it]"
          ]
        },
        {
          "name": "stdout",
          "output_type": "stream",
          "text": [
            "step5 messages: 10\n",
            "Failed to parse model output as JSON:\n",
            "step3 messages: 7\n",
            "step4 messages: 9\n"
          ]
        },
        {
          "name": "stderr",
          "output_type": "stream",
          "text": [
            "\r 71%|███████▏  | 404/567 [29:49<11:12,  4.13s/it]"
          ]
        },
        {
          "name": "stdout",
          "output_type": "stream",
          "text": [
            "step5 messages: 10\n",
            "Failed to parse model output as JSON:\n",
            "step3 messages: 7\n",
            "step4 messages: 9\n"
          ]
        },
        {
          "name": "stderr",
          "output_type": "stream",
          "text": [
            "\r 71%|███████▏  | 405/567 [29:56<13:12,  4.89s/it]"
          ]
        },
        {
          "name": "stdout",
          "output_type": "stream",
          "text": [
            "step5 messages: 10\n",
            "Failed to parse model output as JSON:\n",
            "step3 messages: 7\n",
            "step4 messages: 9\n"
          ]
        },
        {
          "name": "stderr",
          "output_type": "stream",
          "text": [
            "\r 72%|███████▏  | 406/567 [30:00<12:10,  4.53s/it]"
          ]
        },
        {
          "name": "stdout",
          "output_type": "stream",
          "text": [
            "step5 messages: 10\n",
            "Failed to parse model output as JSON:\n",
            "step3 messages: 7\n",
            "step4 messages: 9\n"
          ]
        },
        {
          "name": "stderr",
          "output_type": "stream",
          "text": [
            "\r 72%|███████▏  | 407/567 [30:03<11:15,  4.22s/it]"
          ]
        },
        {
          "name": "stdout",
          "output_type": "stream",
          "text": [
            "step5 messages: 10\n",
            "Failed to parse model output as JSON:\n",
            "step3 messages: 7\n",
            "step4 messages: 9\n"
          ]
        },
        {
          "name": "stderr",
          "output_type": "stream",
          "text": [
            "\r 72%|███████▏  | 408/567 [30:08<11:31,  4.35s/it]"
          ]
        },
        {
          "name": "stdout",
          "output_type": "stream",
          "text": [
            "step5 messages: 10\n",
            "Failed to parse model output as JSON:\n",
            "step3 messages: 7\n",
            "step4 messages: 9\n"
          ]
        },
        {
          "name": "stderr",
          "output_type": "stream",
          "text": [
            "\r 72%|███████▏  | 409/567 [30:11<10:37,  4.04s/it]"
          ]
        },
        {
          "name": "stdout",
          "output_type": "stream",
          "text": [
            "step5 messages: 10\n",
            "Failed to parse model output as JSON:\n",
            "step3 messages: 7\n",
            "step4 messages: 9\n"
          ]
        },
        {
          "name": "stderr",
          "output_type": "stream",
          "text": [
            "\r 72%|███████▏  | 410/567 [30:15<10:23,  3.97s/it]"
          ]
        },
        {
          "name": "stdout",
          "output_type": "stream",
          "text": [
            "step5 messages: 10\n",
            "Failed to parse model output as JSON:\n",
            "step3 messages: 7\n",
            "step4 messages: 9\n"
          ]
        },
        {
          "name": "stderr",
          "output_type": "stream",
          "text": [
            "\r 72%|███████▏  | 411/567 [30:19<10:25,  4.01s/it]"
          ]
        },
        {
          "name": "stdout",
          "output_type": "stream",
          "text": [
            "step5 messages: 10\n",
            "Failed to parse model output as JSON:\n",
            "step3 messages: 7\n",
            "step4 messages: 9\n"
          ]
        },
        {
          "name": "stderr",
          "output_type": "stream",
          "text": [
            "\r 73%|███████▎  | 412/567 [30:23<09:54,  3.83s/it]"
          ]
        },
        {
          "name": "stdout",
          "output_type": "stream",
          "text": [
            "step5 messages: 10\n",
            "Failed to parse model output as JSON:\n",
            "step3 messages: 7\n",
            "step4 messages: 9\n"
          ]
        },
        {
          "name": "stderr",
          "output_type": "stream",
          "text": [
            "\r 73%|███████▎  | 413/567 [30:28<11:02,  4.30s/it]"
          ]
        },
        {
          "name": "stdout",
          "output_type": "stream",
          "text": [
            "step5 messages: 10\n",
            "Failed to parse model output as JSON:\n",
            "step3 messages: 7\n",
            "step4 messages: 9\n"
          ]
        },
        {
          "name": "stderr",
          "output_type": "stream",
          "text": [
            "\r 73%|███████▎  | 414/567 [30:34<12:02,  4.72s/it]"
          ]
        },
        {
          "name": "stdout",
          "output_type": "stream",
          "text": [
            "step5 messages: 10\n",
            "Failed to parse model output as JSON:\n",
            "step3 messages: 7\n",
            "step4 messages: 9\n"
          ]
        },
        {
          "name": "stderr",
          "output_type": "stream",
          "text": [
            "\r 73%|███████▎  | 415/567 [30:38<11:18,  4.46s/it]"
          ]
        },
        {
          "name": "stdout",
          "output_type": "stream",
          "text": [
            "step5 messages: 10\n",
            "Failed to parse model output as JSON:\n",
            "step3 messages: 7\n",
            "step4 messages: 9\n"
          ]
        },
        {
          "name": "stderr",
          "output_type": "stream",
          "text": [
            "\r 73%|███████▎  | 416/567 [30:44<12:28,  4.96s/it]"
          ]
        },
        {
          "name": "stdout",
          "output_type": "stream",
          "text": [
            "step5 messages: 10\n",
            "Failed to parse model output as JSON:\n",
            "step3 messages: 7\n",
            "step4 messages: 9\n"
          ]
        },
        {
          "name": "stderr",
          "output_type": "stream",
          "text": [
            "\r 74%|███████▎  | 417/567 [30:47<11:21,  4.54s/it]"
          ]
        },
        {
          "name": "stdout",
          "output_type": "stream",
          "text": [
            "step5 messages: 10\n",
            "Failed to parse model output as JSON:\n",
            "step3 messages: 7\n",
            "step4 messages: 9\n"
          ]
        },
        {
          "name": "stderr",
          "output_type": "stream",
          "text": [
            "\r 74%|███████▎  | 418/567 [30:51<10:38,  4.28s/it]"
          ]
        },
        {
          "name": "stdout",
          "output_type": "stream",
          "text": [
            "step5 messages: 10\n",
            "Failed to parse model output as JSON:\n",
            "step3 messages: 7\n",
            "step4 messages: 9\n"
          ]
        },
        {
          "name": "stderr",
          "output_type": "stream",
          "text": [
            "\r 74%|███████▍  | 419/567 [30:55<10:17,  4.17s/it]"
          ]
        },
        {
          "name": "stdout",
          "output_type": "stream",
          "text": [
            "step5 messages: 10\n",
            "Failed to parse model output as JSON:\n",
            "step3 messages: 7\n",
            "step4 messages: 9\n"
          ]
        },
        {
          "name": "stderr",
          "output_type": "stream",
          "text": [
            "\r 74%|███████▍  | 420/567 [31:02<12:31,  5.11s/it]"
          ]
        },
        {
          "name": "stdout",
          "output_type": "stream",
          "text": [
            "step5 messages: 10\n",
            "Failed to parse model output as JSON:\n",
            "step3 messages: 7\n",
            "step4 messages: 9\n"
          ]
        },
        {
          "name": "stderr",
          "output_type": "stream",
          "text": [
            "\r 74%|███████▍  | 421/567 [31:07<12:16,  5.05s/it]"
          ]
        },
        {
          "name": "stdout",
          "output_type": "stream",
          "text": [
            "step5 messages: 10\n",
            "Failed to parse model output as JSON:\n",
            "step3 messages: 7\n",
            "step4 messages: 9\n"
          ]
        },
        {
          "name": "stderr",
          "output_type": "stream",
          "text": [
            "\r 74%|███████▍  | 422/567 [31:09<10:15,  4.24s/it]"
          ]
        },
        {
          "name": "stdout",
          "output_type": "stream",
          "text": [
            "step5 messages: 10\n",
            "Failed to parse model output as JSON:\n",
            "step3 messages: 7\n",
            "step4 messages: 9\n"
          ]
        },
        {
          "name": "stderr",
          "output_type": "stream",
          "text": [
            "\r 75%|███████▍  | 423/567 [31:12<09:04,  3.78s/it]"
          ]
        },
        {
          "name": "stdout",
          "output_type": "stream",
          "text": [
            "step5 messages: 10\n",
            "Failed to parse model output as JSON:\n",
            "step3 messages: 7\n",
            "step4 messages: 9\n"
          ]
        },
        {
          "name": "stderr",
          "output_type": "stream",
          "text": [
            "\r 75%|███████▍  | 424/567 [31:17<09:28,  3.97s/it]"
          ]
        },
        {
          "name": "stdout",
          "output_type": "stream",
          "text": [
            "step5 messages: 10\n",
            "Failed to parse model output as JSON:\n",
            "step3 messages: 7\n",
            "step4 messages: 9\n"
          ]
        },
        {
          "name": "stderr",
          "output_type": "stream",
          "text": [
            "\r 75%|███████▍  | 425/567 [31:21<09:48,  4.15s/it]"
          ]
        },
        {
          "name": "stdout",
          "output_type": "stream",
          "text": [
            "step5 messages: 10\n",
            "Failed to parse model output as JSON:\n",
            "step3 messages: 7\n",
            "step4 messages: 9\n"
          ]
        },
        {
          "name": "stderr",
          "output_type": "stream",
          "text": [
            "\r 75%|███████▌  | 426/567 [31:26<10:32,  4.49s/it]"
          ]
        },
        {
          "name": "stdout",
          "output_type": "stream",
          "text": [
            "step5 messages: 10\n",
            "Failed to parse model output as JSON:\n",
            "step3 messages: 7\n",
            "step4 messages: 9\n"
          ]
        },
        {
          "name": "stderr",
          "output_type": "stream",
          "text": [
            "\r 75%|███████▌  | 427/567 [31:33<11:39,  5.00s/it]"
          ]
        },
        {
          "name": "stdout",
          "output_type": "stream",
          "text": [
            "step5 messages: 10\n",
            "Failed to parse model output as JSON:\n",
            "step3 messages: 7\n",
            "step4 messages: 9\n"
          ]
        },
        {
          "name": "stderr",
          "output_type": "stream",
          "text": [
            "\r 75%|███████▌  | 428/567 [31:38<11:50,  5.11s/it]"
          ]
        },
        {
          "name": "stdout",
          "output_type": "stream",
          "text": [
            "step5 messages: 10\n",
            "Failed to parse model output as JSON:\n",
            "step3 messages: 7\n",
            "step4 messages: 9\n"
          ]
        },
        {
          "name": "stderr",
          "output_type": "stream",
          "text": [
            "\r 76%|███████▌  | 429/567 [31:41<10:18,  4.48s/it]"
          ]
        },
        {
          "name": "stdout",
          "output_type": "stream",
          "text": [
            "step5 messages: 10\n",
            "Failed to parse model output as JSON:\n",
            "step3 messages: 7\n",
            "step4 messages: 9\n"
          ]
        },
        {
          "name": "stderr",
          "output_type": "stream",
          "text": [
            "\r 76%|███████▌  | 430/567 [31:45<09:51,  4.32s/it]"
          ]
        },
        {
          "name": "stdout",
          "output_type": "stream",
          "text": [
            "step5 messages: 10\n",
            "Failed to parse model output as JSON:\n",
            "step3 messages: 7\n",
            "step4 messages: 9\n"
          ]
        },
        {
          "name": "stderr",
          "output_type": "stream",
          "text": [
            "\r 76%|███████▌  | 431/567 [31:48<09:09,  4.04s/it]"
          ]
        },
        {
          "name": "stdout",
          "output_type": "stream",
          "text": [
            "step5 messages: 10\n",
            "Failed to parse model output as JSON:\n",
            "step3 messages: 7\n",
            "step4 messages: 9\n"
          ]
        },
        {
          "name": "stderr",
          "output_type": "stream",
          "text": [
            "\r 76%|███████▌  | 432/567 [31:51<08:31,  3.79s/it]"
          ]
        },
        {
          "name": "stdout",
          "output_type": "stream",
          "text": [
            "step5 messages: 10\n",
            "Failed to parse model output as JSON:\n",
            "step3 messages: 7\n",
            "step4 messages: 9\n"
          ]
        },
        {
          "name": "stderr",
          "output_type": "stream",
          "text": [
            "\r 76%|███████▋  | 433/567 [31:55<08:15,  3.70s/it]"
          ]
        },
        {
          "name": "stdout",
          "output_type": "stream",
          "text": [
            "step5 messages: 10\n",
            "Failed to parse model output as JSON:\n",
            "step3 messages: 7\n",
            "step4 messages: 9\n"
          ]
        },
        {
          "name": "stderr",
          "output_type": "stream",
          "text": [
            "\r 77%|███████▋  | 434/567 [32:00<09:01,  4.07s/it]"
          ]
        },
        {
          "name": "stdout",
          "output_type": "stream",
          "text": [
            "step5 messages: 10\n",
            "Failed to parse model output as JSON:\n",
            "step3 messages: 7\n",
            "step4 messages: 9\n"
          ]
        },
        {
          "name": "stderr",
          "output_type": "stream",
          "text": [
            "\r 77%|███████▋  | 435/567 [32:22<20:33,  9.35s/it]"
          ]
        },
        {
          "name": "stdout",
          "output_type": "stream",
          "text": [
            "step5 messages: 10\n",
            "Failed to parse model output as JSON:\n",
            "step3 messages: 7\n",
            "step4 messages: 9\n"
          ]
        },
        {
          "name": "stderr",
          "output_type": "stream",
          "text": [
            "\r 77%|███████▋  | 436/567 [32:25<16:38,  7.63s/it]"
          ]
        },
        {
          "name": "stdout",
          "output_type": "stream",
          "text": [
            "step5 messages: 10\n",
            "Failed to parse model output as JSON:\n",
            "step3 messages: 7\n",
            "step4 messages: 9\n"
          ]
        },
        {
          "name": "stderr",
          "output_type": "stream",
          "text": [
            "\r 77%|███████▋  | 437/567 [32:28<13:33,  6.26s/it]"
          ]
        },
        {
          "name": "stdout",
          "output_type": "stream",
          "text": [
            "step5 messages: 10\n",
            "Failed to parse model output as JSON:\n",
            "step3 messages: 7\n",
            "step4 messages: 9\n"
          ]
        },
        {
          "name": "stderr",
          "output_type": "stream",
          "text": [
            "\r 77%|███████▋  | 438/567 [32:31<11:25,  5.32s/it]"
          ]
        },
        {
          "name": "stdout",
          "output_type": "stream",
          "text": [
            "step5 messages: 10\n",
            "Failed to parse model output as JSON:\n",
            "step3 messages: 7\n",
            "step4 messages: 9\n"
          ]
        },
        {
          "name": "stderr",
          "output_type": "stream",
          "text": [
            "\r 77%|███████▋  | 439/567 [32:38<12:13,  5.73s/it]"
          ]
        },
        {
          "name": "stdout",
          "output_type": "stream",
          "text": [
            "step5 messages: 10\n",
            "Failed to parse model output as JSON:\n",
            "step3 messages: 7\n",
            "step4 messages: 9\n"
          ]
        },
        {
          "name": "stderr",
          "output_type": "stream",
          "text": [
            "\r 78%|███████▊  | 440/567 [32:42<11:03,  5.23s/it]"
          ]
        },
        {
          "name": "stdout",
          "output_type": "stream",
          "text": [
            "step5 messages: 10\n",
            "Failed to parse model output as JSON:\n",
            "step3 messages: 7\n",
            "step4 messages: 9\n"
          ]
        },
        {
          "name": "stderr",
          "output_type": "stream",
          "text": [
            "\r 78%|███████▊  | 441/567 [32:45<09:39,  4.60s/it]"
          ]
        },
        {
          "name": "stdout",
          "output_type": "stream",
          "text": [
            "step5 messages: 10\n",
            "Failed to parse model output as JSON:\n",
            "step3 messages: 7\n",
            "step4 messages: 9\n"
          ]
        },
        {
          "name": "stderr",
          "output_type": "stream",
          "text": [
            "\r 78%|███████▊  | 442/567 [32:48<08:42,  4.18s/it]"
          ]
        },
        {
          "name": "stdout",
          "output_type": "stream",
          "text": [
            "step5 messages: 10\n",
            "Failed to parse model output as JSON:\n",
            "step3 messages: 7\n",
            "step4 messages: 9\n"
          ]
        },
        {
          "name": "stderr",
          "output_type": "stream",
          "text": [
            "\r 78%|███████▊  | 443/567 [32:52<08:05,  3.91s/it]"
          ]
        },
        {
          "name": "stdout",
          "output_type": "stream",
          "text": [
            "step5 messages: 10\n",
            "Failed to parse model output as JSON:\n",
            "step3 messages: 7\n",
            "step4 messages: 9\n"
          ]
        },
        {
          "name": "stderr",
          "output_type": "stream",
          "text": [
            "\r 78%|███████▊  | 444/567 [32:57<09:02,  4.41s/it]"
          ]
        },
        {
          "name": "stdout",
          "output_type": "stream",
          "text": [
            "step5 messages: 10\n",
            "Failed to parse model output as JSON:\n",
            "step3 messages: 7\n",
            "step4 messages: 9\n"
          ]
        },
        {
          "name": "stderr",
          "output_type": "stream",
          "text": [
            "\r 78%|███████▊  | 445/567 [33:01<08:15,  4.07s/it]"
          ]
        },
        {
          "name": "stdout",
          "output_type": "stream",
          "text": [
            "step5 messages: 10\n",
            "Failed to parse model output as JSON:\n",
            "step3 messages: 7\n",
            "step4 messages: 9\n"
          ]
        },
        {
          "name": "stderr",
          "output_type": "stream",
          "text": [
            "\r 79%|███████▊  | 446/567 [33:04<07:37,  3.78s/it]"
          ]
        },
        {
          "name": "stdout",
          "output_type": "stream",
          "text": [
            "step5 messages: 10\n",
            "Failed to parse model output as JSON:\n",
            "step3 messages: 7\n",
            "step4 messages: 9\n"
          ]
        },
        {
          "name": "stderr",
          "output_type": "stream",
          "text": [
            "\r 79%|███████▉  | 447/567 [33:08<07:38,  3.82s/it]"
          ]
        },
        {
          "name": "stdout",
          "output_type": "stream",
          "text": [
            "step5 messages: 10\n",
            "Failed to parse model output as JSON:\n",
            "step3 messages: 7\n",
            "step4 messages: 9\n"
          ]
        },
        {
          "name": "stderr",
          "output_type": "stream",
          "text": [
            "\r 79%|███████▉  | 448/567 [33:12<07:38,  3.86s/it]"
          ]
        },
        {
          "name": "stdout",
          "output_type": "stream",
          "text": [
            "step5 messages: 10\n",
            "Failed to parse model output as JSON:\n",
            "step3 messages: 7\n",
            "step4 messages: 9\n"
          ]
        },
        {
          "name": "stderr",
          "output_type": "stream",
          "text": [
            "\r 79%|███████▉  | 449/567 [33:15<07:23,  3.76s/it]"
          ]
        },
        {
          "name": "stdout",
          "output_type": "stream",
          "text": [
            "step5 messages: 10\n",
            "Failed to parse model output as JSON:\n",
            "step3 messages: 7\n",
            "step4 messages: 9\n"
          ]
        },
        {
          "name": "stderr",
          "output_type": "stream",
          "text": [
            "\r 79%|███████▉  | 450/567 [33:19<07:41,  3.95s/it]"
          ]
        },
        {
          "name": "stdout",
          "output_type": "stream",
          "text": [
            "step5 messages: 10\n",
            "Failed to parse model output as JSON:\n",
            "step3 messages: 7\n",
            "step4 messages: 9\n"
          ]
        },
        {
          "name": "stderr",
          "output_type": "stream",
          "text": [
            "\r 80%|███████▉  | 451/567 [33:22<06:59,  3.61s/it]"
          ]
        },
        {
          "name": "stdout",
          "output_type": "stream",
          "text": [
            "step5 messages: 10\n",
            "Failed to parse model output as JSON:\n",
            "step3 messages: 7\n",
            "step4 messages: 9\n"
          ]
        },
        {
          "name": "stderr",
          "output_type": "stream",
          "text": [
            "\r 80%|███████▉  | 452/567 [33:27<07:49,  4.08s/it]"
          ]
        },
        {
          "name": "stdout",
          "output_type": "stream",
          "text": [
            "step5 messages: 10\n",
            "Failed to parse model output as JSON:\n",
            "step3 messages: 7\n",
            "step4 messages: 9\n"
          ]
        },
        {
          "name": "stderr",
          "output_type": "stream",
          "text": [
            "\r 80%|███████▉  | 453/567 [33:32<07:54,  4.16s/it]"
          ]
        },
        {
          "name": "stdout",
          "output_type": "stream",
          "text": [
            "step5 messages: 10\n",
            "Failed to parse model output as JSON:\n",
            "step3 messages: 7\n",
            "step4 messages: 9\n"
          ]
        },
        {
          "name": "stderr",
          "output_type": "stream",
          "text": [
            "\r 80%|████████  | 454/567 [33:35<07:23,  3.93s/it]"
          ]
        },
        {
          "name": "stdout",
          "output_type": "stream",
          "text": [
            "step5 messages: 10\n",
            "Failed to parse model output as JSON:\n",
            "step3 messages: 7\n",
            "step4 messages: 9\n"
          ]
        },
        {
          "name": "stderr",
          "output_type": "stream",
          "text": [
            "\r 80%|████████  | 455/567 [33:39<07:03,  3.78s/it]"
          ]
        },
        {
          "name": "stdout",
          "output_type": "stream",
          "text": [
            "step5 messages: 10\n",
            "Failed to parse model output as JSON:\n",
            "step3 messages: 7\n",
            "step4 messages: 9\n"
          ]
        },
        {
          "name": "stderr",
          "output_type": "stream",
          "text": [
            "\r 80%|████████  | 456/567 [33:43<07:07,  3.85s/it]"
          ]
        },
        {
          "name": "stdout",
          "output_type": "stream",
          "text": [
            "step5 messages: 10\n",
            "Failed to parse model output as JSON:\n",
            "step3 messages: 7\n",
            "step4 messages: 9\n"
          ]
        },
        {
          "name": "stderr",
          "output_type": "stream",
          "text": [
            "\r 81%|████████  | 457/567 [33:47<07:05,  3.87s/it]"
          ]
        },
        {
          "name": "stdout",
          "output_type": "stream",
          "text": [
            "step5 messages: 10\n",
            "Failed to parse model output as JSON:\n",
            "step3 messages: 7\n",
            "step4 messages: 9\n"
          ]
        },
        {
          "name": "stderr",
          "output_type": "stream",
          "text": [
            "\r 81%|████████  | 458/567 [33:50<06:33,  3.61s/it]"
          ]
        },
        {
          "name": "stdout",
          "output_type": "stream",
          "text": [
            "step5 messages: 10\n",
            "Failed to parse model output as JSON:\n",
            "step3 messages: 7\n",
            "step4 messages: 9\n"
          ]
        },
        {
          "name": "stderr",
          "output_type": "stream",
          "text": [
            "\r 81%|████████  | 459/567 [33:54<06:43,  3.73s/it]"
          ]
        },
        {
          "name": "stdout",
          "output_type": "stream",
          "text": [
            "step5 messages: 10\n",
            "Failed to parse model output as JSON:\n",
            "step3 messages: 7\n",
            "step4 messages: 9\n"
          ]
        },
        {
          "name": "stderr",
          "output_type": "stream",
          "text": [
            "\r 81%|████████  | 460/567 [33:58<07:01,  3.94s/it]"
          ]
        },
        {
          "name": "stdout",
          "output_type": "stream",
          "text": [
            "step5 messages: 10\n",
            "Failed to parse model output as JSON:\n",
            "step3 messages: 7\n",
            "step4 messages: 9\n"
          ]
        },
        {
          "name": "stderr",
          "output_type": "stream",
          "text": [
            "\r 81%|████████▏ | 461/567 [34:02<07:00,  3.97s/it]"
          ]
        },
        {
          "name": "stdout",
          "output_type": "stream",
          "text": [
            "step5 messages: 10\n",
            "Failed to parse model output as JSON:\n",
            "step3 messages: 7\n",
            "step4 messages: 9\n"
          ]
        },
        {
          "name": "stderr",
          "output_type": "stream",
          "text": [
            "\r 81%|████████▏ | 462/567 [34:06<06:50,  3.91s/it]"
          ]
        },
        {
          "name": "stdout",
          "output_type": "stream",
          "text": [
            "step5 messages: 10\n",
            "Failed to parse model output as JSON:\n",
            "step3 messages: 7\n",
            "step4 messages: 9\n"
          ]
        },
        {
          "name": "stderr",
          "output_type": "stream",
          "text": [
            "\r 82%|████████▏ | 463/567 [34:10<06:57,  4.02s/it]"
          ]
        },
        {
          "name": "stdout",
          "output_type": "stream",
          "text": [
            "step5 messages: 10\n",
            "Failed to parse model output as JSON:\n",
            "step3 messages: 7\n",
            "step4 messages: 9\n"
          ]
        },
        {
          "name": "stderr",
          "output_type": "stream",
          "text": [
            "\r 82%|████████▏ | 464/567 [34:14<06:56,  4.04s/it]"
          ]
        },
        {
          "name": "stdout",
          "output_type": "stream",
          "text": [
            "step5 messages: 10\n",
            "Failed to parse model output as JSON:\n",
            "step3 messages: 7\n",
            "step4 messages: 9\n"
          ]
        },
        {
          "name": "stderr",
          "output_type": "stream",
          "text": [
            "\r 82%|████████▏ | 465/567 [34:19<07:03,  4.15s/it]"
          ]
        },
        {
          "name": "stdout",
          "output_type": "stream",
          "text": [
            "step5 messages: 10\n",
            "Failed to parse model output as JSON:\n",
            "step3 messages: 7\n",
            "step4 messages: 9\n"
          ]
        },
        {
          "name": "stderr",
          "output_type": "stream",
          "text": [
            "\r 82%|████████▏ | 466/567 [34:22<06:39,  3.96s/it]"
          ]
        },
        {
          "name": "stdout",
          "output_type": "stream",
          "text": [
            "step5 messages: 10\n",
            "Failed to parse model output as JSON:\n",
            "step3 messages: 7\n",
            "step4 messages: 9\n"
          ]
        },
        {
          "name": "stderr",
          "output_type": "stream",
          "text": [
            "\r 82%|████████▏ | 467/567 [34:25<06:17,  3.78s/it]"
          ]
        },
        {
          "name": "stdout",
          "output_type": "stream",
          "text": [
            "step5 messages: 10\n",
            "Failed to parse model output as JSON:\n",
            "step3 messages: 7\n",
            "step4 messages: 9\n"
          ]
        },
        {
          "name": "stderr",
          "output_type": "stream",
          "text": [
            "\r 83%|████████▎ | 468/567 [34:30<06:26,  3.90s/it]"
          ]
        },
        {
          "name": "stdout",
          "output_type": "stream",
          "text": [
            "step5 messages: 10\n",
            "Failed to parse model output as JSON:\n",
            "step3 messages: 7\n",
            "step4 messages: 9\n"
          ]
        },
        {
          "name": "stderr",
          "output_type": "stream",
          "text": [
            "\r 83%|████████▎ | 469/567 [34:33<06:05,  3.72s/it]"
          ]
        },
        {
          "name": "stdout",
          "output_type": "stream",
          "text": [
            "step5 messages: 10\n",
            "Failed to parse model output as JSON:\n",
            "step3 messages: 7\n",
            "step4 messages: 9\n"
          ]
        },
        {
          "name": "stderr",
          "output_type": "stream",
          "text": [
            "\r 83%|████████▎ | 470/567 [34:38<06:31,  4.04s/it]"
          ]
        },
        {
          "name": "stdout",
          "output_type": "stream",
          "text": [
            "step5 messages: 10\n",
            "Failed to parse model output as JSON:\n",
            "step3 messages: 7\n",
            "step4 messages: 9\n"
          ]
        },
        {
          "name": "stderr",
          "output_type": "stream",
          "text": [
            "\r 83%|████████▎ | 471/567 [34:42<06:25,  4.01s/it]"
          ]
        },
        {
          "name": "stdout",
          "output_type": "stream",
          "text": [
            "step5 messages: 10\n",
            "Failed to parse model output as JSON:\n",
            "step3 messages: 7\n",
            "step4 messages: 9\n"
          ]
        },
        {
          "name": "stderr",
          "output_type": "stream",
          "text": [
            "\r 83%|████████▎ | 472/567 [34:46<06:25,  4.06s/it]"
          ]
        },
        {
          "name": "stdout",
          "output_type": "stream",
          "text": [
            "step5 messages: 10\n",
            "Failed to parse model output as JSON:\n",
            "step3 messages: 7\n",
            "step4 messages: 9\n"
          ]
        },
        {
          "name": "stderr",
          "output_type": "stream",
          "text": [
            "\r 83%|████████▎ | 473/567 [34:49<06:02,  3.86s/it]"
          ]
        },
        {
          "name": "stdout",
          "output_type": "stream",
          "text": [
            "step5 messages: 10\n",
            "Failed to parse model output as JSON:\n",
            "step3 messages: 7\n",
            "step4 messages: 9\n"
          ]
        },
        {
          "name": "stderr",
          "output_type": "stream",
          "text": [
            "\r 84%|████████▎ | 474/567 [34:52<05:41,  3.67s/it]"
          ]
        },
        {
          "name": "stdout",
          "output_type": "stream",
          "text": [
            "step5 messages: 10\n",
            "Failed to parse model output as JSON:\n",
            "step3 messages: 7\n",
            "step4 messages: 9\n"
          ]
        },
        {
          "name": "stderr",
          "output_type": "stream",
          "text": [
            "\r 84%|████████▍ | 475/567 [34:57<05:57,  3.89s/it]"
          ]
        },
        {
          "name": "stdout",
          "output_type": "stream",
          "text": [
            "step5 messages: 10\n",
            "Failed to parse model output as JSON:\n",
            "step3 messages: 7\n",
            "step4 messages: 9\n"
          ]
        },
        {
          "name": "stderr",
          "output_type": "stream",
          "text": [
            "\r 84%|████████▍ | 476/567 [35:00<05:35,  3.68s/it]"
          ]
        },
        {
          "name": "stdout",
          "output_type": "stream",
          "text": [
            "step5 messages: 10\n",
            "Failed to parse model output as JSON:\n",
            "step3 messages: 7\n",
            "step4 messages: 9\n"
          ]
        },
        {
          "name": "stderr",
          "output_type": "stream",
          "text": [
            "\r 84%|████████▍ | 477/567 [35:03<05:02,  3.36s/it]"
          ]
        },
        {
          "name": "stdout",
          "output_type": "stream",
          "text": [
            "step5 messages: 10\n",
            "Failed to parse model output as JSON:\n",
            "step3 messages: 7\n",
            "step4 messages: 9\n"
          ]
        },
        {
          "name": "stderr",
          "output_type": "stream",
          "text": [
            "\r 84%|████████▍ | 478/567 [35:09<06:12,  4.19s/it]"
          ]
        },
        {
          "name": "stdout",
          "output_type": "stream",
          "text": [
            "step5 messages: 10\n",
            "Failed to parse model output as JSON:\n",
            "step3 messages: 7\n",
            "step4 messages: 9\n"
          ]
        },
        {
          "name": "stderr",
          "output_type": "stream",
          "text": [
            "\r 84%|████████▍ | 479/567 [35:12<05:52,  4.01s/it]"
          ]
        },
        {
          "name": "stdout",
          "output_type": "stream",
          "text": [
            "step5 messages: 10\n",
            "Failed to parse model output as JSON:\n",
            "step3 messages: 7\n",
            "step4 messages: 9\n"
          ]
        },
        {
          "name": "stderr",
          "output_type": "stream",
          "text": [
            "\r 85%|████████▍ | 480/567 [35:16<05:50,  4.03s/it]"
          ]
        },
        {
          "name": "stdout",
          "output_type": "stream",
          "text": [
            "step5 messages: 10\n",
            "Failed to parse model output as JSON:\n",
            "step3 messages: 7\n",
            "step4 messages: 9\n"
          ]
        },
        {
          "name": "stderr",
          "output_type": "stream",
          "text": [
            "\r 85%|████████▍ | 481/567 [35:22<06:20,  4.42s/it]"
          ]
        },
        {
          "name": "stdout",
          "output_type": "stream",
          "text": [
            "step5 messages: 10\n",
            "Failed to parse model output as JSON:\n",
            "step3 messages: 7\n",
            "step4 messages: 9\n"
          ]
        },
        {
          "name": "stderr",
          "output_type": "stream",
          "text": [
            "\r 85%|████████▌ | 482/567 [35:25<05:46,  4.07s/it]"
          ]
        },
        {
          "name": "stdout",
          "output_type": "stream",
          "text": [
            "step5 messages: 10\n",
            "Failed to parse model output as JSON:\n",
            "step3 messages: 7\n",
            "step4 messages: 9\n"
          ]
        },
        {
          "name": "stderr",
          "output_type": "stream",
          "text": [
            "\r 85%|████████▌ | 483/567 [35:29<05:43,  4.09s/it]"
          ]
        },
        {
          "name": "stdout",
          "output_type": "stream",
          "text": [
            "step5 messages: 10\n",
            "Failed to parse model output as JSON:\n",
            "step3 messages: 7\n",
            "step4 messages: 9\n"
          ]
        },
        {
          "name": "stderr",
          "output_type": "stream",
          "text": [
            "\r 85%|████████▌ | 484/567 [35:36<06:35,  4.76s/it]"
          ]
        },
        {
          "name": "stdout",
          "output_type": "stream",
          "text": [
            "step5 messages: 10\n",
            "Failed to parse model output as JSON:\n",
            "step3 messages: 7\n",
            "step4 messages: 9\n"
          ]
        },
        {
          "name": "stderr",
          "output_type": "stream",
          "text": [
            "\r 86%|████████▌ | 485/567 [35:41<06:41,  4.89s/it]"
          ]
        },
        {
          "name": "stdout",
          "output_type": "stream",
          "text": [
            "step5 messages: 10\n",
            "Failed to parse model output as JSON:\n",
            "step3 messages: 7\n",
            "step4 messages: 9\n"
          ]
        },
        {
          "name": "stderr",
          "output_type": "stream",
          "text": [
            "\r 86%|████████▌ | 486/567 [35:45<06:14,  4.62s/it]"
          ]
        },
        {
          "name": "stdout",
          "output_type": "stream",
          "text": [
            "step5 messages: 10\n",
            "Failed to parse model output as JSON:\n",
            "step3 messages: 7\n",
            "step4 messages: 9\n"
          ]
        },
        {
          "name": "stderr",
          "output_type": "stream",
          "text": [
            "\r 86%|████████▌ | 487/567 [35:49<05:54,  4.43s/it]"
          ]
        },
        {
          "name": "stdout",
          "output_type": "stream",
          "text": [
            "step5 messages: 10\n",
            "Failed to parse model output as JSON:\n",
            "step3 messages: 7\n",
            "step4 messages: 9\n"
          ]
        },
        {
          "name": "stderr",
          "output_type": "stream",
          "text": [
            "\r 86%|████████▌ | 488/567 [35:56<06:50,  5.20s/it]"
          ]
        },
        {
          "name": "stdout",
          "output_type": "stream",
          "text": [
            "step5 messages: 10\n",
            "Failed to parse model output as JSON:\n",
            "step3 messages: 7\n",
            "step4 messages: 9\n"
          ]
        },
        {
          "name": "stderr",
          "output_type": "stream",
          "text": [
            "\r 86%|████████▌ | 489/567 [36:01<06:54,  5.32s/it]"
          ]
        },
        {
          "name": "stdout",
          "output_type": "stream",
          "text": [
            "step5 messages: 10\n",
            "Failed to parse model output as JSON:\n",
            "step3 messages: 7\n",
            "step4 messages: 9\n"
          ]
        },
        {
          "name": "stderr",
          "output_type": "stream",
          "text": [
            "\r 86%|████████▋ | 490/567 [36:04<05:55,  4.61s/it]"
          ]
        },
        {
          "name": "stdout",
          "output_type": "stream",
          "text": [
            "step5 messages: 10\n",
            "Failed to parse model output as JSON:\n",
            "step3 messages: 7\n",
            "step4 messages: 9\n"
          ]
        },
        {
          "name": "stderr",
          "output_type": "stream",
          "text": [
            "\r 87%|████████▋ | 491/567 [36:07<05:12,  4.11s/it]"
          ]
        },
        {
          "name": "stdout",
          "output_type": "stream",
          "text": [
            "step5 messages: 10\n",
            "Failed to parse model output as JSON:\n",
            "step3 messages: 7\n",
            "step4 messages: 9\n"
          ]
        },
        {
          "name": "stderr",
          "output_type": "stream",
          "text": [
            "\r 87%|████████▋ | 492/567 [36:11<05:01,  4.02s/it]"
          ]
        },
        {
          "name": "stdout",
          "output_type": "stream",
          "text": [
            "step5 messages: 10\n",
            "Failed to parse model output as JSON:\n",
            "step3 messages: 7\n",
            "step4 messages: 9\n"
          ]
        },
        {
          "name": "stderr",
          "output_type": "stream",
          "text": [
            "\r 87%|████████▋ | 493/567 [36:15<04:50,  3.93s/it]"
          ]
        },
        {
          "name": "stdout",
          "output_type": "stream",
          "text": [
            "step5 messages: 10\n",
            "Failed to parse model output as JSON:\n",
            "step3 messages: 7\n",
            "step4 messages: 9\n"
          ]
        },
        {
          "name": "stderr",
          "output_type": "stream",
          "text": [
            "\r 87%|████████▋ | 494/567 [36:19<04:54,  4.03s/it]"
          ]
        },
        {
          "name": "stdout",
          "output_type": "stream",
          "text": [
            "step5 messages: 10\n",
            "Failed to parse model output as JSON:\n",
            "step3 messages: 7\n",
            "step4 messages: 9\n"
          ]
        },
        {
          "name": "stderr",
          "output_type": "stream",
          "text": [
            "\r 87%|████████▋ | 495/567 [36:30<07:21,  6.14s/it]"
          ]
        },
        {
          "name": "stdout",
          "output_type": "stream",
          "text": [
            "step5 messages: 10\n",
            "Failed to parse model output as JSON:\n",
            "step3 messages: 7\n",
            "step4 messages: 9\n"
          ]
        },
        {
          "name": "stderr",
          "output_type": "stream",
          "text": [
            "\r 87%|████████▋ | 496/567 [36:34<06:29,  5.49s/it]"
          ]
        },
        {
          "name": "stdout",
          "output_type": "stream",
          "text": [
            "step5 messages: 10\n",
            "Failed to parse model output as JSON:\n",
            "step3 messages: 7\n",
            "step4 messages: 9\n"
          ]
        },
        {
          "name": "stderr",
          "output_type": "stream",
          "text": [
            "\r 88%|████████▊ | 497/567 [36:38<05:46,  4.95s/it]"
          ]
        },
        {
          "name": "stdout",
          "output_type": "stream",
          "text": [
            "step5 messages: 10\n",
            "Failed to parse model output as JSON:\n",
            "step3 messages: 7\n",
            "step4 messages: 9\n"
          ]
        },
        {
          "name": "stderr",
          "output_type": "stream",
          "text": [
            "\r 88%|████████▊ | 498/567 [36:41<05:14,  4.56s/it]"
          ]
        },
        {
          "name": "stdout",
          "output_type": "stream",
          "text": [
            "step5 messages: 10\n",
            "Failed to parse model output as JSON:\n",
            "step3 messages: 7\n",
            "step4 messages: 9\n"
          ]
        },
        {
          "name": "stderr",
          "output_type": "stream",
          "text": [
            "\r 88%|████████▊ | 499/567 [36:47<05:36,  4.95s/it]"
          ]
        },
        {
          "name": "stdout",
          "output_type": "stream",
          "text": [
            "step5 messages: 10\n",
            "Failed to parse model output as JSON:\n",
            "step3 messages: 7\n",
            "step4 messages: 9\n"
          ]
        },
        {
          "name": "stderr",
          "output_type": "stream",
          "text": [
            "\r 88%|████████▊ | 500/567 [36:51<05:14,  4.70s/it]"
          ]
        },
        {
          "name": "stdout",
          "output_type": "stream",
          "text": [
            "step5 messages: 10\n",
            "Failed to parse model output as JSON:\n",
            "step3 messages: 7\n",
            "step4 messages: 9\n"
          ]
        },
        {
          "name": "stderr",
          "output_type": "stream",
          "text": [
            "\r 88%|████████▊ | 501/567 [36:56<05:16,  4.80s/it]"
          ]
        },
        {
          "name": "stdout",
          "output_type": "stream",
          "text": [
            "step5 messages: 10\n",
            "Failed to parse model output as JSON:\n",
            "step3 messages: 7\n",
            "step4 messages: 9\n"
          ]
        },
        {
          "name": "stderr",
          "output_type": "stream",
          "text": [
            "\r 89%|████████▊ | 502/567 [37:01<05:02,  4.65s/it]"
          ]
        },
        {
          "name": "stdout",
          "output_type": "stream",
          "text": [
            "step5 messages: 10\n",
            "Failed to parse model output as JSON:\n",
            "step3 messages: 7\n",
            "step4 messages: 9\n"
          ]
        },
        {
          "name": "stderr",
          "output_type": "stream",
          "text": [
            "\r 89%|████████▊ | 503/567 [37:04<04:29,  4.21s/it]"
          ]
        },
        {
          "name": "stdout",
          "output_type": "stream",
          "text": [
            "step5 messages: 10\n",
            "Failed to parse model output as JSON:\n",
            "step3 messages: 7\n",
            "step4 messages: 9\n"
          ]
        },
        {
          "name": "stderr",
          "output_type": "stream",
          "text": [
            "\r 89%|████████▉ | 504/567 [37:27<10:29,  9.99s/it]"
          ]
        },
        {
          "name": "stdout",
          "output_type": "stream",
          "text": [
            "step5 messages: 10\n",
            "Failed to parse model output as JSON:\n",
            "step3 messages: 7\n",
            "step4 messages: 9\n"
          ]
        },
        {
          "name": "stderr",
          "output_type": "stream",
          "text": [
            "\r 89%|████████▉ | 505/567 [37:32<08:35,  8.32s/it]"
          ]
        },
        {
          "name": "stdout",
          "output_type": "stream",
          "text": [
            "step5 messages: 10\n",
            "Failed to parse model output as JSON:\n",
            "step3 messages: 7\n",
            "step4 messages: 9\n"
          ]
        },
        {
          "name": "stderr",
          "output_type": "stream",
          "text": [
            "\r 89%|████████▉ | 506/567 [37:35<06:49,  6.71s/it]"
          ]
        },
        {
          "name": "stdout",
          "output_type": "stream",
          "text": [
            "step5 messages: 10\n",
            "Failed to parse model output as JSON:\n",
            "step3 messages: 7\n",
            "step4 messages: 9\n"
          ]
        },
        {
          "name": "stderr",
          "output_type": "stream",
          "text": [
            "\r 89%|████████▉ | 507/567 [37:38<05:46,  5.77s/it]"
          ]
        },
        {
          "name": "stdout",
          "output_type": "stream",
          "text": [
            "step5 messages: 10\n",
            "Failed to parse model output as JSON:\n",
            "step3 messages: 7\n",
            "step4 messages: 9\n"
          ]
        },
        {
          "name": "stderr",
          "output_type": "stream",
          "text": [
            "\r 90%|████████▉ | 508/567 [37:44<05:45,  5.86s/it]"
          ]
        },
        {
          "name": "stdout",
          "output_type": "stream",
          "text": [
            "step5 messages: 10\n",
            "Failed to parse model output as JSON:\n",
            "step3 messages: 7\n",
            "step4 messages: 9\n"
          ]
        },
        {
          "name": "stderr",
          "output_type": "stream",
          "text": [
            "\r 90%|████████▉ | 509/567 [37:48<04:57,  5.13s/it]"
          ]
        },
        {
          "name": "stdout",
          "output_type": "stream",
          "text": [
            "step5 messages: 10\n",
            "Failed to parse model output as JSON:\n",
            "step3 messages: 7\n",
            "step4 messages: 9\n"
          ]
        },
        {
          "name": "stderr",
          "output_type": "stream",
          "text": [
            "\r 90%|████████▉ | 510/567 [37:51<04:25,  4.66s/it]"
          ]
        },
        {
          "name": "stdout",
          "output_type": "stream",
          "text": [
            "step5 messages: 10\n",
            "Failed to parse model output as JSON:\n",
            "step3 messages: 7\n",
            "step4 messages: 9\n"
          ]
        },
        {
          "name": "stderr",
          "output_type": "stream",
          "text": [
            "\r 90%|█████████ | 511/567 [37:55<04:10,  4.47s/it]"
          ]
        },
        {
          "name": "stdout",
          "output_type": "stream",
          "text": [
            "step5 messages: 10\n",
            "Failed to parse model output as JSON:\n",
            "step3 messages: 7\n",
            "step4 messages: 9\n"
          ]
        },
        {
          "name": "stderr",
          "output_type": "stream",
          "text": [
            "\r 90%|█████████ | 512/567 [38:00<04:14,  4.62s/it]"
          ]
        },
        {
          "name": "stdout",
          "output_type": "stream",
          "text": [
            "step5 messages: 10\n",
            "Failed to parse model output as JSON:\n",
            "step3 messages: 7\n",
            "step4 messages: 9\n"
          ]
        },
        {
          "name": "stderr",
          "output_type": "stream",
          "text": [
            "\r 90%|█████████ | 513/567 [38:04<03:54,  4.33s/it]"
          ]
        },
        {
          "name": "stdout",
          "output_type": "stream",
          "text": [
            "step5 messages: 10\n",
            "Failed to parse model output as JSON:\n",
            "step3 messages: 7\n",
            "step4 messages: 9\n"
          ]
        },
        {
          "name": "stderr",
          "output_type": "stream",
          "text": [
            "\r 91%|█████████ | 514/567 [38:08<03:40,  4.15s/it]"
          ]
        },
        {
          "name": "stdout",
          "output_type": "stream",
          "text": [
            "step5 messages: 10\n",
            "Failed to parse model output as JSON:\n",
            "step3 messages: 7\n",
            "step4 messages: 9\n"
          ]
        },
        {
          "name": "stderr",
          "output_type": "stream",
          "text": [
            "\r 91%|█████████ | 515/567 [38:12<03:31,  4.07s/it]"
          ]
        },
        {
          "name": "stdout",
          "output_type": "stream",
          "text": [
            "step5 messages: 10\n",
            "Failed to parse model output as JSON:\n",
            "step3 messages: 7\n",
            "step4 messages: 9\n"
          ]
        },
        {
          "name": "stderr",
          "output_type": "stream",
          "text": [
            "\r 91%|█████████ | 516/567 [38:15<03:19,  3.90s/it]"
          ]
        },
        {
          "name": "stdout",
          "output_type": "stream",
          "text": [
            "step5 messages: 10\n",
            "Failed to parse model output as JSON:\n",
            "step3 messages: 7\n",
            "step4 messages: 9\n"
          ]
        },
        {
          "name": "stderr",
          "output_type": "stream",
          "text": [
            "\r 91%|█████████ | 517/567 [38:20<03:29,  4.19s/it]"
          ]
        },
        {
          "name": "stdout",
          "output_type": "stream",
          "text": [
            "step5 messages: 10\n",
            "Failed to parse model output as JSON:\n",
            "step3 messages: 7\n",
            "step4 messages: 9\n"
          ]
        },
        {
          "name": "stderr",
          "output_type": "stream",
          "text": [
            "\r 91%|█████████▏| 518/567 [38:24<03:27,  4.24s/it]"
          ]
        },
        {
          "name": "stdout",
          "output_type": "stream",
          "text": [
            "step5 messages: 10\n",
            "Failed to parse model output as JSON:\n",
            "step3 messages: 7\n",
            "step4 messages: 9\n"
          ]
        },
        {
          "name": "stderr",
          "output_type": "stream",
          "text": [
            "\r 92%|█████████▏| 519/567 [38:32<04:08,  5.17s/it]"
          ]
        },
        {
          "name": "stdout",
          "output_type": "stream",
          "text": [
            "step5 messages: 10\n",
            "Failed to parse model output as JSON:\n",
            "step3 messages: 7\n",
            "step4 messages: 9\n"
          ]
        },
        {
          "name": "stderr",
          "output_type": "stream",
          "text": [
            "\r 92%|█████████▏| 520/567 [38:36<03:47,  4.84s/it]"
          ]
        },
        {
          "name": "stdout",
          "output_type": "stream",
          "text": [
            "step5 messages: 10\n",
            "Failed to parse model output as JSON:\n",
            "step3 messages: 7\n",
            "step4 messages: 9\n"
          ]
        },
        {
          "name": "stderr",
          "output_type": "stream",
          "text": [
            "\r 92%|█████████▏| 521/567 [38:39<03:25,  4.47s/it]"
          ]
        },
        {
          "name": "stdout",
          "output_type": "stream",
          "text": [
            "step5 messages: 10\n",
            "Failed to parse model output as JSON:\n",
            "step3 messages: 7\n",
            "step4 messages: 9\n"
          ]
        },
        {
          "name": "stderr",
          "output_type": "stream",
          "text": [
            "\r 92%|█████████▏| 522/567 [38:44<03:19,  4.43s/it]"
          ]
        },
        {
          "name": "stdout",
          "output_type": "stream",
          "text": [
            "step5 messages: 10\n",
            "Failed to parse model output as JSON:\n",
            "step3 messages: 7\n",
            "step4 messages: 9\n"
          ]
        },
        {
          "name": "stderr",
          "output_type": "stream",
          "text": [
            "\r 92%|█████████▏| 523/567 [38:50<03:44,  5.11s/it]"
          ]
        },
        {
          "name": "stdout",
          "output_type": "stream",
          "text": [
            "step5 messages: 10\n",
            "Failed to parse model output as JSON:\n",
            "step3 messages: 7\n",
            "step4 messages: 9\n"
          ]
        },
        {
          "name": "stderr",
          "output_type": "stream",
          "text": [
            "\r 92%|█████████▏| 524/567 [38:54<03:21,  4.69s/it]"
          ]
        },
        {
          "name": "stdout",
          "output_type": "stream",
          "text": [
            "step5 messages: 10\n",
            "Failed to parse model output as JSON:\n",
            "step3 messages: 7\n",
            "step4 messages: 9\n"
          ]
        },
        {
          "name": "stderr",
          "output_type": "stream",
          "text": [
            "\r 93%|█████████▎| 525/567 [38:58<03:06,  4.44s/it]"
          ]
        },
        {
          "name": "stdout",
          "output_type": "stream",
          "text": [
            "step5 messages: 10\n",
            "Failed to parse model output as JSON:\n",
            "step3 messages: 7\n",
            "step4 messages: 9\n"
          ]
        },
        {
          "name": "stderr",
          "output_type": "stream",
          "text": [
            "\r 93%|█████████▎| 526/567 [39:01<02:46,  4.06s/it]"
          ]
        },
        {
          "name": "stdout",
          "output_type": "stream",
          "text": [
            "step5 messages: 10\n",
            "Failed to parse model output as JSON:\n",
            "step3 messages: 7\n",
            "step4 messages: 9\n"
          ]
        },
        {
          "name": "stderr",
          "output_type": "stream",
          "text": [
            "\r 93%|█████████▎| 527/567 [39:04<02:30,  3.77s/it]"
          ]
        },
        {
          "name": "stdout",
          "output_type": "stream",
          "text": [
            "step5 messages: 10\n",
            "Failed to parse model output as JSON:\n",
            "step3 messages: 7\n",
            "step4 messages: 9\n"
          ]
        },
        {
          "name": "stderr",
          "output_type": "stream",
          "text": [
            "\r 93%|█████████▎| 528/567 [39:08<02:28,  3.80s/it]"
          ]
        },
        {
          "name": "stdout",
          "output_type": "stream",
          "text": [
            "step5 messages: 10\n",
            "Failed to parse model output as JSON:\n",
            "step3 messages: 7\n",
            "step4 messages: 9\n"
          ]
        },
        {
          "name": "stderr",
          "output_type": "stream",
          "text": [
            "\r 93%|█████████▎| 529/567 [39:15<02:56,  4.64s/it]"
          ]
        },
        {
          "name": "stdout",
          "output_type": "stream",
          "text": [
            "step5 messages: 10\n",
            "Failed to parse model output as JSON:\n",
            "step3 messages: 7\n",
            "step4 messages: 9\n"
          ]
        },
        {
          "name": "stderr",
          "output_type": "stream",
          "text": [
            "\r 93%|█████████▎| 530/567 [39:19<02:48,  4.55s/it]"
          ]
        },
        {
          "name": "stdout",
          "output_type": "stream",
          "text": [
            "step5 messages: 10\n",
            "Failed to parse model output as JSON:\n",
            "step3 messages: 7\n",
            "step4 messages: 9\n"
          ]
        },
        {
          "name": "stderr",
          "output_type": "stream",
          "text": [
            "\r 94%|█████████▎| 531/567 [39:23<02:41,  4.48s/it]"
          ]
        },
        {
          "name": "stdout",
          "output_type": "stream",
          "text": [
            "step5 messages: 10\n",
            "Failed to parse model output as JSON:\n",
            "step3 messages: 7\n",
            "step4 messages: 9\n"
          ]
        },
        {
          "name": "stderr",
          "output_type": "stream",
          "text": [
            "\r 94%|█████████▍| 532/567 [39:27<02:27,  4.22s/it]"
          ]
        },
        {
          "name": "stdout",
          "output_type": "stream",
          "text": [
            "step5 messages: 10\n",
            "Failed to parse model output as JSON:\n",
            "step3 messages: 7\n",
            "step4 messages: 9\n"
          ]
        },
        {
          "name": "stderr",
          "output_type": "stream",
          "text": [
            "\r 94%|█████████▍| 533/567 [39:32<02:30,  4.42s/it]"
          ]
        },
        {
          "name": "stdout",
          "output_type": "stream",
          "text": [
            "step5 messages: 10\n",
            "Failed to parse model output as JSON:\n",
            "step3 messages: 7\n",
            "step4 messages: 9\n"
          ]
        },
        {
          "name": "stderr",
          "output_type": "stream",
          "text": [
            "\r 94%|█████████▍| 534/567 [39:36<02:18,  4.19s/it]"
          ]
        },
        {
          "name": "stdout",
          "output_type": "stream",
          "text": [
            "step5 messages: 10\n",
            "Failed to parse model output as JSON:\n",
            "step3 messages: 7\n",
            "step4 messages: 9\n"
          ]
        },
        {
          "name": "stderr",
          "output_type": "stream",
          "text": [
            "\r 94%|█████████▍| 535/567 [39:38<02:02,  3.82s/it]"
          ]
        },
        {
          "name": "stdout",
          "output_type": "stream",
          "text": [
            "step5 messages: 10\n",
            "Failed to parse model output as JSON:\n",
            "step3 messages: 7\n",
            "step4 messages: 9\n"
          ]
        },
        {
          "name": "stderr",
          "output_type": "stream",
          "text": [
            "\r 95%|█████████▍| 536/567 [39:44<02:15,  4.36s/it]"
          ]
        },
        {
          "name": "stdout",
          "output_type": "stream",
          "text": [
            "step5 messages: 10\n",
            "Failed to parse model output as JSON:\n",
            "step3 messages: 7\n",
            "step4 messages: 9\n"
          ]
        },
        {
          "name": "stderr",
          "output_type": "stream",
          "text": [
            "\r 95%|█████████▍| 537/567 [39:50<02:24,  4.81s/it]"
          ]
        },
        {
          "name": "stdout",
          "output_type": "stream",
          "text": [
            "step5 messages: 10\n",
            "Failed to parse model output as JSON:\n",
            "step3 messages: 7\n",
            "step4 messages: 9\n"
          ]
        },
        {
          "name": "stderr",
          "output_type": "stream",
          "text": [
            "\r 95%|█████████▍| 538/567 [39:54<02:11,  4.54s/it]"
          ]
        },
        {
          "name": "stdout",
          "output_type": "stream",
          "text": [
            "step5 messages: 10\n",
            "Failed to parse model output as JSON:\n",
            "step3 messages: 7\n",
            "step4 messages: 9\n"
          ]
        },
        {
          "name": "stderr",
          "output_type": "stream",
          "text": [
            "\r 95%|█████████▌| 539/567 [39:57<01:58,  4.23s/it]"
          ]
        },
        {
          "name": "stdout",
          "output_type": "stream",
          "text": [
            "step5 messages: 10\n",
            "Failed to parse model output as JSON:\n",
            "step3 messages: 7\n",
            "step4 messages: 9\n"
          ]
        },
        {
          "name": "stderr",
          "output_type": "stream",
          "text": [
            "\r 95%|█████████▌| 540/567 [40:02<01:55,  4.26s/it]"
          ]
        },
        {
          "name": "stdout",
          "output_type": "stream",
          "text": [
            "step5 messages: 10\n",
            "Failed to parse model output as JSON:\n",
            "step3 messages: 7\n",
            "step4 messages: 9\n"
          ]
        },
        {
          "name": "stderr",
          "output_type": "stream",
          "text": [
            "\r 95%|█████████▌| 541/567 [40:08<02:05,  4.82s/it]"
          ]
        },
        {
          "name": "stdout",
          "output_type": "stream",
          "text": [
            "step5 messages: 10\n",
            "Failed to parse model output as JSON:\n",
            "step3 messages: 7\n",
            "step4 messages: 9\n"
          ]
        },
        {
          "name": "stderr",
          "output_type": "stream",
          "text": [
            "\r 96%|█████████▌| 542/567 [40:12<01:54,  4.57s/it]"
          ]
        },
        {
          "name": "stdout",
          "output_type": "stream",
          "text": [
            "step5 messages: 10\n",
            "Failed to parse model output as JSON:\n",
            "step3 messages: 7\n",
            "step4 messages: 9\n"
          ]
        },
        {
          "name": "stderr",
          "output_type": "stream",
          "text": [
            "\r 96%|█████████▌| 543/567 [40:16<01:44,  4.34s/it]"
          ]
        },
        {
          "name": "stdout",
          "output_type": "stream",
          "text": [
            "step5 messages: 10\n",
            "Failed to parse model output as JSON:\n",
            "step3 messages: 7\n",
            "step4 messages: 9\n"
          ]
        },
        {
          "name": "stderr",
          "output_type": "stream",
          "text": [
            "\r 96%|█████████▌| 544/567 [40:20<01:42,  4.47s/it]"
          ]
        },
        {
          "name": "stdout",
          "output_type": "stream",
          "text": [
            "step5 messages: 10\n",
            "Failed to parse model output as JSON:\n",
            "step3 messages: 7\n",
            "step4 messages: 9\n"
          ]
        },
        {
          "name": "stderr",
          "output_type": "stream",
          "text": [
            "\r 96%|█████████▌| 545/567 [40:28<01:59,  5.44s/it]"
          ]
        },
        {
          "name": "stdout",
          "output_type": "stream",
          "text": [
            "step5 messages: 10\n",
            "Failed to parse model output as JSON:\n",
            "step3 messages: 7\n",
            "step4 messages: 9\n"
          ]
        },
        {
          "name": "stderr",
          "output_type": "stream",
          "text": [
            "\r 96%|█████████▋| 546/567 [40:33<01:50,  5.26s/it]"
          ]
        },
        {
          "name": "stdout",
          "output_type": "stream",
          "text": [
            "step5 messages: 10\n",
            "Failed to parse model output as JSON:\n",
            "step3 messages: 7\n",
            "step4 messages: 9\n"
          ]
        },
        {
          "name": "stderr",
          "output_type": "stream",
          "text": [
            "\r 96%|█████████▋| 547/567 [40:37<01:36,  4.81s/it]"
          ]
        },
        {
          "name": "stdout",
          "output_type": "stream",
          "text": [
            "step5 messages: 10\n",
            "step3 messages: 7\n",
            "step4 messages: 9\n"
          ]
        },
        {
          "name": "stderr",
          "output_type": "stream",
          "text": [
            "\r 97%|█████████▋| 548/567 [40:41<01:27,  4.60s/it]"
          ]
        },
        {
          "name": "stdout",
          "output_type": "stream",
          "text": [
            "step5 messages: 10\n",
            "Failed to parse model output as JSON:\n",
            "step3 messages: 7\n",
            "step4 messages: 9\n"
          ]
        },
        {
          "name": "stderr",
          "output_type": "stream",
          "text": [
            "\r 97%|█████████▋| 549/567 [40:45<01:20,  4.49s/it]"
          ]
        },
        {
          "name": "stdout",
          "output_type": "stream",
          "text": [
            "step5 messages: 10\n",
            "Failed to parse model output as JSON:\n",
            "step3 messages: 7\n",
            "step4 messages: 9\n"
          ]
        },
        {
          "name": "stderr",
          "output_type": "stream",
          "text": [
            "\r 97%|█████████▋| 550/567 [40:49<01:12,  4.29s/it]"
          ]
        },
        {
          "name": "stdout",
          "output_type": "stream",
          "text": [
            "step5 messages: 10\n",
            "Failed to parse model output as JSON:\n",
            "step3 messages: 7\n",
            "step4 messages: 9\n"
          ]
        },
        {
          "name": "stderr",
          "output_type": "stream",
          "text": [
            "\r 97%|█████████▋| 551/567 [40:52<01:04,  4.02s/it]"
          ]
        },
        {
          "name": "stdout",
          "output_type": "stream",
          "text": [
            "step5 messages: 10\n",
            "Failed to parse model output as JSON:\n",
            "step3 messages: 7\n",
            "step4 messages: 9\n"
          ]
        },
        {
          "name": "stderr",
          "output_type": "stream",
          "text": [
            "\r 97%|█████████▋| 552/567 [40:56<01:00,  4.04s/it]"
          ]
        },
        {
          "name": "stdout",
          "output_type": "stream",
          "text": [
            "step5 messages: 10\n",
            "Failed to parse model output as JSON:\n",
            "step3 messages: 7\n",
            "step4 messages: 9\n"
          ]
        },
        {
          "name": "stderr",
          "output_type": "stream",
          "text": [
            "\r 98%|█████████▊| 553/567 [40:59<00:52,  3.76s/it]"
          ]
        },
        {
          "name": "stdout",
          "output_type": "stream",
          "text": [
            "step5 messages: 10\n",
            "Failed to parse model output as JSON:\n",
            "step3 messages: 7\n",
            "step4 messages: 9\n"
          ]
        },
        {
          "name": "stderr",
          "output_type": "stream",
          "text": [
            "\r 98%|█████████▊| 554/567 [41:03<00:46,  3.56s/it]"
          ]
        },
        {
          "name": "stdout",
          "output_type": "stream",
          "text": [
            "step5 messages: 10\n",
            "Failed to parse model output as JSON:\n",
            "step3 messages: 7\n",
            "step4 messages: 9\n"
          ]
        },
        {
          "name": "stderr",
          "output_type": "stream",
          "text": [
            "\r 98%|█████████▊| 555/567 [41:08<00:48,  4.00s/it]"
          ]
        },
        {
          "name": "stdout",
          "output_type": "stream",
          "text": [
            "step5 messages: 10\n",
            "Failed to parse model output as JSON:\n",
            "step3 messages: 7\n",
            "step4 messages: 9\n"
          ]
        },
        {
          "name": "stderr",
          "output_type": "stream",
          "text": [
            "\r 98%|█████████▊| 556/567 [41:14<00:51,  4.72s/it]"
          ]
        },
        {
          "name": "stdout",
          "output_type": "stream",
          "text": [
            "step5 messages: 10\n",
            "Failed to parse model output as JSON:\n",
            "step3 messages: 7\n",
            "step4 messages: 9\n"
          ]
        },
        {
          "name": "stderr",
          "output_type": "stream",
          "text": [
            "\r 98%|█████████▊| 557/567 [41:18<00:45,  4.55s/it]"
          ]
        },
        {
          "name": "stdout",
          "output_type": "stream",
          "text": [
            "step5 messages: 10\n",
            "Failed to parse model output as JSON:\n",
            "step3 messages: 7\n",
            "step4 messages: 9\n"
          ]
        },
        {
          "name": "stderr",
          "output_type": "stream",
          "text": [
            "\r 98%|█████████▊| 558/567 [41:23<00:41,  4.63s/it]"
          ]
        },
        {
          "name": "stdout",
          "output_type": "stream",
          "text": [
            "step5 messages: 10\n",
            "Failed to parse model output as JSON:\n",
            "step3 messages: 7\n",
            "step4 messages: 9\n"
          ]
        },
        {
          "name": "stderr",
          "output_type": "stream",
          "text": [
            "\r 99%|█████████▊| 559/567 [41:27<00:34,  4.33s/it]"
          ]
        },
        {
          "name": "stdout",
          "output_type": "stream",
          "text": [
            "step5 messages: 10\n",
            "Failed to parse model output as JSON:\n",
            "step3 messages: 7\n",
            "step4 messages: 9\n"
          ]
        },
        {
          "name": "stderr",
          "output_type": "stream",
          "text": [
            "\r 99%|█████████▉| 560/567 [41:32<00:33,  4.73s/it]"
          ]
        },
        {
          "name": "stdout",
          "output_type": "stream",
          "text": [
            "step5 messages: 10\n",
            "Failed to parse model output as JSON:\n",
            "step3 messages: 7\n",
            "step4 messages: 9\n"
          ]
        },
        {
          "name": "stderr",
          "output_type": "stream",
          "text": [
            "\r 99%|█████████▉| 561/567 [41:35<00:25,  4.25s/it]"
          ]
        },
        {
          "name": "stdout",
          "output_type": "stream",
          "text": [
            "step5 messages: 10\n",
            "Failed to parse model output as JSON:\n",
            "step3 messages: 7\n",
            "step4 messages: 9\n"
          ]
        },
        {
          "name": "stderr",
          "output_type": "stream",
          "text": [
            "\r 99%|█████████▉| 562/567 [41:39<00:20,  4.15s/it]"
          ]
        },
        {
          "name": "stdout",
          "output_type": "stream",
          "text": [
            "step5 messages: 10\n",
            "Failed to parse model output as JSON:\n",
            "step3 messages: 7\n",
            "step4 messages: 9\n"
          ]
        },
        {
          "name": "stderr",
          "output_type": "stream",
          "text": [
            "\r 99%|█████████▉| 563/567 [41:44<00:16,  4.24s/it]"
          ]
        },
        {
          "name": "stdout",
          "output_type": "stream",
          "text": [
            "step5 messages: 10\n",
            "Failed to parse model output as JSON:\n",
            "step3 messages: 7\n",
            "step4 messages: 9\n"
          ]
        },
        {
          "name": "stderr",
          "output_type": "stream",
          "text": [
            "\r 99%|█████████▉| 564/567 [41:48<00:13,  4.38s/it]"
          ]
        },
        {
          "name": "stdout",
          "output_type": "stream",
          "text": [
            "step5 messages: 10\n",
            "Failed to parse model output as JSON:\n",
            "step3 messages: 7\n",
            "step4 messages: 9\n"
          ]
        },
        {
          "name": "stderr",
          "output_type": "stream",
          "text": [
            "\r100%|█████████▉| 565/567 [41:52<00:08,  4.17s/it]"
          ]
        },
        {
          "name": "stdout",
          "output_type": "stream",
          "text": [
            "step5 messages: 10\n",
            "Failed to parse model output as JSON:\n",
            "step3 messages: 7\n",
            "step4 messages: 9\n"
          ]
        },
        {
          "name": "stderr",
          "output_type": "stream",
          "text": [
            "\r100%|█████████▉| 566/567 [41:56<00:04,  4.04s/it]"
          ]
        },
        {
          "name": "stdout",
          "output_type": "stream",
          "text": [
            "step5 messages: 10\n",
            "Failed to parse model output as JSON:\n",
            "step3 messages: 7\n",
            "step4 messages: 9\n"
          ]
        },
        {
          "name": "stderr",
          "output_type": "stream",
          "text": [
            "100%|██████████| 567/567 [41:58<00:00,  4.44s/it]"
          ]
        },
        {
          "name": "stdout",
          "output_type": "stream",
          "text": [
            "step5 messages: 10\n",
            "Failed to parse model output as JSON:\n"
          ]
        },
        {
          "name": "stderr",
          "output_type": "stream",
          "text": [
            "\n"
          ]
        }
      ],
      "source": [
        "for i in tqdm(range(len(test_df))):\n",
        "    desc = {\n",
        "        \"job_title\": test_df.iloc[i].job_title,\n",
        "        \"job_ad_details\": test_df.iloc[i].job_ad_details,\n",
        "        \"nation_short_desc\": test_df.iloc[i].nation_short_desc,\n",
        "        \"salary_additional_text\": test_df.iloc[i].salary_additional_text,\n",
        "    }\n",
        "    desc_str = str(desc)\n",
        "\n",
        "    label = test_df.iloc[i].y_true\n",
        "    label_str = str(label)\n",
        "\n",
        "    label_pred = RBIC(messages_static, desc_str)\n",
        "\n",
        "    test_pred_df.loc[len(test_pred_df)] = label_pred\n",
        "\n",
        "# export the dataframe to a new csv file\n",
        "test_pred_df.to_csv('salary_labelled_test_set_qwen_rbic_preds.csv', index=False)"
      ]
    },
    {
      "cell_type": "code",
      "execution_count": null,
      "metadata": {
        "colab": {
          "base_uri": "https://localhost:8080/",
          "height": 419
        },
        "id": "mn4Da3C2vdsf",
        "outputId": "9acd1fab-5d07-408a-b955-698f42ea5d91"
      },
      "outputs": [
        {
          "data": {
            "application/vnd.google.colaboratory.intrinsic+json": {
              "summary": "{\n  \"name\": \"test_pred_df\",\n  \"rows\": 567,\n  \"fields\": [\n    {\n      \"column\": \"y_pred\",\n      \"properties\": {\n        \"dtype\": \"category\",\n        \"num_unique_values\": 162,\n        \"samples\": [\n          \"$33-$38-USD-MONTHLY\",\n          \"ERROR ```json\\n{\\\"MinSalary\\\": \\\"24.69\\\", \\\"MaxSalary\\\": \\\"70\\\", \\\"Currency\\\": \\\"USD\\\", \\\"Frequency\\\": \\\"Monthly\\\"}\\n```\",\n          \"ERROR ```json\\n{\\n  \\\"MinSalary\\\": \\\"\\\",\\n  \\\"MaxSalary\\\": \\\"\\\",\\n  \\\"Currency\\\": \\\"HKD\\\",\\n  \\\"Frequency\\\": \\\"Monthly\\\"\\n}\\n```\"\n        ],\n        \"semantic_type\": \"\",\n        \"description\": \"\"\n      }\n    }\n  ]\n}",
              "type": "dataframe",
              "variable_name": "test_pred_df"
            },
            "text/html": [
              "\n",
              "  <div id=\"df-fb4b1fba-062a-4b80-b509-f914bb0f2f13\" class=\"colab-df-container\">\n",
              "    <div>\n",
              "<style scoped>\n",
              "    .dataframe tbody tr th:only-of-type {\n",
              "        vertical-align: middle;\n",
              "    }\n",
              "\n",
              "    .dataframe tbody tr th {\n",
              "        vertical-align: top;\n",
              "    }\n",
              "\n",
              "    .dataframe thead th {\n",
              "        text-align: right;\n",
              "    }\n",
              "</style>\n",
              "<table border=\"1\" class=\"dataframe\">\n",
              "  <thead>\n",
              "    <tr style=\"text-align: right;\">\n",
              "      <th></th>\n",
              "      <th>y_pred</th>\n",
              "    </tr>\n",
              "  </thead>\n",
              "  <tbody>\n",
              "    <tr>\n",
              "      <th>0</th>\n",
              "      <td>ERROR ```json\\n{\\n  \"MinSalary\": \"\",\\n  \"MaxSa...</td>\n",
              "    </tr>\n",
              "    <tr>\n",
              "      <th>1</th>\n",
              "      <td>ERROR ```json\\n{\\n  \"MinSalary\": \"50\",\\n  \"Max...</td>\n",
              "    </tr>\n",
              "    <tr>\n",
              "      <th>2</th>\n",
              "      <td>ERROR ```json\\n{\"MinSalary\": 50000, \"MaxSalary...</td>\n",
              "    </tr>\n",
              "    <tr>\n",
              "      <th>3</th>\n",
              "      <td>ERROR ```json\\n{\\n  \"MinSalary\": \"\",\\n  \"MaxSa...</td>\n",
              "    </tr>\n",
              "    <tr>\n",
              "      <th>4</th>\n",
              "      <td>ERROR ```json\\n{\\n  \"MinSalary\": \"50\",\\n  \"Max...</td>\n",
              "    </tr>\n",
              "    <tr>\n",
              "      <th>...</th>\n",
              "      <td>...</td>\n",
              "    </tr>\n",
              "    <tr>\n",
              "      <th>562</th>\n",
              "      <td>ERROR ```json\\n{\\n    \"MinSalary\": \"\",\\n    \"M...</td>\n",
              "    </tr>\n",
              "    <tr>\n",
              "      <th>563</th>\n",
              "      <td>ERROR ```json\\n{\\n    \"MinSalary\": \"$50,000\",\\...</td>\n",
              "    </tr>\n",
              "    <tr>\n",
              "      <th>564</th>\n",
              "      <td>ERROR ```json\\n{\\n  \"MinSalary\": \"\",\\n  \"MaxSa...</td>\n",
              "    </tr>\n",
              "    <tr>\n",
              "      <th>565</th>\n",
              "      <td>ERROR ```json\\n{\\n  \"MinSalary\": \"\",\\n  \"MaxSa...</td>\n",
              "    </tr>\n",
              "    <tr>\n",
              "      <th>566</th>\n",
              "      <td>ERROR ```json\\n{\"Clue\":\"Salary Range: None\"}\\n```</td>\n",
              "    </tr>\n",
              "  </tbody>\n",
              "</table>\n",
              "<p>567 rows × 1 columns</p>\n",
              "</div>\n",
              "    <div class=\"colab-df-buttons\">\n",
              "\n",
              "  <div class=\"colab-df-container\">\n",
              "    <button class=\"colab-df-convert\" onclick=\"convertToInteractive('df-fb4b1fba-062a-4b80-b509-f914bb0f2f13')\"\n",
              "            title=\"Convert this dataframe to an interactive table.\"\n",
              "            style=\"display:none;\">\n",
              "\n",
              "  <svg xmlns=\"http://www.w3.org/2000/svg\" height=\"24px\" viewBox=\"0 -960 960 960\">\n",
              "    <path d=\"M120-120v-720h720v720H120Zm60-500h600v-160H180v160Zm220 220h160v-160H400v160Zm0 220h160v-160H400v160ZM180-400h160v-160H180v160Zm440 0h160v-160H620v160ZM180-180h160v-160H180v160Zm440 0h160v-160H620v160Z\"/>\n",
              "  </svg>\n",
              "    </button>\n",
              "\n",
              "  <style>\n",
              "    .colab-df-container {\n",
              "      display:flex;\n",
              "      gap: 12px;\n",
              "    }\n",
              "\n",
              "    .colab-df-convert {\n",
              "      background-color: #E8F0FE;\n",
              "      border: none;\n",
              "      border-radius: 50%;\n",
              "      cursor: pointer;\n",
              "      display: none;\n",
              "      fill: #1967D2;\n",
              "      height: 32px;\n",
              "      padding: 0 0 0 0;\n",
              "      width: 32px;\n",
              "    }\n",
              "\n",
              "    .colab-df-convert:hover {\n",
              "      background-color: #E2EBFA;\n",
              "      box-shadow: 0px 1px 2px rgba(60, 64, 67, 0.3), 0px 1px 3px 1px rgba(60, 64, 67, 0.15);\n",
              "      fill: #174EA6;\n",
              "    }\n",
              "\n",
              "    .colab-df-buttons div {\n",
              "      margin-bottom: 4px;\n",
              "    }\n",
              "\n",
              "    [theme=dark] .colab-df-convert {\n",
              "      background-color: #3B4455;\n",
              "      fill: #D2E3FC;\n",
              "    }\n",
              "\n",
              "    [theme=dark] .colab-df-convert:hover {\n",
              "      background-color: #434B5C;\n",
              "      box-shadow: 0px 1px 3px 1px rgba(0, 0, 0, 0.15);\n",
              "      filter: drop-shadow(0px 1px 2px rgba(0, 0, 0, 0.3));\n",
              "      fill: #FFFFFF;\n",
              "    }\n",
              "  </style>\n",
              "\n",
              "    <script>\n",
              "      const buttonEl =\n",
              "        document.querySelector('#df-fb4b1fba-062a-4b80-b509-f914bb0f2f13 button.colab-df-convert');\n",
              "      buttonEl.style.display =\n",
              "        google.colab.kernel.accessAllowed ? 'block' : 'none';\n",
              "\n",
              "      async function convertToInteractive(key) {\n",
              "        const element = document.querySelector('#df-fb4b1fba-062a-4b80-b509-f914bb0f2f13');\n",
              "        const dataTable =\n",
              "          await google.colab.kernel.invokeFunction('convertToInteractive',\n",
              "                                                    [key], {});\n",
              "        if (!dataTable) return;\n",
              "\n",
              "        const docLinkHtml = 'Like what you see? Visit the ' +\n",
              "          '<a target=\"_blank\" href=https://colab.research.google.com/notebooks/data_table.ipynb>data table notebook</a>'\n",
              "          + ' to learn more about interactive tables.';\n",
              "        element.innerHTML = '';\n",
              "        dataTable['output_type'] = 'display_data';\n",
              "        await google.colab.output.renderOutput(dataTable, element);\n",
              "        const docLink = document.createElement('div');\n",
              "        docLink.innerHTML = docLinkHtml;\n",
              "        element.appendChild(docLink);\n",
              "      }\n",
              "    </script>\n",
              "  </div>\n",
              "\n",
              "\n",
              "<div id=\"df-54173181-3b9f-4811-a2bd-26469a73b524\">\n",
              "  <button class=\"colab-df-quickchart\" onclick=\"quickchart('df-54173181-3b9f-4811-a2bd-26469a73b524')\"\n",
              "            title=\"Suggest charts\"\n",
              "            style=\"display:none;\">\n",
              "\n",
              "<svg xmlns=\"http://www.w3.org/2000/svg\" height=\"24px\"viewBox=\"0 0 24 24\"\n",
              "     width=\"24px\">\n",
              "    <g>\n",
              "        <path d=\"M19 3H5c-1.1 0-2 .9-2 2v14c0 1.1.9 2 2 2h14c1.1 0 2-.9 2-2V5c0-1.1-.9-2-2-2zM9 17H7v-7h2v7zm4 0h-2V7h2v10zm4 0h-2v-4h2v4z\"/>\n",
              "    </g>\n",
              "</svg>\n",
              "  </button>\n",
              "\n",
              "<style>\n",
              "  .colab-df-quickchart {\n",
              "      --bg-color: #E8F0FE;\n",
              "      --fill-color: #1967D2;\n",
              "      --hover-bg-color: #E2EBFA;\n",
              "      --hover-fill-color: #174EA6;\n",
              "      --disabled-fill-color: #AAA;\n",
              "      --disabled-bg-color: #DDD;\n",
              "  }\n",
              "\n",
              "  [theme=dark] .colab-df-quickchart {\n",
              "      --bg-color: #3B4455;\n",
              "      --fill-color: #D2E3FC;\n",
              "      --hover-bg-color: #434B5C;\n",
              "      --hover-fill-color: #FFFFFF;\n",
              "      --disabled-bg-color: #3B4455;\n",
              "      --disabled-fill-color: #666;\n",
              "  }\n",
              "\n",
              "  .colab-df-quickchart {\n",
              "    background-color: var(--bg-color);\n",
              "    border: none;\n",
              "    border-radius: 50%;\n",
              "    cursor: pointer;\n",
              "    display: none;\n",
              "    fill: var(--fill-color);\n",
              "    height: 32px;\n",
              "    padding: 0;\n",
              "    width: 32px;\n",
              "  }\n",
              "\n",
              "  .colab-df-quickchart:hover {\n",
              "    background-color: var(--hover-bg-color);\n",
              "    box-shadow: 0 1px 2px rgba(60, 64, 67, 0.3), 0 1px 3px 1px rgba(60, 64, 67, 0.15);\n",
              "    fill: var(--button-hover-fill-color);\n",
              "  }\n",
              "\n",
              "  .colab-df-quickchart-complete:disabled,\n",
              "  .colab-df-quickchart-complete:disabled:hover {\n",
              "    background-color: var(--disabled-bg-color);\n",
              "    fill: var(--disabled-fill-color);\n",
              "    box-shadow: none;\n",
              "  }\n",
              "\n",
              "  .colab-df-spinner {\n",
              "    border: 2px solid var(--fill-color);\n",
              "    border-color: transparent;\n",
              "    border-bottom-color: var(--fill-color);\n",
              "    animation:\n",
              "      spin 1s steps(1) infinite;\n",
              "  }\n",
              "\n",
              "  @keyframes spin {\n",
              "    0% {\n",
              "      border-color: transparent;\n",
              "      border-bottom-color: var(--fill-color);\n",
              "      border-left-color: var(--fill-color);\n",
              "    }\n",
              "    20% {\n",
              "      border-color: transparent;\n",
              "      border-left-color: var(--fill-color);\n",
              "      border-top-color: var(--fill-color);\n",
              "    }\n",
              "    30% {\n",
              "      border-color: transparent;\n",
              "      border-left-color: var(--fill-color);\n",
              "      border-top-color: var(--fill-color);\n",
              "      border-right-color: var(--fill-color);\n",
              "    }\n",
              "    40% {\n",
              "      border-color: transparent;\n",
              "      border-right-color: var(--fill-color);\n",
              "      border-top-color: var(--fill-color);\n",
              "    }\n",
              "    60% {\n",
              "      border-color: transparent;\n",
              "      border-right-color: var(--fill-color);\n",
              "    }\n",
              "    80% {\n",
              "      border-color: transparent;\n",
              "      border-right-color: var(--fill-color);\n",
              "      border-bottom-color: var(--fill-color);\n",
              "    }\n",
              "    90% {\n",
              "      border-color: transparent;\n",
              "      border-bottom-color: var(--fill-color);\n",
              "    }\n",
              "  }\n",
              "</style>\n",
              "\n",
              "  <script>\n",
              "    async function quickchart(key) {\n",
              "      const quickchartButtonEl =\n",
              "        document.querySelector('#' + key + ' button');\n",
              "      quickchartButtonEl.disabled = true;  // To prevent multiple clicks.\n",
              "      quickchartButtonEl.classList.add('colab-df-spinner');\n",
              "      try {\n",
              "        const charts = await google.colab.kernel.invokeFunction(\n",
              "            'suggestCharts', [key], {});\n",
              "      } catch (error) {\n",
              "        console.error('Error during call to suggestCharts:', error);\n",
              "      }\n",
              "      quickchartButtonEl.classList.remove('colab-df-spinner');\n",
              "      quickchartButtonEl.classList.add('colab-df-quickchart-complete');\n",
              "    }\n",
              "    (() => {\n",
              "      let quickchartButtonEl =\n",
              "        document.querySelector('#df-54173181-3b9f-4811-a2bd-26469a73b524 button');\n",
              "      quickchartButtonEl.style.display =\n",
              "        google.colab.kernel.accessAllowed ? 'block' : 'none';\n",
              "    })();\n",
              "  </script>\n",
              "</div>\n",
              "\n",
              "  <div id=\"id_97052c01-3628-4f31-bc03-441ada50c7e0\">\n",
              "    <style>\n",
              "      .colab-df-generate {\n",
              "        background-color: #E8F0FE;\n",
              "        border: none;\n",
              "        border-radius: 50%;\n",
              "        cursor: pointer;\n",
              "        display: none;\n",
              "        fill: #1967D2;\n",
              "        height: 32px;\n",
              "        padding: 0 0 0 0;\n",
              "        width: 32px;\n",
              "      }\n",
              "\n",
              "      .colab-df-generate:hover {\n",
              "        background-color: #E2EBFA;\n",
              "        box-shadow: 0px 1px 2px rgba(60, 64, 67, 0.3), 0px 1px 3px 1px rgba(60, 64, 67, 0.15);\n",
              "        fill: #174EA6;\n",
              "      }\n",
              "\n",
              "      [theme=dark] .colab-df-generate {\n",
              "        background-color: #3B4455;\n",
              "        fill: #D2E3FC;\n",
              "      }\n",
              "\n",
              "      [theme=dark] .colab-df-generate:hover {\n",
              "        background-color: #434B5C;\n",
              "        box-shadow: 0px 1px 3px 1px rgba(0, 0, 0, 0.15);\n",
              "        filter: drop-shadow(0px 1px 2px rgba(0, 0, 0, 0.3));\n",
              "        fill: #FFFFFF;\n",
              "      }\n",
              "    </style>\n",
              "    <button class=\"colab-df-generate\" onclick=\"generateWithVariable('test_pred_df')\"\n",
              "            title=\"Generate code using this dataframe.\"\n",
              "            style=\"display:none;\">\n",
              "\n",
              "  <svg xmlns=\"http://www.w3.org/2000/svg\" height=\"24px\"viewBox=\"0 0 24 24\"\n",
              "       width=\"24px\">\n",
              "    <path d=\"M7,19H8.4L18.45,9,17,7.55,7,17.6ZM5,21V16.75L18.45,3.32a2,2,0,0,1,2.83,0l1.4,1.43a1.91,1.91,0,0,1,.58,1.4,1.91,1.91,0,0,1-.58,1.4L9.25,21ZM18.45,9,17,7.55Zm-12,3A5.31,5.31,0,0,0,4.9,8.1,5.31,5.31,0,0,0,1,6.5,5.31,5.31,0,0,0,4.9,4.9,5.31,5.31,0,0,0,6.5,1,5.31,5.31,0,0,0,8.1,4.9,5.31,5.31,0,0,0,12,6.5,5.46,5.46,0,0,0,6.5,12Z\"/>\n",
              "  </svg>\n",
              "    </button>\n",
              "    <script>\n",
              "      (() => {\n",
              "      const buttonEl =\n",
              "        document.querySelector('#id_97052c01-3628-4f31-bc03-441ada50c7e0 button.colab-df-generate');\n",
              "      buttonEl.style.display =\n",
              "        google.colab.kernel.accessAllowed ? 'block' : 'none';\n",
              "\n",
              "      buttonEl.onclick = () => {\n",
              "        google.colab.notebook.generateWithVariable('test_pred_df');\n",
              "      }\n",
              "      })();\n",
              "    </script>\n",
              "  </div>\n",
              "\n",
              "    </div>\n",
              "  </div>\n"
            ],
            "text/plain": [
              "                                                y_pred\n",
              "0    ERROR ```json\\n{\\n  \"MinSalary\": \"\",\\n  \"MaxSa...\n",
              "1    ERROR ```json\\n{\\n  \"MinSalary\": \"50\",\\n  \"Max...\n",
              "2    ERROR ```json\\n{\"MinSalary\": 50000, \"MaxSalary...\n",
              "3    ERROR ```json\\n{\\n  \"MinSalary\": \"\",\\n  \"MaxSa...\n",
              "4    ERROR ```json\\n{\\n  \"MinSalary\": \"50\",\\n  \"Max...\n",
              "..                                                 ...\n",
              "562  ERROR ```json\\n{\\n    \"MinSalary\": \"\",\\n    \"M...\n",
              "563  ERROR ```json\\n{\\n    \"MinSalary\": \"$50,000\",\\...\n",
              "564  ERROR ```json\\n{\\n  \"MinSalary\": \"\",\\n  \"MaxSa...\n",
              "565  ERROR ```json\\n{\\n  \"MinSalary\": \"\",\\n  \"MaxSa...\n",
              "566  ERROR ```json\\n{\"Clue\":\"Salary Range: None\"}\\n```\n",
              "\n",
              "[567 rows x 1 columns]"
            ]
          },
          "execution_count": 20,
          "metadata": {},
          "output_type": "execute_result"
        }
      ],
      "source": [
        "test_pred_df"
      ]
    },
    {
      "cell_type": "code",
      "source": [
        "no_few_shot_df = pd.read_csv(\"salary_labelled_test_set_qwen_rbic_preds.csv\")"
      ],
      "metadata": {
        "colab": {
          "base_uri": "https://localhost:8080/",
          "height": 419
        },
        "id": "U3RYyxjnAOBr",
        "outputId": "2764e78e-c83e-4011-a5ba-f7b19d230f3a"
      },
      "execution_count": null,
      "outputs": [
        {
          "output_type": "execute_result",
          "data": {
            "text/plain": [
              "                                                y_pred\n",
              "0    ERROR ```json\\n{\\n  \"MinSalary\": \"\",\\n  \"MaxSa...\n",
              "1    ERROR ```json\\n{\\n  \"MinSalary\": \"50\",\\n  \"Max...\n",
              "2    ERROR ```json\\n{\"MinSalary\": 50000, \"MaxSalary...\n",
              "3    ERROR ```json\\n{\\n  \"MinSalary\": \"\",\\n  \"MaxSa...\n",
              "4    ERROR ```json\\n{\\n  \"MinSalary\": \"50\",\\n  \"Max...\n",
              "..                                                 ...\n",
              "562  ERROR ```json\\n{\\n    \"MinSalary\": \"\",\\n    \"M...\n",
              "563  ERROR ```json\\n{\\n    \"MinSalary\": \"$50,000\",\\...\n",
              "564  ERROR ```json\\n{\\n  \"MinSalary\": \"\",\\n  \"MaxSa...\n",
              "565  ERROR ```json\\n{\\n  \"MinSalary\": \"\",\\n  \"MaxSa...\n",
              "566  ERROR ```json\\n{\"Clue\":\"Salary Range: None\"}\\n```\n",
              "\n",
              "[567 rows x 1 columns]"
            ],
            "text/html": [
              "\n",
              "  <div id=\"df-b0254e64-4b21-4d9f-bd8f-8de30483474d\" class=\"colab-df-container\">\n",
              "    <div>\n",
              "<style scoped>\n",
              "    .dataframe tbody tr th:only-of-type {\n",
              "        vertical-align: middle;\n",
              "    }\n",
              "\n",
              "    .dataframe tbody tr th {\n",
              "        vertical-align: top;\n",
              "    }\n",
              "\n",
              "    .dataframe thead th {\n",
              "        text-align: right;\n",
              "    }\n",
              "</style>\n",
              "<table border=\"1\" class=\"dataframe\">\n",
              "  <thead>\n",
              "    <tr style=\"text-align: right;\">\n",
              "      <th></th>\n",
              "      <th>y_pred</th>\n",
              "    </tr>\n",
              "  </thead>\n",
              "  <tbody>\n",
              "    <tr>\n",
              "      <th>0</th>\n",
              "      <td>ERROR ```json\\n{\\n  \"MinSalary\": \"\",\\n  \"MaxSa...</td>\n",
              "    </tr>\n",
              "    <tr>\n",
              "      <th>1</th>\n",
              "      <td>ERROR ```json\\n{\\n  \"MinSalary\": \"50\",\\n  \"Max...</td>\n",
              "    </tr>\n",
              "    <tr>\n",
              "      <th>2</th>\n",
              "      <td>ERROR ```json\\n{\"MinSalary\": 50000, \"MaxSalary...</td>\n",
              "    </tr>\n",
              "    <tr>\n",
              "      <th>3</th>\n",
              "      <td>ERROR ```json\\n{\\n  \"MinSalary\": \"\",\\n  \"MaxSa...</td>\n",
              "    </tr>\n",
              "    <tr>\n",
              "      <th>4</th>\n",
              "      <td>ERROR ```json\\n{\\n  \"MinSalary\": \"50\",\\n  \"Max...</td>\n",
              "    </tr>\n",
              "    <tr>\n",
              "      <th>...</th>\n",
              "      <td>...</td>\n",
              "    </tr>\n",
              "    <tr>\n",
              "      <th>562</th>\n",
              "      <td>ERROR ```json\\n{\\n    \"MinSalary\": \"\",\\n    \"M...</td>\n",
              "    </tr>\n",
              "    <tr>\n",
              "      <th>563</th>\n",
              "      <td>ERROR ```json\\n{\\n    \"MinSalary\": \"$50,000\",\\...</td>\n",
              "    </tr>\n",
              "    <tr>\n",
              "      <th>564</th>\n",
              "      <td>ERROR ```json\\n{\\n  \"MinSalary\": \"\",\\n  \"MaxSa...</td>\n",
              "    </tr>\n",
              "    <tr>\n",
              "      <th>565</th>\n",
              "      <td>ERROR ```json\\n{\\n  \"MinSalary\": \"\",\\n  \"MaxSa...</td>\n",
              "    </tr>\n",
              "    <tr>\n",
              "      <th>566</th>\n",
              "      <td>ERROR ```json\\n{\"Clue\":\"Salary Range: None\"}\\n```</td>\n",
              "    </tr>\n",
              "  </tbody>\n",
              "</table>\n",
              "<p>567 rows × 1 columns</p>\n",
              "</div>\n",
              "    <div class=\"colab-df-buttons\">\n",
              "\n",
              "  <div class=\"colab-df-container\">\n",
              "    <button class=\"colab-df-convert\" onclick=\"convertToInteractive('df-b0254e64-4b21-4d9f-bd8f-8de30483474d')\"\n",
              "            title=\"Convert this dataframe to an interactive table.\"\n",
              "            style=\"display:none;\">\n",
              "\n",
              "  <svg xmlns=\"http://www.w3.org/2000/svg\" height=\"24px\" viewBox=\"0 -960 960 960\">\n",
              "    <path d=\"M120-120v-720h720v720H120Zm60-500h600v-160H180v160Zm220 220h160v-160H400v160Zm0 220h160v-160H400v160ZM180-400h160v-160H180v160Zm440 0h160v-160H620v160ZM180-180h160v-160H180v160Zm440 0h160v-160H620v160Z\"/>\n",
              "  </svg>\n",
              "    </button>\n",
              "\n",
              "  <style>\n",
              "    .colab-df-container {\n",
              "      display:flex;\n",
              "      gap: 12px;\n",
              "    }\n",
              "\n",
              "    .colab-df-convert {\n",
              "      background-color: #E8F0FE;\n",
              "      border: none;\n",
              "      border-radius: 50%;\n",
              "      cursor: pointer;\n",
              "      display: none;\n",
              "      fill: #1967D2;\n",
              "      height: 32px;\n",
              "      padding: 0 0 0 0;\n",
              "      width: 32px;\n",
              "    }\n",
              "\n",
              "    .colab-df-convert:hover {\n",
              "      background-color: #E2EBFA;\n",
              "      box-shadow: 0px 1px 2px rgba(60, 64, 67, 0.3), 0px 1px 3px 1px rgba(60, 64, 67, 0.15);\n",
              "      fill: #174EA6;\n",
              "    }\n",
              "\n",
              "    .colab-df-buttons div {\n",
              "      margin-bottom: 4px;\n",
              "    }\n",
              "\n",
              "    [theme=dark] .colab-df-convert {\n",
              "      background-color: #3B4455;\n",
              "      fill: #D2E3FC;\n",
              "    }\n",
              "\n",
              "    [theme=dark] .colab-df-convert:hover {\n",
              "      background-color: #434B5C;\n",
              "      box-shadow: 0px 1px 3px 1px rgba(0, 0, 0, 0.15);\n",
              "      filter: drop-shadow(0px 1px 2px rgba(0, 0, 0, 0.3));\n",
              "      fill: #FFFFFF;\n",
              "    }\n",
              "  </style>\n",
              "\n",
              "    <script>\n",
              "      const buttonEl =\n",
              "        document.querySelector('#df-b0254e64-4b21-4d9f-bd8f-8de30483474d button.colab-df-convert');\n",
              "      buttonEl.style.display =\n",
              "        google.colab.kernel.accessAllowed ? 'block' : 'none';\n",
              "\n",
              "      async function convertToInteractive(key) {\n",
              "        const element = document.querySelector('#df-b0254e64-4b21-4d9f-bd8f-8de30483474d');\n",
              "        const dataTable =\n",
              "          await google.colab.kernel.invokeFunction('convertToInteractive',\n",
              "                                                    [key], {});\n",
              "        if (!dataTable) return;\n",
              "\n",
              "        const docLinkHtml = 'Like what you see? Visit the ' +\n",
              "          '<a target=\"_blank\" href=https://colab.research.google.com/notebooks/data_table.ipynb>data table notebook</a>'\n",
              "          + ' to learn more about interactive tables.';\n",
              "        element.innerHTML = '';\n",
              "        dataTable['output_type'] = 'display_data';\n",
              "        await google.colab.output.renderOutput(dataTable, element);\n",
              "        const docLink = document.createElement('div');\n",
              "        docLink.innerHTML = docLinkHtml;\n",
              "        element.appendChild(docLink);\n",
              "      }\n",
              "    </script>\n",
              "  </div>\n",
              "\n",
              "\n",
              "    <div id=\"df-4ed5101b-9332-41f6-a58f-4d44c9a67265\">\n",
              "      <button class=\"colab-df-quickchart\" onclick=\"quickchart('df-4ed5101b-9332-41f6-a58f-4d44c9a67265')\"\n",
              "                title=\"Suggest charts\"\n",
              "                style=\"display:none;\">\n",
              "\n",
              "<svg xmlns=\"http://www.w3.org/2000/svg\" height=\"24px\"viewBox=\"0 0 24 24\"\n",
              "     width=\"24px\">\n",
              "    <g>\n",
              "        <path d=\"M19 3H5c-1.1 0-2 .9-2 2v14c0 1.1.9 2 2 2h14c1.1 0 2-.9 2-2V5c0-1.1-.9-2-2-2zM9 17H7v-7h2v7zm4 0h-2V7h2v10zm4 0h-2v-4h2v4z\"/>\n",
              "    </g>\n",
              "</svg>\n",
              "      </button>\n",
              "\n",
              "<style>\n",
              "  .colab-df-quickchart {\n",
              "      --bg-color: #E8F0FE;\n",
              "      --fill-color: #1967D2;\n",
              "      --hover-bg-color: #E2EBFA;\n",
              "      --hover-fill-color: #174EA6;\n",
              "      --disabled-fill-color: #AAA;\n",
              "      --disabled-bg-color: #DDD;\n",
              "  }\n",
              "\n",
              "  [theme=dark] .colab-df-quickchart {\n",
              "      --bg-color: #3B4455;\n",
              "      --fill-color: #D2E3FC;\n",
              "      --hover-bg-color: #434B5C;\n",
              "      --hover-fill-color: #FFFFFF;\n",
              "      --disabled-bg-color: #3B4455;\n",
              "      --disabled-fill-color: #666;\n",
              "  }\n",
              "\n",
              "  .colab-df-quickchart {\n",
              "    background-color: var(--bg-color);\n",
              "    border: none;\n",
              "    border-radius: 50%;\n",
              "    cursor: pointer;\n",
              "    display: none;\n",
              "    fill: var(--fill-color);\n",
              "    height: 32px;\n",
              "    padding: 0;\n",
              "    width: 32px;\n",
              "  }\n",
              "\n",
              "  .colab-df-quickchart:hover {\n",
              "    background-color: var(--hover-bg-color);\n",
              "    box-shadow: 0 1px 2px rgba(60, 64, 67, 0.3), 0 1px 3px 1px rgba(60, 64, 67, 0.15);\n",
              "    fill: var(--button-hover-fill-color);\n",
              "  }\n",
              "\n",
              "  .colab-df-quickchart-complete:disabled,\n",
              "  .colab-df-quickchart-complete:disabled:hover {\n",
              "    background-color: var(--disabled-bg-color);\n",
              "    fill: var(--disabled-fill-color);\n",
              "    box-shadow: none;\n",
              "  }\n",
              "\n",
              "  .colab-df-spinner {\n",
              "    border: 2px solid var(--fill-color);\n",
              "    border-color: transparent;\n",
              "    border-bottom-color: var(--fill-color);\n",
              "    animation:\n",
              "      spin 1s steps(1) infinite;\n",
              "  }\n",
              "\n",
              "  @keyframes spin {\n",
              "    0% {\n",
              "      border-color: transparent;\n",
              "      border-bottom-color: var(--fill-color);\n",
              "      border-left-color: var(--fill-color);\n",
              "    }\n",
              "    20% {\n",
              "      border-color: transparent;\n",
              "      border-left-color: var(--fill-color);\n",
              "      border-top-color: var(--fill-color);\n",
              "    }\n",
              "    30% {\n",
              "      border-color: transparent;\n",
              "      border-left-color: var(--fill-color);\n",
              "      border-top-color: var(--fill-color);\n",
              "      border-right-color: var(--fill-color);\n",
              "    }\n",
              "    40% {\n",
              "      border-color: transparent;\n",
              "      border-right-color: var(--fill-color);\n",
              "      border-top-color: var(--fill-color);\n",
              "    }\n",
              "    60% {\n",
              "      border-color: transparent;\n",
              "      border-right-color: var(--fill-color);\n",
              "    }\n",
              "    80% {\n",
              "      border-color: transparent;\n",
              "      border-right-color: var(--fill-color);\n",
              "      border-bottom-color: var(--fill-color);\n",
              "    }\n",
              "    90% {\n",
              "      border-color: transparent;\n",
              "      border-bottom-color: var(--fill-color);\n",
              "    }\n",
              "  }\n",
              "</style>\n",
              "\n",
              "      <script>\n",
              "        async function quickchart(key) {\n",
              "          const quickchartButtonEl =\n",
              "            document.querySelector('#' + key + ' button');\n",
              "          quickchartButtonEl.disabled = true;  // To prevent multiple clicks.\n",
              "          quickchartButtonEl.classList.add('colab-df-spinner');\n",
              "          try {\n",
              "            const charts = await google.colab.kernel.invokeFunction(\n",
              "                'suggestCharts', [key], {});\n",
              "          } catch (error) {\n",
              "            console.error('Error during call to suggestCharts:', error);\n",
              "          }\n",
              "          quickchartButtonEl.classList.remove('colab-df-spinner');\n",
              "          quickchartButtonEl.classList.add('colab-df-quickchart-complete');\n",
              "        }\n",
              "        (() => {\n",
              "          let quickchartButtonEl =\n",
              "            document.querySelector('#df-4ed5101b-9332-41f6-a58f-4d44c9a67265 button');\n",
              "          quickchartButtonEl.style.display =\n",
              "            google.colab.kernel.accessAllowed ? 'block' : 'none';\n",
              "        })();\n",
              "      </script>\n",
              "    </div>\n",
              "\n",
              "    </div>\n",
              "  </div>\n"
            ],
            "application/vnd.google.colaboratory.intrinsic+json": {
              "type": "dataframe",
              "summary": "{\n  \"name\": \"pd\",\n  \"rows\": 567,\n  \"fields\": [\n    {\n      \"column\": \"y_pred\",\n      \"properties\": {\n        \"dtype\": \"category\",\n        \"num_unique_values\": 162,\n        \"samples\": [\n          \"$33-$38-USD-MONTHLY\",\n          \"ERROR ```json\\n{\\\"MinSalary\\\": \\\"24.69\\\", \\\"MaxSalary\\\": \\\"70\\\", \\\"Currency\\\": \\\"USD\\\", \\\"Frequency\\\": \\\"Monthly\\\"}\\n```\",\n          \"ERROR ```json\\n{\\n  \\\"MinSalary\\\": \\\"\\\",\\n  \\\"MaxSalary\\\": \\\"\\\",\\n  \\\"Currency\\\": \\\"HKD\\\",\\n  \\\"Frequency\\\": \\\"Monthly\\\"\\n}\\n```\"\n        ],\n        \"semantic_type\": \"\",\n        \"description\": \"\"\n      }\n    }\n  ]\n}"
            }
          },
          "metadata": {},
          "execution_count": 122
        }
      ]
    },
    {
      "cell_type": "markdown",
      "metadata": {
        "id": "5zjmBjrXwpyd"
      },
      "source": [
        "### **Post processing no few shot**\n"
      ]
    },
    {
      "cell_type": "code",
      "source": [
        "no_few_shot_df = pd.read_csv(\"salary_labelled_test_set_qwen_rbic_preds.csv\")\n",
        "no_few_shot_df"
      ],
      "metadata": {
        "colab": {
          "base_uri": "https://localhost:8080/",
          "height": 419
        },
        "id": "z1aa7InA97t9",
        "outputId": "a6c1e266-6ee1-4754-888f-67d90620d769"
      },
      "execution_count": null,
      "outputs": [
        {
          "output_type": "execute_result",
          "data": {
            "text/plain": [
              "                                                y_pred\n",
              "0    ERROR ```json\\n{\\n  \"MinSalary\": \"\",\\n  \"MaxSa...\n",
              "1    ERROR ```json\\n{\\n  \"MinSalary\": \"50\",\\n  \"Max...\n",
              "2    ERROR ```json\\n{\"MinSalary\": 50000, \"MaxSalary...\n",
              "3    ERROR ```json\\n{\\n  \"MinSalary\": \"\",\\n  \"MaxSa...\n",
              "4    ERROR ```json\\n{\\n  \"MinSalary\": \"50\",\\n  \"Max...\n",
              "..                                                 ...\n",
              "562  ERROR ```json\\n{\\n    \"MinSalary\": \"\",\\n    \"M...\n",
              "563  ERROR ```json\\n{\\n    \"MinSalary\": \"$50,000\",\\...\n",
              "564  ERROR ```json\\n{\\n  \"MinSalary\": \"\",\\n  \"MaxSa...\n",
              "565  ERROR ```json\\n{\\n  \"MinSalary\": \"\",\\n  \"MaxSa...\n",
              "566  ERROR ```json\\n{\"Clue\":\"Salary Range: None\"}\\n```\n",
              "\n",
              "[567 rows x 1 columns]"
            ],
            "text/html": [
              "\n",
              "  <div id=\"df-5141ac95-8e4a-40a5-a3c3-bb422906d01c\" class=\"colab-df-container\">\n",
              "    <div>\n",
              "<style scoped>\n",
              "    .dataframe tbody tr th:only-of-type {\n",
              "        vertical-align: middle;\n",
              "    }\n",
              "\n",
              "    .dataframe tbody tr th {\n",
              "        vertical-align: top;\n",
              "    }\n",
              "\n",
              "    .dataframe thead th {\n",
              "        text-align: right;\n",
              "    }\n",
              "</style>\n",
              "<table border=\"1\" class=\"dataframe\">\n",
              "  <thead>\n",
              "    <tr style=\"text-align: right;\">\n",
              "      <th></th>\n",
              "      <th>y_pred</th>\n",
              "    </tr>\n",
              "  </thead>\n",
              "  <tbody>\n",
              "    <tr>\n",
              "      <th>0</th>\n",
              "      <td>ERROR ```json\\n{\\n  \"MinSalary\": \"\",\\n  \"MaxSa...</td>\n",
              "    </tr>\n",
              "    <tr>\n",
              "      <th>1</th>\n",
              "      <td>ERROR ```json\\n{\\n  \"MinSalary\": \"50\",\\n  \"Max...</td>\n",
              "    </tr>\n",
              "    <tr>\n",
              "      <th>2</th>\n",
              "      <td>ERROR ```json\\n{\"MinSalary\": 50000, \"MaxSalary...</td>\n",
              "    </tr>\n",
              "    <tr>\n",
              "      <th>3</th>\n",
              "      <td>ERROR ```json\\n{\\n  \"MinSalary\": \"\",\\n  \"MaxSa...</td>\n",
              "    </tr>\n",
              "    <tr>\n",
              "      <th>4</th>\n",
              "      <td>ERROR ```json\\n{\\n  \"MinSalary\": \"50\",\\n  \"Max...</td>\n",
              "    </tr>\n",
              "    <tr>\n",
              "      <th>...</th>\n",
              "      <td>...</td>\n",
              "    </tr>\n",
              "    <tr>\n",
              "      <th>562</th>\n",
              "      <td>ERROR ```json\\n{\\n    \"MinSalary\": \"\",\\n    \"M...</td>\n",
              "    </tr>\n",
              "    <tr>\n",
              "      <th>563</th>\n",
              "      <td>ERROR ```json\\n{\\n    \"MinSalary\": \"$50,000\",\\...</td>\n",
              "    </tr>\n",
              "    <tr>\n",
              "      <th>564</th>\n",
              "      <td>ERROR ```json\\n{\\n  \"MinSalary\": \"\",\\n  \"MaxSa...</td>\n",
              "    </tr>\n",
              "    <tr>\n",
              "      <th>565</th>\n",
              "      <td>ERROR ```json\\n{\\n  \"MinSalary\": \"\",\\n  \"MaxSa...</td>\n",
              "    </tr>\n",
              "    <tr>\n",
              "      <th>566</th>\n",
              "      <td>ERROR ```json\\n{\"Clue\":\"Salary Range: None\"}\\n```</td>\n",
              "    </tr>\n",
              "  </tbody>\n",
              "</table>\n",
              "<p>567 rows × 1 columns</p>\n",
              "</div>\n",
              "    <div class=\"colab-df-buttons\">\n",
              "\n",
              "  <div class=\"colab-df-container\">\n",
              "    <button class=\"colab-df-convert\" onclick=\"convertToInteractive('df-5141ac95-8e4a-40a5-a3c3-bb422906d01c')\"\n",
              "            title=\"Convert this dataframe to an interactive table.\"\n",
              "            style=\"display:none;\">\n",
              "\n",
              "  <svg xmlns=\"http://www.w3.org/2000/svg\" height=\"24px\" viewBox=\"0 -960 960 960\">\n",
              "    <path d=\"M120-120v-720h720v720H120Zm60-500h600v-160H180v160Zm220 220h160v-160H400v160Zm0 220h160v-160H400v160ZM180-400h160v-160H180v160Zm440 0h160v-160H620v160ZM180-180h160v-160H180v160Zm440 0h160v-160H620v160Z\"/>\n",
              "  </svg>\n",
              "    </button>\n",
              "\n",
              "  <style>\n",
              "    .colab-df-container {\n",
              "      display:flex;\n",
              "      gap: 12px;\n",
              "    }\n",
              "\n",
              "    .colab-df-convert {\n",
              "      background-color: #E8F0FE;\n",
              "      border: none;\n",
              "      border-radius: 50%;\n",
              "      cursor: pointer;\n",
              "      display: none;\n",
              "      fill: #1967D2;\n",
              "      height: 32px;\n",
              "      padding: 0 0 0 0;\n",
              "      width: 32px;\n",
              "    }\n",
              "\n",
              "    .colab-df-convert:hover {\n",
              "      background-color: #E2EBFA;\n",
              "      box-shadow: 0px 1px 2px rgba(60, 64, 67, 0.3), 0px 1px 3px 1px rgba(60, 64, 67, 0.15);\n",
              "      fill: #174EA6;\n",
              "    }\n",
              "\n",
              "    .colab-df-buttons div {\n",
              "      margin-bottom: 4px;\n",
              "    }\n",
              "\n",
              "    [theme=dark] .colab-df-convert {\n",
              "      background-color: #3B4455;\n",
              "      fill: #D2E3FC;\n",
              "    }\n",
              "\n",
              "    [theme=dark] .colab-df-convert:hover {\n",
              "      background-color: #434B5C;\n",
              "      box-shadow: 0px 1px 3px 1px rgba(0, 0, 0, 0.15);\n",
              "      filter: drop-shadow(0px 1px 2px rgba(0, 0, 0, 0.3));\n",
              "      fill: #FFFFFF;\n",
              "    }\n",
              "  </style>\n",
              "\n",
              "    <script>\n",
              "      const buttonEl =\n",
              "        document.querySelector('#df-5141ac95-8e4a-40a5-a3c3-bb422906d01c button.colab-df-convert');\n",
              "      buttonEl.style.display =\n",
              "        google.colab.kernel.accessAllowed ? 'block' : 'none';\n",
              "\n",
              "      async function convertToInteractive(key) {\n",
              "        const element = document.querySelector('#df-5141ac95-8e4a-40a5-a3c3-bb422906d01c');\n",
              "        const dataTable =\n",
              "          await google.colab.kernel.invokeFunction('convertToInteractive',\n",
              "                                                    [key], {});\n",
              "        if (!dataTable) return;\n",
              "\n",
              "        const docLinkHtml = 'Like what you see? Visit the ' +\n",
              "          '<a target=\"_blank\" href=https://colab.research.google.com/notebooks/data_table.ipynb>data table notebook</a>'\n",
              "          + ' to learn more about interactive tables.';\n",
              "        element.innerHTML = '';\n",
              "        dataTable['output_type'] = 'display_data';\n",
              "        await google.colab.output.renderOutput(dataTable, element);\n",
              "        const docLink = document.createElement('div');\n",
              "        docLink.innerHTML = docLinkHtml;\n",
              "        element.appendChild(docLink);\n",
              "      }\n",
              "    </script>\n",
              "  </div>\n",
              "\n",
              "\n",
              "    <div id=\"df-dc3b970e-52d7-4bac-bb5f-0a1a0a12ca77\">\n",
              "      <button class=\"colab-df-quickchart\" onclick=\"quickchart('df-dc3b970e-52d7-4bac-bb5f-0a1a0a12ca77')\"\n",
              "                title=\"Suggest charts\"\n",
              "                style=\"display:none;\">\n",
              "\n",
              "<svg xmlns=\"http://www.w3.org/2000/svg\" height=\"24px\"viewBox=\"0 0 24 24\"\n",
              "     width=\"24px\">\n",
              "    <g>\n",
              "        <path d=\"M19 3H5c-1.1 0-2 .9-2 2v14c0 1.1.9 2 2 2h14c1.1 0 2-.9 2-2V5c0-1.1-.9-2-2-2zM9 17H7v-7h2v7zm4 0h-2V7h2v10zm4 0h-2v-4h2v4z\"/>\n",
              "    </g>\n",
              "</svg>\n",
              "      </button>\n",
              "\n",
              "<style>\n",
              "  .colab-df-quickchart {\n",
              "      --bg-color: #E8F0FE;\n",
              "      --fill-color: #1967D2;\n",
              "      --hover-bg-color: #E2EBFA;\n",
              "      --hover-fill-color: #174EA6;\n",
              "      --disabled-fill-color: #AAA;\n",
              "      --disabled-bg-color: #DDD;\n",
              "  }\n",
              "\n",
              "  [theme=dark] .colab-df-quickchart {\n",
              "      --bg-color: #3B4455;\n",
              "      --fill-color: #D2E3FC;\n",
              "      --hover-bg-color: #434B5C;\n",
              "      --hover-fill-color: #FFFFFF;\n",
              "      --disabled-bg-color: #3B4455;\n",
              "      --disabled-fill-color: #666;\n",
              "  }\n",
              "\n",
              "  .colab-df-quickchart {\n",
              "    background-color: var(--bg-color);\n",
              "    border: none;\n",
              "    border-radius: 50%;\n",
              "    cursor: pointer;\n",
              "    display: none;\n",
              "    fill: var(--fill-color);\n",
              "    height: 32px;\n",
              "    padding: 0;\n",
              "    width: 32px;\n",
              "  }\n",
              "\n",
              "  .colab-df-quickchart:hover {\n",
              "    background-color: var(--hover-bg-color);\n",
              "    box-shadow: 0 1px 2px rgba(60, 64, 67, 0.3), 0 1px 3px 1px rgba(60, 64, 67, 0.15);\n",
              "    fill: var(--button-hover-fill-color);\n",
              "  }\n",
              "\n",
              "  .colab-df-quickchart-complete:disabled,\n",
              "  .colab-df-quickchart-complete:disabled:hover {\n",
              "    background-color: var(--disabled-bg-color);\n",
              "    fill: var(--disabled-fill-color);\n",
              "    box-shadow: none;\n",
              "  }\n",
              "\n",
              "  .colab-df-spinner {\n",
              "    border: 2px solid var(--fill-color);\n",
              "    border-color: transparent;\n",
              "    border-bottom-color: var(--fill-color);\n",
              "    animation:\n",
              "      spin 1s steps(1) infinite;\n",
              "  }\n",
              "\n",
              "  @keyframes spin {\n",
              "    0% {\n",
              "      border-color: transparent;\n",
              "      border-bottom-color: var(--fill-color);\n",
              "      border-left-color: var(--fill-color);\n",
              "    }\n",
              "    20% {\n",
              "      border-color: transparent;\n",
              "      border-left-color: var(--fill-color);\n",
              "      border-top-color: var(--fill-color);\n",
              "    }\n",
              "    30% {\n",
              "      border-color: transparent;\n",
              "      border-left-color: var(--fill-color);\n",
              "      border-top-color: var(--fill-color);\n",
              "      border-right-color: var(--fill-color);\n",
              "    }\n",
              "    40% {\n",
              "      border-color: transparent;\n",
              "      border-right-color: var(--fill-color);\n",
              "      border-top-color: var(--fill-color);\n",
              "    }\n",
              "    60% {\n",
              "      border-color: transparent;\n",
              "      border-right-color: var(--fill-color);\n",
              "    }\n",
              "    80% {\n",
              "      border-color: transparent;\n",
              "      border-right-color: var(--fill-color);\n",
              "      border-bottom-color: var(--fill-color);\n",
              "    }\n",
              "    90% {\n",
              "      border-color: transparent;\n",
              "      border-bottom-color: var(--fill-color);\n",
              "    }\n",
              "  }\n",
              "</style>\n",
              "\n",
              "      <script>\n",
              "        async function quickchart(key) {\n",
              "          const quickchartButtonEl =\n",
              "            document.querySelector('#' + key + ' button');\n",
              "          quickchartButtonEl.disabled = true;  // To prevent multiple clicks.\n",
              "          quickchartButtonEl.classList.add('colab-df-spinner');\n",
              "          try {\n",
              "            const charts = await google.colab.kernel.invokeFunction(\n",
              "                'suggestCharts', [key], {});\n",
              "          } catch (error) {\n",
              "            console.error('Error during call to suggestCharts:', error);\n",
              "          }\n",
              "          quickchartButtonEl.classList.remove('colab-df-spinner');\n",
              "          quickchartButtonEl.classList.add('colab-df-quickchart-complete');\n",
              "        }\n",
              "        (() => {\n",
              "          let quickchartButtonEl =\n",
              "            document.querySelector('#df-dc3b970e-52d7-4bac-bb5f-0a1a0a12ca77 button');\n",
              "          quickchartButtonEl.style.display =\n",
              "            google.colab.kernel.accessAllowed ? 'block' : 'none';\n",
              "        })();\n",
              "      </script>\n",
              "    </div>\n",
              "\n",
              "  <div id=\"id_1bd36dca-4b75-4d2a-a1bb-3e06fb2792a8\">\n",
              "    <style>\n",
              "      .colab-df-generate {\n",
              "        background-color: #E8F0FE;\n",
              "        border: none;\n",
              "        border-radius: 50%;\n",
              "        cursor: pointer;\n",
              "        display: none;\n",
              "        fill: #1967D2;\n",
              "        height: 32px;\n",
              "        padding: 0 0 0 0;\n",
              "        width: 32px;\n",
              "      }\n",
              "\n",
              "      .colab-df-generate:hover {\n",
              "        background-color: #E2EBFA;\n",
              "        box-shadow: 0px 1px 2px rgba(60, 64, 67, 0.3), 0px 1px 3px 1px rgba(60, 64, 67, 0.15);\n",
              "        fill: #174EA6;\n",
              "      }\n",
              "\n",
              "      [theme=dark] .colab-df-generate {\n",
              "        background-color: #3B4455;\n",
              "        fill: #D2E3FC;\n",
              "      }\n",
              "\n",
              "      [theme=dark] .colab-df-generate:hover {\n",
              "        background-color: #434B5C;\n",
              "        box-shadow: 0px 1px 3px 1px rgba(0, 0, 0, 0.15);\n",
              "        filter: drop-shadow(0px 1px 2px rgba(0, 0, 0, 0.3));\n",
              "        fill: #FFFFFF;\n",
              "      }\n",
              "    </style>\n",
              "    <button class=\"colab-df-generate\" onclick=\"generateWithVariable('no_few_shot_df')\"\n",
              "            title=\"Generate code using this dataframe.\"\n",
              "            style=\"display:none;\">\n",
              "\n",
              "  <svg xmlns=\"http://www.w3.org/2000/svg\" height=\"24px\"viewBox=\"0 0 24 24\"\n",
              "       width=\"24px\">\n",
              "    <path d=\"M7,19H8.4L18.45,9,17,7.55,7,17.6ZM5,21V16.75L18.45,3.32a2,2,0,0,1,2.83,0l1.4,1.43a1.91,1.91,0,0,1,.58,1.4,1.91,1.91,0,0,1-.58,1.4L9.25,21ZM18.45,9,17,7.55Zm-12,3A5.31,5.31,0,0,0,4.9,8.1,5.31,5.31,0,0,0,1,6.5,5.31,5.31,0,0,0,4.9,4.9,5.31,5.31,0,0,0,6.5,1,5.31,5.31,0,0,0,8.1,4.9,5.31,5.31,0,0,0,12,6.5,5.46,5.46,0,0,0,6.5,12Z\"/>\n",
              "  </svg>\n",
              "    </button>\n",
              "    <script>\n",
              "      (() => {\n",
              "      const buttonEl =\n",
              "        document.querySelector('#id_1bd36dca-4b75-4d2a-a1bb-3e06fb2792a8 button.colab-df-generate');\n",
              "      buttonEl.style.display =\n",
              "        google.colab.kernel.accessAllowed ? 'block' : 'none';\n",
              "\n",
              "      buttonEl.onclick = () => {\n",
              "        google.colab.notebook.generateWithVariable('no_few_shot_df');\n",
              "      }\n",
              "      })();\n",
              "    </script>\n",
              "  </div>\n",
              "\n",
              "    </div>\n",
              "  </div>\n"
            ],
            "application/vnd.google.colaboratory.intrinsic+json": {
              "type": "dataframe",
              "variable_name": "no_few_shot_df",
              "summary": "{\n  \"name\": \"no_few_shot_df\",\n  \"rows\": 567,\n  \"fields\": [\n    {\n      \"column\": \"y_pred\",\n      \"properties\": {\n        \"dtype\": \"category\",\n        \"num_unique_values\": 162,\n        \"samples\": [\n          \"$33-$38-USD-MONTHLY\",\n          \"ERROR ```json\\n{\\\"MinSalary\\\": \\\"24.69\\\", \\\"MaxSalary\\\": \\\"70\\\", \\\"Currency\\\": \\\"USD\\\", \\\"Frequency\\\": \\\"Monthly\\\"}\\n```\",\n          \"ERROR ```json\\n{\\n  \\\"MinSalary\\\": \\\"\\\",\\n  \\\"MaxSalary\\\": \\\"\\\",\\n  \\\"Currency\\\": \\\"HKD\\\",\\n  \\\"Frequency\\\": \\\"Monthly\\\"\\n}\\n```\"\n        ],\n        \"semantic_type\": \"\",\n        \"description\": \"\"\n      }\n    }\n  ]\n}"
            }
          },
          "metadata": {},
          "execution_count": 103
        }
      ]
    },
    {
      "cell_type": "code",
      "execution_count": null,
      "metadata": {
        "id": "TPgyguXwl28k"
      },
      "outputs": [],
      "source": [
        "post_process_df = pd.DataFrame(columns=[\"y_pred\"])"
      ]
    },
    {
      "cell_type": "code",
      "source": [
        "post_process_df = no_few_shot_df"
      ],
      "metadata": {
        "id": "ykynNuXQ-qJV"
      },
      "execution_count": null,
      "outputs": []
    },
    {
      "cell_type": "code",
      "execution_count": null,
      "metadata": {
        "id": "3zCE-aKuwr2i"
      },
      "outputs": [],
      "source": [
        "for i in no_few_shot_df.index:\n",
        "  prediction = no_few_shot_df.iloc[i].y_pred\n",
        "  if \"ERROR\" in no_few_shot_df.iloc[i].y_pred :\n",
        "    cleaned_text = prediction.replace(\"ERROR\", \"\").replace(\"```json\", \"\").replace(\"```\", \"\").strip()\n",
        "\n",
        "    # remove any \"}}\" at the end\n",
        "    cleaned_text = cleaned_text.replace(\"}}\", \"}\")\n",
        "    clue_json = cleaned_text[cleaned_text.find('{'):cleaned_text.find('}') + 1]\n",
        "    if \"Clue\" in cleaned_text and \"MinSalary\" in cleaned_text and \"MinSalary\" not in clue_json:\n",
        "      escaped_clue_json = re.escape(clue_json)\n",
        "      cleaned_text = re.sub(escaped_clue_json + r',?\\s*', '', cleaned_text)\n",
        "    try:\n",
        "      if \"Clue\" in cleaned_text:\n",
        "        loaded = json.loads(cleaned_text)\n",
        "        label = f\"{loaded['Clue']}\"\n",
        "      else:\n",
        "        loaded = json.loads(cleaned_text)\n",
        "        label = f\"{loaded['MinSalary']}-{loaded['MaxSalary']}-{loaded['Currency'].upper()}-{loaded['Frequency'].upper()}\"\n",
        "      post_process_df.loc[i, 'y_pred'] = label\n",
        "    except:\n",
        "      # not a json element or valid output tag\n",
        "      post_process_df .loc[i, 'y_pred'] = cleaned_text\n",
        "\n",
        "\n",
        "# post_process_df.to_csv('2_post_processed_salary_labelled_test_set_qwen_rbic_preds.csv', index=False)\n",
        "\n"
      ]
    },
    {
      "cell_type": "code",
      "source": [
        "post_process_df"
      ],
      "metadata": {
        "colab": {
          "base_uri": "https://localhost:8080/",
          "height": 419
        },
        "id": "NAnLzOny-yYO",
        "outputId": "91d5afa2-0a88-49fc-aff6-ee0a1f5bcd35"
      },
      "execution_count": null,
      "outputs": [
        {
          "output_type": "execute_result",
          "data": {
            "text/plain": [
              "                          y_pred\n",
              "0                  --USD-MONTHLY\n",
              "1              50-70-USD-MONTHLY\n",
              "2        50000-70000-USD-MONTHLY\n",
              "3                  --USD-MONTHLY\n",
              "4              50-70-USD-MONTHLY\n",
              "..                           ...\n",
              "562                --USD-MONTHLY\n",
              "563  $50,000-$70,000-USD-MONTHLY\n",
              "564                --USD-MONTHLY\n",
              "565                --USD-MONTHLY\n",
              "566           Salary Range: None\n",
              "\n",
              "[567 rows x 1 columns]"
            ],
            "text/html": [
              "\n",
              "  <div id=\"df-20874014-bdc0-4ae2-8198-33c7c65a4de2\" class=\"colab-df-container\">\n",
              "    <div>\n",
              "<style scoped>\n",
              "    .dataframe tbody tr th:only-of-type {\n",
              "        vertical-align: middle;\n",
              "    }\n",
              "\n",
              "    .dataframe tbody tr th {\n",
              "        vertical-align: top;\n",
              "    }\n",
              "\n",
              "    .dataframe thead th {\n",
              "        text-align: right;\n",
              "    }\n",
              "</style>\n",
              "<table border=\"1\" class=\"dataframe\">\n",
              "  <thead>\n",
              "    <tr style=\"text-align: right;\">\n",
              "      <th></th>\n",
              "      <th>y_pred</th>\n",
              "    </tr>\n",
              "  </thead>\n",
              "  <tbody>\n",
              "    <tr>\n",
              "      <th>0</th>\n",
              "      <td>--USD-MONTHLY</td>\n",
              "    </tr>\n",
              "    <tr>\n",
              "      <th>1</th>\n",
              "      <td>50-70-USD-MONTHLY</td>\n",
              "    </tr>\n",
              "    <tr>\n",
              "      <th>2</th>\n",
              "      <td>50000-70000-USD-MONTHLY</td>\n",
              "    </tr>\n",
              "    <tr>\n",
              "      <th>3</th>\n",
              "      <td>--USD-MONTHLY</td>\n",
              "    </tr>\n",
              "    <tr>\n",
              "      <th>4</th>\n",
              "      <td>50-70-USD-MONTHLY</td>\n",
              "    </tr>\n",
              "    <tr>\n",
              "      <th>...</th>\n",
              "      <td>...</td>\n",
              "    </tr>\n",
              "    <tr>\n",
              "      <th>562</th>\n",
              "      <td>--USD-MONTHLY</td>\n",
              "    </tr>\n",
              "    <tr>\n",
              "      <th>563</th>\n",
              "      <td>$50,000-$70,000-USD-MONTHLY</td>\n",
              "    </tr>\n",
              "    <tr>\n",
              "      <th>564</th>\n",
              "      <td>--USD-MONTHLY</td>\n",
              "    </tr>\n",
              "    <tr>\n",
              "      <th>565</th>\n",
              "      <td>--USD-MONTHLY</td>\n",
              "    </tr>\n",
              "    <tr>\n",
              "      <th>566</th>\n",
              "      <td>Salary Range: None</td>\n",
              "    </tr>\n",
              "  </tbody>\n",
              "</table>\n",
              "<p>567 rows × 1 columns</p>\n",
              "</div>\n",
              "    <div class=\"colab-df-buttons\">\n",
              "\n",
              "  <div class=\"colab-df-container\">\n",
              "    <button class=\"colab-df-convert\" onclick=\"convertToInteractive('df-20874014-bdc0-4ae2-8198-33c7c65a4de2')\"\n",
              "            title=\"Convert this dataframe to an interactive table.\"\n",
              "            style=\"display:none;\">\n",
              "\n",
              "  <svg xmlns=\"http://www.w3.org/2000/svg\" height=\"24px\" viewBox=\"0 -960 960 960\">\n",
              "    <path d=\"M120-120v-720h720v720H120Zm60-500h600v-160H180v160Zm220 220h160v-160H400v160Zm0 220h160v-160H400v160ZM180-400h160v-160H180v160Zm440 0h160v-160H620v160ZM180-180h160v-160H180v160Zm440 0h160v-160H620v160Z\"/>\n",
              "  </svg>\n",
              "    </button>\n",
              "\n",
              "  <style>\n",
              "    .colab-df-container {\n",
              "      display:flex;\n",
              "      gap: 12px;\n",
              "    }\n",
              "\n",
              "    .colab-df-convert {\n",
              "      background-color: #E8F0FE;\n",
              "      border: none;\n",
              "      border-radius: 50%;\n",
              "      cursor: pointer;\n",
              "      display: none;\n",
              "      fill: #1967D2;\n",
              "      height: 32px;\n",
              "      padding: 0 0 0 0;\n",
              "      width: 32px;\n",
              "    }\n",
              "\n",
              "    .colab-df-convert:hover {\n",
              "      background-color: #E2EBFA;\n",
              "      box-shadow: 0px 1px 2px rgba(60, 64, 67, 0.3), 0px 1px 3px 1px rgba(60, 64, 67, 0.15);\n",
              "      fill: #174EA6;\n",
              "    }\n",
              "\n",
              "    .colab-df-buttons div {\n",
              "      margin-bottom: 4px;\n",
              "    }\n",
              "\n",
              "    [theme=dark] .colab-df-convert {\n",
              "      background-color: #3B4455;\n",
              "      fill: #D2E3FC;\n",
              "    }\n",
              "\n",
              "    [theme=dark] .colab-df-convert:hover {\n",
              "      background-color: #434B5C;\n",
              "      box-shadow: 0px 1px 3px 1px rgba(0, 0, 0, 0.15);\n",
              "      filter: drop-shadow(0px 1px 2px rgba(0, 0, 0, 0.3));\n",
              "      fill: #FFFFFF;\n",
              "    }\n",
              "  </style>\n",
              "\n",
              "    <script>\n",
              "      const buttonEl =\n",
              "        document.querySelector('#df-20874014-bdc0-4ae2-8198-33c7c65a4de2 button.colab-df-convert');\n",
              "      buttonEl.style.display =\n",
              "        google.colab.kernel.accessAllowed ? 'block' : 'none';\n",
              "\n",
              "      async function convertToInteractive(key) {\n",
              "        const element = document.querySelector('#df-20874014-bdc0-4ae2-8198-33c7c65a4de2');\n",
              "        const dataTable =\n",
              "          await google.colab.kernel.invokeFunction('convertToInteractive',\n",
              "                                                    [key], {});\n",
              "        if (!dataTable) return;\n",
              "\n",
              "        const docLinkHtml = 'Like what you see? Visit the ' +\n",
              "          '<a target=\"_blank\" href=https://colab.research.google.com/notebooks/data_table.ipynb>data table notebook</a>'\n",
              "          + ' to learn more about interactive tables.';\n",
              "        element.innerHTML = '';\n",
              "        dataTable['output_type'] = 'display_data';\n",
              "        await google.colab.output.renderOutput(dataTable, element);\n",
              "        const docLink = document.createElement('div');\n",
              "        docLink.innerHTML = docLinkHtml;\n",
              "        element.appendChild(docLink);\n",
              "      }\n",
              "    </script>\n",
              "  </div>\n",
              "\n",
              "\n",
              "    <div id=\"df-0fdce328-8056-41dd-b648-98a7c6b29d16\">\n",
              "      <button class=\"colab-df-quickchart\" onclick=\"quickchart('df-0fdce328-8056-41dd-b648-98a7c6b29d16')\"\n",
              "                title=\"Suggest charts\"\n",
              "                style=\"display:none;\">\n",
              "\n",
              "<svg xmlns=\"http://www.w3.org/2000/svg\" height=\"24px\"viewBox=\"0 0 24 24\"\n",
              "     width=\"24px\">\n",
              "    <g>\n",
              "        <path d=\"M19 3H5c-1.1 0-2 .9-2 2v14c0 1.1.9 2 2 2h14c1.1 0 2-.9 2-2V5c0-1.1-.9-2-2-2zM9 17H7v-7h2v7zm4 0h-2V7h2v10zm4 0h-2v-4h2v4z\"/>\n",
              "    </g>\n",
              "</svg>\n",
              "      </button>\n",
              "\n",
              "<style>\n",
              "  .colab-df-quickchart {\n",
              "      --bg-color: #E8F0FE;\n",
              "      --fill-color: #1967D2;\n",
              "      --hover-bg-color: #E2EBFA;\n",
              "      --hover-fill-color: #174EA6;\n",
              "      --disabled-fill-color: #AAA;\n",
              "      --disabled-bg-color: #DDD;\n",
              "  }\n",
              "\n",
              "  [theme=dark] .colab-df-quickchart {\n",
              "      --bg-color: #3B4455;\n",
              "      --fill-color: #D2E3FC;\n",
              "      --hover-bg-color: #434B5C;\n",
              "      --hover-fill-color: #FFFFFF;\n",
              "      --disabled-bg-color: #3B4455;\n",
              "      --disabled-fill-color: #666;\n",
              "  }\n",
              "\n",
              "  .colab-df-quickchart {\n",
              "    background-color: var(--bg-color);\n",
              "    border: none;\n",
              "    border-radius: 50%;\n",
              "    cursor: pointer;\n",
              "    display: none;\n",
              "    fill: var(--fill-color);\n",
              "    height: 32px;\n",
              "    padding: 0;\n",
              "    width: 32px;\n",
              "  }\n",
              "\n",
              "  .colab-df-quickchart:hover {\n",
              "    background-color: var(--hover-bg-color);\n",
              "    box-shadow: 0 1px 2px rgba(60, 64, 67, 0.3), 0 1px 3px 1px rgba(60, 64, 67, 0.15);\n",
              "    fill: var(--button-hover-fill-color);\n",
              "  }\n",
              "\n",
              "  .colab-df-quickchart-complete:disabled,\n",
              "  .colab-df-quickchart-complete:disabled:hover {\n",
              "    background-color: var(--disabled-bg-color);\n",
              "    fill: var(--disabled-fill-color);\n",
              "    box-shadow: none;\n",
              "  }\n",
              "\n",
              "  .colab-df-spinner {\n",
              "    border: 2px solid var(--fill-color);\n",
              "    border-color: transparent;\n",
              "    border-bottom-color: var(--fill-color);\n",
              "    animation:\n",
              "      spin 1s steps(1) infinite;\n",
              "  }\n",
              "\n",
              "  @keyframes spin {\n",
              "    0% {\n",
              "      border-color: transparent;\n",
              "      border-bottom-color: var(--fill-color);\n",
              "      border-left-color: var(--fill-color);\n",
              "    }\n",
              "    20% {\n",
              "      border-color: transparent;\n",
              "      border-left-color: var(--fill-color);\n",
              "      border-top-color: var(--fill-color);\n",
              "    }\n",
              "    30% {\n",
              "      border-color: transparent;\n",
              "      border-left-color: var(--fill-color);\n",
              "      border-top-color: var(--fill-color);\n",
              "      border-right-color: var(--fill-color);\n",
              "    }\n",
              "    40% {\n",
              "      border-color: transparent;\n",
              "      border-right-color: var(--fill-color);\n",
              "      border-top-color: var(--fill-color);\n",
              "    }\n",
              "    60% {\n",
              "      border-color: transparent;\n",
              "      border-right-color: var(--fill-color);\n",
              "    }\n",
              "    80% {\n",
              "      border-color: transparent;\n",
              "      border-right-color: var(--fill-color);\n",
              "      border-bottom-color: var(--fill-color);\n",
              "    }\n",
              "    90% {\n",
              "      border-color: transparent;\n",
              "      border-bottom-color: var(--fill-color);\n",
              "    }\n",
              "  }\n",
              "</style>\n",
              "\n",
              "      <script>\n",
              "        async function quickchart(key) {\n",
              "          const quickchartButtonEl =\n",
              "            document.querySelector('#' + key + ' button');\n",
              "          quickchartButtonEl.disabled = true;  // To prevent multiple clicks.\n",
              "          quickchartButtonEl.classList.add('colab-df-spinner');\n",
              "          try {\n",
              "            const charts = await google.colab.kernel.invokeFunction(\n",
              "                'suggestCharts', [key], {});\n",
              "          } catch (error) {\n",
              "            console.error('Error during call to suggestCharts:', error);\n",
              "          }\n",
              "          quickchartButtonEl.classList.remove('colab-df-spinner');\n",
              "          quickchartButtonEl.classList.add('colab-df-quickchart-complete');\n",
              "        }\n",
              "        (() => {\n",
              "          let quickchartButtonEl =\n",
              "            document.querySelector('#df-0fdce328-8056-41dd-b648-98a7c6b29d16 button');\n",
              "          quickchartButtonEl.style.display =\n",
              "            google.colab.kernel.accessAllowed ? 'block' : 'none';\n",
              "        })();\n",
              "      </script>\n",
              "    </div>\n",
              "\n",
              "  <div id=\"id_98e7feb1-23d1-4fc3-b9e2-bb889bd4ba63\">\n",
              "    <style>\n",
              "      .colab-df-generate {\n",
              "        background-color: #E8F0FE;\n",
              "        border: none;\n",
              "        border-radius: 50%;\n",
              "        cursor: pointer;\n",
              "        display: none;\n",
              "        fill: #1967D2;\n",
              "        height: 32px;\n",
              "        padding: 0 0 0 0;\n",
              "        width: 32px;\n",
              "      }\n",
              "\n",
              "      .colab-df-generate:hover {\n",
              "        background-color: #E2EBFA;\n",
              "        box-shadow: 0px 1px 2px rgba(60, 64, 67, 0.3), 0px 1px 3px 1px rgba(60, 64, 67, 0.15);\n",
              "        fill: #174EA6;\n",
              "      }\n",
              "\n",
              "      [theme=dark] .colab-df-generate {\n",
              "        background-color: #3B4455;\n",
              "        fill: #D2E3FC;\n",
              "      }\n",
              "\n",
              "      [theme=dark] .colab-df-generate:hover {\n",
              "        background-color: #434B5C;\n",
              "        box-shadow: 0px 1px 3px 1px rgba(0, 0, 0, 0.15);\n",
              "        filter: drop-shadow(0px 1px 2px rgba(0, 0, 0, 0.3));\n",
              "        fill: #FFFFFF;\n",
              "      }\n",
              "    </style>\n",
              "    <button class=\"colab-df-generate\" onclick=\"generateWithVariable('no_few_shot_df')\"\n",
              "            title=\"Generate code using this dataframe.\"\n",
              "            style=\"display:none;\">\n",
              "\n",
              "  <svg xmlns=\"http://www.w3.org/2000/svg\" height=\"24px\"viewBox=\"0 0 24 24\"\n",
              "       width=\"24px\">\n",
              "    <path d=\"M7,19H8.4L18.45,9,17,7.55,7,17.6ZM5,21V16.75L18.45,3.32a2,2,0,0,1,2.83,0l1.4,1.43a1.91,1.91,0,0,1,.58,1.4,1.91,1.91,0,0,1-.58,1.4L9.25,21ZM18.45,9,17,7.55Zm-12,3A5.31,5.31,0,0,0,4.9,8.1,5.31,5.31,0,0,0,1,6.5,5.31,5.31,0,0,0,4.9,4.9,5.31,5.31,0,0,0,6.5,1,5.31,5.31,0,0,0,8.1,4.9,5.31,5.31,0,0,0,12,6.5,5.46,5.46,0,0,0,6.5,12Z\"/>\n",
              "  </svg>\n",
              "    </button>\n",
              "    <script>\n",
              "      (() => {\n",
              "      const buttonEl =\n",
              "        document.querySelector('#id_98e7feb1-23d1-4fc3-b9e2-bb889bd4ba63 button.colab-df-generate');\n",
              "      buttonEl.style.display =\n",
              "        google.colab.kernel.accessAllowed ? 'block' : 'none';\n",
              "\n",
              "      buttonEl.onclick = () => {\n",
              "        google.colab.notebook.generateWithVariable('no_few_shot_df');\n",
              "      }\n",
              "      })();\n",
              "    </script>\n",
              "  </div>\n",
              "\n",
              "    </div>\n",
              "  </div>\n"
            ],
            "application/vnd.google.colaboratory.intrinsic+json": {
              "type": "dataframe",
              "variable_name": "no_few_shot_df",
              "summary": "{\n  \"name\": \"no_few_shot_df\",\n  \"rows\": 567,\n  \"fields\": [\n    {\n      \"column\": \"y_pred\",\n      \"properties\": {\n        \"dtype\": \"category\",\n        \"num_unique_values\": 121,\n        \"samples\": [\n          \"$50,000-$55,000-USD-MONTHLY\",\n          \"25000-35000-USD-MONTHLY\",\n          \"$50,000-$70,000-USD-MONTHLY\"\n        ],\n        \"semantic_type\": \"\",\n        \"description\": \"\"\n      }\n    }\n  ]\n}"
            }
          },
          "metadata": {},
          "execution_count": 110
        }
      ]
    },
    {
      "cell_type": "code",
      "source": [
        "post_process_df.to_csv('2_post_processed_salary_labelled_test_set_qwen_rbic_preds.csv', index=False)"
      ],
      "metadata": {
        "id": "B0zaw1rc-2Qq"
      },
      "execution_count": null,
      "outputs": []
    },
    {
      "cell_type": "markdown",
      "metadata": {
        "id": "58bu6uG4tmS_"
      },
      "source": [
        "# Regular Prompting\n",
        "Comparsion of RBIC to Prompting results\n"
      ]
    },
    {
      "cell_type": "code",
      "execution_count": null,
      "metadata": {
        "id": "OoSSu5lMtsas"
      },
      "outputs": [],
      "source": [
        "test_pred_df = pd.DataFrame(columns=[\"y_pred\"])\n",
        "\n",
        "messages_static = [\n",
        "    {\"role\": \"system\", \"content\": \"You are an expert job ad annotator. Your task is to extract structured salary information from job descriptions in the format: min-max-currency-frequency. If salary is not found, return: 0-0-None-None.\"},\n",
        "]"
      ]
    },
    {
      "cell_type": "code",
      "execution_count": null,
      "metadata": {
        "colab": {
          "base_uri": "https://localhost:8080/"
        },
        "id": "YzBrGTeQ0vSd",
        "outputId": "128ac7c0-5658-4468-d2c7-a0ad3032b475"
      },
      "outputs": [
        {
          "name": "stderr",
          "output_type": "stream",
          "text": [
            "  5%|▌         | 29/567 [00:42<11:15,  1.25s/it]"
          ]
        },
        {
          "name": "stdout",
          "output_type": "stream",
          "text": [
            "Failed to parse model output as JSON: {\"MinSalary\": 1500, \"MaxSalary\": None, \"Currency\": \"RM\", \"Frequency\": \"annual\"}\n"
          ]
        },
        {
          "name": "stderr",
          "output_type": "stream",
          "text": [
            " 15%|█▌        | 86/567 [02:00<10:57,  1.37s/it]"
          ]
        },
        {
          "name": "stdout",
          "output_type": "stream",
          "text": [
            "Failed to parse model output as JSON: {\"MinSalary\": 21000, \"MaxSalary\": None, \"Currency\": \"PHP\", \"Frequency\": \"Annual\"}\n"
          ]
        },
        {
          "name": "stderr",
          "output_type": "stream",
          "text": [
            " 21%|██        | 120/567 [02:52<09:19,  1.25s/it]"
          ]
        },
        {
          "name": "stdout",
          "output_type": "stream",
          "text": [
            "Failed to parse model output as JSON: {\"MinSalary\": 33.89, \"MaxSalary\": None, \"Currency\": \"AUD\", \"Frequency\": \"hourly\"}\n"
          ]
        },
        {
          "name": "stderr",
          "output_type": "stream",
          "text": [
            " 26%|██▌       | 146/567 [03:30<10:52,  1.55s/it]"
          ]
        },
        {
          "name": "stdout",
          "output_type": "stream",
          "text": [
            "Failed to parse model output as JSON: {\"MinSalary\": \"S$4000\", \"MaxSalary\": \"S$4500\", \"Currency\": \"S$\", Frequency\": \"monthly\"}\n"
          ]
        },
        {
          "name": "stderr",
          "output_type": "stream",
          "text": [
            " 34%|███▍      | 193/567 [04:46<08:53,  1.43s/it]"
          ]
        },
        {
          "name": "stdout",
          "output_type": "stream",
          "text": [
            "Failed to parse model output as JSON: {\"MinSalary\": 46, \"MaxSalary\": 152, \"Currency\": \"S$\", Frequency\": \"monthly\"}\n"
          ]
        },
        {
          "name": "stderr",
          "output_type": "stream",
          "text": [
            " 35%|███▍      | 196/567 [04:51<08:47,  1.42s/it]"
          ]
        },
        {
          "name": "stdout",
          "output_type": "stream",
          "text": [
            "Failed to parse model output as JSON: {\"MinSalary\": 16000, \"MaxSalary\": None, \"Currency\": \"₱\", \"Frequency\": \"Annual\"}\n"
          ]
        },
        {
          "name": "stderr",
          "output_type": "stream",
          "text": [
            " 37%|███▋      | 208/567 [05:08<08:42,  1.45s/it]"
          ]
        },
        {
          "name": "stdout",
          "output_type": "stream",
          "text": [
            "Failed to parse model output as JSON: {\"MinSalary\": 26.30, \"MaxSalary\": None, \"Currency\": \"USD\", \"Frequency\": \"Annual\"}\n"
          ]
        },
        {
          "name": "stderr",
          "output_type": "stream",
          "text": [
            " 43%|████▎     | 242/567 [05:59<07:33,  1.40s/it]"
          ]
        },
        {
          "name": "stdout",
          "output_type": "stream",
          "text": [
            "Failed to parse model output as JSON: {\"MinSalary\": 17500, \"MaxSalary\": None, \"Currency\": \"PHP\", \"Frequency\": \"annual\"}\n"
          ]
        },
        {
          "name": "stderr",
          "output_type": "stream",
          "text": [
            " 50%|█████     | 286/567 [07:04<06:27,  1.38s/it]"
          ]
        },
        {
          "name": "stdout",
          "output_type": "stream",
          "text": [
            "Failed to parse model output as JSON: {\"MinSalary\": 16000, \"MaxSalary\": None, \"Currency\": \"PHP\", \"Frequency\": \"Annual\"}\n"
          ]
        },
        {
          "name": "stderr",
          "output_type": "stream",
          "text": [
            " 51%|█████     | 290/567 [07:10<06:38,  1.44s/it]"
          ]
        },
        {
          "name": "stdout",
          "output_type": "stream",
          "text": [
            "Failed to parse model output as JSON: {\"MinSalary\": 110000, \"MaxSalary\": None, \"Currency\": \"USD\", \"Frequency\": \"Annual\"}\n"
          ]
        },
        {
          "name": "stderr",
          "output_type": "stream",
          "text": [
            " 54%|█████▍    | 305/567 [07:32<06:35,  1.51s/it]"
          ]
        },
        {
          "name": "stdout",
          "output_type": "stream",
          "text": [
            "Failed to parse model output as JSON: {\"MinSalary\": 90000, \"MaxSalary\": None, \"Currency\": \"PHP\", \"Frequency\": \"Annual\"}\n"
          ]
        },
        {
          "name": "stderr",
          "output_type": "stream",
          "text": [
            " 57%|█████▋    | 324/567 [08:00<05:34,  1.38s/it]"
          ]
        },
        {
          "name": "stdout",
          "output_type": "stream",
          "text": [
            "Failed to parse model output as JSON: {\"MinSalary\": 18000, \"MaxSalary\": None, \"Currency\": \"PHP\", \"Frequency\": \"Annual\"}\n"
          ]
        },
        {
          "name": "stderr",
          "output_type": "stream",
          "text": [
            " 59%|█████▉    | 334/567 [08:14<05:07,  1.32s/it]"
          ]
        },
        {
          "name": "stdout",
          "output_type": "stream",
          "text": [
            "Failed to parse model output as JSON: {\"MinSalary\": 22000, \"MaxSalary\": None, \"Currency\": \"USD\", \"Frequency\": \"Annual\"}\n"
          ]
        },
        {
          "name": "stderr",
          "output_type": "stream",
          "text": [
            " 60%|██████    | 342/567 [08:25<05:05,  1.36s/it]"
          ]
        },
        {
          "name": "stdout",
          "output_type": "stream",
          "text": [
            "Failed to parse model output as JSON: {\"MinSalary\": 3000, \"MaxSalary\": None, \"Currency\": \"RM\", \"Frequency\": \"Annual\"}\n"
          ]
        },
        {
          "name": "stderr",
          "output_type": "stream",
          "text": [
            " 65%|██████▌   | 369/567 [09:04<04:35,  1.39s/it]"
          ]
        },
        {
          "name": "stdout",
          "output_type": "stream",
          "text": [
            "Failed to parse model output as JSON: {\"MinSalary\": 35000, \"MaxSalary\": None, \"Currency\": \"None\", \"Frequency\": \"Annual\"}\n"
          ]
        },
        {
          "name": "stderr",
          "output_type": "stream",
          "text": [
            " 72%|███████▏  | 406/567 [09:58<03:44,  1.39s/it]"
          ]
        },
        {
          "name": "stdout",
          "output_type": "stream",
          "text": [
            "Failed to parse model output as JSON: {\"MinSalary\": 1500, \"MaxSalary\": None, \"Currency\": \"RM\", \"Frequency\": \"annual\"}\n"
          ]
        },
        {
          "name": "stderr",
          "output_type": "stream",
          "text": [
            " 91%|█████████ | 516/567 [12:36<01:07,  1.33s/it]"
          ]
        },
        {
          "name": "stdout",
          "output_type": "stream",
          "text": [
            "Failed to parse model output as JSON: {\"MinSalary\": 75.00, \"MaxSalary\": None, \"Currency\": \"HKD\", \"Frequency\": \"monthly\"}\n"
          ]
        },
        {
          "name": "stderr",
          "output_type": "stream",
          "text": [
            " 91%|█████████▏| 518/567 [12:40<01:29,  1.82s/it]"
          ]
        },
        {
          "name": "stdout",
          "output_type": "stream",
          "text": [
            "Failed to parse model output as JSON: {\"MinSalary\": \"RM\\xa06,000 - RM\\xa07,000\", \"MaxSalary\": \"RM\\xa06,000 - RM\\xa07,000\", \"Currency\": \"RM\", \"Frequency\": \"monthly\"}\n"
          ]
        },
        {
          "name": "stderr",
          "output_type": "stream",
          "text": [
            "100%|██████████| 567/567 [13:52<00:00,  1.47s/it]\n"
          ]
        }
      ],
      "source": [
        "for i in tqdm(range(len(test_df))):\n",
        "    desc = {\n",
        "        \"job_title\": test_df.iloc[i].job_title,\n",
        "        \"job_ad_details\": test_df.iloc[i].job_ad_details,\n",
        "        \"nation_short_desc\": test_df.iloc[i].nation_short_desc,\n",
        "        \"salary_additional_text\": test_df.iloc[i].salary_additional_text,\n",
        "    }\n",
        "    desc_str = str(desc)\n",
        "\n",
        "    messages = copy.deepcopy(messages_static)\n",
        "    messages.append({\n",
        "        \"role\": \"user\",\n",
        "        \"content\": (\n",
        "            f\"{desc_str} Extract structured salary information from this job descriptions in the format: min-max-currency-frequency. \"\n",
        "            \"Respond in JSON: {\\\"MinSalary\\\": \\\"\\\", \\\"MaxSalary\\\": \\\"\\\", \\\"Currency\\\": \\\"\\\", \\\"Frequency\\\": \\\"\\\"}. \"\n",
        "            \"If not provided explicitly, output 0 for \\\"MinSalary\\\" and \\\"MaxSalary\\\", and \\\"None\\\" for \\\"Currency\\\" and \\\"Frequency\\\". \"\n",
        "            \"If the salary is mentioned, always output a range, where MinSalary and MaxSalary can be equal. \"\n",
        "            \"Use 'nation_short_desc' to determine the correct currency. \"\n",
        "            \"Output the currency as 3 letters. Use adverb to output frequency (annual, monthly, daily or hourly).\"\n",
        "        )\n",
        "    })\n",
        "\n",
        "    response = call_model(messages)\n",
        "    answer_str = response[0]\n",
        "\n",
        "    # format the output\n",
        "    try:\n",
        "        answer_str_ = answer_str[answer_str.find('{'):answer_str.find('}') + 1]\n",
        "        answer_str_ = answer_str_.replace('“', '\"')\n",
        "        answer_str_ = answer_str_.replace('”', '\"')\n",
        "        answer = json.loads(answer_str_)\n",
        "\n",
        "        label = f\"{answer['MinSalary']}-{answer['MaxSalary']}-{answer['Currency'].upper()}-{answer['Frequency'].upper()}\"\n",
        "\n",
        "    except json.JSONDecodeError:\n",
        "        print(f\"Failed to parse model output as JSON: {answer_str}\")\n",
        "        label = \"ERROR \" + answer_str\n",
        "\n",
        "    test_pred_df.loc[len(test_pred_df)] = label\n",
        "\n",
        "# export the dataframe to a new csv file\n",
        "test_pred_df.to_csv('salary_labelled_test_set_qwen_preds.csv', index=False)"
      ]
    },
    {
      "cell_type": "code",
      "execution_count": null,
      "metadata": {
        "colab": {
          "background_save": true,
          "base_uri": "https://localhost:8080/"
        },
        "id": "7jHTa__G6d7P",
        "outputId": "6f1422fa-d916-436b-c03e-46098d8a6ce6"
      },
      "outputs": [
        {
          "name": "stderr",
          "output_type": "stream",
          "text": [
            "  5%|▌         | 29/567 [00:46<11:35,  1.29s/it]"
          ]
        },
        {
          "name": "stdout",
          "output_type": "stream",
          "text": [
            "Failed to parse model output as JSON: {\"MinSalary\": 1500, \"MaxSalary\": None, \"Currency\": \"RM\", \"Frequency\": \"Annual\"}\n"
          ]
        },
        {
          "name": "stderr",
          "output_type": "stream",
          "text": [
            "  8%|▊         | 44/567 [01:06<11:42,  1.34s/it]"
          ]
        },
        {
          "name": "stdout",
          "output_type": "stream",
          "text": [
            "Failed to parse model output as JSON: {\"MinSalary\": 25.05, \"MaxSalary\": None, \"Currency\": \"AUD\", \"Frequency\": \"Annual\"}\n"
          ]
        },
        {
          "name": "stderr",
          "output_type": "stream",
          "text": [
            " 10%|█         | 57/567 [01:24<11:18,  1.33s/it]"
          ]
        },
        {
          "name": "stdout",
          "output_type": "stream",
          "text": [
            "Failed to parse model output as JSON: {\"MinSalary\": 16000, \"MaxSalary\": None, \"Currency\": \"USD\", \"Frequency\": \"Annual\"}\n"
          ]
        },
        {
          "name": "stderr",
          "output_type": "stream",
          "text": [
            " 23%|██▎       | 128/567 [03:07<10:26,  1.43s/it]"
          ]
        },
        {
          "name": "stdout",
          "output_type": "stream",
          "text": [
            "Failed to parse model output as JSON: {\"MinSalary\": 16000, \"MaxSalary\": None, \"Currency\": \"PHP\", \"Frequency\": \"Annual\"}\n"
          ]
        },
        {
          "name": "stderr",
          "output_type": "stream",
          "text": [
            " 34%|███▍      | 193/567 [04:45<08:28,  1.36s/it]"
          ]
        },
        {
          "name": "stdout",
          "output_type": "stream",
          "text": [
            "Failed to parse model output as JSON: {\"MinSalary\": \"S$73\", \"MaxSalary\": \"S$87\", \"Currency\": \"S$\", Frequency\": \"Annual\"}\n"
          ]
        },
        {
          "name": "stderr",
          "output_type": "stream",
          "text": [
            " 39%|███▊      | 219/567 [05:24<08:01,  1.38s/it]"
          ]
        },
        {
          "name": "stdout",
          "output_type": "stream",
          "text": [
            "Failed to parse model output as JSON: {\"MinSalary\": 3500, \"MaxSalary\": None, \"Currency\": \"RM\", \"Frequency\": \"monthly\"}\n"
          ]
        },
        {
          "name": "stderr",
          "output_type": "stream",
          "text": [
            " 41%|████      | 232/567 [05:42<07:55,  1.42s/it]"
          ]
        },
        {
          "name": "stdout",
          "output_type": "stream",
          "text": [
            "Failed to parse model output as JSON: {\"MinSalary\": 16000, \"MaxSalary\": None, \"Currency\": \"PHP\", \"Frequency\": \"Annual\"}\n"
          ]
        },
        {
          "name": "stderr",
          "output_type": "stream",
          "text": [
            " 42%|████▏     | 239/567 [05:53<07:58,  1.46s/it]"
          ]
        },
        {
          "name": "stdout",
          "output_type": "stream",
          "text": [
            "Failed to parse model output as JSON: {\"MinSalary\": 16000, \"MaxSalary\": None, \"Currency\": \"USD\", \"Frequency\": \"annual\"}\n"
          ]
        },
        {
          "name": "stderr",
          "output_type": "stream",
          "text": [
            " 43%|████▎     | 243/567 [05:58<07:21,  1.36s/it]"
          ]
        },
        {
          "name": "stdout",
          "output_type": "stream",
          "text": [
            "Failed to parse model output as JSON: {\"MinSalary\": 18000, \"MaxSalary\": None, \"Currency\": \"PHP\", \"Frequency\": \"Annual\"}\n"
          ]
        },
        {
          "name": "stderr",
          "output_type": "stream",
          "text": [
            " 46%|████▌     | 261/567 [06:25<06:45,  1.32s/it]"
          ]
        },
        {
          "name": "stdout",
          "output_type": "stream",
          "text": [
            "Failed to parse model output as JSON: {\"MinSalary\": 1500, \"MaxSalary\": None, \"Currency\": \"RM\", \"Frequency\": \"Annual\"}\n"
          ]
        },
        {
          "name": "stderr",
          "output_type": "stream",
          "text": [
            " 56%|█████▋    | 320/567 [07:51<05:58,  1.45s/it]"
          ]
        },
        {
          "name": "stdout",
          "output_type": "stream",
          "text": [
            "Failed to parse model output as JSON: {\"MinSalary\": 24.69, \"MaxSalary\": None, \"Currency\": \"AUD\", \"Frequency\": \"Annual\"}\n"
          ]
        },
        {
          "name": "stderr",
          "output_type": "stream",
          "text": [
            " 60%|█████▉    | 339/567 [08:18<05:19,  1.40s/it]"
          ]
        },
        {
          "name": "stdout",
          "output_type": "stream",
          "text": [
            "Failed to parse model output as JSON: {\"MinSalary\": 18000, \"MaxSalary\": None, \"Currency\": \"PHP\", \"Frequency\": \"Annual\"}\n"
          ]
        },
        {
          "name": "stderr",
          "output_type": "stream",
          "text": [
            " 62%|██████▏   | 351/567 [08:35<05:06,  1.42s/it]"
          ]
        },
        {
          "name": "stdout",
          "output_type": "stream",
          "text": [
            "Failed to parse model output as JSON: {\"MinSalary\": 130, \"MaxSalary\": None, \"Currency\": \"THB\", \"Frequency\": \"annual\"}\n"
          ]
        },
        {
          "name": "stderr",
          "output_type": "stream",
          "text": [
            " 65%|██████▌   | 369/567 [09:01<04:28,  1.36s/it]"
          ]
        },
        {
          "name": "stdout",
          "output_type": "stream",
          "text": [
            "Failed to parse model output as JSON: {\"MinSalary\": 35000, \"MaxSalary\": None, \"Currency\": \"₱\", \"Frequency\": \"annual\"}\n"
          ]
        },
        {
          "name": "stderr",
          "output_type": "stream",
          "text": [
            " 71%|███████   | 401/567 [09:47<03:51,  1.39s/it]"
          ]
        },
        {
          "name": "stdout",
          "output_type": "stream",
          "text": [
            "Failed to parse model output as JSON: {\"MinSalary\": 25000, \"MaxSalary\": None, \"Currency\": \"USD\", \"Frequency\": \"monthly\"}\n"
          ]
        },
        {
          "name": "stderr",
          "output_type": "stream",
          "text": [
            " 82%|████████▏ | 465/567 [11:19<02:30,  1.47s/it]"
          ]
        },
        {
          "name": "stdout",
          "output_type": "stream",
          "text": [
            "Failed to parse model output as JSON: {\"MinSalary\": 5500, \"MaxSalary\": None, \"Currency\": \"RM\", \"Frequency\": \"annual\"}\n"
          ]
        },
        {
          "name": "stderr",
          "output_type": "stream",
          "text": [
            " 89%|████████▉ | 506/567 [12:18<01:30,  1.49s/it]"
          ]
        },
        {
          "name": "stdout",
          "output_type": "stream",
          "text": [
            "Failed to parse model output as JSON: To provide accurate salary information, I need to analyze the job description more thoroughly. Please provide the full text of the job description so I can extract the required structured data accurately.\n"
          ]
        },
        {
          "name": "stderr",
          "output_type": "stream",
          "text": [
            " 91%|█████████ | 516/567 [12:32<01:09,  1.37s/it]"
          ]
        },
        {
          "name": "stdout",
          "output_type": "stream",
          "text": [
            "Failed to parse model output as JSON: {\"MinSalary\": 75.00, \"MaxSalary\": None, \"Currency\": \"HKD\", \"Frequency\": \"annual\"}\n"
          ]
        },
        {
          "name": "stderr",
          "output_type": "stream",
          "text": [
            "100%|██████████| 567/567 [13:47<00:00,  1.46s/it]\n"
          ]
        }
      ],
      "source": [
        "for i in tqdm(range(len(test_df))):\n",
        "    desc = {\n",
        "        \"job_title\": test_df.iloc[i].job_title,\n",
        "        \"job_ad_details\": test_df.iloc[i].job_ad_details,\n",
        "        \"nation_short_desc\": test_df.iloc[i].nation_short_desc,\n",
        "        \"salary_additional_text\": test_df.iloc[i].salary_additional_text,\n",
        "    }\n",
        "    desc_str = str(desc)\n",
        "\n",
        "    messages = copy.deepcopy(messages_static)\n",
        "    messages.append({\n",
        "        \"role\": \"user\",\n",
        "        \"content\": (\n",
        "            f\"{desc_str} Extract structured salary information from this job descriptions in the format: min-max-currency-frequency. \"\n",
        "            \"Respond in JSON: {\\\"MinSalary\\\": \\\"\\\", \\\"MaxSalary\\\": \\\"\\\", \\\"Currency\\\": \\\"\\\", \\\"Frequency\\\": \\\"\\\"}. \"\n",
        "            \"If not provided explicitly, output 0 for \\\"MinSalary\\\" and \\\"MaxSalary\\\", and \\\"None\\\" for \\\"Currency\\\" and \\\"Frequency\\\". \"\n",
        "            \"If the salary is mentioned, always output a range, where MinSalary and MaxSalary can be equal. \"\n",
        "            \"Use 'nation_short_desc' to determine the correct currency. \"\n",
        "            \"Output the currency as 3 letters. Use adverb to output frequency (annual, monthly, daily or hourly).\"\n",
        "        )\n",
        "    })\n",
        "\n",
        "    response = call_model(messages)\n",
        "    answer_str = response[0]\n",
        "\n",
        "    # format the output\n",
        "    try:\n",
        "        answer_str_ = answer_str[answer_str.find('{'):answer_str.find('}') + 1]\n",
        "        answer_str_ = answer_str_.replace('“', '\"')\n",
        "        answer_str_ = answer_str_.replace('”', '\"')\n",
        "        answer = json.loads(answer_str_)\n",
        "\n",
        "        label = f\"{answer['MinSalary']}-{answer['MaxSalary']}-{answer['Currency'].upper()}-{answer['Frequency'].upper()}\"\n",
        "\n",
        "    except json.JSONDecodeError:\n",
        "        print(f\"Failed to parse model output as JSON: {answer_str}\")\n",
        "        label = \"ERROR \" + answer_str\n",
        "\n",
        "    test_pred_df.loc[len(test_pred_df)] = label\n",
        "\n",
        "# export the dataframe to a new csv file\n",
        "test_pred_df.to_csv('salary_labelled_test_set_qwen_preds.csv', index=False)"
      ]
    },
    {
      "cell_type": "markdown",
      "source": [
        "# Prompt Results"
      ],
      "metadata": {
        "id": "XDFq7iIuxV0V"
      }
    },
    {
      "cell_type": "code",
      "source": [
        "salary_true = pd.read_csv(\"salary_labelled_test_set_cleaned.csv\")"
      ],
      "metadata": {
        "id": "iuJCDNS23vbw"
      },
      "execution_count": null,
      "outputs": []
    },
    {
      "cell_type": "code",
      "source": [
        "salary_true.y_true"
      ],
      "metadata": {
        "colab": {
          "base_uri": "https://localhost:8080/",
          "height": 453
        },
        "id": "NqxK-nDJ32nr",
        "outputId": "3cbd2405-fa26-478e-b13a-0733aa4c22fd"
      },
      "execution_count": null,
      "outputs": [
        {
          "output_type": "execute_result",
          "data": {
            "text/plain": [
              "0      1500-1800-MYR-MONTHLY\n",
              "1           60-60-HKD-HOURLY\n",
              "2              0-0-None-None\n",
              "3              0-0-None-None\n",
              "4              0-0-None-None\n",
              "               ...          \n",
              "562         26-26-NZD-HOURLY\n",
              "563            0-0-None-None\n",
              "564            0-0-None-None\n",
              "565    1500-2500-MYR-MONTHLY\n",
              "566            0-0-None-None\n",
              "Name: y_true, Length: 567, dtype: object"
            ],
            "text/html": [
              "<div>\n",
              "<style scoped>\n",
              "    .dataframe tbody tr th:only-of-type {\n",
              "        vertical-align: middle;\n",
              "    }\n",
              "\n",
              "    .dataframe tbody tr th {\n",
              "        vertical-align: top;\n",
              "    }\n",
              "\n",
              "    .dataframe thead th {\n",
              "        text-align: right;\n",
              "    }\n",
              "</style>\n",
              "<table border=\"1\" class=\"dataframe\">\n",
              "  <thead>\n",
              "    <tr style=\"text-align: right;\">\n",
              "      <th></th>\n",
              "      <th>y_true</th>\n",
              "    </tr>\n",
              "  </thead>\n",
              "  <tbody>\n",
              "    <tr>\n",
              "      <th>0</th>\n",
              "      <td>1500-1800-MYR-MONTHLY</td>\n",
              "    </tr>\n",
              "    <tr>\n",
              "      <th>1</th>\n",
              "      <td>60-60-HKD-HOURLY</td>\n",
              "    </tr>\n",
              "    <tr>\n",
              "      <th>2</th>\n",
              "      <td>0-0-None-None</td>\n",
              "    </tr>\n",
              "    <tr>\n",
              "      <th>3</th>\n",
              "      <td>0-0-None-None</td>\n",
              "    </tr>\n",
              "    <tr>\n",
              "      <th>4</th>\n",
              "      <td>0-0-None-None</td>\n",
              "    </tr>\n",
              "    <tr>\n",
              "      <th>...</th>\n",
              "      <td>...</td>\n",
              "    </tr>\n",
              "    <tr>\n",
              "      <th>562</th>\n",
              "      <td>26-26-NZD-HOURLY</td>\n",
              "    </tr>\n",
              "    <tr>\n",
              "      <th>563</th>\n",
              "      <td>0-0-None-None</td>\n",
              "    </tr>\n",
              "    <tr>\n",
              "      <th>564</th>\n",
              "      <td>0-0-None-None</td>\n",
              "    </tr>\n",
              "    <tr>\n",
              "      <th>565</th>\n",
              "      <td>1500-2500-MYR-MONTHLY</td>\n",
              "    </tr>\n",
              "    <tr>\n",
              "      <th>566</th>\n",
              "      <td>0-0-None-None</td>\n",
              "    </tr>\n",
              "  </tbody>\n",
              "</table>\n",
              "<p>567 rows × 1 columns</p>\n",
              "</div><br><label><b>dtype:</b> object</label>"
            ]
          },
          "metadata": {},
          "execution_count": 42
        }
      ]
    },
    {
      "cell_type": "code",
      "source": [
        "prompt = pd.read_csv(\"salary_labelled_test_set_qwen_preds.csv\")"
      ],
      "metadata": {
        "id": "4XKIHUcbxU4t"
      },
      "execution_count": null,
      "outputs": []
    },
    {
      "cell_type": "code",
      "source": [
        "prompt"
      ],
      "metadata": {
        "colab": {
          "base_uri": "https://localhost:8080/",
          "height": 419
        },
        "id": "MiILtT6Hz7wb",
        "outputId": "7469a270-07ee-46bf-a4dc-82b23bc1fad6"
      },
      "execution_count": null,
      "outputs": [
        {
          "output_type": "execute_result",
          "data": {
            "text/plain": [
              "                        y_pred\n",
              "0            0-1800-RM-MONTHLY\n",
              "1             60-60-HKD-ANNUAL\n",
              "2       60000-90000-AUD-ANNUAL\n",
              "3    140000-210000-AUD-MONTHLY\n",
              "4       25000-40000-USD-ANNUAL\n",
              "..                         ...\n",
              "562    26.24-None-NONE-MONTHLY\n",
              "563     40000-70000-USD-ANNUAL\n",
              "564         0-90000-AUD-ANNUAL\n",
              "565   1500.0-2500.0-RM-MONTHLY\n",
              "566     50000-80000-USD-ANNUAL\n",
              "\n",
              "[567 rows x 1 columns]"
            ],
            "text/html": [
              "\n",
              "  <div id=\"df-f099c18e-4863-4ca1-a7b1-dbe5d3c145d6\" class=\"colab-df-container\">\n",
              "    <div>\n",
              "<style scoped>\n",
              "    .dataframe tbody tr th:only-of-type {\n",
              "        vertical-align: middle;\n",
              "    }\n",
              "\n",
              "    .dataframe tbody tr th {\n",
              "        vertical-align: top;\n",
              "    }\n",
              "\n",
              "    .dataframe thead th {\n",
              "        text-align: right;\n",
              "    }\n",
              "</style>\n",
              "<table border=\"1\" class=\"dataframe\">\n",
              "  <thead>\n",
              "    <tr style=\"text-align: right;\">\n",
              "      <th></th>\n",
              "      <th>y_pred</th>\n",
              "    </tr>\n",
              "  </thead>\n",
              "  <tbody>\n",
              "    <tr>\n",
              "      <th>0</th>\n",
              "      <td>0-1800-RM-MONTHLY</td>\n",
              "    </tr>\n",
              "    <tr>\n",
              "      <th>1</th>\n",
              "      <td>60-60-HKD-ANNUAL</td>\n",
              "    </tr>\n",
              "    <tr>\n",
              "      <th>2</th>\n",
              "      <td>60000-90000-AUD-ANNUAL</td>\n",
              "    </tr>\n",
              "    <tr>\n",
              "      <th>3</th>\n",
              "      <td>140000-210000-AUD-MONTHLY</td>\n",
              "    </tr>\n",
              "    <tr>\n",
              "      <th>4</th>\n",
              "      <td>25000-40000-USD-ANNUAL</td>\n",
              "    </tr>\n",
              "    <tr>\n",
              "      <th>...</th>\n",
              "      <td>...</td>\n",
              "    </tr>\n",
              "    <tr>\n",
              "      <th>562</th>\n",
              "      <td>26.24-None-NONE-MONTHLY</td>\n",
              "    </tr>\n",
              "    <tr>\n",
              "      <th>563</th>\n",
              "      <td>40000-70000-USD-ANNUAL</td>\n",
              "    </tr>\n",
              "    <tr>\n",
              "      <th>564</th>\n",
              "      <td>0-90000-AUD-ANNUAL</td>\n",
              "    </tr>\n",
              "    <tr>\n",
              "      <th>565</th>\n",
              "      <td>1500.0-2500.0-RM-MONTHLY</td>\n",
              "    </tr>\n",
              "    <tr>\n",
              "      <th>566</th>\n",
              "      <td>50000-80000-USD-ANNUAL</td>\n",
              "    </tr>\n",
              "  </tbody>\n",
              "</table>\n",
              "<p>567 rows × 1 columns</p>\n",
              "</div>\n",
              "    <div class=\"colab-df-buttons\">\n",
              "\n",
              "  <div class=\"colab-df-container\">\n",
              "    <button class=\"colab-df-convert\" onclick=\"convertToInteractive('df-f099c18e-4863-4ca1-a7b1-dbe5d3c145d6')\"\n",
              "            title=\"Convert this dataframe to an interactive table.\"\n",
              "            style=\"display:none;\">\n",
              "\n",
              "  <svg xmlns=\"http://www.w3.org/2000/svg\" height=\"24px\" viewBox=\"0 -960 960 960\">\n",
              "    <path d=\"M120-120v-720h720v720H120Zm60-500h600v-160H180v160Zm220 220h160v-160H400v160Zm0 220h160v-160H400v160ZM180-400h160v-160H180v160Zm440 0h160v-160H620v160ZM180-180h160v-160H180v160Zm440 0h160v-160H620v160Z\"/>\n",
              "  </svg>\n",
              "    </button>\n",
              "\n",
              "  <style>\n",
              "    .colab-df-container {\n",
              "      display:flex;\n",
              "      gap: 12px;\n",
              "    }\n",
              "\n",
              "    .colab-df-convert {\n",
              "      background-color: #E8F0FE;\n",
              "      border: none;\n",
              "      border-radius: 50%;\n",
              "      cursor: pointer;\n",
              "      display: none;\n",
              "      fill: #1967D2;\n",
              "      height: 32px;\n",
              "      padding: 0 0 0 0;\n",
              "      width: 32px;\n",
              "    }\n",
              "\n",
              "    .colab-df-convert:hover {\n",
              "      background-color: #E2EBFA;\n",
              "      box-shadow: 0px 1px 2px rgba(60, 64, 67, 0.3), 0px 1px 3px 1px rgba(60, 64, 67, 0.15);\n",
              "      fill: #174EA6;\n",
              "    }\n",
              "\n",
              "    .colab-df-buttons div {\n",
              "      margin-bottom: 4px;\n",
              "    }\n",
              "\n",
              "    [theme=dark] .colab-df-convert {\n",
              "      background-color: #3B4455;\n",
              "      fill: #D2E3FC;\n",
              "    }\n",
              "\n",
              "    [theme=dark] .colab-df-convert:hover {\n",
              "      background-color: #434B5C;\n",
              "      box-shadow: 0px 1px 3px 1px rgba(0, 0, 0, 0.15);\n",
              "      filter: drop-shadow(0px 1px 2px rgba(0, 0, 0, 0.3));\n",
              "      fill: #FFFFFF;\n",
              "    }\n",
              "  </style>\n",
              "\n",
              "    <script>\n",
              "      const buttonEl =\n",
              "        document.querySelector('#df-f099c18e-4863-4ca1-a7b1-dbe5d3c145d6 button.colab-df-convert');\n",
              "      buttonEl.style.display =\n",
              "        google.colab.kernel.accessAllowed ? 'block' : 'none';\n",
              "\n",
              "      async function convertToInteractive(key) {\n",
              "        const element = document.querySelector('#df-f099c18e-4863-4ca1-a7b1-dbe5d3c145d6');\n",
              "        const dataTable =\n",
              "          await google.colab.kernel.invokeFunction('convertToInteractive',\n",
              "                                                    [key], {});\n",
              "        if (!dataTable) return;\n",
              "\n",
              "        const docLinkHtml = 'Like what you see? Visit the ' +\n",
              "          '<a target=\"_blank\" href=https://colab.research.google.com/notebooks/data_table.ipynb>data table notebook</a>'\n",
              "          + ' to learn more about interactive tables.';\n",
              "        element.innerHTML = '';\n",
              "        dataTable['output_type'] = 'display_data';\n",
              "        await google.colab.output.renderOutput(dataTable, element);\n",
              "        const docLink = document.createElement('div');\n",
              "        docLink.innerHTML = docLinkHtml;\n",
              "        element.appendChild(docLink);\n",
              "      }\n",
              "    </script>\n",
              "  </div>\n",
              "\n",
              "\n",
              "    <div id=\"df-b38b1d1f-51bf-44a7-841c-600cb5471b2e\">\n",
              "      <button class=\"colab-df-quickchart\" onclick=\"quickchart('df-b38b1d1f-51bf-44a7-841c-600cb5471b2e')\"\n",
              "                title=\"Suggest charts\"\n",
              "                style=\"display:none;\">\n",
              "\n",
              "<svg xmlns=\"http://www.w3.org/2000/svg\" height=\"24px\"viewBox=\"0 0 24 24\"\n",
              "     width=\"24px\">\n",
              "    <g>\n",
              "        <path d=\"M19 3H5c-1.1 0-2 .9-2 2v14c0 1.1.9 2 2 2h14c1.1 0 2-.9 2-2V5c0-1.1-.9-2-2-2zM9 17H7v-7h2v7zm4 0h-2V7h2v10zm4 0h-2v-4h2v4z\"/>\n",
              "    </g>\n",
              "</svg>\n",
              "      </button>\n",
              "\n",
              "<style>\n",
              "  .colab-df-quickchart {\n",
              "      --bg-color: #E8F0FE;\n",
              "      --fill-color: #1967D2;\n",
              "      --hover-bg-color: #E2EBFA;\n",
              "      --hover-fill-color: #174EA6;\n",
              "      --disabled-fill-color: #AAA;\n",
              "      --disabled-bg-color: #DDD;\n",
              "  }\n",
              "\n",
              "  [theme=dark] .colab-df-quickchart {\n",
              "      --bg-color: #3B4455;\n",
              "      --fill-color: #D2E3FC;\n",
              "      --hover-bg-color: #434B5C;\n",
              "      --hover-fill-color: #FFFFFF;\n",
              "      --disabled-bg-color: #3B4455;\n",
              "      --disabled-fill-color: #666;\n",
              "  }\n",
              "\n",
              "  .colab-df-quickchart {\n",
              "    background-color: var(--bg-color);\n",
              "    border: none;\n",
              "    border-radius: 50%;\n",
              "    cursor: pointer;\n",
              "    display: none;\n",
              "    fill: var(--fill-color);\n",
              "    height: 32px;\n",
              "    padding: 0;\n",
              "    width: 32px;\n",
              "  }\n",
              "\n",
              "  .colab-df-quickchart:hover {\n",
              "    background-color: var(--hover-bg-color);\n",
              "    box-shadow: 0 1px 2px rgba(60, 64, 67, 0.3), 0 1px 3px 1px rgba(60, 64, 67, 0.15);\n",
              "    fill: var(--button-hover-fill-color);\n",
              "  }\n",
              "\n",
              "  .colab-df-quickchart-complete:disabled,\n",
              "  .colab-df-quickchart-complete:disabled:hover {\n",
              "    background-color: var(--disabled-bg-color);\n",
              "    fill: var(--disabled-fill-color);\n",
              "    box-shadow: none;\n",
              "  }\n",
              "\n",
              "  .colab-df-spinner {\n",
              "    border: 2px solid var(--fill-color);\n",
              "    border-color: transparent;\n",
              "    border-bottom-color: var(--fill-color);\n",
              "    animation:\n",
              "      spin 1s steps(1) infinite;\n",
              "  }\n",
              "\n",
              "  @keyframes spin {\n",
              "    0% {\n",
              "      border-color: transparent;\n",
              "      border-bottom-color: var(--fill-color);\n",
              "      border-left-color: var(--fill-color);\n",
              "    }\n",
              "    20% {\n",
              "      border-color: transparent;\n",
              "      border-left-color: var(--fill-color);\n",
              "      border-top-color: var(--fill-color);\n",
              "    }\n",
              "    30% {\n",
              "      border-color: transparent;\n",
              "      border-left-color: var(--fill-color);\n",
              "      border-top-color: var(--fill-color);\n",
              "      border-right-color: var(--fill-color);\n",
              "    }\n",
              "    40% {\n",
              "      border-color: transparent;\n",
              "      border-right-color: var(--fill-color);\n",
              "      border-top-color: var(--fill-color);\n",
              "    }\n",
              "    60% {\n",
              "      border-color: transparent;\n",
              "      border-right-color: var(--fill-color);\n",
              "    }\n",
              "    80% {\n",
              "      border-color: transparent;\n",
              "      border-right-color: var(--fill-color);\n",
              "      border-bottom-color: var(--fill-color);\n",
              "    }\n",
              "    90% {\n",
              "      border-color: transparent;\n",
              "      border-bottom-color: var(--fill-color);\n",
              "    }\n",
              "  }\n",
              "</style>\n",
              "\n",
              "      <script>\n",
              "        async function quickchart(key) {\n",
              "          const quickchartButtonEl =\n",
              "            document.querySelector('#' + key + ' button');\n",
              "          quickchartButtonEl.disabled = true;  // To prevent multiple clicks.\n",
              "          quickchartButtonEl.classList.add('colab-df-spinner');\n",
              "          try {\n",
              "            const charts = await google.colab.kernel.invokeFunction(\n",
              "                'suggestCharts', [key], {});\n",
              "          } catch (error) {\n",
              "            console.error('Error during call to suggestCharts:', error);\n",
              "          }\n",
              "          quickchartButtonEl.classList.remove('colab-df-spinner');\n",
              "          quickchartButtonEl.classList.add('colab-df-quickchart-complete');\n",
              "        }\n",
              "        (() => {\n",
              "          let quickchartButtonEl =\n",
              "            document.querySelector('#df-b38b1d1f-51bf-44a7-841c-600cb5471b2e button');\n",
              "          quickchartButtonEl.style.display =\n",
              "            google.colab.kernel.accessAllowed ? 'block' : 'none';\n",
              "        })();\n",
              "      </script>\n",
              "    </div>\n",
              "\n",
              "  <div id=\"id_1bf64ed8-e58c-46f0-a27a-e3dc6972b855\">\n",
              "    <style>\n",
              "      .colab-df-generate {\n",
              "        background-color: #E8F0FE;\n",
              "        border: none;\n",
              "        border-radius: 50%;\n",
              "        cursor: pointer;\n",
              "        display: none;\n",
              "        fill: #1967D2;\n",
              "        height: 32px;\n",
              "        padding: 0 0 0 0;\n",
              "        width: 32px;\n",
              "      }\n",
              "\n",
              "      .colab-df-generate:hover {\n",
              "        background-color: #E2EBFA;\n",
              "        box-shadow: 0px 1px 2px rgba(60, 64, 67, 0.3), 0px 1px 3px 1px rgba(60, 64, 67, 0.15);\n",
              "        fill: #174EA6;\n",
              "      }\n",
              "\n",
              "      [theme=dark] .colab-df-generate {\n",
              "        background-color: #3B4455;\n",
              "        fill: #D2E3FC;\n",
              "      }\n",
              "\n",
              "      [theme=dark] .colab-df-generate:hover {\n",
              "        background-color: #434B5C;\n",
              "        box-shadow: 0px 1px 3px 1px rgba(0, 0, 0, 0.15);\n",
              "        filter: drop-shadow(0px 1px 2px rgba(0, 0, 0, 0.3));\n",
              "        fill: #FFFFFF;\n",
              "      }\n",
              "    </style>\n",
              "    <button class=\"colab-df-generate\" onclick=\"generateWithVariable('prompt')\"\n",
              "            title=\"Generate code using this dataframe.\"\n",
              "            style=\"display:none;\">\n",
              "\n",
              "  <svg xmlns=\"http://www.w3.org/2000/svg\" height=\"24px\"viewBox=\"0 0 24 24\"\n",
              "       width=\"24px\">\n",
              "    <path d=\"M7,19H8.4L18.45,9,17,7.55,7,17.6ZM5,21V16.75L18.45,3.32a2,2,0,0,1,2.83,0l1.4,1.43a1.91,1.91,0,0,1,.58,1.4,1.91,1.91,0,0,1-.58,1.4L9.25,21ZM18.45,9,17,7.55Zm-12,3A5.31,5.31,0,0,0,4.9,8.1,5.31,5.31,0,0,0,1,6.5,5.31,5.31,0,0,0,4.9,4.9,5.31,5.31,0,0,0,6.5,1,5.31,5.31,0,0,0,8.1,4.9,5.31,5.31,0,0,0,12,6.5,5.46,5.46,0,0,0,6.5,12Z\"/>\n",
              "  </svg>\n",
              "    </button>\n",
              "    <script>\n",
              "      (() => {\n",
              "      const buttonEl =\n",
              "        document.querySelector('#id_1bf64ed8-e58c-46f0-a27a-e3dc6972b855 button.colab-df-generate');\n",
              "      buttonEl.style.display =\n",
              "        google.colab.kernel.accessAllowed ? 'block' : 'none';\n",
              "\n",
              "      buttonEl.onclick = () => {\n",
              "        google.colab.notebook.generateWithVariable('prompt');\n",
              "      }\n",
              "      })();\n",
              "    </script>\n",
              "  </div>\n",
              "\n",
              "    </div>\n",
              "  </div>\n"
            ],
            "application/vnd.google.colaboratory.intrinsic+json": {
              "type": "dataframe",
              "variable_name": "prompt",
              "summary": "{\n  \"name\": \"prompt\",\n  \"rows\": 567,\n  \"fields\": [\n    {\n      \"column\": \"y_pred\",\n      \"properties\": {\n        \"dtype\": \"string\",\n        \"num_unique_values\": 522,\n        \"samples\": [\n          \"1500000-1800000-USD-ANNUAL\",\n          \"40000-60000-THB-MONTHLY\",\n          \"70000-80000-BND-ANNUAL\"\n        ],\n        \"semantic_type\": \"\",\n        \"description\": \"\"\n      }\n    }\n  ]\n}"
            }
          },
          "metadata": {},
          "execution_count": 48
        }
      ]
    },
    {
      "cell_type": "code",
      "source": [
        "post_process_prompt = prompt"
      ],
      "metadata": {
        "id": "hT2jp75L3II-"
      },
      "execution_count": null,
      "outputs": []
    },
    {
      "cell_type": "code",
      "source": [
        "for i in prompt.index:\n",
        "  prediction = prompt.iloc[i].y_pred\n",
        "\n",
        "  if isinstance(prediction, str) and \"ERROR\" in prediction:\n",
        "    cleaned_text = prediction.replace(\"ERROR\", \"\").strip()\n",
        "    # remove None to Null, otherwise cant json loads\n",
        "    cleaned_text = re.sub(r'\\bNone\\b', 'null', cleaned_text)\n",
        "    try:\n",
        "      loaded = json.loads(cleaned_text)\n",
        "      label = f\"{loaded['MinSalary']}-{loaded['MaxSalary']}-{loaded['Currency'].upper()}-{loaded['Frequency'].upper()}\"\n",
        "    except:\n",
        "      label = None\n",
        "    post_process_prompt.loc[i, 'y_pred'] = label\n"
      ],
      "metadata": {
        "id": "8p0-gTZry_nO"
      },
      "execution_count": null,
      "outputs": []
    },
    {
      "cell_type": "code",
      "source": [
        "post_process_prompt"
      ],
      "metadata": {
        "colab": {
          "base_uri": "https://localhost:8080/",
          "height": 419
        },
        "id": "UXddBYTm3L5m",
        "outputId": "5ce1a067-1d7c-436b-f56b-bf4610830587"
      },
      "execution_count": null,
      "outputs": [
        {
          "output_type": "execute_result",
          "data": {
            "text/plain": [
              "                        y_pred\n",
              "0            0-1800-RM-MONTHLY\n",
              "1             60-60-HKD-ANNUAL\n",
              "2       60000-90000-AUD-ANNUAL\n",
              "3    140000-210000-AUD-MONTHLY\n",
              "4       25000-40000-USD-ANNUAL\n",
              "..                         ...\n",
              "562    26.24-None-NONE-MONTHLY\n",
              "563     40000-70000-USD-ANNUAL\n",
              "564         0-90000-AUD-ANNUAL\n",
              "565   1500.0-2500.0-RM-MONTHLY\n",
              "566     50000-80000-USD-ANNUAL\n",
              "\n",
              "[567 rows x 1 columns]"
            ],
            "text/html": [
              "\n",
              "  <div id=\"df-c8c141b3-edf2-4f92-9980-2794f2a970bf\" class=\"colab-df-container\">\n",
              "    <div>\n",
              "<style scoped>\n",
              "    .dataframe tbody tr th:only-of-type {\n",
              "        vertical-align: middle;\n",
              "    }\n",
              "\n",
              "    .dataframe tbody tr th {\n",
              "        vertical-align: top;\n",
              "    }\n",
              "\n",
              "    .dataframe thead th {\n",
              "        text-align: right;\n",
              "    }\n",
              "</style>\n",
              "<table border=\"1\" class=\"dataframe\">\n",
              "  <thead>\n",
              "    <tr style=\"text-align: right;\">\n",
              "      <th></th>\n",
              "      <th>y_pred</th>\n",
              "    </tr>\n",
              "  </thead>\n",
              "  <tbody>\n",
              "    <tr>\n",
              "      <th>0</th>\n",
              "      <td>0-1800-RM-MONTHLY</td>\n",
              "    </tr>\n",
              "    <tr>\n",
              "      <th>1</th>\n",
              "      <td>60-60-HKD-ANNUAL</td>\n",
              "    </tr>\n",
              "    <tr>\n",
              "      <th>2</th>\n",
              "      <td>60000-90000-AUD-ANNUAL</td>\n",
              "    </tr>\n",
              "    <tr>\n",
              "      <th>3</th>\n",
              "      <td>140000-210000-AUD-MONTHLY</td>\n",
              "    </tr>\n",
              "    <tr>\n",
              "      <th>4</th>\n",
              "      <td>25000-40000-USD-ANNUAL</td>\n",
              "    </tr>\n",
              "    <tr>\n",
              "      <th>...</th>\n",
              "      <td>...</td>\n",
              "    </tr>\n",
              "    <tr>\n",
              "      <th>562</th>\n",
              "      <td>26.24-None-NONE-MONTHLY</td>\n",
              "    </tr>\n",
              "    <tr>\n",
              "      <th>563</th>\n",
              "      <td>40000-70000-USD-ANNUAL</td>\n",
              "    </tr>\n",
              "    <tr>\n",
              "      <th>564</th>\n",
              "      <td>0-90000-AUD-ANNUAL</td>\n",
              "    </tr>\n",
              "    <tr>\n",
              "      <th>565</th>\n",
              "      <td>1500.0-2500.0-RM-MONTHLY</td>\n",
              "    </tr>\n",
              "    <tr>\n",
              "      <th>566</th>\n",
              "      <td>50000-80000-USD-ANNUAL</td>\n",
              "    </tr>\n",
              "  </tbody>\n",
              "</table>\n",
              "<p>567 rows × 1 columns</p>\n",
              "</div>\n",
              "    <div class=\"colab-df-buttons\">\n",
              "\n",
              "  <div class=\"colab-df-container\">\n",
              "    <button class=\"colab-df-convert\" onclick=\"convertToInteractive('df-c8c141b3-edf2-4f92-9980-2794f2a970bf')\"\n",
              "            title=\"Convert this dataframe to an interactive table.\"\n",
              "            style=\"display:none;\">\n",
              "\n",
              "  <svg xmlns=\"http://www.w3.org/2000/svg\" height=\"24px\" viewBox=\"0 -960 960 960\">\n",
              "    <path d=\"M120-120v-720h720v720H120Zm60-500h600v-160H180v160Zm220 220h160v-160H400v160Zm0 220h160v-160H400v160ZM180-400h160v-160H180v160Zm440 0h160v-160H620v160ZM180-180h160v-160H180v160Zm440 0h160v-160H620v160Z\"/>\n",
              "  </svg>\n",
              "    </button>\n",
              "\n",
              "  <style>\n",
              "    .colab-df-container {\n",
              "      display:flex;\n",
              "      gap: 12px;\n",
              "    }\n",
              "\n",
              "    .colab-df-convert {\n",
              "      background-color: #E8F0FE;\n",
              "      border: none;\n",
              "      border-radius: 50%;\n",
              "      cursor: pointer;\n",
              "      display: none;\n",
              "      fill: #1967D2;\n",
              "      height: 32px;\n",
              "      padding: 0 0 0 0;\n",
              "      width: 32px;\n",
              "    }\n",
              "\n",
              "    .colab-df-convert:hover {\n",
              "      background-color: #E2EBFA;\n",
              "      box-shadow: 0px 1px 2px rgba(60, 64, 67, 0.3), 0px 1px 3px 1px rgba(60, 64, 67, 0.15);\n",
              "      fill: #174EA6;\n",
              "    }\n",
              "\n",
              "    .colab-df-buttons div {\n",
              "      margin-bottom: 4px;\n",
              "    }\n",
              "\n",
              "    [theme=dark] .colab-df-convert {\n",
              "      background-color: #3B4455;\n",
              "      fill: #D2E3FC;\n",
              "    }\n",
              "\n",
              "    [theme=dark] .colab-df-convert:hover {\n",
              "      background-color: #434B5C;\n",
              "      box-shadow: 0px 1px 3px 1px rgba(0, 0, 0, 0.15);\n",
              "      filter: drop-shadow(0px 1px 2px rgba(0, 0, 0, 0.3));\n",
              "      fill: #FFFFFF;\n",
              "    }\n",
              "  </style>\n",
              "\n",
              "    <script>\n",
              "      const buttonEl =\n",
              "        document.querySelector('#df-c8c141b3-edf2-4f92-9980-2794f2a970bf button.colab-df-convert');\n",
              "      buttonEl.style.display =\n",
              "        google.colab.kernel.accessAllowed ? 'block' : 'none';\n",
              "\n",
              "      async function convertToInteractive(key) {\n",
              "        const element = document.querySelector('#df-c8c141b3-edf2-4f92-9980-2794f2a970bf');\n",
              "        const dataTable =\n",
              "          await google.colab.kernel.invokeFunction('convertToInteractive',\n",
              "                                                    [key], {});\n",
              "        if (!dataTable) return;\n",
              "\n",
              "        const docLinkHtml = 'Like what you see? Visit the ' +\n",
              "          '<a target=\"_blank\" href=https://colab.research.google.com/notebooks/data_table.ipynb>data table notebook</a>'\n",
              "          + ' to learn more about interactive tables.';\n",
              "        element.innerHTML = '';\n",
              "        dataTable['output_type'] = 'display_data';\n",
              "        await google.colab.output.renderOutput(dataTable, element);\n",
              "        const docLink = document.createElement('div');\n",
              "        docLink.innerHTML = docLinkHtml;\n",
              "        element.appendChild(docLink);\n",
              "      }\n",
              "    </script>\n",
              "  </div>\n",
              "\n",
              "\n",
              "    <div id=\"df-4a8febd4-360e-489d-b407-4fe3f5ecc217\">\n",
              "      <button class=\"colab-df-quickchart\" onclick=\"quickchart('df-4a8febd4-360e-489d-b407-4fe3f5ecc217')\"\n",
              "                title=\"Suggest charts\"\n",
              "                style=\"display:none;\">\n",
              "\n",
              "<svg xmlns=\"http://www.w3.org/2000/svg\" height=\"24px\"viewBox=\"0 0 24 24\"\n",
              "     width=\"24px\">\n",
              "    <g>\n",
              "        <path d=\"M19 3H5c-1.1 0-2 .9-2 2v14c0 1.1.9 2 2 2h14c1.1 0 2-.9 2-2V5c0-1.1-.9-2-2-2zM9 17H7v-7h2v7zm4 0h-2V7h2v10zm4 0h-2v-4h2v4z\"/>\n",
              "    </g>\n",
              "</svg>\n",
              "      </button>\n",
              "\n",
              "<style>\n",
              "  .colab-df-quickchart {\n",
              "      --bg-color: #E8F0FE;\n",
              "      --fill-color: #1967D2;\n",
              "      --hover-bg-color: #E2EBFA;\n",
              "      --hover-fill-color: #174EA6;\n",
              "      --disabled-fill-color: #AAA;\n",
              "      --disabled-bg-color: #DDD;\n",
              "  }\n",
              "\n",
              "  [theme=dark] .colab-df-quickchart {\n",
              "      --bg-color: #3B4455;\n",
              "      --fill-color: #D2E3FC;\n",
              "      --hover-bg-color: #434B5C;\n",
              "      --hover-fill-color: #FFFFFF;\n",
              "      --disabled-bg-color: #3B4455;\n",
              "      --disabled-fill-color: #666;\n",
              "  }\n",
              "\n",
              "  .colab-df-quickchart {\n",
              "    background-color: var(--bg-color);\n",
              "    border: none;\n",
              "    border-radius: 50%;\n",
              "    cursor: pointer;\n",
              "    display: none;\n",
              "    fill: var(--fill-color);\n",
              "    height: 32px;\n",
              "    padding: 0;\n",
              "    width: 32px;\n",
              "  }\n",
              "\n",
              "  .colab-df-quickchart:hover {\n",
              "    background-color: var(--hover-bg-color);\n",
              "    box-shadow: 0 1px 2px rgba(60, 64, 67, 0.3), 0 1px 3px 1px rgba(60, 64, 67, 0.15);\n",
              "    fill: var(--button-hover-fill-color);\n",
              "  }\n",
              "\n",
              "  .colab-df-quickchart-complete:disabled,\n",
              "  .colab-df-quickchart-complete:disabled:hover {\n",
              "    background-color: var(--disabled-bg-color);\n",
              "    fill: var(--disabled-fill-color);\n",
              "    box-shadow: none;\n",
              "  }\n",
              "\n",
              "  .colab-df-spinner {\n",
              "    border: 2px solid var(--fill-color);\n",
              "    border-color: transparent;\n",
              "    border-bottom-color: var(--fill-color);\n",
              "    animation:\n",
              "      spin 1s steps(1) infinite;\n",
              "  }\n",
              "\n",
              "  @keyframes spin {\n",
              "    0% {\n",
              "      border-color: transparent;\n",
              "      border-bottom-color: var(--fill-color);\n",
              "      border-left-color: var(--fill-color);\n",
              "    }\n",
              "    20% {\n",
              "      border-color: transparent;\n",
              "      border-left-color: var(--fill-color);\n",
              "      border-top-color: var(--fill-color);\n",
              "    }\n",
              "    30% {\n",
              "      border-color: transparent;\n",
              "      border-left-color: var(--fill-color);\n",
              "      border-top-color: var(--fill-color);\n",
              "      border-right-color: var(--fill-color);\n",
              "    }\n",
              "    40% {\n",
              "      border-color: transparent;\n",
              "      border-right-color: var(--fill-color);\n",
              "      border-top-color: var(--fill-color);\n",
              "    }\n",
              "    60% {\n",
              "      border-color: transparent;\n",
              "      border-right-color: var(--fill-color);\n",
              "    }\n",
              "    80% {\n",
              "      border-color: transparent;\n",
              "      border-right-color: var(--fill-color);\n",
              "      border-bottom-color: var(--fill-color);\n",
              "    }\n",
              "    90% {\n",
              "      border-color: transparent;\n",
              "      border-bottom-color: var(--fill-color);\n",
              "    }\n",
              "  }\n",
              "</style>\n",
              "\n",
              "      <script>\n",
              "        async function quickchart(key) {\n",
              "          const quickchartButtonEl =\n",
              "            document.querySelector('#' + key + ' button');\n",
              "          quickchartButtonEl.disabled = true;  // To prevent multiple clicks.\n",
              "          quickchartButtonEl.classList.add('colab-df-spinner');\n",
              "          try {\n",
              "            const charts = await google.colab.kernel.invokeFunction(\n",
              "                'suggestCharts', [key], {});\n",
              "          } catch (error) {\n",
              "            console.error('Error during call to suggestCharts:', error);\n",
              "          }\n",
              "          quickchartButtonEl.classList.remove('colab-df-spinner');\n",
              "          quickchartButtonEl.classList.add('colab-df-quickchart-complete');\n",
              "        }\n",
              "        (() => {\n",
              "          let quickchartButtonEl =\n",
              "            document.querySelector('#df-4a8febd4-360e-489d-b407-4fe3f5ecc217 button');\n",
              "          quickchartButtonEl.style.display =\n",
              "            google.colab.kernel.accessAllowed ? 'block' : 'none';\n",
              "        })();\n",
              "      </script>\n",
              "    </div>\n",
              "\n",
              "  <div id=\"id_bd9b227e-c4eb-4344-b9ed-7dcd002983eb\">\n",
              "    <style>\n",
              "      .colab-df-generate {\n",
              "        background-color: #E8F0FE;\n",
              "        border: none;\n",
              "        border-radius: 50%;\n",
              "        cursor: pointer;\n",
              "        display: none;\n",
              "        fill: #1967D2;\n",
              "        height: 32px;\n",
              "        padding: 0 0 0 0;\n",
              "        width: 32px;\n",
              "      }\n",
              "\n",
              "      .colab-df-generate:hover {\n",
              "        background-color: #E2EBFA;\n",
              "        box-shadow: 0px 1px 2px rgba(60, 64, 67, 0.3), 0px 1px 3px 1px rgba(60, 64, 67, 0.15);\n",
              "        fill: #174EA6;\n",
              "      }\n",
              "\n",
              "      [theme=dark] .colab-df-generate {\n",
              "        background-color: #3B4455;\n",
              "        fill: #D2E3FC;\n",
              "      }\n",
              "\n",
              "      [theme=dark] .colab-df-generate:hover {\n",
              "        background-color: #434B5C;\n",
              "        box-shadow: 0px 1px 3px 1px rgba(0, 0, 0, 0.15);\n",
              "        filter: drop-shadow(0px 1px 2px rgba(0, 0, 0, 0.3));\n",
              "        fill: #FFFFFF;\n",
              "      }\n",
              "    </style>\n",
              "    <button class=\"colab-df-generate\" onclick=\"generateWithVariable('prompt')\"\n",
              "            title=\"Generate code using this dataframe.\"\n",
              "            style=\"display:none;\">\n",
              "\n",
              "  <svg xmlns=\"http://www.w3.org/2000/svg\" height=\"24px\"viewBox=\"0 0 24 24\"\n",
              "       width=\"24px\">\n",
              "    <path d=\"M7,19H8.4L18.45,9,17,7.55,7,17.6ZM5,21V16.75L18.45,3.32a2,2,0,0,1,2.83,0l1.4,1.43a1.91,1.91,0,0,1,.58,1.4,1.91,1.91,0,0,1-.58,1.4L9.25,21ZM18.45,9,17,7.55Zm-12,3A5.31,5.31,0,0,0,4.9,8.1,5.31,5.31,0,0,0,1,6.5,5.31,5.31,0,0,0,4.9,4.9,5.31,5.31,0,0,0,6.5,1,5.31,5.31,0,0,0,8.1,4.9,5.31,5.31,0,0,0,12,6.5,5.46,5.46,0,0,0,6.5,12Z\"/>\n",
              "  </svg>\n",
              "    </button>\n",
              "    <script>\n",
              "      (() => {\n",
              "      const buttonEl =\n",
              "        document.querySelector('#id_bd9b227e-c4eb-4344-b9ed-7dcd002983eb button.colab-df-generate');\n",
              "      buttonEl.style.display =\n",
              "        google.colab.kernel.accessAllowed ? 'block' : 'none';\n",
              "\n",
              "      buttonEl.onclick = () => {\n",
              "        google.colab.notebook.generateWithVariable('prompt');\n",
              "      }\n",
              "      })();\n",
              "    </script>\n",
              "  </div>\n",
              "\n",
              "    </div>\n",
              "  </div>\n"
            ],
            "application/vnd.google.colaboratory.intrinsic+json": {
              "type": "dataframe",
              "variable_name": "prompt",
              "summary": "{\n  \"name\": \"prompt\",\n  \"rows\": 567,\n  \"fields\": [\n    {\n      \"column\": \"y_pred\",\n      \"properties\": {\n        \"dtype\": \"string\",\n        \"num_unique_values\": 519,\n        \"samples\": [\n          \"19000-38000-USD-MONTHLY\",\n          \"26.24-28.67-USD-ANNUAL\",\n          \"70000-80000-BND-ANNUAL\"\n        ],\n        \"semantic_type\": \"\",\n        \"description\": \"\"\n      }\n    }\n  ]\n}"
            }
          },
          "metadata": {},
          "execution_count": 51
        }
      ]
    },
    {
      "cell_type": "markdown",
      "source": [
        "Overall results"
      ],
      "metadata": {
        "id": "6Ks-MZyM5K9y"
      }
    },
    {
      "cell_type": "code",
      "source": [
        "total = len(post_process_prompt)\n",
        "excat_match = (post_process_prompt[\"y_pred\"] == salary_true[\"y_true\"]).sum()\n",
        "overall = (excat_match/ total) * 100\n",
        "print(f\"overall {overall:.2f}%\")"
      ],
      "metadata": {
        "colab": {
          "base_uri": "https://localhost:8080/"
        },
        "id": "TeNj-tqO4DW_",
        "outputId": "12c7aa5b-6292-4179-a2cd-f4c40fa9b8db"
      },
      "execution_count": null,
      "outputs": [
        {
          "output_type": "stream",
          "name": "stdout",
          "text": [
            "overall 1.94%\n"
          ]
        }
      ]
    },
    {
      "cell_type": "markdown",
      "source": [
        "accuray metrics"
      ],
      "metadata": {
        "id": "nlDj-Ovo5OPc"
      }
    },
    {
      "cell_type": "code",
      "source": [
        "df1_split = post_process_prompt['y_pred'].str.split('-', expand=True)\n",
        "df1_split = df1_split.iloc[:, :4]\n",
        "df2_split = salary_true['y_true'].str.split('-', expand=True)\n",
        "df2_split = df2_split.iloc[:, :4]\n",
        "\n",
        "df1_split.columns = ['MinSalary', 'MaxSalary', 'Currency', 'Frequency']\n",
        "df2_split.columns = ['MinSalary', 'MaxSalary', 'Currency', 'Frequency']\n",
        "\n",
        "min_salary_accuracy = (df1_split['MinSalary'] == df2_split['MinSalary']).mean()\n",
        "max_salary_accuracy = (df1_split['MaxSalary'] == df2_split['MaxSalary']).mean()\n",
        "currency_accuracy = (df1_split['Currency'] == df2_split['Currency']).mean()\n",
        "frequency_accuracy = (df1_split['Frequency'] == df2_split['Frequency']).mean()\n",
        "\n",
        "\n",
        "print(f\"MinSalary Accuracy: {min_salary_accuracy * 100:.2f}%\")\n",
        "print(f\"MaxSalary Accuracy: {max_salary_accuracy * 100:.2f}%\")\n",
        "print(f\"Currency Accuracy: {currency_accuracy * 100:.2f}%\")\n",
        "print(f\"Frequency Accuracy: {frequency_accuracy * 100:.2f}%\")"
      ],
      "metadata": {
        "colab": {
          "base_uri": "https://localhost:8080/"
        },
        "id": "fTjSwNxT6Tzp",
        "outputId": "8779cf09-c631-498a-f126-152731430c5f"
      },
      "execution_count": null,
      "outputs": [
        {
          "output_type": "stream",
          "name": "stdout",
          "text": [
            "MinSalary Accuracy: 27.87%\n",
            "MaxSalary Accuracy: 19.40%\n",
            "Currency Accuracy: 19.22%\n",
            "Frequency Accuracy: 19.40%\n"
          ]
        }
      ]
    },
    {
      "cell_type": "markdown",
      "source": [
        "# RBIC results"
      ],
      "metadata": {
        "id": "BRJDulCj8xts"
      }
    },
    {
      "cell_type": "code",
      "source": [
        "RBIC = pd.read_csv(\"2_post_processed_salary_labelled_test_set_qwen_rbic_preds.csv\")"
      ],
      "metadata": {
        "id": "1tJWRT2p8gic"
      },
      "execution_count": null,
      "outputs": []
    },
    {
      "cell_type": "code",
      "source": [
        "RBIC"
      ],
      "metadata": {
        "colab": {
          "base_uri": "https://localhost:8080/",
          "height": 419
        },
        "id": "JQvgv3mn8sfT",
        "outputId": "8eb81d15-e81d-4c63-d4e9-08dacf264dcf"
      },
      "execution_count": null,
      "outputs": [
        {
          "output_type": "execute_result",
          "data": {
            "text/plain": [
              "                          y_pred\n",
              "0                  --USD-MONTHLY\n",
              "1              50-70-USD-MONTHLY\n",
              "2        50000-70000-USD-MONTHLY\n",
              "3                  --USD-MONTHLY\n",
              "4              50-70-USD-MONTHLY\n",
              "..                           ...\n",
              "562                --USD-MONTHLY\n",
              "563  $50,000-$70,000-USD-MONTHLY\n",
              "564                --USD-MONTHLY\n",
              "565                --USD-MONTHLY\n",
              "566           Salary Range: None\n",
              "\n",
              "[567 rows x 1 columns]"
            ],
            "text/html": [
              "\n",
              "  <div id=\"df-c105307e-7d1b-4119-a26c-e03ee52c5ead\" class=\"colab-df-container\">\n",
              "    <div>\n",
              "<style scoped>\n",
              "    .dataframe tbody tr th:only-of-type {\n",
              "        vertical-align: middle;\n",
              "    }\n",
              "\n",
              "    .dataframe tbody tr th {\n",
              "        vertical-align: top;\n",
              "    }\n",
              "\n",
              "    .dataframe thead th {\n",
              "        text-align: right;\n",
              "    }\n",
              "</style>\n",
              "<table border=\"1\" class=\"dataframe\">\n",
              "  <thead>\n",
              "    <tr style=\"text-align: right;\">\n",
              "      <th></th>\n",
              "      <th>y_pred</th>\n",
              "    </tr>\n",
              "  </thead>\n",
              "  <tbody>\n",
              "    <tr>\n",
              "      <th>0</th>\n",
              "      <td>--USD-MONTHLY</td>\n",
              "    </tr>\n",
              "    <tr>\n",
              "      <th>1</th>\n",
              "      <td>50-70-USD-MONTHLY</td>\n",
              "    </tr>\n",
              "    <tr>\n",
              "      <th>2</th>\n",
              "      <td>50000-70000-USD-MONTHLY</td>\n",
              "    </tr>\n",
              "    <tr>\n",
              "      <th>3</th>\n",
              "      <td>--USD-MONTHLY</td>\n",
              "    </tr>\n",
              "    <tr>\n",
              "      <th>4</th>\n",
              "      <td>50-70-USD-MONTHLY</td>\n",
              "    </tr>\n",
              "    <tr>\n",
              "      <th>...</th>\n",
              "      <td>...</td>\n",
              "    </tr>\n",
              "    <tr>\n",
              "      <th>562</th>\n",
              "      <td>--USD-MONTHLY</td>\n",
              "    </tr>\n",
              "    <tr>\n",
              "      <th>563</th>\n",
              "      <td>$50,000-$70,000-USD-MONTHLY</td>\n",
              "    </tr>\n",
              "    <tr>\n",
              "      <th>564</th>\n",
              "      <td>--USD-MONTHLY</td>\n",
              "    </tr>\n",
              "    <tr>\n",
              "      <th>565</th>\n",
              "      <td>--USD-MONTHLY</td>\n",
              "    </tr>\n",
              "    <tr>\n",
              "      <th>566</th>\n",
              "      <td>Salary Range: None</td>\n",
              "    </tr>\n",
              "  </tbody>\n",
              "</table>\n",
              "<p>567 rows × 1 columns</p>\n",
              "</div>\n",
              "    <div class=\"colab-df-buttons\">\n",
              "\n",
              "  <div class=\"colab-df-container\">\n",
              "    <button class=\"colab-df-convert\" onclick=\"convertToInteractive('df-c105307e-7d1b-4119-a26c-e03ee52c5ead')\"\n",
              "            title=\"Convert this dataframe to an interactive table.\"\n",
              "            style=\"display:none;\">\n",
              "\n",
              "  <svg xmlns=\"http://www.w3.org/2000/svg\" height=\"24px\" viewBox=\"0 -960 960 960\">\n",
              "    <path d=\"M120-120v-720h720v720H120Zm60-500h600v-160H180v160Zm220 220h160v-160H400v160Zm0 220h160v-160H400v160ZM180-400h160v-160H180v160Zm440 0h160v-160H620v160ZM180-180h160v-160H180v160Zm440 0h160v-160H620v160Z\"/>\n",
              "  </svg>\n",
              "    </button>\n",
              "\n",
              "  <style>\n",
              "    .colab-df-container {\n",
              "      display:flex;\n",
              "      gap: 12px;\n",
              "    }\n",
              "\n",
              "    .colab-df-convert {\n",
              "      background-color: #E8F0FE;\n",
              "      border: none;\n",
              "      border-radius: 50%;\n",
              "      cursor: pointer;\n",
              "      display: none;\n",
              "      fill: #1967D2;\n",
              "      height: 32px;\n",
              "      padding: 0 0 0 0;\n",
              "      width: 32px;\n",
              "    }\n",
              "\n",
              "    .colab-df-convert:hover {\n",
              "      background-color: #E2EBFA;\n",
              "      box-shadow: 0px 1px 2px rgba(60, 64, 67, 0.3), 0px 1px 3px 1px rgba(60, 64, 67, 0.15);\n",
              "      fill: #174EA6;\n",
              "    }\n",
              "\n",
              "    .colab-df-buttons div {\n",
              "      margin-bottom: 4px;\n",
              "    }\n",
              "\n",
              "    [theme=dark] .colab-df-convert {\n",
              "      background-color: #3B4455;\n",
              "      fill: #D2E3FC;\n",
              "    }\n",
              "\n",
              "    [theme=dark] .colab-df-convert:hover {\n",
              "      background-color: #434B5C;\n",
              "      box-shadow: 0px 1px 3px 1px rgba(0, 0, 0, 0.15);\n",
              "      filter: drop-shadow(0px 1px 2px rgba(0, 0, 0, 0.3));\n",
              "      fill: #FFFFFF;\n",
              "    }\n",
              "  </style>\n",
              "\n",
              "    <script>\n",
              "      const buttonEl =\n",
              "        document.querySelector('#df-c105307e-7d1b-4119-a26c-e03ee52c5ead button.colab-df-convert');\n",
              "      buttonEl.style.display =\n",
              "        google.colab.kernel.accessAllowed ? 'block' : 'none';\n",
              "\n",
              "      async function convertToInteractive(key) {\n",
              "        const element = document.querySelector('#df-c105307e-7d1b-4119-a26c-e03ee52c5ead');\n",
              "        const dataTable =\n",
              "          await google.colab.kernel.invokeFunction('convertToInteractive',\n",
              "                                                    [key], {});\n",
              "        if (!dataTable) return;\n",
              "\n",
              "        const docLinkHtml = 'Like what you see? Visit the ' +\n",
              "          '<a target=\"_blank\" href=https://colab.research.google.com/notebooks/data_table.ipynb>data table notebook</a>'\n",
              "          + ' to learn more about interactive tables.';\n",
              "        element.innerHTML = '';\n",
              "        dataTable['output_type'] = 'display_data';\n",
              "        await google.colab.output.renderOutput(dataTable, element);\n",
              "        const docLink = document.createElement('div');\n",
              "        docLink.innerHTML = docLinkHtml;\n",
              "        element.appendChild(docLink);\n",
              "      }\n",
              "    </script>\n",
              "  </div>\n",
              "\n",
              "\n",
              "    <div id=\"df-f8a4fb05-f654-4faa-9ad3-9835431aec9b\">\n",
              "      <button class=\"colab-df-quickchart\" onclick=\"quickchart('df-f8a4fb05-f654-4faa-9ad3-9835431aec9b')\"\n",
              "                title=\"Suggest charts\"\n",
              "                style=\"display:none;\">\n",
              "\n",
              "<svg xmlns=\"http://www.w3.org/2000/svg\" height=\"24px\"viewBox=\"0 0 24 24\"\n",
              "     width=\"24px\">\n",
              "    <g>\n",
              "        <path d=\"M19 3H5c-1.1 0-2 .9-2 2v14c0 1.1.9 2 2 2h14c1.1 0 2-.9 2-2V5c0-1.1-.9-2-2-2zM9 17H7v-7h2v7zm4 0h-2V7h2v10zm4 0h-2v-4h2v4z\"/>\n",
              "    </g>\n",
              "</svg>\n",
              "      </button>\n",
              "\n",
              "<style>\n",
              "  .colab-df-quickchart {\n",
              "      --bg-color: #E8F0FE;\n",
              "      --fill-color: #1967D2;\n",
              "      --hover-bg-color: #E2EBFA;\n",
              "      --hover-fill-color: #174EA6;\n",
              "      --disabled-fill-color: #AAA;\n",
              "      --disabled-bg-color: #DDD;\n",
              "  }\n",
              "\n",
              "  [theme=dark] .colab-df-quickchart {\n",
              "      --bg-color: #3B4455;\n",
              "      --fill-color: #D2E3FC;\n",
              "      --hover-bg-color: #434B5C;\n",
              "      --hover-fill-color: #FFFFFF;\n",
              "      --disabled-bg-color: #3B4455;\n",
              "      --disabled-fill-color: #666;\n",
              "  }\n",
              "\n",
              "  .colab-df-quickchart {\n",
              "    background-color: var(--bg-color);\n",
              "    border: none;\n",
              "    border-radius: 50%;\n",
              "    cursor: pointer;\n",
              "    display: none;\n",
              "    fill: var(--fill-color);\n",
              "    height: 32px;\n",
              "    padding: 0;\n",
              "    width: 32px;\n",
              "  }\n",
              "\n",
              "  .colab-df-quickchart:hover {\n",
              "    background-color: var(--hover-bg-color);\n",
              "    box-shadow: 0 1px 2px rgba(60, 64, 67, 0.3), 0 1px 3px 1px rgba(60, 64, 67, 0.15);\n",
              "    fill: var(--button-hover-fill-color);\n",
              "  }\n",
              "\n",
              "  .colab-df-quickchart-complete:disabled,\n",
              "  .colab-df-quickchart-complete:disabled:hover {\n",
              "    background-color: var(--disabled-bg-color);\n",
              "    fill: var(--disabled-fill-color);\n",
              "    box-shadow: none;\n",
              "  }\n",
              "\n",
              "  .colab-df-spinner {\n",
              "    border: 2px solid var(--fill-color);\n",
              "    border-color: transparent;\n",
              "    border-bottom-color: var(--fill-color);\n",
              "    animation:\n",
              "      spin 1s steps(1) infinite;\n",
              "  }\n",
              "\n",
              "  @keyframes spin {\n",
              "    0% {\n",
              "      border-color: transparent;\n",
              "      border-bottom-color: var(--fill-color);\n",
              "      border-left-color: var(--fill-color);\n",
              "    }\n",
              "    20% {\n",
              "      border-color: transparent;\n",
              "      border-left-color: var(--fill-color);\n",
              "      border-top-color: var(--fill-color);\n",
              "    }\n",
              "    30% {\n",
              "      border-color: transparent;\n",
              "      border-left-color: var(--fill-color);\n",
              "      border-top-color: var(--fill-color);\n",
              "      border-right-color: var(--fill-color);\n",
              "    }\n",
              "    40% {\n",
              "      border-color: transparent;\n",
              "      border-right-color: var(--fill-color);\n",
              "      border-top-color: var(--fill-color);\n",
              "    }\n",
              "    60% {\n",
              "      border-color: transparent;\n",
              "      border-right-color: var(--fill-color);\n",
              "    }\n",
              "    80% {\n",
              "      border-color: transparent;\n",
              "      border-right-color: var(--fill-color);\n",
              "      border-bottom-color: var(--fill-color);\n",
              "    }\n",
              "    90% {\n",
              "      border-color: transparent;\n",
              "      border-bottom-color: var(--fill-color);\n",
              "    }\n",
              "  }\n",
              "</style>\n",
              "\n",
              "      <script>\n",
              "        async function quickchart(key) {\n",
              "          const quickchartButtonEl =\n",
              "            document.querySelector('#' + key + ' button');\n",
              "          quickchartButtonEl.disabled = true;  // To prevent multiple clicks.\n",
              "          quickchartButtonEl.classList.add('colab-df-spinner');\n",
              "          try {\n",
              "            const charts = await google.colab.kernel.invokeFunction(\n",
              "                'suggestCharts', [key], {});\n",
              "          } catch (error) {\n",
              "            console.error('Error during call to suggestCharts:', error);\n",
              "          }\n",
              "          quickchartButtonEl.classList.remove('colab-df-spinner');\n",
              "          quickchartButtonEl.classList.add('colab-df-quickchart-complete');\n",
              "        }\n",
              "        (() => {\n",
              "          let quickchartButtonEl =\n",
              "            document.querySelector('#df-f8a4fb05-f654-4faa-9ad3-9835431aec9b button');\n",
              "          quickchartButtonEl.style.display =\n",
              "            google.colab.kernel.accessAllowed ? 'block' : 'none';\n",
              "        })();\n",
              "      </script>\n",
              "    </div>\n",
              "\n",
              "  <div id=\"id_89fe846f-dd84-4ed9-b279-9981241b61a4\">\n",
              "    <style>\n",
              "      .colab-df-generate {\n",
              "        background-color: #E8F0FE;\n",
              "        border: none;\n",
              "        border-radius: 50%;\n",
              "        cursor: pointer;\n",
              "        display: none;\n",
              "        fill: #1967D2;\n",
              "        height: 32px;\n",
              "        padding: 0 0 0 0;\n",
              "        width: 32px;\n",
              "      }\n",
              "\n",
              "      .colab-df-generate:hover {\n",
              "        background-color: #E2EBFA;\n",
              "        box-shadow: 0px 1px 2px rgba(60, 64, 67, 0.3), 0px 1px 3px 1px rgba(60, 64, 67, 0.15);\n",
              "        fill: #174EA6;\n",
              "      }\n",
              "\n",
              "      [theme=dark] .colab-df-generate {\n",
              "        background-color: #3B4455;\n",
              "        fill: #D2E3FC;\n",
              "      }\n",
              "\n",
              "      [theme=dark] .colab-df-generate:hover {\n",
              "        background-color: #434B5C;\n",
              "        box-shadow: 0px 1px 3px 1px rgba(0, 0, 0, 0.15);\n",
              "        filter: drop-shadow(0px 1px 2px rgba(0, 0, 0, 0.3));\n",
              "        fill: #FFFFFF;\n",
              "      }\n",
              "    </style>\n",
              "    <button class=\"colab-df-generate\" onclick=\"generateWithVariable('RBIC')\"\n",
              "            title=\"Generate code using this dataframe.\"\n",
              "            style=\"display:none;\">\n",
              "\n",
              "  <svg xmlns=\"http://www.w3.org/2000/svg\" height=\"24px\"viewBox=\"0 0 24 24\"\n",
              "       width=\"24px\">\n",
              "    <path d=\"M7,19H8.4L18.45,9,17,7.55,7,17.6ZM5,21V16.75L18.45,3.32a2,2,0,0,1,2.83,0l1.4,1.43a1.91,1.91,0,0,1,.58,1.4,1.91,1.91,0,0,1-.58,1.4L9.25,21ZM18.45,9,17,7.55Zm-12,3A5.31,5.31,0,0,0,4.9,8.1,5.31,5.31,0,0,0,1,6.5,5.31,5.31,0,0,0,4.9,4.9,5.31,5.31,0,0,0,6.5,1,5.31,5.31,0,0,0,8.1,4.9,5.31,5.31,0,0,0,12,6.5,5.46,5.46,0,0,0,6.5,12Z\"/>\n",
              "  </svg>\n",
              "    </button>\n",
              "    <script>\n",
              "      (() => {\n",
              "      const buttonEl =\n",
              "        document.querySelector('#id_89fe846f-dd84-4ed9-b279-9981241b61a4 button.colab-df-generate');\n",
              "      buttonEl.style.display =\n",
              "        google.colab.kernel.accessAllowed ? 'block' : 'none';\n",
              "\n",
              "      buttonEl.onclick = () => {\n",
              "        google.colab.notebook.generateWithVariable('RBIC');\n",
              "      }\n",
              "      })();\n",
              "    </script>\n",
              "  </div>\n",
              "\n",
              "    </div>\n",
              "  </div>\n"
            ],
            "application/vnd.google.colaboratory.intrinsic+json": {
              "type": "dataframe",
              "variable_name": "RBIC",
              "summary": "{\n  \"name\": \"RBIC\",\n  \"rows\": 567,\n  \"fields\": [\n    {\n      \"column\": \"y_pred\",\n      \"properties\": {\n        \"dtype\": \"category\",\n        \"num_unique_values\": 121,\n        \"samples\": [\n          \"$50,000-$55,000-USD-MONTHLY\",\n          \"25000-35000-USD-MONTHLY\",\n          \"$50,000-$70,000-USD-MONTHLY\"\n        ],\n        \"semantic_type\": \"\",\n        \"description\": \"\"\n      }\n    }\n  ]\n}"
            }
          },
          "metadata": {},
          "execution_count": 114
        }
      ]
    },
    {
      "cell_type": "markdown",
      "source": [
        "overall results"
      ],
      "metadata": {
        "id": "5S8mLkMY5RCG"
      }
    },
    {
      "cell_type": "code",
      "source": [
        "total = len(salary_true)\n",
        "excat_match = (RBIC[\"y_pred\"] == salary_true[\"y_true\"]).sum()\n",
        "overall = (excat_match/ total) * 100\n",
        "print(f\"overall {overall:.2f}%\")"
      ],
      "metadata": {
        "colab": {
          "base_uri": "https://localhost:8080/"
        },
        "id": "xrjg_-ct8zN_",
        "outputId": "3e4c94e4-cdf3-421e-b75c-a23e692aee16"
      },
      "execution_count": null,
      "outputs": [
        {
          "output_type": "stream",
          "name": "stdout",
          "text": [
            "overall 0.00%\n"
          ]
        }
      ]
    },
    {
      "cell_type": "code",
      "source": [
        "df1_split = RBIC['y_pred'].str.split('-', expand=True)\n",
        "df1_split = df1_split.iloc[:, :4]\n",
        "df2_split = salary_true['y_true'].str.split('-', expand=True)\n",
        "df2_split = df2_split.iloc[:, :4]\n",
        "\n",
        "df1_split.columns = ['MinSalary', 'MaxSalary', 'Currency', 'Frequency']\n",
        "df2_split.columns = ['MinSalary', 'MaxSalary', 'Currency', 'Frequency']\n",
        "\n",
        "min_salary_accuracy = (df1_split['MinSalary'] == df2_split['MinSalary']).mean()\n",
        "max_salary_accuracy = (df1_split['MaxSalary'] == df2_split['MaxSalary']).mean()\n",
        "currency_accuracy = (df1_split['Currency'] == df2_split['Currency']).mean()\n",
        "frequency_accuracy = (df1_split['Frequency'] == df2_split['Frequency']).mean()\n",
        "\n",
        "\n",
        "print(f\"MinSalary Accuracy: {min_salary_accuracy * 100:.2f}%\")\n",
        "print(f\"MaxSalary Accuracy: {max_salary_accuracy * 100:.2f}%\")\n",
        "print(f\"Currency Accuracy: {currency_accuracy * 100:.2f}%\")\n",
        "print(f\"Frequency Accuracy: {frequency_accuracy * 100:.2f}%\")"
      ],
      "metadata": {
        "colab": {
          "base_uri": "https://localhost:8080/"
        },
        "id": "YWU4K4EB_Dbl",
        "outputId": "3b45df62-afc5-44a0-b333-280d103b7cd1"
      },
      "execution_count": null,
      "outputs": [
        {
          "output_type": "stream",
          "name": "stdout",
          "text": [
            "MinSalary Accuracy: 7.58%\n",
            "MaxSalary Accuracy: 6.88%\n",
            "Currency Accuracy: 0.71%\n",
            "Frequency Accuracy: 22.93%\n"
          ]
        }
      ]
    },
    {
      "cell_type": "markdown",
      "source": [
        "# RBIC with fewshot"
      ],
      "metadata": {
        "id": "8EAgX3Gh_RVO"
      }
    },
    {
      "cell_type": "code",
      "source": [
        "salary_true"
      ],
      "metadata": {
        "colab": {
          "base_uri": "https://localhost:8080/",
          "height": 725
        },
        "id": "2yOnpuI7DaPJ",
        "outputId": "50307bc4-1462-4cf4-fe11-416e801dfa10"
      },
      "execution_count": null,
      "outputs": [
        {
          "output_type": "execute_result",
          "data": {
            "text/plain": [
              "       job_id                                          job_title  \\\n",
              "0    72527377                                           Cashier    \n",
              "1    73593343                                              學校派飯員   \n",
              "2    51294698                 Skid Steer Operator/ Truck Driver    \n",
              "3    56209744                       Business Development Manager   \n",
              "4    63825213                       Workplace and Safety Officer   \n",
              "..        ...                                                ...   \n",
              "562  59723262             Trainee Rail Safety Officer - Tauranga   \n",
              "563  76585795            Procurement Manager - Logistics Company   \n",
              "564  51727455  Process Operators - Annies Fruit Bars - Mornin...   \n",
              "565  70947712     HONG LEONG BANK RECOVERY OFFICER / CALL CENTRE   \n",
              "566  78989918     Software Engineer - Mobile App Developer , DxD   \n",
              "\n",
              "                                        job_ad_details nation_short_desc  \\\n",
              "0    Bertanggungjawab sebagai cashierMengurus semua...                MY   \n",
              "1    編號 : 35-24-0004254 LA 兼職\\n日期 : 01/02/2024\\n職位 ...                HK   \n",
              "2    Company:  Bitu-mill specializes in road profil...               AUS   \n",
              "3    We’re the P&N Group, one of Australia’s larges...               AUS   \n",
              "4      ResponsibilitesThis person will be working w...                SG   \n",
              "..                                                 ...               ...   \n",
              "562  Company description:KiwiRail LtdJob descriptio...                NZ   \n",
              "563  Our client is one of the top logistics players...                ID   \n",
              "564  Our Business Since the time of the hekenga, ou...                NZ   \n",
              "565  ***Contact person : En.Aaron 0129737175 ( what...                MY   \n",
              "566  Job Responsibilities:\\n\\nDesign and develop hi...                SG   \n",
              "\n",
              "            salary_additional_text                 y_true  \n",
              "0    RM 1,500 – RM 1,800 per month  1500-1800-MYR-MONTHLY  \n",
              "1                              NaN       60-60-HKD-HOURLY  \n",
              "2                              NaN          0-0-None-None  \n",
              "3                              NaN          0-0-None-None  \n",
              "4                                -          0-0-None-None  \n",
              "..                             ...                    ...  \n",
              "562                            NaN       26-26-NZD-HOURLY  \n",
              "563                            NaN          0-0-None-None  \n",
              "564                            NaN          0-0-None-None  \n",
              "565                            NaN  1500-2500-MYR-MONTHLY  \n",
              "566                            NaN          0-0-None-None  \n",
              "\n",
              "[567 rows x 6 columns]"
            ],
            "text/html": [
              "\n",
              "  <div id=\"df-112d73e6-6887-4fd9-a318-560f14c8f8ff\" class=\"colab-df-container\">\n",
              "    <div>\n",
              "<style scoped>\n",
              "    .dataframe tbody tr th:only-of-type {\n",
              "        vertical-align: middle;\n",
              "    }\n",
              "\n",
              "    .dataframe tbody tr th {\n",
              "        vertical-align: top;\n",
              "    }\n",
              "\n",
              "    .dataframe thead th {\n",
              "        text-align: right;\n",
              "    }\n",
              "</style>\n",
              "<table border=\"1\" class=\"dataframe\">\n",
              "  <thead>\n",
              "    <tr style=\"text-align: right;\">\n",
              "      <th></th>\n",
              "      <th>job_id</th>\n",
              "      <th>job_title</th>\n",
              "      <th>job_ad_details</th>\n",
              "      <th>nation_short_desc</th>\n",
              "      <th>salary_additional_text</th>\n",
              "      <th>y_true</th>\n",
              "    </tr>\n",
              "  </thead>\n",
              "  <tbody>\n",
              "    <tr>\n",
              "      <th>0</th>\n",
              "      <td>72527377</td>\n",
              "      <td>Cashier</td>\n",
              "      <td>Bertanggungjawab sebagai cashierMengurus semua...</td>\n",
              "      <td>MY</td>\n",
              "      <td>RM 1,500 – RM 1,800 per month</td>\n",
              "      <td>1500-1800-MYR-MONTHLY</td>\n",
              "    </tr>\n",
              "    <tr>\n",
              "      <th>1</th>\n",
              "      <td>73593343</td>\n",
              "      <td>學校派飯員</td>\n",
              "      <td>編號 : 35-24-0004254 LA 兼職\\n日期 : 01/02/2024\\n職位 ...</td>\n",
              "      <td>HK</td>\n",
              "      <td>NaN</td>\n",
              "      <td>60-60-HKD-HOURLY</td>\n",
              "    </tr>\n",
              "    <tr>\n",
              "      <th>2</th>\n",
              "      <td>51294698</td>\n",
              "      <td>Skid Steer Operator/ Truck Driver</td>\n",
              "      <td>Company:  Bitu-mill specializes in road profil...</td>\n",
              "      <td>AUS</td>\n",
              "      <td>NaN</td>\n",
              "      <td>0-0-None-None</td>\n",
              "    </tr>\n",
              "    <tr>\n",
              "      <th>3</th>\n",
              "      <td>56209744</td>\n",
              "      <td>Business Development Manager</td>\n",
              "      <td>We’re the P&amp;N Group, one of Australia’s larges...</td>\n",
              "      <td>AUS</td>\n",
              "      <td>NaN</td>\n",
              "      <td>0-0-None-None</td>\n",
              "    </tr>\n",
              "    <tr>\n",
              "      <th>4</th>\n",
              "      <td>63825213</td>\n",
              "      <td>Workplace and Safety Officer</td>\n",
              "      <td>ResponsibilitesThis person will be working w...</td>\n",
              "      <td>SG</td>\n",
              "      <td>-</td>\n",
              "      <td>0-0-None-None</td>\n",
              "    </tr>\n",
              "    <tr>\n",
              "      <th>...</th>\n",
              "      <td>...</td>\n",
              "      <td>...</td>\n",
              "      <td>...</td>\n",
              "      <td>...</td>\n",
              "      <td>...</td>\n",
              "      <td>...</td>\n",
              "    </tr>\n",
              "    <tr>\n",
              "      <th>562</th>\n",
              "      <td>59723262</td>\n",
              "      <td>Trainee Rail Safety Officer - Tauranga</td>\n",
              "      <td>Company description:KiwiRail LtdJob descriptio...</td>\n",
              "      <td>NZ</td>\n",
              "      <td>NaN</td>\n",
              "      <td>26-26-NZD-HOURLY</td>\n",
              "    </tr>\n",
              "    <tr>\n",
              "      <th>563</th>\n",
              "      <td>76585795</td>\n",
              "      <td>Procurement Manager - Logistics Company</td>\n",
              "      <td>Our client is one of the top logistics players...</td>\n",
              "      <td>ID</td>\n",
              "      <td>NaN</td>\n",
              "      <td>0-0-None-None</td>\n",
              "    </tr>\n",
              "    <tr>\n",
              "      <th>564</th>\n",
              "      <td>51727455</td>\n",
              "      <td>Process Operators - Annies Fruit Bars - Mornin...</td>\n",
              "      <td>Our Business Since the time of the hekenga, ou...</td>\n",
              "      <td>NZ</td>\n",
              "      <td>NaN</td>\n",
              "      <td>0-0-None-None</td>\n",
              "    </tr>\n",
              "    <tr>\n",
              "      <th>565</th>\n",
              "      <td>70947712</td>\n",
              "      <td>HONG LEONG BANK RECOVERY OFFICER / CALL CENTRE</td>\n",
              "      <td>***Contact person : En.Aaron 0129737175 ( what...</td>\n",
              "      <td>MY</td>\n",
              "      <td>NaN</td>\n",
              "      <td>1500-2500-MYR-MONTHLY</td>\n",
              "    </tr>\n",
              "    <tr>\n",
              "      <th>566</th>\n",
              "      <td>78989918</td>\n",
              "      <td>Software Engineer - Mobile App Developer , DxD</td>\n",
              "      <td>Job Responsibilities:\\n\\nDesign and develop hi...</td>\n",
              "      <td>SG</td>\n",
              "      <td>NaN</td>\n",
              "      <td>0-0-None-None</td>\n",
              "    </tr>\n",
              "  </tbody>\n",
              "</table>\n",
              "<p>567 rows × 6 columns</p>\n",
              "</div>\n",
              "    <div class=\"colab-df-buttons\">\n",
              "\n",
              "  <div class=\"colab-df-container\">\n",
              "    <button class=\"colab-df-convert\" onclick=\"convertToInteractive('df-112d73e6-6887-4fd9-a318-560f14c8f8ff')\"\n",
              "            title=\"Convert this dataframe to an interactive table.\"\n",
              "            style=\"display:none;\">\n",
              "\n",
              "  <svg xmlns=\"http://www.w3.org/2000/svg\" height=\"24px\" viewBox=\"0 -960 960 960\">\n",
              "    <path d=\"M120-120v-720h720v720H120Zm60-500h600v-160H180v160Zm220 220h160v-160H400v160Zm0 220h160v-160H400v160ZM180-400h160v-160H180v160Zm440 0h160v-160H620v160ZM180-180h160v-160H180v160Zm440 0h160v-160H620v160Z\"/>\n",
              "  </svg>\n",
              "    </button>\n",
              "\n",
              "  <style>\n",
              "    .colab-df-container {\n",
              "      display:flex;\n",
              "      gap: 12px;\n",
              "    }\n",
              "\n",
              "    .colab-df-convert {\n",
              "      background-color: #E8F0FE;\n",
              "      border: none;\n",
              "      border-radius: 50%;\n",
              "      cursor: pointer;\n",
              "      display: none;\n",
              "      fill: #1967D2;\n",
              "      height: 32px;\n",
              "      padding: 0 0 0 0;\n",
              "      width: 32px;\n",
              "    }\n",
              "\n",
              "    .colab-df-convert:hover {\n",
              "      background-color: #E2EBFA;\n",
              "      box-shadow: 0px 1px 2px rgba(60, 64, 67, 0.3), 0px 1px 3px 1px rgba(60, 64, 67, 0.15);\n",
              "      fill: #174EA6;\n",
              "    }\n",
              "\n",
              "    .colab-df-buttons div {\n",
              "      margin-bottom: 4px;\n",
              "    }\n",
              "\n",
              "    [theme=dark] .colab-df-convert {\n",
              "      background-color: #3B4455;\n",
              "      fill: #D2E3FC;\n",
              "    }\n",
              "\n",
              "    [theme=dark] .colab-df-convert:hover {\n",
              "      background-color: #434B5C;\n",
              "      box-shadow: 0px 1px 3px 1px rgba(0, 0, 0, 0.15);\n",
              "      filter: drop-shadow(0px 1px 2px rgba(0, 0, 0, 0.3));\n",
              "      fill: #FFFFFF;\n",
              "    }\n",
              "  </style>\n",
              "\n",
              "    <script>\n",
              "      const buttonEl =\n",
              "        document.querySelector('#df-112d73e6-6887-4fd9-a318-560f14c8f8ff button.colab-df-convert');\n",
              "      buttonEl.style.display =\n",
              "        google.colab.kernel.accessAllowed ? 'block' : 'none';\n",
              "\n",
              "      async function convertToInteractive(key) {\n",
              "        const element = document.querySelector('#df-112d73e6-6887-4fd9-a318-560f14c8f8ff');\n",
              "        const dataTable =\n",
              "          await google.colab.kernel.invokeFunction('convertToInteractive',\n",
              "                                                    [key], {});\n",
              "        if (!dataTable) return;\n",
              "\n",
              "        const docLinkHtml = 'Like what you see? Visit the ' +\n",
              "          '<a target=\"_blank\" href=https://colab.research.google.com/notebooks/data_table.ipynb>data table notebook</a>'\n",
              "          + ' to learn more about interactive tables.';\n",
              "        element.innerHTML = '';\n",
              "        dataTable['output_type'] = 'display_data';\n",
              "        await google.colab.output.renderOutput(dataTable, element);\n",
              "        const docLink = document.createElement('div');\n",
              "        docLink.innerHTML = docLinkHtml;\n",
              "        element.appendChild(docLink);\n",
              "      }\n",
              "    </script>\n",
              "  </div>\n",
              "\n",
              "\n",
              "    <div id=\"df-2a2f98f1-569c-4f4c-812f-d50855efae88\">\n",
              "      <button class=\"colab-df-quickchart\" onclick=\"quickchart('df-2a2f98f1-569c-4f4c-812f-d50855efae88')\"\n",
              "                title=\"Suggest charts\"\n",
              "                style=\"display:none;\">\n",
              "\n",
              "<svg xmlns=\"http://www.w3.org/2000/svg\" height=\"24px\"viewBox=\"0 0 24 24\"\n",
              "     width=\"24px\">\n",
              "    <g>\n",
              "        <path d=\"M19 3H5c-1.1 0-2 .9-2 2v14c0 1.1.9 2 2 2h14c1.1 0 2-.9 2-2V5c0-1.1-.9-2-2-2zM9 17H7v-7h2v7zm4 0h-2V7h2v10zm4 0h-2v-4h2v4z\"/>\n",
              "    </g>\n",
              "</svg>\n",
              "      </button>\n",
              "\n",
              "<style>\n",
              "  .colab-df-quickchart {\n",
              "      --bg-color: #E8F0FE;\n",
              "      --fill-color: #1967D2;\n",
              "      --hover-bg-color: #E2EBFA;\n",
              "      --hover-fill-color: #174EA6;\n",
              "      --disabled-fill-color: #AAA;\n",
              "      --disabled-bg-color: #DDD;\n",
              "  }\n",
              "\n",
              "  [theme=dark] .colab-df-quickchart {\n",
              "      --bg-color: #3B4455;\n",
              "      --fill-color: #D2E3FC;\n",
              "      --hover-bg-color: #434B5C;\n",
              "      --hover-fill-color: #FFFFFF;\n",
              "      --disabled-bg-color: #3B4455;\n",
              "      --disabled-fill-color: #666;\n",
              "  }\n",
              "\n",
              "  .colab-df-quickchart {\n",
              "    background-color: var(--bg-color);\n",
              "    border: none;\n",
              "    border-radius: 50%;\n",
              "    cursor: pointer;\n",
              "    display: none;\n",
              "    fill: var(--fill-color);\n",
              "    height: 32px;\n",
              "    padding: 0;\n",
              "    width: 32px;\n",
              "  }\n",
              "\n",
              "  .colab-df-quickchart:hover {\n",
              "    background-color: var(--hover-bg-color);\n",
              "    box-shadow: 0 1px 2px rgba(60, 64, 67, 0.3), 0 1px 3px 1px rgba(60, 64, 67, 0.15);\n",
              "    fill: var(--button-hover-fill-color);\n",
              "  }\n",
              "\n",
              "  .colab-df-quickchart-complete:disabled,\n",
              "  .colab-df-quickchart-complete:disabled:hover {\n",
              "    background-color: var(--disabled-bg-color);\n",
              "    fill: var(--disabled-fill-color);\n",
              "    box-shadow: none;\n",
              "  }\n",
              "\n",
              "  .colab-df-spinner {\n",
              "    border: 2px solid var(--fill-color);\n",
              "    border-color: transparent;\n",
              "    border-bottom-color: var(--fill-color);\n",
              "    animation:\n",
              "      spin 1s steps(1) infinite;\n",
              "  }\n",
              "\n",
              "  @keyframes spin {\n",
              "    0% {\n",
              "      border-color: transparent;\n",
              "      border-bottom-color: var(--fill-color);\n",
              "      border-left-color: var(--fill-color);\n",
              "    }\n",
              "    20% {\n",
              "      border-color: transparent;\n",
              "      border-left-color: var(--fill-color);\n",
              "      border-top-color: var(--fill-color);\n",
              "    }\n",
              "    30% {\n",
              "      border-color: transparent;\n",
              "      border-left-color: var(--fill-color);\n",
              "      border-top-color: var(--fill-color);\n",
              "      border-right-color: var(--fill-color);\n",
              "    }\n",
              "    40% {\n",
              "      border-color: transparent;\n",
              "      border-right-color: var(--fill-color);\n",
              "      border-top-color: var(--fill-color);\n",
              "    }\n",
              "    60% {\n",
              "      border-color: transparent;\n",
              "      border-right-color: var(--fill-color);\n",
              "    }\n",
              "    80% {\n",
              "      border-color: transparent;\n",
              "      border-right-color: var(--fill-color);\n",
              "      border-bottom-color: var(--fill-color);\n",
              "    }\n",
              "    90% {\n",
              "      border-color: transparent;\n",
              "      border-bottom-color: var(--fill-color);\n",
              "    }\n",
              "  }\n",
              "</style>\n",
              "\n",
              "      <script>\n",
              "        async function quickchart(key) {\n",
              "          const quickchartButtonEl =\n",
              "            document.querySelector('#' + key + ' button');\n",
              "          quickchartButtonEl.disabled = true;  // To prevent multiple clicks.\n",
              "          quickchartButtonEl.classList.add('colab-df-spinner');\n",
              "          try {\n",
              "            const charts = await google.colab.kernel.invokeFunction(\n",
              "                'suggestCharts', [key], {});\n",
              "          } catch (error) {\n",
              "            console.error('Error during call to suggestCharts:', error);\n",
              "          }\n",
              "          quickchartButtonEl.classList.remove('colab-df-spinner');\n",
              "          quickchartButtonEl.classList.add('colab-df-quickchart-complete');\n",
              "        }\n",
              "        (() => {\n",
              "          let quickchartButtonEl =\n",
              "            document.querySelector('#df-2a2f98f1-569c-4f4c-812f-d50855efae88 button');\n",
              "          quickchartButtonEl.style.display =\n",
              "            google.colab.kernel.accessAllowed ? 'block' : 'none';\n",
              "        })();\n",
              "      </script>\n",
              "    </div>\n",
              "\n",
              "  <div id=\"id_a3615242-d3bf-427b-95a2-ca43d7657ae8\">\n",
              "    <style>\n",
              "      .colab-df-generate {\n",
              "        background-color: #E8F0FE;\n",
              "        border: none;\n",
              "        border-radius: 50%;\n",
              "        cursor: pointer;\n",
              "        display: none;\n",
              "        fill: #1967D2;\n",
              "        height: 32px;\n",
              "        padding: 0 0 0 0;\n",
              "        width: 32px;\n",
              "      }\n",
              "\n",
              "      .colab-df-generate:hover {\n",
              "        background-color: #E2EBFA;\n",
              "        box-shadow: 0px 1px 2px rgba(60, 64, 67, 0.3), 0px 1px 3px 1px rgba(60, 64, 67, 0.15);\n",
              "        fill: #174EA6;\n",
              "      }\n",
              "\n",
              "      [theme=dark] .colab-df-generate {\n",
              "        background-color: #3B4455;\n",
              "        fill: #D2E3FC;\n",
              "      }\n",
              "\n",
              "      [theme=dark] .colab-df-generate:hover {\n",
              "        background-color: #434B5C;\n",
              "        box-shadow: 0px 1px 3px 1px rgba(0, 0, 0, 0.15);\n",
              "        filter: drop-shadow(0px 1px 2px rgba(0, 0, 0, 0.3));\n",
              "        fill: #FFFFFF;\n",
              "      }\n",
              "    </style>\n",
              "    <button class=\"colab-df-generate\" onclick=\"generateWithVariable('salary_true')\"\n",
              "            title=\"Generate code using this dataframe.\"\n",
              "            style=\"display:none;\">\n",
              "\n",
              "  <svg xmlns=\"http://www.w3.org/2000/svg\" height=\"24px\"viewBox=\"0 0 24 24\"\n",
              "       width=\"24px\">\n",
              "    <path d=\"M7,19H8.4L18.45,9,17,7.55,7,17.6ZM5,21V16.75L18.45,3.32a2,2,0,0,1,2.83,0l1.4,1.43a1.91,1.91,0,0,1,.58,1.4,1.91,1.91,0,0,1-.58,1.4L9.25,21ZM18.45,9,17,7.55Zm-12,3A5.31,5.31,0,0,0,4.9,8.1,5.31,5.31,0,0,0,1,6.5,5.31,5.31,0,0,0,4.9,4.9,5.31,5.31,0,0,0,6.5,1,5.31,5.31,0,0,0,8.1,4.9,5.31,5.31,0,0,0,12,6.5,5.46,5.46,0,0,0,6.5,12Z\"/>\n",
              "  </svg>\n",
              "    </button>\n",
              "    <script>\n",
              "      (() => {\n",
              "      const buttonEl =\n",
              "        document.querySelector('#id_a3615242-d3bf-427b-95a2-ca43d7657ae8 button.colab-df-generate');\n",
              "      buttonEl.style.display =\n",
              "        google.colab.kernel.accessAllowed ? 'block' : 'none';\n",
              "\n",
              "      buttonEl.onclick = () => {\n",
              "        google.colab.notebook.generateWithVariable('salary_true');\n",
              "      }\n",
              "      })();\n",
              "    </script>\n",
              "  </div>\n",
              "\n",
              "    </div>\n",
              "  </div>\n"
            ],
            "application/vnd.google.colaboratory.intrinsic+json": {
              "type": "dataframe",
              "variable_name": "salary_true",
              "summary": "{\n  \"name\": \"salary_true\",\n  \"rows\": 567,\n  \"fields\": [\n    {\n      \"column\": \"job_id\",\n      \"properties\": {\n        \"dtype\": \"number\",\n        \"std\": 7329406,\n        \"min\": 51294698,\n        \"max\": 79374129,\n        \"num_unique_values\": 567,\n        \"samples\": [\n          78589883,\n          77304371,\n          51621093\n        ],\n        \"semantic_type\": \"\",\n        \"description\": \"\"\n      }\n    },\n    {\n      \"column\": \"job_title\",\n      \"properties\": {\n        \"dtype\": \"string\",\n        \"num_unique_values\": 548,\n        \"samples\": [\n          \"[Part-time job] Native Thai Online English Teacher\",\n          \"Cleaner\",\n          \"Pharmacy Assistant\"\n        ],\n        \"semantic_type\": \"\",\n        \"description\": \"\"\n      }\n    },\n    {\n      \"column\": \"job_ad_details\",\n      \"properties\": {\n        \"dtype\": \"string\",\n        \"num_unique_values\": 560,\n        \"samples\": [\n          \"\\u3010\\u5408\\u4f5c\\u65b9\\u5f0f\\u3011\\u2605\\u901a\\u8fc7\\u9762\\u8bd5\\u548c\\u6d4b\\u8bd5\\u7b49\\u73af\\u8282\\uff0c\\u53cc\\u65b9\\u8fbe\\u6210\\u610f\\u5411\\u540e\\uff0c\\u4ee5\\u72ec\\u7acb\\u627f\\u5305\\u5546\\u65b9\\u5f0f\\u5408\\u4f5c\\uff0c\\u670d\\u52a1\\u5f85\\u9047\\u4ee5\\u76f8\\u5173\\u534f\\u8bae\\u6761\\u4f8b\\u4e3a\\u51c6[Cooperation Method]\\u2605 After the interview and testing procedures, the two parties will reach an agreement to cooperate as independent contractors, and the terms of service will be subject to the relevant agreements and regulations.\\u00a0\\u3010\\u670d\\u52a1\\u5185\\u5bb9\\u30111.\\u5bf9\\u7528\\u6237\\u884c\\u4e3a\\u5404\\u7c7b\\u6570\\u636e\\u5206\\u6790\\uff0c\\u4ece\\u5404\\u5927\\u7528\\u6237\\u6570\\u636e\\u7ef4\\u5ea6\\u7ed9\\u4e88\\u7528\\u6237\\u7cbe\\u7ec6\\u5316\\u8fd0\\u8425\\u652f\\u6301\\u30022.\\u5ba2\\u6237\\u7ba1\\u7406\\u53ca\\u5e02\\u573a\\u63a8\\u5e7f\\u540e\\u53f0\\u8bbe\\u7f6e\\u64cd\\u4f5c\\u53ca\\u529f\\u80fd\\u4f18\\u5316\\u30023.\\u534f\\u52a9\\u793e\\u7fa4\\u5ba2\\u6237\\u65e5\\u5e38\\u5ba2\\u60c5\\u7ef4\\u62a4\\u53ca\\u8425\\u9500\\u63a8\\u5e7f\\u30024.\\u534f\\u52a9\\u5904\\u7406\\u5ba2\\u6237\\u95ee\\u9898\\u548c\\u54a8\\u8be2\\u670d\\u52a1\\uff0c\\u53d1\\u6398\\u5ba2\\u6237\\u9700\\u6c42\\uff0c\\u6709\\u6548\\u8ddf\\u8fdb\\u5e76\\u6536\\u96c6\\u5ba2\\u6237\\u4fe1\\u606f\\u30025.\\u5206\\u6790\\u5ba2\\u6237\\u6570\\u636e\\uff0c\\u5bf9\\u5ba2\\u6237\\u8fdb\\u884c\\u7cfb\\u7edf\\u5206\\u7c7b\\uff0c\\u4ee5\\u63d0\\u4f9b\\u5ba2\\u6237\\u5173\\u7cfb\\u7ba1\\u7406\\u30026.\\u534f\\u52a9\\u5168\\u5468\\u671f\\u8425\\u9500\\u6d3b\\u52a8\\u7ba1\\u7406\\u3001\\u6267\\u884c\\u3001\\u76d1\\u63a7\\u548c\\u62a5\\u544a\\u3002[Job Description]1.Analyze various data\\u00a0on\\u00a0user behavior and provide refined\\u00a0operational support to users from various user\\u00a0data dimensions.2.Customer management and marketing backend settings, operations, and functional optimization.3.Assist in daily customer relationship maintenance and marketing promotion for the community.4.Assist in handling customer inquiries and issues, identify customer needs, effectively\\u00a0follow up\\u00a0and collect customer information.5.Analyze customer data\\u00a0and systematically classify customers to provide customer relationship management.6.Assist in the\\u00a0management, execution,\\u00a0monitoring, and reporting of\\u00a0full-cycle marketing activities.\\u00a0\\u3010\\u5408\\u4f5c\\u8981\\u6c42\\u6761\\u4ef6\\u30111.\\u6027\\u522b\\u4e0d\\u9650\\uff0c\\u5177\\u5907\\u79ef\\u6781\\u7684\\u5fc3\\u6001\\u548c\\u826f\\u597d\\u7684\\u5ba2\\u6237\\u670d\\u52a1\\u610f\\u8bc6\\u30022.\\u7531\\u4e8e\\u4e1a\\u52a1\\u9700\\u6c42\\uff0c\\u670d\\u52a1\\u5bf9\\u8c61\\u4e3b\\u8981\\u4ee5\\u4e2d\\u82f1\\u6587\\u4e3a\\u4e3b\\uff0c\\u9700\\u5177\\u5907\\u826f\\u597d\\u7684\\u4e2d\\u82f1\\u6587\\uff08\\u666e\\u901a\\u8bdd\\u6216\\u5e7f\\u4e1c\\u8bdd\\uff09\\u4e66\\u9762\\u548c\\u53e3\\u5934\\u8868\\u8fbe\\u80fd\\u529b\\u30023.\\u80fd\\u4e3b\\u52a8\\u627f\\u62c5\\u5de5\\u4f5c\\u804c\\u8d23\\u5e76\\u5f53\\u9047\\u5230\\u95ee\\u9898\\u540e\\u80fd\\u53ca\\u65f6\\u6c47\\u62a5\\u53cd\\u9988\\u30024.\\u80fd\\u591f\\u72ec\\u7acb\\u5de5\\u4f5c\\u548c\\u56e2\\u961f\\u5408\\u4f5c\\u7684\\u80fd\\u529b\\u30025.\\u5177\\u6709\\u6570\\u636e\\u62a5\\u544a\\u548c\\u5206\\u6790\\u7ecf\\u9a8c\\uff0c\\u719f\\u7ec3\\u64cd\\u4f5cEXCEL\\uff08Vlookup\\u3001\\u6570\\u636e\\u900f\\u89c6\\u2026 \\uff09\\u3001WORD\\u7b49\\u529e\\u516c\\u8f6f\\u4ef6\\u30026.\\u5177\\u5907\\u5404\\u5927\\u7535\\u5546\\u5ba2\\u6237\\u7ba1\\u7406\\u7cfb\\u7edf\\u7ecf\\u9a8c\\u8005\\u4f18\\u5148\\u8003\\u8651\\u3002[ Cooperation Requirements and Conditions ]1.No gender preference. possessing a positive mindset\\u00a0and a good sense of\\u00a0customer service.2.Due to business needs, the service target is mainly in Chinese and English, and it is necessary to have good written and oral communication skills in both English\\u00a0and\\u00a0Chinese (Mandarin or Cantonese).3.Able to proactively\\u00a0take\\u00a0on job responsibilities and promptly report feedback when encountering problems.4.Ability to work independently and collaborate in a team.5.Have experience in data reporting and analysis,\\u00a0proficient\\u00a0in using office software , such as Microsoft EXCEL (Vlookup ,Pivot Table\\uff09, Microsoft WORD etc.6.Experience with major e-commerce customer management systems are preferred.\\u00a0\\u3010\\u5408\\u4f5c\\u670d\\u52a1\\u8d39\\u7528\\u3011\\u260530RM/H[Service Fees]\\u260530RM/H\\u00a0\\u3010\\u5408\\u4f5c\\u670d\\u52a1\\u65f6\\u95f4\\u3011\\u2605\\u5206\\u65e9\\u73ed\\u548c\\u665a\\u73ed\\u670d\\u52a1\\u65f6\\u95f4\\uff0c\\u5177\\u4f53\\u670d\\u52a1\\u65f6\\u95f4\\u6309\\u5b9e\\u9645\\u5b89\\u6392\\u2605\\u5468\\u4e00\\u81f3\\u5468\\u65e5\\uff1a00:00-15:00\\uff0c\\u6bcf\\u5468\\u670d\\u52a15\\u5929\\uff0c\\u5177\\u4f53\\u5de5\\u4f5c\\u65f6\\u957f\\u4f1a\\u6839\\u636e\\u670d\\u52a1\\u9700\\u6c42\\u8c03\\u6574(\\u53ef\\u5728\\u9762\\u8bd5\\u4e2d\\u6c9f\\u901a\\u4e86\\u89e3)[Service Time]\\u2605Service hours are divided into morning and evening shifts, and the\\u00a0specific service hours are\\u00a0arranged according to the\\u00a0actual needs.\\u2605Monday to Sunday: 00:00-15:00, 5 days a week. The specific working hours will be adjusted according to the\\u00a0service needs\\u00a0(can be discussed during the interview).\\u3010\\u9879\\u76ee\\u670d\\u52a1\\u6a21\\u5f0f\\u3011\\u2605\\u81ea\\u7531\\u5b89\\u6392\\uff0c\\u573a\\u5730\\u4e0d\\u9650\\u2605\\u81ea\\u5907\\u7535\\u8111\\u548c\\u7f51\\u7edc\\u8bbe\\u5907[Service Mode]\\u2605Flexible schedule, with no limitation on working venue\\u2605Own computer and network equipment requiredSummary of role requirements:Flexible hours availableNo experience required for this roleWorking rights required for this roleExpected salary: RM40 - RM100 per hour\",\n          \"  About the position The Customer Experience Officer provide the highest level of frontline customer service to the community, and perform administrative tasks to ensure effective business processes. The Customer Experience Officer position is responsible for positively representing Council\\u2019s brand and improving relationships with the community via a range of face to face and online channels. About Muswellbrook Muswellbrook Shire is one of NSW's most dynamic local government areas. For over four decades it has been at the heart of the State's energy industry, and we are now on the transition to being a renewable energy hub. We have the two largest thoroughbred horse studs in the southern hemisphere, a healthy viticulture industry, and a large part of the world heritage listed Blue Mountains National Park within the Shire. We are also central to Newcastle, Tamworth and Dubbo. Muswellbrook Shire Council is a vibrant workplace with a commitment to excellence in all facets of its operations, and we are committed to employee welfare and development.  About you  Certificate III Business Administration or other equivalent qualifications or experience. Advanced competence in the use of Microsoft Office Software. Class C Drivers Licence. Demonstrated experience and/or capability to deliver the Job Specific Key Accountabilities (outlined in the Position Description). Demonstrated Fundamental Level key capabilities as defined in the Key Capabilities Table (outlined in the Position Description). Previous experience in using Civica\\u2019s Authority System (desirable).  We offer  Casual role with an hourly rate from $40.3284 to $43.5172 per hour (including casual loading) (depending on qualifications, skills and experience)  Plus 11% superannuation 40% discount on yearly Aquatic and Fitness Centre membership for staff and families at local facility (conditions apply) Access to EAP program for employees and their immediate family  Further information and to apply For more information on this position, please refer to the attached Position Description, Council\\u2019s Careers website or contact the hiring manager Kim Randall, Coordinator Customer Service and Administration on 02 6549 3700. For more information regarding the application process please contact Human Resources on (02) 6549 3700.  If you have a disability and need to request any adjustments to assist with the application process, or to discuss workplace adjustments you may require, please contact Human Resources. To apply:   Complete the application form below, including providing responses to the mandatory questions required. Unfortunately, an unfinished application can\\u2019t be retrieved to finish at a later date. Please keep your responses concise. Attach your Covering Letter and Resume where indicated. Click \\u2018Apply\\u2019. You will receive an email confirming your application has been submitted. All correspondence will be via the e-mail you have provided in your application.  Applications will be ongoing and checked on a regular basis.   The Welcome Experience The Welcome Experience in Muswellbrook connects you and your family with local people and local resources to help you settle in and feel at home in your new community faster. Learn more at www.nsw.gov.au/welcomeexperience ***Please ensure you check your \\\"Junk mail\\\" folder***  \",\n          \" \\nEmployment Type:\\u00a0Permanent\\u00a0Full TimeLocation: Queanbeyan Position Classification: Social Worker Level 4Remuneration: $117544 - $120393 per annumHours Per Week:\\u00a038Requisition ID:\\u00a0REQ498642Applications Close:\\u00a07 July 2024Interview Details:\\u00a0Scheduled within 10 days of closing \\nSouthern NSW Local Health District covers a large area of the southern half of NSW. Surrounding the ACT on three sides and all the way down to the Victorian border, it extends from the pristine beaches of the NSW South Coast, the farmlands of the Southern Tablelands, across the picturesque Great Dividing Range and the spectacular Snowy Mountains.\\nWe have 18 facilities and our hospitals take care of more than 200,000 people. \\u00a0\\u00a0As we are a major local employer, our staff are a part of our local communities. \\u00a0\\u00a0To find out more on what it is like to live and work in Southern NSW LHD click here \\u2013 We\\nAre Southern\\n \\nWhat we offer:\\n\\nFlexible work arrangements\\nSalary Packaging \\u2013 up to $9k for living expenses + $2.6k meal & entertainment + Novated leasing\\nCorporate Health and Fitness program\\n11% Superannuation on top of your gross income\\nAnnual Leave Loading\\n\\n Where you will be workingThere is an abundance of lifestyle benefits available to you in country NSW and you will be amazed at what you will have access to - and it all comes without the queues and crowds of a big city. \\u00a0Queanbeyan enviable lifestyle and affordable property surrounded by an eclectic mix of small towns and villages. With Canberra just a 5-minute drive away, you can enjoy all the attractions of the nation\\u2019s capital along with fabulous restaurants.\\nConnect easily and quickly with world through the Canberra International Airport, with the beach and ski fields just 2 hours away.\\nWhat you'll be doing \\nThe Sustaining NSW Families (SNF) program is a\\u00a0 Nurse-led, structured sustained health home visiting program for children and families from pregnancy to 2 years of age. The SNF Social Worker will provide specialist social work and counselling interventions as part of the SNF multidisciplinary team with an early intervention focus that aims to enhance parenting capacity, promote healthy family functioning, support families at a time of change and promote infant mental health.\\u00a0 \\n \\n Selection Criteria  Degree in Social Work from an accredited course providing eligibility for membership of the Australian Association of Social Workers (AASW). Extensive experience, with specialism working with families with complex clinical presentations in relevant clinical settings such as perinatal mental health, child protection, domestic violence, and substance misuse and able to form therapeutic relationships built on healthy boundaries. Demonstrated advanced specialist therapeutic skills in conducting complex psychosocial assessments and counselling with the ability to respond to the needs of vulnerable families in stressful situations Demonstrated ability to utilise problem solving skills and a multidisciplinary team approach in planning, delivery, and coordination of patient care. Extensive expert clinical experience providing clinical consultation and facilitating case reviews, in the contact of family centred casework within a community based multidisciplinary team Extensive demonstrated experience in developing and maintaining cooperative professional relationships, with other health teams, government, and NGO agencies through the use of well-developed interpersonal and conflict resolution skills. Demonstrated high-level verbal and written communication skills with high level time management, Evidence of current unrestricted driver's licence and the ability to maintain. Ability and willingness to travel as the role requires. This may involve driving long distances and overnight stays.    At Southern NSW Local Health District we are proud to be an equal opportunity employer, where we don\\u2019t just accept differences but we honour and support it. Committed to providing a working environment that thrives and values diversity, we encourage people of Aboriginal and/or Torres Strait Islander background, people with a\\u00a0disability and people from the\\u00a0LGBTQI+\\u00a0community to apply Occupational Assessment, Screening and Vaccination against Specific Diseases This is a Category \\u2018A\\u2019 position, please read and understand NSW Health policy directive\\u00a0PD2024_015All new employees must agree to comply with the requirements outlined in this policy. OASV requirements also include proof of vaccination against influenza and is compulsory for NSW Staff that enter any Residential Aged Care Facility (RACF) or who work in NSW Health owned and operated RACFs. Australian Work RightsPlease note that to apply for this position you must be an Australian Citizen or Permanent Resident of Australia or be able to independently and legally live and work in Australia by way of your own Temporary Visa. For more information, please see\\u00a0Need more information?\\u00a0\\u00a0\\u00a01) Click here for the Position Description \\u00a0\\u00a02) Find out more about applying for this positionFor role related queries or questions contact Rosa Maidment on 02 6298 9233 or Rosa.Maidment@health.nsw.gov.au  \\n\\n\"\n        ],\n        \"semantic_type\": \"\",\n        \"description\": \"\"\n      }\n    },\n    {\n      \"column\": \"nation_short_desc\",\n      \"properties\": {\n        \"dtype\": \"category\",\n        \"num_unique_values\": 8,\n        \"samples\": [\n          \"HK\",\n          \"ID\",\n          \"MY\"\n        ],\n        \"semantic_type\": \"\",\n        \"description\": \"\"\n      }\n    },\n    {\n      \"column\": \"salary_additional_text\",\n      \"properties\": {\n        \"dtype\": \"category\",\n        \"num_unique_values\": 157,\n        \"samples\": [\n          \"$750 \\u2013 $1,125 per week\",\n          \"$2,400 \\u2013 $3,700 per month\",\n          \"$26 \\u2013 $32 per hour\"\n        ],\n        \"semantic_type\": \"\",\n        \"description\": \"\"\n      }\n    },\n    {\n      \"column\": \"y_true\",\n      \"properties\": {\n        \"dtype\": \"category\",\n        \"num_unique_values\": 246,\n        \"samples\": [\n          \"3750-5000-HKD-WEEKLY\",\n          \"3000-4000-MYR-MONTHLY\",\n          \"34-48-AUD-HOURLY\"\n        ],\n        \"semantic_type\": \"\",\n        \"description\": \"\"\n      }\n    }\n  ]\n}"
            }
          },
          "metadata": {},
          "execution_count": 127
        }
      ]
    },
    {
      "cell_type": "code",
      "source": [
        "RBIC_few = pd.read_csv(\"post_processed_salary_labelled_test_set_qwen_rbic_fewshot_preds.csv\")"
      ],
      "metadata": {
        "id": "XYDz0woqB4nI"
      },
      "execution_count": null,
      "outputs": []
    },
    {
      "cell_type": "code",
      "source": [
        "RBIC_few[0:566]"
      ],
      "metadata": {
        "colab": {
          "base_uri": "https://localhost:8080/",
          "height": 419
        },
        "id": "M_af9EKSCAVp",
        "outputId": "1fd4d93c-a11b-42b4-ac36-0a5a348e3afe"
      },
      "execution_count": null,
      "outputs": [
        {
          "output_type": "execute_result",
          "data": {
            "text/plain": [
              "                                    y_pred\n",
              "0                            --THB-MONTHLY\n",
              "1                  $1000-$2000-USD-MONTHLY\n",
              "2                   $3000-$5000-USD-YEARLY\n",
              "3              $11,000-$11,000-USD-MONTHLY\n",
              "4                $2,000-$3,000-USD-MONTHLY\n",
              "..                                     ...\n",
              "561                 $2000-$3000-USD-YEARLY\n",
              "562                $2000-$3000-USD-MONTHLY\n",
              "563               $40.27-$51.74-AUD-YEARLY\n",
              "564  Not Provided-Not Provided-THB-MONTHLY\n",
              "565                    $20-$20-USD-MONTHLY\n",
              "\n",
              "[566 rows x 1 columns]"
            ],
            "text/html": [
              "\n",
              "  <div id=\"df-810ecefb-a2e9-48db-9946-75175d9ffcda\" class=\"colab-df-container\">\n",
              "    <div>\n",
              "<style scoped>\n",
              "    .dataframe tbody tr th:only-of-type {\n",
              "        vertical-align: middle;\n",
              "    }\n",
              "\n",
              "    .dataframe tbody tr th {\n",
              "        vertical-align: top;\n",
              "    }\n",
              "\n",
              "    .dataframe thead th {\n",
              "        text-align: right;\n",
              "    }\n",
              "</style>\n",
              "<table border=\"1\" class=\"dataframe\">\n",
              "  <thead>\n",
              "    <tr style=\"text-align: right;\">\n",
              "      <th></th>\n",
              "      <th>y_pred</th>\n",
              "    </tr>\n",
              "  </thead>\n",
              "  <tbody>\n",
              "    <tr>\n",
              "      <th>0</th>\n",
              "      <td>--THB-MONTHLY</td>\n",
              "    </tr>\n",
              "    <tr>\n",
              "      <th>1</th>\n",
              "      <td>$1000-$2000-USD-MONTHLY</td>\n",
              "    </tr>\n",
              "    <tr>\n",
              "      <th>2</th>\n",
              "      <td>$3000-$5000-USD-YEARLY</td>\n",
              "    </tr>\n",
              "    <tr>\n",
              "      <th>3</th>\n",
              "      <td>$11,000-$11,000-USD-MONTHLY</td>\n",
              "    </tr>\n",
              "    <tr>\n",
              "      <th>4</th>\n",
              "      <td>$2,000-$3,000-USD-MONTHLY</td>\n",
              "    </tr>\n",
              "    <tr>\n",
              "      <th>...</th>\n",
              "      <td>...</td>\n",
              "    </tr>\n",
              "    <tr>\n",
              "      <th>561</th>\n",
              "      <td>$2000-$3000-USD-YEARLY</td>\n",
              "    </tr>\n",
              "    <tr>\n",
              "      <th>562</th>\n",
              "      <td>$2000-$3000-USD-MONTHLY</td>\n",
              "    </tr>\n",
              "    <tr>\n",
              "      <th>563</th>\n",
              "      <td>$40.27-$51.74-AUD-YEARLY</td>\n",
              "    </tr>\n",
              "    <tr>\n",
              "      <th>564</th>\n",
              "      <td>Not Provided-Not Provided-THB-MONTHLY</td>\n",
              "    </tr>\n",
              "    <tr>\n",
              "      <th>565</th>\n",
              "      <td>$20-$20-USD-MONTHLY</td>\n",
              "    </tr>\n",
              "  </tbody>\n",
              "</table>\n",
              "<p>566 rows × 1 columns</p>\n",
              "</div>\n",
              "    <div class=\"colab-df-buttons\">\n",
              "\n",
              "  <div class=\"colab-df-container\">\n",
              "    <button class=\"colab-df-convert\" onclick=\"convertToInteractive('df-810ecefb-a2e9-48db-9946-75175d9ffcda')\"\n",
              "            title=\"Convert this dataframe to an interactive table.\"\n",
              "            style=\"display:none;\">\n",
              "\n",
              "  <svg xmlns=\"http://www.w3.org/2000/svg\" height=\"24px\" viewBox=\"0 -960 960 960\">\n",
              "    <path d=\"M120-120v-720h720v720H120Zm60-500h600v-160H180v160Zm220 220h160v-160H400v160Zm0 220h160v-160H400v160ZM180-400h160v-160H180v160Zm440 0h160v-160H620v160ZM180-180h160v-160H180v160Zm440 0h160v-160H620v160Z\"/>\n",
              "  </svg>\n",
              "    </button>\n",
              "\n",
              "  <style>\n",
              "    .colab-df-container {\n",
              "      display:flex;\n",
              "      gap: 12px;\n",
              "    }\n",
              "\n",
              "    .colab-df-convert {\n",
              "      background-color: #E8F0FE;\n",
              "      border: none;\n",
              "      border-radius: 50%;\n",
              "      cursor: pointer;\n",
              "      display: none;\n",
              "      fill: #1967D2;\n",
              "      height: 32px;\n",
              "      padding: 0 0 0 0;\n",
              "      width: 32px;\n",
              "    }\n",
              "\n",
              "    .colab-df-convert:hover {\n",
              "      background-color: #E2EBFA;\n",
              "      box-shadow: 0px 1px 2px rgba(60, 64, 67, 0.3), 0px 1px 3px 1px rgba(60, 64, 67, 0.15);\n",
              "      fill: #174EA6;\n",
              "    }\n",
              "\n",
              "    .colab-df-buttons div {\n",
              "      margin-bottom: 4px;\n",
              "    }\n",
              "\n",
              "    [theme=dark] .colab-df-convert {\n",
              "      background-color: #3B4455;\n",
              "      fill: #D2E3FC;\n",
              "    }\n",
              "\n",
              "    [theme=dark] .colab-df-convert:hover {\n",
              "      background-color: #434B5C;\n",
              "      box-shadow: 0px 1px 3px 1px rgba(0, 0, 0, 0.15);\n",
              "      filter: drop-shadow(0px 1px 2px rgba(0, 0, 0, 0.3));\n",
              "      fill: #FFFFFF;\n",
              "    }\n",
              "  </style>\n",
              "\n",
              "    <script>\n",
              "      const buttonEl =\n",
              "        document.querySelector('#df-810ecefb-a2e9-48db-9946-75175d9ffcda button.colab-df-convert');\n",
              "      buttonEl.style.display =\n",
              "        google.colab.kernel.accessAllowed ? 'block' : 'none';\n",
              "\n",
              "      async function convertToInteractive(key) {\n",
              "        const element = document.querySelector('#df-810ecefb-a2e9-48db-9946-75175d9ffcda');\n",
              "        const dataTable =\n",
              "          await google.colab.kernel.invokeFunction('convertToInteractive',\n",
              "                                                    [key], {});\n",
              "        if (!dataTable) return;\n",
              "\n",
              "        const docLinkHtml = 'Like what you see? Visit the ' +\n",
              "          '<a target=\"_blank\" href=https://colab.research.google.com/notebooks/data_table.ipynb>data table notebook</a>'\n",
              "          + ' to learn more about interactive tables.';\n",
              "        element.innerHTML = '';\n",
              "        dataTable['output_type'] = 'display_data';\n",
              "        await google.colab.output.renderOutput(dataTable, element);\n",
              "        const docLink = document.createElement('div');\n",
              "        docLink.innerHTML = docLinkHtml;\n",
              "        element.appendChild(docLink);\n",
              "      }\n",
              "    </script>\n",
              "  </div>\n",
              "\n",
              "\n",
              "    <div id=\"df-842fbcbc-1fca-44c5-89dd-f594509c9464\">\n",
              "      <button class=\"colab-df-quickchart\" onclick=\"quickchart('df-842fbcbc-1fca-44c5-89dd-f594509c9464')\"\n",
              "                title=\"Suggest charts\"\n",
              "                style=\"display:none;\">\n",
              "\n",
              "<svg xmlns=\"http://www.w3.org/2000/svg\" height=\"24px\"viewBox=\"0 0 24 24\"\n",
              "     width=\"24px\">\n",
              "    <g>\n",
              "        <path d=\"M19 3H5c-1.1 0-2 .9-2 2v14c0 1.1.9 2 2 2h14c1.1 0 2-.9 2-2V5c0-1.1-.9-2-2-2zM9 17H7v-7h2v7zm4 0h-2V7h2v10zm4 0h-2v-4h2v4z\"/>\n",
              "    </g>\n",
              "</svg>\n",
              "      </button>\n",
              "\n",
              "<style>\n",
              "  .colab-df-quickchart {\n",
              "      --bg-color: #E8F0FE;\n",
              "      --fill-color: #1967D2;\n",
              "      --hover-bg-color: #E2EBFA;\n",
              "      --hover-fill-color: #174EA6;\n",
              "      --disabled-fill-color: #AAA;\n",
              "      --disabled-bg-color: #DDD;\n",
              "  }\n",
              "\n",
              "  [theme=dark] .colab-df-quickchart {\n",
              "      --bg-color: #3B4455;\n",
              "      --fill-color: #D2E3FC;\n",
              "      --hover-bg-color: #434B5C;\n",
              "      --hover-fill-color: #FFFFFF;\n",
              "      --disabled-bg-color: #3B4455;\n",
              "      --disabled-fill-color: #666;\n",
              "  }\n",
              "\n",
              "  .colab-df-quickchart {\n",
              "    background-color: var(--bg-color);\n",
              "    border: none;\n",
              "    border-radius: 50%;\n",
              "    cursor: pointer;\n",
              "    display: none;\n",
              "    fill: var(--fill-color);\n",
              "    height: 32px;\n",
              "    padding: 0;\n",
              "    width: 32px;\n",
              "  }\n",
              "\n",
              "  .colab-df-quickchart:hover {\n",
              "    background-color: var(--hover-bg-color);\n",
              "    box-shadow: 0 1px 2px rgba(60, 64, 67, 0.3), 0 1px 3px 1px rgba(60, 64, 67, 0.15);\n",
              "    fill: var(--button-hover-fill-color);\n",
              "  }\n",
              "\n",
              "  .colab-df-quickchart-complete:disabled,\n",
              "  .colab-df-quickchart-complete:disabled:hover {\n",
              "    background-color: var(--disabled-bg-color);\n",
              "    fill: var(--disabled-fill-color);\n",
              "    box-shadow: none;\n",
              "  }\n",
              "\n",
              "  .colab-df-spinner {\n",
              "    border: 2px solid var(--fill-color);\n",
              "    border-color: transparent;\n",
              "    border-bottom-color: var(--fill-color);\n",
              "    animation:\n",
              "      spin 1s steps(1) infinite;\n",
              "  }\n",
              "\n",
              "  @keyframes spin {\n",
              "    0% {\n",
              "      border-color: transparent;\n",
              "      border-bottom-color: var(--fill-color);\n",
              "      border-left-color: var(--fill-color);\n",
              "    }\n",
              "    20% {\n",
              "      border-color: transparent;\n",
              "      border-left-color: var(--fill-color);\n",
              "      border-top-color: var(--fill-color);\n",
              "    }\n",
              "    30% {\n",
              "      border-color: transparent;\n",
              "      border-left-color: var(--fill-color);\n",
              "      border-top-color: var(--fill-color);\n",
              "      border-right-color: var(--fill-color);\n",
              "    }\n",
              "    40% {\n",
              "      border-color: transparent;\n",
              "      border-right-color: var(--fill-color);\n",
              "      border-top-color: var(--fill-color);\n",
              "    }\n",
              "    60% {\n",
              "      border-color: transparent;\n",
              "      border-right-color: var(--fill-color);\n",
              "    }\n",
              "    80% {\n",
              "      border-color: transparent;\n",
              "      border-right-color: var(--fill-color);\n",
              "      border-bottom-color: var(--fill-color);\n",
              "    }\n",
              "    90% {\n",
              "      border-color: transparent;\n",
              "      border-bottom-color: var(--fill-color);\n",
              "    }\n",
              "  }\n",
              "</style>\n",
              "\n",
              "      <script>\n",
              "        async function quickchart(key) {\n",
              "          const quickchartButtonEl =\n",
              "            document.querySelector('#' + key + ' button');\n",
              "          quickchartButtonEl.disabled = true;  // To prevent multiple clicks.\n",
              "          quickchartButtonEl.classList.add('colab-df-spinner');\n",
              "          try {\n",
              "            const charts = await google.colab.kernel.invokeFunction(\n",
              "                'suggestCharts', [key], {});\n",
              "          } catch (error) {\n",
              "            console.error('Error during call to suggestCharts:', error);\n",
              "          }\n",
              "          quickchartButtonEl.classList.remove('colab-df-spinner');\n",
              "          quickchartButtonEl.classList.add('colab-df-quickchart-complete');\n",
              "        }\n",
              "        (() => {\n",
              "          let quickchartButtonEl =\n",
              "            document.querySelector('#df-842fbcbc-1fca-44c5-89dd-f594509c9464 button');\n",
              "          quickchartButtonEl.style.display =\n",
              "            google.colab.kernel.accessAllowed ? 'block' : 'none';\n",
              "        })();\n",
              "      </script>\n",
              "    </div>\n",
              "\n",
              "    </div>\n",
              "  </div>\n"
            ],
            "application/vnd.google.colaboratory.intrinsic+json": {
              "type": "dataframe",
              "summary": "{\n  \"name\": \"RBIC_few[0:566]\",\n  \"rows\": 566,\n  \"fields\": [\n    {\n      \"column\": \"y_pred\",\n      \"properties\": {\n        \"dtype\": \"string\",\n        \"num_unique_values\": 424,\n        \"samples\": [\n          \"20000-30000-THB-MONTHLY\",\n          \"$85000-None-USD-YEARLY\",\n          \"RM1,500-RM3,000-MYRMB-MONTHLY\"\n        ],\n        \"semantic_type\": \"\",\n        \"description\": \"\"\n      }\n    }\n  ]\n}"
            }
          },
          "metadata": {},
          "execution_count": 130
        }
      ]
    },
    {
      "cell_type": "code",
      "source": [
        " salary_true['y_true']"
      ],
      "metadata": {
        "colab": {
          "base_uri": "https://localhost:8080/",
          "height": 453
        },
        "id": "hdIUaW9zEJRX",
        "outputId": "74f9fcab-847a-4cc3-f7b2-e551fb09c2dc"
      },
      "execution_count": null,
      "outputs": [
        {
          "output_type": "execute_result",
          "data": {
            "text/plain": [
              "0      1500-1800-MYR-MONTHLY\n",
              "1           60-60-HKD-HOURLY\n",
              "2              0-0-None-None\n",
              "3              0-0-None-None\n",
              "4              0-0-None-None\n",
              "               ...          \n",
              "562         26-26-NZD-HOURLY\n",
              "563            0-0-None-None\n",
              "564            0-0-None-None\n",
              "565    1500-2500-MYR-MONTHLY\n",
              "566            0-0-None-None\n",
              "Name: y_true, Length: 567, dtype: object"
            ],
            "text/html": [
              "<div>\n",
              "<style scoped>\n",
              "    .dataframe tbody tr th:only-of-type {\n",
              "        vertical-align: middle;\n",
              "    }\n",
              "\n",
              "    .dataframe tbody tr th {\n",
              "        vertical-align: top;\n",
              "    }\n",
              "\n",
              "    .dataframe thead th {\n",
              "        text-align: right;\n",
              "    }\n",
              "</style>\n",
              "<table border=\"1\" class=\"dataframe\">\n",
              "  <thead>\n",
              "    <tr style=\"text-align: right;\">\n",
              "      <th></th>\n",
              "      <th>y_true</th>\n",
              "    </tr>\n",
              "  </thead>\n",
              "  <tbody>\n",
              "    <tr>\n",
              "      <th>0</th>\n",
              "      <td>1500-1800-MYR-MONTHLY</td>\n",
              "    </tr>\n",
              "    <tr>\n",
              "      <th>1</th>\n",
              "      <td>60-60-HKD-HOURLY</td>\n",
              "    </tr>\n",
              "    <tr>\n",
              "      <th>2</th>\n",
              "      <td>0-0-None-None</td>\n",
              "    </tr>\n",
              "    <tr>\n",
              "      <th>3</th>\n",
              "      <td>0-0-None-None</td>\n",
              "    </tr>\n",
              "    <tr>\n",
              "      <th>4</th>\n",
              "      <td>0-0-None-None</td>\n",
              "    </tr>\n",
              "    <tr>\n",
              "      <th>...</th>\n",
              "      <td>...</td>\n",
              "    </tr>\n",
              "    <tr>\n",
              "      <th>562</th>\n",
              "      <td>26-26-NZD-HOURLY</td>\n",
              "    </tr>\n",
              "    <tr>\n",
              "      <th>563</th>\n",
              "      <td>0-0-None-None</td>\n",
              "    </tr>\n",
              "    <tr>\n",
              "      <th>564</th>\n",
              "      <td>0-0-None-None</td>\n",
              "    </tr>\n",
              "    <tr>\n",
              "      <th>565</th>\n",
              "      <td>1500-2500-MYR-MONTHLY</td>\n",
              "    </tr>\n",
              "    <tr>\n",
              "      <th>566</th>\n",
              "      <td>0-0-None-None</td>\n",
              "    </tr>\n",
              "  </tbody>\n",
              "</table>\n",
              "<p>567 rows × 1 columns</p>\n",
              "</div><br><label><b>dtype:</b> object</label>"
            ]
          },
          "metadata": {},
          "execution_count": 129
        }
      ]
    },
    {
      "cell_type": "code",
      "source": [
        "total = len(salary_true)\n",
        "excat_match = (RBIC_few[0:567][\"y_pred\"] == salary_true[\"y_true\"]).sum()\n",
        "overall = (excat_match/ total) * 100\n",
        "print(f\"overall {overall:.2f}%\")"
      ],
      "metadata": {
        "colab": {
          "base_uri": "https://localhost:8080/"
        },
        "id": "CQsoGqC-ETUk",
        "outputId": "e735e202-0efd-4130-f194-4ed329f54f11"
      },
      "execution_count": null,
      "outputs": [
        {
          "output_type": "stream",
          "name": "stdout",
          "text": [
            "overall 0.00%\n"
          ]
        }
      ]
    },
    {
      "cell_type": "code",
      "source": [
        "df1_split = RBIC_few[0:567]['y_pred'].str.split('-', expand=True)\n",
        "df1_split = df1_split.iloc[:, :4]\n",
        "df2_split = salary_true['y_true'].str.split('-', expand=True)\n",
        "df2_split = df2_split.iloc[:, :4]\n",
        "\n",
        "df1_split.columns = ['MinSalary', 'MaxSalary', 'Currency', 'Frequency']\n",
        "df2_split.columns = ['MinSalary', 'MaxSalary', 'Currency', 'Frequency']\n",
        "\n",
        "min_salary_accuracy = (df1_split['MinSalary'] == df2_split['MinSalary']).mean()\n",
        "max_salary_accuracy = (df1_split['MaxSalary'] == df2_split['MaxSalary']).mean()\n",
        "currency_accuracy = (df1_split['Currency'] == df2_split['Currency']).mean()\n",
        "frequency_accuracy = (df1_split['Frequency'] == df2_split['Frequency']).mean()\n",
        "\n",
        "\n",
        "print(f\"MinSalary Accuracy: {min_salary_accuracy * 100:.2f}%\")\n",
        "print(f\"MaxSalary Accuracy: {max_salary_accuracy * 100:.2f}%\")\n",
        "print(f\"Currency Accuracy: {currency_accuracy * 100:.2f}%\")\n",
        "print(f\"Frequency Accuracy: {frequency_accuracy * 100:.2f}%\")"
      ],
      "metadata": {
        "id": "KZ5yVjT1Eb4x",
        "outputId": "84a4e1e5-7368-4e84-8236-97036921060f",
        "colab": {
          "base_uri": "https://localhost:8080/"
        }
      },
      "execution_count": null,
      "outputs": [
        {
          "output_type": "stream",
          "name": "stdout",
          "text": [
            "MinSalary Accuracy: 3.00%\n",
            "MaxSalary Accuracy: 1.23%\n",
            "Currency Accuracy: 1.06%\n",
            "Frequency Accuracy: 17.81%\n"
          ]
        }
      ]
    }
  ],
  "metadata": {
    "colab": {
      "provenance": [],
      "toc_visible": true
    },
    "kernelspec": {
      "display_name": "Python 3",
      "name": "python3"
    },
    "language_info": {
      "name": "python"
    },
    "widgets": {
      "application/vnd.jupyter.widget-state+json": {
        "00fdc57aa85440dc82054f6d6d6bec66": {
          "model_module": "@jupyter-widgets/controls",
          "model_module_version": "1.5.0",
          "model_name": "HBoxModel",
          "state": {
            "_dom_classes": [],
            "_model_module": "@jupyter-widgets/controls",
            "_model_module_version": "1.5.0",
            "_model_name": "HBoxModel",
            "_view_count": null,
            "_view_module": "@jupyter-widgets/controls",
            "_view_module_version": "1.5.0",
            "_view_name": "HBoxView",
            "box_style": "",
            "children": [
              "IPY_MODEL_ae615fc49892479ab70ab57e760fdd9c",
              "IPY_MODEL_a97d9b1d983a4b6bbd4ed85f7a3f78ef",
              "IPY_MODEL_6af3374507634174b70cecfcd8aa9264"
            ],
            "layout": "IPY_MODEL_8aca497c3d6d41c4811da326d0880892"
          }
        },
        "026ed018cbee459c94449e180225b592": {
          "model_module": "@jupyter-widgets/controls",
          "model_module_version": "1.5.0",
          "model_name": "ProgressStyleModel",
          "state": {
            "_model_module": "@jupyter-widgets/controls",
            "_model_module_version": "1.5.0",
            "_model_name": "ProgressStyleModel",
            "_view_count": null,
            "_view_module": "@jupyter-widgets/base",
            "_view_module_version": "1.2.0",
            "_view_name": "StyleView",
            "bar_color": null,
            "description_width": ""
          }
        },
        "04a8d8f8689a42f4bb00a4c0b9fecafd": {
          "model_module": "@jupyter-widgets/controls",
          "model_module_version": "1.5.0",
          "model_name": "ProgressStyleModel",
          "state": {
            "_model_module": "@jupyter-widgets/controls",
            "_model_module_version": "1.5.0",
            "_model_name": "ProgressStyleModel",
            "_view_count": null,
            "_view_module": "@jupyter-widgets/base",
            "_view_module_version": "1.2.0",
            "_view_name": "StyleView",
            "bar_color": null,
            "description_width": ""
          }
        },
        "04cfcefa27234dada96bf79f7acd5da1": {
          "model_module": "@jupyter-widgets/controls",
          "model_module_version": "1.5.0",
          "model_name": "DescriptionStyleModel",
          "state": {
            "_model_module": "@jupyter-widgets/controls",
            "_model_module_version": "1.5.0",
            "_model_name": "DescriptionStyleModel",
            "_view_count": null,
            "_view_module": "@jupyter-widgets/base",
            "_view_module_version": "1.2.0",
            "_view_name": "StyleView",
            "description_width": ""
          }
        },
        "0711e92326184f40996f55d9bc95e60a": {
          "model_module": "@jupyter-widgets/base",
          "model_module_version": "1.2.0",
          "model_name": "LayoutModel",
          "state": {
            "_model_module": "@jupyter-widgets/base",
            "_model_module_version": "1.2.0",
            "_model_name": "LayoutModel",
            "_view_count": null,
            "_view_module": "@jupyter-widgets/base",
            "_view_module_version": "1.2.0",
            "_view_name": "LayoutView",
            "align_content": null,
            "align_items": null,
            "align_self": null,
            "border": null,
            "bottom": null,
            "display": null,
            "flex": null,
            "flex_flow": null,
            "grid_area": null,
            "grid_auto_columns": null,
            "grid_auto_flow": null,
            "grid_auto_rows": null,
            "grid_column": null,
            "grid_gap": null,
            "grid_row": null,
            "grid_template_areas": null,
            "grid_template_columns": null,
            "grid_template_rows": null,
            "height": null,
            "justify_content": null,
            "justify_items": null,
            "left": null,
            "margin": null,
            "max_height": null,
            "max_width": null,
            "min_height": null,
            "min_width": null,
            "object_fit": null,
            "object_position": null,
            "order": null,
            "overflow": null,
            "overflow_x": null,
            "overflow_y": null,
            "padding": null,
            "right": null,
            "top": null,
            "visibility": null,
            "width": null
          }
        },
        "07f67506ba3b4c788afb785479c0be59": {
          "model_module": "@jupyter-widgets/base",
          "model_module_version": "1.2.0",
          "model_name": "LayoutModel",
          "state": {
            "_model_module": "@jupyter-widgets/base",
            "_model_module_version": "1.2.0",
            "_model_name": "LayoutModel",
            "_view_count": null,
            "_view_module": "@jupyter-widgets/base",
            "_view_module_version": "1.2.0",
            "_view_name": "LayoutView",
            "align_content": null,
            "align_items": null,
            "align_self": null,
            "border": null,
            "bottom": null,
            "display": null,
            "flex": null,
            "flex_flow": null,
            "grid_area": null,
            "grid_auto_columns": null,
            "grid_auto_flow": null,
            "grid_auto_rows": null,
            "grid_column": null,
            "grid_gap": null,
            "grid_row": null,
            "grid_template_areas": null,
            "grid_template_columns": null,
            "grid_template_rows": null,
            "height": null,
            "justify_content": null,
            "justify_items": null,
            "left": null,
            "margin": null,
            "max_height": null,
            "max_width": null,
            "min_height": null,
            "min_width": null,
            "object_fit": null,
            "object_position": null,
            "order": null,
            "overflow": null,
            "overflow_x": null,
            "overflow_y": null,
            "padding": null,
            "right": null,
            "top": null,
            "visibility": null,
            "width": null
          }
        },
        "0e5a017c128543fa821646b50a6937b4": {
          "model_module": "@jupyter-widgets/controls",
          "model_module_version": "1.5.0",
          "model_name": "DescriptionStyleModel",
          "state": {
            "_model_module": "@jupyter-widgets/controls",
            "_model_module_version": "1.5.0",
            "_model_name": "DescriptionStyleModel",
            "_view_count": null,
            "_view_module": "@jupyter-widgets/base",
            "_view_module_version": "1.2.0",
            "_view_name": "StyleView",
            "description_width": ""
          }
        },
        "0f8ed1374a2d410097b42fc871040622": {
          "model_module": "@jupyter-widgets/base",
          "model_module_version": "1.2.0",
          "model_name": "LayoutModel",
          "state": {
            "_model_module": "@jupyter-widgets/base",
            "_model_module_version": "1.2.0",
            "_model_name": "LayoutModel",
            "_view_count": null,
            "_view_module": "@jupyter-widgets/base",
            "_view_module_version": "1.2.0",
            "_view_name": "LayoutView",
            "align_content": null,
            "align_items": null,
            "align_self": null,
            "border": null,
            "bottom": null,
            "display": null,
            "flex": null,
            "flex_flow": null,
            "grid_area": null,
            "grid_auto_columns": null,
            "grid_auto_flow": null,
            "grid_auto_rows": null,
            "grid_column": null,
            "grid_gap": null,
            "grid_row": null,
            "grid_template_areas": null,
            "grid_template_columns": null,
            "grid_template_rows": null,
            "height": null,
            "justify_content": null,
            "justify_items": null,
            "left": null,
            "margin": null,
            "max_height": null,
            "max_width": null,
            "min_height": null,
            "min_width": null,
            "object_fit": null,
            "object_position": null,
            "order": null,
            "overflow": null,
            "overflow_x": null,
            "overflow_y": null,
            "padding": null,
            "right": null,
            "top": null,
            "visibility": null,
            "width": null
          }
        },
        "13b1fce841b7488588546426d314f4b3": {
          "model_module": "@jupyter-widgets/base",
          "model_module_version": "1.2.0",
          "model_name": "LayoutModel",
          "state": {
            "_model_module": "@jupyter-widgets/base",
            "_model_module_version": "1.2.0",
            "_model_name": "LayoutModel",
            "_view_count": null,
            "_view_module": "@jupyter-widgets/base",
            "_view_module_version": "1.2.0",
            "_view_name": "LayoutView",
            "align_content": null,
            "align_items": null,
            "align_self": null,
            "border": null,
            "bottom": null,
            "display": null,
            "flex": null,
            "flex_flow": null,
            "grid_area": null,
            "grid_auto_columns": null,
            "grid_auto_flow": null,
            "grid_auto_rows": null,
            "grid_column": null,
            "grid_gap": null,
            "grid_row": null,
            "grid_template_areas": null,
            "grid_template_columns": null,
            "grid_template_rows": null,
            "height": null,
            "justify_content": null,
            "justify_items": null,
            "left": null,
            "margin": null,
            "max_height": null,
            "max_width": null,
            "min_height": null,
            "min_width": null,
            "object_fit": null,
            "object_position": null,
            "order": null,
            "overflow": null,
            "overflow_x": null,
            "overflow_y": null,
            "padding": null,
            "right": null,
            "top": null,
            "visibility": null,
            "width": null
          }
        },
        "13f31700934c4dd286f2e388f71db9cd": {
          "model_module": "@jupyter-widgets/controls",
          "model_module_version": "1.5.0",
          "model_name": "ProgressStyleModel",
          "state": {
            "_model_module": "@jupyter-widgets/controls",
            "_model_module_version": "1.5.0",
            "_model_name": "ProgressStyleModel",
            "_view_count": null,
            "_view_module": "@jupyter-widgets/base",
            "_view_module_version": "1.2.0",
            "_view_name": "StyleView",
            "bar_color": null,
            "description_width": ""
          }
        },
        "22d0d326ef7242018f29b4db10e85a5c": {
          "model_module": "@jupyter-widgets/controls",
          "model_module_version": "1.5.0",
          "model_name": "FloatProgressModel",
          "state": {
            "_dom_classes": [],
            "_model_module": "@jupyter-widgets/controls",
            "_model_module_version": "1.5.0",
            "_model_name": "FloatProgressModel",
            "_view_count": null,
            "_view_module": "@jupyter-widgets/controls",
            "_view_module_version": "1.5.0",
            "_view_name": "ProgressView",
            "bar_style": "success",
            "description": "",
            "description_tooltip": null,
            "layout": "IPY_MODEL_b19b4242b3f54237baf99671ebd07988",
            "max": 1671839,
            "min": 0,
            "orientation": "horizontal",
            "style": "IPY_MODEL_13f31700934c4dd286f2e388f71db9cd",
            "value": 1671839
          }
        },
        "2445a7fa9c5f4ba397f7c15c2e9788e6": {
          "model_module": "@jupyter-widgets/controls",
          "model_module_version": "1.5.0",
          "model_name": "HTMLModel",
          "state": {
            "_dom_classes": [],
            "_model_module": "@jupyter-widgets/controls",
            "_model_module_version": "1.5.0",
            "_model_name": "HTMLModel",
            "_view_count": null,
            "_view_module": "@jupyter-widgets/controls",
            "_view_module_version": "1.5.0",
            "_view_name": "HTMLView",
            "description": "",
            "description_tooltip": null,
            "layout": "IPY_MODEL_837428a61a1a4a3e843e139ca602dfd1",
            "placeholder": "​",
            "style": "IPY_MODEL_85094c487cd64bf7ac39750ad5b711fa",
            "value": " 988M/988M [00:03&lt;00:00, 272MB/s]"
          }
        },
        "26198b261ce84b64b9dc754a9026133d": {
          "model_module": "@jupyter-widgets/controls",
          "model_module_version": "1.5.0",
          "model_name": "DescriptionStyleModel",
          "state": {
            "_model_module": "@jupyter-widgets/controls",
            "_model_module_version": "1.5.0",
            "_model_name": "DescriptionStyleModel",
            "_view_count": null,
            "_view_module": "@jupyter-widgets/base",
            "_view_module_version": "1.2.0",
            "_view_name": "StyleView",
            "description_width": ""
          }
        },
        "2aeb5473cd9541ce92adfc11db82e102": {
          "model_module": "@jupyter-widgets/controls",
          "model_module_version": "1.5.0",
          "model_name": "HTMLModel",
          "state": {
            "_dom_classes": [],
            "_model_module": "@jupyter-widgets/controls",
            "_model_module_version": "1.5.0",
            "_model_name": "HTMLModel",
            "_view_count": null,
            "_view_module": "@jupyter-widgets/controls",
            "_view_module_version": "1.5.0",
            "_view_name": "HTMLView",
            "description": "",
            "description_tooltip": null,
            "layout": "IPY_MODEL_47e1248e308842588d2ed2e98ff1662d",
            "placeholder": "​",
            "style": "IPY_MODEL_78b63fa54fec4286b2758fcb98d641f8",
            "value": "generation_config.json: 100%"
          }
        },
        "32c19fda822c4d15a6b45d8071426c1f": {
          "model_module": "@jupyter-widgets/controls",
          "model_module_version": "1.5.0",
          "model_name": "FloatProgressModel",
          "state": {
            "_dom_classes": [],
            "_model_module": "@jupyter-widgets/controls",
            "_model_module_version": "1.5.0",
            "_model_name": "FloatProgressModel",
            "_view_count": null,
            "_view_module": "@jupyter-widgets/controls",
            "_view_module_version": "1.5.0",
            "_view_name": "ProgressView",
            "bar_style": "success",
            "description": "",
            "description_tooltip": null,
            "layout": "IPY_MODEL_b63b5c1788b5457da2034f2745269ed1",
            "max": 988097824,
            "min": 0,
            "orientation": "horizontal",
            "style": "IPY_MODEL_400f995f3b7e4cd9955a2fbdff277709",
            "value": 988097824
          }
        },
        "344efe4471324e0cb5023d003382597f": {
          "model_module": "@jupyter-widgets/base",
          "model_module_version": "1.2.0",
          "model_name": "LayoutModel",
          "state": {
            "_model_module": "@jupyter-widgets/base",
            "_model_module_version": "1.2.0",
            "_model_name": "LayoutModel",
            "_view_count": null,
            "_view_module": "@jupyter-widgets/base",
            "_view_module_version": "1.2.0",
            "_view_name": "LayoutView",
            "align_content": null,
            "align_items": null,
            "align_self": null,
            "border": null,
            "bottom": null,
            "display": null,
            "flex": null,
            "flex_flow": null,
            "grid_area": null,
            "grid_auto_columns": null,
            "grid_auto_flow": null,
            "grid_auto_rows": null,
            "grid_column": null,
            "grid_gap": null,
            "grid_row": null,
            "grid_template_areas": null,
            "grid_template_columns": null,
            "grid_template_rows": null,
            "height": null,
            "justify_content": null,
            "justify_items": null,
            "left": null,
            "margin": null,
            "max_height": null,
            "max_width": null,
            "min_height": null,
            "min_width": null,
            "object_fit": null,
            "object_position": null,
            "order": null,
            "overflow": null,
            "overflow_x": null,
            "overflow_y": null,
            "padding": null,
            "right": null,
            "top": null,
            "visibility": null,
            "width": null
          }
        },
        "36f23b3adc71401489e7ddd012ec16ad": {
          "model_module": "@jupyter-widgets/controls",
          "model_module_version": "1.5.0",
          "model_name": "DescriptionStyleModel",
          "state": {
            "_model_module": "@jupyter-widgets/controls",
            "_model_module_version": "1.5.0",
            "_model_name": "DescriptionStyleModel",
            "_view_count": null,
            "_view_module": "@jupyter-widgets/base",
            "_view_module_version": "1.2.0",
            "_view_name": "StyleView",
            "description_width": ""
          }
        },
        "3a37c46fff7447bead8ad297b2e4f552": {
          "model_module": "@jupyter-widgets/controls",
          "model_module_version": "1.5.0",
          "model_name": "HBoxModel",
          "state": {
            "_dom_classes": [],
            "_model_module": "@jupyter-widgets/controls",
            "_model_module_version": "1.5.0",
            "_model_name": "HBoxModel",
            "_view_count": null,
            "_view_module": "@jupyter-widgets/controls",
            "_view_module_version": "1.5.0",
            "_view_name": "HBoxView",
            "box_style": "",
            "children": [
              "IPY_MODEL_2aeb5473cd9541ce92adfc11db82e102",
              "IPY_MODEL_7f716eca749e4b50aad99e62d91f1cd4",
              "IPY_MODEL_924e1a94ce78454aa3b8b4190b1f9960"
            ],
            "layout": "IPY_MODEL_7667abac2eb74247bd11921b7e5c21e5"
          }
        },
        "3b3570d0511f4fbaa81c7044e271b722": {
          "model_module": "@jupyter-widgets/controls",
          "model_module_version": "1.5.0",
          "model_name": "DescriptionStyleModel",
          "state": {
            "_model_module": "@jupyter-widgets/controls",
            "_model_module_version": "1.5.0",
            "_model_name": "DescriptionStyleModel",
            "_view_count": null,
            "_view_module": "@jupyter-widgets/base",
            "_view_module_version": "1.2.0",
            "_view_name": "StyleView",
            "description_width": ""
          }
        },
        "3b800a3e08ff4065ad8c07e730fe2d1a": {
          "model_module": "@jupyter-widgets/base",
          "model_module_version": "1.2.0",
          "model_name": "LayoutModel",
          "state": {
            "_model_module": "@jupyter-widgets/base",
            "_model_module_version": "1.2.0",
            "_model_name": "LayoutModel",
            "_view_count": null,
            "_view_module": "@jupyter-widgets/base",
            "_view_module_version": "1.2.0",
            "_view_name": "LayoutView",
            "align_content": null,
            "align_items": null,
            "align_self": null,
            "border": null,
            "bottom": null,
            "display": null,
            "flex": null,
            "flex_flow": null,
            "grid_area": null,
            "grid_auto_columns": null,
            "grid_auto_flow": null,
            "grid_auto_rows": null,
            "grid_column": null,
            "grid_gap": null,
            "grid_row": null,
            "grid_template_areas": null,
            "grid_template_columns": null,
            "grid_template_rows": null,
            "height": null,
            "justify_content": null,
            "justify_items": null,
            "left": null,
            "margin": null,
            "max_height": null,
            "max_width": null,
            "min_height": null,
            "min_width": null,
            "object_fit": null,
            "object_position": null,
            "order": null,
            "overflow": null,
            "overflow_x": null,
            "overflow_y": null,
            "padding": null,
            "right": null,
            "top": null,
            "visibility": null,
            "width": null
          }
        },
        "400f995f3b7e4cd9955a2fbdff277709": {
          "model_module": "@jupyter-widgets/controls",
          "model_module_version": "1.5.0",
          "model_name": "ProgressStyleModel",
          "state": {
            "_model_module": "@jupyter-widgets/controls",
            "_model_module_version": "1.5.0",
            "_model_name": "ProgressStyleModel",
            "_view_count": null,
            "_view_module": "@jupyter-widgets/base",
            "_view_module_version": "1.2.0",
            "_view_name": "StyleView",
            "bar_color": null,
            "description_width": ""
          }
        },
        "407ddbb2d21c40139d9be24ef5eb15ff": {
          "model_module": "@jupyter-widgets/controls",
          "model_module_version": "1.5.0",
          "model_name": "ProgressStyleModel",
          "state": {
            "_model_module": "@jupyter-widgets/controls",
            "_model_module_version": "1.5.0",
            "_model_name": "ProgressStyleModel",
            "_view_count": null,
            "_view_module": "@jupyter-widgets/base",
            "_view_module_version": "1.2.0",
            "_view_name": "StyleView",
            "bar_color": null,
            "description_width": ""
          }
        },
        "4709903f8578423d815cc778193d45e1": {
          "model_module": "@jupyter-widgets/controls",
          "model_module_version": "1.5.0",
          "model_name": "ProgressStyleModel",
          "state": {
            "_model_module": "@jupyter-widgets/controls",
            "_model_module_version": "1.5.0",
            "_model_name": "ProgressStyleModel",
            "_view_count": null,
            "_view_module": "@jupyter-widgets/base",
            "_view_module_version": "1.2.0",
            "_view_name": "StyleView",
            "bar_color": null,
            "description_width": ""
          }
        },
        "47e1248e308842588d2ed2e98ff1662d": {
          "model_module": "@jupyter-widgets/base",
          "model_module_version": "1.2.0",
          "model_name": "LayoutModel",
          "state": {
            "_model_module": "@jupyter-widgets/base",
            "_model_module_version": "1.2.0",
            "_model_name": "LayoutModel",
            "_view_count": null,
            "_view_module": "@jupyter-widgets/base",
            "_view_module_version": "1.2.0",
            "_view_name": "LayoutView",
            "align_content": null,
            "align_items": null,
            "align_self": null,
            "border": null,
            "bottom": null,
            "display": null,
            "flex": null,
            "flex_flow": null,
            "grid_area": null,
            "grid_auto_columns": null,
            "grid_auto_flow": null,
            "grid_auto_rows": null,
            "grid_column": null,
            "grid_gap": null,
            "grid_row": null,
            "grid_template_areas": null,
            "grid_template_columns": null,
            "grid_template_rows": null,
            "height": null,
            "justify_content": null,
            "justify_items": null,
            "left": null,
            "margin": null,
            "max_height": null,
            "max_width": null,
            "min_height": null,
            "min_width": null,
            "object_fit": null,
            "object_position": null,
            "order": null,
            "overflow": null,
            "overflow_x": null,
            "overflow_y": null,
            "padding": null,
            "right": null,
            "top": null,
            "visibility": null,
            "width": null
          }
        },
        "4b4488b8081a4155a8ada7c5e66ad5af": {
          "model_module": "@jupyter-widgets/base",
          "model_module_version": "1.2.0",
          "model_name": "LayoutModel",
          "state": {
            "_model_module": "@jupyter-widgets/base",
            "_model_module_version": "1.2.0",
            "_model_name": "LayoutModel",
            "_view_count": null,
            "_view_module": "@jupyter-widgets/base",
            "_view_module_version": "1.2.0",
            "_view_name": "LayoutView",
            "align_content": null,
            "align_items": null,
            "align_self": null,
            "border": null,
            "bottom": null,
            "display": null,
            "flex": null,
            "flex_flow": null,
            "grid_area": null,
            "grid_auto_columns": null,
            "grid_auto_flow": null,
            "grid_auto_rows": null,
            "grid_column": null,
            "grid_gap": null,
            "grid_row": null,
            "grid_template_areas": null,
            "grid_template_columns": null,
            "grid_template_rows": null,
            "height": null,
            "justify_content": null,
            "justify_items": null,
            "left": null,
            "margin": null,
            "max_height": null,
            "max_width": null,
            "min_height": null,
            "min_width": null,
            "object_fit": null,
            "object_position": null,
            "order": null,
            "overflow": null,
            "overflow_x": null,
            "overflow_y": null,
            "padding": null,
            "right": null,
            "top": null,
            "visibility": null,
            "width": null
          }
        },
        "5d06b7943b7d47a09260f519de0c5d24": {
          "model_module": "@jupyter-widgets/controls",
          "model_module_version": "1.5.0",
          "model_name": "HTMLModel",
          "state": {
            "_dom_classes": [],
            "_model_module": "@jupyter-widgets/controls",
            "_model_module_version": "1.5.0",
            "_model_name": "HTMLModel",
            "_view_count": null,
            "_view_module": "@jupyter-widgets/controls",
            "_view_module_version": "1.5.0",
            "_view_name": "HTMLView",
            "description": "",
            "description_tooltip": null,
            "layout": "IPY_MODEL_344efe4471324e0cb5023d003382597f",
            "placeholder": "​",
            "style": "IPY_MODEL_36f23b3adc71401489e7ddd012ec16ad",
            "value": "tokenizer.json: 100%"
          }
        },
        "5f58e4ff23a24c32803a9e985aa7b764": {
          "model_module": "@jupyter-widgets/controls",
          "model_module_version": "1.5.0",
          "model_name": "HBoxModel",
          "state": {
            "_dom_classes": [],
            "_model_module": "@jupyter-widgets/controls",
            "_model_module_version": "1.5.0",
            "_model_name": "HBoxModel",
            "_view_count": null,
            "_view_module": "@jupyter-widgets/controls",
            "_view_module_version": "1.5.0",
            "_view_name": "HBoxView",
            "box_style": "",
            "children": [
              "IPY_MODEL_f4d372e0a04c4463adb12f7b8611d4c8",
              "IPY_MODEL_b34d004793bb407093e5b7d9fd829cf6",
              "IPY_MODEL_bcc88d5d53804085a552249a9f189f2e"
            ],
            "layout": "IPY_MODEL_73d567ae48364f8ca075a11014e3cb35"
          }
        },
        "6742865b21dd48aebac7b2e38a4d1d18": {
          "model_module": "@jupyter-widgets/controls",
          "model_module_version": "1.5.0",
          "model_name": "DescriptionStyleModel",
          "state": {
            "_model_module": "@jupyter-widgets/controls",
            "_model_module_version": "1.5.0",
            "_model_name": "DescriptionStyleModel",
            "_view_count": null,
            "_view_module": "@jupyter-widgets/base",
            "_view_module_version": "1.2.0",
            "_view_name": "StyleView",
            "description_width": ""
          }
        },
        "6af3374507634174b70cecfcd8aa9264": {
          "model_module": "@jupyter-widgets/controls",
          "model_module_version": "1.5.0",
          "model_name": "HTMLModel",
          "state": {
            "_dom_classes": [],
            "_model_module": "@jupyter-widgets/controls",
            "_model_module_version": "1.5.0",
            "_model_name": "HTMLModel",
            "_view_count": null,
            "_view_module": "@jupyter-widgets/controls",
            "_view_module_version": "1.5.0",
            "_view_name": "HTMLView",
            "description": "",
            "description_tooltip": null,
            "layout": "IPY_MODEL_a1cde0c36bcc4d6a929e7c81797c2507",
            "placeholder": "​",
            "style": "IPY_MODEL_0e5a017c128543fa821646b50a6937b4",
            "value": " 659/659 [00:00&lt;00:00, 48.4kB/s]"
          }
        },
        "6f04432c59164c849af9dae74f2b5bef": {
          "model_module": "@jupyter-widgets/controls",
          "model_module_version": "1.5.0",
          "model_name": "HTMLModel",
          "state": {
            "_dom_classes": [],
            "_model_module": "@jupyter-widgets/controls",
            "_model_module_version": "1.5.0",
            "_model_name": "HTMLModel",
            "_view_count": null,
            "_view_module": "@jupyter-widgets/controls",
            "_view_module_version": "1.5.0",
            "_view_name": "HTMLView",
            "description": "",
            "description_tooltip": null,
            "layout": "IPY_MODEL_aacd6b095a7d4b91ba4df976a47948d7",
            "placeholder": "​",
            "style": "IPY_MODEL_8d80f7e6d6d740afb0d8b565d35a3b91",
            "value": " 1.67M/1.67M [00:00&lt;00:00, 6.86MB/s]"
          }
        },
        "705879b9135e4555be38530a7a3b13c2": {
          "model_module": "@jupyter-widgets/controls",
          "model_module_version": "1.5.0",
          "model_name": "DescriptionStyleModel",
          "state": {
            "_model_module": "@jupyter-widgets/controls",
            "_model_module_version": "1.5.0",
            "_model_name": "DescriptionStyleModel",
            "_view_count": null,
            "_view_module": "@jupyter-widgets/base",
            "_view_module_version": "1.2.0",
            "_view_name": "StyleView",
            "description_width": ""
          }
        },
        "726b3ef7d7764a8ea8380041c8facd6b": {
          "model_module": "@jupyter-widgets/controls",
          "model_module_version": "1.5.0",
          "model_name": "HTMLModel",
          "state": {
            "_dom_classes": [],
            "_model_module": "@jupyter-widgets/controls",
            "_model_module_version": "1.5.0",
            "_model_name": "HTMLModel",
            "_view_count": null,
            "_view_module": "@jupyter-widgets/controls",
            "_view_module_version": "1.5.0",
            "_view_name": "HTMLView",
            "description": "",
            "description_tooltip": null,
            "layout": "IPY_MODEL_4b4488b8081a4155a8ada7c5e66ad5af",
            "placeholder": "​",
            "style": "IPY_MODEL_8cdfce13d3f54f8e8f416ad0827b2cc9",
            "value": "model.safetensors: 100%"
          }
        },
        "736a57fb6a924216afc0c7d30253455e": {
          "model_module": "@jupyter-widgets/base",
          "model_module_version": "1.2.0",
          "model_name": "LayoutModel",
          "state": {
            "_model_module": "@jupyter-widgets/base",
            "_model_module_version": "1.2.0",
            "_model_name": "LayoutModel",
            "_view_count": null,
            "_view_module": "@jupyter-widgets/base",
            "_view_module_version": "1.2.0",
            "_view_name": "LayoutView",
            "align_content": null,
            "align_items": null,
            "align_self": null,
            "border": null,
            "bottom": null,
            "display": null,
            "flex": null,
            "flex_flow": null,
            "grid_area": null,
            "grid_auto_columns": null,
            "grid_auto_flow": null,
            "grid_auto_rows": null,
            "grid_column": null,
            "grid_gap": null,
            "grid_row": null,
            "grid_template_areas": null,
            "grid_template_columns": null,
            "grid_template_rows": null,
            "height": null,
            "justify_content": null,
            "justify_items": null,
            "left": null,
            "margin": null,
            "max_height": null,
            "max_width": null,
            "min_height": null,
            "min_width": null,
            "object_fit": null,
            "object_position": null,
            "order": null,
            "overflow": null,
            "overflow_x": null,
            "overflow_y": null,
            "padding": null,
            "right": null,
            "top": null,
            "visibility": null,
            "width": null
          }
        },
        "73d567ae48364f8ca075a11014e3cb35": {
          "model_module": "@jupyter-widgets/base",
          "model_module_version": "1.2.0",
          "model_name": "LayoutModel",
          "state": {
            "_model_module": "@jupyter-widgets/base",
            "_model_module_version": "1.2.0",
            "_model_name": "LayoutModel",
            "_view_count": null,
            "_view_module": "@jupyter-widgets/base",
            "_view_module_version": "1.2.0",
            "_view_name": "LayoutView",
            "align_content": null,
            "align_items": null,
            "align_self": null,
            "border": null,
            "bottom": null,
            "display": null,
            "flex": null,
            "flex_flow": null,
            "grid_area": null,
            "grid_auto_columns": null,
            "grid_auto_flow": null,
            "grid_auto_rows": null,
            "grid_column": null,
            "grid_gap": null,
            "grid_row": null,
            "grid_template_areas": null,
            "grid_template_columns": null,
            "grid_template_rows": null,
            "height": null,
            "justify_content": null,
            "justify_items": null,
            "left": null,
            "margin": null,
            "max_height": null,
            "max_width": null,
            "min_height": null,
            "min_width": null,
            "object_fit": null,
            "object_position": null,
            "order": null,
            "overflow": null,
            "overflow_x": null,
            "overflow_y": null,
            "padding": null,
            "right": null,
            "top": null,
            "visibility": null,
            "width": null
          }
        },
        "7573b5a0f8df42e6ac4737092cbfff4a": {
          "model_module": "@jupyter-widgets/base",
          "model_module_version": "1.2.0",
          "model_name": "LayoutModel",
          "state": {
            "_model_module": "@jupyter-widgets/base",
            "_model_module_version": "1.2.0",
            "_model_name": "LayoutModel",
            "_view_count": null,
            "_view_module": "@jupyter-widgets/base",
            "_view_module_version": "1.2.0",
            "_view_name": "LayoutView",
            "align_content": null,
            "align_items": null,
            "align_self": null,
            "border": null,
            "bottom": null,
            "display": null,
            "flex": null,
            "flex_flow": null,
            "grid_area": null,
            "grid_auto_columns": null,
            "grid_auto_flow": null,
            "grid_auto_rows": null,
            "grid_column": null,
            "grid_gap": null,
            "grid_row": null,
            "grid_template_areas": null,
            "grid_template_columns": null,
            "grid_template_rows": null,
            "height": null,
            "justify_content": null,
            "justify_items": null,
            "left": null,
            "margin": null,
            "max_height": null,
            "max_width": null,
            "min_height": null,
            "min_width": null,
            "object_fit": null,
            "object_position": null,
            "order": null,
            "overflow": null,
            "overflow_x": null,
            "overflow_y": null,
            "padding": null,
            "right": null,
            "top": null,
            "visibility": null,
            "width": null
          }
        },
        "7667abac2eb74247bd11921b7e5c21e5": {
          "model_module": "@jupyter-widgets/base",
          "model_module_version": "1.2.0",
          "model_name": "LayoutModel",
          "state": {
            "_model_module": "@jupyter-widgets/base",
            "_model_module_version": "1.2.0",
            "_model_name": "LayoutModel",
            "_view_count": null,
            "_view_module": "@jupyter-widgets/base",
            "_view_module_version": "1.2.0",
            "_view_name": "LayoutView",
            "align_content": null,
            "align_items": null,
            "align_self": null,
            "border": null,
            "bottom": null,
            "display": null,
            "flex": null,
            "flex_flow": null,
            "grid_area": null,
            "grid_auto_columns": null,
            "grid_auto_flow": null,
            "grid_auto_rows": null,
            "grid_column": null,
            "grid_gap": null,
            "grid_row": null,
            "grid_template_areas": null,
            "grid_template_columns": null,
            "grid_template_rows": null,
            "height": null,
            "justify_content": null,
            "justify_items": null,
            "left": null,
            "margin": null,
            "max_height": null,
            "max_width": null,
            "min_height": null,
            "min_width": null,
            "object_fit": null,
            "object_position": null,
            "order": null,
            "overflow": null,
            "overflow_x": null,
            "overflow_y": null,
            "padding": null,
            "right": null,
            "top": null,
            "visibility": null,
            "width": null
          }
        },
        "787bf15d469240fbbb1bcd9cd33dded1": {
          "model_module": "@jupyter-widgets/controls",
          "model_module_version": "1.5.0",
          "model_name": "DescriptionStyleModel",
          "state": {
            "_model_module": "@jupyter-widgets/controls",
            "_model_module_version": "1.5.0",
            "_model_name": "DescriptionStyleModel",
            "_view_count": null,
            "_view_module": "@jupyter-widgets/base",
            "_view_module_version": "1.2.0",
            "_view_name": "StyleView",
            "description_width": ""
          }
        },
        "78b63fa54fec4286b2758fcb98d641f8": {
          "model_module": "@jupyter-widgets/controls",
          "model_module_version": "1.5.0",
          "model_name": "DescriptionStyleModel",
          "state": {
            "_model_module": "@jupyter-widgets/controls",
            "_model_module_version": "1.5.0",
            "_model_name": "DescriptionStyleModel",
            "_view_count": null,
            "_view_module": "@jupyter-widgets/base",
            "_view_module_version": "1.2.0",
            "_view_name": "StyleView",
            "description_width": ""
          }
        },
        "7cc97bf0eee04a1f88d2205fad7cfb26": {
          "model_module": "@jupyter-widgets/controls",
          "model_module_version": "1.5.0",
          "model_name": "HTMLModel",
          "state": {
            "_dom_classes": [],
            "_model_module": "@jupyter-widgets/controls",
            "_model_module_version": "1.5.0",
            "_model_name": "HTMLModel",
            "_view_count": null,
            "_view_module": "@jupyter-widgets/controls",
            "_view_module_version": "1.5.0",
            "_view_name": "HTMLView",
            "description": "",
            "description_tooltip": null,
            "layout": "IPY_MODEL_e6c8484f4dec4a81a5f029b12b97fc4a",
            "placeholder": "​",
            "style": "IPY_MODEL_787bf15d469240fbbb1bcd9cd33dded1",
            "value": "tokenizer_config.json: 100%"
          }
        },
        "7f53dcf8f3f14be584bb3c33f1c06680": {
          "model_module": "@jupyter-widgets/controls",
          "model_module_version": "1.5.0",
          "model_name": "HBoxModel",
          "state": {
            "_dom_classes": [],
            "_model_module": "@jupyter-widgets/controls",
            "_model_module_version": "1.5.0",
            "_model_name": "HBoxModel",
            "_view_count": null,
            "_view_module": "@jupyter-widgets/controls",
            "_view_module_version": "1.5.0",
            "_view_name": "HBoxView",
            "box_style": "",
            "children": [
              "IPY_MODEL_726b3ef7d7764a8ea8380041c8facd6b",
              "IPY_MODEL_32c19fda822c4d15a6b45d8071426c1f",
              "IPY_MODEL_2445a7fa9c5f4ba397f7c15c2e9788e6"
            ],
            "layout": "IPY_MODEL_822bc702128c43b695cac13a1aa15762"
          }
        },
        "7f716eca749e4b50aad99e62d91f1cd4": {
          "model_module": "@jupyter-widgets/controls",
          "model_module_version": "1.5.0",
          "model_name": "FloatProgressModel",
          "state": {
            "_dom_classes": [],
            "_model_module": "@jupyter-widgets/controls",
            "_model_module_version": "1.5.0",
            "_model_name": "FloatProgressModel",
            "_view_count": null,
            "_view_module": "@jupyter-widgets/controls",
            "_view_module_version": "1.5.0",
            "_view_name": "ProgressView",
            "bar_style": "success",
            "description": "",
            "description_tooltip": null,
            "layout": "IPY_MODEL_7573b5a0f8df42e6ac4737092cbfff4a",
            "max": 242,
            "min": 0,
            "orientation": "horizontal",
            "style": "IPY_MODEL_026ed018cbee459c94449e180225b592",
            "value": 242
          }
        },
        "822bc702128c43b695cac13a1aa15762": {
          "model_module": "@jupyter-widgets/base",
          "model_module_version": "1.2.0",
          "model_name": "LayoutModel",
          "state": {
            "_model_module": "@jupyter-widgets/base",
            "_model_module_version": "1.2.0",
            "_model_name": "LayoutModel",
            "_view_count": null,
            "_view_module": "@jupyter-widgets/base",
            "_view_module_version": "1.2.0",
            "_view_name": "LayoutView",
            "align_content": null,
            "align_items": null,
            "align_self": null,
            "border": null,
            "bottom": null,
            "display": null,
            "flex": null,
            "flex_flow": null,
            "grid_area": null,
            "grid_auto_columns": null,
            "grid_auto_flow": null,
            "grid_auto_rows": null,
            "grid_column": null,
            "grid_gap": null,
            "grid_row": null,
            "grid_template_areas": null,
            "grid_template_columns": null,
            "grid_template_rows": null,
            "height": null,
            "justify_content": null,
            "justify_items": null,
            "left": null,
            "margin": null,
            "max_height": null,
            "max_width": null,
            "min_height": null,
            "min_width": null,
            "object_fit": null,
            "object_position": null,
            "order": null,
            "overflow": null,
            "overflow_x": null,
            "overflow_y": null,
            "padding": null,
            "right": null,
            "top": null,
            "visibility": null,
            "width": null
          }
        },
        "837428a61a1a4a3e843e139ca602dfd1": {
          "model_module": "@jupyter-widgets/base",
          "model_module_version": "1.2.0",
          "model_name": "LayoutModel",
          "state": {
            "_model_module": "@jupyter-widgets/base",
            "_model_module_version": "1.2.0",
            "_model_name": "LayoutModel",
            "_view_count": null,
            "_view_module": "@jupyter-widgets/base",
            "_view_module_version": "1.2.0",
            "_view_name": "LayoutView",
            "align_content": null,
            "align_items": null,
            "align_self": null,
            "border": null,
            "bottom": null,
            "display": null,
            "flex": null,
            "flex_flow": null,
            "grid_area": null,
            "grid_auto_columns": null,
            "grid_auto_flow": null,
            "grid_auto_rows": null,
            "grid_column": null,
            "grid_gap": null,
            "grid_row": null,
            "grid_template_areas": null,
            "grid_template_columns": null,
            "grid_template_rows": null,
            "height": null,
            "justify_content": null,
            "justify_items": null,
            "left": null,
            "margin": null,
            "max_height": null,
            "max_width": null,
            "min_height": null,
            "min_width": null,
            "object_fit": null,
            "object_position": null,
            "order": null,
            "overflow": null,
            "overflow_x": null,
            "overflow_y": null,
            "padding": null,
            "right": null,
            "top": null,
            "visibility": null,
            "width": null
          }
        },
        "85094c487cd64bf7ac39750ad5b711fa": {
          "model_module": "@jupyter-widgets/controls",
          "model_module_version": "1.5.0",
          "model_name": "DescriptionStyleModel",
          "state": {
            "_model_module": "@jupyter-widgets/controls",
            "_model_module_version": "1.5.0",
            "_model_name": "DescriptionStyleModel",
            "_view_count": null,
            "_view_module": "@jupyter-widgets/base",
            "_view_module_version": "1.2.0",
            "_view_name": "StyleView",
            "description_width": ""
          }
        },
        "8aca497c3d6d41c4811da326d0880892": {
          "model_module": "@jupyter-widgets/base",
          "model_module_version": "1.2.0",
          "model_name": "LayoutModel",
          "state": {
            "_model_module": "@jupyter-widgets/base",
            "_model_module_version": "1.2.0",
            "_model_name": "LayoutModel",
            "_view_count": null,
            "_view_module": "@jupyter-widgets/base",
            "_view_module_version": "1.2.0",
            "_view_name": "LayoutView",
            "align_content": null,
            "align_items": null,
            "align_self": null,
            "border": null,
            "bottom": null,
            "display": null,
            "flex": null,
            "flex_flow": null,
            "grid_area": null,
            "grid_auto_columns": null,
            "grid_auto_flow": null,
            "grid_auto_rows": null,
            "grid_column": null,
            "grid_gap": null,
            "grid_row": null,
            "grid_template_areas": null,
            "grid_template_columns": null,
            "grid_template_rows": null,
            "height": null,
            "justify_content": null,
            "justify_items": null,
            "left": null,
            "margin": null,
            "max_height": null,
            "max_width": null,
            "min_height": null,
            "min_width": null,
            "object_fit": null,
            "object_position": null,
            "order": null,
            "overflow": null,
            "overflow_x": null,
            "overflow_y": null,
            "padding": null,
            "right": null,
            "top": null,
            "visibility": null,
            "width": null
          }
        },
        "8bc4f6ec35c84ff085919f93c34c631a": {
          "model_module": "@jupyter-widgets/controls",
          "model_module_version": "1.5.0",
          "model_name": "HTMLModel",
          "state": {
            "_dom_classes": [],
            "_model_module": "@jupyter-widgets/controls",
            "_model_module_version": "1.5.0",
            "_model_name": "HTMLModel",
            "_view_count": null,
            "_view_module": "@jupyter-widgets/controls",
            "_view_module_version": "1.5.0",
            "_view_name": "HTMLView",
            "description": "",
            "description_tooltip": null,
            "layout": "IPY_MODEL_07f67506ba3b4c788afb785479c0be59",
            "placeholder": "​",
            "style": "IPY_MODEL_99fb33ee6c104f019e1749a217ae18b1",
            "value": " 7.30k/7.30k [00:00&lt;00:00, 782kB/s]"
          }
        },
        "8cdfce13d3f54f8e8f416ad0827b2cc9": {
          "model_module": "@jupyter-widgets/controls",
          "model_module_version": "1.5.0",
          "model_name": "DescriptionStyleModel",
          "state": {
            "_model_module": "@jupyter-widgets/controls",
            "_model_module_version": "1.5.0",
            "_model_name": "DescriptionStyleModel",
            "_view_count": null,
            "_view_module": "@jupyter-widgets/base",
            "_view_module_version": "1.2.0",
            "_view_name": "StyleView",
            "description_width": ""
          }
        },
        "8d80f7e6d6d740afb0d8b565d35a3b91": {
          "model_module": "@jupyter-widgets/controls",
          "model_module_version": "1.5.0",
          "model_name": "DescriptionStyleModel",
          "state": {
            "_model_module": "@jupyter-widgets/controls",
            "_model_module_version": "1.5.0",
            "_model_name": "DescriptionStyleModel",
            "_view_count": null,
            "_view_module": "@jupyter-widgets/base",
            "_view_module_version": "1.2.0",
            "_view_name": "StyleView",
            "description_width": ""
          }
        },
        "8ddf5a0f70b245da904efbdde7a6cfd3": {
          "model_module": "@jupyter-widgets/controls",
          "model_module_version": "1.5.0",
          "model_name": "FloatProgressModel",
          "state": {
            "_dom_classes": [],
            "_model_module": "@jupyter-widgets/controls",
            "_model_module_version": "1.5.0",
            "_model_name": "FloatProgressModel",
            "_view_count": null,
            "_view_module": "@jupyter-widgets/controls",
            "_view_module_version": "1.5.0",
            "_view_name": "ProgressView",
            "bar_style": "success",
            "description": "",
            "description_tooltip": null,
            "layout": "IPY_MODEL_9617ca3489e64e31a87443f02362f423",
            "max": 7305,
            "min": 0,
            "orientation": "horizontal",
            "style": "IPY_MODEL_04a8d8f8689a42f4bb00a4c0b9fecafd",
            "value": 7305
          }
        },
        "924e1a94ce78454aa3b8b4190b1f9960": {
          "model_module": "@jupyter-widgets/controls",
          "model_module_version": "1.5.0",
          "model_name": "HTMLModel",
          "state": {
            "_dom_classes": [],
            "_model_module": "@jupyter-widgets/controls",
            "_model_module_version": "1.5.0",
            "_model_name": "HTMLModel",
            "_view_count": null,
            "_view_module": "@jupyter-widgets/controls",
            "_view_module_version": "1.5.0",
            "_view_name": "HTMLView",
            "description": "",
            "description_tooltip": null,
            "layout": "IPY_MODEL_3b800a3e08ff4065ad8c07e730fe2d1a",
            "placeholder": "​",
            "style": "IPY_MODEL_705879b9135e4555be38530a7a3b13c2",
            "value": " 242/242 [00:00&lt;00:00, 20.2kB/s]"
          }
        },
        "944f96536f754fd6b79190a8eab44905": {
          "model_module": "@jupyter-widgets/controls",
          "model_module_version": "1.5.0",
          "model_name": "DescriptionStyleModel",
          "state": {
            "_model_module": "@jupyter-widgets/controls",
            "_model_module_version": "1.5.0",
            "_model_name": "DescriptionStyleModel",
            "_view_count": null,
            "_view_module": "@jupyter-widgets/base",
            "_view_module_version": "1.2.0",
            "_view_name": "StyleView",
            "description_width": ""
          }
        },
        "9617ca3489e64e31a87443f02362f423": {
          "model_module": "@jupyter-widgets/base",
          "model_module_version": "1.2.0",
          "model_name": "LayoutModel",
          "state": {
            "_model_module": "@jupyter-widgets/base",
            "_model_module_version": "1.2.0",
            "_model_name": "LayoutModel",
            "_view_count": null,
            "_view_module": "@jupyter-widgets/base",
            "_view_module_version": "1.2.0",
            "_view_name": "LayoutView",
            "align_content": null,
            "align_items": null,
            "align_self": null,
            "border": null,
            "bottom": null,
            "display": null,
            "flex": null,
            "flex_flow": null,
            "grid_area": null,
            "grid_auto_columns": null,
            "grid_auto_flow": null,
            "grid_auto_rows": null,
            "grid_column": null,
            "grid_gap": null,
            "grid_row": null,
            "grid_template_areas": null,
            "grid_template_columns": null,
            "grid_template_rows": null,
            "height": null,
            "justify_content": null,
            "justify_items": null,
            "left": null,
            "margin": null,
            "max_height": null,
            "max_width": null,
            "min_height": null,
            "min_width": null,
            "object_fit": null,
            "object_position": null,
            "order": null,
            "overflow": null,
            "overflow_x": null,
            "overflow_y": null,
            "padding": null,
            "right": null,
            "top": null,
            "visibility": null,
            "width": null
          }
        },
        "973c53c9834b486491574d4a6cf7469e": {
          "model_module": "@jupyter-widgets/controls",
          "model_module_version": "1.5.0",
          "model_name": "ProgressStyleModel",
          "state": {
            "_model_module": "@jupyter-widgets/controls",
            "_model_module_version": "1.5.0",
            "_model_name": "ProgressStyleModel",
            "_view_count": null,
            "_view_module": "@jupyter-widgets/base",
            "_view_module_version": "1.2.0",
            "_view_name": "StyleView",
            "bar_color": null,
            "description_width": ""
          }
        },
        "973d03a2c4294ff19da7e71a733d13a8": {
          "model_module": "@jupyter-widgets/controls",
          "model_module_version": "1.5.0",
          "model_name": "HTMLModel",
          "state": {
            "_dom_classes": [],
            "_model_module": "@jupyter-widgets/controls",
            "_model_module_version": "1.5.0",
            "_model_name": "HTMLModel",
            "_view_count": null,
            "_view_module": "@jupyter-widgets/controls",
            "_view_module_version": "1.5.0",
            "_view_name": "HTMLView",
            "description": "",
            "description_tooltip": null,
            "layout": "IPY_MODEL_f98708e9a9cb4a5ab53e94badb7599f1",
            "placeholder": "​",
            "style": "IPY_MODEL_26198b261ce84b64b9dc754a9026133d",
            "value": "merges.txt: 100%"
          }
        },
        "99fb33ee6c104f019e1749a217ae18b1": {
          "model_module": "@jupyter-widgets/controls",
          "model_module_version": "1.5.0",
          "model_name": "DescriptionStyleModel",
          "state": {
            "_model_module": "@jupyter-widgets/controls",
            "_model_module_version": "1.5.0",
            "_model_name": "DescriptionStyleModel",
            "_view_count": null,
            "_view_module": "@jupyter-widgets/base",
            "_view_module_version": "1.2.0",
            "_view_name": "StyleView",
            "description_width": ""
          }
        },
        "9f73048eb9244f00a94c4555acddb538": {
          "model_module": "@jupyter-widgets/controls",
          "model_module_version": "1.5.0",
          "model_name": "HTMLModel",
          "state": {
            "_dom_classes": [],
            "_model_module": "@jupyter-widgets/controls",
            "_model_module_version": "1.5.0",
            "_model_name": "HTMLModel",
            "_view_count": null,
            "_view_module": "@jupyter-widgets/controls",
            "_view_module_version": "1.5.0",
            "_view_name": "HTMLView",
            "description": "",
            "description_tooltip": null,
            "layout": "IPY_MODEL_736a57fb6a924216afc0c7d30253455e",
            "placeholder": "​",
            "style": "IPY_MODEL_6742865b21dd48aebac7b2e38a4d1d18",
            "value": " 7.03M/7.03M [00:01&lt;00:00, 6.38MB/s]"
          }
        },
        "a1cde0c36bcc4d6a929e7c81797c2507": {
          "model_module": "@jupyter-widgets/base",
          "model_module_version": "1.2.0",
          "model_name": "LayoutModel",
          "state": {
            "_model_module": "@jupyter-widgets/base",
            "_model_module_version": "1.2.0",
            "_model_name": "LayoutModel",
            "_view_count": null,
            "_view_module": "@jupyter-widgets/base",
            "_view_module_version": "1.2.0",
            "_view_name": "LayoutView",
            "align_content": null,
            "align_items": null,
            "align_self": null,
            "border": null,
            "bottom": null,
            "display": null,
            "flex": null,
            "flex_flow": null,
            "grid_area": null,
            "grid_auto_columns": null,
            "grid_auto_flow": null,
            "grid_auto_rows": null,
            "grid_column": null,
            "grid_gap": null,
            "grid_row": null,
            "grid_template_areas": null,
            "grid_template_columns": null,
            "grid_template_rows": null,
            "height": null,
            "justify_content": null,
            "justify_items": null,
            "left": null,
            "margin": null,
            "max_height": null,
            "max_width": null,
            "min_height": null,
            "min_width": null,
            "object_fit": null,
            "object_position": null,
            "order": null,
            "overflow": null,
            "overflow_x": null,
            "overflow_y": null,
            "padding": null,
            "right": null,
            "top": null,
            "visibility": null,
            "width": null
          }
        },
        "a4b5579777404581a0be3090cb3006c6": {
          "model_module": "@jupyter-widgets/controls",
          "model_module_version": "1.5.0",
          "model_name": "FloatProgressModel",
          "state": {
            "_dom_classes": [],
            "_model_module": "@jupyter-widgets/controls",
            "_model_module_version": "1.5.0",
            "_model_name": "FloatProgressModel",
            "_view_count": null,
            "_view_module": "@jupyter-widgets/controls",
            "_view_module_version": "1.5.0",
            "_view_name": "ProgressView",
            "bar_style": "success",
            "description": "",
            "description_tooltip": null,
            "layout": "IPY_MODEL_0711e92326184f40996f55d9bc95e60a",
            "max": 7031645,
            "min": 0,
            "orientation": "horizontal",
            "style": "IPY_MODEL_4709903f8578423d815cc778193d45e1",
            "value": 7031645
          }
        },
        "a97d9b1d983a4b6bbd4ed85f7a3f78ef": {
          "model_module": "@jupyter-widgets/controls",
          "model_module_version": "1.5.0",
          "model_name": "FloatProgressModel",
          "state": {
            "_dom_classes": [],
            "_model_module": "@jupyter-widgets/controls",
            "_model_module_version": "1.5.0",
            "_model_name": "FloatProgressModel",
            "_view_count": null,
            "_view_module": "@jupyter-widgets/controls",
            "_view_module_version": "1.5.0",
            "_view_name": "ProgressView",
            "bar_style": "success",
            "description": "",
            "description_tooltip": null,
            "layout": "IPY_MODEL_fdcd604d23bc40c09d2dc366c3298e32",
            "max": 659,
            "min": 0,
            "orientation": "horizontal",
            "style": "IPY_MODEL_407ddbb2d21c40139d9be24ef5eb15ff",
            "value": 659
          }
        },
        "aacd6b095a7d4b91ba4df976a47948d7": {
          "model_module": "@jupyter-widgets/base",
          "model_module_version": "1.2.0",
          "model_name": "LayoutModel",
          "state": {
            "_model_module": "@jupyter-widgets/base",
            "_model_module_version": "1.2.0",
            "_model_name": "LayoutModel",
            "_view_count": null,
            "_view_module": "@jupyter-widgets/base",
            "_view_module_version": "1.2.0",
            "_view_name": "LayoutView",
            "align_content": null,
            "align_items": null,
            "align_self": null,
            "border": null,
            "bottom": null,
            "display": null,
            "flex": null,
            "flex_flow": null,
            "grid_area": null,
            "grid_auto_columns": null,
            "grid_auto_flow": null,
            "grid_auto_rows": null,
            "grid_column": null,
            "grid_gap": null,
            "grid_row": null,
            "grid_template_areas": null,
            "grid_template_columns": null,
            "grid_template_rows": null,
            "height": null,
            "justify_content": null,
            "justify_items": null,
            "left": null,
            "margin": null,
            "max_height": null,
            "max_width": null,
            "min_height": null,
            "min_width": null,
            "object_fit": null,
            "object_position": null,
            "order": null,
            "overflow": null,
            "overflow_x": null,
            "overflow_y": null,
            "padding": null,
            "right": null,
            "top": null,
            "visibility": null,
            "width": null
          }
        },
        "ae615fc49892479ab70ab57e760fdd9c": {
          "model_module": "@jupyter-widgets/controls",
          "model_module_version": "1.5.0",
          "model_name": "HTMLModel",
          "state": {
            "_dom_classes": [],
            "_model_module": "@jupyter-widgets/controls",
            "_model_module_version": "1.5.0",
            "_model_name": "HTMLModel",
            "_view_count": null,
            "_view_module": "@jupyter-widgets/controls",
            "_view_module_version": "1.5.0",
            "_view_name": "HTMLView",
            "description": "",
            "description_tooltip": null,
            "layout": "IPY_MODEL_cad4b4b4a7a54ee6ad6f15ce27166039",
            "placeholder": "​",
            "style": "IPY_MODEL_04cfcefa27234dada96bf79f7acd5da1",
            "value": "config.json: 100%"
          }
        },
        "ae9d53d15f9b4a3b96468f0f07866050": {
          "model_module": "@jupyter-widgets/controls",
          "model_module_version": "1.5.0",
          "model_name": "HBoxModel",
          "state": {
            "_dom_classes": [],
            "_model_module": "@jupyter-widgets/controls",
            "_model_module_version": "1.5.0",
            "_model_name": "HBoxModel",
            "_view_count": null,
            "_view_module": "@jupyter-widgets/controls",
            "_view_module_version": "1.5.0",
            "_view_name": "HBoxView",
            "box_style": "",
            "children": [
              "IPY_MODEL_973d03a2c4294ff19da7e71a733d13a8",
              "IPY_MODEL_22d0d326ef7242018f29b4db10e85a5c",
              "IPY_MODEL_6f04432c59164c849af9dae74f2b5bef"
            ],
            "layout": "IPY_MODEL_f27052010e694d6e8373e6d97b862910"
          }
        },
        "b1087b0ef582406fb447eb74b560e262": {
          "model_module": "@jupyter-widgets/base",
          "model_module_version": "1.2.0",
          "model_name": "LayoutModel",
          "state": {
            "_model_module": "@jupyter-widgets/base",
            "_model_module_version": "1.2.0",
            "_model_name": "LayoutModel",
            "_view_count": null,
            "_view_module": "@jupyter-widgets/base",
            "_view_module_version": "1.2.0",
            "_view_name": "LayoutView",
            "align_content": null,
            "align_items": null,
            "align_self": null,
            "border": null,
            "bottom": null,
            "display": null,
            "flex": null,
            "flex_flow": null,
            "grid_area": null,
            "grid_auto_columns": null,
            "grid_auto_flow": null,
            "grid_auto_rows": null,
            "grid_column": null,
            "grid_gap": null,
            "grid_row": null,
            "grid_template_areas": null,
            "grid_template_columns": null,
            "grid_template_rows": null,
            "height": null,
            "justify_content": null,
            "justify_items": null,
            "left": null,
            "margin": null,
            "max_height": null,
            "max_width": null,
            "min_height": null,
            "min_width": null,
            "object_fit": null,
            "object_position": null,
            "order": null,
            "overflow": null,
            "overflow_x": null,
            "overflow_y": null,
            "padding": null,
            "right": null,
            "top": null,
            "visibility": null,
            "width": null
          }
        },
        "b19b4242b3f54237baf99671ebd07988": {
          "model_module": "@jupyter-widgets/base",
          "model_module_version": "1.2.0",
          "model_name": "LayoutModel",
          "state": {
            "_model_module": "@jupyter-widgets/base",
            "_model_module_version": "1.2.0",
            "_model_name": "LayoutModel",
            "_view_count": null,
            "_view_module": "@jupyter-widgets/base",
            "_view_module_version": "1.2.0",
            "_view_name": "LayoutView",
            "align_content": null,
            "align_items": null,
            "align_self": null,
            "border": null,
            "bottom": null,
            "display": null,
            "flex": null,
            "flex_flow": null,
            "grid_area": null,
            "grid_auto_columns": null,
            "grid_auto_flow": null,
            "grid_auto_rows": null,
            "grid_column": null,
            "grid_gap": null,
            "grid_row": null,
            "grid_template_areas": null,
            "grid_template_columns": null,
            "grid_template_rows": null,
            "height": null,
            "justify_content": null,
            "justify_items": null,
            "left": null,
            "margin": null,
            "max_height": null,
            "max_width": null,
            "min_height": null,
            "min_width": null,
            "object_fit": null,
            "object_position": null,
            "order": null,
            "overflow": null,
            "overflow_x": null,
            "overflow_y": null,
            "padding": null,
            "right": null,
            "top": null,
            "visibility": null,
            "width": null
          }
        },
        "b34d004793bb407093e5b7d9fd829cf6": {
          "model_module": "@jupyter-widgets/controls",
          "model_module_version": "1.5.0",
          "model_name": "FloatProgressModel",
          "state": {
            "_dom_classes": [],
            "_model_module": "@jupyter-widgets/controls",
            "_model_module_version": "1.5.0",
            "_model_name": "FloatProgressModel",
            "_view_count": null,
            "_view_module": "@jupyter-widgets/controls",
            "_view_module_version": "1.5.0",
            "_view_name": "ProgressView",
            "bar_style": "success",
            "description": "",
            "description_tooltip": null,
            "layout": "IPY_MODEL_0f8ed1374a2d410097b42fc871040622",
            "max": 2776833,
            "min": 0,
            "orientation": "horizontal",
            "style": "IPY_MODEL_973c53c9834b486491574d4a6cf7469e",
            "value": 2776833
          }
        },
        "b63b5c1788b5457da2034f2745269ed1": {
          "model_module": "@jupyter-widgets/base",
          "model_module_version": "1.2.0",
          "model_name": "LayoutModel",
          "state": {
            "_model_module": "@jupyter-widgets/base",
            "_model_module_version": "1.2.0",
            "_model_name": "LayoutModel",
            "_view_count": null,
            "_view_module": "@jupyter-widgets/base",
            "_view_module_version": "1.2.0",
            "_view_name": "LayoutView",
            "align_content": null,
            "align_items": null,
            "align_self": null,
            "border": null,
            "bottom": null,
            "display": null,
            "flex": null,
            "flex_flow": null,
            "grid_area": null,
            "grid_auto_columns": null,
            "grid_auto_flow": null,
            "grid_auto_rows": null,
            "grid_column": null,
            "grid_gap": null,
            "grid_row": null,
            "grid_template_areas": null,
            "grid_template_columns": null,
            "grid_template_rows": null,
            "height": null,
            "justify_content": null,
            "justify_items": null,
            "left": null,
            "margin": null,
            "max_height": null,
            "max_width": null,
            "min_height": null,
            "min_width": null,
            "object_fit": null,
            "object_position": null,
            "order": null,
            "overflow": null,
            "overflow_x": null,
            "overflow_y": null,
            "padding": null,
            "right": null,
            "top": null,
            "visibility": null,
            "width": null
          }
        },
        "bcc88d5d53804085a552249a9f189f2e": {
          "model_module": "@jupyter-widgets/controls",
          "model_module_version": "1.5.0",
          "model_name": "HTMLModel",
          "state": {
            "_dom_classes": [],
            "_model_module": "@jupyter-widgets/controls",
            "_model_module_version": "1.5.0",
            "_model_name": "HTMLModel",
            "_view_count": null,
            "_view_module": "@jupyter-widgets/controls",
            "_view_module_version": "1.5.0",
            "_view_name": "HTMLView",
            "description": "",
            "description_tooltip": null,
            "layout": "IPY_MODEL_f1a6a9eba16a44749a267b75df1a11d6",
            "placeholder": "​",
            "style": "IPY_MODEL_944f96536f754fd6b79190a8eab44905",
            "value": " 2.78M/2.78M [00:00&lt;00:00, 12.4MB/s]"
          }
        },
        "c2cdee5a0a57479392130a33e1bd18b7": {
          "model_module": "@jupyter-widgets/controls",
          "model_module_version": "1.5.0",
          "model_name": "HBoxModel",
          "state": {
            "_dom_classes": [],
            "_model_module": "@jupyter-widgets/controls",
            "_model_module_version": "1.5.0",
            "_model_name": "HBoxModel",
            "_view_count": null,
            "_view_module": "@jupyter-widgets/controls",
            "_view_module_version": "1.5.0",
            "_view_name": "HBoxView",
            "box_style": "",
            "children": [
              "IPY_MODEL_5d06b7943b7d47a09260f519de0c5d24",
              "IPY_MODEL_a4b5579777404581a0be3090cb3006c6",
              "IPY_MODEL_9f73048eb9244f00a94c4555acddb538"
            ],
            "layout": "IPY_MODEL_b1087b0ef582406fb447eb74b560e262"
          }
        },
        "cad4b4b4a7a54ee6ad6f15ce27166039": {
          "model_module": "@jupyter-widgets/base",
          "model_module_version": "1.2.0",
          "model_name": "LayoutModel",
          "state": {
            "_model_module": "@jupyter-widgets/base",
            "_model_module_version": "1.2.0",
            "_model_name": "LayoutModel",
            "_view_count": null,
            "_view_module": "@jupyter-widgets/base",
            "_view_module_version": "1.2.0",
            "_view_name": "LayoutView",
            "align_content": null,
            "align_items": null,
            "align_self": null,
            "border": null,
            "bottom": null,
            "display": null,
            "flex": null,
            "flex_flow": null,
            "grid_area": null,
            "grid_auto_columns": null,
            "grid_auto_flow": null,
            "grid_auto_rows": null,
            "grid_column": null,
            "grid_gap": null,
            "grid_row": null,
            "grid_template_areas": null,
            "grid_template_columns": null,
            "grid_template_rows": null,
            "height": null,
            "justify_content": null,
            "justify_items": null,
            "left": null,
            "margin": null,
            "max_height": null,
            "max_width": null,
            "min_height": null,
            "min_width": null,
            "object_fit": null,
            "object_position": null,
            "order": null,
            "overflow": null,
            "overflow_x": null,
            "overflow_y": null,
            "padding": null,
            "right": null,
            "top": null,
            "visibility": null,
            "width": null
          }
        },
        "e6c8484f4dec4a81a5f029b12b97fc4a": {
          "model_module": "@jupyter-widgets/base",
          "model_module_version": "1.2.0",
          "model_name": "LayoutModel",
          "state": {
            "_model_module": "@jupyter-widgets/base",
            "_model_module_version": "1.2.0",
            "_model_name": "LayoutModel",
            "_view_count": null,
            "_view_module": "@jupyter-widgets/base",
            "_view_module_version": "1.2.0",
            "_view_name": "LayoutView",
            "align_content": null,
            "align_items": null,
            "align_self": null,
            "border": null,
            "bottom": null,
            "display": null,
            "flex": null,
            "flex_flow": null,
            "grid_area": null,
            "grid_auto_columns": null,
            "grid_auto_flow": null,
            "grid_auto_rows": null,
            "grid_column": null,
            "grid_gap": null,
            "grid_row": null,
            "grid_template_areas": null,
            "grid_template_columns": null,
            "grid_template_rows": null,
            "height": null,
            "justify_content": null,
            "justify_items": null,
            "left": null,
            "margin": null,
            "max_height": null,
            "max_width": null,
            "min_height": null,
            "min_width": null,
            "object_fit": null,
            "object_position": null,
            "order": null,
            "overflow": null,
            "overflow_x": null,
            "overflow_y": null,
            "padding": null,
            "right": null,
            "top": null,
            "visibility": null,
            "width": null
          }
        },
        "e78bbf18ea62403ead7fff8c21b265c5": {
          "model_module": "@jupyter-widgets/controls",
          "model_module_version": "1.5.0",
          "model_name": "HBoxModel",
          "state": {
            "_dom_classes": [],
            "_model_module": "@jupyter-widgets/controls",
            "_model_module_version": "1.5.0",
            "_model_name": "HBoxModel",
            "_view_count": null,
            "_view_module": "@jupyter-widgets/controls",
            "_view_module_version": "1.5.0",
            "_view_name": "HBoxView",
            "box_style": "",
            "children": [
              "IPY_MODEL_7cc97bf0eee04a1f88d2205fad7cfb26",
              "IPY_MODEL_8ddf5a0f70b245da904efbdde7a6cfd3",
              "IPY_MODEL_8bc4f6ec35c84ff085919f93c34c631a"
            ],
            "layout": "IPY_MODEL_13b1fce841b7488588546426d314f4b3"
          }
        },
        "e8d7c84a64ca4886b535a69ae0da2560": {
          "model_module": "@jupyter-widgets/base",
          "model_module_version": "1.2.0",
          "model_name": "LayoutModel",
          "state": {
            "_model_module": "@jupyter-widgets/base",
            "_model_module_version": "1.2.0",
            "_model_name": "LayoutModel",
            "_view_count": null,
            "_view_module": "@jupyter-widgets/base",
            "_view_module_version": "1.2.0",
            "_view_name": "LayoutView",
            "align_content": null,
            "align_items": null,
            "align_self": null,
            "border": null,
            "bottom": null,
            "display": null,
            "flex": null,
            "flex_flow": null,
            "grid_area": null,
            "grid_auto_columns": null,
            "grid_auto_flow": null,
            "grid_auto_rows": null,
            "grid_column": null,
            "grid_gap": null,
            "grid_row": null,
            "grid_template_areas": null,
            "grid_template_columns": null,
            "grid_template_rows": null,
            "height": null,
            "justify_content": null,
            "justify_items": null,
            "left": null,
            "margin": null,
            "max_height": null,
            "max_width": null,
            "min_height": null,
            "min_width": null,
            "object_fit": null,
            "object_position": null,
            "order": null,
            "overflow": null,
            "overflow_x": null,
            "overflow_y": null,
            "padding": null,
            "right": null,
            "top": null,
            "visibility": null,
            "width": null
          }
        },
        "f1a6a9eba16a44749a267b75df1a11d6": {
          "model_module": "@jupyter-widgets/base",
          "model_module_version": "1.2.0",
          "model_name": "LayoutModel",
          "state": {
            "_model_module": "@jupyter-widgets/base",
            "_model_module_version": "1.2.0",
            "_model_name": "LayoutModel",
            "_view_count": null,
            "_view_module": "@jupyter-widgets/base",
            "_view_module_version": "1.2.0",
            "_view_name": "LayoutView",
            "align_content": null,
            "align_items": null,
            "align_self": null,
            "border": null,
            "bottom": null,
            "display": null,
            "flex": null,
            "flex_flow": null,
            "grid_area": null,
            "grid_auto_columns": null,
            "grid_auto_flow": null,
            "grid_auto_rows": null,
            "grid_column": null,
            "grid_gap": null,
            "grid_row": null,
            "grid_template_areas": null,
            "grid_template_columns": null,
            "grid_template_rows": null,
            "height": null,
            "justify_content": null,
            "justify_items": null,
            "left": null,
            "margin": null,
            "max_height": null,
            "max_width": null,
            "min_height": null,
            "min_width": null,
            "object_fit": null,
            "object_position": null,
            "order": null,
            "overflow": null,
            "overflow_x": null,
            "overflow_y": null,
            "padding": null,
            "right": null,
            "top": null,
            "visibility": null,
            "width": null
          }
        },
        "f27052010e694d6e8373e6d97b862910": {
          "model_module": "@jupyter-widgets/base",
          "model_module_version": "1.2.0",
          "model_name": "LayoutModel",
          "state": {
            "_model_module": "@jupyter-widgets/base",
            "_model_module_version": "1.2.0",
            "_model_name": "LayoutModel",
            "_view_count": null,
            "_view_module": "@jupyter-widgets/base",
            "_view_module_version": "1.2.0",
            "_view_name": "LayoutView",
            "align_content": null,
            "align_items": null,
            "align_self": null,
            "border": null,
            "bottom": null,
            "display": null,
            "flex": null,
            "flex_flow": null,
            "grid_area": null,
            "grid_auto_columns": null,
            "grid_auto_flow": null,
            "grid_auto_rows": null,
            "grid_column": null,
            "grid_gap": null,
            "grid_row": null,
            "grid_template_areas": null,
            "grid_template_columns": null,
            "grid_template_rows": null,
            "height": null,
            "justify_content": null,
            "justify_items": null,
            "left": null,
            "margin": null,
            "max_height": null,
            "max_width": null,
            "min_height": null,
            "min_width": null,
            "object_fit": null,
            "object_position": null,
            "order": null,
            "overflow": null,
            "overflow_x": null,
            "overflow_y": null,
            "padding": null,
            "right": null,
            "top": null,
            "visibility": null,
            "width": null
          }
        },
        "f4d372e0a04c4463adb12f7b8611d4c8": {
          "model_module": "@jupyter-widgets/controls",
          "model_module_version": "1.5.0",
          "model_name": "HTMLModel",
          "state": {
            "_dom_classes": [],
            "_model_module": "@jupyter-widgets/controls",
            "_model_module_version": "1.5.0",
            "_model_name": "HTMLModel",
            "_view_count": null,
            "_view_module": "@jupyter-widgets/controls",
            "_view_module_version": "1.5.0",
            "_view_name": "HTMLView",
            "description": "",
            "description_tooltip": null,
            "layout": "IPY_MODEL_e8d7c84a64ca4886b535a69ae0da2560",
            "placeholder": "​",
            "style": "IPY_MODEL_3b3570d0511f4fbaa81c7044e271b722",
            "value": "vocab.json: 100%"
          }
        },
        "f98708e9a9cb4a5ab53e94badb7599f1": {
          "model_module": "@jupyter-widgets/base",
          "model_module_version": "1.2.0",
          "model_name": "LayoutModel",
          "state": {
            "_model_module": "@jupyter-widgets/base",
            "_model_module_version": "1.2.0",
            "_model_name": "LayoutModel",
            "_view_count": null,
            "_view_module": "@jupyter-widgets/base",
            "_view_module_version": "1.2.0",
            "_view_name": "LayoutView",
            "align_content": null,
            "align_items": null,
            "align_self": null,
            "border": null,
            "bottom": null,
            "display": null,
            "flex": null,
            "flex_flow": null,
            "grid_area": null,
            "grid_auto_columns": null,
            "grid_auto_flow": null,
            "grid_auto_rows": null,
            "grid_column": null,
            "grid_gap": null,
            "grid_row": null,
            "grid_template_areas": null,
            "grid_template_columns": null,
            "grid_template_rows": null,
            "height": null,
            "justify_content": null,
            "justify_items": null,
            "left": null,
            "margin": null,
            "max_height": null,
            "max_width": null,
            "min_height": null,
            "min_width": null,
            "object_fit": null,
            "object_position": null,
            "order": null,
            "overflow": null,
            "overflow_x": null,
            "overflow_y": null,
            "padding": null,
            "right": null,
            "top": null,
            "visibility": null,
            "width": null
          }
        },
        "fdcd604d23bc40c09d2dc366c3298e32": {
          "model_module": "@jupyter-widgets/base",
          "model_module_version": "1.2.0",
          "model_name": "LayoutModel",
          "state": {
            "_model_module": "@jupyter-widgets/base",
            "_model_module_version": "1.2.0",
            "_model_name": "LayoutModel",
            "_view_count": null,
            "_view_module": "@jupyter-widgets/base",
            "_view_module_version": "1.2.0",
            "_view_name": "LayoutView",
            "align_content": null,
            "align_items": null,
            "align_self": null,
            "border": null,
            "bottom": null,
            "display": null,
            "flex": null,
            "flex_flow": null,
            "grid_area": null,
            "grid_auto_columns": null,
            "grid_auto_flow": null,
            "grid_auto_rows": null,
            "grid_column": null,
            "grid_gap": null,
            "grid_row": null,
            "grid_template_areas": null,
            "grid_template_columns": null,
            "grid_template_rows": null,
            "height": null,
            "justify_content": null,
            "justify_items": null,
            "left": null,
            "margin": null,
            "max_height": null,
            "max_width": null,
            "min_height": null,
            "min_width": null,
            "object_fit": null,
            "object_position": null,
            "order": null,
            "overflow": null,
            "overflow_x": null,
            "overflow_y": null,
            "padding": null,
            "right": null,
            "top": null,
            "visibility": null,
            "width": null
          }
        }
      }
    }
  },
  "nbformat": 4,
  "nbformat_minor": 0
}