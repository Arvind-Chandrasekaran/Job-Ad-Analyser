{
 "cells": [
  {
   "cell_type": "code",
   "execution_count": null,
   "id": "b4dcde1a-864a-4a9c-8e29-27740eeaf2b6",
   "metadata": {
    "scrolled": true,
    "tags": []
   },
   "outputs": [],
   "source": [
    "! pip install --upgrade transformers==4.50.1 trl\n",
    "! pip install 'accelerate>=0.26.0'"
   ]
  },
  {
   "cell_type": "code",
   "execution_count": null,
   "id": "6badcf05-0f5c-4cea-89d8-989666366c6f",
   "metadata": {
    "tags": []
   },
   "outputs": [],
   "source": [
    "import copy\n",
    "import json\n",
    "import os\n",
    "import pathlib\n",
    "import warnings\n",
    "\n",
    "from datasets import Dataset, load_dataset\n",
    "import pandas as pd\n",
    "from peft import LoraConfig, get_peft_model\n",
    "import torch\n",
    "from transformers import AutoModelForCausalLM, AutoTokenizer\n",
    "from trl import SFTConfig, SFTTrainer\n",
    "from tqdm import tqdm\n",
    "from typing import Optional, Callable\n",
    "import wandb"
   ]
  },
  {
   "cell_type": "markdown",
   "id": "69d73256-6a6e-4ac4-ba3e-612f97f17347",
   "metadata": {
    "jp-MarkdownHeadingCollapsed": true,
    "tags": []
   },
   "source": [
    "# Create Dataset"
   ]
  },
  {
   "cell_type": "code",
   "execution_count": 4,
   "id": "96a992fa-3c17-4f1d-ba26-077810bfb19a",
   "metadata": {
    "tags": []
   },
   "outputs": [],
   "source": [
    "data = pd.read_csv('data/salary_labelled_development_set_cleaned.csv')"
   ]
  },
  {
   "cell_type": "code",
   "execution_count": 5,
   "id": "1a0e9ffa-058c-4b85-afa7-13278960f613",
   "metadata": {
    "tags": []
   },
   "outputs": [
    {
     "data": {
      "text/html": [
       "<div>\n",
       "<style scoped>\n",
       "    .dataframe tbody tr th:only-of-type {\n",
       "        vertical-align: middle;\n",
       "    }\n",
       "\n",
       "    .dataframe tbody tr th {\n",
       "        vertical-align: top;\n",
       "    }\n",
       "\n",
       "    .dataframe thead th {\n",
       "        text-align: right;\n",
       "    }\n",
       "</style>\n",
       "<table border=\"1\" class=\"dataframe\">\n",
       "  <thead>\n",
       "    <tr style=\"text-align: right;\">\n",
       "      <th></th>\n",
       "      <th>job_id</th>\n",
       "      <th>job_title</th>\n",
       "      <th>job_ad_details</th>\n",
       "      <th>nation_short_desc</th>\n",
       "      <th>salary_additional_text</th>\n",
       "      <th>y_true</th>\n",
       "    </tr>\n",
       "  </thead>\n",
       "  <tbody>\n",
       "    <tr>\n",
       "      <th>0</th>\n",
       "      <td>72000415</td>\n",
       "      <td>Financial Account - Call Center Agent - Up to 34k</td>\n",
       "      <td>\\n \\n Job Opening \\n \\n \\n Financial Account -...</td>\n",
       "      <td>PH</td>\n",
       "      <td>NaN</td>\n",
       "      <td>17500-17500-PHP-MONTHLY</td>\n",
       "    </tr>\n",
       "    <tr>\n",
       "      <th>1</th>\n",
       "      <td>69481519</td>\n",
       "      <td>Aspiring Call Center Agents - Work from Home -...</td>\n",
       "      <td>\\n\\nJob Opening\\n\\nAspiring Call Center Agents...</td>\n",
       "      <td>PH</td>\n",
       "      <td>NaN</td>\n",
       "      <td>16000-16000-PHP-MONTHLY</td>\n",
       "    </tr>\n",
       "    <tr>\n",
       "      <th>2</th>\n",
       "      <td>55838599</td>\n",
       "      <td>Production Staff Required - Afternoon &amp; Night-...</td>\n",
       "      <td>Original Foods Baking Co. is one of New Zealan...</td>\n",
       "      <td>NZ</td>\n",
       "      <td>NaN</td>\n",
       "      <td>0-0-None-None</td>\n",
       "    </tr>\n",
       "    <tr>\n",
       "      <th>3</th>\n",
       "      <td>64369104</td>\n",
       "      <td>Payer Analyst</td>\n",
       "      <td>The Payer Analyst individual is assigned to ...</td>\n",
       "      <td>PH</td>\n",
       "      <td>-</td>\n",
       "      <td>0-0-None-None</td>\n",
       "    </tr>\n",
       "    <tr>\n",
       "      <th>4</th>\n",
       "      <td>54861511</td>\n",
       "      <td>Solicitor, Restructuring</td>\n",
       "      <td>The DLA Piper team operates across more than 4...</td>\n",
       "      <td>AUS</td>\n",
       "      <td>NaN</td>\n",
       "      <td>0-0-None-None</td>\n",
       "    </tr>\n",
       "    <tr>\n",
       "      <th>...</th>\n",
       "      <td>...</td>\n",
       "      <td>...</td>\n",
       "      <td>...</td>\n",
       "      <td>...</td>\n",
       "      <td>...</td>\n",
       "      <td>...</td>\n",
       "    </tr>\n",
       "    <tr>\n",
       "      <th>2248</th>\n",
       "      <td>75640730</td>\n",
       "      <td>Senior Manager, Process Excellence and Transfo...</td>\n",
       "      <td>Our client is a well-established consumer good...</td>\n",
       "      <td>HK</td>\n",
       "      <td>NaN</td>\n",
       "      <td>0-0-None-None</td>\n",
       "    </tr>\n",
       "    <tr>\n",
       "      <th>2249</th>\n",
       "      <td>77931852</td>\n",
       "      <td>Accounting Manager - Hotel Business</td>\n",
       "      <td>Position: Accounting ManagerJob DescriptionCo...</td>\n",
       "      <td>TH</td>\n",
       "      <td>NaN</td>\n",
       "      <td>0-0-None-None</td>\n",
       "    </tr>\n",
       "    <tr>\n",
       "      <th>2250</th>\n",
       "      <td>54359262</td>\n",
       "      <td>Technical Operator - Audio Visual</td>\n",
       "      <td>Your mission: To create memorable experiences ...</td>\n",
       "      <td>AUS</td>\n",
       "      <td>NaN</td>\n",
       "      <td>0-0-None-None</td>\n",
       "    </tr>\n",
       "    <tr>\n",
       "      <th>2251</th>\n",
       "      <td>73457326</td>\n",
       "      <td>Customer Service Officer</td>\n",
       "      <td>Working Day: 5-6-5-6 work weeks (rotating base...</td>\n",
       "      <td>SG</td>\n",
       "      <td>$2,500 – $3,000 per month</td>\n",
       "      <td>2500-3000-SGD-MONTHLY</td>\n",
       "    </tr>\n",
       "    <tr>\n",
       "      <th>2252</th>\n",
       "      <td>79333669</td>\n",
       "      <td>AVP, Institutional Customer Service Manager</td>\n",
       "      <td>At Citi, we get to connect millions of people ...</td>\n",
       "      <td>MY</td>\n",
       "      <td>NaN</td>\n",
       "      <td>0-0-None-None</td>\n",
       "    </tr>\n",
       "  </tbody>\n",
       "</table>\n",
       "<p>2253 rows × 6 columns</p>\n",
       "</div>"
      ],
      "text/plain": [
       "        job_id                                          job_title  \\\n",
       "0     72000415  Financial Account - Call Center Agent - Up to 34k   \n",
       "1     69481519  Aspiring Call Center Agents - Work from Home -...   \n",
       "2     55838599  Production Staff Required - Afternoon & Night-...   \n",
       "3     64369104                                      Payer Analyst   \n",
       "4     54861511                          Solicitor, Restructuring    \n",
       "...        ...                                                ...   \n",
       "2248  75640730  Senior Manager, Process Excellence and Transfo...   \n",
       "2249  77931852               Accounting Manager - Hotel Business    \n",
       "2250  54359262                  Technical Operator - Audio Visual   \n",
       "2251  73457326                          Customer Service Officer    \n",
       "2252  79333669       AVP, Institutional Customer Service Manager    \n",
       "\n",
       "                                         job_ad_details nation_short_desc  \\\n",
       "0     \\n \\n Job Opening \\n \\n \\n Financial Account -...                PH   \n",
       "1     \\n\\nJob Opening\\n\\nAspiring Call Center Agents...                PH   \n",
       "2     Original Foods Baking Co. is one of New Zealan...                NZ   \n",
       "3       The Payer Analyst individual is assigned to ...                PH   \n",
       "4     The DLA Piper team operates across more than 4...               AUS   \n",
       "...                                                 ...               ...   \n",
       "2248  Our client is a well-established consumer good...                HK   \n",
       "2249   Position: Accounting ManagerJob DescriptionCo...                TH   \n",
       "2250  Your mission: To create memorable experiences ...               AUS   \n",
       "2251  Working Day: 5-6-5-6 work weeks (rotating base...                SG   \n",
       "2252  At Citi, we get to connect millions of people ...                MY   \n",
       "\n",
       "         salary_additional_text                   y_true  \n",
       "0                           NaN  17500-17500-PHP-MONTHLY  \n",
       "1                           NaN  16000-16000-PHP-MONTHLY  \n",
       "2                           NaN            0-0-None-None  \n",
       "3                             -            0-0-None-None  \n",
       "4                           NaN            0-0-None-None  \n",
       "...                         ...                      ...  \n",
       "2248                        NaN            0-0-None-None  \n",
       "2249                        NaN            0-0-None-None  \n",
       "2250                        NaN            0-0-None-None  \n",
       "2251  $2,500 – $3,000 per month    2500-3000-SGD-MONTHLY  \n",
       "2252                        NaN            0-0-None-None  \n",
       "\n",
       "[2253 rows x 6 columns]"
      ]
     },
     "execution_count": 5,
     "metadata": {},
     "output_type": "execute_result"
    }
   ],
   "source": [
    "data"
   ]
  },
  {
   "cell_type": "code",
   "execution_count": 15,
   "id": "e62e8dbf-9840-432e-9932-e150ece35d94",
   "metadata": {
    "tags": []
   },
   "outputs": [
    {
     "name": "stderr",
     "output_type": "stream",
     "text": [
      "100%|██████████| 2253/2253 [00:00<00:00, 2464.00it/s]\n"
     ]
    }
   ],
   "source": [
    "dataset = []\n",
    "\n",
    "for i in tqdm(range(data.shape[0])):\n",
    "    job_id = data.iloc[i].job_id\n",
    "    desc = {\n",
    "        \"job_title\": data.iloc[i].job_title,\n",
    "        \"job_ad_details\": data.iloc[i].job_ad_details,\n",
    "        \"nation_short_desc\": data.iloc[i].nation_short_desc,\n",
    "        \"salary_additional_text\": data.iloc[i].salary_additional_text,\n",
    "    }\n",
    "    desc_str = str(desc)\n",
    "    \n",
    "    min_salary, max_salary, currency, frequency = data.iloc[i].y_true.split('-')\n",
    "    label = f'{{\"MinSalary\": \"{min_salary}\", \"MaxSalary\": \"{max_salary}\", \"Currency\": \"{currency}\", \"Frequency\": \"{frequency}\"}}'\n",
    "    \n",
    "    messages = []\n",
    "    messages.append(\n",
    "        {\n",
    "            'role': 'system',\n",
    "            'content': 'You are an expert job ad annotator. Your task is to extract structured salary information from job descriptions in the format: min-max-currency-frequency. If salary is not found, return: 0-0-None-None.'\n",
    "        }\n",
    "    )\n",
    "    messages.append(\n",
    "        {\n",
    "            'role': 'user',\n",
    "            'content': (\n",
    "                f\"{desc_str} Extract structured salary information from this job description in the format: min-max-currency-frequency. \"\n",
    "                \"Respond in JSON: {\\\"MinSalary\\\": \\\"\\\", \\\"MaxSalary\\\": \\\"\\\", \\\"Currency\\\": \\\"\\\", \\\"Frequency\\\": \\\"\\\"}. \"\n",
    "                \"If not provided explicitly, output 0 for \\\"MinSalary\\\" and \\\"MaxSalary\\\", and \\\"None\\\" for \\\"Currency\\\" and \\\"Frequency\\\". \"\n",
    "                \"If the salary is mentioned, always output a range, where MinSalary and MaxSalary can be equal. \"\n",
    "                \"Use 'nation_short_desc' to determine the correct currency. \"\n",
    "                \"Output the currency as 3 letters. Use adverb to output frequency (annual, monthly, daily or hourly).\"\n",
    "            )\n",
    "        }\n",
    "    )\n",
    "    messages.append(\n",
    "        {\n",
    "            'role': 'assistant',\n",
    "            'content': label\n",
    "        }\n",
    "    )\n",
    "    \n",
    "    dataset.append({'messages': messages})"
   ]
  },
  {
   "cell_type": "code",
   "execution_count": 16,
   "id": "d1ce27dc-5dab-4c8f-baf6-77cf1d3d62ad",
   "metadata": {
    "tags": []
   },
   "outputs": [
    {
     "data": {
      "text/plain": [
       "{'messages': [{'role': 'system',\n",
       "   'content': 'You are an expert job ad annotator. Your task is to extract structured salary information from job descriptions in the format: min-max-currency-frequency. If salary is not found, return: 0-0-None-None.'},\n",
       "  {'role': 'user',\n",
       "   'content': '{\\'job_title\\': \\'Financial Account - Call Center Agent - Up to 34k\\', \\'job_ad_details\\': \\'\\\\n \\\\n Job Opening \\\\n \\\\n \\\\n Financial Account - Call Center Agent - Up to 34k\\\\n \\\\n\\\\n\\\\n\\\\n \\\\n Job Industry\\\\n \\\\n \\\\n \\\\n Telecommunications \\\\n\\\\n\\\\n\\\\n \\\\n Job Type \\\\n \\\\n \\\\n Full-Time \\\\n\\\\n\\\\n\\\\n \\\\n Experience Level\\\\n \\\\n \\\\n \\\\n Entry Level \\\\n\\\\n\\\\n\\\\n \\\\n Date Posted \\\\n \\\\n \\\\n 2022-10-27 \\\\n\\\\n\\\\n\\\\n \\\\n Job Location \\\\n \\\\n \\\\n Pasig BlvdPasig1000NCRPhilippines \\\\n\\\\n\\\\n\\\\n \\\\n Company Information \\\\n \\\\n \\\\n Sapient\\\\n \\\\n Pasig Blvd \\\\n Cebu, Central Visayas \\\\n 6019 \\\\n Sapient is Philippine-based BPO that provides a range of outsourcing services from consulting services, IT-enabled services, and call center services primarily catering small and medium based enterprises. \\\\n \\\\n\\\\n\\\\n\\\\n \\\\n Job Description \\\\n \\\\n \\\\nJob Responsibilities:\\\\n\\\\nAnswers phone calls and provides important information/ assistance to clients\\\\nChecks mail, fax and internet mail to provide customer assistance\\\\nCommunicates with customer on the phone or using written correspondence to take care of concerns\\\\nAnswer participant questions, , as well as talk to participants to achieve full understanding of what critical information are being asked.\\\\n\\\\n\\\\n\\\\n\\\\n\\\\n \\\\n Job Qualifications \\\\n \\\\n \\\\nWhat are we looking for? \\\\xa0 \\\\xa0 \\\\xa0 \\\\xa0\\\\n\\\\nOpen to candidates who completed college\\\\nOpen to\\\\n\\\\nHigh School and Senior High School Graduates with BPO experience\\\\n\\\\nExcellent to above average English communication skills\\\\nBPO experience of at least 6 months or have work experience\\\\nCan do onsite work\\\\nWith in 25km to 35 km\\\\n\\\\n\\\\n\\\\n\\\\n\\\\n \\\\n Compensation \\\\n \\\\n \\\\n 17500 \\\\n\\\\n\\\\n\\\\n \\\\n Compensation Range \\\\n \\\\n \\\\n ₱15,000 - ₱20,000 \\\\n\\\\n\\\\n\\\\n\\', \\'nation_short_desc\\': \\'PH\\', \\'salary_additional_text\\': nan} Extract structured salary information from this job description in the format: min-max-currency-frequency. Respond in JSON: {\"MinSalary\": \"\", \"MaxSalary\": \"\", \"Currency\": \"\", \"Frequency\": \"\"}. If not provided explicitly, output 0 for \"MinSalary\" and \"MaxSalary\", and \"None\" for \"Currency\" and \"Frequency\". If the salary is mentioned, always output a range, where MinSalary and MaxSalary can be equal. Use \\'nation_short_desc\\' to determine the correct currency. Output the currency as 3 letters. Use adverb to output frequency (annual, monthly, daily or hourly).'},\n",
       "  {'role': 'assistant',\n",
       "   'content': '{\"MinSalary\": \"17500\", \"MaxSalary\": \"17500\", \"Currency\": \"PHP\", \"Frequency\": \"MONTHLY\"}'}]}"
      ]
     },
     "execution_count": 16,
     "metadata": {},
     "output_type": "execute_result"
    }
   ],
   "source": [
    "dataset[0]"
   ]
  },
  {
   "cell_type": "code",
   "execution_count": 17,
   "id": "2a2101ea-5419-4a3f-9c41-32598dcc6877",
   "metadata": {
    "tags": []
   },
   "outputs": [],
   "source": [
    "with open('salary_dataset.json', 'w') as f:\n",
    "    json.dump(dataset, f)"
   ]
  },
  {
   "cell_type": "markdown",
   "id": "4a991e91-0f99-4c4f-aed8-f161f3fff146",
   "metadata": {
    "jp-MarkdownHeadingCollapsed": true,
    "tags": []
   },
   "source": [
    "# Finetune Qwen2.5 1.5B"
   ]
  },
  {
   "cell_type": "code",
   "execution_count": 5,
   "id": "8769482c-77ba-4de2-a1f6-a9155e73c13f",
   "metadata": {
    "tags": []
   },
   "outputs": [
    {
     "data": {
      "application/vnd.jupyter.widget-view+json": {
       "model_id": "638f8072f6d74e5f960a33ca1b7e580d",
       "version_major": 2,
       "version_minor": 0
      },
      "text/plain": [
       "Generating train split: 0 examples [00:00, ? examples/s]"
      ]
     },
     "metadata": {},
     "output_type": "display_data"
    }
   ],
   "source": [
    "dataset = load_dataset(\"json\", data_files=\"salary_dataset.json\")"
   ]
  },
  {
   "cell_type": "code",
   "execution_count": 6,
   "id": "8e0d66fb-882a-4178-9a1a-c284b0536bf7",
   "metadata": {
    "tags": []
   },
   "outputs": [
    {
     "data": {
      "text/plain": [
       "DatasetDict({\n",
       "    train: Dataset({\n",
       "        features: ['messages'],\n",
       "        num_rows: 2253\n",
       "    })\n",
       "})"
      ]
     },
     "execution_count": 6,
     "metadata": {},
     "output_type": "execute_result"
    }
   ],
   "source": [
    "dataset"
   ]
  },
  {
   "cell_type": "code",
   "execution_count": 7,
   "id": "3877247a-57db-4094-8828-4d69e46bfd20",
   "metadata": {
    "tags": []
   },
   "outputs": [],
   "source": [
    "model_name = \"Qwen/Qwen2.5-1.5B-Instruct\""
   ]
  },
  {
   "cell_type": "code",
   "execution_count": 8,
   "id": "b17494b3-29b6-44e2-be39-d90a5d952207",
   "metadata": {
    "tags": []
   },
   "outputs": [
    {
     "data": {
      "application/vnd.jupyter.widget-view+json": {
       "model_id": "00f5ae8af1b640238cf1ddd2609cd922",
       "version_major": 2,
       "version_minor": 0
      },
      "text/plain": [
       "config.json:   0%|          | 0.00/660 [00:00<?, ?B/s]"
      ]
     },
     "metadata": {},
     "output_type": "display_data"
    },
    {
     "data": {
      "application/vnd.jupyter.widget-view+json": {
       "model_id": "df48bbfb8be046b081f067a1b06834fd",
       "version_major": 2,
       "version_minor": 0
      },
      "text/plain": [
       "model.safetensors:   0%|          | 0.00/3.09G [00:00<?, ?B/s]"
      ]
     },
     "metadata": {},
     "output_type": "display_data"
    },
    {
     "name": "stderr",
     "output_type": "stream",
     "text": [
      "Sliding Window Attention is enabled but not implemented for `sdpa`; unexpected results may be encountered.\n"
     ]
    },
    {
     "data": {
      "application/vnd.jupyter.widget-view+json": {
       "model_id": "7991798f3f4c4e61a770ca8905744562",
       "version_major": 2,
       "version_minor": 0
      },
      "text/plain": [
       "generation_config.json:   0%|          | 0.00/242 [00:00<?, ?B/s]"
      ]
     },
     "metadata": {},
     "output_type": "display_data"
    },
    {
     "data": {
      "application/vnd.jupyter.widget-view+json": {
       "model_id": "2115ed34c7e34a49938bab80eba86f74",
       "version_major": 2,
       "version_minor": 0
      },
      "text/plain": [
       "tokenizer_config.json:   0%|          | 0.00/7.30k [00:00<?, ?B/s]"
      ]
     },
     "metadata": {},
     "output_type": "display_data"
    },
    {
     "data": {
      "application/vnd.jupyter.widget-view+json": {
       "model_id": "7f305f6919a0416da38c7ce6a821caec",
       "version_major": 2,
       "version_minor": 0
      },
      "text/plain": [
       "vocab.json:   0%|          | 0.00/2.78M [00:00<?, ?B/s]"
      ]
     },
     "metadata": {},
     "output_type": "display_data"
    },
    {
     "data": {
      "application/vnd.jupyter.widget-view+json": {
       "model_id": "0b82d1b54f6f4bcf9a75108bb208b50d",
       "version_major": 2,
       "version_minor": 0
      },
      "text/plain": [
       "merges.txt:   0%|          | 0.00/1.67M [00:00<?, ?B/s]"
      ]
     },
     "metadata": {},
     "output_type": "display_data"
    },
    {
     "data": {
      "application/vnd.jupyter.widget-view+json": {
       "model_id": "b97ec0e2b17246c197add53e0b290e11",
       "version_major": 2,
       "version_minor": 0
      },
      "text/plain": [
       "tokenizer.json:   0%|          | 0.00/7.03M [00:00<?, ?B/s]"
      ]
     },
     "metadata": {},
     "output_type": "display_data"
    }
   ],
   "source": [
    "# Load model and tokenizer.\n",
    "model = AutoModelForCausalLM.from_pretrained(model_name, device_map=\"auto\")\n",
    "tokenizer = AutoTokenizer.from_pretrained(\n",
    "   model_name, padding=True, truncation=True\n",
    ")"
   ]
  },
  {
   "cell_type": "code",
   "execution_count": 9,
   "id": "f839d538-847f-4fa5-90eb-18e1437a559b",
   "metadata": {
    "tags": []
   },
   "outputs": [
    {
     "name": "stderr",
     "output_type": "stream",
     "text": [
      "\u001b[34m\u001b[1mwandb\u001b[0m: Logging into wandb.ai. (Learn how to deploy a W&B server locally: https://wandb.me/wandb-server)\n",
      "\u001b[34m\u001b[1mwandb\u001b[0m: You can find your API key in your browser here: https://wandb.ai/authorize\n",
      "\u001b[34m\u001b[1mwandb\u001b[0m: Paste an API key from your profile and hit enter, or press ctrl+c to quit:"
     ]
    },
    {
     "name": "stdin",
     "output_type": "stream",
     "text": [
      "  ········\n"
     ]
    },
    {
     "name": "stderr",
     "output_type": "stream",
     "text": [
      "\u001b[34m\u001b[1mwandb\u001b[0m: Appending key for api.wandb.ai to your netrc file: /root/.netrc\n"
     ]
    },
    {
     "data": {
      "text/plain": [
       "True"
      ]
     },
     "execution_count": 9,
     "metadata": {},
     "output_type": "execute_result"
    }
   ],
   "source": [
    "wandb.login()"
   ]
  },
  {
   "cell_type": "code",
   "execution_count": 10,
   "id": "7b8e63c6-b5e3-4e36-a372-2a0ce14b75fa",
   "metadata": {
    "tags": []
   },
   "outputs": [
    {
     "name": "stdout",
     "output_type": "stream",
     "text": [
      "Creating trainer...\n"
     ]
    },
    {
     "data": {
      "application/vnd.jupyter.widget-view+json": {
       "model_id": "a13947c3699642c4b3214f01fa78df4d",
       "version_major": 2,
       "version_minor": 0
      },
      "text/plain": [
       "Converting train dataset to ChatML:   0%|          | 0/2253 [00:00<?, ? examples/s]"
      ]
     },
     "metadata": {},
     "output_type": "display_data"
    },
    {
     "data": {
      "application/vnd.jupyter.widget-view+json": {
       "model_id": "22f04955aa2e4534a71280f8c207c1cc",
       "version_major": 2,
       "version_minor": 0
      },
      "text/plain": [
       "Applying chat template to train dataset:   0%|          | 0/2253 [00:00<?, ? examples/s]"
      ]
     },
     "metadata": {},
     "output_type": "display_data"
    },
    {
     "data": {
      "application/vnd.jupyter.widget-view+json": {
       "model_id": "013406cd4144457f8d115b0d5cb194c2",
       "version_major": 2,
       "version_minor": 0
      },
      "text/plain": [
       "Tokenizing train dataset:   0%|          | 0/2253 [00:00<?, ? examples/s]"
      ]
     },
     "metadata": {},
     "output_type": "display_data"
    },
    {
     "data": {
      "application/vnd.jupyter.widget-view+json": {
       "model_id": "613dc10b797b4c9d9162678e17c165e2",
       "version_major": 2,
       "version_minor": 0
      },
      "text/plain": [
       "Truncating train dataset:   0%|          | 0/2253 [00:00<?, ? examples/s]"
      ]
     },
     "metadata": {},
     "output_type": "display_data"
    },
    {
     "name": "stdout",
     "output_type": "stream",
     "text": [
      "[2025-04-25 09:54:00,073] [INFO] [real_accelerator.py:158:get_accelerator] Setting ds_accelerator to cuda (auto detect)\n"
     ]
    },
    {
     "name": "stderr",
     "output_type": "stream",
     "text": [
      "\u001b[34m\u001b[1mwandb\u001b[0m: Currently logged in as: \u001b[33mhuwarr\u001b[0m. Use \u001b[1m`wandb login --relogin`\u001b[0m to force relogin\n"
     ]
    },
    {
     "name": "stdout",
     "output_type": "stream",
     "text": [
      "Training...\n"
     ]
    },
    {
     "data": {
      "text/html": [
       "wandb version 0.19.10 is available!  To upgrade, please run:\n",
       " $ pip install wandb --upgrade"
      ],
      "text/plain": [
       "<IPython.core.display.HTML object>"
      ]
     },
     "metadata": {},
     "output_type": "display_data"
    },
    {
     "data": {
      "text/html": [
       "Tracking run with wandb version 0.15.10"
      ],
      "text/plain": [
       "<IPython.core.display.HTML object>"
      ]
     },
     "metadata": {},
     "output_type": "display_data"
    },
    {
     "data": {
      "text/html": [
       "Run data is saved locally in <code>/notebooks/SEEK-job-data-extractor/wandb/run-20250425_095402-lfs0frmx</code>"
      ],
      "text/plain": [
       "<IPython.core.display.HTML object>"
      ]
     },
     "metadata": {},
     "output_type": "display_data"
    },
    {
     "data": {
      "text/html": [
       "Syncing run <strong><a href='https://wandb.ai/huwarr/huggingface/runs/lfs0frmx' target=\"_blank\">Qwen2.5-1.5B-Instruct-salary</a></strong> to <a href='https://wandb.ai/huwarr/huggingface' target=\"_blank\">Weights & Biases</a> (<a href='https://wandb.me/run' target=\"_blank\">docs</a>)<br/>"
      ],
      "text/plain": [
       "<IPython.core.display.HTML object>"
      ]
     },
     "metadata": {},
     "output_type": "display_data"
    },
    {
     "data": {
      "text/html": [
       " View project at <a href='https://wandb.ai/huwarr/huggingface' target=\"_blank\">https://wandb.ai/huwarr/huggingface</a>"
      ],
      "text/plain": [
       "<IPython.core.display.HTML object>"
      ]
     },
     "metadata": {},
     "output_type": "display_data"
    },
    {
     "data": {
      "text/html": [
       " View run at <a href='https://wandb.ai/huwarr/huggingface/runs/lfs0frmx' target=\"_blank\">https://wandb.ai/huwarr/huggingface/runs/lfs0frmx</a>"
      ],
      "text/plain": [
       "<IPython.core.display.HTML object>"
      ]
     },
     "metadata": {},
     "output_type": "display_data"
    },
    {
     "name": "stderr",
     "output_type": "stream",
     "text": [
      "`use_cache=True` is incompatible with gradient checkpointing. Setting `use_cache=False`.\n"
     ]
    },
    {
     "data": {
      "text/html": [
       "\n",
       "    <div>\n",
       "      \n",
       "      <progress value='1405' max='1405' style='width:300px; height:20px; vertical-align: middle;'></progress>\n",
       "      [1405/1405 4:08:03, Epoch 4/5]\n",
       "    </div>\n",
       "    <table border=\"1\" class=\"dataframe\">\n",
       "  <thead>\n",
       " <tr style=\"text-align: left;\">\n",
       "      <th>Step</th>\n",
       "      <th>Training Loss</th>\n",
       "    </tr>\n",
       "  </thead>\n",
       "  <tbody>\n",
       "    <tr>\n",
       "      <td>50</td>\n",
       "      <td>1.741500</td>\n",
       "    </tr>\n",
       "    <tr>\n",
       "      <td>100</td>\n",
       "      <td>1.628100</td>\n",
       "    </tr>\n",
       "    <tr>\n",
       "      <td>150</td>\n",
       "      <td>1.583500</td>\n",
       "    </tr>\n",
       "    <tr>\n",
       "      <td>200</td>\n",
       "      <td>1.518400</td>\n",
       "    </tr>\n",
       "    <tr>\n",
       "      <td>250</td>\n",
       "      <td>1.521600</td>\n",
       "    </tr>\n",
       "    <tr>\n",
       "      <td>300</td>\n",
       "      <td>1.328300</td>\n",
       "    </tr>\n",
       "    <tr>\n",
       "      <td>350</td>\n",
       "      <td>0.945400</td>\n",
       "    </tr>\n",
       "    <tr>\n",
       "      <td>400</td>\n",
       "      <td>1.024000</td>\n",
       "    </tr>\n",
       "    <tr>\n",
       "      <td>450</td>\n",
       "      <td>1.036800</td>\n",
       "    </tr>\n",
       "    <tr>\n",
       "      <td>500</td>\n",
       "      <td>0.962700</td>\n",
       "    </tr>\n",
       "    <tr>\n",
       "      <td>550</td>\n",
       "      <td>1.000500</td>\n",
       "    </tr>\n",
       "    <tr>\n",
       "      <td>600</td>\n",
       "      <td>0.602100</td>\n",
       "    </tr>\n",
       "    <tr>\n",
       "      <td>650</td>\n",
       "      <td>0.428400</td>\n",
       "    </tr>\n",
       "    <tr>\n",
       "      <td>700</td>\n",
       "      <td>0.442300</td>\n",
       "    </tr>\n",
       "    <tr>\n",
       "      <td>750</td>\n",
       "      <td>0.449300</td>\n",
       "    </tr>\n",
       "    <tr>\n",
       "      <td>800</td>\n",
       "      <td>0.467300</td>\n",
       "    </tr>\n",
       "    <tr>\n",
       "      <td>850</td>\n",
       "      <td>0.412400</td>\n",
       "    </tr>\n",
       "    <tr>\n",
       "      <td>900</td>\n",
       "      <td>0.131100</td>\n",
       "    </tr>\n",
       "    <tr>\n",
       "      <td>950</td>\n",
       "      <td>0.135900</td>\n",
       "    </tr>\n",
       "    <tr>\n",
       "      <td>1000</td>\n",
       "      <td>0.148700</td>\n",
       "    </tr>\n",
       "    <tr>\n",
       "      <td>1050</td>\n",
       "      <td>0.113600</td>\n",
       "    </tr>\n",
       "    <tr>\n",
       "      <td>1100</td>\n",
       "      <td>0.110700</td>\n",
       "    </tr>\n",
       "    <tr>\n",
       "      <td>1150</td>\n",
       "      <td>0.077300</td>\n",
       "    </tr>\n",
       "    <tr>\n",
       "      <td>1200</td>\n",
       "      <td>0.035800</td>\n",
       "    </tr>\n",
       "    <tr>\n",
       "      <td>1250</td>\n",
       "      <td>0.043600</td>\n",
       "    </tr>\n",
       "    <tr>\n",
       "      <td>1300</td>\n",
       "      <td>0.030100</td>\n",
       "    </tr>\n",
       "    <tr>\n",
       "      <td>1350</td>\n",
       "      <td>0.029700</td>\n",
       "    </tr>\n",
       "    <tr>\n",
       "      <td>1400</td>\n",
       "      <td>0.031900</td>\n",
       "    </tr>\n",
       "  </tbody>\n",
       "</table><p>"
      ],
      "text/plain": [
       "<IPython.core.display.HTML object>"
      ]
     },
     "metadata": {},
     "output_type": "display_data"
    },
    {
     "data": {
      "text/plain": [
       "TrainOutput(global_step=1405, training_loss=0.6399988450083444, metrics={'train_runtime': 14897.7941, 'train_samples_per_second': 0.756, 'train_steps_per_second': 0.094, 'total_flos': 6.089261301578342e+16, 'train_loss': 0.6399988450083444})"
      ]
     },
     "execution_count": 10,
     "metadata": {},
     "output_type": "execute_result"
    },
    {
     "name": "stdout",
     "output_type": "stream",
     "text": [
      "Error in callback <bound method _WandbInit._pause_backend of <wandb.sdk.wandb_init._WandbInit object at 0x7fbf2cc8c550>> (for post_run_cell), with arguments args (<ExecutionResult object at 7fc1300fd690, execution_count=10 error_before_exec=None error_in_exec=None info=<ExecutionInfo object at 7fbf2ffda2d0, raw_cell=\"seed = 123\n",
      "\n",
      "num_train_epochs = 5\n",
      "max_steps = -1\n",
      "bf..\" store_history=True silent=False shell_futures=True cell_id=7b8e63c6-b5e3-4e36-a372-2a0ce14b75fa> result=TrainOutput(global_step=1405, training_loss=0.6399988450083444, metrics={'train_runtime': 14897.7941, 'train_samples_per_second': 0.756, 'train_steps_per_second': 0.094, 'total_flos': 6.089261301578342e+16, 'train_loss': 0.6399988450083444})>,),kwargs {}:\n"
     ]
    },
    {
     "ename": "TypeError",
     "evalue": "_WandbInit._pause_backend() takes 1 positional argument but 2 were given",
     "output_type": "error",
     "traceback": [
      "\u001b[0;31m---------------------------------------------------------------------------\u001b[0m",
      "\u001b[0;31mTypeError\u001b[0m                                 Traceback (most recent call last)",
      "\u001b[0;31mTypeError\u001b[0m: _WandbInit._pause_backend() takes 1 positional argument but 2 were given"
     ]
    }
   ],
   "source": [
    "seed = 123\n",
    "\n",
    "num_train_epochs = 5\n",
    "max_steps = -1\n",
    "bf16 = False\n",
    "output_dir = 'finetune_qwen_results'\n",
    "run_name = f\"{model_name.split('/')[-1]}-salary\"\n",
    "output_dir_final = os.path.join(output_dir, run_name)\n",
    "pathlib.Path(output_dir_final).mkdir(parents=True, exist_ok=True)\n",
    "\n",
    "# Adjust tokenizer settings as warned by the trainer\n",
    "tokenizer.padding_side = 'right'\n",
    "\n",
    "print(\"Creating trainer...\")\n",
    "training_args = SFTConfig(\n",
    "    num_train_epochs=num_train_epochs,\n",
    "    per_device_train_batch_size=1,\n",
    "    gradient_accumulation_steps=8,\n",
    "    gradient_checkpointing=True,\n",
    "    bf16=bf16,\n",
    "    tf32=False, # use tf32 for faster training on Ampere GPUs or newer.\n",
    "    dataloader_pin_memory=False,\n",
    "    torch_compile=False,\n",
    "    warmup_steps=50,\n",
    "    max_steps=max_steps,\n",
    "    learning_rate=1e-4,\n",
    "    lr_scheduler_type=\"cosine\",\n",
    "    weight_decay=0.01,\n",
    "    logging_strategy=\"steps\",\n",
    "    save_strategy=\"steps\",\n",
    "    save_steps=1500,\n",
    "    save_total_limit=10,\n",
    "    logging_steps=50,\n",
    "    output_dir=output_dir_final,\n",
    "    optim=\"paged_adamw_8bit\",\n",
    "    remove_unused_columns=True,\n",
    "    seed=seed,\n",
    "    run_name=run_name,\n",
    "    report_to=\"wandb\",\n",
    "    push_to_hub=False,\n",
    ")\n",
    "\n",
    "trainer = SFTTrainer(\n",
    "    model=model,\n",
    "    args=training_args,\n",
    "    train_dataset=dataset['train'],\n",
    "    processing_class=tokenizer,\n",
    ")\n",
    "\n",
    "print(\"Training...\")\n",
    "trainer.train()"
   ]
  },
  {
   "cell_type": "code",
   "execution_count": 11,
   "id": "4e3cb0f3-2e57-4c1e-b94b-5c95d7641424",
   "metadata": {
    "tags": []
   },
   "outputs": [
    {
     "name": "stdout",
     "output_type": "stream",
     "text": [
      "Error in callback <bound method _WandbInit._resume_backend of <wandb.sdk.wandb_init._WandbInit object at 0x7fbf2cc8c550>> (for pre_run_cell), with arguments args (<ExecutionInfo object at 7fbf2c0f0550, raw_cell=\"wandb.finish()\" store_history=True silent=False shell_futures=True cell_id=4e3cb0f3-2e57-4c1e-b94b-5c95d7641424>,),kwargs {}:\n"
     ]
    },
    {
     "ename": "TypeError",
     "evalue": "_WandbInit._resume_backend() takes 1 positional argument but 2 were given",
     "output_type": "error",
     "traceback": [
      "\u001b[0;31m---------------------------------------------------------------------------\u001b[0m",
      "\u001b[0;31mTypeError\u001b[0m                                 Traceback (most recent call last)",
      "\u001b[0;31mTypeError\u001b[0m: _WandbInit._resume_backend() takes 1 positional argument but 2 were given"
     ]
    },
    {
     "data": {
      "text/html": [
       "Waiting for W&B process to finish... <strong style=\"color:green\">(success).</strong>"
      ],
      "text/plain": [
       "<IPython.core.display.HTML object>"
      ]
     },
     "metadata": {},
     "output_type": "display_data"
    },
    {
     "data": {
      "text/html": [
       "<style>\n",
       "    table.wandb td:nth-child(1) { padding: 0 10px; text-align: left ; width: auto;} td:nth-child(2) {text-align: left ; width: 100%}\n",
       "    .wandb-row { display: flex; flex-direction: row; flex-wrap: wrap; justify-content: flex-start; width: 100% }\n",
       "    .wandb-col { display: flex; flex-direction: column; flex-basis: 100%; flex: 1; padding: 10px; }\n",
       "    </style>\n",
       "<div class=\"wandb-row\"><div class=\"wandb-col\"><h3>Run history:</h3><br/><table class=\"wandb\"><tr><td>train/epoch</td><td>▁▁▂▂▂▂▃▃▃▃▄▄▄▄▅▅▅▅▆▆▆▆▇▇▇▇███</td></tr><tr><td>train/global_step</td><td>▁▁▂▂▂▂▃▃▃▃▄▄▄▄▅▅▅▅▆▆▆▆▇▇▇▇███</td></tr><tr><td>train/grad_norm</td><td>█▆▆▅▅▅▅▅▄▅▄▅▄▅▆▄▂▃▃▃▄▃▁▂▁▁▂▁</td></tr><tr><td>train/learning_rate</td><td>█████▇▇▇▇▆▆▆▅▅▄▄▄▃▃▂▂▂▂▁▁▁▁▁</td></tr><tr><td>train/loss</td><td>██▇▇▇▆▅▅▅▅▅▃▃▃▃▃▃▁▁▁▁▁▁▁▁▁▁▁</td></tr><tr><td>train/mean_token_accuracy</td><td>▁▂▂▂▂▃▄▃▃▄▄▅▆▆▆▆▆▇▇▇▇▇███████</td></tr><tr><td>train/num_tokens</td><td>▁▁▂▂▂▂▃▃▃▃▄▄▄▄▅▅▅▅▆▆▆▆▇▇▇▇███</td></tr></table><br/></div><div class=\"wandb-col\"><h3>Run summary:</h3><br/><table class=\"wandb\"><tr><td>total_flos</td><td>6.089261301578342e+16</td></tr><tr><td>train/epoch</td><td>4.98358</td></tr><tr><td>train/global_step</td><td>1405</td></tr><tr><td>train/grad_norm</td><td>0.39551</td></tr><tr><td>train/learning_rate</td><td>0.0</td></tr><tr><td>train/loss</td><td>0.0319</td></tr><tr><td>train/mean_token_accuracy</td><td>0.9933</td></tr><tr><td>train/num_tokens</td><td>7745138.0</td></tr><tr><td>train_loss</td><td>0.64</td></tr><tr><td>train_runtime</td><td>14897.7941</td></tr><tr><td>train_samples_per_second</td><td>0.756</td></tr><tr><td>train_steps_per_second</td><td>0.094</td></tr></table><br/></div></div>"
      ],
      "text/plain": [
       "<IPython.core.display.HTML object>"
      ]
     },
     "metadata": {},
     "output_type": "display_data"
    },
    {
     "data": {
      "text/html": [
       " View run <strong style=\"color:#cdcd00\">Qwen2.5-1.5B-Instruct-salary</strong> at: <a href='https://wandb.ai/huwarr/huggingface/runs/lfs0frmx' target=\"_blank\">https://wandb.ai/huwarr/huggingface/runs/lfs0frmx</a><br/> View job at <a href='https://wandb.ai/huwarr/huggingface/jobs/QXJ0aWZhY3RDb2xsZWN0aW9uOjYyMjA4OTIyNA==/version_details/v0' target=\"_blank\">https://wandb.ai/huwarr/huggingface/jobs/QXJ0aWZhY3RDb2xsZWN0aW9uOjYyMjA4OTIyNA==/version_details/v0</a><br/>Synced 5 W&B file(s), 0 media file(s), 2 artifact file(s) and 0 other file(s)"
      ],
      "text/plain": [
       "<IPython.core.display.HTML object>"
      ]
     },
     "metadata": {},
     "output_type": "display_data"
    },
    {
     "data": {
      "text/html": [
       "Find logs at: <code>./wandb/run-20250425_095402-lfs0frmx/logs</code>"
      ],
      "text/plain": [
       "<IPython.core.display.HTML object>"
      ]
     },
     "metadata": {},
     "output_type": "display_data"
    }
   ],
   "source": [
    "wandb.finish()"
   ]
  },
  {
   "cell_type": "markdown",
   "id": "020b8328-a685-4974-94ff-09bacf176731",
   "metadata": {},
   "source": [
    "# Inference"
   ]
  },
  {
   "cell_type": "code",
   "execution_count": 2,
   "id": "82526dff-ab81-4d5c-9d66-ad15b696bd16",
   "metadata": {
    "tags": []
   },
   "outputs": [],
   "source": [
    "max_new_tokens = 256\n",
    "model_name = \"Qwen/Qwen2.5-1.5B-Instruct\"\n",
    "checkpoint_path = 'finetune_qwen_results/Qwen2.5-1.5B-Instruct-salary/checkpoint-1405/'"
   ]
  },
  {
   "cell_type": "code",
   "execution_count": 3,
   "id": "657c7abb-83f4-41c2-b7d0-5ba6c2ec2cc9",
   "metadata": {
    "tags": []
   },
   "outputs": [
    {
     "name": "stderr",
     "output_type": "stream",
     "text": [
      "Sliding Window Attention is enabled but not implemented for `sdpa`; unexpected results may be encountered.\n"
     ]
    },
    {
     "data": {
      "application/vnd.jupyter.widget-view+json": {
       "model_id": "89d0c101e6794956b67a4b67f5b34ab5",
       "version_major": 2,
       "version_minor": 0
      },
      "text/plain": [
       "Loading checkpoint shards:   0%|          | 0/2 [00:00<?, ?it/s]"
      ]
     },
     "metadata": {},
     "output_type": "display_data"
    }
   ],
   "source": [
    "model = AutoModelForCausalLM.from_pretrained(checkpoint_path, device_map=\"cuda:0\")\n",
    "tokenizer = AutoTokenizer.from_pretrained(\n",
    "   model_name, padding=True, truncation=True\n",
    ")"
   ]
  },
  {
   "cell_type": "code",
   "execution_count": 4,
   "id": "b1e30150-29f4-478f-8e17-58b2de94c7d9",
   "metadata": {
    "tags": []
   },
   "outputs": [
    {
     "name": "stdout",
     "output_type": "stream",
     "text": [
      "[2025-04-27 14:21:13,164] [INFO] [real_accelerator.py:158:get_accelerator] Setting ds_accelerator to cuda (auto detect)\n"
     ]
    },
    {
     "data": {
      "application/vnd.jupyter.widget-view+json": {
       "model_id": "8f94027d191a4103bd25a77f059805a9",
       "version_major": 2,
       "version_minor": 0
      },
      "text/plain": [
       "model-00002-of-00002.safetensors:   0%|          | 0.00/1.18G [00:00<?, ?B/s]"
      ]
     },
     "metadata": {},
     "output_type": "display_data"
    },
    {
     "data": {
      "application/vnd.jupyter.widget-view+json": {
       "model_id": "3fefdb6f8dc14d3cbcfc1bb3861ea8cb",
       "version_major": 2,
       "version_minor": 0
      },
      "text/plain": [
       "Upload 2 LFS files:   0%|          | 0/2 [00:00<?, ?it/s]"
      ]
     },
     "metadata": {},
     "output_type": "display_data"
    },
    {
     "data": {
      "application/vnd.jupyter.widget-view+json": {
       "model_id": "8c0b9a1a8f1d46178797f69dcd2fb85a",
       "version_major": 2,
       "version_minor": 0
      },
      "text/plain": [
       "model-00001-of-00002.safetensors:   0%|          | 0.00/5.00G [00:00<?, ?B/s]"
      ]
     },
     "metadata": {},
     "output_type": "display_data"
    },
    {
     "data": {
      "application/vnd.jupyter.widget-view+json": {
       "model_id": "1494f4e0cd914fe4b929d225c4413fe4",
       "version_major": 2,
       "version_minor": 0
      },
      "text/plain": [
       "README.md:   0%|          | 0.00/5.17k [00:00<?, ?B/s]"
      ]
     },
     "metadata": {},
     "output_type": "display_data"
    },
    {
     "data": {
      "application/vnd.jupyter.widget-view+json": {
       "model_id": "6eb314232a1a48a0858f1cb9201777e8",
       "version_major": 2,
       "version_minor": 0
      },
      "text/plain": [
       "tokenizer.json:   0%|          | 0.00/11.4M [00:00<?, ?B/s]"
      ]
     },
     "metadata": {},
     "output_type": "display_data"
    },
    {
     "data": {
      "text/plain": [
       "CommitInfo(commit_url='https://huggingface.co/huwar/qwen_salary/commit/c056bbdef4d7d422d70e51c6447330405598190a', commit_message='Upload tokenizer', commit_description='', oid='c056bbdef4d7d422d70e51c6447330405598190a', pr_url=None, repo_url=RepoUrl('https://huggingface.co/huwar/qwen_salary', endpoint='https://huggingface.co', repo_type='model', repo_id='huwar/qwen_salary'), pr_revision=None, pr_num=None)"
      ]
     },
     "execution_count": 4,
     "metadata": {},
     "output_type": "execute_result"
    }
   ],
   "source": [
    "os.environ['HF_TOKEN'] = 'hf_...'\n",
    "model.push_to_hub('qwen_salary')\n",
    "tokenizer.push_to_hub('qwen_salary')"
   ]
  },
  {
   "cell_type": "code",
   "execution_count": 14,
   "id": "48f2fb53-c47a-406e-a6ff-09d62678c204",
   "metadata": {
    "tags": []
   },
   "outputs": [],
   "source": [
    "test_df = pd.read_csv('data/salary_labelled_test_set_cleaned.csv')"
   ]
  },
  {
   "cell_type": "markdown",
   "id": "e03da0e4-242f-4320-8db5-b3ba9bd2d575",
   "metadata": {},
   "source": [
    "Example:"
   ]
  },
  {
   "cell_type": "code",
   "execution_count": 15,
   "id": "5860dd4b-d40f-40ad-aeb1-1438777e1ee2",
   "metadata": {
    "tags": []
   },
   "outputs": [],
   "source": [
    "messages_static = [\n",
    "    {\"role\": \"system\", \"content\": \"You are an expert job ad annotator. Your task is to extract structured salary information from job descriptions in the format: min-max-currency-frequency. If salary is not found, return: 0-0-None-None.\"},\n",
    "]"
   ]
  },
  {
   "cell_type": "code",
   "execution_count": 16,
   "id": "7f3cfd3a-0f3f-4e23-a2c0-21a0e77c392c",
   "metadata": {
    "tags": []
   },
   "outputs": [],
   "source": [
    "i = 0\n",
    "\n",
    "desc = {\n",
    "    \"job_title\": test_df.iloc[i].job_title,\n",
    "    \"job_ad_details\": test_df.iloc[i].job_ad_details,\n",
    "    \"nation_short_desc\": test_df.iloc[i].nation_short_desc,\n",
    "    \"salary_additional_text\": test_df.iloc[i].salary_additional_text,\n",
    "}\n",
    "desc_str = str(desc)\n",
    "\n",
    "messages = copy.deepcopy(messages_static)\n",
    "messages.append({\n",
    "    \"role\": \"user\",\n",
    "    \"content\": (\n",
    "        f\"{desc_str} Extract structured salary information from this job descriptions in the format: min-max-currency-frequency. \"\n",
    "        \"Respond in JSON: {\\\"MinSalary\\\": \\\"\\\", \\\"MaxSalary\\\": \\\"\\\", \\\"Currency\\\": \\\"\\\", \\\"Frequency\\\": \\\"\\\"}. \"\n",
    "        \"If not provided explicitly, output 0 for \\\"MinSalary\\\" and \\\"MaxSalary\\\", and \\\"None\\\" for \\\"Currency\\\" and \\\"Frequency\\\". \"\n",
    "        \"If the salary is mentioned, always output a range, where MinSalary and MaxSalary can be equal. \"\n",
    "        \"Use 'nation_short_desc' to determine the correct currency. \"\n",
    "        \"Output the currency as 3 letters. Use adverb to output frequency (annual, monthly, daily or hourly).\"\n",
    "    )\n",
    "})"
   ]
  },
  {
   "cell_type": "code",
   "execution_count": 17,
   "id": "677e474d-008f-4149-9f90-ca9946b7f4e5",
   "metadata": {
    "tags": []
   },
   "outputs": [
    {
     "data": {
      "text/plain": [
       "[{'role': 'system',\n",
       "  'content': 'You are an expert job ad annotator. Your task is to extract structured salary information from job descriptions in the format: min-max-currency-frequency. If salary is not found, return: 0-0-None-None.'},\n",
       " {'role': 'user',\n",
       "  'content': '{\\'job_title\\': \\'Cashier \\', \\'job_ad_details\\': \\'Bertanggungjawab sebagai cashierMengurus semua rekod mengenai cek yang diterimaMenyediakan laporan yang diperlukan oleh HQ (Jabatan Akaun dan Jabatan Sumber Manusia)Kiraan stok bulananSemua kerja lain yang ditetapkan oleh pengurus cawangan dan supervisor pada bila-bila mengikut keperluanKeperluanBerkelulusan SPM / O Level / SKM Level 1 / SKM Level 2 / SKM Level 3 atau setarafSedikit kemahiran tentang komputerMenepati masaKerja overtime (Jika diperlukan)Gaji RM 1500 – 1800++ Calon berminat boleh whatsapp 010-3938581Seng Li Marketing Sdn Bhd is a One-Stop Auto Parts Trading CompanySalary : RM 1500 – 1800\\', \\'nation_short_desc\\': \\'MY\\', \\'salary_additional_text\\': \\'RM\\\\xa01,500 – RM\\\\xa01,800 per month\\'} Extract structured salary information from this job descriptions in the format: min-max-currency-frequency. Respond in JSON: {\"MinSalary\": \"\", \"MaxSalary\": \"\", \"Currency\": \"\", \"Frequency\": \"\"}. If not provided explicitly, output 0 for \"MinSalary\" and \"MaxSalary\", and \"None\" for \"Currency\" and \"Frequency\". If the salary is mentioned, always output a range, where MinSalary and MaxSalary can be equal. Use \\'nation_short_desc\\' to determine the correct currency. Output the currency as 3 letters. Use adverb to output frequency (annual, monthly, daily or hourly).'}]"
      ]
     },
     "execution_count": 17,
     "metadata": {},
     "output_type": "execute_result"
    }
   ],
   "source": [
    "messages"
   ]
  },
  {
   "cell_type": "code",
   "execution_count": 18,
   "id": "e921d07d-141f-47ae-990a-67eccb4dc550",
   "metadata": {
    "tags": []
   },
   "outputs": [],
   "source": [
    "prompt = tokenizer.apply_chat_template(messages, tokenize=False)"
   ]
  },
  {
   "cell_type": "code",
   "execution_count": 19,
   "id": "62f9848e-84ba-40ca-9a9f-6e0031fdb85c",
   "metadata": {
    "tags": []
   },
   "outputs": [
    {
     "data": {
      "text/plain": [
       "'<|im_start|>system\\nYou are an expert job ad annotator. Your task is to extract structured salary information from job descriptions in the format: min-max-currency-frequency. If salary is not found, return: 0-0-None-None.<|im_end|>\\n<|im_start|>user\\n{\\'job_title\\': \\'Cashier \\', \\'job_ad_details\\': \\'Bertanggungjawab sebagai cashierMengurus semua rekod mengenai cek yang diterimaMenyediakan laporan yang diperlukan oleh HQ (Jabatan Akaun dan Jabatan Sumber Manusia)Kiraan stok bulananSemua kerja lain yang ditetapkan oleh pengurus cawangan dan supervisor pada bila-bila mengikut keperluanKeperluanBerkelulusan SPM / O Level / SKM Level 1 / SKM Level 2 / SKM Level 3 atau setarafSedikit kemahiran tentang komputerMenepati masaKerja overtime (Jika diperlukan)Gaji RM 1500 – 1800++ Calon berminat boleh whatsapp 010-3938581Seng Li Marketing Sdn Bhd is a One-Stop Auto Parts Trading CompanySalary : RM 1500 – 1800\\', \\'nation_short_desc\\': \\'MY\\', \\'salary_additional_text\\': \\'RM\\\\xa01,500 – RM\\\\xa01,800 per month\\'} Extract structured salary information from this job descriptions in the format: min-max-currency-frequency. Respond in JSON: {\"MinSalary\": \"\", \"MaxSalary\": \"\", \"Currency\": \"\", \"Frequency\": \"\"}. If not provided explicitly, output 0 for \"MinSalary\" and \"MaxSalary\", and \"None\" for \"Currency\" and \"Frequency\". If the salary is mentioned, always output a range, where MinSalary and MaxSalary can be equal. Use \\'nation_short_desc\\' to determine the correct currency. Output the currency as 3 letters. Use adverb to output frequency (annual, monthly, daily or hourly).<|im_end|>\\n'"
      ]
     },
     "execution_count": 19,
     "metadata": {},
     "output_type": "execute_result"
    }
   ],
   "source": [
    "prompt"
   ]
  },
  {
   "cell_type": "code",
   "execution_count": 20,
   "id": "fdbf3542-8d83-4478-a09a-81cc602700e9",
   "metadata": {
    "tags": []
   },
   "outputs": [],
   "source": [
    "inputs = tokenizer(prompt, return_tensors=\"pt\").to(model.device)\n",
    "with torch.inference_mode():\n",
    "    outputs = model.generate(**inputs, max_new_tokens=max_new_tokens, pad_token_id=tokenizer.eos_token_id)\n",
    "outputs = outputs[:, inputs['input_ids'].shape[-1]:]\n",
    "response = tokenizer.decode(outputs[0], skip_special_tokens=True)"
   ]
  },
  {
   "cell_type": "code",
   "execution_count": 21,
   "id": "7f562935-032e-4f95-85ff-6e7876232c33",
   "metadata": {
    "tags": []
   },
   "outputs": [
    {
     "data": {
      "text/plain": [
       "'assistant\\n{\"MinSalary\": \"1500\", \"MaxSalary\": \"1800\", \"Currency\": \"MYR\", \"Frequency\": \"MONTHLY\"}'"
      ]
     },
     "execution_count": 21,
     "metadata": {},
     "output_type": "execute_result"
    }
   ],
   "source": [
    "response"
   ]
  },
  {
   "cell_type": "code",
   "execution_count": 22,
   "id": "f230f453-847e-4a76-9e6f-c561d2f5c566",
   "metadata": {
    "tags": []
   },
   "outputs": [
    {
     "data": {
      "text/plain": [
       "'{\"MinSalary\": \"1500\", \"MaxSalary\": \"1800\", \"Currency\": \"MYR\", \"Frequency\": \"MONTHLY\"}'"
      ]
     },
     "execution_count": 22,
     "metadata": {},
     "output_type": "execute_result"
    }
   ],
   "source": [
    "assistant_token = 'assistant\\n'\n",
    "response[response.find(assistant_token) + len(assistant_token):]"
   ]
  },
  {
   "cell_type": "markdown",
   "id": "939f542f-6844-4364-bcfb-fd31b1957192",
   "metadata": {},
   "source": [
    "Test set:"
   ]
  },
  {
   "cell_type": "code",
   "execution_count": 23,
   "id": "983cb79e-0d6a-4bcb-9571-82c45fc4fcb2",
   "metadata": {
    "tags": []
   },
   "outputs": [],
   "source": [
    "# df to store model predictions\n",
    "test_pred_df = pd.DataFrame(columns=[\"y_pred\"])"
   ]
  },
  {
   "cell_type": "code",
   "execution_count": 24,
   "id": "9da0b991-cb95-4710-a402-321060334ae2",
   "metadata": {
    "tags": []
   },
   "outputs": [],
   "source": [
    "messages_static = [\n",
    "    {\"role\": \"system\", \"content\": \"You are an expert job ad annotator. Your task is to extract structured salary information from job descriptions in the format: min-max-currency-frequency. If salary is not found, return: 0-0-None-None.\"},\n",
    "]"
   ]
  },
  {
   "cell_type": "code",
   "execution_count": 25,
   "id": "ce6e30af-bae6-4c70-afbb-8b1f994437f1",
   "metadata": {
    "tags": []
   },
   "outputs": [
    {
     "name": "stderr",
     "output_type": "stream",
     "text": [
      "100%|██████████| 567/567 [21:06<00:00,  2.23s/it]\n"
     ]
    }
   ],
   "source": [
    "for i in tqdm(range(len(test_df)), position=0, leave=True):\n",
    "    desc = {\n",
    "        \"job_title\": test_df.iloc[i].job_title,\n",
    "        \"job_ad_details\": test_df.iloc[i].job_ad_details,\n",
    "        \"nation_short_desc\": test_df.iloc[i].nation_short_desc,\n",
    "        \"salary_additional_text\": test_df.iloc[i].salary_additional_text,\n",
    "    }\n",
    "    desc_str = str(desc)\n",
    "\n",
    "    messages = copy.deepcopy(messages_static)\n",
    "    messages.append({\n",
    "        \"role\": \"user\",\n",
    "        \"content\": (\n",
    "            f\"{desc_str} Extract structured salary information from this job descriptions in the format: min-max-currency-frequency. \"\n",
    "            \"Respond in JSON: {\\\"MinSalary\\\": \\\"\\\", \\\"MaxSalary\\\": \\\"\\\", \\\"Currency\\\": \\\"\\\", \\\"Frequency\\\": \\\"\\\"}. \"\n",
    "            \"If not provided explicitly, output 0 for \\\"MinSalary\\\" and \\\"MaxSalary\\\", and \\\"None\\\" for \\\"Currency\\\" and \\\"Frequency\\\". \"\n",
    "            \"If the salary is mentioned, always output a range, where MinSalary and MaxSalary can be equal. \"\n",
    "            \"Use 'nation_short_desc' to determine the correct currency. \"\n",
    "            \"Output the currency as 3 letters. Use adverb to output frequency (annual, monthly, daily or hourly).\"\n",
    "        )\n",
    "    })\n",
    "    \n",
    "    prompt = tokenizer.apply_chat_template(messages, tokenize=False)\n",
    "    inputs = tokenizer(prompt, return_tensors=\"pt\").to(model.device)\n",
    "    with torch.inference_mode():\n",
    "        outputs = model.generate(**inputs, max_new_tokens=max_new_tokens, pad_token_id=tokenizer.eos_token_id)\n",
    "    outputs = outputs[:, inputs['input_ids'].shape[-1]:]\n",
    "    response = tokenizer.decode(outputs[0], skip_special_tokens=True)\n",
    "    \n",
    "    assistant_token = 'assistant\\n'\n",
    "    answer_str = response[response.find(assistant_token) + len(assistant_token):]\n",
    "\n",
    "    # format the output\n",
    "    try:\n",
    "        answer_str_ = answer_str[answer_str.find('{'):answer_str.find('}') + 1]\n",
    "        answer_str_ = answer_str_.replace('“', '\"')\n",
    "        answer_str_ = answer_str_.replace('”', '\"')\n",
    "        answer = json.loads(answer_str_)\n",
    "\n",
    "        label = f\"{answer['MinSalary']}-{answer['MaxSalary']}-{answer['Currency'].upper()}-{answer['Frequency'].upper()}\"\n",
    "\n",
    "    except json.JSONDecodeError:\n",
    "        print(f\"Failed to parse model output as JSON: {answer_str}\")\n",
    "        label = \"ERROR \" + answer_str\n",
    "\n",
    "    test_pred_df.loc[len(test_pred_df)] = label"
   ]
  },
  {
   "cell_type": "code",
   "execution_count": 26,
   "id": "26fe7c1a-d554-461f-b854-c3ca33c4dd2c",
   "metadata": {
    "tags": []
   },
   "outputs": [],
   "source": [
    "# export the dataframe to a new csv file\n",
    "test_pred_df.to_csv('salary_labelled_test_set_qwen_finetune_preds.csv', index=False)"
   ]
  },
  {
   "cell_type": "markdown",
   "id": "2b82faf2-ca1c-450e-81bd-26c8fcdc32c4",
   "metadata": {},
   "source": [
    "# Metrics"
   ]
  },
  {
   "cell_type": "code",
   "execution_count": 1,
   "id": "9f2f6078",
   "metadata": {},
   "outputs": [],
   "source": [
    "import json\n",
    "import string\n",
    "import pandas as pd"
   ]
  },
  {
   "cell_type": "code",
   "execution_count": 2,
   "id": "992f698e",
   "metadata": {},
   "outputs": [],
   "source": [
    "def simple_post_process(row):\n",
    "    if 'ERROR' not in row:\n",
    "        row = row.translate(str.maketrans('', '', '\"'))\n",
    "        try:\n",
    "            mn, mx, cur, freq = row.split('-')\n",
    "        except Exception:\n",
    "            row_split = row.split('-')\n",
    "            mn = row_split[0]\n",
    "            mx = ''.join(c for c in mn if c.isdigit())\n",
    "            mx = row_split[-3]\n",
    "            mx = ''.join(c for c in mx if c.isdigit())\n",
    "            cur = row_split[-2]\n",
    "            freq = row_split[-1]\n",
    "        # 'NONE' -> 'None'\n",
    "        cur = 'None' if cur == 'NONE' else cur\n",
    "        freq = 'None' if freq == 'NONE' else freq\n",
    "        # cast min and max salary to int\n",
    "        try:\n",
    "            mn = int(round(float(mn)))\n",
    "        except Exception:\n",
    "            mn = 0\n",
    "        try:\n",
    "            mx = int(round(float(mx)))\n",
    "        except Exception:\n",
    "            mx = 0\n",
    "        return str(mn), str(mx), cur, freq, f'{mn}-{mx}-{cur}-{freq}'\n",
    "    else:\n",
    "        row = row.strip()\n",
    "        try:\n",
    "            row = row[row.find('{'):-4]\n",
    "            row_data = json.loads(row)\n",
    "        except Exception:\n",
    "            return 0, 0, 'None', 'None', '0-0-None-None'\n",
    "        row_data = row_data['Full Time'] if 'Full Time' in row_data else (row_data['Full-timer'] if 'Full-timer' in row_data else row_data)\n",
    "        try:\n",
    "            mn = row_data['MinSalary']\n",
    "            mx = row_data['MaxSalary']\n",
    "            cur = row_data['Currency']\n",
    "            freq = row_data['Frequency']\n",
    "        except Exception:\n",
    "            return 0, 0, 'None', 'None', '0-0-None-None'\n",
    "        # 'NONE' -> 'None'\n",
    "        cur = 'None' if cur == 'NONE' else cur\n",
    "        freq = 'None' if freq == 'NONE' else freq\n",
    "        # cast min and max salary to int\n",
    "        mn = int(round(float(mn)))\n",
    "        mx = int(round(float(mx)))\n",
    "        return str(mn), str(mx), cur, freq, f'{mn}-{mx}-{cur}-{freq}'\n",
    "\n",
    "def split_target(row):\n",
    "    mn, mx, cur, freq = row.split('-')\n",
    "    return mn, mx, cur, freq\n",
    "\n",
    "def get_accuracy(path_to_preds):\n",
    "    preds = pd.read_csv(path_to_preds)\n",
    "    test_df = pd.read_csv('data/salary_labelled_test_set_cleaned.csv')\n",
    "    \n",
    "    test_df['y_pred'] = preds.values.reshape(-1)\n",
    "    \n",
    "    test_df['min_salary_pred'], test_df['max_salary_pred'], test_df['currency_pred'], test_df['freq_pred'], test_df['y_pred'] = zip(*test_df['y_pred'].map(simple_post_process))\n",
    "    test_df['min_salary_true'], test_df['max_salary_true'], test_df['currency_true'], test_df['freq_true'] = zip(*test_df['y_true'].map(split_target))\n",
    "    \n",
    "    acc_overall = (test_df['y_pred'] == test_df['y_true']).mean() * 100\n",
    "    acc_min = (test_df['min_salary_pred'] == test_df['min_salary_true']).mean() * 100\n",
    "    acc_max = (test_df['max_salary_pred'] == test_df['max_salary_true']).mean() * 100\n",
    "    acc_curr = (test_df['currency_pred'] == test_df['currency_true']).mean() * 100\n",
    "    acc_freq = (test_df['freq_pred'] == test_df['freq_true']).mean() * 100\n",
    "    \n",
    "    res = pd.DataFrame(\n",
    "        {\n",
    "            'Overall': round(acc_overall, 2),\n",
    "            'Min Salary': round(acc_min, 2),\n",
    "            'Max Salary': round(acc_max, 2),\n",
    "            'Currency': round(acc_curr, 2),\n",
    "            'Frequency': round(acc_freq, 2),\n",
    "        },\n",
    "        index=['Accuracy (%)']\n",
    "    )\n",
    "    \n",
    "    return res"
   ]
  },
  {
   "cell_type": "code",
   "execution_count": 3,
   "id": "1e5865ef",
   "metadata": {},
   "outputs": [
    {
     "data": {
      "text/html": [
       "<div>\n",
       "<style scoped>\n",
       "    .dataframe tbody tr th:only-of-type {\n",
       "        vertical-align: middle;\n",
       "    }\n",
       "\n",
       "    .dataframe tbody tr th {\n",
       "        vertical-align: top;\n",
       "    }\n",
       "\n",
       "    .dataframe thead th {\n",
       "        text-align: right;\n",
       "    }\n",
       "</style>\n",
       "<table border=\"1\" class=\"dataframe\">\n",
       "  <thead>\n",
       "    <tr style=\"text-align: right;\">\n",
       "      <th></th>\n",
       "      <th>Overall</th>\n",
       "      <th>Min Salary</th>\n",
       "      <th>Max Salary</th>\n",
       "      <th>Currency</th>\n",
       "      <th>Frequency</th>\n",
       "    </tr>\n",
       "  </thead>\n",
       "  <tbody>\n",
       "    <tr>\n",
       "      <th>Accuracy (%)</th>\n",
       "      <td>94.0</td>\n",
       "      <td>95.59</td>\n",
       "      <td>95.94</td>\n",
       "      <td>97.88</td>\n",
       "      <td>98.06</td>\n",
       "    </tr>\n",
       "  </tbody>\n",
       "</table>\n",
       "</div>"
      ],
      "text/plain": [
       "              Overall  Min Salary  Max Salary  Currency  Frequency\n",
       "Accuracy (%)     94.0       95.59       95.94     97.88      98.06"
      ]
     },
     "execution_count": 3,
     "metadata": {},
     "output_type": "execute_result"
    }
   ],
   "source": [
    "get_accuracy('salary_labelled_test_set_qwen_finetune_preds.csv')"
   ]
  }
 ],
 "metadata": {
  "kernelspec": {
   "display_name": "Python 3 (ipykernel)",
   "language": "python",
   "name": "python3"
  },
  "language_info": {
   "codemirror_mode": {
    "name": "ipython",
    "version": 3
   },
   "file_extension": ".py",
   "mimetype": "text/x-python",
   "name": "python",
   "nbconvert_exporter": "python",
   "pygments_lexer": "ipython3",
   "version": "3.9.21"
  }
 },
 "nbformat": 4,
 "nbformat_minor": 5
}
